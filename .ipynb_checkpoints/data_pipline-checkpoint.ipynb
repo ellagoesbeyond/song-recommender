{
 "cells": [
  {
   "cell_type": "markdown",
   "id": "25265798",
   "metadata": {},
   "source": [
    "# Import usefull packages"
   ]
  },
  {
   "cell_type": "code",
   "execution_count": 9,
   "id": "44c77504",
   "metadata": {},
   "outputs": [],
   "source": [
    "import spotipy\n",
    "import pandas as pd\n",
    "import json\n",
    "import pprint\n",
    "import config\n",
    "from itertools import *\n",
    "from bs4 import BeautifulSoup as bs\n",
    "import sys\n",
    "import requests\n",
    "import pandas as pd\n",
    "from spotipy.oauth2 import SpotifyClientCredentials\n",
    "sp= spotipy.Spotify(auth_manager=SpotifyClientCredentials(client_id=config.client_id,client_secret=config.client_secret))"
   ]
  },
  {
   "cell_type": "markdown",
   "id": "2a83c660",
   "metadata": {},
   "source": [
    "# Create our final df\n",
    "\n",
    " - for faster workflow without artist and song name\n",
    " - called big_df"
   ]
  },
  {
   "cell_type": "code",
   "execution_count": 2,
   "id": "c823cd99",
   "metadata": {},
   "outputs": [],
   "source": [
    "big_df=pd.DataFrame(columns=[\"danceability\",\"energy\",\"loudness\",\"speechiness\",\"acousticness\",\"instrumentalness\",\"liveness\",\"valence\",\"tempo\",\"id\",\"duration_ms\"])"
   ]
  },
  {
   "cell_type": "markdown",
   "id": "6c707747",
   "metadata": {},
   "source": [
    "# Create function get_audio_features()"
   ]
  },
  {
   "cell_type": "code",
   "execution_count": 3,
   "id": "79e313d3",
   "metadata": {},
   "outputs": [],
   "source": [
    "def get_features_df(username, playlist_id):\n",
    "    global big_df\n",
    "    list_of_audio_features=[]\n",
    "    artist_name=[]\n",
    "    song_name=[]\n",
    "    \n",
    "    results = sp.user_playlist_tracks(username,playlist_id,market=\"DE\")\n",
    "    \n",
    "    tracks = results['items']\n",
    "    \n",
    "    while results['next']:\n",
    "        results = sp.next(results)\n",
    "        tracks.extend(results['items'])\n",
    "        \n",
    "#getting features per song in  playlist \n",
    "    for value in range(0,len(tracks)):\n",
    "        #print (songs[value][\"track\"][\"id\"])\n",
    "        list_of_audio_features.append(sp.audio_features(tracks[value][\"track\"][\"id\"])[0])\n",
    "    \n",
    "#getting  artist name per song in playlist\n",
    "    #for a_name in range(0,len(tracks)):\n",
    "        #print (songs[a_name][\"track\"][\"artists\"][a_name][\"name\"])\n",
    "        #artist_name.append(tracks[a_name][\"track\"][\"artists\"][0][\"name\"])  \n",
    "\n",
    "#getting  song name per song in playlist   \n",
    "    #for s_name in range(0,len(tracks)):\n",
    "    #print (songs[s_name][\"track\"][\"name\"])\n",
    "    #song_name.append(tracks[s_name][\"track\"][\"name\"])\n",
    "\n",
    "#creating df with audio features and adding song name and artist     \n",
    "    df=pd.DataFrame(list_of_audio_features)    \n",
    "    df=df[[\"danceability\",\"energy\",\"loudness\",\"speechiness\",\"acousticness\",\"instrumentalness\",\"liveness\",\"valence\",\"tempo\",\"id\",\"duration_ms\"]]\n",
    "    \n",
    "    #df.insert(0,\"song\", song_name)\n",
    "    #df.insert(1,\"artist\", artist_name)\n",
    "   \n",
    "    big_df =big_df.append(df)\n",
    "    \n",
    "    return big_df"
   ]
  },
  {
   "cell_type": "markdown",
   "id": "7b3d7f25",
   "metadata": {},
   "source": [
    "## Test with private playlist\n"
   ]
  },
  {
   "cell_type": "code",
   "execution_count": 10,
   "id": "bef33411",
   "metadata": {},
   "outputs": [
    {
     "name": "stderr",
     "output_type": "stream",
     "text": [
      "/var/folders/1n/phyrz16s0rd1_mpv046jgqf80000gn/T/ipykernel_9029/1552337488.py:37: FutureWarning: The frame.append method is deprecated and will be removed from pandas in a future version. Use pandas.concat instead.\n",
      "  big_df =big_df.append(df)\n"
     ]
    },
    {
     "data": {
      "text/html": [
       "<div>\n",
       "<style scoped>\n",
       "    .dataframe tbody tr th:only-of-type {\n",
       "        vertical-align: middle;\n",
       "    }\n",
       "\n",
       "    .dataframe tbody tr th {\n",
       "        vertical-align: top;\n",
       "    }\n",
       "\n",
       "    .dataframe thead th {\n",
       "        text-align: right;\n",
       "    }\n",
       "</style>\n",
       "<table border=\"1\" class=\"dataframe\">\n",
       "  <thead>\n",
       "    <tr style=\"text-align: right;\">\n",
       "      <th></th>\n",
       "      <th>danceability</th>\n",
       "      <th>energy</th>\n",
       "      <th>loudness</th>\n",
       "      <th>speechiness</th>\n",
       "      <th>acousticness</th>\n",
       "      <th>instrumentalness</th>\n",
       "      <th>liveness</th>\n",
       "      <th>valence</th>\n",
       "      <th>tempo</th>\n",
       "      <th>id</th>\n",
       "      <th>duration_ms</th>\n",
       "    </tr>\n",
       "  </thead>\n",
       "  <tbody>\n",
       "    <tr>\n",
       "      <th>0</th>\n",
       "      <td>0.865</td>\n",
       "      <td>0.665</td>\n",
       "      <td>-6.289</td>\n",
       "      <td>0.073</td>\n",
       "      <td>0.0453</td>\n",
       "      <td>0.0</td>\n",
       "      <td>0.224</td>\n",
       "      <td>0.331</td>\n",
       "      <td>111.113</td>\n",
       "      <td>1ofhfV90EnYhEr7Un2fWiv</td>\n",
       "      <td>268827</td>\n",
       "    </tr>\n",
       "    <tr>\n",
       "      <th>1</th>\n",
       "      <td>0.801</td>\n",
       "      <td>0.91</td>\n",
       "      <td>-6.566</td>\n",
       "      <td>0.225</td>\n",
       "      <td>0.00239</td>\n",
       "      <td>0.000891</td>\n",
       "      <td>0.0737</td>\n",
       "      <td>0.805</td>\n",
       "      <td>87.277</td>\n",
       "      <td>5g9lS8deSIxItFBmZRC4vN</td>\n",
       "      <td>278387</td>\n",
       "    </tr>\n",
       "    <tr>\n",
       "      <th>2</th>\n",
       "      <td>0.644</td>\n",
       "      <td>0.846</td>\n",
       "      <td>-5.443</td>\n",
       "      <td>0.275</td>\n",
       "      <td>0.124</td>\n",
       "      <td>0.0</td>\n",
       "      <td>0.353</td>\n",
       "      <td>0.503</td>\n",
       "      <td>79.182</td>\n",
       "      <td>1qZqFtSINOOmjYH1UE9805</td>\n",
       "      <td>301600</td>\n",
       "    </tr>\n",
       "    <tr>\n",
       "      <th>3</th>\n",
       "      <td>0.802</td>\n",
       "      <td>0.787</td>\n",
       "      <td>-6.009</td>\n",
       "      <td>0.206</td>\n",
       "      <td>0.00127</td>\n",
       "      <td>0.000181</td>\n",
       "      <td>0.0763</td>\n",
       "      <td>0.806</td>\n",
       "      <td>90.189</td>\n",
       "      <td>7sKt5Y2zJpYw78iAxndB8y</td>\n",
       "      <td>296907</td>\n",
       "    </tr>\n",
       "    <tr>\n",
       "      <th>4</th>\n",
       "      <td>0.872</td>\n",
       "      <td>0.723</td>\n",
       "      <td>-5.968</td>\n",
       "      <td>0.247</td>\n",
       "      <td>0.0293</td>\n",
       "      <td>0.0</td>\n",
       "      <td>0.327</td>\n",
       "      <td>0.843</td>\n",
       "      <td>93.279</td>\n",
       "      <td>4VQNCzfZ3MdHEwwErNXpBo</td>\n",
       "      <td>307773</td>\n",
       "    </tr>\n",
       "    <tr>\n",
       "      <th>...</th>\n",
       "      <td>...</td>\n",
       "      <td>...</td>\n",
       "      <td>...</td>\n",
       "      <td>...</td>\n",
       "      <td>...</td>\n",
       "      <td>...</td>\n",
       "      <td>...</td>\n",
       "      <td>...</td>\n",
       "      <td>...</td>\n",
       "      <td>...</td>\n",
       "      <td>...</td>\n",
       "    </tr>\n",
       "    <tr>\n",
       "      <th>197</th>\n",
       "      <td>0.76</td>\n",
       "      <td>0.585</td>\n",
       "      <td>-7.307</td>\n",
       "      <td>0.161</td>\n",
       "      <td>0.0102</td>\n",
       "      <td>0.000468</td>\n",
       "      <td>0.308</td>\n",
       "      <td>0.455</td>\n",
       "      <td>91.179</td>\n",
       "      <td>6uWez0py1zc17F7hjp7jIt</td>\n",
       "      <td>311040</td>\n",
       "    </tr>\n",
       "    <tr>\n",
       "      <th>198</th>\n",
       "      <td>0.888</td>\n",
       "      <td>0.584</td>\n",
       "      <td>-13.308</td>\n",
       "      <td>0.112</td>\n",
       "      <td>0.0385</td>\n",
       "      <td>0.000003</td>\n",
       "      <td>0.0625</td>\n",
       "      <td>0.762</td>\n",
       "      <td>104.705</td>\n",
       "      <td>5vpDsiVqiZLRwKAzQO708k</td>\n",
       "      <td>334440</td>\n",
       "    </tr>\n",
       "    <tr>\n",
       "      <th>199</th>\n",
       "      <td>0.916</td>\n",
       "      <td>0.844</td>\n",
       "      <td>-3.967</td>\n",
       "      <td>0.236</td>\n",
       "      <td>0.0394</td>\n",
       "      <td>0.0</td>\n",
       "      <td>0.0778</td>\n",
       "      <td>0.586</td>\n",
       "      <td>95.19</td>\n",
       "      <td>0Z2J91b2iTGLVTZC4fKgxf</td>\n",
       "      <td>312627</td>\n",
       "    </tr>\n",
       "    <tr>\n",
       "      <th>200</th>\n",
       "      <td>0.711</td>\n",
       "      <td>0.693</td>\n",
       "      <td>-8.208</td>\n",
       "      <td>0.41</td>\n",
       "      <td>0.106</td>\n",
       "      <td>0.0</td>\n",
       "      <td>0.0821</td>\n",
       "      <td>0.906</td>\n",
       "      <td>177.978</td>\n",
       "      <td>0LfoVjNyrzkCLzarDAazCh</td>\n",
       "      <td>229305</td>\n",
       "    </tr>\n",
       "    <tr>\n",
       "      <th>201</th>\n",
       "      <td>0.651</td>\n",
       "      <td>0.722</td>\n",
       "      <td>-9.389</td>\n",
       "      <td>0.276</td>\n",
       "      <td>0.0125</td>\n",
       "      <td>0.0135</td>\n",
       "      <td>0.0503</td>\n",
       "      <td>0.798</td>\n",
       "      <td>181.983</td>\n",
       "      <td>69XvksKwBWUL8b69uTXWwb</td>\n",
       "      <td>263520</td>\n",
       "    </tr>\n",
       "  </tbody>\n",
       "</table>\n",
       "<p>202 rows × 11 columns</p>\n",
       "</div>"
      ],
      "text/plain": [
       "    danceability energy loudness speechiness acousticness instrumentalness  \\\n",
       "0          0.865  0.665   -6.289       0.073       0.0453              0.0   \n",
       "1          0.801   0.91   -6.566       0.225      0.00239         0.000891   \n",
       "2          0.644  0.846   -5.443       0.275        0.124              0.0   \n",
       "3          0.802  0.787   -6.009       0.206      0.00127         0.000181   \n",
       "4          0.872  0.723   -5.968       0.247       0.0293              0.0   \n",
       "..           ...    ...      ...         ...          ...              ...   \n",
       "197         0.76  0.585   -7.307       0.161       0.0102         0.000468   \n",
       "198        0.888  0.584  -13.308       0.112       0.0385         0.000003   \n",
       "199        0.916  0.844   -3.967       0.236       0.0394              0.0   \n",
       "200        0.711  0.693   -8.208        0.41        0.106              0.0   \n",
       "201        0.651  0.722   -9.389       0.276       0.0125           0.0135   \n",
       "\n",
       "    liveness valence    tempo                      id duration_ms  \n",
       "0      0.224   0.331  111.113  1ofhfV90EnYhEr7Un2fWiv      268827  \n",
       "1     0.0737   0.805   87.277  5g9lS8deSIxItFBmZRC4vN      278387  \n",
       "2      0.353   0.503   79.182  1qZqFtSINOOmjYH1UE9805      301600  \n",
       "3     0.0763   0.806   90.189  7sKt5Y2zJpYw78iAxndB8y      296907  \n",
       "4      0.327   0.843   93.279  4VQNCzfZ3MdHEwwErNXpBo      307773  \n",
       "..       ...     ...      ...                     ...         ...  \n",
       "197    0.308   0.455   91.179  6uWez0py1zc17F7hjp7jIt      311040  \n",
       "198   0.0625   0.762  104.705  5vpDsiVqiZLRwKAzQO708k      334440  \n",
       "199   0.0778   0.586    95.19  0Z2J91b2iTGLVTZC4fKgxf      312627  \n",
       "200   0.0821   0.906  177.978  0LfoVjNyrzkCLzarDAazCh      229305  \n",
       "201   0.0503   0.798  181.983  69XvksKwBWUL8b69uTXWwb      263520  \n",
       "\n",
       "[202 rows x 11 columns]"
      ]
     },
     "execution_count": 10,
     "metadata": {},
     "output_type": "execute_result"
    }
   ],
   "source": [
    "get_features_df(\"familie.oeljeklaus\",\"3zGCtRVyGrZ2PH6ipGnsNv\")\n"
   ]
  },
  {
   "cell_type": "markdown",
   "id": "412b5f1e",
   "metadata": {},
   "source": [
    "# Webscraping for playlists"
   ]
  },
  {
   "cell_type": "code",
   "execution_count": 57,
   "id": "6855e944",
   "metadata": {},
   "outputs": [
    {
     "data": {
      "text/plain": [
       "200"
      ]
     },
     "execution_count": 57,
     "metadata": {},
     "output_type": "execute_result"
    }
   ],
   "source": [
    "url = \"https://everynoise.com/everynoise1d.cgi?root=alt%20z&scope=all\"\n",
    "response = requests.get(url)\n",
    "response.status_code\n"
   ]
  },
  {
   "cell_type": "code",
   "execution_count": 66,
   "id": "3c34531e",
   "metadata": {},
   "outputs": [],
   "source": [
    "soup = bs(response.content, \"html.parser\")"
   ]
  },
  {
   "cell_type": "code",
   "execution_count": 104,
   "id": "635e72b2",
   "metadata": {
    "scrolled": true
   },
   "outputs": [
    {
     "data": {
      "text/plain": [
       "'6TySxsLwRVYqEh7LZ6fyq8'"
      ]
     },
     "execution_count": 104,
     "metadata": {},
     "output_type": "execute_result"
    }
   ],
   "source": [
    "soup.select(\"table tr td a.note \")[0][\"href\"].rsplit(\":\")[-1]"
   ]
  },
  {
   "cell_type": "code",
   "execution_count": 51,
   "id": "f41b3bdf",
   "metadata": {},
   "outputs": [
    {
     "ename": "NameError",
     "evalue": "name 'item' is not defined",
     "output_type": "error",
     "traceback": [
      "\u001b[0;31m---------------------------------------------------------------------------\u001b[0m",
      "\u001b[0;31mNameError\u001b[0m                                 Traceback (most recent call last)",
      "Input \u001b[0;32mIn [51]\u001b[0m, in \u001b[0;36m<cell line: 1>\u001b[0;34m()\u001b[0m\n\u001b[0;32m----> 1\u001b[0m \u001b[38;5;28;01mfor\u001b[39;00m item \u001b[38;5;129;01min\u001b[39;00m soup\u001b[38;5;241m.\u001b[39mselect(\u001b[38;5;124m\"\u001b[39m\u001b[38;5;124miframe\u001b[39m\u001b[38;5;124m\"\u001b[39m)[\u001b[43mitem\u001b[49m][\u001b[38;5;124m\"\u001b[39m\u001b[38;5;124mdata-lazy-src\u001b[39m\u001b[38;5;124m\"\u001b[39m]:\n\u001b[1;32m      2\u001b[0m     a\u001b[38;5;241m=\u001b[39m item\u001b[38;5;241m.\u001b[39mrsplit(\u001b[38;5;124m\"\u001b[39m\u001b[38;5;124m/\u001b[39m\u001b[38;5;124m\"\u001b[39m)[\u001b[38;5;241m-\u001b[39m\u001b[38;5;241m1\u001b[39m]\n\u001b[1;32m      3\u001b[0m     \u001b[38;5;28mprint\u001b[39m(a)\n",
      "\u001b[0;31mNameError\u001b[0m: name 'item' is not defined"
     ]
    }
   ],
   "source": [
    "for item in soup.select(\"table tr td a.note \")[0][\"href\"].rsplit(\":\")[-1]\n",
    "    playlist_id\n",
    "    print(a)"
   ]
  },
  {
   "cell_type": "code",
   "execution_count": null,
   "id": "240cb014",
   "metadata": {},
   "outputs": [],
   "source": []
  },
  {
   "cell_type": "code",
   "execution_count": null,
   "id": "5d0561e6",
   "metadata": {},
   "outputs": [],
   "source": []
  },
  {
   "cell_type": "code",
   "execution_count": null,
   "id": "79a3f752",
   "metadata": {},
   "outputs": [],
   "source": []
  },
  {
   "cell_type": "code",
   "execution_count": null,
   "id": "95949a95",
   "metadata": {},
   "outputs": [],
   "source": []
  },
  {
   "cell_type": "code",
   "execution_count": null,
   "id": "95eea609",
   "metadata": {},
   "outputs": [],
   "source": []
  },
  {
   "cell_type": "markdown",
   "id": "cc9fa528",
   "metadata": {},
   "source": [
    "# Create list with playlist"
   ]
  },
  {
   "cell_type": "code",
   "execution_count": 88,
   "id": "4d67b52e",
   "metadata": {},
   "outputs": [],
   "source": [
    "username_=[\"familie.oeljeklaus\",\n",
    "          \"paulraensch\",\n",
    "          \"thesoundsofspotify\",\n",
    "         \"thesoundsofspotify\",\n",
    "         ]\n",
    "playlist_id_=[\"2RHNBm388mdIGQyH3ZGkaY\",\n",
    "             \"6CDTDuRKy2Ze2nmmYFAIBK\",\n",
    "             \"69fEt9DN5r4JQATi52sRtq\",\n",
    "            \"4L9GKyeqZOi5rHUoqDZd6z\",\n",
    "            ]"
   ]
  },
  {
   "cell_type": "markdown",
   "id": "d6e389df",
   "metadata": {},
   "source": [
    "# Create for loop"
   ]
  },
  {
   "cell_type": "code",
   "execution_count": 89,
   "id": "5285f44b",
   "metadata": {},
   "outputs": [
    {
     "name": "stdout",
     "output_type": "stream",
     "text": [
      "('familie.oeljeklaus', '2RHNBm388mdIGQyH3ZGkaY')\n"
     ]
    },
    {
     "name": "stderr",
     "output_type": "stream",
     "text": [
      "/var/folders/1n/phyrz16s0rd1_mpv046jgqf80000gn/T/ipykernel_9029/1552337488.py:37: FutureWarning: The frame.append method is deprecated and will be removed from pandas in a future version. Use pandas.concat instead.\n",
      "  big_df =big_df.append(df)\n"
     ]
    },
    {
     "name": "stdout",
     "output_type": "stream",
     "text": [
      "('paulraensch', '6CDTDuRKy2Ze2nmmYFAIBK')\n"
     ]
    },
    {
     "name": "stderr",
     "output_type": "stream",
     "text": [
      "/var/folders/1n/phyrz16s0rd1_mpv046jgqf80000gn/T/ipykernel_9029/1552337488.py:37: FutureWarning: The frame.append method is deprecated and will be removed from pandas in a future version. Use pandas.concat instead.\n",
      "  big_df =big_df.append(df)\n"
     ]
    },
    {
     "name": "stdout",
     "output_type": "stream",
     "text": [
      "('thesoundsofspotify', '69fEt9DN5r4JQATi52sRtq')\n"
     ]
    },
    {
     "name": "stderr",
     "output_type": "stream",
     "text": [
      "/var/folders/1n/phyrz16s0rd1_mpv046jgqf80000gn/T/ipykernel_9029/1552337488.py:37: FutureWarning: The frame.append method is deprecated and will be removed from pandas in a future version. Use pandas.concat instead.\n",
      "  big_df =big_df.append(df)\n"
     ]
    },
    {
     "name": "stdout",
     "output_type": "stream",
     "text": [
      "('thesoundsofspotify', '4L9GKyeqZOi5rHUoqDZd6z')\n"
     ]
    },
    {
     "name": "stderr",
     "output_type": "stream",
     "text": [
      "/var/folders/1n/phyrz16s0rd1_mpv046jgqf80000gn/T/ipykernel_9029/1552337488.py:37: FutureWarning: The frame.append method is deprecated and will be removed from pandas in a future version. Use pandas.concat instead.\n",
      "  big_df =big_df.append(df)\n"
     ]
    }
   ],
   "source": [
    "for i in zip(username,playlist_id):\n",
    "    print(i)\n",
    "    get_features_df(i[0],i[1])"
   ]
  },
  {
   "cell_type": "code",
   "execution_count": 90,
   "id": "5f86de6e",
   "metadata": {},
   "outputs": [
    {
     "data": {
      "text/html": [
       "<div>\n",
       "<style scoped>\n",
       "    .dataframe tbody tr th:only-of-type {\n",
       "        vertical-align: middle;\n",
       "    }\n",
       "\n",
       "    .dataframe tbody tr th {\n",
       "        vertical-align: top;\n",
       "    }\n",
       "\n",
       "    .dataframe thead th {\n",
       "        text-align: right;\n",
       "    }\n",
       "</style>\n",
       "<table border=\"1\" class=\"dataframe\">\n",
       "  <thead>\n",
       "    <tr style=\"text-align: right;\">\n",
       "      <th></th>\n",
       "      <th>danceability</th>\n",
       "      <th>energy</th>\n",
       "      <th>loudness</th>\n",
       "      <th>speechiness</th>\n",
       "      <th>acousticness</th>\n",
       "      <th>instrumentalness</th>\n",
       "      <th>liveness</th>\n",
       "      <th>valence</th>\n",
       "      <th>tempo</th>\n",
       "      <th>id</th>\n",
       "      <th>duration_ms</th>\n",
       "    </tr>\n",
       "  </thead>\n",
       "  <tbody>\n",
       "    <tr>\n",
       "      <th>0</th>\n",
       "      <td>0.865</td>\n",
       "      <td>0.665</td>\n",
       "      <td>-6.289</td>\n",
       "      <td>0.073</td>\n",
       "      <td>0.0453</td>\n",
       "      <td>0.0</td>\n",
       "      <td>0.224</td>\n",
       "      <td>0.331</td>\n",
       "      <td>111.113</td>\n",
       "      <td>1ofhfV90EnYhEr7Un2fWiv</td>\n",
       "      <td>268827</td>\n",
       "    </tr>\n",
       "    <tr>\n",
       "      <th>1</th>\n",
       "      <td>0.801</td>\n",
       "      <td>0.91</td>\n",
       "      <td>-6.566</td>\n",
       "      <td>0.225</td>\n",
       "      <td>0.00239</td>\n",
       "      <td>0.000891</td>\n",
       "      <td>0.0737</td>\n",
       "      <td>0.805</td>\n",
       "      <td>87.277</td>\n",
       "      <td>5g9lS8deSIxItFBmZRC4vN</td>\n",
       "      <td>278387</td>\n",
       "    </tr>\n",
       "    <tr>\n",
       "      <th>2</th>\n",
       "      <td>0.644</td>\n",
       "      <td>0.846</td>\n",
       "      <td>-5.443</td>\n",
       "      <td>0.275</td>\n",
       "      <td>0.124</td>\n",
       "      <td>0.0</td>\n",
       "      <td>0.353</td>\n",
       "      <td>0.503</td>\n",
       "      <td>79.182</td>\n",
       "      <td>1qZqFtSINOOmjYH1UE9805</td>\n",
       "      <td>301600</td>\n",
       "    </tr>\n",
       "    <tr>\n",
       "      <th>3</th>\n",
       "      <td>0.802</td>\n",
       "      <td>0.787</td>\n",
       "      <td>-6.009</td>\n",
       "      <td>0.206</td>\n",
       "      <td>0.00127</td>\n",
       "      <td>0.000181</td>\n",
       "      <td>0.0763</td>\n",
       "      <td>0.806</td>\n",
       "      <td>90.189</td>\n",
       "      <td>7sKt5Y2zJpYw78iAxndB8y</td>\n",
       "      <td>296907</td>\n",
       "    </tr>\n",
       "    <tr>\n",
       "      <th>4</th>\n",
       "      <td>0.872</td>\n",
       "      <td>0.723</td>\n",
       "      <td>-5.968</td>\n",
       "      <td>0.247</td>\n",
       "      <td>0.0293</td>\n",
       "      <td>0.0</td>\n",
       "      <td>0.327</td>\n",
       "      <td>0.843</td>\n",
       "      <td>93.279</td>\n",
       "      <td>4VQNCzfZ3MdHEwwErNXpBo</td>\n",
       "      <td>307773</td>\n",
       "    </tr>\n",
       "    <tr>\n",
       "      <th>...</th>\n",
       "      <td>...</td>\n",
       "      <td>...</td>\n",
       "      <td>...</td>\n",
       "      <td>...</td>\n",
       "      <td>...</td>\n",
       "      <td>...</td>\n",
       "      <td>...</td>\n",
       "      <td>...</td>\n",
       "      <td>...</td>\n",
       "      <td>...</td>\n",
       "      <td>...</td>\n",
       "    </tr>\n",
       "    <tr>\n",
       "      <th>122</th>\n",
       "      <td>0.791</td>\n",
       "      <td>0.591</td>\n",
       "      <td>-9.185</td>\n",
       "      <td>0.0478</td>\n",
       "      <td>0.0172</td>\n",
       "      <td>0.879</td>\n",
       "      <td>0.131</td>\n",
       "      <td>0.683</td>\n",
       "      <td>133.974</td>\n",
       "      <td>4LWiFuehm2uY3GK8q8sduT</td>\n",
       "      <td>428606</td>\n",
       "    </tr>\n",
       "    <tr>\n",
       "      <th>123</th>\n",
       "      <td>0.655</td>\n",
       "      <td>0.794</td>\n",
       "      <td>-5.872</td>\n",
       "      <td>0.25</td>\n",
       "      <td>0.082</td>\n",
       "      <td>0.0791</td>\n",
       "      <td>0.0457</td>\n",
       "      <td>0.667</td>\n",
       "      <td>187.007</td>\n",
       "      <td>3cCLvbMCHMgX7DLXPr1ALv</td>\n",
       "      <td>184939</td>\n",
       "    </tr>\n",
       "    <tr>\n",
       "      <th>124</th>\n",
       "      <td>0.757</td>\n",
       "      <td>0.92</td>\n",
       "      <td>-7.697</td>\n",
       "      <td>0.0385</td>\n",
       "      <td>0.000531</td>\n",
       "      <td>0.751</td>\n",
       "      <td>0.0956</td>\n",
       "      <td>0.955</td>\n",
       "      <td>126.001</td>\n",
       "      <td>2MumLWIryjcBG1eRYcRh6I</td>\n",
       "      <td>327304</td>\n",
       "    </tr>\n",
       "    <tr>\n",
       "      <th>125</th>\n",
       "      <td>0.826</td>\n",
       "      <td>0.9</td>\n",
       "      <td>-7.707</td>\n",
       "      <td>0.0697</td>\n",
       "      <td>0.0666</td>\n",
       "      <td>0.275</td>\n",
       "      <td>0.679</td>\n",
       "      <td>0.925</td>\n",
       "      <td>120.98</td>\n",
       "      <td>5z0J0ztN5QG0UTRv3wSZQK</td>\n",
       "      <td>306641</td>\n",
       "    </tr>\n",
       "    <tr>\n",
       "      <th>126</th>\n",
       "      <td>0.745</td>\n",
       "      <td>0.853</td>\n",
       "      <td>-8.154</td>\n",
       "      <td>0.0407</td>\n",
       "      <td>0.00334</td>\n",
       "      <td>0.403</td>\n",
       "      <td>0.135</td>\n",
       "      <td>0.466</td>\n",
       "      <td>124.011</td>\n",
       "      <td>6k5dL3jGlbliaIQRqkAGcU</td>\n",
       "      <td>254091</td>\n",
       "    </tr>\n",
       "  </tbody>\n",
       "</table>\n",
       "<p>6383 rows × 11 columns</p>\n",
       "</div>"
      ],
      "text/plain": [
       "    danceability energy loudness speechiness acousticness instrumentalness  \\\n",
       "0          0.865  0.665   -6.289       0.073       0.0453              0.0   \n",
       "1          0.801   0.91   -6.566       0.225      0.00239         0.000891   \n",
       "2          0.644  0.846   -5.443       0.275        0.124              0.0   \n",
       "3          0.802  0.787   -6.009       0.206      0.00127         0.000181   \n",
       "4          0.872  0.723   -5.968       0.247       0.0293              0.0   \n",
       "..           ...    ...      ...         ...          ...              ...   \n",
       "122        0.791  0.591   -9.185      0.0478       0.0172            0.879   \n",
       "123        0.655  0.794   -5.872        0.25        0.082           0.0791   \n",
       "124        0.757   0.92   -7.697      0.0385     0.000531            0.751   \n",
       "125        0.826    0.9   -7.707      0.0697       0.0666            0.275   \n",
       "126        0.745  0.853   -8.154      0.0407      0.00334            0.403   \n",
       "\n",
       "    liveness valence    tempo                      id duration_ms  \n",
       "0      0.224   0.331  111.113  1ofhfV90EnYhEr7Un2fWiv      268827  \n",
       "1     0.0737   0.805   87.277  5g9lS8deSIxItFBmZRC4vN      278387  \n",
       "2      0.353   0.503   79.182  1qZqFtSINOOmjYH1UE9805      301600  \n",
       "3     0.0763   0.806   90.189  7sKt5Y2zJpYw78iAxndB8y      296907  \n",
       "4      0.327   0.843   93.279  4VQNCzfZ3MdHEwwErNXpBo      307773  \n",
       "..       ...     ...      ...                     ...         ...  \n",
       "122    0.131   0.683  133.974  4LWiFuehm2uY3GK8q8sduT      428606  \n",
       "123   0.0457   0.667  187.007  3cCLvbMCHMgX7DLXPr1ALv      184939  \n",
       "124   0.0956   0.955  126.001  2MumLWIryjcBG1eRYcRh6I      327304  \n",
       "125    0.679   0.925   120.98  5z0J0ztN5QG0UTRv3wSZQK      306641  \n",
       "126    0.135   0.466  124.011  6k5dL3jGlbliaIQRqkAGcU      254091  \n",
       "\n",
       "[6383 rows x 11 columns]"
      ]
     },
     "execution_count": 90,
     "metadata": {},
     "output_type": "execute_result"
    }
   ],
   "source": [
    "big_df"
   ]
  },
  {
   "cell_type": "code",
   "execution_count": 91,
   "id": "1443441e",
   "metadata": {},
   "outputs": [],
   "source": [
    "big_df.to_csv(\"6383_rows.csv\",index=False)"
   ]
  },
  {
   "cell_type": "code",
   "execution_count": null,
   "id": "5dd11ff2",
   "metadata": {},
   "outputs": [],
   "source": []
  }
 ],
 "metadata": {
  "kernelspec": {
   "display_name": "Python 3 (ipykernel)",
   "language": "python",
   "name": "python3"
  },
  "language_info": {
   "codemirror_mode": {
    "name": "ipython",
    "version": 3
   },
   "file_extension": ".py",
   "mimetype": "text/x-python",
   "name": "python",
   "nbconvert_exporter": "python",
   "pygments_lexer": "ipython3",
   "version": "3.9.12"
  },
  "toc": {
   "base_numbering": 1,
   "nav_menu": {},
   "number_sections": true,
   "sideBar": true,
   "skip_h1_title": false,
   "title_cell": "Table of Contents",
   "title_sidebar": "Contents",
   "toc_cell": false,
   "toc_position": {},
   "toc_section_display": true,
   "toc_window_display": false
  }
 },
 "nbformat": 4,
 "nbformat_minor": 5
}
