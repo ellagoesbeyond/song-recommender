{
 "cells": [
  {
   "cell_type": "markdown",
   "id": "1150b6f7",
   "metadata": {},
   "source": [
    "# Import usefull packages\n"
   ]
  },
  {
   "cell_type": "code",
   "execution_count": 1,
   "id": "f9144776",
   "metadata": {},
   "outputs": [],
   "source": [
    "import spotipy\n",
    "import pandas as pd\n",
    "import json\n",
    "import pprint\n",
    "import config\n",
    "from itertools import *\n",
    "from bs4 import BeautifulSoup as bs\n",
    "import sys\n",
    "import random\n",
    "import requests\n",
    "import pandas as pd\n",
    "import pickle\n",
    "from spotipy.oauth2 import SpotifyClientCredentials\n",
    "sp= spotipy.Spotify(auth_manager=SpotifyClientCredentials(client_id=config.client_id,client_secret=config.client_secret))"
   ]
  },
  {
   "cell_type": "markdown",
   "id": "b8bf9f59",
   "metadata": {},
   "source": [
    "#  create big df  (empty)"
   ]
  },
  {
   "cell_type": "code",
   "execution_count": 12,
   "id": "2e380478",
   "metadata": {},
   "outputs": [],
   "source": [
    "big_df=pd.DataFrame(columns=[\"danceability\",\"energy\",\"loudness\",\"speechiness\",\"acousticness\",\"instrumentalness\",\"liveness\",\"valence\",\"tempo\",\"id\",\"duration_ms\"])"
   ]
  },
  {
   "cell_type": "code",
   "execution_count": 13,
   "id": "68d2b703",
   "metadata": {},
   "outputs": [
    {
     "data": {
      "text/html": [
       "<div>\n",
       "<style scoped>\n",
       "    .dataframe tbody tr th:only-of-type {\n",
       "        vertical-align: middle;\n",
       "    }\n",
       "\n",
       "    .dataframe tbody tr th {\n",
       "        vertical-align: top;\n",
       "    }\n",
       "\n",
       "    .dataframe thead th {\n",
       "        text-align: right;\n",
       "    }\n",
       "</style>\n",
       "<table border=\"1\" class=\"dataframe\">\n",
       "  <thead>\n",
       "    <tr style=\"text-align: right;\">\n",
       "      <th></th>\n",
       "      <th>danceability</th>\n",
       "      <th>energy</th>\n",
       "      <th>loudness</th>\n",
       "      <th>speechiness</th>\n",
       "      <th>acousticness</th>\n",
       "      <th>instrumentalness</th>\n",
       "      <th>liveness</th>\n",
       "      <th>valence</th>\n",
       "      <th>tempo</th>\n",
       "      <th>id</th>\n",
       "      <th>duration_ms</th>\n",
       "    </tr>\n",
       "  </thead>\n",
       "  <tbody>\n",
       "  </tbody>\n",
       "</table>\n",
       "</div>"
      ],
      "text/plain": [
       "Empty DataFrame\n",
       "Columns: [danceability, energy, loudness, speechiness, acousticness, instrumentalness, liveness, valence, tempo, id, duration_ms]\n",
       "Index: []"
      ]
     },
     "execution_count": 13,
     "metadata": {},
     "output_type": "execute_result"
    }
   ],
   "source": [
    "big_df"
   ]
  },
  {
   "cell_type": "markdown",
   "id": "5a56a4a8",
   "metadata": {},
   "source": [
    "# get features function"
   ]
  },
  {
   "cell_type": "code",
   "execution_count": 9,
   "id": "7e0c57f8",
   "metadata": {},
   "outputs": [],
   "source": [
    "def get_features_df(playlist_id):\n",
    "    global big_df\n",
    "    list_of_audio_features=[]\n",
    "    artist_name=[]\n",
    "    song_name=[]\n",
    "   \n",
    "    results = sp.user_playlist_tracks(\"thesoundsofspotify\",playlist_id,market=\"DE\")\n",
    "    \n",
    "    tracks = results['items']\n",
    "    \n",
    "    while results['next']:\n",
    "        results = sp.next(results)\n",
    "        tracks.extend(results['items'])\n",
    "        \n",
    "#getting features per song in  playlist \n",
    "    for value in range(0,len(tracks)):\n",
    "        \n",
    "        list_of_audio_features.append(sp.audio_features(tracks[value][\"track\"][\"id\"])[0])\n",
    "    \n",
    "\n",
    "#creating df with audio features and adding song name and artist     \n",
    "    df=pd.DataFrame(list_of_audio_features)    \n",
    "    df=df[[\"danceability\",\"energy\",\"loudness\",\"speechiness\",\"acousticness\",\"instrumentalness\",\"liveness\",\"valence\",\"tempo\",\"id\",\"duration_ms\"]]\n",
    "    \n",
    "    #df.insert(0,\"song\", song_name)\n",
    "    #df.insert(1,\"artist\", artist_name)\n",
    "   \n",
    "    big_df =big_df.append(df)\n",
    "    \n",
    "    return big_df"
   ]
  },
  {
   "cell_type": "markdown",
   "id": "4bbd7783",
   "metadata": {},
   "source": [
    "# Scrape 6000 playlist ids \n",
    "\n",
    "- taken from https://everynoise.com/everynoise1d.cgi?scope=all"
   ]
  },
  {
   "cell_type": "code",
   "execution_count": 2,
   "id": "dbbbea40",
   "metadata": {},
   "outputs": [
    {
     "data": {
      "text/plain": [
       "200"
      ]
     },
     "execution_count": 2,
     "metadata": {},
     "output_type": "execute_result"
    }
   ],
   "source": [
    "url = \"https://everynoise.com/everynoise1d.cgi?root=alt%20z&scope=all\"\n",
    "response = requests.get(url)\n",
    "response.status_code\n"
   ]
  },
  {
   "cell_type": "code",
   "execution_count": 3,
   "id": "57db1c55",
   "metadata": {},
   "outputs": [],
   "source": [
    "soup = bs(response.content, \"html.parser\")"
   ]
  },
  {
   "cell_type": "code",
   "execution_count": 4,
   "id": "aaaaeb1e",
   "metadata": {},
   "outputs": [
    {
     "data": {
      "text/plain": [
       "['6TySxsLwRVYqEh7LZ6fyq8',\n",
       " '0OGpuF8rnCzlcjJLsdywny',\n",
       " '1BYospE2cLB28m3i84dcTV',\n",
       " '6gS3HhOiI17QNojjPuPzqc',\n",
       " '5nUyv9wyZKjdUW1rk3smTo',\n",
       " '7nHgmv7uyIA1KHj6qTttjH',\n",
       " '0lXSqruCjvX1e7hw2KGvKw',\n",
       " '41997GIfsUgMnsPLFiuLeS',\n",
       " '1aYiM4zLmBuFq0Fg6NQb6a',\n",
       " '10FCW9lj0NdeoYI5VVvVtY',\n",
       " '6TGOKSobwpEoOtx80edFyV',\n",
       " '67qIuPZRX12l7yMpxBQpxs',\n",
       " '29qGA62efPsgLp6kblUPSg',\n",
       " '2ZIRxkFuqNPMnlY7vL54uK',\n",
       " '2QYND559WzeB2urcTaOG0j',\n",
       " '6rZGKd5ndSUnGeJKuBhUej',\n",
       " '2XXreCGINlOqm8wEn7WszA',\n",
       " '0ShRnc2cyEyxkLbtZC4Yim',\n",
       " '5kdP7VQedYdDzhTvfovu0u',\n",
       " '4CfyHGpt8qPlLXlstcE2Wh',\n",
       " '1Rn01P3YPioy5QRQoo32Lv',\n",
       " '0yVmsZK4AtiNMpby2WqLZY',\n",
       " '7mBz3DA4Lt7Bsbtr5TxklP',\n",
       " '7AqOmLV0JV4a3GpIU1qxbL',\n",
       " '5yagbqWY6gDlqB893zjOmO',\n",
       " '1HGdDFrmuZ9cfLJwJ7Eb3s',\n",
       " '0FkLYgMF09lmzytexAraKv',\n",
       " '47bikoA9qfXDT5VVhzsjy9',\n",
       " '0hkXwJmcwu7hABTyspKI9b',\n",
       " '5z1A6hdw1MJrmZzDusE4Q6',\n",
       " '08RIk2wKqMNCSzEaZCcHhi',\n",
       " '6ZbHMh1injVPBZTXnDKnYp',\n",
       " '3ejnp6KkIXiZBWsCzujQ6K',\n",
       " '78IYTCUA99H1rwKXjTYSCO',\n",
       " '49KNl5r9iJkG8BYo8VlWxX',\n",
       " '2BeLGTqy54PhX1YT1jTts9',\n",
       " '5VnHdgsAhzWNkd29Rv9ErH',\n",
       " '1L1Hmf2PkeZbiiQbgD93hC',\n",
       " '3TSPcCQfHfv9ga1UTKeBTH',\n",
       " '6An7hnuZmNj0VBt80vz6Bj',\n",
       " '5gGfKxsP7MMDUkrDrIl116',\n",
       " '3LM0Q5NZLXlRvGRtLl4hFz',\n",
       " '6u7iKVCWcYBfem5aY9SHF9',\n",
       " '0RS2azUaADBZ6gCOvSx8qs',\n",
       " '0COe0ewDiqcRDrCB2BUUGM',\n",
       " '56vsjg8uIptImNUVOyXi5d',\n",
       " '3H2aC6nJR4L39KCCI0Pcg8',\n",
       " '0D7XDPB5pasY0wUvsi4QrB',\n",
       " '08m9824rPzzzSV8kUNqaJ7',\n",
       " '518nIGwtzomegRteO67NXk',\n",
       " '7vVJyi5ArX0m0dvPZYWLJ1',\n",
       " '5lhOdh5At1U70qKnL3V3zZ',\n",
       " '5OXdeWcY5kynPjDIsAcwvJ',\n",
       " '60FHIWc8xWDuaUyPMlhPFm',\n",
       " '71EGWTV6P9kEV3mfunfSs4',\n",
       " '2fs6wwDi3xEmYOAdOBeIpG',\n",
       " '5pz9R983fOY5AKNpEl7OJk',\n",
       " '5wJb9tgSkHYu8lIXzallgA',\n",
       " '4n4CW3ZIFtShPKBUfkPSsq',\n",
       " '2VJ1VzZ7u17bqCsBz0Vrwm',\n",
       " '6TtiOm4Vf5wD8gPs1V4pQI',\n",
       " '7JEBOiPat4SDUDjcGgc4YP',\n",
       " '3Yzyns9XiroQy5zuD8ZDbb',\n",
       " '3UgbkYQnqsue0LbbcUUCDN',\n",
       " '0IfFM151rkWcM2k2vomHpg',\n",
       " '5LbuqcNO4ieuVBhPGEhpem',\n",
       " '2FT7VePCW7ScsRA25KuenF',\n",
       " '44EBmsbBkN77OkwLNVvYGe',\n",
       " '2BvxkVFgxGelSCrWV53I2o',\n",
       " '0MtjpTQ7m7V5cVJrUqoB8H',\n",
       " '4RpaBSDiEn9gO3VxsQrUod',\n",
       " '37jBmq9ayLUSajI8ogTdGa',\n",
       " '4vHFUc9Gak6omVxBYkDLRv',\n",
       " '6rKNApKAQaPnemPiI8dIJj',\n",
       " '3EzrWswzL4Gvltx7R84V58',\n",
       " '0Fz9zaKbug4gw1xTvmTUWI',\n",
       " '0x1RCBId9JUrDWjLPrlxX4',\n",
       " '0XD8IH8ubDqGa3Dk4duanQ',\n",
       " '2pO8ymNNHcGPSq5Uhverc2',\n",
       " '0tAsyMQoefUL8DWNn6xkAk',\n",
       " '0aq7uwv3CYWNt4evMp7mYj',\n",
       " '2gPfHsZq9cJiz0nJfB5YIf',\n",
       " '78wsjymwVf1xFMm5qJgrRk',\n",
       " '5WCnM8GlDTRtbqK9q5xwPt',\n",
       " '7K7eQm5eNmjvR1avm2Uikd',\n",
       " '4k2MgmvYXkWUxLwMrp863V',\n",
       " '0tNwwJQbHMES48ootJ1y1I',\n",
       " '6QpABgocYI5MBTYd9VTAa0',\n",
       " '023a2xH3vYQ4iMfHezxXAw',\n",
       " '6GK8bZbsxV9FRchdMmeTN3',\n",
       " '3NPyEuRqag5aATW5ckpX0J',\n",
       " '5sD1aSVv0KWgbGHo8GYKMC',\n",
       " '5j9E5msjnYEL2PZLjRzfQy',\n",
       " '1MSuOTcT7Egw1GovayzGXm',\n",
       " '1hseduxVpn5p3ukaREgsSi',\n",
       " '5nv4lr6p6likzx61NLCQEY',\n",
       " '5S5CAYEvpIC514oVgAkIDK',\n",
       " '786aRzqWPqbgaGKgKX0Rk5',\n",
       " '1Jsfl0NuEH9YUjNhOGVcis',\n",
       " '18gwmAWHFq8flv45o2BmlC',\n",
       " '0dIVTAucTpWxQLgePj5QjW',\n",
       " '4ysbROor6vDia1Vb0VfTQi',\n",
       " '4Ar1S6TuqmS0R2RV59AR1k',\n",
       " '5dMfpcHbPq5DwOuDk6qsht',\n",
       " '6d1TMThIMAnrw7zfkVBSuf',\n",
       " '2G0hc5WoKd28Zhwtpn48Mh',\n",
       " '2KMOd9KmWLeUbbRySGHN5j',\n",
       " '7L2TjFMaVJPczHZuf09iDG',\n",
       " '7nUK6pM5Viwp3Ah6Ybh0ED',\n",
       " '2pEF8qW6YyLXvEOflWiPTz',\n",
       " '53x6LAhXxhWxhV2TAPgw4u',\n",
       " '2TJHOlrTUoLMHs9CTyxN9n',\n",
       " '6B9CpGm9IBQJzncRCPw0dG',\n",
       " '5Cu4Lk5ihrwbaack2h4bIT',\n",
       " '21sN3UTzKhWo4jg5YNWEuK',\n",
       " '2p0LqJK2o0uCq2COZJyhls',\n",
       " '2y4fCw6aa6zEmM77umG48B',\n",
       " '412mIpGY8KqTKSdVe4dt6e',\n",
       " '7uivlZOhfHotY1IiRFctsW',\n",
       " '7HCXj9DPiuYcfcSFwpNyhR',\n",
       " '4VNawKxjIoJkE30Z9LbFzA',\n",
       " '11tHE4G3GBYPIxPw3RNetv',\n",
       " '3BSDQ6LVGNSTf3Ty8ilFK5',\n",
       " '0xip3bjOqyAivbjOgXDLDo',\n",
       " '739D9gljNHW1ZLcA9GHLgm',\n",
       " '5GHeUAdOq5tTdtDQm3kagL',\n",
       " '29mSwTOUCx0qir7FngxNJV',\n",
       " '2Ar7fmPoKFxWbUV4YGAe84',\n",
       " '3mJlrxwg9yquqVhNbn0Wy3',\n",
       " '4LmZcQ7Gg3EYHAmK2slSXa',\n",
       " '6NqeUZV00Bj7iKBNniWBpE',\n",
       " '3tnrTxpU6p3yD7lqLQ1HdA',\n",
       " '7HGA0EtEFyFOySfH2j9LGm',\n",
       " '5m9ErLc15dYYCGzvrcVy8q',\n",
       " '1tMMOjnFvzARz0bvIZ3p2w',\n",
       " '33blltDYieR1hn462m5JqR',\n",
       " '0ZEV56fLOnyx0lWRueQwhO',\n",
       " '1xILuchXsXTUjhl9HVPnDP',\n",
       " '3y2utCl5HkIG1gegMzoJGp',\n",
       " '1RGZMxRGRRqJTwP6px1d9D',\n",
       " '2zxYQBTWiXgpQEyQggYSTm',\n",
       " '64uNwoWinoCtqoIRe4f3mb',\n",
       " '4RNt8R9JKHC2QpnbRoTzI3',\n",
       " '6O8py1VYpktcoAnKP3Qj0w',\n",
       " '5Y51KuTG9GMPB96cq5OZEj',\n",
       " '3aR3QARYr1vxrp9hQlfOEq',\n",
       " '2KIAFjtQXFdsWTWDdanyQP',\n",
       " '4oKodlbJBRKSssO8LhsisY',\n",
       " '5BrYh0kTLQjuxtraCU16e2',\n",
       " '4I49J6EQBbt7X4lLTg2WiQ',\n",
       " '5TqoG1t47RTBqODKy6xjdK',\n",
       " '1JuNWLFhawInDMeE6ZNsEG',\n",
       " '4tenLyP9rbOA9oI4ZA2hwB',\n",
       " '1VeXCbhw7LZfOlrwzCc3O9',\n",
       " '5A6le1sitmcZpF3eHQw5Lj',\n",
       " '1sUevEmStQN4HnEmVOu43y',\n",
       " '7LTsVsWICU2Z8i5DOTtzYm',\n",
       " '04mJ4eJ9jtVx0Ucuyuk1Tx',\n",
       " '5i7C215uzusGrLt4aopH3q',\n",
       " '5VVIPbgaEaK3s41D9pMP5v',\n",
       " '4EIGwSoao5WkHd5YVP4CfG',\n",
       " '3xfMKzKtq7xNODln9zdPtO',\n",
       " '42xcPVnKaE1gu7PScFIG9H',\n",
       " '4GdH9Ia0enMmulZlKOt9n4',\n",
       " '7GEdG8oe7aQZkDqTahfYUd',\n",
       " '0ghAePzILlLiDPwmSVbGFQ',\n",
       " '2KYwHa3P14HIhvFakxj4lD',\n",
       " '1lXBwSS3n1W9kkwXPjSHEK',\n",
       " '1CKRS7bZY4KGSJ5qBc4T39',\n",
       " '4btmxVWpjsCzIN2nYQ9Bcc',\n",
       " '5jz6KkCpdRRqitBX9xa3ay',\n",
       " '0AFo791ONzlWZ73HnrJ8lD',\n",
       " '0aMVUw2FEVxBCFUZVxTt5u',\n",
       " '09XCT5qBhFP0GdHH8kaB3K',\n",
       " '4Mx67aqgClMsDfdtN0mmVC',\n",
       " '5xmiJMw9B5JlgiM4Ew47cL',\n",
       " '0jh60zPtx0PsQn8EfLWHw3',\n",
       " '7j7BJ4le34bKBYM4lJYJFe',\n",
       " '0WQJSIKafYcOm9LQCMEWZR',\n",
       " '6Hhf2afEqaDe0Vut2AtlYS',\n",
       " '4uYiWvGxE9KuBnhBGiaiKF',\n",
       " '2NzorwaQxuxYumMTnfsFm1',\n",
       " '7aC9044BJHzFWWAX18Bo95',\n",
       " '6mvBNM74d828wcEy9Bpb46',\n",
       " '0fhqtFBItgAOH9OO6rLuaX',\n",
       " '6h7Jr2zbuBSNKAzajJ7BvD',\n",
       " '4pCmObKUeRQFFsF2nXu9t8',\n",
       " '6OmE8oewLNTyLZu7CfpEtz',\n",
       " '4TLNeT3ismlmHwRxOxP3Tc',\n",
       " '6oJ7aTA1gwk4WaPTB4l5oo',\n",
       " '03cTd9Ykgkot8M1rA48CP9',\n",
       " '0sqLM1ijAdKHSh2iHNv5He',\n",
       " '7KmV0LJiGPgoQFKAOqgWxs',\n",
       " '4TUWhdsP6yM5qB4ogDgXpJ',\n",
       " '20MbFTd6EIRLby7minxHBP',\n",
       " '67WXwFxh6c7BJujM1zvn25',\n",
       " '37RWjxq3PTEw5YRoRfkFQm',\n",
       " '5bKFENhHRI9jVVZbOxWlD7',\n",
       " '70P9ZNqNAOSaKRHSOZ3tnW',\n",
       " '1CoY8DjYLjdcrwLVlL9Vri',\n",
       " '2x50uJHfR1OY7jK1lLFYgp',\n",
       " '3rjPCrrCjMZwWDlAIRu44q',\n",
       " '6DgTRbBowIyrHkubIMBuVS',\n",
       " '1LtPeF5aJyzljIKcH3VVV5',\n",
       " '1fZS0IY1MSY6PIyWktr0bx',\n",
       " '3UENNqTZntCPXIL3tlm5Ok',\n",
       " '5166vpEenpiy4kVU9XafbS',\n",
       " '2uM2IvAqc6HZmEiRjJBF6Q',\n",
       " '6CBOBJn4M4ql1LHSdHhkbz',\n",
       " '6VEITKpUHdcyuj01oxD4xC',\n",
       " '18IducTdBJ0zea33VOACTN',\n",
       " '2OichSu1aZp6qBQ45C5BX3',\n",
       " '0HDsBBxxbv2TkKpIZX2Ac0',\n",
       " '7pSUsof5crZi6c4k8Hun3q',\n",
       " '7iznfxFejfxYQgIjKo5Xyt',\n",
       " '1u4LMI2YFyDRBtCJ00rbzm',\n",
       " '7eWAz7khBGqJI3uEvG9Eac',\n",
       " '2ALQhQTaGMcIhayym0beqS',\n",
       " '1sJVrPmlXuvhq2dO5mUclQ',\n",
       " '1z4JkNqD4UHNWMTfIOKZBe',\n",
       " '1rLnwJimWCmjp3f0mEbnkY',\n",
       " '0jRf2cuzt0bLNhZZsLFiGg',\n",
       " '40uOIq5lmbAApQTlleiVp0',\n",
       " '2gCb5sPRAaufQVrfBOLgdN',\n",
       " '0Hwb2a9DJdom4yoe5V41K9',\n",
       " '4FjuxEyTVpIG1xel4TiyhB',\n",
       " '1g9OqYSE4vFrDjQdI6GXEy',\n",
       " '339zjWDksACL7sNs2UehlX',\n",
       " '2dfCXoa97rKRAg9WF8iQ3i',\n",
       " '7nwt8W3rxIONVDsEEaZk0V',\n",
       " '6df6TceBOi5yfpogHq8Man',\n",
       " '79aMbziSfGAzNl7LirfdoR',\n",
       " '1otEUipmOvjOGGqvEHHxEy',\n",
       " '0H51A6nNghqfiLc9wm47xR',\n",
       " '2XKIPP83gL3CAONT0n5ZmT',\n",
       " '7u11wOJGQMZuMQufJB5hYG',\n",
       " '4qlCXySd7UBKKmq8FkhCVO',\n",
       " '2tPZzJ3n0CO4JJpCuRhFTM',\n",
       " '0S6mwmMZjJwmPm6Mtt20Oa',\n",
       " '6suhLOSv1aTHZNzQ0JsCLk',\n",
       " '1rdqGPtCn0Tgdl5gjw8RkO',\n",
       " '0U6owTy68xweZvo0vPyKpj',\n",
       " '4KVj0Tze02e7RrVH31jp0R',\n",
       " '21vmnDNKEQfYgZvtOBEpf2',\n",
       " '0NtMwPn4FbUPwWGIK4lsH7',\n",
       " '2uNHP4lE72LZaqPCIVPhqo',\n",
       " '7pAlGbjJukWzMU3NR4w9T4',\n",
       " '65mUQOwcePZ9ZFyZyqhNiA',\n",
       " '5tRvNV4dHaAbqPORml4YFS',\n",
       " '0UqZHLlya1q5Cd6xku9MuK',\n",
       " '1HtdKIjYZSKWMLwz4QSDFU',\n",
       " '3xpkyLuyJI7bruUh1xtuea',\n",
       " '0i65yM4zM45UzL6X54UYBP',\n",
       " '7f7A3WaMDLcAHyTwxT5hK8',\n",
       " '6ws5wdeFSSKS3eLgbsKdLQ',\n",
       " '6uRm8wS0P52MoXspeFSJul',\n",
       " '5wct9Or59d734Jg9HCJCnO',\n",
       " '2PuF72PN1DvyJOZJSk5L9I',\n",
       " '66CJdSRCY2xNA8FFRbF5Ia',\n",
       " '222s04YPSjyh3XlfdTBxAQ',\n",
       " '7kQQGS5m9U07fe7CPWiql7',\n",
       " '7uK5DYj7rEXdB83xED01Qr',\n",
       " '66cLrKqCfplW8X2I3PKfef',\n",
       " '63VNJboa7qyn6gMcDMuU77',\n",
       " '4cUsQ92zB5oNEz3NxAIEFA',\n",
       " '6PRBsvj0lJtG5CUIwCiGMc',\n",
       " '5F1lc49YcCuT6fEQsgv8lw',\n",
       " '2MQ2XXBKBPGbwLxkqvBLxn',\n",
       " '70P0tTdAfXkHX7gqIl8qdA',\n",
       " '0Mu1FW9n1ca5nGoYi54x9i',\n",
       " '4WdG8sQgKR7USLglfavgzO',\n",
       " '7xeV0FH7AWgSwawrzmS0Mw',\n",
       " '6csaLz3wHWP7Mdl3x2tmxk',\n",
       " '7MYsbfVbvmW4WbABxYFqE5',\n",
       " '7DrJ92Lc9UaVB1rKM2UGsg',\n",
       " '20HRTITUogLdPSLtNjLiY6',\n",
       " '3mOVijfpf6hU4gDCabCU5G',\n",
       " '5gkYWQYeSyGJyca144YRw4',\n",
       " '46kIIqkNXmvgL4U7XWGUtg',\n",
       " '1qd1F8e02h6fDAKYlvHAoo',\n",
       " '5fXpNVUC5QymlxNrIivhxL',\n",
       " '7uLxM93RjHpW2dYdtjZVBa',\n",
       " '4gM9aDyGSr2FVAKAmehvRV',\n",
       " '1RWc3d424qgjr8HTwCVh6A',\n",
       " '0IDNHZwGpqlZShbrtCiw2F',\n",
       " '7soq6Lz7g6PWvigWX3cVCn',\n",
       " '2IKefe4UNnh5F4QQ51yOz0',\n",
       " '5HQuEkc6b8niI4AdsQMrh3',\n",
       " '6uL4zN0tryTmOsrhcknaIS',\n",
       " '1qLMlVunYKqw285SAjZEzJ',\n",
       " '2EeZha8FGL1avV9fYqBy2K',\n",
       " '2uAFt6Np8gyDSuPyKJKJjc',\n",
       " '1Of03fMRcavbNFOuElUEYm',\n",
       " '3RKFpCU8U1W4su54fdk6jF',\n",
       " '4BPmThDHR47PaOqWnG3igj',\n",
       " '4HK4JqkFN777naoFtBEbw7',\n",
       " '5ku4iF1rBKPRgqYOsPKNd9',\n",
       " '6PKNQqVFKlj0RA4zv1sdhd',\n",
       " '4UlEZTuMDmn2fJZ3Fuyde5',\n",
       " '7CCAguYh80dpcFURxzwzQ8',\n",
       " '4YN86Zcl3BVaTEAxT6IfUl',\n",
       " '4m1wSVoaReTpLfp76SfH8M',\n",
       " '4x4klMCmllIPRwBRk1t5dQ',\n",
       " '76p6vBc8IZucg2PpBRVnva',\n",
       " '3IFbYkEU8E9etsAjTz5a1y',\n",
       " '66EO2XTAsVGNHIWDfwQx31',\n",
       " '6b7wTToYe47ONWngJFcHwF',\n",
       " '7y06Quhxd73Bu5l6GNJDYw',\n",
       " '6OO8fOSbaM2OqY7o28PA0X',\n",
       " '2d4TUfOahHzSBYo0zm8mnV',\n",
       " '1gdSSexTkGJtAXzZ4xsK5J',\n",
       " '3P4E2aY9cPJSpu35WUxyFk',\n",
       " '3MAmofobV4T8ycrHSpTwn3',\n",
       " '5fkSaHCkIJjZxl14up4NSh',\n",
       " '3EVIId7wC6mMqfgabmnGov',\n",
       " '6X9nqrlhVwQT5EjQHRZxG7',\n",
       " '2Z6IXUd05BP2kdkUtMfjxD',\n",
       " '047iNw5YrSgTaRG2yTaTYV',\n",
       " '2pIs3tMAUzFEoS30WyUHEG',\n",
       " '4Ilk2BZa7OWZziZgcBAQlR',\n",
       " '6wxQuk8s6miAo3QMUxtY4K',\n",
       " '1zkGa0efUtOsXNKdbm1YhS',\n",
       " '4JKxumLa2EhDCRrKR72cjI',\n",
       " '5TKXMbSNXIpHqO3Jxd9esh',\n",
       " '0X8BD5Y2hyyC6Vaccx0AoF',\n",
       " '6YId5TJbwalucavwCbkZvI',\n",
       " '0tyTYAV1KWFMOjAL7EJWpy',\n",
       " '3JVMCNDPkh4UfEBnj8obiI',\n",
       " '2hmUr9SATE6SeyVgRe1Bfq',\n",
       " '4iIcSDqi069piXRq7Y5x1C',\n",
       " '4OgjqkP9pt1HNq5eZwLmoZ',\n",
       " '4bpLvrAQpvWAZ9lJDDYfbl',\n",
       " '25AUCNKrUS4XYwvGD3zYLL',\n",
       " '1EfJDym7urLaa1hpi6TFwr',\n",
       " '52xncL4Lvwl3I9D7V7PK1E',\n",
       " '3rZO48bDFx49kd29IjEiHL',\n",
       " '3sj7RfY30P0ZOuzu69iAgt',\n",
       " '51dlZwYLzof3euhHmUpSEn',\n",
       " '1iWoJHBrst3QgMIW6kXHxb',\n",
       " '5YhnF0wwxsNlZzyFbMpOzG',\n",
       " '0uivlRLR2faPoiuYrimbxE',\n",
       " '7w7v2NkPKP2EYL17Czpc3D',\n",
       " '7m6wlj8CXboEeoHPL5Sf8s',\n",
       " '2BjQpTFsjFXTHbJAfJbv6l',\n",
       " '3CdYZdrHIJcTGK0ooV3ygU',\n",
       " '53ORYkl8HFRtk3mm0t4pKD',\n",
       " '7yc4NIWxmBbCXwp5Jxefpl',\n",
       " '3QgaxpHrzybYfCNCIRswhF',\n",
       " '6f7acaGPASiQ3TAEh6oLEU',\n",
       " '3mGatBOEASsNJvNPI3Penj',\n",
       " '2qk8D3ZyEBXDwR02alzjXq',\n",
       " '5sjIhYs9VdRLVRwQimhRq6',\n",
       " '59TtFc8U1gqn3hcQd1nBoV',\n",
       " '4jxL2m66lGWk34OcPFXUHG',\n",
       " '3oZK1D458xeFA0EVuAoesb',\n",
       " '01yyE63z3FdFIytTCRVUK9',\n",
       " '34WeHDUbOzCgLD3ahlQwEN',\n",
       " '3nrjV5WWz2wYMDb965XxQa',\n",
       " '5B4I2Fm5KKx72aBld3dUIp',\n",
       " '7N35r1mrsCLe66LczBV7EQ',\n",
       " '0MIsNJdNUrokjdGGOvlBrd',\n",
       " '1tbOczjQP5g6oWMCc7oLQP',\n",
       " '5Q21EJ3ftlQiKoof6SX42Q',\n",
       " '38Yp2bVRIO1ER4zEFlhyk0',\n",
       " '0nAwOSVQ19qbswrjPdmQkq',\n",
       " '4SbkCOtqMhatjtiEBf0fOW',\n",
       " '6yZCXdIyG6jxAnWnm2wXKp',\n",
       " '32oRpD9BYsQAGVvIDWKJnj',\n",
       " '4vuNh0IZu34XU1vUjYMNtM',\n",
       " '5Phw9uzB08eYDwX5gFRFVy',\n",
       " '4cavePoqp7tBZ8FYfZaDlf',\n",
       " '7hNOYSiftr0KFWblJ6ccTi',\n",
       " '1wlvNtLn6q3SJ0whSvnCyK',\n",
       " '63icIb0bWfEa00IPqakdqq',\n",
       " '6rHNgj04KCZqwGnLdGIVEu',\n",
       " '2JwhJFWVeyvt8SEQXgmzHM',\n",
       " '6gaLUOiIgrnSFt2qmmUIMr',\n",
       " '4izm3QhYxFaqBOrYVf0YAJ',\n",
       " '4rkIxhozLZKLwSH2Fog0Mw',\n",
       " '6qf2sOrwU08PIM4aMggZS5',\n",
       " '4XtadMrOYHCU5QTr0sNXP1',\n",
       " '1eHbCJdm1FCG9r7CNaRIGl',\n",
       " '6tgiE2xPOzneF0huD1G1eu',\n",
       " '1bx8VTvb9Thu8MWpnhuP6k',\n",
       " '4I4FoywGhUAfNLgDkfC8UQ',\n",
       " '1n837Vzu2Mtk4H1vBYA3m3',\n",
       " '40auwv5lX0xeL2w7Kr6BoT',\n",
       " '5WNHSW7Y8P6th2aAW2PsqF',\n",
       " '6O63cFOsWByxmtFy8vPUmr',\n",
       " '4p18ARuCBXP8qbpzMdEmIi',\n",
       " '16xRhhHGkwub8XbsIQOO9x',\n",
       " '6d99h91us5ozdlNDvaeyXn',\n",
       " '39fDLM4s1IyMlxDLLRFpkX',\n",
       " '1Uw6qEQAeRsM7Dd82M2982',\n",
       " '7IBrHelDd9kUlUZ6eWawQL',\n",
       " '4q1x2DRR89SHVqxkRqSyvY',\n",
       " '1qQ39j0RpgAr9ewFJlZMSU',\n",
       " '7hHlls8yvqASqyc7nTYVit',\n",
       " '48weBBj0M7WB4i0YSh3w9i',\n",
       " '3X17g0Hchnzn3RCjJla4jJ',\n",
       " '3S3QryoGmumYB1YkvJNmoE',\n",
       " '2KQsYJA74IvrwonXugqzdy',\n",
       " '4EOruafleTkYnL1IAaevvk',\n",
       " '48tTg9E77wOTUn8P66xenP',\n",
       " '0JJUuA4qSz5vhiKSWzkIW8',\n",
       " '6tc3J6NhFZJkw0n7ix0w5l',\n",
       " '3VlYo96GLw7e1ceEDaZq0w',\n",
       " '2vKQ6Ac1Pe7UnKLBQeB5kj',\n",
       " '3htJqjjCUIndBa8q3ngCUL',\n",
       " '6sW7pp87N2Ms8TlarV8l6T',\n",
       " '2xblssDewgd1AA5R7Lap6w',\n",
       " '1BwLE6QTlmYAtosuvJcgY7',\n",
       " '6auaeyb8nkpRdYdJ9UFxcO',\n",
       " '0OCPvoUuknhRAe1x0HFI3C',\n",
       " '4HxnIDtqnU3BPh4yVWZg2b',\n",
       " '6iuMCyOY42ujcbBKUT3Fku',\n",
       " '2xCIMhNgOWQm1iWpOdg0w3',\n",
       " '6f3URcUAIeraG7jHhVq3C7',\n",
       " '5gXiJkxddq1pSBsHFQR0gl',\n",
       " '05SeBe6b4cU4jUSmdZScc3',\n",
       " '7MVsQrHg0heIs7DiltoSdP',\n",
       " '2N3bqn8GZGY3WZqAMXENIf',\n",
       " '39DfjCVzK3pnszkIPeXN17',\n",
       " '1QdpuPWvKE55QcNJZWAjSU',\n",
       " '2i2T2aO3SnyzstYOrLALW7',\n",
       " '40jbkOIWkM57FnXTokMzU9',\n",
       " '196T2qP29EjWxI1x6oSiXa',\n",
       " '63NyygAMIKSxy6LRG0eT5i',\n",
       " '3wTmRDseZi0s4Q0OpBUg4q',\n",
       " '5ALQKwz3D9lznT20eEIUTk',\n",
       " '6UoFptna0FeYqzMeOR8SVr',\n",
       " '70f3S3d60uyOdssfCZ9AEe',\n",
       " '5NmSX3apChYsQj54LLufIV',\n",
       " '0Ud1B5OYxleiuspbBXZI2t',\n",
       " '4zC9gA0aRcK5KP0hANQmFy',\n",
       " '5eXtMliOlZWHMcDDRkANhL',\n",
       " '3UhutiIcXo23ICdnsxBEFE',\n",
       " '7MFj9QO8OjHAULmCOlredr',\n",
       " '72nKBOJxfLUr3iuUUMn2nV',\n",
       " '4APG0kwkbEt77VxOuqKCUl',\n",
       " '2zI5GAcPPcGTknted3Qdji',\n",
       " '1YlQnXnGXy3oUayr7CunWv',\n",
       " '7eGVwau0N6LFe0tDGSgnfE',\n",
       " '0wYpNflDnwSC3OZqdrQCBt',\n",
       " '1VnqViluZQhxqcgWN1R8mR',\n",
       " '6YcVrEYohgdJDds0SJ70CM',\n",
       " '1Ph8pxls7GNLTFH7fcWxKh',\n",
       " '6N8qENHslBLpLYVEOP9Ebw',\n",
       " '29W4FPNZsBNek3jA5zKfBh',\n",
       " '1C3oYxpDKj4OHf4sB2gQQ5',\n",
       " '19TTQtvqRkqHiIwxdHCbhS',\n",
       " '2KMAWk6brKSc3lVAsRZIMH',\n",
       " '1nJv9YpODF9VdIg4zpHPGl',\n",
       " '7C4YA1mw3XW1fWcVqRQIvc',\n",
       " '59qMoqvlNat6Knc0feSWJn',\n",
       " '2b5xbXrNNeqxpcqSpy7JLC',\n",
       " '2Kig10nWiTUVz0WxAaUF3d',\n",
       " '1rlHnACGatHAOQrZ3WjEI3',\n",
       " '6EC3lo1QkeoX9u0lV3NpWh',\n",
       " '4mijVkpSXJziPiOrK7YX4M',\n",
       " '1u5mmyg0iXNefdvJnyYxR1',\n",
       " '6YZspl7VU1iH7IIVZtbBrZ',\n",
       " '0ic2Xr1zG007z8Nduvazc4',\n",
       " '5vc8iHgY8M9XyaKFOfWIil',\n",
       " '6PpgydwSFoSDoRtFWTJgkJ',\n",
       " '5ytzcJ3FZhJGgQupUva1lT',\n",
       " '6gS6GzxIiIADmPTa4xYvcC',\n",
       " '3QY81cbRYFXTHdTBNVVVb2',\n",
       " '2dHEwheLsfq6X3AfIH1AnJ',\n",
       " '7y00fhiUdviML8AhwU7NUL',\n",
       " '6CwZnd7cgbJzStHKhbUbnX',\n",
       " '03csHhetcFo29YHV4Z9A3g',\n",
       " '04goa2WnJSttcaWR9ZCkjQ',\n",
       " '2nuFDRMV9ePZJba5V94AJ8',\n",
       " '6PYtLNuIDCA1TZoLSaBYm7',\n",
       " '0LIRzPCFAI0uaKNyYMeWBq',\n",
       " '15S4NfywNOYUorC4FzfPqW',\n",
       " '1OXxQpaCXYbPe3lYjUdcuq',\n",
       " '5jpKrLqZrBe4Mm375dcaye',\n",
       " '45GY1sw2pj0LitunAGcMz6',\n",
       " '32uPxKFfDNzcRHWxYhvF6S',\n",
       " '6RFAXWzgMsqIkfZBXoFi8C',\n",
       " '6647V02cNn9NzfJeaM0baS',\n",
       " '41CsfNQA2R4quZUDGK3xFH',\n",
       " '40luEHX58YMtrD3cHCqAew',\n",
       " '1rGoVVHRgZB6OTYA3zUbvO',\n",
       " '1lMgl0D1HZVvtq16pB13ew',\n",
       " '2pmUHfzCVyrWGCUkmF4xah',\n",
       " '407HWwYCxddvWkqGKybLkr',\n",
       " '7mv3d734tlpipCOpjEfLMD',\n",
       " '4m33gxxb6nOSVYMzB0Rm94',\n",
       " '2dVHwR9NRScJP0Ss4G7t0B',\n",
       " '3VKkzhc2BBXqtDDKgA1L8E',\n",
       " '2CTX0IxBoq69Kq4trHCzAD',\n",
       " '2htHbhNj5IBJDk651FeuWV',\n",
       " '1cAFBWUGxXphtu1uhf0WDT',\n",
       " '0vXJqihXL6TaC1df5Ev015',\n",
       " '6GVUfirEB9jLZzk1lA7XZT',\n",
       " '4ML7JSFmkkJipKldJqZGbN',\n",
       " '7kVFp5nMo1YkcjxU2Vw2aU',\n",
       " '6JwEzg4dQvtHCqRZlOIgsZ',\n",
       " '6n7faMnAT5jZUqv9b1ZTMJ',\n",
       " '2z4sCERkuDhZ1heXEErFKq',\n",
       " '7jkRZ5VDXwsJGw4AFcIiSq',\n",
       " '18sKpIGOaFlR5256AqCh2E',\n",
       " '6F8lx4JLdKD4rvUxywo0eO',\n",
       " '1lzyGq6cCB13RuBcf8oJVH',\n",
       " '7lG23ivpXWoHsTkMxN4ULo',\n",
       " '128XwCk8V9NkrYS9kpaIOl',\n",
       " '45SpjOwyC6NQv0dCGnTQ6p',\n",
       " '3OB8R31OANTKUVPQOcgdkc',\n",
       " '03z0ld7Fs4mI1PfWTqRc06',\n",
       " '4qjJwcyJI5k3kUnGkyNyTx',\n",
       " '7vgw73gZZ5gAIxK2emsSPU',\n",
       " '3AfX07kXd9Kw2cfRhcMbuR',\n",
       " '7yNFFzl1njPs3ToiRrWU9w',\n",
       " '2HibxdzVLGDPR5GIrm4cza',\n",
       " '3OYcipXDDwzqMoNgfMf4az',\n",
       " '0pMKDfaAuedXTWShF7Uk7F',\n",
       " '7iXfcP5kZ4EPqSSmySAUtf',\n",
       " '5BIwaSlscQM2LmYTV8VtZ9',\n",
       " '0SCBGl0HGDRkgg8YQmtCF4',\n",
       " '2Ft6Kv7kxPTTO74PQu4rIn',\n",
       " '4yf2dXdO6U7TVDXZMbm8nY',\n",
       " '56bVlmhPJ7OfRjMIfA2TBQ',\n",
       " '5lnN5oU8PRwBjmgAJRLnya',\n",
       " '0Hkzj6Zffp08IfPO32ztb1',\n",
       " '4Nwu7l1nvV5a5ydeKJQkUo',\n",
       " '0rSYXMt7LzZgQdQuF3X4DK',\n",
       " '36Yfu6Yj0paZUbDwC33oyn',\n",
       " '1LkvG5mQgD9xiroaVR5PFl',\n",
       " '05657jnifBqpCQQLDpujE4',\n",
       " '7ksXAyS1ZxTrof1TxTF6wZ',\n",
       " '4AdwCO0lBUKuqN6RHmfydz',\n",
       " '2YO2pH8igKZ9bMbJ2kJGB9',\n",
       " '34hqvaKy6jIvN2hNf1sKlq',\n",
       " '0VdvQpqCAfQWGEbMOBkWEr',\n",
       " '5zOMhOIxrxt9ImR2I9q06R',\n",
       " '3I9Qej7viaxaK9IUOtrhal',\n",
       " '4bMTSiI4AC7Mp0TCOMis7A',\n",
       " '3T1Rft817cZ3pguTvaWaz3',\n",
       " '3kmvXhorXrYxDH7cRkx3ZK',\n",
       " '1FICcWbkaEb3ofxlFws1oO',\n",
       " '4DIc6FvplSlgKjH67THmX7',\n",
       " '1aVMByzod7x5EWG4TiK9Fw',\n",
       " '07zF8MjQPsiYUXiAIGZ5TA',\n",
       " '5eUTjCgIZ8jNCpQRHbxltu',\n",
       " '6JJz3RoxI7VUDx2IHgOGNr',\n",
       " '6dVwWlgvlxfKRVLkZqfFGd',\n",
       " '0h1fhuuIYAYjxlvNxyG1Vp',\n",
       " '6pckSTzsS5DMpLFE0G4xRh',\n",
       " '1uE60pEQpaIgUT3T7Voloi',\n",
       " '24R9qi4ZTmvnCGJnjg3eqn',\n",
       " '70jdWG9sLb0vAWuAXuiDbX',\n",
       " '3GY9leJtXKj3ztZiFNB4li',\n",
       " '4sghNjSZeUx5DFTADuPhPj',\n",
       " '3VHoSzjyYpM4sVrfQqdHd5',\n",
       " '0X1DCauLa5DFA8iQPgt895',\n",
       " '7m1mFRaRjFbQswDVSLTIka',\n",
       " '0qcFr7sptcLbUw1cbssor4',\n",
       " '0BhYpMRb8Y8Qu76nu7gFmh',\n",
       " '2LfEVQ7ETewcpbNa2IVsH7',\n",
       " '21XPGPsghJTjnFvzVX8wUe',\n",
       " '7dAAKYBOlPiG4pZxtrF3hx',\n",
       " '4iCWu56IaaF1zfz7HLX4hN',\n",
       " '3QdHMGxBUKu2uGZFDLEdwn',\n",
       " '0b4lkZqMBUrVjMQTlLTSMK',\n",
       " '6CQHwTCpNh8suN7AWQzCcB',\n",
       " '15kbR2WyCZAGIn0bldZctI',\n",
       " '3rO0S2HRXs5QvpLbTSeIcL',\n",
       " '5C7yvtFPo6zeLkS4jzfJWP',\n",
       " '4cOnCdcml9OJO7LfXqWxPf',\n",
       " '5Wh14KMrdMwRzU4lU8Zc9z',\n",
       " '5Wbh8gxGHPtQIQK2AplA8i',\n",
       " '1zZ74gVRdo7Irvd0UEt7uf',\n",
       " '06PUJCdk1px2oPNZC3mZDH',\n",
       " '4fj8PNbbwGXBWHKodGQhfD',\n",
       " '3vtZXD4r0laZm8MgRUUTC2',\n",
       " '1yO5GSVqUyrslkhBcX6saj',\n",
       " '5pY0dKBL7RzLorJfjzl6mo',\n",
       " '3eYt9gyFTUOcqKoAW2gQWQ',\n",
       " '2W8qlNiQFfQJTE6Tj2EIdU',\n",
       " '3yP7LJ0wT19xpeIJxJ7GJF',\n",
       " '0xZkDM0jIfrFATSeaGt9Ms',\n",
       " '0MWd2kxEaYwZ2REf6yD5fQ',\n",
       " '0yw568vk1Hhi2A0HoV6SqX',\n",
       " '36OgYCDxrIDYw76eEAeMQM',\n",
       " '27Rk57RtVvXDePop2Toln0',\n",
       " '3F82ezKwcNctesxcgvlL5x',\n",
       " '7ugNYbNvdp5fz9dWLxd0GT',\n",
       " '0VgyqskAG7vnQto157aNWc',\n",
       " '6nAOWmyYPXdqQtAJ8AdpwX',\n",
       " '64APSYMq8SznNHfk8siTLw',\n",
       " '2louS5loLhAS2ysS3ciAcA',\n",
       " '01j3k31n8pfn6hb6RMLUBk',\n",
       " '43sN5RaFc8vfqheu5Je3gy',\n",
       " '7LyM6X4Il9BReHH6MMEjyz',\n",
       " '0NhC7QKdjDqwq6qi70ZcNT',\n",
       " '3HHF173MIu4NBRr3pbgXsB',\n",
       " '4JW72vPkXNyO4XW2pupOlY',\n",
       " '3ygLQ0p0Leod5w6KC1otBx',\n",
       " '70yDbCeImYqhxCDRU0qXpd',\n",
       " '3yO7yAkgfetYQ2hpYb2AJX',\n",
       " '6PtT6ZnKDSmeaczTMZV7dl',\n",
       " '7p9LTCdkoZNL24GHLExbSA',\n",
       " '2rMhjmx6ALZb8nfmQpOFa2',\n",
       " '7qBLZYyI9CUH3rVqNQnl3o',\n",
       " '1iwTy2uKXpyBTGKbZ9Kgj5',\n",
       " '4fcravOX9bIqlZMXgKqWV9',\n",
       " '5gZbaD8ftLCQTOkbuCSpis',\n",
       " '0TOn5GNhITcfhKiZRuQHV1',\n",
       " '2pSeH1YQCSICs2knjs7e5o',\n",
       " '0239bbtXcNjUVZ1CkChY4K',\n",
       " '5hEnBDgbXhqEa2mUr4sFVU',\n",
       " '6TN46YwH8yprurqRB4lQ9l',\n",
       " '5AmVxPk3hf7Vk63IwyiSz1',\n",
       " '2GiU50Y6j2oioclfkqlcC4',\n",
       " '3Sh4VMQ9nxOjw2EWn4omoa',\n",
       " '1E7BcIB5KcUEgeivGlZKy1',\n",
       " '3AxsN9foojNcuPI9OXnVIB',\n",
       " '4StF9VDinlQNwMPcWhAfjz',\n",
       " '4HbGCzaH6bTsF1FGAESEzG',\n",
       " '3pqGb6Yg2wSDLTp0eddFlz',\n",
       " '2NxU5PeN2WXEqjOrzOi1m1',\n",
       " '6Xxksk0PXng2x9zF30Yzg7',\n",
       " '2TsSOQsGVFwKfOZLra0x4E',\n",
       " '5Ts3jfNCNXUoNeDOEfhqv4',\n",
       " '0V9yTHDVtWgzJShycRhcqH',\n",
       " '79MRsgrRBZM0beXu7KGgO3',\n",
       " '13FUMh8s4eHh9QaTaiRLfE',\n",
       " '5lr7bOFOEzL7I42C9uaBBm',\n",
       " '3MT6eictU27U5iyC5zX8d2',\n",
       " '2EkYuzS8qUbRdqV5Bjnnin',\n",
       " '7xC9HFUYnU5o27DOQ2QFz8',\n",
       " '69d6UEZKkFtQNEDQyntv7S',\n",
       " '3HwPfR9P3OqlId9ADZCrrt',\n",
       " '5eXcXox905vgCOp8bE4TJI',\n",
       " '3z2RllPfFPitffsorrPc0J',\n",
       " '3wa7yvWcZv5Sv6pxZvIN2U',\n",
       " '1AsNZ2csoPw2IHm0XLRFrx',\n",
       " '0QSSoihqhZmWI3aOBff8oY',\n",
       " '43W23zGmvcC07hP0OoWvdb',\n",
       " '428kqH5lzImD4NkPLoZSrv',\n",
       " '4bZvft7DVkJCAslix0FqWj',\n",
       " '2BOlbck6FW1kya9hMP1HFP',\n",
       " '35YknEfHHGIYnFZ8IU5pu5',\n",
       " '0zfoaCIbMIVfNPgIY54hlN',\n",
       " '1rL1br6e5ksgcTIkgRLEiF',\n",
       " '071azGlUdxShlM0wSbBBeu',\n",
       " '4LR7zJ6HkhAJFhQm4eTfqS',\n",
       " '0tcS9Y1tCt0Ffh2CdTXybt',\n",
       " '5UMnYHbk0p2Ng3lCiVosMZ',\n",
       " '4D6h4h29rGjq8k7anBIl1O',\n",
       " '15np3AD89wmZNE1pXavg8C',\n",
       " '0ZxlPDRLLKikTjXeQApbWR',\n",
       " '0QXxPjOe7pTq0MQdanjWrx',\n",
       " '2EBFceCfnsuTzrVopJyGWG',\n",
       " '7MDyqTQYlHkHfXuMzwlk68',\n",
       " '4jr1tvvMa8bYtXGQZPFn3T',\n",
       " '49vmN6VdGNxnBV02YPnEIV',\n",
       " '4wbKWXROzlJdXbtqEUc6Lw',\n",
       " '7AYc8DXO2XO7bm4RH6WfqI',\n",
       " '3zE5pYwFbC6sSjMRjvhePx',\n",
       " '6ZVmXTFnNQdpKUjDADM5Iq',\n",
       " '6vGBafdEMRFhPiatbPLfjw',\n",
       " '6PBjVS6WmDRbFXYe39j8hN',\n",
       " '4AD52qozQj9sn1u5OSrECm',\n",
       " '0lKD2vCUwtVhp7wLhJoyWe',\n",
       " '77XtO891xN5zPjQ6hvZkbW',\n",
       " '5HhzMmDUZoNjKa5GBpV6WV',\n",
       " '6THzRYh7cRGUHAxQjkqKT8',\n",
       " '5ap6ICYu15SLUZ2WUdWUBA',\n",
       " '6XdW7adQLpt3o3gIJqE9XW',\n",
       " '7EmimsoK6aeXpavDhI5SgO',\n",
       " '6S0frS33YQdbRp0JH93cut',\n",
       " '4C8m7u87Nck0PxnVJb0JjP',\n",
       " '7mkbVjaHNgs9uBOfzRKGYm',\n",
       " '2lRquSJcjNvHMjlEl8zLbg',\n",
       " '6PbOwNcgDKomwkNOzpiA3M',\n",
       " '2a4AkEFVA2nSuddrYs5Xfr',\n",
       " '7hAIuKrOHFR2bJx811NzAR',\n",
       " '2NsX3CredBVJ5wAZcIs3U4',\n",
       " '04WqP7v7DfZphdiqdDZU8x',\n",
       " '5KQBeEusXD5IQ5NIjxek94',\n",
       " '5uM73LuSChLxZIKzTqvwUb',\n",
       " '1W5VvMDlZm8pViaMFAcctc',\n",
       " '2k8s1T3zBIerxsGyA3cFeV',\n",
       " '3GTitzQCtoUcVkLKAY2J2G',\n",
       " '0ApbhEbGARjX0LGmI81jWi',\n",
       " '37qBQkNmniKSzKQSaF1gOw',\n",
       " '6KO7rNq7jfMLQ5oQ8If6x9',\n",
       " '1imbMwZYgwB2NCAVPkq5sZ',\n",
       " '0F5v9iMoWvTJVQLrYIH5Xb',\n",
       " '1FcWxTM72potsWHiPQKmZC',\n",
       " '6cZIwqYksHLjlRvhMMUizF',\n",
       " '1ZoIbk8whEaIhk5q1UQYre',\n",
       " '7AnZjCk6I1Nf19w2Igpj4H',\n",
       " '1sbrmzh83rDkpMTLYXzLdg',\n",
       " '0AdCrGQY3vhJvKNUWeQGQy',\n",
       " '1wwnwY4WnbBfQ77U3r4ccj',\n",
       " '6HvalHc8PipnY2SaarvTtA',\n",
       " '4cEyA0ViSmUTFKF8i3agLU',\n",
       " '7oDabKiKmedjlCG29ZHZsg',\n",
       " '6kDPp6vQPfTLewr6vXZYMC',\n",
       " '1Cvs6hwW3ac2JiTwiGlp6g',\n",
       " '49HaUMpoVqCFErbqVmiiLU',\n",
       " '3WDYzCuTyq43OzWVOClBXk',\n",
       " '4lJcvL5WcpNky192UQRqLG',\n",
       " '2uHuU0pVMlBym5w670ZXYa',\n",
       " '3v9Zk1tfOXS0qvEf0HPouL',\n",
       " '4mh0GeHzEkgPkVrCxsKQpM',\n",
       " '6MUBwmuJ5e1kI1mAmHPHlT',\n",
       " '4I9PfkVAq6KhX2IyOjUhyL',\n",
       " '4nLmlafgbNrN49aqbsnhkm',\n",
       " '4jQqv6qtMOKg64k7tYBqzR',\n",
       " '10pLstNFIIkLZD0o7R8TAx',\n",
       " '5TCT3htdio4Hik2pF12ky8',\n",
       " '18LufJPENHQkScaoTPZLAm',\n",
       " '0VZfpqcbBUWC6kpP1vVrvA',\n",
       " '4xsPUaS4EwvnxnOgU7AgOF',\n",
       " '7FjCHpdw02MoFqpy7d1DJJ',\n",
       " '2HRSlLWvRjJ6mnxpn5Q99B',\n",
       " '5K1iPKk49VzQ7QFocqwgYx',\n",
       " '2JPri9wt0WCXMikD73KDpD',\n",
       " '3m2ghU6Q23fLCujGXeUO2r',\n",
       " '0J8pO9hK5KnAFWaLE3oTfK',\n",
       " '73AbntsjRDiGcI0WsI8rjd',\n",
       " '3y7GFNHSVQoII6mOYTvJaO',\n",
       " '02bWbrKu0xnt5nt1S6xCCU',\n",
       " '2fiAtiIalythHfTVGJRJWM',\n",
       " '0VOsr8ByGRlLwZSfB9lpQ8',\n",
       " '7uiDWyPL9wjqAeu0xizq1f',\n",
       " '25ggwZmMC245VCZxV9PTYQ',\n",
       " '0nARPYNjb8i5X0R1PYtian',\n",
       " '7eF49eqkrZG5wFtihgZePd',\n",
       " '2C1aQIm29aKkdT0PHXDr39',\n",
       " '3fiYkXoS0nKeANVXh8agRA',\n",
       " '63VSjPh2b1FV5zGlFkQhxb',\n",
       " '2UNqwQnjDTvppqW0gW3frK',\n",
       " '2cmFJoRcSPkSkD1yllBGwZ',\n",
       " '3olMGtyLXcjiZhcO1CZPi4',\n",
       " '6AxIe6nptUOe8jJ4LeNptt',\n",
       " '7Ek20wpQqKamII0X4lPhpA',\n",
       " '1FQ0OCZYijohM9rb04pv4e',\n",
       " '7yh29dEvCaEWoTKOiGEK0h',\n",
       " '11VtEIEQN30XWjYbmLXrT6',\n",
       " '7yawHmXHreTbNJ9wu1UBs7',\n",
       " '6GM80waFvLZoWUIAcFE9ZB',\n",
       " '2XFcxayFDZXADbCqlSfSjK',\n",
       " '0q1UNHBbjcqP218qGxXxXC',\n",
       " '4kSgy7KERZ8CIBSuZSwnXP',\n",
       " '1PMeCT6ELd8s6QQUjMTSAN',\n",
       " '3weJSiTAEBXFb2GGzQdzDH',\n",
       " '7ABVommvnBuEMEwF5tTxkW',\n",
       " '1qKT01W06KFPouzgMpoULZ',\n",
       " '4UnTwHRaNzvcCcfrQONEKq',\n",
       " '5fcYFvhlE6Yf4yKQTHwC0f',\n",
       " '03k1nPwcKgYsdLtjccDtMM',\n",
       " '409FnGPho9uuF3kuESudPh',\n",
       " '66k6nBXFo6of5ckPWCuCSi',\n",
       " '0J0tDTwFnu3cY1nz5HyjkE',\n",
       " '6alRA0JMoSAhCILVd0GWvF',\n",
       " '64mVfC7wBCcvPm5eYPnHVI',\n",
       " '3T7fgs4KaPs3HUbhHBizyb',\n",
       " '26C6ieZHP6osxOV3WKiiBm',\n",
       " '31YWtFP5V22xiYZ2og7HOy',\n",
       " '69r1MJRmRHDdyMwVYnok2p',\n",
       " '7baltA60dF3DOgo0GoXgJm',\n",
       " '0DF5YOQ38PrgsvT0whSbEH',\n",
       " '7KuZSebZlQto9drDc7l5tE',\n",
       " '51YuSJZ2Lr2fdwq1Y0cnIl',\n",
       " '2kJkzpnVACN1eaJhMRC5jJ',\n",
       " '3yczgLoQTWStIgAm1Mr0xF',\n",
       " '1xyLXFq8PsdtkBeTmWqRjQ',\n",
       " '4fLE9MkUAcauwyK84mkhl8',\n",
       " '4TaUNytRspBtacAOATKvF3',\n",
       " '2ravsd7xzOqws3jYqVQv3v',\n",
       " '4NACq8ddk17JnMjHVdVASi',\n",
       " '2RcLS96OmD4fLXofGRlGTf',\n",
       " '19MzV9T4UTnjZdQEWL3xFe',\n",
       " '4SszPGbd85kgL72aptI3Cs',\n",
       " '2UmyDZbUjnhE6tuhf8e9Wa',\n",
       " '70C6u0olQKvzu0wTCul2dj',\n",
       " '2NweJbjBo0jbtRgYOalUDO',\n",
       " '44Jnkh0V8VTCk1hMcCID8Y',\n",
       " '55x8ZVtEKgpOHmLbidRFeh',\n",
       " '00jq3BcNQsct8nHbaC5Utr',\n",
       " '4vs5oVyprUnwwcueOZ9ked',\n",
       " '2udlgcqCb6IBRpLIkuVXxe',\n",
       " '7BOmogQasErRhHqjUSKa1o',\n",
       " '5mTsY0boKtT3YqTPcTCULR',\n",
       " '0ZgGRRngNcunvsLOgBEJxL',\n",
       " '1gR0ICNJHA2gYvV8X57ktc',\n",
       " '53iyHoUo4uZtoXfJGOjnqx',\n",
       " '6RvOIQPUfQg7kGde06Wdas',\n",
       " '1ga7kXhbcB4tsOfpZqP7UX',\n",
       " '7JKrUr5pDqLDJu30nsSig4',\n",
       " '38YBtxlHopZHNyAWtqWmH2',\n",
       " '3PjSViYxygIzwIDO2dPkyW',\n",
       " '2IQajrWbgM5MH4kKFLe7AB',\n",
       " '2JIjBQYWndDHEZNTNv5C9t',\n",
       " '2VyKqSUlw6R8BlKyDRTb2H',\n",
       " '1ZaBZfYeCQoWj4ToBFE7Wg',\n",
       " '2diUVDFxNHNzERh89Ud1PO',\n",
       " '6QMBZIONDABjF1ZGDFwcSM',\n",
       " '2B97nCsJ1YtOYIbioQp81E',\n",
       " '72tMdtrWPl1PXHYk3Y0gRf',\n",
       " '31brn6iMtN6kB5gJIBVnhS',\n",
       " '3FeDgGoUiDRzSBXexOs3gZ',\n",
       " '1wtr5dUZ2Fwc4D3Iu1DCdp',\n",
       " '3jf3D3t1AT3tuNLdbDLBfs',\n",
       " '4zdQRyM9Pyi1s2H5A5lnsI',\n",
       " '3iYTHHefhKZXKxsdyV2QY6',\n",
       " '4mgB4LFKwuZYIuqFFTsrPW',\n",
       " '7BLKSzIiVrkhVe0tQFTtJg',\n",
       " '39W41IKr0qeGfHkMGZRgUz',\n",
       " '5e1PICDGQN7VplhLeKVATy',\n",
       " '6fCJ2iyUhivh8ghIqBQ9Nr',\n",
       " '4Pgl4JWg99RspoFbmSjq6P',\n",
       " '6raSpwYnvMoNwAPM19qJNO',\n",
       " '4km1u4CDqjbRX4Z8kAQail',\n",
       " '71AaHNo5ZV6AIh7kF65UTY',\n",
       " '1LXDDX1G91YLmWJbgSdquu',\n",
       " '2jOeUlyI9UeiGlPp6JYVAN',\n",
       " '6khu4gXbpy8qG2GW1UWLlI',\n",
       " '3Vj7mQtbuQNH8urnTsidXe',\n",
       " '1iHqGq35jAzFcUJepCqcLy',\n",
       " '5tYWEzHdJKuFot5aqdDKx6',\n",
       " '7kQSXw1ezgx6LowSSqyWsy',\n",
       " '3h3fQeu39Em88KEHF4zf6t',\n",
       " '6D3nMYU82Nkl2qgd3b2PrM',\n",
       " '5cWMQfuIovWhCrnXC3szWn',\n",
       " '5yWEBJMpp4zuGt83GYOyHE',\n",
       " '5vIBFEypI86kgUNJJBCmbN',\n",
       " '5XKUixyz4Zt5HwsIKmJU52',\n",
       " '0CktkOo3GxodXvz4fXJ5Ld',\n",
       " '3VnBB3I74dmWXRRlML5TVX',\n",
       " '6l0T3BkqjNXmCCqCNYqJoE',\n",
       " '4uQKmfsrx5mLF1kcrJjASZ',\n",
       " '2EK7UnhMWzCVnrI4I0FN44',\n",
       " '1X8tXB79P2aFcWVGkdiAYq',\n",
       " '6Z07gmQdxcSmwR1iVNK1Yk',\n",
       " '26RcB9SST53vdYfYfMhpzf',\n",
       " '2pfNHK5P2G5YNNHZWVjUMP',\n",
       " '0m7Exsm8SA079gMp7eec04',\n",
       " '4yHRpNzpFRWeKS0WinqHtW',\n",
       " '5kYkybE1CkN3ShUzZA5n6A',\n",
       " '6YfW0Ao3gHA2b7G27fhpKj',\n",
       " '4uoEHkaVhlvgoCTF5PFJMg',\n",
       " '3vWhIIVkzQlg7rwn2gbldL',\n",
       " '12pP9XdVQu8HhjUDAbZRQ2',\n",
       " '4Ub3q1CU9YGXR2bkJ4wKwe',\n",
       " '6YCBZeDU7lFUw0WomT7uCj',\n",
       " '4Aq9WJgae8vjDQWFMiJsLM',\n",
       " '2AIGUJ4j4Bd5q8tUfurZnD',\n",
       " '6iwoiGbEuqmejpaGrxJWiT',\n",
       " '0KPfijR82jvlPTnt3Hmu2Q',\n",
       " '0EmrOr9gdxrcM2y3khh72k',\n",
       " '18cADc0sGSv5mLQlZzX0YO',\n",
       " '6gpELhsiYJyaL13srOlTMQ',\n",
       " '0jNHdwA4dCJkYmPBHlt4r2',\n",
       " '6tA81ejhPK3Df3xrDsHnIG',\n",
       " '4TMkyxS7gDaBQaJRCisJWl',\n",
       " '6TEh7sGZj65kb1wKoZMkSU',\n",
       " '2B2QQYHbX4eTnmz2qjaPfT',\n",
       " '6LZFCnSxdUJqXrruICbvXc',\n",
       " '2nZxUVkTnE2dfocWtpr6nK',\n",
       " '1dqR8owoT4vz61AMGMc0cA',\n",
       " '0wCLfTeI6aOieQnDUmu9Ix',\n",
       " '3vjHLrBtmxbKOk01YJdr5O',\n",
       " '4JU3dwfdYvsBf0c4MOerz0',\n",
       " '1BIzxJFojkeKpju3tfHgGI',\n",
       " '3FqSsjOig3Q0MDEV90x4S2',\n",
       " '458j2uOah9F6jTXzX0xLtE',\n",
       " '1QSrkrMmfEX0V2bYLYSE4h',\n",
       " '1HxlHisjJGDQLJzg35NVIy',\n",
       " '7jRgv5rTQRklfPfRIQ9h6I',\n",
       " '1t5McH091F60IJwZilOBPk',\n",
       " '2t478T5CCDyRz9IwV8mE4V',\n",
       " '4RwE62FqRp8gLKq8UrJy2b',\n",
       " '3BQd5cKQFeLS3S3jdZI8eM',\n",
       " '5qMUzoMITcF88UypoWTaAB',\n",
       " '2CCFjSEgiXofou5h3azRa0',\n",
       " '71hJ9e25Ub4XZwiE1FZAjI',\n",
       " '2b7FC4wx5lphMB4FKrx6aC',\n",
       " '4SkgzC5qxNelXWo3zJsP5J',\n",
       " '0049OsctYNaJ5swOwvPVls',\n",
       " '1Bq02QfRLJHEfGZGabm1hl',\n",
       " '3vTsUt7QC2e9OiTPAORaCZ',\n",
       " '7aINHNJg40REiMEP6G2Zdq',\n",
       " '25zL0DjNC6mr6qB3F5iSWK',\n",
       " '5lAp13nSaA7eHafwqV5ilp',\n",
       " '1lEZC1rWlusGF0IC6JxR5V',\n",
       " '70tbA3VypSVkRzvJWbYbfc',\n",
       " '0ieIobWxRuLYalQz2WHKHR',\n",
       " '42dGKCvDkq9aLYNzKwatSu',\n",
       " '0jFvYjzBeEgvfwJ0TSTNVm',\n",
       " '4Qqc4lX4i4A8uXD9SBQy7S',\n",
       " '1MBLuaTt9FmjgW3AVAlIKo',\n",
       " '5q7BEgu84UFNBDKrbIGcRc',\n",
       " '7ajTsnmCl0uAFRvLWo6Ga7',\n",
       " '5wT8Nw3HVG9EBgnaZtos80',\n",
       " '6Wz5IiVGjSDWQmMlPxHcjg',\n",
       " '5Ly1Hq4HqgMOtjLjjzOgXO',\n",
       " '0MCtzZcGOBSiXSpLxipORS',\n",
       " '7aJrA9ExAuZLUr4OdXbwwv',\n",
       " '6HwS9JJsya66GMP23r4VP7',\n",
       " '4RCjZQTtM2pXauBjFNRcGQ',\n",
       " '2M5mmDgqCgxxJzDqMNvsbJ',\n",
       " '0wngtIMvcnsMdZbd9xukhI',\n",
       " '5c8RLU4cABQz4E0AWFc22P',\n",
       " '1FnSCQFzl8gXc0YGo3d1gf',\n",
       " '1uFmFdP4khly2qaImrnOz0',\n",
       " '1l4otzwhS8LnLsWKducSxa',\n",
       " '2ZsIEGkniMFdKLhMnIdk5X',\n",
       " '6pWUha4KRUldi2JQ2epLpF',\n",
       " '5tAlOeh0paHbCx4KuSGyBn',\n",
       " '76cCPFZYhAISV0seUjoBHy',\n",
       " '6Ic0Ef0ztGNGTirOaWNCUB',\n",
       " '75uAzOEJH0LyH5uDvOCOBJ',\n",
       " '5mfYEZ678jSqX3VkLfO0rE',\n",
       " '7iUYGZURZOX9qhZbICjihp',\n",
       " '4jad2Rm1ff78yGzm3XTZKC',\n",
       " '5vHWuInWEuHAkjeWJAu3qz',\n",
       " '1Z41nmNKq6E8nBQqRQheTZ',\n",
       " '7sFEcvv5RLUs1DECRJDKRI',\n",
       " '6yqR5Ss9IcNYzE5jVPgWyN',\n",
       " '13bL7PwSrXJ09yfBcq1f4c',\n",
       " '4iIMSWO9QrrcUE8SQEdBcA',\n",
       " '4Cw1wgE034owKiU6pyeHuw',\n",
       " '1TrGj5eL5I87g8sNGe0xTs',\n",
       " '5WhrwlIOMIGBLH8AVhuvJF',\n",
       " '6ttzwuno3FKJSdGdtXM5IG',\n",
       " '5YzvReYSHL8Vm1VHaSMr0X',\n",
       " '10ZdPLIr6c2dFAALbRAFhG',\n",
       " '3S5CflXChDW1V00nr5aqhk',\n",
       " '2VkWOPUqwKkeBWMqcFx0L6',\n",
       " '27DZhqwvuoNKv6gZDVonz1',\n",
       " '5UgGwJxLX6i8u422mj1xmy',\n",
       " '2VVXvoVHgohWTQAM4fhct6',\n",
       " '4mpWT8u17Lpi7bMOrXPiJJ',\n",
       " '3WZNkiRvWTSI1VwZn0Gw09',\n",
       " '4lLbuMCdRlia25u4RwuiXz',\n",
       " '2n2wYLNi6ZeYvyII2JpLKT',\n",
       " '4TJaPKWVQSS3XfecPldvhk',\n",
       " '4tXvolMJX9FQDMZaSVgA12',\n",
       " '4NrJCQ3jxOl1fhMj0F9p2G',\n",
       " '5GNmniRYfLh3twHmc3T7vN',\n",
       " '0IyFLwxEtAB5jszehTpWFJ',\n",
       " '5HAv8CH53gDzjRHw3s2TFD',\n",
       " '38cq1JOTwmZbNcv3SwXuoa',\n",
       " '0B3eNy1lyjAZhLgZXGBwbO',\n",
       " '7bVLsTfYqQKkYOpUglYAp3',\n",
       " '3NBwTY4MhsesrRaS4JrfT0',\n",
       " '0P5sUv03BUhlHvbtQ9l96V',\n",
       " '7JHxvhw9XPNKqtCt70xnAf',\n",
       " '1wrSDOT0XjCDAU1iwSy7eu',\n",
       " '6G0LJl6u6SVoDoGIaPoQrj',\n",
       " '6ww5wJjqXcuh7PVeAF84Pk',\n",
       " '56EJ8xSxox8qhQRuruKlo2',\n",
       " '2KWsDttfIMjLq1rpyxTQX8',\n",
       " '0LCQjuYkhJFBP3ZSpBmvHB',\n",
       " '4jPaRv9ZvejfMNNMsKidlZ',\n",
       " '1PQNGPYni1V1nFdLLyF6D5',\n",
       " '1lHoOhw2kbYv0614Wj72AM',\n",
       " '1kmPba3K0wZwyVJXktgJii',\n",
       " '0dRQr3bESvbQL1opUmEXlY',\n",
       " '0Nar1vUd0plNmYHqPPznaf',\n",
       " '4iYWdcJhjLHD9iHCXqnv7z',\n",
       " '5yCcGn665DF9QdmQBor5hB',\n",
       " '3jJdVfjC6emcsncxWd16Ud',\n",
       " '1W3Jws5GbVKXSS35HmMKnQ',\n",
       " '1a8bmZL1UIDLb9XqSfgtws',\n",
       " '1ivpRrAa7wWR9bOcNzVr7g',\n",
       " '41BSPX8BOIC56WbTjJc06M',\n",
       " '623xipOO67LZgslyiF58Mt',\n",
       " '5mIxXHkKnD6sq7Wcb4af2u',\n",
       " '5r7iScQieYhKk1vit2T1SC',\n",
       " '3TlLFpN4RZW1ecTnWyWM0x',\n",
       " '5S3xWhvZFcXKOogUjkb8od',\n",
       " '0SljFhF4AFN2i1Ntyfq1st',\n",
       " '5BlFafrlExpf0KSlIOahrd',\n",
       " '0XRhBXYCpp2CBuISbi8dgr',\n",
       " '6CtSs2O8jBtCyfW5Bjg8CB',\n",
       " '1ZQWz04rXXSWX0cjRIUTfb',\n",
       " '5yY4Ijs7l0cLEftBaOL8X4',\n",
       " '3e8jdbusZjbMKWTv6Zv2GR',\n",
       " '3s3zindCeXj6wbEpjlP6xX',\n",
       " '5b8gIRFCYqWVuOyRqfJnAZ',\n",
       " '3wzXQnhHVjc6F96gmxGWLp',\n",
       " '6HxkWVGjZV1rnLDZ7DYZig',\n",
       " '752p1W4kvVSsrbESrs6iX3',\n",
       " '0U6I2Nkiv3NbSN4I7Ym7yF',\n",
       " '3bjbpsbl2mzaqFJcyQNGjE',\n",
       " '0gGvbAcQBdLWdEiayXBg7R',\n",
       " '7kaTOk3XhLr5QIC7hZQ9fK',\n",
       " '5xa7wwrQ6oXuBaHJEpMUje',\n",
       " '1UqPlv6ScS9FrO7D4o5rMq',\n",
       " '7N3YoXooGpspOBkakIGzs7',\n",
       " '5F1vipfT6OWc9oNkGQqzl3',\n",
       " ...]"
      ]
     },
     "execution_count": 4,
     "metadata": {},
     "output_type": "execute_result"
    }
   ],
   "source": [
    "a = soup.select(\"table tr td .note\")\n",
    "playlist_list = [str(i['href']) for i in a]\n",
    "id_list = [i.split(':')[3] for i in playlist_list]\n",
    "id_list\n"
   ]
  },
  {
   "cell_type": "code",
   "execution_count": 5,
   "id": "e265a7c9",
   "metadata": {},
   "outputs": [
    {
     "data": {
      "text/plain": [
       "5962"
      ]
     },
     "execution_count": 5,
     "metadata": {},
     "output_type": "execute_result"
    }
   ],
   "source": [
    "len(id_list)"
   ]
  },
  {
   "cell_type": "markdown",
   "id": "8d69d74b",
   "metadata": {},
   "source": [
    "# Creating chunks of 250 playlist each"
   ]
  },
  {
   "cell_type": "code",
   "execution_count": 10,
   "id": "1d3f443b",
   "metadata": {},
   "outputs": [
    {
     "name": "stdout",
     "output_type": "stream",
     "text": [
      "[['6TySxsLwRVYqEh7LZ6fyq8', '0OGpuF8rnCzlcjJLsdywny', '1BYospE2cLB28m3i84dcTV', '6gS3HhOiI17QNojjPuPzqc', '5nUyv9wyZKjdUW1rk3smTo', '7nHgmv7uyIA1KHj6qTttjH', '0lXSqruCjvX1e7hw2KGvKw', '41997GIfsUgMnsPLFiuLeS', '1aYiM4zLmBuFq0Fg6NQb6a', '10FCW9lj0NdeoYI5VVvVtY', '6TGOKSobwpEoOtx80edFyV', '67qIuPZRX12l7yMpxBQpxs', '29qGA62efPsgLp6kblUPSg', '2ZIRxkFuqNPMnlY7vL54uK', '2QYND559WzeB2urcTaOG0j', '6rZGKd5ndSUnGeJKuBhUej', '2XXreCGINlOqm8wEn7WszA', '0ShRnc2cyEyxkLbtZC4Yim', '5kdP7VQedYdDzhTvfovu0u', '4CfyHGpt8qPlLXlstcE2Wh', '1Rn01P3YPioy5QRQoo32Lv', '0yVmsZK4AtiNMpby2WqLZY', '7mBz3DA4Lt7Bsbtr5TxklP', '7AqOmLV0JV4a3GpIU1qxbL', '5yagbqWY6gDlqB893zjOmO', '1HGdDFrmuZ9cfLJwJ7Eb3s', '0FkLYgMF09lmzytexAraKv', '47bikoA9qfXDT5VVhzsjy9', '0hkXwJmcwu7hABTyspKI9b', '5z1A6hdw1MJrmZzDusE4Q6', '08RIk2wKqMNCSzEaZCcHhi', '6ZbHMh1injVPBZTXnDKnYp', '3ejnp6KkIXiZBWsCzujQ6K', '78IYTCUA99H1rwKXjTYSCO', '49KNl5r9iJkG8BYo8VlWxX', '2BeLGTqy54PhX1YT1jTts9', '5VnHdgsAhzWNkd29Rv9ErH', '1L1Hmf2PkeZbiiQbgD93hC', '3TSPcCQfHfv9ga1UTKeBTH', '6An7hnuZmNj0VBt80vz6Bj', '5gGfKxsP7MMDUkrDrIl116', '3LM0Q5NZLXlRvGRtLl4hFz', '6u7iKVCWcYBfem5aY9SHF9', '0RS2azUaADBZ6gCOvSx8qs', '0COe0ewDiqcRDrCB2BUUGM', '56vsjg8uIptImNUVOyXi5d', '3H2aC6nJR4L39KCCI0Pcg8', '0D7XDPB5pasY0wUvsi4QrB', '08m9824rPzzzSV8kUNqaJ7', '518nIGwtzomegRteO67NXk', '7vVJyi5ArX0m0dvPZYWLJ1', '5lhOdh5At1U70qKnL3V3zZ', '5OXdeWcY5kynPjDIsAcwvJ', '60FHIWc8xWDuaUyPMlhPFm', '71EGWTV6P9kEV3mfunfSs4', '2fs6wwDi3xEmYOAdOBeIpG', '5pz9R983fOY5AKNpEl7OJk', '5wJb9tgSkHYu8lIXzallgA', '4n4CW3ZIFtShPKBUfkPSsq', '2VJ1VzZ7u17bqCsBz0Vrwm', '6TtiOm4Vf5wD8gPs1V4pQI', '7JEBOiPat4SDUDjcGgc4YP', '3Yzyns9XiroQy5zuD8ZDbb', '3UgbkYQnqsue0LbbcUUCDN', '0IfFM151rkWcM2k2vomHpg', '5LbuqcNO4ieuVBhPGEhpem', '2FT7VePCW7ScsRA25KuenF', '44EBmsbBkN77OkwLNVvYGe', '2BvxkVFgxGelSCrWV53I2o', '0MtjpTQ7m7V5cVJrUqoB8H', '4RpaBSDiEn9gO3VxsQrUod', '37jBmq9ayLUSajI8ogTdGa', '4vHFUc9Gak6omVxBYkDLRv', '6rKNApKAQaPnemPiI8dIJj', '3EzrWswzL4Gvltx7R84V58', '0Fz9zaKbug4gw1xTvmTUWI', '0x1RCBId9JUrDWjLPrlxX4', '0XD8IH8ubDqGa3Dk4duanQ', '2pO8ymNNHcGPSq5Uhverc2', '0tAsyMQoefUL8DWNn6xkAk', '0aq7uwv3CYWNt4evMp7mYj', '2gPfHsZq9cJiz0nJfB5YIf', '78wsjymwVf1xFMm5qJgrRk', '5WCnM8GlDTRtbqK9q5xwPt', '7K7eQm5eNmjvR1avm2Uikd', '4k2MgmvYXkWUxLwMrp863V', '0tNwwJQbHMES48ootJ1y1I', '6QpABgocYI5MBTYd9VTAa0', '023a2xH3vYQ4iMfHezxXAw', '6GK8bZbsxV9FRchdMmeTN3', '3NPyEuRqag5aATW5ckpX0J', '5sD1aSVv0KWgbGHo8GYKMC', '5j9E5msjnYEL2PZLjRzfQy', '1MSuOTcT7Egw1GovayzGXm', '1hseduxVpn5p3ukaREgsSi', '5nv4lr6p6likzx61NLCQEY', '5S5CAYEvpIC514oVgAkIDK', '786aRzqWPqbgaGKgKX0Rk5', '1Jsfl0NuEH9YUjNhOGVcis', '18gwmAWHFq8flv45o2BmlC', '0dIVTAucTpWxQLgePj5QjW', '4ysbROor6vDia1Vb0VfTQi', '4Ar1S6TuqmS0R2RV59AR1k', '5dMfpcHbPq5DwOuDk6qsht', '6d1TMThIMAnrw7zfkVBSuf', '2G0hc5WoKd28Zhwtpn48Mh', '2KMOd9KmWLeUbbRySGHN5j', '7L2TjFMaVJPczHZuf09iDG', '7nUK6pM5Viwp3Ah6Ybh0ED', '2pEF8qW6YyLXvEOflWiPTz', '53x6LAhXxhWxhV2TAPgw4u', '2TJHOlrTUoLMHs9CTyxN9n', '6B9CpGm9IBQJzncRCPw0dG', '5Cu4Lk5ihrwbaack2h4bIT', '21sN3UTzKhWo4jg5YNWEuK', '2p0LqJK2o0uCq2COZJyhls', '2y4fCw6aa6zEmM77umG48B', '412mIpGY8KqTKSdVe4dt6e', '7uivlZOhfHotY1IiRFctsW', '7HCXj9DPiuYcfcSFwpNyhR', '4VNawKxjIoJkE30Z9LbFzA', '11tHE4G3GBYPIxPw3RNetv', '3BSDQ6LVGNSTf3Ty8ilFK5', '0xip3bjOqyAivbjOgXDLDo', '739D9gljNHW1ZLcA9GHLgm', '5GHeUAdOq5tTdtDQm3kagL', '29mSwTOUCx0qir7FngxNJV', '2Ar7fmPoKFxWbUV4YGAe84', '3mJlrxwg9yquqVhNbn0Wy3', '4LmZcQ7Gg3EYHAmK2slSXa', '6NqeUZV00Bj7iKBNniWBpE', '3tnrTxpU6p3yD7lqLQ1HdA', '7HGA0EtEFyFOySfH2j9LGm', '5m9ErLc15dYYCGzvrcVy8q', '1tMMOjnFvzARz0bvIZ3p2w', '33blltDYieR1hn462m5JqR', '0ZEV56fLOnyx0lWRueQwhO', '1xILuchXsXTUjhl9HVPnDP', '3y2utCl5HkIG1gegMzoJGp', '1RGZMxRGRRqJTwP6px1d9D', '2zxYQBTWiXgpQEyQggYSTm', '64uNwoWinoCtqoIRe4f3mb', '4RNt8R9JKHC2QpnbRoTzI3', '6O8py1VYpktcoAnKP3Qj0w', '5Y51KuTG9GMPB96cq5OZEj', '3aR3QARYr1vxrp9hQlfOEq', '2KIAFjtQXFdsWTWDdanyQP', '4oKodlbJBRKSssO8LhsisY', '5BrYh0kTLQjuxtraCU16e2', '4I49J6EQBbt7X4lLTg2WiQ', '5TqoG1t47RTBqODKy6xjdK', '1JuNWLFhawInDMeE6ZNsEG', '4tenLyP9rbOA9oI4ZA2hwB', '1VeXCbhw7LZfOlrwzCc3O9', '5A6le1sitmcZpF3eHQw5Lj', '1sUevEmStQN4HnEmVOu43y', '7LTsVsWICU2Z8i5DOTtzYm', '04mJ4eJ9jtVx0Ucuyuk1Tx', '5i7C215uzusGrLt4aopH3q', '5VVIPbgaEaK3s41D9pMP5v', '4EIGwSoao5WkHd5YVP4CfG', '3xfMKzKtq7xNODln9zdPtO', '42xcPVnKaE1gu7PScFIG9H', '4GdH9Ia0enMmulZlKOt9n4', '7GEdG8oe7aQZkDqTahfYUd', '0ghAePzILlLiDPwmSVbGFQ', '2KYwHa3P14HIhvFakxj4lD', '1lXBwSS3n1W9kkwXPjSHEK', '1CKRS7bZY4KGSJ5qBc4T39', '4btmxVWpjsCzIN2nYQ9Bcc', '5jz6KkCpdRRqitBX9xa3ay', '0AFo791ONzlWZ73HnrJ8lD', '0aMVUw2FEVxBCFUZVxTt5u', '09XCT5qBhFP0GdHH8kaB3K', '4Mx67aqgClMsDfdtN0mmVC', '5xmiJMw9B5JlgiM4Ew47cL', '0jh60zPtx0PsQn8EfLWHw3', '7j7BJ4le34bKBYM4lJYJFe', '0WQJSIKafYcOm9LQCMEWZR', '6Hhf2afEqaDe0Vut2AtlYS', '4uYiWvGxE9KuBnhBGiaiKF', '2NzorwaQxuxYumMTnfsFm1', '7aC9044BJHzFWWAX18Bo95', '6mvBNM74d828wcEy9Bpb46', '0fhqtFBItgAOH9OO6rLuaX', '6h7Jr2zbuBSNKAzajJ7BvD', '4pCmObKUeRQFFsF2nXu9t8', '6OmE8oewLNTyLZu7CfpEtz', '4TLNeT3ismlmHwRxOxP3Tc', '6oJ7aTA1gwk4WaPTB4l5oo', '03cTd9Ykgkot8M1rA48CP9', '0sqLM1ijAdKHSh2iHNv5He', '7KmV0LJiGPgoQFKAOqgWxs', '4TUWhdsP6yM5qB4ogDgXpJ', '20MbFTd6EIRLby7minxHBP', '67WXwFxh6c7BJujM1zvn25', '37RWjxq3PTEw5YRoRfkFQm', '5bKFENhHRI9jVVZbOxWlD7', '70P9ZNqNAOSaKRHSOZ3tnW', '1CoY8DjYLjdcrwLVlL9Vri'], ['2x50uJHfR1OY7jK1lLFYgp', '3rjPCrrCjMZwWDlAIRu44q', '6DgTRbBowIyrHkubIMBuVS', '1LtPeF5aJyzljIKcH3VVV5', '1fZS0IY1MSY6PIyWktr0bx', '3UENNqTZntCPXIL3tlm5Ok', '5166vpEenpiy4kVU9XafbS', '2uM2IvAqc6HZmEiRjJBF6Q', '6CBOBJn4M4ql1LHSdHhkbz', '6VEITKpUHdcyuj01oxD4xC', '18IducTdBJ0zea33VOACTN', '2OichSu1aZp6qBQ45C5BX3', '0HDsBBxxbv2TkKpIZX2Ac0', '7pSUsof5crZi6c4k8Hun3q', '7iznfxFejfxYQgIjKo5Xyt', '1u4LMI2YFyDRBtCJ00rbzm', '7eWAz7khBGqJI3uEvG9Eac', '2ALQhQTaGMcIhayym0beqS', '1sJVrPmlXuvhq2dO5mUclQ', '1z4JkNqD4UHNWMTfIOKZBe', '1rLnwJimWCmjp3f0mEbnkY', '0jRf2cuzt0bLNhZZsLFiGg', '40uOIq5lmbAApQTlleiVp0', '2gCb5sPRAaufQVrfBOLgdN', '0Hwb2a9DJdom4yoe5V41K9', '4FjuxEyTVpIG1xel4TiyhB', '1g9OqYSE4vFrDjQdI6GXEy', '339zjWDksACL7sNs2UehlX', '2dfCXoa97rKRAg9WF8iQ3i', '7nwt8W3rxIONVDsEEaZk0V', '6df6TceBOi5yfpogHq8Man', '79aMbziSfGAzNl7LirfdoR', '1otEUipmOvjOGGqvEHHxEy', '0H51A6nNghqfiLc9wm47xR', '2XKIPP83gL3CAONT0n5ZmT', '7u11wOJGQMZuMQufJB5hYG', '4qlCXySd7UBKKmq8FkhCVO', '2tPZzJ3n0CO4JJpCuRhFTM', '0S6mwmMZjJwmPm6Mtt20Oa', '6suhLOSv1aTHZNzQ0JsCLk', '1rdqGPtCn0Tgdl5gjw8RkO', '0U6owTy68xweZvo0vPyKpj', '4KVj0Tze02e7RrVH31jp0R', '21vmnDNKEQfYgZvtOBEpf2', '0NtMwPn4FbUPwWGIK4lsH7', '2uNHP4lE72LZaqPCIVPhqo', '7pAlGbjJukWzMU3NR4w9T4', '65mUQOwcePZ9ZFyZyqhNiA', '5tRvNV4dHaAbqPORml4YFS', '0UqZHLlya1q5Cd6xku9MuK', '1HtdKIjYZSKWMLwz4QSDFU', '3xpkyLuyJI7bruUh1xtuea', '0i65yM4zM45UzL6X54UYBP', '7f7A3WaMDLcAHyTwxT5hK8', '6ws5wdeFSSKS3eLgbsKdLQ', '6uRm8wS0P52MoXspeFSJul', '5wct9Or59d734Jg9HCJCnO', '2PuF72PN1DvyJOZJSk5L9I', '66CJdSRCY2xNA8FFRbF5Ia', '222s04YPSjyh3XlfdTBxAQ', '7kQQGS5m9U07fe7CPWiql7', '7uK5DYj7rEXdB83xED01Qr', '66cLrKqCfplW8X2I3PKfef', '63VNJboa7qyn6gMcDMuU77', '4cUsQ92zB5oNEz3NxAIEFA', '6PRBsvj0lJtG5CUIwCiGMc', '5F1lc49YcCuT6fEQsgv8lw', '2MQ2XXBKBPGbwLxkqvBLxn', '70P0tTdAfXkHX7gqIl8qdA', '0Mu1FW9n1ca5nGoYi54x9i', '4WdG8sQgKR7USLglfavgzO', '7xeV0FH7AWgSwawrzmS0Mw', '6csaLz3wHWP7Mdl3x2tmxk', '7MYsbfVbvmW4WbABxYFqE5', '7DrJ92Lc9UaVB1rKM2UGsg', '20HRTITUogLdPSLtNjLiY6', '3mOVijfpf6hU4gDCabCU5G', '5gkYWQYeSyGJyca144YRw4', '46kIIqkNXmvgL4U7XWGUtg', '1qd1F8e02h6fDAKYlvHAoo', '5fXpNVUC5QymlxNrIivhxL', '7uLxM93RjHpW2dYdtjZVBa', '4gM9aDyGSr2FVAKAmehvRV', '1RWc3d424qgjr8HTwCVh6A', '0IDNHZwGpqlZShbrtCiw2F', '7soq6Lz7g6PWvigWX3cVCn', '2IKefe4UNnh5F4QQ51yOz0', '5HQuEkc6b8niI4AdsQMrh3', '6uL4zN0tryTmOsrhcknaIS', '1qLMlVunYKqw285SAjZEzJ', '2EeZha8FGL1avV9fYqBy2K', '2uAFt6Np8gyDSuPyKJKJjc', '1Of03fMRcavbNFOuElUEYm', '3RKFpCU8U1W4su54fdk6jF', '4BPmThDHR47PaOqWnG3igj', '4HK4JqkFN777naoFtBEbw7', '5ku4iF1rBKPRgqYOsPKNd9', '6PKNQqVFKlj0RA4zv1sdhd', '4UlEZTuMDmn2fJZ3Fuyde5', '7CCAguYh80dpcFURxzwzQ8', '4YN86Zcl3BVaTEAxT6IfUl', '4m1wSVoaReTpLfp76SfH8M', '4x4klMCmllIPRwBRk1t5dQ', '76p6vBc8IZucg2PpBRVnva', '3IFbYkEU8E9etsAjTz5a1y', '66EO2XTAsVGNHIWDfwQx31', '6b7wTToYe47ONWngJFcHwF', '7y06Quhxd73Bu5l6GNJDYw', '6OO8fOSbaM2OqY7o28PA0X', '2d4TUfOahHzSBYo0zm8mnV', '1gdSSexTkGJtAXzZ4xsK5J', '3P4E2aY9cPJSpu35WUxyFk', '3MAmofobV4T8ycrHSpTwn3', '5fkSaHCkIJjZxl14up4NSh', '3EVIId7wC6mMqfgabmnGov', '6X9nqrlhVwQT5EjQHRZxG7', '2Z6IXUd05BP2kdkUtMfjxD', '047iNw5YrSgTaRG2yTaTYV', '2pIs3tMAUzFEoS30WyUHEG', '4Ilk2BZa7OWZziZgcBAQlR', '6wxQuk8s6miAo3QMUxtY4K', '1zkGa0efUtOsXNKdbm1YhS', '4JKxumLa2EhDCRrKR72cjI', '5TKXMbSNXIpHqO3Jxd9esh', '0X8BD5Y2hyyC6Vaccx0AoF', '6YId5TJbwalucavwCbkZvI', '0tyTYAV1KWFMOjAL7EJWpy', '3JVMCNDPkh4UfEBnj8obiI', '2hmUr9SATE6SeyVgRe1Bfq', '4iIcSDqi069piXRq7Y5x1C', '4OgjqkP9pt1HNq5eZwLmoZ', '4bpLvrAQpvWAZ9lJDDYfbl', '25AUCNKrUS4XYwvGD3zYLL', '1EfJDym7urLaa1hpi6TFwr', '52xncL4Lvwl3I9D7V7PK1E', '3rZO48bDFx49kd29IjEiHL', '3sj7RfY30P0ZOuzu69iAgt', '51dlZwYLzof3euhHmUpSEn', '1iWoJHBrst3QgMIW6kXHxb', '5YhnF0wwxsNlZzyFbMpOzG', '0uivlRLR2faPoiuYrimbxE', '7w7v2NkPKP2EYL17Czpc3D', '7m6wlj8CXboEeoHPL5Sf8s', '2BjQpTFsjFXTHbJAfJbv6l', '3CdYZdrHIJcTGK0ooV3ygU', '53ORYkl8HFRtk3mm0t4pKD', '7yc4NIWxmBbCXwp5Jxefpl', '3QgaxpHrzybYfCNCIRswhF', '6f7acaGPASiQ3TAEh6oLEU', '3mGatBOEASsNJvNPI3Penj', '2qk8D3ZyEBXDwR02alzjXq', '5sjIhYs9VdRLVRwQimhRq6', '59TtFc8U1gqn3hcQd1nBoV', '4jxL2m66lGWk34OcPFXUHG', '3oZK1D458xeFA0EVuAoesb', '01yyE63z3FdFIytTCRVUK9', '34WeHDUbOzCgLD3ahlQwEN', '3nrjV5WWz2wYMDb965XxQa', '5B4I2Fm5KKx72aBld3dUIp', '7N35r1mrsCLe66LczBV7EQ', '0MIsNJdNUrokjdGGOvlBrd', '1tbOczjQP5g6oWMCc7oLQP', '5Q21EJ3ftlQiKoof6SX42Q', '38Yp2bVRIO1ER4zEFlhyk0', '0nAwOSVQ19qbswrjPdmQkq', '4SbkCOtqMhatjtiEBf0fOW', '6yZCXdIyG6jxAnWnm2wXKp', '32oRpD9BYsQAGVvIDWKJnj', '4vuNh0IZu34XU1vUjYMNtM', '5Phw9uzB08eYDwX5gFRFVy', '4cavePoqp7tBZ8FYfZaDlf', '7hNOYSiftr0KFWblJ6ccTi', '1wlvNtLn6q3SJ0whSvnCyK', '63icIb0bWfEa00IPqakdqq', '6rHNgj04KCZqwGnLdGIVEu', '2JwhJFWVeyvt8SEQXgmzHM', '6gaLUOiIgrnSFt2qmmUIMr', '4izm3QhYxFaqBOrYVf0YAJ', '4rkIxhozLZKLwSH2Fog0Mw', '6qf2sOrwU08PIM4aMggZS5', '4XtadMrOYHCU5QTr0sNXP1', '1eHbCJdm1FCG9r7CNaRIGl', '6tgiE2xPOzneF0huD1G1eu', '1bx8VTvb9Thu8MWpnhuP6k', '4I4FoywGhUAfNLgDkfC8UQ', '1n837Vzu2Mtk4H1vBYA3m3', '40auwv5lX0xeL2w7Kr6BoT', '5WNHSW7Y8P6th2aAW2PsqF', '6O63cFOsWByxmtFy8vPUmr', '4p18ARuCBXP8qbpzMdEmIi', '16xRhhHGkwub8XbsIQOO9x', '6d99h91us5ozdlNDvaeyXn', '39fDLM4s1IyMlxDLLRFpkX', '1Uw6qEQAeRsM7Dd82M2982', '7IBrHelDd9kUlUZ6eWawQL', '4q1x2DRR89SHVqxkRqSyvY', '1qQ39j0RpgAr9ewFJlZMSU', '7hHlls8yvqASqyc7nTYVit', '48weBBj0M7WB4i0YSh3w9i', '3X17g0Hchnzn3RCjJla4jJ'], ['3S3QryoGmumYB1YkvJNmoE', '2KQsYJA74IvrwonXugqzdy', '4EOruafleTkYnL1IAaevvk', '48tTg9E77wOTUn8P66xenP', '0JJUuA4qSz5vhiKSWzkIW8', '6tc3J6NhFZJkw0n7ix0w5l', '3VlYo96GLw7e1ceEDaZq0w', '2vKQ6Ac1Pe7UnKLBQeB5kj', '3htJqjjCUIndBa8q3ngCUL', '6sW7pp87N2Ms8TlarV8l6T', '2xblssDewgd1AA5R7Lap6w', '1BwLE6QTlmYAtosuvJcgY7', '6auaeyb8nkpRdYdJ9UFxcO', '0OCPvoUuknhRAe1x0HFI3C', '4HxnIDtqnU3BPh4yVWZg2b', '6iuMCyOY42ujcbBKUT3Fku', '2xCIMhNgOWQm1iWpOdg0w3', '6f3URcUAIeraG7jHhVq3C7', '5gXiJkxddq1pSBsHFQR0gl', '05SeBe6b4cU4jUSmdZScc3', '7MVsQrHg0heIs7DiltoSdP', '2N3bqn8GZGY3WZqAMXENIf', '39DfjCVzK3pnszkIPeXN17', '1QdpuPWvKE55QcNJZWAjSU', '2i2T2aO3SnyzstYOrLALW7', '40jbkOIWkM57FnXTokMzU9', '196T2qP29EjWxI1x6oSiXa', '63NyygAMIKSxy6LRG0eT5i', '3wTmRDseZi0s4Q0OpBUg4q', '5ALQKwz3D9lznT20eEIUTk', '6UoFptna0FeYqzMeOR8SVr', '70f3S3d60uyOdssfCZ9AEe', '5NmSX3apChYsQj54LLufIV', '0Ud1B5OYxleiuspbBXZI2t', '4zC9gA0aRcK5KP0hANQmFy', '5eXtMliOlZWHMcDDRkANhL', '3UhutiIcXo23ICdnsxBEFE', '7MFj9QO8OjHAULmCOlredr', '72nKBOJxfLUr3iuUUMn2nV', '4APG0kwkbEt77VxOuqKCUl', '2zI5GAcPPcGTknted3Qdji', '1YlQnXnGXy3oUayr7CunWv', '7eGVwau0N6LFe0tDGSgnfE', '0wYpNflDnwSC3OZqdrQCBt', '1VnqViluZQhxqcgWN1R8mR', '6YcVrEYohgdJDds0SJ70CM', '1Ph8pxls7GNLTFH7fcWxKh', '6N8qENHslBLpLYVEOP9Ebw', '29W4FPNZsBNek3jA5zKfBh', '1C3oYxpDKj4OHf4sB2gQQ5', '19TTQtvqRkqHiIwxdHCbhS', '2KMAWk6brKSc3lVAsRZIMH', '1nJv9YpODF9VdIg4zpHPGl', '7C4YA1mw3XW1fWcVqRQIvc', '59qMoqvlNat6Knc0feSWJn', '2b5xbXrNNeqxpcqSpy7JLC', '2Kig10nWiTUVz0WxAaUF3d', '1rlHnACGatHAOQrZ3WjEI3', '6EC3lo1QkeoX9u0lV3NpWh', '4mijVkpSXJziPiOrK7YX4M', '1u5mmyg0iXNefdvJnyYxR1', '6YZspl7VU1iH7IIVZtbBrZ', '0ic2Xr1zG007z8Nduvazc4', '5vc8iHgY8M9XyaKFOfWIil', '6PpgydwSFoSDoRtFWTJgkJ', '5ytzcJ3FZhJGgQupUva1lT', '6gS6GzxIiIADmPTa4xYvcC', '3QY81cbRYFXTHdTBNVVVb2', '2dHEwheLsfq6X3AfIH1AnJ', '7y00fhiUdviML8AhwU7NUL', '6CwZnd7cgbJzStHKhbUbnX', '03csHhetcFo29YHV4Z9A3g', '04goa2WnJSttcaWR9ZCkjQ', '2nuFDRMV9ePZJba5V94AJ8', '6PYtLNuIDCA1TZoLSaBYm7', '0LIRzPCFAI0uaKNyYMeWBq', '15S4NfywNOYUorC4FzfPqW', '1OXxQpaCXYbPe3lYjUdcuq', '5jpKrLqZrBe4Mm375dcaye', '45GY1sw2pj0LitunAGcMz6', '32uPxKFfDNzcRHWxYhvF6S', '6RFAXWzgMsqIkfZBXoFi8C', '6647V02cNn9NzfJeaM0baS', '41CsfNQA2R4quZUDGK3xFH', '40luEHX58YMtrD3cHCqAew', '1rGoVVHRgZB6OTYA3zUbvO', '1lMgl0D1HZVvtq16pB13ew', '2pmUHfzCVyrWGCUkmF4xah', '407HWwYCxddvWkqGKybLkr', '7mv3d734tlpipCOpjEfLMD', '4m33gxxb6nOSVYMzB0Rm94', '2dVHwR9NRScJP0Ss4G7t0B', '3VKkzhc2BBXqtDDKgA1L8E', '2CTX0IxBoq69Kq4trHCzAD', '2htHbhNj5IBJDk651FeuWV', '1cAFBWUGxXphtu1uhf0WDT', '0vXJqihXL6TaC1df5Ev015', '6GVUfirEB9jLZzk1lA7XZT', '4ML7JSFmkkJipKldJqZGbN', '7kVFp5nMo1YkcjxU2Vw2aU', '6JwEzg4dQvtHCqRZlOIgsZ', '6n7faMnAT5jZUqv9b1ZTMJ', '2z4sCERkuDhZ1heXEErFKq', '7jkRZ5VDXwsJGw4AFcIiSq', '18sKpIGOaFlR5256AqCh2E', '6F8lx4JLdKD4rvUxywo0eO', '1lzyGq6cCB13RuBcf8oJVH', '7lG23ivpXWoHsTkMxN4ULo', '128XwCk8V9NkrYS9kpaIOl', '45SpjOwyC6NQv0dCGnTQ6p', '3OB8R31OANTKUVPQOcgdkc', '03z0ld7Fs4mI1PfWTqRc06', '4qjJwcyJI5k3kUnGkyNyTx', '7vgw73gZZ5gAIxK2emsSPU', '3AfX07kXd9Kw2cfRhcMbuR', '7yNFFzl1njPs3ToiRrWU9w', '2HibxdzVLGDPR5GIrm4cza', '3OYcipXDDwzqMoNgfMf4az', '0pMKDfaAuedXTWShF7Uk7F', '7iXfcP5kZ4EPqSSmySAUtf', '5BIwaSlscQM2LmYTV8VtZ9', '0SCBGl0HGDRkgg8YQmtCF4', '2Ft6Kv7kxPTTO74PQu4rIn', '4yf2dXdO6U7TVDXZMbm8nY', '56bVlmhPJ7OfRjMIfA2TBQ', '5lnN5oU8PRwBjmgAJRLnya', '0Hkzj6Zffp08IfPO32ztb1', '4Nwu7l1nvV5a5ydeKJQkUo', '0rSYXMt7LzZgQdQuF3X4DK', '36Yfu6Yj0paZUbDwC33oyn', '1LkvG5mQgD9xiroaVR5PFl', '05657jnifBqpCQQLDpujE4', '7ksXAyS1ZxTrof1TxTF6wZ', '4AdwCO0lBUKuqN6RHmfydz', '2YO2pH8igKZ9bMbJ2kJGB9', '34hqvaKy6jIvN2hNf1sKlq', '0VdvQpqCAfQWGEbMOBkWEr', '5zOMhOIxrxt9ImR2I9q06R', '3I9Qej7viaxaK9IUOtrhal', '4bMTSiI4AC7Mp0TCOMis7A', '3T1Rft817cZ3pguTvaWaz3', '3kmvXhorXrYxDH7cRkx3ZK', '1FICcWbkaEb3ofxlFws1oO', '4DIc6FvplSlgKjH67THmX7', '1aVMByzod7x5EWG4TiK9Fw', '07zF8MjQPsiYUXiAIGZ5TA', '5eUTjCgIZ8jNCpQRHbxltu', '6JJz3RoxI7VUDx2IHgOGNr', '6dVwWlgvlxfKRVLkZqfFGd', '0h1fhuuIYAYjxlvNxyG1Vp', '6pckSTzsS5DMpLFE0G4xRh', '1uE60pEQpaIgUT3T7Voloi', '24R9qi4ZTmvnCGJnjg3eqn', '70jdWG9sLb0vAWuAXuiDbX', '3GY9leJtXKj3ztZiFNB4li', '4sghNjSZeUx5DFTADuPhPj', '3VHoSzjyYpM4sVrfQqdHd5', '0X1DCauLa5DFA8iQPgt895', '7m1mFRaRjFbQswDVSLTIka', '0qcFr7sptcLbUw1cbssor4', '0BhYpMRb8Y8Qu76nu7gFmh', '2LfEVQ7ETewcpbNa2IVsH7', '21XPGPsghJTjnFvzVX8wUe', '7dAAKYBOlPiG4pZxtrF3hx', '4iCWu56IaaF1zfz7HLX4hN', '3QdHMGxBUKu2uGZFDLEdwn', '0b4lkZqMBUrVjMQTlLTSMK', '6CQHwTCpNh8suN7AWQzCcB', '15kbR2WyCZAGIn0bldZctI', '3rO0S2HRXs5QvpLbTSeIcL', '5C7yvtFPo6zeLkS4jzfJWP', '4cOnCdcml9OJO7LfXqWxPf', '5Wh14KMrdMwRzU4lU8Zc9z', '5Wbh8gxGHPtQIQK2AplA8i', '1zZ74gVRdo7Irvd0UEt7uf', '06PUJCdk1px2oPNZC3mZDH', '4fj8PNbbwGXBWHKodGQhfD', '3vtZXD4r0laZm8MgRUUTC2', '1yO5GSVqUyrslkhBcX6saj', '5pY0dKBL7RzLorJfjzl6mo', '3eYt9gyFTUOcqKoAW2gQWQ', '2W8qlNiQFfQJTE6Tj2EIdU', '3yP7LJ0wT19xpeIJxJ7GJF', '0xZkDM0jIfrFATSeaGt9Ms', '0MWd2kxEaYwZ2REf6yD5fQ', '0yw568vk1Hhi2A0HoV6SqX', '36OgYCDxrIDYw76eEAeMQM', '27Rk57RtVvXDePop2Toln0', '3F82ezKwcNctesxcgvlL5x', '7ugNYbNvdp5fz9dWLxd0GT', '0VgyqskAG7vnQto157aNWc', '6nAOWmyYPXdqQtAJ8AdpwX', '64APSYMq8SznNHfk8siTLw', '2louS5loLhAS2ysS3ciAcA', '01j3k31n8pfn6hb6RMLUBk', '43sN5RaFc8vfqheu5Je3gy', '7LyM6X4Il9BReHH6MMEjyz', '0NhC7QKdjDqwq6qi70ZcNT', '3HHF173MIu4NBRr3pbgXsB', '4JW72vPkXNyO4XW2pupOlY'], ['3ygLQ0p0Leod5w6KC1otBx', '70yDbCeImYqhxCDRU0qXpd', '3yO7yAkgfetYQ2hpYb2AJX', '6PtT6ZnKDSmeaczTMZV7dl', '7p9LTCdkoZNL24GHLExbSA', '2rMhjmx6ALZb8nfmQpOFa2', '7qBLZYyI9CUH3rVqNQnl3o', '1iwTy2uKXpyBTGKbZ9Kgj5', '4fcravOX9bIqlZMXgKqWV9', '5gZbaD8ftLCQTOkbuCSpis', '0TOn5GNhITcfhKiZRuQHV1', '2pSeH1YQCSICs2knjs7e5o', '0239bbtXcNjUVZ1CkChY4K', '5hEnBDgbXhqEa2mUr4sFVU', '6TN46YwH8yprurqRB4lQ9l', '5AmVxPk3hf7Vk63IwyiSz1', '2GiU50Y6j2oioclfkqlcC4', '3Sh4VMQ9nxOjw2EWn4omoa', '1E7BcIB5KcUEgeivGlZKy1', '3AxsN9foojNcuPI9OXnVIB', '4StF9VDinlQNwMPcWhAfjz', '4HbGCzaH6bTsF1FGAESEzG', '3pqGb6Yg2wSDLTp0eddFlz', '2NxU5PeN2WXEqjOrzOi1m1', '6Xxksk0PXng2x9zF30Yzg7', '2TsSOQsGVFwKfOZLra0x4E', '5Ts3jfNCNXUoNeDOEfhqv4', '0V9yTHDVtWgzJShycRhcqH', '79MRsgrRBZM0beXu7KGgO3', '13FUMh8s4eHh9QaTaiRLfE', '5lr7bOFOEzL7I42C9uaBBm', '3MT6eictU27U5iyC5zX8d2', '2EkYuzS8qUbRdqV5Bjnnin', '7xC9HFUYnU5o27DOQ2QFz8', '69d6UEZKkFtQNEDQyntv7S', '3HwPfR9P3OqlId9ADZCrrt', '5eXcXox905vgCOp8bE4TJI', '3z2RllPfFPitffsorrPc0J', '3wa7yvWcZv5Sv6pxZvIN2U', '1AsNZ2csoPw2IHm0XLRFrx', '0QSSoihqhZmWI3aOBff8oY', '43W23zGmvcC07hP0OoWvdb', '428kqH5lzImD4NkPLoZSrv', '4bZvft7DVkJCAslix0FqWj', '2BOlbck6FW1kya9hMP1HFP', '35YknEfHHGIYnFZ8IU5pu5', '0zfoaCIbMIVfNPgIY54hlN', '1rL1br6e5ksgcTIkgRLEiF', '071azGlUdxShlM0wSbBBeu', '4LR7zJ6HkhAJFhQm4eTfqS', '0tcS9Y1tCt0Ffh2CdTXybt', '5UMnYHbk0p2Ng3lCiVosMZ', '4D6h4h29rGjq8k7anBIl1O', '15np3AD89wmZNE1pXavg8C', '0ZxlPDRLLKikTjXeQApbWR', '0QXxPjOe7pTq0MQdanjWrx', '2EBFceCfnsuTzrVopJyGWG', '7MDyqTQYlHkHfXuMzwlk68', '4jr1tvvMa8bYtXGQZPFn3T', '49vmN6VdGNxnBV02YPnEIV', '4wbKWXROzlJdXbtqEUc6Lw', '7AYc8DXO2XO7bm4RH6WfqI', '3zE5pYwFbC6sSjMRjvhePx', '6ZVmXTFnNQdpKUjDADM5Iq', '6vGBafdEMRFhPiatbPLfjw', '6PBjVS6WmDRbFXYe39j8hN', '4AD52qozQj9sn1u5OSrECm', '0lKD2vCUwtVhp7wLhJoyWe', '77XtO891xN5zPjQ6hvZkbW', '5HhzMmDUZoNjKa5GBpV6WV', '6THzRYh7cRGUHAxQjkqKT8', '5ap6ICYu15SLUZ2WUdWUBA', '6XdW7adQLpt3o3gIJqE9XW', '7EmimsoK6aeXpavDhI5SgO', '6S0frS33YQdbRp0JH93cut', '4C8m7u87Nck0PxnVJb0JjP', '7mkbVjaHNgs9uBOfzRKGYm', '2lRquSJcjNvHMjlEl8zLbg', '6PbOwNcgDKomwkNOzpiA3M', '2a4AkEFVA2nSuddrYs5Xfr', '7hAIuKrOHFR2bJx811NzAR', '2NsX3CredBVJ5wAZcIs3U4', '04WqP7v7DfZphdiqdDZU8x', '5KQBeEusXD5IQ5NIjxek94', '5uM73LuSChLxZIKzTqvwUb', '1W5VvMDlZm8pViaMFAcctc', '2k8s1T3zBIerxsGyA3cFeV', '3GTitzQCtoUcVkLKAY2J2G', '0ApbhEbGARjX0LGmI81jWi', '37qBQkNmniKSzKQSaF1gOw', '6KO7rNq7jfMLQ5oQ8If6x9', '1imbMwZYgwB2NCAVPkq5sZ', '0F5v9iMoWvTJVQLrYIH5Xb', '1FcWxTM72potsWHiPQKmZC', '6cZIwqYksHLjlRvhMMUizF', '1ZoIbk8whEaIhk5q1UQYre', '7AnZjCk6I1Nf19w2Igpj4H', '1sbrmzh83rDkpMTLYXzLdg', '0AdCrGQY3vhJvKNUWeQGQy', '1wwnwY4WnbBfQ77U3r4ccj', '6HvalHc8PipnY2SaarvTtA', '4cEyA0ViSmUTFKF8i3agLU', '7oDabKiKmedjlCG29ZHZsg', '6kDPp6vQPfTLewr6vXZYMC', '1Cvs6hwW3ac2JiTwiGlp6g', '49HaUMpoVqCFErbqVmiiLU', '3WDYzCuTyq43OzWVOClBXk', '4lJcvL5WcpNky192UQRqLG', '2uHuU0pVMlBym5w670ZXYa', '3v9Zk1tfOXS0qvEf0HPouL', '4mh0GeHzEkgPkVrCxsKQpM', '6MUBwmuJ5e1kI1mAmHPHlT', '4I9PfkVAq6KhX2IyOjUhyL', '4nLmlafgbNrN49aqbsnhkm', '4jQqv6qtMOKg64k7tYBqzR', '10pLstNFIIkLZD0o7R8TAx', '5TCT3htdio4Hik2pF12ky8', '18LufJPENHQkScaoTPZLAm', '0VZfpqcbBUWC6kpP1vVrvA', '4xsPUaS4EwvnxnOgU7AgOF', '7FjCHpdw02MoFqpy7d1DJJ', '2HRSlLWvRjJ6mnxpn5Q99B', '5K1iPKk49VzQ7QFocqwgYx', '2JPri9wt0WCXMikD73KDpD', '3m2ghU6Q23fLCujGXeUO2r', '0J8pO9hK5KnAFWaLE3oTfK', '73AbntsjRDiGcI0WsI8rjd', '3y7GFNHSVQoII6mOYTvJaO', '02bWbrKu0xnt5nt1S6xCCU', '2fiAtiIalythHfTVGJRJWM', '0VOsr8ByGRlLwZSfB9lpQ8', '7uiDWyPL9wjqAeu0xizq1f', '25ggwZmMC245VCZxV9PTYQ', '0nARPYNjb8i5X0R1PYtian', '7eF49eqkrZG5wFtihgZePd', '2C1aQIm29aKkdT0PHXDr39', '3fiYkXoS0nKeANVXh8agRA', '63VSjPh2b1FV5zGlFkQhxb', '2UNqwQnjDTvppqW0gW3frK', '2cmFJoRcSPkSkD1yllBGwZ', '3olMGtyLXcjiZhcO1CZPi4', '6AxIe6nptUOe8jJ4LeNptt', '7Ek20wpQqKamII0X4lPhpA', '1FQ0OCZYijohM9rb04pv4e', '7yh29dEvCaEWoTKOiGEK0h', '11VtEIEQN30XWjYbmLXrT6', '7yawHmXHreTbNJ9wu1UBs7', '6GM80waFvLZoWUIAcFE9ZB', '2XFcxayFDZXADbCqlSfSjK', '0q1UNHBbjcqP218qGxXxXC', '4kSgy7KERZ8CIBSuZSwnXP', '1PMeCT6ELd8s6QQUjMTSAN', '3weJSiTAEBXFb2GGzQdzDH', '7ABVommvnBuEMEwF5tTxkW', '1qKT01W06KFPouzgMpoULZ', '4UnTwHRaNzvcCcfrQONEKq', '5fcYFvhlE6Yf4yKQTHwC0f', '03k1nPwcKgYsdLtjccDtMM', '409FnGPho9uuF3kuESudPh', '66k6nBXFo6of5ckPWCuCSi', '0J0tDTwFnu3cY1nz5HyjkE', '6alRA0JMoSAhCILVd0GWvF', '64mVfC7wBCcvPm5eYPnHVI', '3T7fgs4KaPs3HUbhHBizyb', '26C6ieZHP6osxOV3WKiiBm', '31YWtFP5V22xiYZ2og7HOy', '69r1MJRmRHDdyMwVYnok2p', '7baltA60dF3DOgo0GoXgJm', '0DF5YOQ38PrgsvT0whSbEH', '7KuZSebZlQto9drDc7l5tE', '51YuSJZ2Lr2fdwq1Y0cnIl', '2kJkzpnVACN1eaJhMRC5jJ', '3yczgLoQTWStIgAm1Mr0xF', '1xyLXFq8PsdtkBeTmWqRjQ', '4fLE9MkUAcauwyK84mkhl8', '4TaUNytRspBtacAOATKvF3', '2ravsd7xzOqws3jYqVQv3v', '4NACq8ddk17JnMjHVdVASi', '2RcLS96OmD4fLXofGRlGTf', '19MzV9T4UTnjZdQEWL3xFe', '4SszPGbd85kgL72aptI3Cs', '2UmyDZbUjnhE6tuhf8e9Wa', '70C6u0olQKvzu0wTCul2dj', '2NweJbjBo0jbtRgYOalUDO', '44Jnkh0V8VTCk1hMcCID8Y', '55x8ZVtEKgpOHmLbidRFeh', '00jq3BcNQsct8nHbaC5Utr', '4vs5oVyprUnwwcueOZ9ked', '2udlgcqCb6IBRpLIkuVXxe', '7BOmogQasErRhHqjUSKa1o', '5mTsY0boKtT3YqTPcTCULR', '0ZgGRRngNcunvsLOgBEJxL', '1gR0ICNJHA2gYvV8X57ktc', '53iyHoUo4uZtoXfJGOjnqx', '6RvOIQPUfQg7kGde06Wdas', '1ga7kXhbcB4tsOfpZqP7UX', '7JKrUr5pDqLDJu30nsSig4', '38YBtxlHopZHNyAWtqWmH2', '3PjSViYxygIzwIDO2dPkyW', '2IQajrWbgM5MH4kKFLe7AB'], ['2JIjBQYWndDHEZNTNv5C9t', '2VyKqSUlw6R8BlKyDRTb2H', '1ZaBZfYeCQoWj4ToBFE7Wg', '2diUVDFxNHNzERh89Ud1PO', '6QMBZIONDABjF1ZGDFwcSM', '2B97nCsJ1YtOYIbioQp81E', '72tMdtrWPl1PXHYk3Y0gRf', '31brn6iMtN6kB5gJIBVnhS', '3FeDgGoUiDRzSBXexOs3gZ', '1wtr5dUZ2Fwc4D3Iu1DCdp', '3jf3D3t1AT3tuNLdbDLBfs', '4zdQRyM9Pyi1s2H5A5lnsI', '3iYTHHefhKZXKxsdyV2QY6', '4mgB4LFKwuZYIuqFFTsrPW', '7BLKSzIiVrkhVe0tQFTtJg', '39W41IKr0qeGfHkMGZRgUz', '5e1PICDGQN7VplhLeKVATy', '6fCJ2iyUhivh8ghIqBQ9Nr', '4Pgl4JWg99RspoFbmSjq6P', '6raSpwYnvMoNwAPM19qJNO', '4km1u4CDqjbRX4Z8kAQail', '71AaHNo5ZV6AIh7kF65UTY', '1LXDDX1G91YLmWJbgSdquu', '2jOeUlyI9UeiGlPp6JYVAN', '6khu4gXbpy8qG2GW1UWLlI', '3Vj7mQtbuQNH8urnTsidXe', '1iHqGq35jAzFcUJepCqcLy', '5tYWEzHdJKuFot5aqdDKx6', '7kQSXw1ezgx6LowSSqyWsy', '3h3fQeu39Em88KEHF4zf6t', '6D3nMYU82Nkl2qgd3b2PrM', '5cWMQfuIovWhCrnXC3szWn', '5yWEBJMpp4zuGt83GYOyHE', '5vIBFEypI86kgUNJJBCmbN', '5XKUixyz4Zt5HwsIKmJU52', '0CktkOo3GxodXvz4fXJ5Ld', '3VnBB3I74dmWXRRlML5TVX', '6l0T3BkqjNXmCCqCNYqJoE', '4uQKmfsrx5mLF1kcrJjASZ', '2EK7UnhMWzCVnrI4I0FN44', '1X8tXB79P2aFcWVGkdiAYq', '6Z07gmQdxcSmwR1iVNK1Yk', '26RcB9SST53vdYfYfMhpzf', '2pfNHK5P2G5YNNHZWVjUMP', '0m7Exsm8SA079gMp7eec04', '4yHRpNzpFRWeKS0WinqHtW', '5kYkybE1CkN3ShUzZA5n6A', '6YfW0Ao3gHA2b7G27fhpKj', '4uoEHkaVhlvgoCTF5PFJMg', '3vWhIIVkzQlg7rwn2gbldL', '12pP9XdVQu8HhjUDAbZRQ2', '4Ub3q1CU9YGXR2bkJ4wKwe', '6YCBZeDU7lFUw0WomT7uCj', '4Aq9WJgae8vjDQWFMiJsLM', '2AIGUJ4j4Bd5q8tUfurZnD', '6iwoiGbEuqmejpaGrxJWiT', '0KPfijR82jvlPTnt3Hmu2Q', '0EmrOr9gdxrcM2y3khh72k', '18cADc0sGSv5mLQlZzX0YO', '6gpELhsiYJyaL13srOlTMQ', '0jNHdwA4dCJkYmPBHlt4r2', '6tA81ejhPK3Df3xrDsHnIG', '4TMkyxS7gDaBQaJRCisJWl', '6TEh7sGZj65kb1wKoZMkSU', '2B2QQYHbX4eTnmz2qjaPfT', '6LZFCnSxdUJqXrruICbvXc', '2nZxUVkTnE2dfocWtpr6nK', '1dqR8owoT4vz61AMGMc0cA', '0wCLfTeI6aOieQnDUmu9Ix', '3vjHLrBtmxbKOk01YJdr5O', '4JU3dwfdYvsBf0c4MOerz0', '1BIzxJFojkeKpju3tfHgGI', '3FqSsjOig3Q0MDEV90x4S2', '458j2uOah9F6jTXzX0xLtE', '1QSrkrMmfEX0V2bYLYSE4h', '1HxlHisjJGDQLJzg35NVIy', '7jRgv5rTQRklfPfRIQ9h6I', '1t5McH091F60IJwZilOBPk', '2t478T5CCDyRz9IwV8mE4V', '4RwE62FqRp8gLKq8UrJy2b', '3BQd5cKQFeLS3S3jdZI8eM', '5qMUzoMITcF88UypoWTaAB', '2CCFjSEgiXofou5h3azRa0', '71hJ9e25Ub4XZwiE1FZAjI', '2b7FC4wx5lphMB4FKrx6aC', '4SkgzC5qxNelXWo3zJsP5J', '0049OsctYNaJ5swOwvPVls', '1Bq02QfRLJHEfGZGabm1hl', '3vTsUt7QC2e9OiTPAORaCZ', '7aINHNJg40REiMEP6G2Zdq', '25zL0DjNC6mr6qB3F5iSWK', '5lAp13nSaA7eHafwqV5ilp', '1lEZC1rWlusGF0IC6JxR5V', '70tbA3VypSVkRzvJWbYbfc', '0ieIobWxRuLYalQz2WHKHR', '42dGKCvDkq9aLYNzKwatSu', '0jFvYjzBeEgvfwJ0TSTNVm', '4Qqc4lX4i4A8uXD9SBQy7S', '1MBLuaTt9FmjgW3AVAlIKo', '5q7BEgu84UFNBDKrbIGcRc', '7ajTsnmCl0uAFRvLWo6Ga7', '5wT8Nw3HVG9EBgnaZtos80', '6Wz5IiVGjSDWQmMlPxHcjg', '5Ly1Hq4HqgMOtjLjjzOgXO', '0MCtzZcGOBSiXSpLxipORS', '7aJrA9ExAuZLUr4OdXbwwv', '6HwS9JJsya66GMP23r4VP7', '4RCjZQTtM2pXauBjFNRcGQ', '2M5mmDgqCgxxJzDqMNvsbJ', '0wngtIMvcnsMdZbd9xukhI', '5c8RLU4cABQz4E0AWFc22P', '1FnSCQFzl8gXc0YGo3d1gf', '1uFmFdP4khly2qaImrnOz0', '1l4otzwhS8LnLsWKducSxa', '2ZsIEGkniMFdKLhMnIdk5X', '6pWUha4KRUldi2JQ2epLpF', '5tAlOeh0paHbCx4KuSGyBn', '76cCPFZYhAISV0seUjoBHy', '6Ic0Ef0ztGNGTirOaWNCUB', '75uAzOEJH0LyH5uDvOCOBJ', '5mfYEZ678jSqX3VkLfO0rE', '7iUYGZURZOX9qhZbICjihp', '4jad2Rm1ff78yGzm3XTZKC', '5vHWuInWEuHAkjeWJAu3qz', '1Z41nmNKq6E8nBQqRQheTZ', '7sFEcvv5RLUs1DECRJDKRI', '6yqR5Ss9IcNYzE5jVPgWyN', '13bL7PwSrXJ09yfBcq1f4c', '4iIMSWO9QrrcUE8SQEdBcA', '4Cw1wgE034owKiU6pyeHuw', '1TrGj5eL5I87g8sNGe0xTs', '5WhrwlIOMIGBLH8AVhuvJF', '6ttzwuno3FKJSdGdtXM5IG', '5YzvReYSHL8Vm1VHaSMr0X', '10ZdPLIr6c2dFAALbRAFhG', '3S5CflXChDW1V00nr5aqhk', '2VkWOPUqwKkeBWMqcFx0L6', '27DZhqwvuoNKv6gZDVonz1', '5UgGwJxLX6i8u422mj1xmy', '2VVXvoVHgohWTQAM4fhct6', '4mpWT8u17Lpi7bMOrXPiJJ', '3WZNkiRvWTSI1VwZn0Gw09', '4lLbuMCdRlia25u4RwuiXz', '2n2wYLNi6ZeYvyII2JpLKT', '4TJaPKWVQSS3XfecPldvhk', '4tXvolMJX9FQDMZaSVgA12', '4NrJCQ3jxOl1fhMj0F9p2G', '5GNmniRYfLh3twHmc3T7vN', '0IyFLwxEtAB5jszehTpWFJ', '5HAv8CH53gDzjRHw3s2TFD', '38cq1JOTwmZbNcv3SwXuoa', '0B3eNy1lyjAZhLgZXGBwbO', '7bVLsTfYqQKkYOpUglYAp3', '3NBwTY4MhsesrRaS4JrfT0', '0P5sUv03BUhlHvbtQ9l96V', '7JHxvhw9XPNKqtCt70xnAf', '1wrSDOT0XjCDAU1iwSy7eu', '6G0LJl6u6SVoDoGIaPoQrj', '6ww5wJjqXcuh7PVeAF84Pk', '56EJ8xSxox8qhQRuruKlo2', '2KWsDttfIMjLq1rpyxTQX8', '0LCQjuYkhJFBP3ZSpBmvHB', '4jPaRv9ZvejfMNNMsKidlZ', '1PQNGPYni1V1nFdLLyF6D5', '1lHoOhw2kbYv0614Wj72AM', '1kmPba3K0wZwyVJXktgJii', '0dRQr3bESvbQL1opUmEXlY', '0Nar1vUd0plNmYHqPPznaf', '4iYWdcJhjLHD9iHCXqnv7z', '5yCcGn665DF9QdmQBor5hB', '3jJdVfjC6emcsncxWd16Ud', '1W3Jws5GbVKXSS35HmMKnQ', '1a8bmZL1UIDLb9XqSfgtws', '1ivpRrAa7wWR9bOcNzVr7g', '41BSPX8BOIC56WbTjJc06M', '623xipOO67LZgslyiF58Mt', '5mIxXHkKnD6sq7Wcb4af2u', '5r7iScQieYhKk1vit2T1SC', '3TlLFpN4RZW1ecTnWyWM0x', '5S3xWhvZFcXKOogUjkb8od', '0SljFhF4AFN2i1Ntyfq1st', '5BlFafrlExpf0KSlIOahrd', '0XRhBXYCpp2CBuISbi8dgr', '6CtSs2O8jBtCyfW5Bjg8CB', '1ZQWz04rXXSWX0cjRIUTfb', '5yY4Ijs7l0cLEftBaOL8X4', '3e8jdbusZjbMKWTv6Zv2GR', '3s3zindCeXj6wbEpjlP6xX', '5b8gIRFCYqWVuOyRqfJnAZ', '3wzXQnhHVjc6F96gmxGWLp', '6HxkWVGjZV1rnLDZ7DYZig', '752p1W4kvVSsrbESrs6iX3', '0U6I2Nkiv3NbSN4I7Ym7yF', '3bjbpsbl2mzaqFJcyQNGjE', '0gGvbAcQBdLWdEiayXBg7R', '7kaTOk3XhLr5QIC7hZQ9fK', '5xa7wwrQ6oXuBaHJEpMUje', '1UqPlv6ScS9FrO7D4o5rMq', '7N3YoXooGpspOBkakIGzs7', '5F1vipfT6OWc9oNkGQqzl3'], ['7K6Uhkl6fOVUOFSWuM6Iu8', '0stxtqX5Sht12EZyYI2sjW', '6Aq8qvliiLbYnxkUbse6DT', '6nYabBtp0o1uD7Tzr95P0m', '5kMRm3YJv7ZyX1VTmVZpdN', '45anIT1Lg5xrUsgkznbwzm', '2BVgScGR0GVf2FQCP1B0OY', '3SvVSF8Ex8YyCjjaW9bojd', '6tLZeHeJuat5gr4ygTW4Fc', '79zqLVUohMiaACESaBfnBb', '72tss1btQXuReBr6b4oKJQ', '1LKnSH3ee7Lv4AU6cohnTO', '1Cr2fJmkdikZdux7SXq3Tv', '3UziAt6SZEbzRThnSMyU5K', '5dGp6sdifJFkl9eZA3WaKx', '0ZVSWcJIf7cvycEn9HUvps', '5Kp6a88KudsUrg1FosSUdr', '2I4WRSnG0wVgkbSasDUqKp', '208eKWeHXifDir7qV5DQYB', '5J6tUHPxVyzd4jRgIat5uc', '3OJiIetHH3ef9mwP8e3gH5', '5zhUixQhwpUGFOEf63hZVb', '0wVIDHmrIRCptOzMvVq6nK', '3yusk4RifBR0AXb6ZYwwyu', '0t0Qv3Tj7sI4Th3T2zwhsj', '2atTNlZQfTUpZcmRzf9xRb', '4JXOJ132JRGX7RGdJ9AtzE', '3YP86Xx0MYwRzAfshgzXTP', '2himelMaFON7yDwQf9P8Kq', '2oytQAEGwy9vh8hbGj1xba', '37oFD4hWQa1RBG9xSi39R6', '70z5dMlsS9fPudWdQ9ebqP', '04fctEzNDUahg7W7dhTnvb', '71AA3D5B7W4Lm8uGG5GSO9', '5K5Bo0zrf3aoNvvDpGWxdK', '7C8OEv2qzaLl7hhU5EIrCJ', '0iFWhOagWgnXvcPhbb63qn', '3d5jCAj8KI62xVo567NEGn', '3uBMvagrQmxD0fFw5W6fOS', '0J5wtQ0UNsi3GsBqx7RsEb', '1pLIhrmDfoUGF3cAAa0aMd', '32NHjtLnDaq2cH4ruoZ8pH', '4Cjw8xL6od1fUWcKJHCHxW', '6k201S3pA59wTeZ9NZ386Y', '4VfL2DMccZY34iNewTZKWZ', '7fhMsL9VrGfy1j5nIRk0vh', '2NiqWkKEoSIOSjP7xtNE2F', '2A5eo4AGjzJfiLHNSvlr1x', '4rLIrvfZlqHUdU46iaUe6M', '2SB4tyblu4sx1ZJ4A8xrXE', '0fUhZu1asF2EgEPctPsC8v', '0qm7fXxjgQ8pQc6WpRE3yD', '3IOfbuF67ilbd54avE0h4P', '2r6lIp87MMXvjAfJRg7Rgo', '2Hleh47rixMBxvNnqmx3hT', '4kzjbngQoKb5EcguDEhplf', '2IBJxQyIykOBbtKZosjNvI', '6hK7aZyA1YRe7UfqWaqLou', '4t5PSWEsLQeZ4i90PEpW9i', '5OE7ILV3uCBLU4vRbuOm74', '4wEvh3ejiwFWq06ux3UIOS', '7cuWy2JG47GHXDDsNrzSIa', '2GA6waoTYbDuJM8c066jXu', '4Hx6fdHGxv9nOZgZShbekL', '7Dlr19bDtTlFFYTAvEG7k2', '4gfHmDnWsC0r6wwvv9ilni', '6tkDudfPkHyBopqdFxQBxf', '7IBJdQWrD4mmMEIr8bnpFK', '2FTKXAfnRZlKfOSPQnvc2O', '6uEYJ1Ag6Hj6GlVMbNzh93', '2MUwK8zH1CtmRsUAqyzrL0', '6U6G6gOdXrrSIvQEsM4fsf', '2VU7QQKSn6eIE2e9DY52dM', '2OY7wFfc4FIedjHBF95f9t', '51SbeDACNjwd4GtTeeQodt', '4n4AQMO9DUYVE1ARtMe1Id', '1PRwQWddlF6zWt808V29CP', '4ejtAuKEfG1fLSDPjWm0WG', '35TkC5o2mnTjREHgS8coYY', '1mI8wSq10B1xcb3Tvejil9', '2zrc4XH6zCkuYIHjs3DM5F', '62iU93fUNvuhYsmVAZGk8f', '2CUoWOcTZtUfKD1DeRFFcK', '6CIENNuy8mm01lwYaVOjIb', '2Wk6e4zTLTYFofSDgprBgB', '1VyGrIxu31o7efsCAqfubh', '5JdttIYzORolkaZOiAmaDN', '57ZSwCZ7iILUL4OQ7bnwTP', '0eoEJg0k4tV0Jw3gmTfRko', '58YRfR5mNZGK7nwIEKayTf', '6HO4BNXiFyRCFlgbnyPQkD', '1YTbPotJq6t9xtCPWbsxs4', '2KQne4laECtZ6uViV6BE6a', '66nq68q3YG4Pp4N8CspccC', '0f3hOsmdLs0w8mbqtfz3Pk', '0Qp1COxDToQ1vsHHrBrMDB', '4BuLTQu4yFpMRmIwK2tXvy', '6856pdRh7nl7CYwHHl6Bfh', '7ajQKzORUThQQYgmGOhIHK', '073kz2Cl4k0SdcWzbpNQkn', '2wslUCRwjUEjPkwUw1BTBQ', '5B1jm08xXIhqiw8ufQlqR4', '5FI68jaboLczr9zIUVfQPW', '1Ewzf0JLvLiLBOYTZRxFHP', '1JCJyK0FDa2l3Xvy2E5Z4u', '3S0yyrqZAIXvLhT02kfkYQ', '2R43pT4MhjcaNqZPilGtkI', '7uu3HVwevNc15mSUJiwblO', '4mAsd6ureHB80hRk5b4Ni4', '4U8rCEbvM6wuegEVUZ87M7', '7tLRdtCzB4SZrBDf5Y39Hq', '5MqoSHN1RNzdKd5T1QCN8S', '6XJgQSTu5zBacxob79gFu0', '1u9ozOcFTFQkjwhczh5zoC', '3rMsoAdNblV0mrCX8wxEcB', '4KLH6GGDeD0FFxjlz2ifeJ', '5Drx60Dut5MBWhJbjhe0Z1', '5mPtOfcLPTEwUVf8hgH0W7', '0pXSOiNK2pCoGc7X0SZ24b', '5RB5A4Syq4hnEof8q1Hn71', '0sj7X3mU67gtQXbsrjnpyP', '1E8vQ9Bt4bRKWm0NTzSMt2', '4OPpxiOt8TWZl02rSdRygL', '17bjjpImhGyDjpktAio6L1', '2rovPgCyVZxrrqtnGz6bwD', '3C24egLjqcCmIMgfztqI2r', '4Qge0wd8eVwYVDZN2XxsTn', '0Fr9ysvU9XjFBMl4Rhl755', '5e17Q4c5YyPNfFk1Fe3IwE', '2310EYDUgACUuc0GbWJ0p6', '1ZcmhA3Jydo599FFbUzn5i', '5dNwPmkdZFN0PBpWnke6pp', '4G03ku5lPidQGSfH7uR9No', '1gVrsEPrtazGUMxFv7xh1N', '2RQbcW330llRqm8BdqCO3c', '6qubMJr7QEW6vCHogJU9u3', '1dSOtAiMosLW5kyLkKlObJ', '6I1gNElYJetTzK8ATKvlD2', '49vErWAk7BLsLccmRxngH3', '21pxfXxqyg6QApMa5OCNXd', '0qxI6lRUwws4qXyriYiINB', '4bhPRYjwT2iUjeaKWHJZYa', '4O8R7oee0PTMSPVSJd8zFX', '0Z8zRVOCexCTYHKBVLX3qo', '1E9VMI8GPercLcilqXLfLu', '3if1Yx0WjzvX38BG9ENRD9', '3MM7Ruf9IwTT3OWWjDIlng', '0aOQSNOuSE84kP4epEGVou', '74lUBySWkWlasy8qCmtXAP', '7u3qNsonN2H8rqAvT1vjIW', '5vpvuv9xaddqd00dzpxTzg', '7yrj1xq9wOYCwUjwBAOQH1', '0bosE8y5GavdbMrDhEcSK7', '6PyV0jFaVWhEKdjscMtiAU', '78dAycV2sXjUhhhCrmgalT', '767e9eYAfk4bApi2vMIK32', '0LrGZsH52We4H1lDNQQkQD', '0D5WxMvZQ7kZJCgF0xu2kJ', '4GP1p5en4emjaN4LXqCanQ', '035cW9UWTFa3Hzo6Ssao4x', '6BxDibVSpcABeoBBo1vToA', '3UqukV6w1sdKa4TSy04aPX', '3tAVd6GDlJaoyH0BxYCakQ', '5rVVQKO7UFXkwpt7jF1Ne4', '3qPQzzlC675NSo7v6pNeyi', '6sMMBLsu29CEaOdSEvSapL', '3XHB7IQFe3UmJ2H803w8Ms', '42VLdSKVnvCM4uNWUQMbZP', '2gWIQkhf1LF8McaXp1Y9Ed', '1Xi5KEHqUQjAtHF1BOqfX8', '5YFUtJgAy2Xfly9whFZrz2', '1MYuhqf2e1fJDlJRvkGfVz', '3C2FLsEbuhOQ2lUDdc7IyF', '4AM0E5leywuFaBMUmKlo4N', '3HKMeSxSvgQsZWN2hXmtKb', '6dVFOCFp6Hoa0pVPbmRm0q', '41qFWSk78KgepYWUDgmJLC', '5mG2LqSHK4uvemoRMXpaQu', '1XGHn6PxRDzkelS4YVlhaU', '4g8qRc8jVOv6bQc4ybb0rF', '6c1jaXKDRjxRN9X2NumZ3g', '0kZ1wslMrw89kqzywLPtQc', '064xurZvoAeKg63JmTAIDn', '35vbrIRrC2Yt071E4HL8Y4', '3oXuillWzrOI7COGBWgO5g', '79BDtjelsQijccPGnV7tGT', '0kDDReaApSTI0wI0kPOqhT', '3HF3TE8FU2U8IboXJd4PSi', '0LQq55SqGRhP3aULqBhKdO', '5HUyLYZf5C8WLIn8VXLtq7', '6riQjcCLhGDOkRaaWUmnKk', '3pDfTmnPlLo7W0jO1HhllT', '4jOC3uCUvnhMUINXi8CS3T', '5aT36SOb1mkA0tDDjXKlS0', '4Ix9jeNGBuEhyUAbGzEY9w', '4dI3GRKhI01UFrxVw64TRg', '6SYXRmFXeBduajHIzs2J4O', '5jaGOpLsE7tSbE060h8U6C', '4MSw2GXv0DXXfY0bjfFqEI', '3xLa6kUGYYgAvV5a8nB96H'], ['5J4MQ0qbxUsV5S9ssktICN', '0N2gkh3nggtCtksCU2cSty', '050BEWm6WfYObpajbe14v3', '3GpkN7tZeJn4enj0fnVXzE', '1F5H1ZPM8evRVyRP7Mufo9', '4mw6VuwMrkxqVkkjrmkGAF', '5OddLZaXByhRjd6UbnaB2s', '1g46wpqkCFpu3AIaJqRUzt', '2VG2vSR5cA2UOgHWwzRpP4', '52imK8Ok1NBfMljKJK0sA9', '4kemu1lYWY2BEKhldtq5Bp', '33fyWhh6amFf9SQi1EILdm', '1syRvSx9StOtgyKalJUSXx', '5NzLRFeAwgtSwUg98g9i8n', '7dqmPaXfDJ3dqusIl7ESaL', '2qfvgK4Dgzyn2yXtdqYNhT', '3hK3qpOKPXABcmy8ktlMaX', '7sACzP5ou82z6sqpBA7bKu', '01b3JSy4UfA2iiKodhAXse', '29lodCEQR3cCLJdljJOBxy', '22RO4cKwA1TgUrqjzl5uiW', '5wRfHPzDRgRWi9Of9EEDEO', '0nZzCtNFQXFphtO7c06SnG', '6Q3NTkTC6sJDeLPYozbe1T', '5oqAgQxfCjjD5ejU76a8V3', '2WSMpzIwa56YZZwOk8xULn', '0C6FPUvOGv3GEXpMaGxwpK', '1RdPQlKd1vo46KG08yLyiM', '3eM7CzQvStWUs8B9XJTGbM', '773SD6gBu3yZrbUyBu3DG4', '6LCUot3Rae69MN9sZzBr3s', '2bufHEzNYhC6tl3zpvXG7l', '6woVbmGys7FH3bmiLcwKZm', '1bjImUCghMROYHtjnUTi66', '3lj2PgGP1bkQVnc7ioLosi', '3eoGAwNztSSx7Pi6dC6GFn', '3EfPujnG5slz7UuLaGVHOh', '3zpxddsh78h6Z38TeiKJqf', '1p4L83YzPEhIPZHF94bJ7z', '5l5denoQepuhub22UhwhSb', '3VyEuBwkKxwaAd3NhzGefv', '38xSMDvCvAwSotbdT6K18V', '5EdLPXxNnAvxoKXni4M5IN', '7uSlfH4blWi70SZAtqAWbe', '2w4rahctwfHuu3YFP8lcFl', '0Yk4pcyhMTdt3M4oThvYD1', '3GpHWrVtzJ9AxWgzoOYqmX', '1A9QDP74Qx4LBAtrsgmIYk', '6J3wznU8ajEV1PZYttkTzw', '7bFeIYoiVjcRVG7az4oPtK', '6tVRgSyvGCIdn0y97I3mxH', '4hvpHorF4NBbh4XHXdeXYR', '5bi3LFgROReB9Pj4x6MfTj', '0yqVOsxA2U4P260ad60QuU', '0Ktfa2WckhbUbpdSfjl0wT', '6dyVV8d7TTJmws5jFNJHX9', '3F5jb4Sa56oBP6ZiuKPk4z', '4K4MjKuhjuDfuvl7XFoJzj', '68flNqi5a3bGzvTqpCkNZS', '1x5KJwBNPIy3bYltlNaNDK', '4h1t1NUOA1LuIz8WW0w32H', '1hpVVlVuXSAO50dZOEATah', '5ovk8OVeq4zRZulOaajcQt', '7zBydkoj9qpNmelxR9goHB', '5BicL5AIoYYtnKzLo8IEhf', '5tJJ32hMWvFhIPLrHRreNZ', '0rEVT4ZihSorrk2EwgmP63', '4kwTjt7vJbeRnblAEobKbo', '2G4tTJeywI9gtpARu6ldA0', '29jWLNpz6Onym2WcQUSNRZ', '2FY0iRROQx0marHTDB5ntD', '7lyDbz4Yb4gFJUwx8ktTMS', '3nRBbrreRvAcb3qIdIM7Cq', '30MMwWvx5adbiticp8pEzz', '3WimcdcNdj9vhbL0jd5l0f', '5Wa6334bix3KvCzwThgNYR', '0gesCL9ngS2rsRN9fFyt6U', '4QTwi9BhTVG9Nbjo65HwZh', '33fTpOhYOi1MfQXXAvqomk', '3hwBD9fMDoggNLK38aAxsZ', '1gGPDlhf1YsRNJhkQE7c4e', '4BXMH7TLydNEXR5awGJ65g', '5gGItAytSo8yWW6VVLTf12', '2V54BYCd7X71tiQvU9cR0H', '0iLibcnZSCyF4hOJQHkQHM', '0NpqTKn410dMNKF5PV7I6r', '1CwMgCvKbC3lzhwj0egsMF', '2uSc99NGvlJbvXZcXhNBCS', '7FGwrNTrJMkxQk3Q19lTKt', '5ODQ2snyLcC29R5kUVlbGI', '3zVZ3GsfiYp0vlVazHcDXI', '4aSo2zrj9m9RzjNIwsTJod', '1JsjFOxcEp912tK85VC98V', '0u7nZalGkBE06EwJQ9m48v', '53Rj4icQg1wx38THnNcMA8', '1VT5zGqqy4CSw6zArZoZgF', '5KrDtqnhoJoY9d5RIYMXRP', '1f87xeybOvZWBVXTQ3TmXo', '32op5KCRSPTvd4esQDUAum', '2J5CjN02atjqOrAH5YnE5G', '36VHIeJMDuFuEKglNtyrAx', '1woJstwVhgJ0W2JvhsvaTq', '6UNk3cgOY4fHzxNBXmSui9', '4fgHorklhTT5M7ANsHRtqr', '59lS3lYSVcgz02TmM2xkJc', '3ZPBThiaZ0jSMPerPHpMwd', '5pLrIA7efzz23RMrQUiMFt', '6lT1VFJWr2Lmo17Dfjsohk', '6u3BeKMf8CUZe4ab0HtNbT', '03V2sO7LKTxRwQ0uuH3GnR', '1jraqJZXXsiCwPb9Ykobhv', '2F44c8g3v3EsAuPQvmHTIl', '1SXOzFKlMx7ODmxI1jnxux', '4hdX1gS6iDhWw0ll0VBBxU', '0sS9Esh4m1MZjtLlGRIQmB', '3MUIfb3RPGe0QwBAae3B3R', '44KYQhtliTmBgCLjYHNfVv', '7H2ToS5d4VMHNV4uzomEH0', '2nR1xiBvZgUdia07IH3kdL', '7HNLEMjbJjqPCGK6AXxAqa', '3iCft6V9x3v1KxFIu1gDfL', '0x84YFPn4ct9Wvaix9icxJ', '7z1k2PAmyE2gSuR0fQMDjF', '6R9oHYFwTr01u6KsUW1vXb', '3G9abO9U7dJa0kR4ZKhapR', '4Kx9ayuCPVZKDkxxM7wspD', '3cWG644N8CZjNIklVDPuzR', '6Wzlv3P5G9jIchHJWBcVJF', '187WTgmHaJtn3BZy5jphdb', '3B084Cju5o7fea2KaVn3mS', '4EOv49pXM5JJ7BTaas6P9d', '6GLGKlKKI6MNh5nXitwenw', '2yc1CImlSAwK9CLL5h8yF6', '0ic1I4rWzKchFqKE1HOWWH', '0njc7Pu7XGeU25wdaJRdLm', '5XRjxXyGFJP5C2L1j9SyNC', '38FIwOi1TIzIysdMGrGQ3t', '1cTndib7E5OWbLeESOqBTJ', '1btVAcL1TR8anpF72xgvjB', '1e3sjciHZnhGYpaVYv6rO1', '6s8I7kVZ8phbFuXcFJmaQV', '3WC66rd9N7tuZuGOSQuFsA', '1I74KKNpwBvNUE5ZSKkVHe', '6JeKLouon03R3B5yaGJIVw', '7vNJd1Kg4UrCwPK3nZryvq', '7t4tzhzcgMECBO6RaUEYiD', '7x1NTWOVz2GiQ4lrGbpH4e', '5wXsLEgQ3EEJuNNCptHKeR', '1891EOiCVUivgiyS2L2XT9', '3GjV4OJyXwksJjwVMuHpi2', '7jQOGlnJXVTaq3NW9Z6Pdp', '3CeSXPzTodHH71ksqdXmS7', '4lCP4GdpJDW6u6vgUu3aGd', '4SusZM5tzm2XFYzyWbY4Bk', '0C3BNlIKF3301e2f7cBnhq', '0x7Be1sfL0xp97cCQTuK9q', '2mL2d1k8Vxlf4P4q6JqcAv', '0UOoeghqStZk0brm8Ozz5L', '2MZlB7n6QqUMbSTne8xIxM', '0hm17FJIGZ2AzX3QCExv9R', '1VShpIOwPInnO6AQbN0z46', '08pphEZ3JVrZiQB6IlRYcS', '0KffTRrFZAKlhoEhdUREpV', '0ZvU7A9di2xjWA5b8Z9x3u', '1GSjqBHH85Hv1aoHd0qfRG', '3NfxAsLjZmCpQIlytSFiMB', '1voR0tqN6ZFkQ9QABvbCkZ', '5VhS3i3cBW0RdGQU6nqGf7', '5wxM3elzbLxczas9whcYyR', '51yKz5fPHdl24jkxK0GXaC', '3pENYVTMuevP3CLjzQkDpQ', '0vbiEQuSW4DIvyr169jPzg', '2pnop4rfcyjGCVBAvzRXqX', '1obp3SejCuxjnpaVtetBwC', '6hQguJ4qzRrrkII3Kj0106', '4XyF8NB0VN7XR5rDHL2lMG', '35Cb4Lw5L04Qx1jfLHdvP5', '7fBbU8gprML02vFVjvjxxW', '2bXFADqEjwIUCoCgpSWrk0', '3xkaCFQB02mMRSMDSislJe', '7Jra6ipuy04OfcvYlcZwCS', '1FBS3VQRk124WZulDPEX1A', '67d8ZErWzL8JcN780RMiT8', '64J7XZ9KgY9LJgdouM41z3', '422wMcRPB4OzleL2G6goAJ', '2vatjytJmQE3r4SDyWi8hV', '0HL0ITC4buCPYJaJHqwbMm', '5BmMjQp8OwPGdg7OOINCHm', '1kwicosn87A9qgOAP0REZR', '51bJSFM7fI5aoteuO0ZYUO', '6vkcfCa0G2qHz5CogrViSl', '2rA7ZBdvhthR7mgRVkqH2g', '00FZVMPSdHdGJkL9vHlGHS', '5ZDuKkHD8vQMIINeFsTTyu', '1pJbr3AF7AZtbMZBmyvBRn', '2iNMbY6EAsgBYiCc6TSgvA', '3Z3XwVYP8GbKCyWdOIy8ug', '5qJZkdUplMT9P0E2NKsH9g', '3thu60HX18eO30w3A8AOqX', '3m7nHC50zcjP8v1HRaDd8f'], ['7F1mFtJXRRa0OlUJwbDR1V', '5fp3JHTkuroJ4jwocc64nU', '2BPyOhw2SGnWTvkwa2IwJv', '640z0C8610y24rsEpqQYQA', '6haN1TB4mI5bhBuxHSIQsp', '7Ew6UU6dhWHNs8f7qr9eA5', '1bEpG8skz0jZy0mzN9uaCu', '0MBvtOIm5fuBbRHEltDY8A', '2AmQnO1A0WiWCPlulfq0w8', '4vhXen2YUiOwfiuJQf1qcX', '5V1Viq2gAWu0yHWLL9LaTf', '6VumQrccyGr0qwXLjAUdVW', '7xONzzkvidW4GhBPWmrgD6', '1fy3ClO9H8sOTy5ij9H5DC', '1WIVtDezBpq9HtQ74knR84', '1GwgjmxPgYMSaJlzj3cg0k', '7a30Vw8FqQLCDrBpteWj3H', '15pJWT8MLMla86nhINzNYr', '70ncNURblCmX34p15Y47gm', '3DdlWboehKDjvM688R25I3', '6vSum4taH9WNA7QD6dEGUt', '6Ejh1mnEuKQS1WiklGSRZd', '0eYe2aHfXCo66nUqyLKkMM', '4zVQ8U68kvYzcN6Xb4yiNU', '2yykv7TMUr4jPHPAE8Q3vW', '694iQTlPxanplkodduKMU3', '3afmDFMzh8zUvgbfluwOe1', '1KJB07h1cyZlw6I6sHAide', '0lipeA35UsWVs6MsUAZSiy', '5ySmBKFuuAazwoX8YefEQV', '1xSb1HgWR45RZcIZAC4Rq8', '3jzFKphMRkD5TLxOXlucXT', '3FRB6984xpSb7nal9CtWH9', '1Q21zPND8PRlf6boARmyX5', '25o81PaYdycQmwfBnJG57a', '0CqFlDgsIr4aEcUAbxbIsu', '6p9AwjUwzzfT9ArQ3i2ogp', '3xEJhFDLGO8n5MYNE8vjjg', '7nu5BmQuFxYU7p0FE6GyLl', '6jBRajLOpvvOZYDDAnfaPg', '6q2003E46GzEMdWlPjMYqY', '6uNsNfkG4lwlCdcN12erhu', '1Wfx54pTW6GmYKD8IgnpTU', '1OwnSnDXG1Zn32RV7AMIGA', '6EGPEBVVMs1EgT7PuKitD0', '1MKfFarIiLoOPKO0m60CRF', '1yVDbtMMff20mrratUXuSc', '5yPsM2eJWlErqvHGN8ukpY', '6xLA8mHVCxyHRW9Mxfn8Dy', '4id4jU46jt19nZAiUoM24X', '3IISB2NSN868y1XbxBA2SR', '21g0BS05MXlBswYAY2ZuYd', '2hNgMUbA6cV6NaIbXhd2Bg', '6Rm0X40eYTZ64DJQmiPUIO', '4wGcW2wtIA1P22326Zx92z', '4nXjDD7cf9Ljrcjxo8iiir', '6zvmdD3Hz5q4AVqc6AUshA', '0fTqNJx6W3wp7f0wGtrVPX', '34Co5PeMuUQjCqP8s2c8sZ', '2TV6sXrmiOVGcmGB7h3KBu', '6BaqvoDbTvFKSsozDIRG8I', '1eXBFopkxdOaCJzPM6ljsL', '2dKpmkhjtnpUnqY6kDB3Mv', '6qVh7Afbsv1raiNNAioHSs', '1WIMab1VyKqHklYNNBHcKt', '0x3CJjEE1PFDkzRtjxbrwq', '7KR20I77teoASrTYZHDCXJ', '2FTHQAv97DfQoQx9kd2UU9', '6YiocLoaqYYGiAztoGspzh', '7osrkj0fpqswzvJuTvhpLF', '3EnKUu6KTDlaIFT27E0hsf', '1VhcRgHXUhPHaAgCk2uB0U', '1YzrgJGO5xdUd6oMPcpjqq', '5OerOfpMHyskx0R7AQ2tYr', '7EIYnaUoJnYUIAvn2jzbAW', '3kYWjrbBEvI8n3bPI2ZRml', '40Aam7nmhVhzt6jVtamMnV', '1z6FaW8kU3JJ8KHkGsYYTv', '3lAIZ4JewsZAnJGgKhTObh', '1MThleZUevCoZ72rYIRgRJ', '6dB2VXcVGIzYuleOsxLNqL', '1P51RgWYRSviyIqo2zphV2', '0vWBxXexiRvWBnfTwswJQH', '7o7kEPpjIe3yRRPbDFJSIR', '1eTqeJPyDOv3O44cMPOp7Y', '4JlP9kDXVaSJwZx4noq3Zf', '4r4pYMCxqiOW9L7f8xzQXY', '2AoRjKBw2syzqKgDJ4Z6gQ', '08lTVqAFOUe8ceYAjWf5vU', '2CzS8nY6QhnbTdO6zhSOua', '44ddQ4g1xnn8o0SRo1hgPa', '2sAetSf2QJCdtJtEXi0MWR', '1PAga02b1YvwHS0r15ZFO8', '5oxwyXwuzlbI3wpQASvxzF', '4PhVCYY5V1hdjkaL7LWcvE', '261tckgSRkJTTf8GbK8HH4', '0HlE2m9Pbvs9dnBwFhsxSE', '03HwTZU40iEnWyRvOtR451', '2p6sVxmP69Qd9ysNCuMb7Y', '73iWcBhVWPCK0lRl6BjuAT', '0zn8nuASKC0PISqD9mxCSV', '3NIhmR1tCohyAk4ZFohWCp', '5x4b61pvg45R2O5LHFBjOH', '60AI6c3kybZCkWZl2ju3DF', '5rY7IjKJrNuttmf9pyhQCH', '0hVZOJCIKf8cLdeOPx52kF', '00y5CS1HijU14hGpBeXfw8', '4cF62RlGhLrHX5mEftPnKy', '32A24OgW1EDnuhfs1jwCcL', '4BNaAjlRbUX7aUo4RdeVJ8', '0FaMPDrv7VDRvfoPX9cNy9', '70fcjVBboCf2RrKXEMMMxl', '2hvyyGRqfKVFvowDHFLcVk', '6KHw5aZWWsmRqpT7o290Mo', '566sn2RbqCdpyXpeO6iZyq', '6MEN9TKQR1RQXEAgtPAmav', '7izAx1uz2FZETjj2J9Qiet', '2X8MrKHJ9IwS4nIg2K4NTl', '2mSnw4bt0AYQMAN1XxweBo', '1qr8PNR6yELU28B1GS7t9y', '2DpOGCy31iLhNXbQJ9h5Za', '30t7SqNFcol7qd79XWxrgh', '4tzYxjoGLrGjrjp1x0Sggg', '1UhVTsmxTuHlzmtEwOWjg6', '6Wc5d03C3fyD4oXEeclMEE', '6SigkrVfm6vJgg6fY2hpKo', '3cUZkIPJ5rGYyRM31Uv5sh', '2zZGboZ0y5BaMeNxzIdtoh', '2Ot7SIZg72RfUphP7V6zqs', '2KOiyljP0uPAaPSjripotZ', '3nExI3KhiOs9fFobjdHzfj', '7aZwQ2AfYB26031fLdyL5w', '2i2FDkvTFSKP0D68hXwqNm', '7nRoLyNA8m2l23FFjanoi4', '3l8CtYFuLlRkrh6zCBODwp', '4BZEjr7tcmpmeRtnRAPEfN', '3N5aACQHuW5K3DVecXbhnB', '2o4kwAlkwGTYEijq94GsyS', '2YHUuKlIBzNF6xj4ELC20x', '565XIzDbVMHSvsM6QCSUDl', '6wYuYcsFOmTuWnYqEalOhk', '1tZl3PJhwwZ8HMOUA9mtA7', '4O98ez3C25Ot2ZjA0J540a', '0EYTpPWigiU1BEGKHVgkVN', '50GKRGr7jwZY2ELJQ4F9NX', '0xqiGIJFLCENmI5hSxuFdI', '1C95qjZfG2de7TjBsedFzZ', '7JGkki0GqCcZSMCq9sDU8l', '0hO9RR41kv0bwGywHy4qfR', '1NJP3X0lK6XyEeKlI7m8Fb', '7vROhIhlDwmMJPbu0iy6Gc', '54r2OpIsl3hhvSpEDIZesr', '3ZRohJVBnvbk6vLpojFYQj', '7ASBfGIVXJlhAll8NQQ3SH', '2EIFvjN0Z1AYk4rtCBo0JK', '1M96F75vfbxKp93vQxb3HX', '0Udp8KmLYp6OLj7HbBQHKt', '1YGvJM20VrskrnSGuT0V2W', '3fMj6wrHTicYnfDzjGCmC0', '3EGkQbWSsyiWq4iDcNeMv8', '0EcNiIhWRMpV1Q3XDA7aep', '5SViJo1WxEsxfO8y3Sd8yY', '6K2BkmRqPQggCGu81OCyAl', '4o7TCoOT3h3CBBV8d4mc9s', '0IwWYZCm6MJHuzknIZHw7B', '3PxIDoTKbpIulNiPjNev5s', '2EFrUVussxCgKmqowB6BmS', '1seOHL268P6y7zwViyNyNR', '47v1NcKNyzVdhTWdCtl8HE', '5JfxQFSy5D3ZGNOFop4ElR', '1UiJjWUShOuChiHEzF4w1x', '3v28ubcYwgljeOpgMDV6zm', '28UOzZyORCx38D8dKe3fsq', '1u2o0fjATgppCGkkIRDyc8', '0xHKr5eH5yHr55hPSbsWc0', '3jTCa2KKw5uBzOcQWs1560', '2XZIfOWzpelqxVLkbBEHIP', '7Ga0J6eHpVeHcWDhRlUdIa', '44NzAKSh19KifXgIbe5FvL', '73Jxzf17MpBz7xI7iker8R', '2MIOy48SbJgw7ODUAyIR6Y', '3NdAzHVxjhUdezXDcT0K8m', '0HpLtIPIu0BW0roCCEv0BS', '6bRM5H6H9bkPMq3r6QRO1S', '0DsF1mb3M7yhJM6MUXR6fL', '2RCHONozmen81t9iFSZ9xP', '7DZuCNqo9DfOPX7RUOCIYQ', '7v4hGOiOxpMW8fldbY63kd', '1VSBIae39ufpI4NF4htItX', '7DI0UfBobOhePEEMKpPY8o', '6l73EcAEl0oEthiybGL7Gz', '0C1hLm2vFuQgqMnjv31lBK', '7hCUgCmtC02mQe4lUg5ZSs', '44fli7rZ73DG4LU9AVKl8W', '1M4EoB5Qh8GbHN3oGbWcKc', '6hAm3o8x05IwzZg7bqHI6y', '2snnzc6loGGiQ6gitdUggi', '61zHBuk35iVMrausi25n3g', '0HfTVNoI1ZDiyMDanHIOil', '0qAABudocDOtIevxGfCdgJ'], ['7eOMLhT2vHW3u8TahU9yvt', '769n3pN0Z2qOcbHFL67STK', '3VKGShOBz2FYrORLpgwTRe', '3WZXxt7kTxNE2oyASosEm4', '6mJFRVIkjz6fdhav9E0qLj', '3esumTS0Hg0r26nFSzm9vz', '5xxIhwNhCZlkyFKpA8hxRj', '0UoWJA1BHOxBI6dsDDhwts', '3U903ICkXhjRoPgPrG4O1j', '4tICMiP4u7L3uHQtGT6kRZ', '1DXuK8SBX4BNVEkZ4ifHBJ', '0dOLyEu9HJ8tKGq70qVup9', '0E4FLbh9NOh3rV0mQVVvHW', '5HmIKVhLNyi6CLopqdLJVU', '562K7759REapjUDAJmEszO', '6hWs4VVmmsbWnFCqlDkr4d', '7rZpex2Aw8cxcBFVYXRLds', '3X4MhznRfBJnatWERZHW73', '3hihfADumZ3RhH627kV7Jm', '5Q3wLZoh8pyDIboX6XolLp', '2HAQJtMJXSdgthjyE9TZOI', '1uny7o4LNoe7C5qJJ8S1k1', '2Z2hiXnEJq2WSIQQMGfjtf', '48mDWXE7pJuczyu4xEDoOM', '3T48egMTtOU0rArLRiuw4W', '1cxhYjKkYJEvrI3fBy4ONX', '3UHmPNB7DlSJyACGW9jIxT', '1Nk6Z3vICkStGHNHIDLfcQ', '3k1aIY9ATvM4X6PvEYW7V1', '3ySZupq3ek5CtxVh8BUOgM', '0JoAW036eAXnmlz2NrzW0E', '44r8NmOIu2u46xFVWtNQoa', '7HNMH4CFBhGLmxnlO9eOCI', '5DksV4kczRPRgu5E3GiH3p', '6rjQwc6Gy9e0MLYZKOs6yr', '6Mc6G3faDyfjX8U9HEoPSC', '20lnyPyAJmQD2HbHYyObOp', '4GYAqL5PGmNFqf1MuTYtwv', '4VB6UDGvpH4DxITKZti5Kq', '5Crcxm95FskXZEEGh38gaU', '57Ek0UGrOmJlazSSjcazrB', '4Ek92zIh4Sq5IVU9Mgv7d6', '6XAxPvvQuPY8Jvnym6dbga', '7fkkPyMLN0TkZmK7gjE6Yc', '3OdedP3CjT68YpId2B1BFk', '2BsP4wBGZt4mpY435CfQGR', '0rcyvtwJZ7X49avts9SSBQ', '5Pm8wEgXyNwyxrV8hXCZr9', '6K8iYZzfvl4aEZFN0WWBww', '2CBOZqWolmSfOeXAo8mCFZ', '5WbVYO7Dthtlvrtl95bESo', '01NiS0JyBqiBNNSZIUP1Xt', '7brR2dtt87902qmMJAu08D', '3omUcNqpUCn8aaYgjlFyok', '5Cd841xSo27lwJ6Qa555Lo', '2V5cDE76iiL5Gm8vdbHePQ', '0kTYWMdOnfg1y8KFA5c5Vn', '01XFN44RI7293VZIugv49n', '0thomPcNswX7vGOyBvHxMQ', '3RnjdCOpB2uSOQlHin0YZr', '2ZIZY6WFbq8yAf7RCzFPrE', '0dJjpfWSlJj9121L0WTUoU', '4uRfUMUWYXOtFiSD4pFfbn', '4tENVTwOGCWu16Q7TtWbFp', '7MRwqEjIGniaqkhLGedmJP', '7fwQCsCDYxnmWtXUkETn3v', '7inTFRfISVdiJzduMwRw5X', '4UxMq2zQDwCFwmDgws3FqT', '5wHyXAhiWuSn3kfR6lMxUC', '0hAZ6i8FsZikvHCAMfqvhN', '6JaSAyveY1kLiR9pLew571', '7zMCAnsRpDwtuKP0GjmLDr', '3NjB4oamzRkLEKzAOATcVW', '38aij8mk37WZtI9qH7PIHl', '1cddL8bN1CIRCz6RW8uxVX', '2IcKLRiUHpjhMMubZqderY', '7BFR05F5w1mWHYrnknDd4m', '1CSHnQ8COditvKcoC3Woyx', '4n01jgud9nsl5RFVSuVKKb', '7kkQw6YiSBhHmKK1B9ePYq', '19hokNIii4ydJVqttOkpXi', '66ZjA8mLNtofmFFwL1qXpf', '1SPR7yk4kwmz09NovuUzKN', '3EBkMektqMgkilc2bOehLD', '41wq6c8ic47zFa4ixRZp6P', '69sEB8S1P3TnrFvVVSYZOD', '0GZ2auTLjgUx1BsffudAh4', '6v4XJKL42tbcrzbN5bVyH9', '4XtqklANeRcUs9OYeasbxD', '3ifLzTZj0ut6AZbJ6bwhF9', '2eNwpeMvk4NOvZWrPw4XIe', '5aqkOAOy9lUITs0XUJfJJa', '1nkHFez6zemBRJZxY1ocjC', '2zSN0pq9XyCP1Qi9mPoMlu', '6DyS2bEJ435oeiHVmfqNhA', '6felxoq1MSnlYbMAXuMJyH', '7C6kovLwB91Ywhv0LC9ozA', '2lyeF035NuygelMAPmGs5Y', '2K3BDsbnwwsJClbZqOQztK', '5QkHBZpNmTjFpKbBL5eN0W', '6aASwBqAt129rxQQbkKvKC', '0WmfzLNRVjDZ0mpvjTzkVy', '67YWfVGQFqsd0gy9sVpSxH', '0NcAnGFICl7Oj202HLzPpf', '1uBO9XBBQE2fkXNjD0Zllm', '0c3XM6W62rmdSfWs7uzpRz', '7gIFgVQoSml3JocSRd2t4S', '11i3s3ZVQ0lUEwsA7MFRVf', '75MgjwXES1jwlJXcBVkrQh', '6TFuQZNFJiSZZILqBd1LnJ', '3QWL9assE9GwC3Tuxx9VDl', '7Cmn2Cj3tGonMFNq8VGjwB', '1uN3iCLmAXg6rmS86SJM7g', '79jec9Wnk9LUMfos4Jqo50', '1iyKq2x8WxddVIZNC4Uoh9', '4Y1O6mnzLe2uy7Kqx8fa5X', '60SHtDyagDjPnUpC7x1UD9', '0lhbQQ7YzbK8iyifsXwiAK', '4mP5F204pWRtMTznnfHVhr', '6f4RjDLQ7stLq4zkeB3biB', '21OgU7Hzo2AED3ooR9je2g', '1z4ZrhexnvW94ekEDDQqeU', '6JEhrtouAqMyKb9PQVONrL', '6gD9fCYGxsT9A8t3BHDVuj', '1BsskTfK2Sfg5mJI1o4MGr', '6MCouSvvoujYQJyV5ifPox', '649LrLH1LtlbjFzJUoHOge', '4c8FDUUCm33WYC9xztAGYT', '7FRgynqDEOZK0i32hTQRWX', '17b7ZAhXeyNe2PWwgR3UBs', '3PyovaGk3JYKMA4cwp2ppU', '3KWpwEOky1WFzVkW3zTN9y', '2DgfeiusWLK3thQY0IkNop', '5It7e74uGGgnm8KgGlnyxO', '6sAG5XykrIqqTHUCAmyZgr', '5cxxxlEnpCUjwB3YdHMYEd', '77xnC6OXjoE0Zlccj5ujd9', '67ljvMZzzG7KNJkCH7hY6z', '7nxGrqThvp577vV0oVgf3F', '3GGwtbCsGjnsAj3mAQX1fi', '6RKSFlHc8CVKV3h6xMkc7W', '2VPksLw01r3ehizbrMkXdF', '7jv0SrWyQRfWPAdwSIylSn', '1Wc17kLi2R2EsIACx5ElYt', '7hJRpzRRrmhbDN6bpsFWk9', '1QX521nM9wFdrp8J8p3YyM', '0Uhh3P5G0IYxqgySvKviHm', '3s8q8jIapmc1VcZoG9HztR', '3y3qJxGmT31SY25Ucuo2jo', '51DX7TssPZBQ3WEtBIQD56', '3VgX2GJWjSN7rW70g70ZCf', '0I9SzuBlxQwyCqV8HahgjS', '6qgP9fe7CUMf9UFVpPUnW6', '30xIDBWMvRjMTGCssgd0hp', '1AxYzZcSydLbVfJCceXqJl', '46OzYiu5J1KvNDAwyY126g', '2bQ8L09OJhqy6aaEdeMtSi', '21Le5iw1j6zgOMBtxioYfR', '3Zzm2a9gHWa14qXjXZ3ZM3', '54WupWz7dqaSAZvIv91ksb', '1TbWLNDzbjd4YlKXU2KaKL', '2AL1ODIUGH6VOz6jBdmzfw', '6ZO9vaSNCeyPKovoNLL8ov', '6NbtuNCQqvy9FXg1eYNqjJ', '2JehmMfZgnbSe7e68JfElE', '3sEVkAftmt4GT4hheDpDsC', '52NSoGCxxTdsQEuoSP9dTr', '0t2kp4dTSFBUA8doPFtUuY', '3gImCITqUaAL5OYjfUbgug', '35me371XCaMkaF5kBfqoZv', '69tQwg4PtwjL7IvXHd1Wyi', '6J3skQbRjVeJObR2OUtQ47', '0pRwuHngeEzhd8U0mbZLoQ', '0gg6YYDoengmalHZ8mnHAP', '4GVEkhIuT06BqEpbHNgSjt', '4EYSGTuqe9cVfSVpX4gtGv', '7bbNyU2ArtAlvyXRglev4y', '3BfEgQqVomK4wv9cYD2k6o', '1pVzzHXNtFHgSkvvuGaraS', '1LvN6JVVsbJkS6aK1ApL0V', '0VodCRYRnBDynqIK02D9Tn', '7BKzCGpmIAZeheQzxf9ufa', '4e6BAhG2ginVll1DUg3WMi', '7m6BNUydeoHC8wFPKlxy5i', '5uvN9thjAYIR1H0xuvinAS', '2Ye9vt7btK1lJgJ7zw6xRJ', '3kG5Lj4MeQlkDdMmXVWSh0', '2NvIqZZ9VkCBIxrEbrwoM4', '7rQW0xSgtYDORMp35iKEGl', '0F2fCebkcSBbgUKB7zEqpK', '5yGDZPBsmXKUf3e22QHIh4', '3bp89ywbzSH01Sn5xuH2i6', '1eWqWLqf2wmssHJFvNLK2P', '42bmY8XpPPDJh1pbyBcejd', '1Frk27X8mA30Oc4wxwHDT8', '7N3i9JZpLjqtWIyPHkD8LM', '3EOChBm9EbFpOFs8hIVDcv', '4Gr9r6eahRlkpflu763K1Q', '1KOBG9ii88HYjoO6ndXMho', '3rGaSnZjjAQsIqjOApHTQf'], ['1L4oR1zq82mNqf5ssaMjNu', '6tpwcBIh10DbSUksx3mRB5', '1VNvyyyQvTlmRax4cicUK3', '7Hd3OcsaIeHyy1LGx5GqSZ', '6cpNMLQ7oDdFbATi9wYL7f', '5Chjl8czlf7DntIDZJXgSv', '4w3F7UV3j9j696HYl16IsU', '4yjDnVbUOR0yT8TqV6UGZ5', '1vc3RFXIHHqgy1hp2aL5EK', '7ydUTeRPQkeBGmwOZtDvL2', '5GgeLstLaU0EeYEJa3NlFO', '3v3wWmC2O341T1L2qZfW6L', '5SrYLEPXnsfmK4ZuOCIKKm', '7Di7BrqhUMymNRdAYbGE99', '57elLL2DHlR0zrTfPsOx7s', '4VEipwQG8RLftlMICd1tYJ', '5qOzPfuSBMWu4XEFEuMnvR', '01Ree04AniSfuk5RVKIBUr', '6XPfsGUq0VQZQqaaJFIlPH', '0ZmmpYXtwWs03mS0jgawYB', '1HDK9LHAXjMQEbEhh9Lbfa', '2AKq0Z7RkcTnueNFramScl', '6GLXp5kwSs0HRDnh6fqKKZ', '1zXe0mjyaG0vcnVqC1NrLX', '1yy0pwB6W2vuRBuIG6cLQt', '7d2SVTeNkqvMEcGXq40ZX7', '5yQ0TDwTMx5PwL1suz5PC2', '0VP6lq36hjAAEb6CZcuxQw', '6jYu6GE12efMHTPiMLU9ay', '3PaPHA9RLxiGJogAoMqHZp', '0Qduod6rNuqHldiz0DiixT', '14mCFCVqSNVJDVuFdwDOjs', '5DWQbOTFXIjbekyTkPUsFU', '1hDdmYxsuVfuyVGKz1mkcI', '6v8bleGrMNjuFRykLAPFix', '2X7eeN9XcQFINYJY7Irg3U', '1FoP9qiYQV27ZwFNCP4N8z', '7Ha0CDWQegOljuglwjaq6u', '73X32zjxrkOSaroGsaCJKx', '19ayJDtOtm2jjM4gTzGCfd', '5OMIqj4ZIbO7KZZv3Q1prr', '4vuWieduKii4KZrUboVr9d', '0ocYi6NbDWukYi59kxyepA', '0JfsBRbWFEg0JNUn0OkkVv', '3FwF0Ktz7l7BMIrFJ9kV5w', '7bmbsNdDlNDr3LEDPt1JYK', '2ohTpPrJnqmuPYGlzwSPZe', '1pujdlFcV8pY03jkhbkmvN', '3X2kDSCnsGUQ6BwrcUnr76', '0BKvOUdbAVUjMDmQtJ0bk8', '18jT9NMRZifv6cMtK2jWD4', '1iFnviT7aGiPqpCpNT2hYy', '1bFZpZYlrJQsDAMLGNSlwI', '7J5CvtYwIKDFhE2wlBkPUu', '0g7XBWmSd7Bm9dLP04dbhm', '6cNmRcp1nt8UisO8Emiido', '67IwqJrkdRkQSjyFXdFTpd', '5Z5KHMrb3bNWGOZJ6y8gsL', '3WNsz4FbBBBHE9ED9D9KPW', '3wZ3TCdTgkrlXxozMUivDq', '6zr430cWaouP1FW0YhGiyE', '298IiSjgnmBCBH66gf21j2', '1f3EkWxQLUCTXMNfSkqCWa', '2CBHXjkBbHfiKcKIHesfbC', '546dyL0xeFMd4eDVT9bE7m', '0xnpiHFeCrlMrXeuvOKXqg', '2PzhyI8Eb8uejyQbbYlRQw', '2V9SF7DMoOLEvxGVGT4uuU', '0hg5dozYN1rvZP2k0udqgP', '1f0lQFiKVA5j6DwdmCfGCr', '7dFWa0xrTjf6RaWa1N7PNQ', '23w9QtY1mUO3j1sij0NORp', '4YTLyNGigTUxRK2VOKBGPM', '1jQvTlkNbsXJfrvRG5jlEC', '1fzcR3U9cUpJm92J14ThFS', '0N2noG0NiLIch1l0E7UdQg', '0NHsFlVf8WIXqr5whGohoA', '2ID0zU2K42h2pRR6yZqmDB', '0TTsY3zQAYz6NppoHDR5MA', '7om0ntEtrOfsgzNzj65mqC', '12kZsrN8ItaPt5sI5r680Q', '0XeoMjDv09XMDKrfpJargo', '2szZV2Nyo3sO9Ne5iHjhsj', '0JHJOUHisdPrMnMbQqPLZ6', '1JG2BtWHQA3XMqun2bsB2k', '45eeFNKr2ydPrFbFBIi9M1', '3FtcTxEpZYngPJLn93Irpv', '47LhiUm1avz2fugpFxjw5Y', '4E2D6vTTyXwvHzTygWJxEh', '1VOp0nh8VWTbhz1G0XnNGE', '2A6Y6Pd9IBETbI1Rx0dw3h', '29HEXDlpRRd4bTTf6LoYeJ', '1wwNDR9UGIIpkPkbVgWS1G', '6zeeSXGL4cJQ8pM7tsv42f', '2DEoTCwNKhPrscHszesnoC', '224aeR2sxjOgNyUWDyGtcw', '2ZwsszHLVGTnNJRILoxkfm', '4zRssuqXi9x60JgHq5oypS', '3ExXGTiMvClWNT017QIUo2', '54cwyXraFoPlBsHdHFn27t', '3fFELuQMAMXA3KvowSeQov', '6Lme4XrGrtLxfFdMTXZtsv', '7GcKmMlvh7g2yx3AgRwZLA', '2J0d28Om9Lv9n9VC4QmjdL', '6ChuhvQWdtgZyoUfdOOg2e', '0Uq6sBasJecSFwXoQxRtbt', '0eoW0DceOCQoyWLMqBO496', '4rohSjUJ1bDLU1JLCi6n7y', '1V7lZmDeHGwBEFT87tIxrX', '6EvdyRPviF0kHCFqUmBnHe', '3YgOOU8IFF19aYPaEnHlrf', '3i2uukD1MQx9nLVauaHgnG', '12Mplc1KsXYz35MvysaJ02', '7iWaRvvdUdD9fOWXkbuRlZ', '4nwdZdimMWgw2evDDGtQ6I', '0JlicqX0XpVPjBfyriYDPP', '3jojSk2sHeRxKPbgMIA8mT', '1xKqOfrHmrEHji2dFNOZrw', '4G7wNUIVBC5vUk7aWdbIcn', '4H8Sh5efiQCWU3fOuygWUu', '5Q5r9dFetZWkQ3hSro5d8e', '3IU0ZFCSvKNqASPNsWoPuj', '6fqRJtaRT3sx0FZrrzGLST', '7DMAadYDfKZnsaZcDKFPK4', '6QYRzbXYVmeIXkhjlJNyb1', '1LZ6UBJQTlYYhUUq7NA2tC', '71wpwg8KzRxx240DcJx2EE', '5hJ9vZCBgVcxrXxg90kTv9', '6SW6yY3dGizTklZ4w3zqhN', '3QsEFfv09Vc3JMqf7MY8sN', '2G4rXSKZosglqaXKjjVagl', '3leFycE2a7uXZyuC6DQbdQ', '5ZhhKHUMdcxbMXhFKEFVrP', '2i62IT8MhgcxSXVpeq5ZT1', '4HD6HdYhcJq2GO8BvJjz30', '4gU0NSaGgG6cbZJrMZjyIb', '3MZY0MXbbyUKXPZ48AX8kU', '2gMywPXdnscHLNTDLoMbJC', '76NdMW8Bc6zGErS8armzrF', '5ebuevcL5O3MAsu80HzDWn', '1YUIw9n6voqxPzawnEf3A2', '3lHgFkRGIlkadH19CSE3yk', '0fzLtBcW9USatoZ5U3b0Bc', '6tT2e2rcnpUrywDkmgSASj', '08qLHWJM4s8TwWNCoVwFLg', '7pXG3dPQbQ62gGRb9cH4jV', '6IOOniQzgJeOfvfRmnRBGq', '1QZmeNOqh6BmKkJltGq5m0', '63ddQs8NL9YVw5dAbArCLQ', '7xwsvwBrJ3VWWpTjKbmKqb', '6cFjgaI6dLy1cM0HTKQq8Z', '0pyHVjbjiyuutRjtP3hvNY', '4Einuc4YSVyKxX8tiXXnDM', '0kPKNYj7UGKveCz4kikG7Q', '21XVVIqOYYoX4krT44mMiL', '1aVAwfaaCHloeRDM6SNuqX', '0EMv4RJ77F0dSlGlhFRVbh', '3Qr0VHtF0DP2GMTFj3XJx8', '6ZoVYWfvloSUP0sYwAk0Eg', '4zc2XMFDiVk2Y2RdV7HBeF', '22eZWJypNyQmV4ut5JwWhW', '5gbS41KDyc5HQ0ZhOyahQQ', '7eNu8ro1A6RDZwMPo3tCCT', '12BZfgEyxaotoT2ND1thrh', '6dpHLPzXjeKUFu3FEvOlgN', '6xugQyPfve7lSCKxJkfELo', '17KAkGia8BUy0QhVvT6iIp', '5LDGgFnGejn6vPTytuc82L', '1DZCrKzfHHOUX82taVwX0s', '5PU59fME6qieTTZZkomRbr', '1Jhwq1axwpxTbZd0jcFa1j', '6khrBfCWyR4y6bHTZt7Qo9', '16PKet2nwdj5UHMEsVvkS5', '4swO9BLJdUIGuNJii0IXLI', '4lje1DKz33yZSxK0jrCZID', '62XZJR8YQy4KpiarL64aHd', '4d0kql6PcewUsvEgS60q2v', '0YAZmJwfOmlDyimcG7smQj', '3HdWNB9xTtChlH7IZRkpzr', '0bgZ30O6JZuMkNXLcHmOK0', '5bZgnlbw1A9ji57AHhNyjY', '2HI25i8SnfTPr0mLiZRrP5', '36VbduhjU89A2hn4364aba', '7Lvy5MKsWrKAhenQZtPGH3', '2cIvk9rAmvHalsN9f1NeHJ', '5ksPEzPh2fKmC8Qq26mrax', '0u30dhCaWTOJQ8pH1uzDkZ', '02lAxUTKaWXNEtYAIEaZpP', '6ze96fv5x3AklLyAqxPPv8', '4UptWIEPwIimCpCHayG4yZ', '1WnFoROuRDgngEYyU1D2rI', '4F77ekCL0tJOFm6tWINkhf', '69qIq8nmr6NfFqS35bttxG', '2Ae8AzfvmxYfsMOIujPbUm', '4bmDe3jeZMBdjkuM6puaVL', '5XYIViN8Qtf4fGLwU6Bb5q', '6IbzEpJ0swzazw9HEFMKb7', '0QbcHoXOyUvJK1oKSn5Vgy', '0RcObnwNtF2QxFx5hFSLJv', '5pm4B24vBqSjtwQvMJaUDU'], ['1OtcovIM61f57a9zZZXc9U', '2R0igwJVO0cZqjpLsiS7WY', '6kntHMhgGR82iUBGGodqW5', '1W0VdiGxj7w2zd5RVl0rvV', '105nvg8CWlvlQoN3HjeuF2', '07wqzoWEwrVHJE7kopdDy2', '3UghX77JNTUrIEgvSpGSVr', '653Lbg7qjivjRiaAQjVVi4', '68QwIrQ7rDd6xoII3bLf52', '3j5pi1O3eizTQp6Kc69srX', '6rUSUvFHUYFDKq7zdv4tXT', '3v3hmXti8AEFWS30S8gT6Z', '5QJKxaICdwVlVkNO7piIcc', '63RZRRpDAXIsWgSpUbmMBX', '6Lf0nQTwJHF2BIqZWI1KST', '2QecrVF3lRAI082RQiH5pd', '2fv5wnCHoqJtxmaq9IAsiV', '2imk6p7ApJgnOSuEs1Znn9', '6T5nV1CfYLMP7nbkQf4vNn', '5saZfqsqw3aREGp6oA1bs8', '3wiVm06ALgGPmNv9HRHVJq', '3bGza7Mx5r2yTjbAqsB4v1', '1UPXWrG5mDHMbiBHSxmT7k', '0OsEPF4sygsCEU6RWd5TWl', '35QZco3h3UELAC2VsLmpSD', '6gvKkBrQQqdP8gsJCT30Vw', '0BraqFvmohtWS1TKtBVi6B', '68oBTMg4kV2C1UXDAxOmeH', '0H95fS5W9aklfBdcfmysVU', '6TGv97F18XyaIiAqGs8Kh6', '7L4sllKmNY7c3HLWZunkwC', '2sto3QLsWEIB8TLyoVaDbF', '1gT67GuBr4HCKNNhhq6Gnc', '6pLovvr2TYx2A5LR0bkFh7', '3QTAQ5biSQcxBD7dooJf4M', '3frQnXFys0NQpGdzsANq1m', '61rjzIILTnivihI046xLYP', '2qIykQqS2iwSA4lkVUR48b', '7lRoT7GFNqADxLXa4Dw0RI', '2fUWsMkJfqdfuCoPEMnL21', '4PBSdWriXBfKhpYtHVk7ZK', '2kHQTJJWXc54i8mX8ndYdf', '4KxHxwmVq3Q7Gg9wkyOwzV', '2hx0DYh5UMtd4dmhi6YBup', '6XBsrRzfps1YjRjUcUyaPF', '6sE2S8VQQgataxo2boLXIq', '0iWAjJOZQvLdbYeBDisvdT', '2dX737aZqeaXYSk2UQcj2T', '1tEGakxVI2xoDvcdICBLwb', '3Vdljk27QABnI9Ca5TefAj', '2hER2uXioqqYyU6CwjsQHU', '5wdAc7wJflfos2mRKL0K71', '05DEKeFlMuXhfxk1CpjD7b', '06wMSt5MVYSyl5RHaYZF0J', '4wGi6sCxTGZiHhTYwBWEz4', '5gKcYetENCc1TBkgcTiOA8', '1eyCjFAnmJxBnrXvLndyOE', '6LnVOuVEY0M8zOYUkZDmAz', '0x1Qzxac0JYNxkRZLktFLt', '1f8Bn97KgjFabZaAYf15Vd', '32N5xfn5QZ7Vxc1Zm7nYlB', '0um0xWckHN9oUTnMuxYD01', '1ACo2WIQsolnvZj3UhHTuC', '0ANQp5V5lrAtNcqZ4Pn0cG', '0fgslmPIDxUJjaUNZpQsEY', '5eVO31RjkfRfpa7B2Ex4hc', '1QuMCblPgeS7gIaqGiQ2CU', '3KsDNETNZ38sktwgKwlkWB', '0hsjAeUWjYIr7sospfADJk', '6rgJa4JpxjExztCelf11Fd', '20uxYbOiSyqlO3IsHSbeK5', '6BXgKjKKHLt63XIEjs4WIx', '4uvGPjmbSsmcdNhj14fo7W', '4Uewmd4GsCYQXttOgHS0Bi', '2dKpz0qiy9g7MuP3qLNpRB', '4rIqIjgskuOmJnaX2Z8Fzx', '4fAU0MQfmzDQkMZ5pR0zY3', '4pgTiBCem4FrZlZwolDKNI', '7a1oABbPxSKFGu9UHx4oD9', '6s5MoZzR70Qef7x4bVxDO1', '1g2P36W1Dn9CYyegAm7Z4x', '2kAaI38zh1c9oyzpoQUZiv', '35Lg9T9VJjvAQRdetQGtKS', '5GtYXXydQZxdFlkIIvCHBW', '7HIjeORz0mHY8IUYEUBQxF', '59RfeSzecRYkS0lIGiqrSY', '2v7uYvX2h5hNSukaqp9LCb', '154RoahggfPPg1RxygE1aA', '0f2i8kH0oavRf1HcumJ7kF', '70XGi5LroLK2ZJH1MZyAlR', '3z3rD6dF7UJPNeYmRBDetF', '5M3z7g9MELB0WS7Q4qLUyo', '7f2DsDC8SQ14L8YOcYLOG6', '07dKI0FazIH66pe9lpMKYA', '6ahLQVrRUieMfyUrOM6HKq', '3FCkQ1BaTrdiKHd80jWipu', '5eAqREKMQTvNSVE3R8oVEj', '2PJuWfVaCmG9Bu3OlHFzfy', '1z1LfuAoQQDRKLOyVQvaRa', '2CrjPGcldFQsIW044BLMrs', '6eA5u9ccVsxjn2iGAJ2Inq', '1L5MigE9vLvXw3IuRMqST9', '3HfxvJRQRL9VfuDq4Pw2w2', '1ZV46mlclUvsB9j34zKZ2W', '0T8Dx6bhSlIwGwMdgqx9w7', '6QMjif9wWV6jQqFk8WQWFv', '7iRtqaM0fu2Ip8GzzceQzF', '16abo0oaXgiL8a1NU9ZPWQ', '0qV4lbRat7UEfIvTotrdEs', '4oaHLBPfa0FHBZqvCxpudp', '2lZsuDl0JRkpDmZO9Poor1', '1Q4lGxGOt6A6K9CdELz8jG', '5TQqMS1OBgLgi64wgDfgWB', '2TX3gfOXHHoHZiMLK0SVmq', '6CXOnBtD2z6rNI9G6APj8X', '46zaMGzDdLfisrtepPsZsO', '2Sca9Wv1kLiQJ8ARmFyN5I', '3WBAHOaeWC5YPm6x72cfpv', '6utTDYmYQdoYmbQHBleJmZ', '52qm1kdbyMhYglyJTzEakf', '5YlKVBQiPIlV4uxyQVNmWm', '3HUr4QyGI5W6iuK9enJBRq', '1woPxeegfDWfKwxbBIRApW', '1qZ6cyP2h2HwPSS0yAXvyb', '5gq8uMPUlfKETqFUxujLIP', '6LgnHN3mGCfSTnYy7Cd81C', '6dWBBpp1lebQAfwlMpnKfy', '6wjtBLMgpJPf9rvPsZHCD0', '2fdUlsRORMQ1sM1SEPjDlE', '3N6f07zAIQH4yQ2IfJ1Yn7', '2sgKS2XmIrYZo9K94cfVOi', '1ydxatu4wrujF0H2hGU8IR', '0BYoEJVB9xZjjsKMNnujN7', '0LV0cIIM4nRjBdq0A0EBKn', '6N3Txa5NqvAjRsZIolwaXo', '0QY6jIObQ6cOcRr30d0XT4', '78MPGFVq0C4yrfvgxZKngM', '3YiBYAadb18yWNjOZz1nN3', '74DjsGDWyJRTJSLGLX4cAp', '4XXr357Jej7eUBh7XPK8hb', '0tE8TJtcqhSydcFA3xIrDh', '0IdU45K5Xj2Y5uCYoeIBOZ', '65faCB9BE08hrJ3X21DCLx', '6ZnW0zSnQH9pqqntocgUDX', '0OIcuYsVfWtMnBTqLShcPS', '4PRTrvutXqjv9Ec5CVO7w6', '4uq8JA2vTkMAFi1D72pzkl', '549FJ3PFDdaLDTnX9WXwAK', '5LwcdWTCx2JoWeVVWOYsGj', '1v0tvgZsUlhoilou468HHW', '7L6dt5tqw1XTbf5ez1b76m', '7sthD5x0s2G0XZNzVW40hX', '1yGp52FjuZ5je8qPZlt1JJ', '0MS8uaf4VjVPDb5e8LJVpm', '38sXr5Q1jLp8tHt6FFOF7q', '3xh2sgnL4trGV8rlHTfjgv', '5INg0fRsoA1uYyyJwliHGS', '3SwCXSJe5qaCRlxud8SDuU', '2QOZ1b1IpsYufy9bQgrpLP', '0IO0gpqCNRyp1tawpP9YSN', '5r9UAnDHl2Jln9Q5nRuid8', '2AoKghrJnnRjjIoGNXtJX4', '49QcZpXO2EejFb1vupJ6OG', '35RzAOwDYt3IyNMfuotUfV', '4skZam98b2PwmuWxS8fAT5', '1nDSNgH9o8lPKZyRC9tAwR', '2Q9yQfdM8baHqEn3tWn23K', '2FE5Q5imNlAYRKubRHOuE8', '6Mi7KrEnGZ5cWeVj2diIx6', '0QMhgDcbW2yZVGV7VNSL0A', '76e35fRM2OVKekQGqb8BuL', '63HyrhtfwY2TtzxwJY3wao', '51hvZ5rlul5LLkfLDZFjm3', '4zZQU9EV9Q3uH3wX23kCvA', '6A2fr8PrgywYmOgLT6Anzo', '0JA3x9RMwEyt03U59Bl7yJ', '1FHYDt4X8pKAUEv6hlaP0N', '1ZosaIZMTLyomdop952uRQ', '1b1BPM9hp5Q0eI7yuGTaot', '6ZyeermhUwIuF91S800w89', '71INgJXyOMLjW7fexwLSvC', '4OnbZkownuQYWGsJ3pvWxf', '596RquQ1kpgCyJaDYZEKmC', '6IyBSGUEuApnT6miXVlKLf', '0Vv6NMPjPTWbdPybFlryM4', '15KGM7ddAfVp3k3om5qzjG', '2nl7TE1YytDEEfs4Ul6ALj', '11BBxVtTjfsyGuQ5IjckSo', '2vk7YBjoVhFTgGBxlKcRPF', '3ZlEqn2WSADG2wVMPhKHsd', '49W2BLxvDqnN3hsFLAIoqc', '7dpfRH16qt19sTqBflvXH7', '3afEVFqOSkek2AWlSPK9Mo', '6Bo51YEb83mzNvPlK2pb5N', '1jbjgJE4hBSSwfx5NjWc2j', '1Qw878bmGXb4ZvjHdvThZW', '4F2wv2RnXpmVW86K7Z2Es2', '1ZwK04RuimtSyAshuai8Al', '6tBMqR2dxCAe8PytK9cKcf', '4fLlQp5Kscoo3483KIB0zB'], ['5FOv1bW24mnkT6X6kmUXwL', '6mx4NyNKlKzqaDTqDbYyy4', '4WGe8j09ND0yhNGN2LRuD7', '5mgPPGnSCd1WPeN9BrVcaB', '7AWU30giFff2HhHrApuFGz', '5ipOIX9Fq3NsYfwbbtKAvG', '0hUQCA7l8f9FUSN4cMyjg6', '3OJrXUVldQpDZBfEnZACyE', '0xJ8SgqYzJC79eu4JmfXN7', '5sfogZ1svsx1EDDv7NKVlT', '3h4Un5qa5d7s4dAnqiEN6M', '0AXXFLaxI2f0DVZZzEyvxn', '1eWtvA0Byu9Wu7LENK35Dp', '6hFP9HDRKTHHJgoGrhUGeu', '6YuVMNonLhWi1sfudnUyZg', '4FAhZsNGKjPEGw68w0K9Q9', '0jNjcxddxqe6vP1SSljXlA', '6GivQQIY1f6pR7CdLpu6R4', '7jWcNgwiB7CYcp1aH7Qihg', '28qL4DDUcphiGvSyJdW77W', '1S0CB3Z8Ft2rqf7bTqKhAJ', '2kXx0qFNlA40wuKmKeZaJ7', '71LnSyxXMKcxgJSAhC1KDK', '1mvrm0uKYoDivIpWYMQWLH', '6BgFgiPTSv1S3guy1ImK3e', '5mFGx6JHA2RCwFasUx2a6R', '6Av8FDU3F83KRoRs84EYX5', '3neYAWnvRzRv4ywFAtXXhU', '3l6M4SAmRg9L0DlalK76H8', '24nFbemYXcm4Ep56SCHQdR', '7MwdQNmdKjQx3h1p3vP2eZ', '6JPd0xG3fBmhUSlxsTfPyW', '5oNLeNpkqvL9VqIndPrMVp', '0Oqn4J5BKH3kedUtGR6iUv', '3eHaYovxdLWA7ix5R2Iy40', '1P75I5LHfZM204ndEsgDjt', '0HjnliL7S56u2t2sFW8gG7', '11z91vLvIlX0IDmGeASMLz', '2ur6DACA2GqkuZyJVMtwsp', '0pTqRAJ9YaeKXUNil5e2O3', '6goepZdjv42VpwbyXIlCYr', '0AOmr6B5BlVubtXNOM5JfO', '6ljC9aljQwB9DDAnBSIP2V', '6HWRCXOfkaPlg51mhlJZTC', '7jGzify69eicmfL77zOGbm', '2L0gq2kqdjwz3mmE6Mhbvd', '4n67kcUir3bjhaybRha2G1', '1auZ2gm318zSzLhrknJtVw', '7zekdC0ZlzBDImLpbbzQuJ', '3Hi1KsBX2EIFVINCAbcw8l', '72W6kffOpSoq0JocLRIHO3', '04ZPZ3SUOh8GvHakbwkkg1', '0Viab3SDH5ZGay1lCBhMzK', '0gJKJk0RtLI3DTT9OOyMow', '1nc1awE848GMhuPJ4IHt86', '5u9pZQoofDO0UjHvSplvoO', '4Qh3xgWrx3BOcg5TKjGw7y', '3c0ylRbWiGjyROJSwmDHEA', '6PimpDQHW8sNtGfz1jDTAi', '30vAng8N6dO0Reg7mS1MFp', '56BvRtTh50Awa4zOGC70o2', '7cRvna6ANChqeWWkVyaRN5', '5pDD5tz9aQULzowpuKMSep', '6MXkE0uYF4XwU4VTtyrpfP', '0TFl3Tevi22JWs1KWTXcAo', '6W7VSK5UoZfdvmuebJOlMd', '10639MF2wMXj5N2VtUjLSa', '2kISScyTs0we9kzH9MKEMb', '7rLmihHHTsuYRMdBKfzgi1', '2rPwi4IFhoc2r1MMvY0ZI5', '2CmS2oNTxIvQUSLeJfBIvP', '4eai54AwLT60J1i2SKOHsz', '1rJAAbDgTJhgw7WDRjYmm2', '0sDsNueIuqMP0aNLesjWMq', '5GO9B22PvAEtZQPT3QUBTR', '5gYoPWpfoYkFxdS7a15WBO', '3WLnRqmW5IZOATVCnNqZk5', '56Ans10K2OrCDU63QQTHre', '6S5gl15J9q0DHwi8curRUi', '3EFKSGzCh0NNWHWqs0lXsH', '1YvOWmrMWjSOmaXHo5RCnZ', '0HphLqHgdLI5FsTHX3wCj3', '0NLw6Vs4WhPF1UF2ade0QR', '2SoQc6bippmMyUTn1qditv', '0KQrvXqaLBkDJg7mzkShgY', '7GdLrGCiNoYrQ2f8onhkkG', '32DAcSQMhxt8hkJq17h8Gw', '5iTCp7UPV9Wh4WcT65UadN', '2U0GhswEX2FGGE6tITJg66', '3ihgsFVkN3qG7KnEXoJMHf', '5cJZSH78SbIbw5vdPia24j', '1pk59BcOiRwpMVttf3NVLK', '72Tt7drbZmRpxiyRFkrT7c', '05dDF5E8vI9iPsPp2wBELq', '4MJnJjLGEgrW0R4H9PVdAt', '33n5C5ZVYLStV3Kzg3inHh', '0a8gfAB5pIeR5x2ln5ARq0', '379ACI33mdyLmxPbNSlRRr', '2N7V4CUBhDSqEm5mawSLz1', '5o64kEr05AdJJYJHQXZRBb', '0WRIEExyzsjtbPZsUOAURR', '0mUMdH557NL46xbRugrHlM', '2c8ynEyyWccPS7FTsB3dEC', '7xrsyHt3RVeYJRSX5M4gzZ', '6lOCvTH6vW5Jc7oyryNom4', '0iLKPeLW9dKq0daQ8wZDMM', '68qhIvxiXlOKgXJ2bidJW4', '6rirvdbul7rDunT5SP5F4m', '03CnmKGrRlG2dwJSH1Q1Tg', '31vdE2ocXKz1Zmd7jrUqWO', '5BJ5rG6hFaItN8dIfZukGM', '0msVvCOGK0MZKvnDX6PsLW', '37SN8bvRfyrY8cDd2GIluM', '68qffdP3LzsrDkrmrt0xKi', '2whLuuxBLWqwEAtbXnGdIk', '6FmYzrcSK2ftufgHXOeqlY', '6NVtU9wDVVEjDooOWjCFGU', '4NQpJ0cZK9CVp16Yq2bN54', '26N3SL5RS848I3VFg6co75', '59xLrarTtVR6GxK8aHETod', '08LL9PQv1uQ11gPKj1CTvW', '6vfVdOzLUYpG9z9wE0Icjx', '7yUfdsaiRYRGK8H2uMRkBv', '0oa0FjnSdQjWzBIhl4GEqy', '6iwDMCdMvLI3ACfh5UWXlB', '2HizNyoSa1NdOX0r30vrXX', '1fjDuZGOYrXCcXMHakyPTX', '1fe9VfOKBZBwKQtblm4Ceq', '0cD79tL7mj2p4xTSrk1se3', '3vnRXcNe4Twu2ceASnGOtJ', '4uDweLoheknOlzPXJDEoh1', '39NBwMJuLtBrOtISWj64Dg', '12bxvDyycP9jNYaYKK57DO', '5nMh3IcKI0h3bfeiwdoUrW', '7bKo0dC4z3WFAPzi60aBOZ', '1a24EyiWhu2ChuRM5Bfqfu', '2yK8ebEZy4ZZuqwFODq9QQ', '0QkBGZO2RKrPN3kfiGCIkW', '4sg2LK8vl8utC7ug4xPknT', '4tUy7iRiYHzgerNzTAQjNg', '3fhwensaaYrPYio57Vpi0X', '53dW6Z6TQYQElWRkcI0Bsh', '30sjYS9DMjQNyYwfvu5uUU', '0bHOelJ0VL9QgC3c1UIoJM', '4BNdtoAweEyMunEAPyH754', '5QRpaFbeggej6goP5CPeMX', '22tWyViRQaeYzqY7m346k4', '7wUZUB0FCPHsfnspHVzP7s', '76RZ7N9XkpYaE5Zvtt8lS8', '4wOOEE13DY5e2HvqXovmoE', '4fWARp37Pjz3rf3WvVIAFz', '1pCKc8Kc87BG4FdIGKaQ5v', '5PFKw26uC3eJ4lJcRbPlf1', '15Sl0jYESB2NB7NMGx0Oge', '3TlHGiNZLynpxVAd7sIqGW', '65o8CHGJHdl6kvNdF66XjX', '5NELYHLIR9VEbXvj9h52vV', '3l0YMxfwv5TR9My7rZgLPB', '4iGZ5AAJS7EgbTQGEgok39', '54Pv4pq3UwpbH05O14Gu1X', '2U7wEb4EEDbiAs3CCOoUfn', '0fsiAxyZJMMQ3TFa4b8enY', '7angZSrbo9ShAe1q06i2OG', '62Mjfl6ctnwHXAgiT6cQwI', '1q9jLOn2OGV1MwugzYHKSj', '0qaiRSwJmpfpB1wcMPbh2m', '7mknhkyxBSQoGbmO6STTog', '5XyX3dS27WbXZLiWoJNsdM', '0BFlqvOTWhikSH6YmnugCs', '1UqeJ3nLHNDOlA6zwFkimJ', '2KmAVEfiJy17zDEZslvmSg', '4isjLiafpzMJZPYQ6Roww6', '5VWangDzcQokrAcYlIvrL4', '6pOiDioe7e3V3LdlQqjymf', '36qabOc2JEaHmVvSTPmTx6', '42Tb1c0SQtcNQx1pfkWadp', '6U7XM4g22ccWDFS2xwJxbV', '7msivIljALwqTDOrrdJk9K', '2dvRnpJXpUnZYZ3Ufq7mAe', '0tg3I66mLBQgIf8DtKrfwZ', '1hgy2QVZ8otm9UkLaQnGpG', '16cFXoE6JGTkzoOhsdg22j', '5o1AJTX1chQYFF0xHVgL0f', '0FjKERsuGxPRoHKcyILePB', '6VXHtKNSbRIGUwzUlijp1t', '50iRmXYSOEtDF1jzgYX3iW', '48ZAg8gvBviwTPsXN4aIfG', '6J5kK4nUeKrVSGA63WVn5K', '4ldvbvo0ioenUAurg0pzZk', '2wrc23l7JdQVcpPIcDGaed', '4Tb0OWHFIYV7i7ohcF9dmM', '2ychGMsKkWCqjgkgNHommE', '4N68ytC6eBFQsGr5nmE5rU', '7m1pFx600mZCOuIsOoEIZW', '5pkSkAC6JTpIgg0zSQoWdF', '672uAsamKiPJti4m4EdETY', '6wnPPDhbZF7FtyfvNkpkLu', '3rGqaAFnWBXfSlzQpiQAQh', '6gw9Xl5YY0F6wh6stb2uMZ', '4HbPdWQOaZo2nokBecGMhb'], ['0fMppBnnpTyT9yQVqRG2q2', '6b7atlLkpIQtbZKiEwFRN1', '2VkQG1bSHwwlnu7zOz6hYr', '0tqAfBZxbPFjeWwKFpfH9F', '0Ssz7lY65e8egtETVJF2Q6', '6V1OoZoGu0pyd5qezkgGZk', '3NnhFai8X6CdYvP1Q1tOSE', '7kDOjv4aQuo4lFBDq9F6Rw', '7dowgSWOmvdpwNkGFMUs6e', '6SmJgfhwIM6OHefphfAvFM', '3iiCEjJsCfkP18Xfqv9fZi', '7qshObBpTeNY6nyMtcXXCw', '3zLoWBeQkil0PcY4oFndPa', '7HAvXnynEl18Ay6mabzRRF', '6ovzr8QuZNSVBiNI0uyS36', '572Hmii6eSuDai46ZJXgIe', '1OshzQCcmOiCmQM85RHAbV', '2htmct6QRhvz7MdvqEl7Xc', '3fdYNisJVRz3Gsu8hs8BVt', '1qyvdaplBJgvGGUbNaiaUo', '2domD3pH2tbubm1FwhJVw9', '6cKDwODDI0Cxba36w964fK', '5mjuQcRp84oImUOJp5Pnwz', '4tIeWe2IYZV2bG3Egkw6mG', '7khkEkukvAQWdDapKh1lVt', '3UE8m7Mm6mO3UKQnLBQ6li', '57gf7owU4MnQhpddEvqq8r', '5zxj55xrB53As97uvt5x8x', '2ue7mRobKgve30zMintxMN', '2M8B32cPJrc5ez3oqdkFqC', '6JjpCO9cUOTc4eZHPJEyYl', '6hlHOKDB7Jxpz2cg7Jevuq', '5b2Mfu6N64F4k11IVaZCdS', '7suf8yqXe9PKVMMcOd2LQg', '0SuUJuDl8MFWN2lOU07EtW', '7ifqnqwYf2PT1QazqZ4ekQ', '0LSkh5924Qd0PihnyVM3v0', '3vrzz6K23Zlcm0oTLtCmy3', '5D1IoXQGtdt84Mx8QvvSSY', '6NtolKQzqsuJxnDi5NgBkH', '3P1RRrVtaVLBTOvvNm8k8N', '05y5YX2kQFi6J8B5ece5qy', '1Z1VmZkX0MLoSJXD9Jve5r', '3kpbUKUNVhyyvGq7VQWYYs', '1HMUV9FmJk6ugG11QAKTTp', '4XvaxZIdz8XNZqbckxbfYV', '5wQ32CYJDVlhtKS5oWxC1B', '7bjXSDjoTaZ8UiUf66U75i', '49BlLjNkElJlX41Di10qql', '5ouQTmehX3Fu4L3JmMsTo3', '7hxOgWv1cdB6YnIpZxHG0O', '3SRTDyQmSdCF3oVfCbsq02', '5XsD9PUVe8NK5XwEX87gzx', '6dALa1NCsiiQtQrLGjFgaT', '4GMYsnPRt6GT3VARNJQeKt', '1BPFKmeIcqzGOU43oA3rAg', '2cqL0s5H6viqXVDnfhp1nY', '6hM2WgnESO79i0NZVqncHV', '3qQsWDM8bFCBictfEk3mva', '1htrcOgeBDoRSY5QvBW1YW', '3kaNivwkj4h3ceMQRnwLYQ', '2X85h61mR38FQRhtCTrpkT', '7tZuamhysdcbZWkGa3l72G', '1OWRJAfbP0IrKgJYO4jlsE', '1j3z24pryCUnwo1vt2e88h', '4CEY5gI3L7e6VhdDKbNfRR', '0F7mtdFDNN5fqlDuxWG8TM', '4HwajiqdbPNfRcd0BcD2zc', '381Uu7U7VefBhyN2GYUt5q', '2OuXPWzn1Ih8B8u9kPnh5g', '1qvXL1eYguekLrsEuOS6hW', '6BIS9zOW7eMTURxORLJi2g', '5JurKzRB8hvNgb62HpYjFB', '1vUxtPeUN3892nFZca6yo6', '7iGdViGFlFJhmtjga5qhMx', '5ZnzanI9mpeinOWV4rqNr1', '3EY7xTU1vqV2Mow231iuZ4', '2blf5MBGY8yhdojrYgWsXB', '1jfoRuFq7k7f5ZBEaninHm', '1ZFIXdKI7atDSvPG9oWKuK', '1jzzzEuEkAoffrhTAJN4bH', '3VccAjiWIggArBozHv1OZn', '6DRCAxWCNveFsISnkmlaSa', '1N8MfJmmLQrd7MJBBS3Jjj', '0HAHULTlSQ3MlzO9e38PvI', '2vnSy7bTDFfI6FN0AkLZiu', '4B9jeYUnBAFF8eBoIv4ryd', '5HufsVvMDoIPr9tGzoJpW0', '6fDGduFLTXlvazu5XahC72', '0u6wf7vFBFTHOewgTUjTR8', '7sAJizlD5BDA6EiIaF3A22', '734X09F97uQg7AWgeNQGGt', '04AQGSIBVHZn3OTzLLZjlz', '0VJWJJx0htlHrSC1gjUpIj', '6UfbwvRitXs5YLmPg8prFL', '08AHYrQ9Og6ZuhJtEFbtyv', '6ZPDke7UK4y0Ms8I1ldDQG', '7mXRIC5bSB6ZWOEPNfP0hl', '4vgUfOZiXDM5lWyueaR0tk', '5YLBtpHPzN4KejDAjeGSBt', '4uzL9YI3MXxUlORrCZAql2', '4i6hHzvXWIGeCeGM0mJbPI', '41tRlkE8wyuONtruInGMvb', '7mNGeqFpLOFebS0QrGXU2N', '75jsXvWR0WCWGbJCdyUhJa', '4WZeQKxBXNW7ScBnD5Ug85', '0ZJAsa6M7ro0Y5BoKV9R2x', '6wqtv7FgqQNvVHvjTNwdvp', '2Lt8mZ8J2wfkOOvTswtT7e', '0vgSCZFzrE0eId4bKI1NNt', '6icf0lvA7l4phncVp98zg0', '72EP5quMvlSfHdz3xazcwq', '7wdeJT4Fj1ZTBqiHeuEdiA', '5wyVpRvSVAziVVGjJEyFS6', '7v1g6rtKTLmVoVDDzFv9qP', '1J0BSHkrlVDOI7MD4xKhw1', '4xrXe1xRIsfgcVzDayZb9j', '6Lt6XBEvrrTu3StRRXH0wk', '3QuJzF7D2tot4yN1lqIVLn', '1oOXMFAHwOYCF8qfMw0BIm', '7anhpPEbxHYyZEzZj7cZ5p', '198sP5On6NnvbwsTpN9KDz', '5CsdQrrAgQycaViamtpJtb', '2UOmTYokX462wwAMx687SQ', '4I1H54YGRvkSKfII2XhSlB', '3NxTF39nYRfSUx8Tc10nvA', '0Iabo9lesGD48jAIjsyiDY', '0drfpBhQrViLsNkGtLLsc2', '438VVpUapFpyqTrIEqTfwa', '09ykXTAO83FasjXPxMsq1k', '2aKMOs9FxzuCX6kdylLX94', '2qFLCUdUal6bSkQEXbf9Mh', '6AsYWsnau4HpWHzxyNoA1a', '1EuHYJcuErzxWqILkcK3Sq', '5Uq68hKfqki0I8fJ3y7AHS', '1cvTdLpuq8sbNEHAATPcYL', '20K7P3XPAqGdC0P42EAY1j', '4JfJqAGa0SckbFgyE7Y1nJ', '3HHAx6vVncsuqKj6pn2yfe', '5prvXHLGfLtWJ7tB4W8Fvl', '2G7aAKvWj1lPSvfb1DhOpB', '3809gpnQFkEqra5RKFRhvu', '0zTflwpEJVMnCOSmExgS75', '2y2KkDXCURfqez8Uvh8dtY', '2iGD86hTlTtzdQmh3prGPr', '2NN4wFIfrIkZ4cBYnYArvz', '5laz28pNMW5qnvxtOGDjgP', '1euhr12icBWvWTkNcQIvnY', '4MEHK2ca0qSJhJJvLA0raB', '2M0K6YvLgC8q37kwASoHaM', '6gB4lvhZqPfknvnw2iNwL6', '1khWImyWMu0aMBZezW0pey', '2gfI86zUHApvK6lV5yOLcG', '685ydTa5UXcEU5NZbLJCy7', '0ZQHY35pKT3qQjdBg6ARMY', '1KB8oaMf9c3Bipe15Kuo1S', '3YfigsJnohDGwyPrd7IpHE', '3c8pTOYECLUWMqLppQTc1F', '2CokkRf7w8GTtZsWl9jV8d', '6Eji2sbOvPKXBQfUmNI9PZ', '6tJl39oFvuNfQdoM0FloAN', '3ZZhBbWXrnDizlASsfDH1N', '6anitOYhAbdI4ULWSel3Zf', '7yavyKYi8aAXvmRODL8IAm', '3IVEI3gx9M2tzndvPZkvId', '1CrWKL1wwHpcYQqLmQpHxH', '6WFgrmagtAXNG2qKgJgSD9', '0dYg5qMtoE1qT37H7YBNLf', '2tdLlmejILqEA0HR2yqcVV', '1VnuSBQ2H3KMRLGVTpUqk6', '4yxukBJleJySko2vU8I3Mz', '5Bf10lAe8u4oiayBSDlqDM', '5zBCYWc3g9sxUMqPHMvERG', '2vx6eFsG12cuB7SfTHJWdz', '0H5cCWHeoaua8EaRq3UVjh', '0rSWozhTVMRbDa6Afqn90f', '5IbOdfnqpUIOnO0xdH11pQ', '1LWJWwk9c4RDbyhqXWySH4', '0BdTgPWKVq5tZmPFAVSN2J', '7lJ1swS4ihi86snpTCWJSV', '4L1EM7qJVxlMg06KVPB8CW', '3op82yklunVucRFcANaJFS', '7pH0jkvJ9Q5D6pnyR84G2s', '4QO5FPI0JxcUzJhGU4i8rI', '2LLPME17PY6gYqDY8Rfvr8', '0j92q9CkBFlHDpgcIURMd6', '5UBQfw8fKxi6ADXxUdUT2K', '6I0NsYzfoj7yHXyvkZYoRx', '6lEM8mYvo3M5ntO3FAiIvt', '3VKeOhZ2pYJnpJGokFZLJQ', '4GaHDvZWlZ7NtcGdIz7jvT', '1CKDPAYPv9QeMgLD8nmWhz', '6mamWhhdPEd5y5IfHmCXUC', '4D7xfG82EyEq3BWglKNS6A', '0MIPIfJMv7GoAf8gAIsteU', '2KpqbUyQjQOcbISiQmUm4s', '5D1woZsNamyX7HaGuDyCK1', '4RwmETtdwq1lIekmQ0auFL', '5RiI52cOum1hvPA7ktnrOR', '7vyHBfRfPOT8Sxy87P5osJ'], ['54kgZCCHhUPnQWU0T8aHb8', '2syATVbS3of0GlG6crdmu4', '6KcFLs8Ujk5HSyOiH7iCcC', '3NDB9BZNcG5K3vgdUPncbT', '07juLZ7NryVlDUDAsu0RZ7', '2f6QGyAso6OlpaJhuGjopB', '7JPyMYqSoFAS2pKMOZomDO', '61AMB6Oddyl1hEUBd9A9sc', '4NDzFx1QQw9nxSOk7PQJ4I', '2QItDAo6NrPbTLzYYg1j8s', '4JuKjgd76AZn2fUaeXNCuo', '7jHrOWtneqPZJ29ndEaUHO', '1dP8vfs0Vt1uNk8VbPVwWJ', '7z91neKtQAc0DnOyyHnr67', '4rAO16HPp9ZQZ4bvclqVWe', '5iKvDdecBJSQ5Qg46MN135', '3B7t8HFv1PowgvPsLq6Qbf', '3yj9YnQGTdnFuKbDyXGDi6', '6NGDDMCqCjNn7HOfnVWscz', '18rkg4zW2Xuo6RQCZjoq10', '5Z4GsFxPRJiN9Qme2P9q6H', '3l8LWCr0z7TSPwrFhJCqbJ', '1BBBrRBb66heRlQ9UPdhQ3', '6HZZEMqGEsgkveYAGbjWCw', '2Mqy8KOD7dNPT9woyngrIz', '6IUydBH9TAZUlLqdDI1m5g', '6JWSHUaK7oIekxggExyj6T', '3ZqWgDb0L6un0twcnnuL80', '1uEgUI0ouVrWVeSImmq6xh', '6aRR1ZmHR6ehjbhlsoctG1', '01ChGD03RviMTi7OLvrxVG', '2XWuLY8J7ViTQ7Gl3ZV9KV', '2MxKA7QOz7cY1HiaURHCFV', '1afcjkK4GbaOpct5MpecCQ', '3Vy0xyJdPMRV5TYcVz7VFB', '34eD5NULhGL1L8yyIM3wwj', '5E9RzzgZEIPkm0RBiU7fhM', '0Gw9KRXYUosqIqSg11QCHS', '1KEVi9iz4neinmHtysrz7A', '0ECY6L3aZj4482LRSzr1C6', '2tzFkp6VPJPeAhFe3b5uHk', '5gfxq5LS8ADzgAwowpc184', '5gq09EHjJ3FDzwtcfT9rQr', '6vNC4BQcm58d3V81c9Sq1o', '3jYAVSY29Gc023JUj7cGTf', '5LNGaRZPGqluUQWQBY49WS', '5Y4PsNJu3Nxbhhf82H7otO', '7oJElJ9V5z6jWiJEA4S6DM', '1hWRRO8uP8wgfyWoct4iAG', '31U0LiD36ruLhG73us9ild', '4tuh0hKWxyrxLpEcjnaQmw', '33VujNIodgRGBI4TUuB4mx', '0UJnA86zRo8KYLPRygkrxd', '1PcchmaFs6UcnBY3lNpcZU', '1QePwfTwgTHDxNTfycMOqE', '3yD30J9sFKpMe60dbvfrIs', '4mn661nDOTi0yboUpcsN8g', '2BdFdt6mjGNmXAHogW2yNR', '4MrFNFcSkTQogqtxqELYCu', '202xgnWdtz9EQx5fvI400m', '7ps4PEcNxt0xc1LN3rypdg', '0AxeQveEqk8X42sovBCls8', '0NpfMj7fmwjbNa3DBI7zIg', '0IlZZPBp9JopGyzbdWoECa', '2YLa9JlRnHaBVG5cSWxdyY', '136hER4CtHABIFZjI4FTm5', '3CTDwtkWaW4MFPxYMBfwDA', '0xEa3FPeHUyc9SfstOUTGb', '2zd6Wmq9sepWQFYWQAuyko', '3iu3MWlcWJi7gBoO8J0pwd', '34bhxCaWrYi4kF67mNYiXW', '4Dyha25pIbrEfMawz52bYE', '652MEBjQfhjqwfoKrlaUK6', '3KqrijNkb21PAycB7ihAQG', '23eURZ5FEalyPiEXsNc0Ir', '3FJZxcUxT0pnCRNeFoO84k', '6GZZzXWc7QfecxM85804b7', '5VAMd4pUDoAW3dJS0FZyyo', '4ZSoFyrjgbCFyQssGk1HmV', '5iIjnHvG1FZpz4QWo7InVE', '3YjMQe6dZPhCAMwGIhzYU8', '1KO29VXKVt1zMzch57JlRU', '7FCVjVoaNjv3ZSl6RxySlz', '0XsYSjgy8rwnIKalWCm9d2', '4pkdnCP0Wo9Yg9Mn0XGmC8', '3T3uJTYjyJMUsm9y10xCaH', '5YR7tBihIt7vVZPrSGmQYt', '0RMEf2lXntVJFym0GMgbbk', '552Xx5pWGNMm6olPM01Dzz', '4DxBnbmJesJ6kIOrB7My9b', '6pwwr0yjxNzMlY5Qr20cEm', '1NbSSG8t5uCu4rXC9Z1ZIm', '1nJEcAFNHlbITIZ6vokLFi', '6teNoO4vmGpsK5A1e5C06D', '6DEKx1zncvF5WovQK13IIk', '2O6YbzA8puEzHJ7KgTBaud', '5Z5hPa3ArCFK7CXuO9slVN', '4JaG749wpqi42yvjyRDvrU', '1W1ZU2KC8ycl8BY7naUBlm', '7KSROI8I1NMYefNsb0TVlc', '4b1bpJSbQCFhWMAMxnX1Ua', '0L2bKJfUZ2qyl3rpWtckuv', '5pdfrA4R7XwGfVCTgOu6f3', '6kFjZNVsJZVRGtjZsHbi5U', '2qJGd86E5serYYcbu5zMHL', '4gukXiaMVSu9MMuGOJCTiv', '69OpOkQ8dkxZGn4If6ry6G', '4RAPHABokGFKIujJvYgPkS', '4xHYQJKvXQOORHG2Vn3g3V', '1INVDvnPWXU4tJBxQzVhbe', '4v8JY0sgEEtXgp4bpq64w3', '7EPz5p65YLw2YTfKhFGGZx', '5fSZTu6aISl80OPrmGu79j', '2Irmgvta0tsUY1iKDxLrlq', '4y5XC6IboulSyeN4WntFSp', '0rvR2tjFUlz37sgKpbbkpd', '1EXLE0tUjX1kNxRdIS2V9I', '32n9cJWxwCLy9bXykIu2xp', '3i8QudYaXilRrGFzIw1Z4y', '7c5F5HnMg6HCmYQSV6cxc8', '1ymgn7ot4hxSvd9Qrc96HY', '6tfBAhlKKQYI37j57lsrFs', '4tFdfzu1PtgfCswieM6Qlv', '7Knuekk6Ztk9rAqOqsuYn7', '24GT3KBxuEkuI6ATbiNBtg', '717ElBQx6j6dWCk95V65An', '5kqENVAiZLnPtB9sfXWcHw', '4w35rvp0TynUWuQH8yL52d', '6gXVFkNldt9IAzv1U5YSaj', '0HXfd4OQMYSyRD5Fc6mHqM', '5PunWS8lpbtXO1j0jQHNzI', '0Dsgav1Lw24dGSajhPlDrs', '0nAbpWAj2ULBbTbdE463GO', '6odC8x54AS8rzUqHupqLDS', '789X4OqEY89gjusg454KS3', '2ikWCh2wOfp5XtENdqaAQC', '6Vwjb4YyR3ckQXU2k6cf6k', '7sve3iZzW6x9ec1vBbIfT0', '0vkWuT5Rcb1BXAChxggTO0', '3yFZlBn3cORhGoEfCHTdKk', '77dWlkvz9QxTMVTTM6pUJn', '7ttM7mbHnvZkHxX8Ogi1ot', '7dJlO6VYlCSlfxued1pqso', '0qvqjbdnqFkCeR3F361ppB', '0gAxIT4vlDudz3WhfKYORr', '6ZjTAVi7EIot1EPgaxoyO5', '0l6PRP6mfP36xVpNCZHvLJ', '15Pf5vEi62OADJC7CLCmFq', '0TfobunOqQzAmoQFi3s2xw', '2GvK28xdNdKftHJ2hL2lTm', '4yNDcPd0nDsvsVfbV1aWAY', '4F2G9hHuRT4T6wWwELOhHI', '3u6gu0XiX7FSpKP6F9CyVx', '7BvhYqKX9xCjKKkvsiowo3', '4v2etpAUyEX5sRicWn1IHC', '3PgRe3aEtNXhWm9GOUgOdG', '2SWTtMcPFUDTe2W24SviDi', '71YD8cHaPdQFArdFt4J2Uk', '2bfQBLvjoloMK1VoWFDimL', '5JJqX7mabvOf6x2SfHqnzU', '5d8hp3Esh1XFESlcndQbVy', '3WbtZlOoR4T1XmEcHhUJan', '3JqPLi8uM4ldiPdT3T6Oy8', '0hxVmcfrIAuXXps0kX1aN5', '0lLw4zuyAnF3H6LoeSngXb', '31kp3FbHcLyawjY5YWDkHb', '5kredHbbKjb6EUN5exsaQh', '7EoQ7i8NXQ2wTqVgIYxlHb', '1m99ucWM6MaHokCPC5fGNq', '2uGGrLVv2N0rO7plbireqP', '0N6QvAfo4DzWoUBn8x7Cof', '2gmlwXEHmmvxTG6JZN5uBQ', '24lpzMRS776gtph07QO0AK', '19xCJGwHkNsJkIweqKNPR4', '6c6EDGbcWdOSUvTaaUENyg', '4XZcgk4PE457JoGZ3wewBJ', '5Rw1qXvtuH9uqPp8XJAQWN', '04QZ4QK3XPrApbiFOIXJJG', '42by0jpew5CNgNsXS9rjkq', '0vcUt06PMmyZUJ9BlAu1Xp', '1T35MTE40rPXbmU0O0Hgyv', '72YvCUCAsq0K5WD114It0J', '1v6HfvoEOSjwAyo1XsiQlu', '10h6jCdDn1SWi4cL7zRMnT', '5YBynNTezyhp8SIwyKYFXc', '0vJjFo4hpIQXDbXdRjAvA3', '7seza3m5qG6QleGBNzhEqM', '1AkiJzybsK9zKc7m11lohJ', '2P5HTtUzsv4lDR0rOYgyUT', '5QV9DIzmUFiUiyBGWWAuGc', '3bJfKd60ASF6rRzlcTzF8T', '7EFp3Wiscy9r6DhBoOxmyT', '3ZRXeCFgXctoDbkp02G6Ry', '6UoGOaO66dBAVTxz5PWa3I', '0JCZPSxbQAfnWuO8GTaqaS', '3Cy2LdkFDxcwVd6wMWsGll', '3IYiaXY49BlwvlBaFcFvbb', '5ZkLWGmHP329LAyPnpvydQ', '4jMyEE7KJvYFS2SWxBfEWj', '7Jzn2v33l8RYaSkbg5zS3g'], ['0xTQBGbsRCabjI5MwUieJx', '47ZxmSDiMbeFBad2DWNxnl', '3FD61seVkp8ZlSde7haVlh', '76EUKJvEF2zPCLt0AuPvXT', '3oBf8kc02esfPC3PUuSZks', '04oO8fvjG3alSM9OcEfT3y', '2UZjomZ9r1O9gWyT3BLOZC', '5yIGJGL7xNaqIMDX1lyBhK', '1L3GAiiBL5sBNbDEAMGMEA', '6aX6hpDdfZa2zVfEv82Yzr', '1qpcTBjAx26Xiw6ZClVVGm', '3qxSuTNp8RQ3QAnsQkMan4', '5BsjWwpsDp6nIjGWDlep8A', '3CBfMoFYBPPtZNE3uRlmZi', '40h91GpdbHja6VVsnetD0r', '1G2wEAoTNmKc75PoOvV0P7', '3uzi1GRl4eTJYyQhGvDf7X', '2STQEZpFAQHJqrT3UhRNIK', '5PZu55kuQyZjNE43eQuuTB', '2xnB7TJO3T8yTGwrRI98IO', '3TrVU2j0y1Og2K9wJC7Mh5', '7uGtuTM65i6r8zxYuD7Kwp', '3hOKZkKbbvR05LZsde28i6', '4r0FbEBsitpsLSznQocRrf', '5JQGQrj5NYeAgUvfw5IPp5', '35qTca30VI81L6lzyZFLXH', '68yWjo2Nhi5q74Q58yt1mU', '4NWfwcqBdZ3wltgu3BESG7', '4KgZ9ZN10RfjRxBYkj6tTK', '5dGF6rhQja0vlPM2w90775', '0TGIGqHl7lhNPKbbkjl4uJ', '7lqKESEBuOaNuquLaHdKrO', '5QVCFHi3JSGOzmHXSArH5S', '6FkNnTm2YASOamCQuUqbWx', '36XpvcXMR4i1VeKqRaHjOF', '7kEE6AcLLvewkDzi1KYKzg', '26PD3pjcSfPuKUDV1jgfX8', '3VuEOL8OL3qW79EmaTSGKH', '55CFBhiiIM4k0rUYbLWWPU', '6bVYXFAfDGQZ1sZYVVIleo', '5AwY5kfvipRIDTcdL1NvGA', '3urA7iwGhdJZDHWic62XbG', '6yjR6aJHgo1U4xZtCfnnpI', '4ac3WdJSdYTu4MeN4MWzEX', '2aSAYJHZZvCgwVcdx7Z9Tc', '6i0BYvfWOJqInADYJ5s28g', '5mfWjY87onijayclKZSR6l', '25CjEWHDPPGlQGFikVAGzO', '7HprIEFoBD1U8U1RfYGagL', '0uGAwKwxPsuyNXulfbXNJp', '4QfKDPRKBpVOpVJYQXtMuD', '66fhXV1IXx8X62kLr2xOfe', '4cKSNfXpPF8S8u9ElShWi3', '4CsPbPD3uTarkMmj4QtJCK', '1XYC5jzSXfaiWGalqKYrcZ', '7nhthR622V6o8iiPhvPgXK', '0oTxFCoLhXUgpBWXncmpV9', '4whPdnPMrHNeuHtDyyNWjY', '63XcNlx6B8Ilew6hsGPr82', '19g4JAc7ilM1LdOkb2zwVU', '0IWwKV3n1BCwhQYInEw8ef', '582CSS08pv0fDNkbzOjkXN', '0wu0GgZYI3a492oNpnpjBZ', '1kkrJvs739R8GjFMJPeZ2X', '4NGiic0EBZXngL8QOk9JKs', '5KopCY959BEZz4oWcG9yNS', '3D833et5AHcMcMApBSml5s', '0JoynXyEsqFyxTn9NTZkFW', '0JrzRKCHxv8xnuAvMk5Rnd', '5yypyMHNDrV74CIs4YpY39', '4FDyoGuEDFctON8TbzhvsC', '7lCazMg1AalQrclLnSpn7v', '7t0fe3aPR0OoVQQi6VDkeC', '7zD2SAStNfZ8oaEKfWe8gF', '27nN5LFsfA2HkilFH9fRCy', '4MitOn8IVtRjmWWUiSHAQo', '4RhTDgamACZmaRxweHuzAn', '29uSVHov0bnaDg60Q8fzM4', '6m6Q3yt8RDMkc4krOx1s4V', '4WRxxd7MJ2doyQgJ7QHjKa', '1qFGMmJE3ks2kMWwvwNbSb', '2iSGlKIWVcXLOFGhFO6uWJ', '4JVSAJQ38YCyCQvdOAGjI4', '2iIvmLhYQN1NvazT3SiEMJ', '1rmskknWn4KPtEC6PHh2Rd', '343D6JcycIsM2fF7zaR9cC', '7DgHqjwOkRvFHkTQqlXtTD', '06dBdsfZUXHNheFpuDrA24', '3G4WM2M9DJkEy2RXn5sCq2', '1MfuuCRndwqJIGz1yW8aHH', '01jM8RPDlNtIvBkOsRbdMR', '1rYUoCN3Vc5KMfqsKvlVtv', '6YsPOwWFDeraCgnUg98Cca', '0iMt55EhVZULr9oClWtyOX', '4GMCrTNjDoL2W3DzqIkbOn', '0PdixUwE2t9E4ehH6TaTyi', '428nFFSl6VXYheqlggxyvJ', '3gL0B5dJ4WPM0PmhRjqcQU', '5wpajAJ7PjWmj78XU0fcve', '7GrVgeOVSntOJRJrzecUl3', '4AJ7AKAVHpeY9DRDEctqYy', '3QHC3pILgEDrfF8GKslczN', '7n8jgo5lx7XUOQXC0Vaqu8', '0o5jBx4Az0Klnb2DXRsKzD', '78cOU3Bnk7gqtnWRcxZvlJ', '2heQcYVOsKpYjaKfm3Tyfs', '4T1ZiJC9fdryPOa47Pf3vl', '4tpLmmkAvbRGzP3wMpYCdX', '4Wi7kR0LDvvxbxosl10Hke', '5NcfYoFq5Vdz2ESRcEfm0K', '64KEXfUapxhkmiqKDsBrbN', '5HyQ5GsKMRx7eTPoZyD7pu', '05hKvjsFjE7g3Pnk7Wxvwe', '1y18nWKJAUmRUHT7sbLABU', '6xQfoAD6GdXI4CWJWzTgdi', '0gGcEI0i8JLJwb01lk6zlK', '0rApSgH1yXT0cr4hY3rlX8', '1Qc7lRgdYegu5Cjz1XAX5x', '5AUR7uvz1rrrJWuNzzw5uA', '6kWL50uF6lux1Jiw9M5yhW', '4GKXtm314aU5k54qyleKIs', '4bcSFTS3Cfc2l37m0pWAsV', '6phPOApF7meRbGVLFmZ9hT', '6i6Y1J0QeCy1nnBL59MShA', '0pcdBX3CHzyOFHeyu7RAQI', '4wQOyJ9wTOnLVQxIGPZReJ', '2Tc7Rt8asvPRsbBhe7vKDr', '357u2T6QbgZU31lJ3RL5S9', '3Bf2Oreyh9819D3Mgf3tnK', '7BIh11WdlHdXCweFeyjmJ6', '7gkQsGnpQRJewjCZuiZXDI', '5LZehZZegDGsQ51Fc6jedN', '1voV4h6VlOXXGfPiHfhXOp', '38aa26lM0hNnfD09Yjk84t', '2b1a66G3u1GA6SrCYrR70S', '3vwdMfg3WDnvKceVdxToTZ', '21NKqoIPor61ETw5GBvowf', '5BMdrlJWc1MbHySNCNFHUU', '4Rh3irkgUbhXel6LSPapwc', '2lvWEEJ981sRN5GQzBvayl', '7zC8y6bSAPAgorCGTJUuVo', '4scdFEeqzm7Z5n0cJghVFD', '2dLBa2Id927DSbDX11R0h3', '2KMDVWnnYTOUjqt8hH2xXC', '2opcyo5sS9GMhslQoYnrq8', '2i8bdWfRsaWbyrwBEZauU2', '57Y2FWpsh8Rw8nrPFatqCY', '5B3UjHWa4cJ3pYd8dIiOKy', '55v6fRnQDki7tGhsfpScvm', '3b6DlxxGF28XXmHeUI92ns', '7bqLyNAboQ3L7RxCXP2X3S', '180M35eDbTmmTCZWuJf6QO', '1m7KQp2pFxqhVvXnde3nNe', '5U6sjzliZV1cOBEsICkBbO', '7xy3Cy7QkWNgDjkntVvda8', '5VedI2ZC26yEKJ8JTA7OuW', '1ew19In22xhtrdpohbzx6K', '5OFsiAHgwlYHB6XLK0kJ4p', '5TDA5AEIBeLtwA6zpETBe9', '6ori9ZbkjwEVOs1ZccBq0W', '4wGggyxDGqchn47ZFITV5b', '3djem4UfHRQUBeOMxtpY3p', '3EA1iYJw37b2uUJTZEDQS8', '3AmA2Y3NnFBPj7P5izmZIk', '534dDLa6qUAXMp5paJfNbu', '3dlw4x21qVajwZLPNHtS3u', '5CS6xvOkP4wcYjwTKoa3as', '3pbcFy76fduxG4ZOZ6Dzks', '5d14ZrDa5uxfbseFCO9KJI', '4nSrizFStxySLAXtAkJlkd', '332sHfXUaNawEwiK4brjaQ', '1ToiYTSneIiS6m4pYfrZrI', '2Uu1r2ra4Xjiweb2VjDkjl', '6f7Oxx42lZDo9zQlKS2xWp', '6QmEJ46xBnlEcm4k9CstVu', '3s3pJrjR5muJh69yXzuHXM', '1fO9ZAL1ke9EzwHMSJtR4Z', '0tB4W3LMq3w6RyWwRyvtP5', '0Av2pdWJqTIoVGKEVQjojm', '6SXmwMKvXP69OpofTvWvdS', '5aZ4lZlDtOUrxAOipWB3r8', '2cmBKubFYRJ8QfvqJibiTS', '1W3oo9Lkf6svTwBfijAQdK', '5r8MCwCLbB5IPPYpFyQYG1', '4mUdxCjluggErlGYq7E3jx', '4qBVIfsK0B5SadYeuCCoSZ', '4ogqKBfmZLAiIUkpc8FPTz', '0GO4HceKLkcQHrMkSvy9tM', '3pzSGkzUJDkkNvNBq1lrx0', '2LxpkqYcJkFGJxBbDsvveK', '5zHKUkCKINqHTGL2OlrGW4', '7KP8dP2U8gcJzlCinFo6mo', '2W9yslxwwXvdsX1gpLETYD', '2mb1CA8bzqttQcD1HJaPyn', '3pHXSNDTpgSD6wWoxjjEqK', '4b7GbUPm9ikbMF0G0finII', '7DQvyqAdgiGX09fZlo1JAj', '6gA990HYUuwO7HEyb0l4RD', '7bavRpySiSuZLFPkglPRK5', '1OryHghVEZcUUosn2hVv6V'], ['0anECACKGfUiaTd2ILI4NO', '5vdpHqiubY4Vkr4nLUbWY1', '1ZyQy6seivo6jkWyyTmwWs', '7HSFHkTHpBbDuhTyP68zww', '6xPSm4RMB2hFf2IPsicWdI', '0dVrcSQJwNj9Klq3mP6MKn', '5ggt9QATTOmCuRAPV3r7QF', '3nbCGvGDojsTWlcFKRBiBP', '20cUBDEbmqhNmklStbkQvL', '3ZoEx06KGNEh90aExmyMf0', '0spsvp2NNHMXDezns2YSGt', '3PMlHfN3H3GmOcTgEcGwJT', '0t85wrZwJdkmcL015OytYz', '1kmByJrppUuQigskkJmGgv', '47IU2RY3QPp07RIcQ1vOOP', '0mLDT7xPUSqpnDEoa5DFqw', '4uSZwUcMhCdfspqtWaQGwD', '6GTqoouUghFknnAozSCGnj', '7rAlDSQkUjL5aaGe5PQDd1', '7GllgsTN71VioHh4ksZnEm', '2Fk5nop80n0zvafa2zf6G0', '0gdPJDXUHuVod0WX0DEZpx', '537P5gB83q9AmtDFdFNBLO', '3gDyXNhx15j4TSaddiiLq8', '02oJlDen2RzezPOYqrM7LL', '3esSvKGfxhvtlpIjKE6ORD', '0tgPDhmWG9iaamzytuHJ00', '3BMqtY6C1ZQaS7LbanRysj', '1LwkgEPHJYlvhv1YjwVGY2', '5yVWA6mgrbN3iVxSvftCbk', '15rvzJq4AVJG8s5S7HfDqy', '5YLwbQ51ZpX888YWodZpv2', '0o1QLc0vIBELSqrIEPXqQg', '0q8tZkSf7dCPWPyrGsDsNt', '7m4rhZGOMq1x4FGZjF9oy1', '7gWXMsnp6meAp5LFCkUQ22', '2A5zN7OTP4n64gEtsFEO2Z', '1kb290FxS2RxqU3ynl1X47', '3pouQuoUV0BHp6yMFYq3iH', '1fcPcaUecENuGmupx6P6xw', '32IC3D0niv0cIISHsGtehW', '2d0P0oRPgarSYL4eYYrpl2', '6huww36GD6XDSDtqJg2dip', '51Lue3mq16AytV1hftXBPV', '7LkQdN3mSOphnFoJpsKeUJ', '7dWozFDD5uTTmEFMcQtGZj', '47ZfWnbCNyu7r1qiYSdPq6', '252DtQnn5XzYtKs93VjCKE', '6xIivwu6v2453oCCJk6Wxo', '0PjlGObsM3O3lx4FRZNIYL', '61KJ6kPuE41yTp9SrHvWbZ', '0FAawgV5Q1GvVrWlqBCxDS', '6n2KfHmhzxgfssyfKwnk6d', '3pDxuMpz94eDs7WFqudTbZ', '4BuZUQhlBoWtjHVGBI4vKJ', '4STQEZTDt5QijuCxmg3DpB', '0rBCyHxFqc6AJ7QOvmGXJZ', '33iTiNZMOCq4lB9KUZtpAf', '5rPMSk9umM8sDDck6ZMADh', '1huHCOijpUblke7NFBgbvM', '3LhAq4OTC09y9SsmoZFkx2', '4wJ5XPnKuXtHqQr4Acj3s8', '2HhaArHsOiofpUheCRPkLa', '1HwHGzGFWk5nhDkezPcOAK', '0Qvvs6Pba0ShqUEBzFyHXo', '2XVUcZxcdc0hGXgaHL5iJW', '0c63TNJqqGvaYq5VxndOAQ', '54z9sCdnMoFNmWuxczmEYW', '5H4y9vLqOhWGn0xsExGxKb', '6k6r5MC3SdPxmpEGv91qVF', '3vDCIJyWOCVTWbakvAtInY', '3O3m8jxqqMXr0Iai69Xd1Y', '293CDKWmDYutJjtVGJaq3L', '035YZGOcXSUMc2ZaOVd7NQ', '7pQr2CwatdwF1hXPGCeD4t', '24sHQKaNzXX45rkgzzAiEj', '7kW4Nu3Idy9APaKULvtIzk', '7rgZxT8hUhdyyhHSPjOiwx', '2vXOV5GgsBZo0lJsqxI52K', '4CaDH8L1J3Pi3QECNbkI55', '18ZywYbrAISwG84Hubuj5y', '5RF9QQP7ye1w2ijt4TzJDp', '2kOqWrWGa7WGJV7RGEG5nI', '0cFRjSgRG2OvJWz7TIdZiM', '3hlXbOQHxy81Epj5j9ZAPE', '3AQTwSrkyEbZBguO5TbFlV', '2dGXJ3KpdWfcgfvNAb8QPc', '4bCkN6aIITHJ5ZQUjEUxB6', '7LCDE62aZPVgyYtkFjyGA3', '3elrAXLuJ0nSNMSAhbDnqN', '5lw0UguN3MakCpCgkxFGpM', '1HgonOzDQPP1RZZjetDXFb', '77YVm5eFKT8llUPNQoFnhW', '7J9GDUnv2JMOvNK6xCKCE1', '5tyezvodUyCR9NhcffeDLP', '6QKAxYKU56FgMWM63OXa0f', '4NCTzrcXK5FNg1mCOTvk8c', '39BuoNZBKIXk0oIV6jp2Ep', '1IhmjinFqRJffCiNI1NBPt', '7EOgfsmPHIL1axw7Y9ojZK', '4yAZkbRWxLUEqjoFfxF6wq', '3fMdIXXACP0QsnDHT8Ctfy', '1LIS1YWqU2NRSVl7aAINyv', '0p1TGME5wvY7wMvWImiDfc', '1kjv87IO9pfWr4WI5N5GL2', '6S2kiL4uEfMIjnMYgBQR9E', '53vAv9tBLW9wx94WtVl1ax', '6kQjCM6fYGrb5hz9Cx93nd', '7HnHpNGscFRHf5A9eYEJTE', '2VwTK3cRlPYlC7ogDiwPsP', '1pPP4qxa52IibyFV6oTfJ1', '18fOS8FrEmjHMZKSt7VLqs', '76roKwsb3rNacnWYupZEgb', '27xmS6EueK1bODxW6rrdJ7', '0wJXJueXiwCAA8EYPYZqOF', '0n1bX9oQZk5d9kHokmG78N', '2wyhLEyF9Oju6B2MeAdIrY', '02NPFyGAScohVgMt3JN00H', '1PDgMG37HPi6sOliSCO0GQ', '4o0EmpttDzyFOpMpDvDDXR', '1bhivX7hCIUM7hiYlkn6Fp', '3GPnlDr6QUwAM4LW4gGOqy', '1ZFyvM37nlhYcbCEi99Rlu', '1XqFISoYLSOgqSOekdJbwX', '4pkYvU2Gr39rQZ8JWzbdyc', '5hOHDErcdm4GjuOl37HMy1', '2J08xzhYyCicufClGGjqtf', '4CpRYvOQvDNuuTuO2qItpL', '6Q0lnbcxTFNpDJSNGkRHbL', '08gr00aRmFbRxf6DI6kSXM', '2xsh3XQTK8Dsi1rIu7vvi2', '56gW8BV0CNYVMvkbQTy4f7', '68rmL0aONaVZnsaa3v9aec', '1QAkhfq1AQ5MjyhnRcrdjp', '4S0dEwHY1tHedrYTB6O1Yi', '1dQS6IpttEEWQXrxyS61pl', '1Ee9iZBp4eNLzR3F8Xf8VD', '4vnhpAi5S0LSNQfzWSpkZs', '3UKdkSRc7cRlLvSH9EPyC2', '4DODYWjfOmrnzvGVfeusIs', '6VOFPHsVHwKrKYTCxbVheA', '0FfUqDxjstCrw4NNmVjuA1', '4AQv9pyvgAUI44uTJuV8Og', '4ZInSdk8VMhCM6WmRmfy9w', '4hq2AjEJsf1MbUHmokKrjY', '6Mz4j5CTDBR3V369aRhLvw', '3NN5dcWIgMWa2pz4hhubJb', '77sv0mFP4YSZgApxcqjaOb', '58UKNHdZKjKa9q3gPPwSsC', '1aFsZw4oKkoLIikHiyOSbg', '4sW1wJHqw9ji6cJ3dAs1vZ', '6JqQli6WY1G043Mihy3MBp', '3s9zay08uorAo3wkp17zkm', '0MV4KTW4H2ezI4pKMcFID7', '4uLg82FvdD0blplTBTmR59', '0n28qFv898oSU4ixRP8ejI', '0V1QibeEirHFpZ68S37kGy', '5DOjUjlPPDjf6BOY7kiVX4', '7cI5TNKzisUNu7FmJwo4ej', '7w6EzKwGvdYLggZAaq9xw2', '5DH6UVRfPrrSsWerklXbgN', '2yCU7LgE1wtFLeAyXMpN8v', '2QusAPixVAakbqYcK087KN', '3JQiRugE3VcHpSsx7TB5lr', '687DQ3iw9bFLVtheLCvqba', '7jAbh7lCrzQWvRguJ3cjWn', '167zi06RysrCJMuEz0M6XP', '2cwPyHOQVEz6JwTeusY3a0', '1zBf0K5DerTUDg21eRayd0', '4b1YHugUBM36zH1diLulcu', '63vYFIQmxTKK0k5hrc2xsS', '2Ndvcc1Qz9mNbQemnforB5', '4pQsuD93z6mS3M8mB8ifD6', '5bywGHY4NQKcTmGXAVsf3N', '1lVBYFbzpNc3bhAeXPpY2R', '4T8VmUjhJbhSZbI1VrTOm4', '6TscApvuF5633bG9Nd90vW', '6nd7e40rgwELwkLr9n7jBE', '1mGgbI8nhocQ7fhO9oWhbq', '0Wd7ru6M2A4bqzvCTUtQ3Z', '02OGpAADCHQbMhxilfo320', '62CfN1iGlw8MZDMht3P6I3', '7AUHk8lhB0F5FdLw4afbHz', '6bLWoiHrkb8pP82YGCqCHi', '0XnPl86ItWuB4Wcvb2qfC8', '0ARblR7ZK5o8QPd3dNnjqr', '2Xv4bSyicyKg82bTnj25DQ', '6AJz1kzYw4LXTrZhWRyARO', '5JFfeYhpP22w4FId5SqfF0', '2Ndst9OYUnoYIIrIc8TaVR', '4cJaiQ3OSsF2kxYbPJZkQc', '3n6YvqGNXChaeK48hiYzRz', '1sYzsb7P37XzNZoUR2GGdm', '1pkTiB2M94dKQLcG3K5z4t', '5yqIDJMkMc1KSGQFmkXxKx', '0pxnL0EQc3EFMYtxxL1Fkj', '4upEmOBYcHnD0utzBsThAD', '5EUohEUu9AcliMNkh0uTYz', '1aAckG2NI0cuL7QDKVeV2N', '1UiTEPWvJjpWPJfsH3kpcU'], ['3hUSSC8liqZwkDkAKoXEmK', '1iAyidkrH72ukfG3BSHTqL', '4TfWrzrgfgNxjeOim18ZSy', '1FkKYGVDhApqNGoJPkBG9j', '0mAl3OKvTiSz5tiwlW8fUD', '2ACt3AX70sZp8hJbn88JTm', '0eG7lHRXnfTMVTSYwdkFhw', '4s63F0tPbBZFctstOgQ6dB', '4FGSq8L27DzNOAv63DbBSV', '7aRjOmjIA4T4AIvRyI1xeI', '7xVNaEai3Tk9uOZ2p3sdg5', '42I35nX6LVqu5PqNj8824b', '0s5kSVps4n8Gxi1I4444LZ', '1PJcHjQejGViKFWUhkEaGi', '13rgRSFVuyKQ0YtrZDJD6R', '1KED9gpGOnUAKU9ChGCekB', '6ewrhTyrUB7Vh24nb9q6dR', '2UITkS3qkO0x6bKVzKZrbS', '22V60MoCj7rBWKYUBKE0WK', '2ZkLhOcmoFAzSGx5WMiU0I', '0HzeEyoLQcd9KCfda4yBoA', '7dAnb4clKDtv2ETIFAuXsA', '3uwJeZkSKE219OiTdOV0b0', '3vcdeM6ldGdBYp6mEKTAKQ', '1qAgKdCyu4Hw4dViqFc2od', '5HintVVklsFbeTTlQFqmlw', '5LESZghBqSzHNi5DR7f3A5', '3tSxvStT2zgdgPcTxLdI3g', '14iJpIFvqItkSS8jsq5sKB', '1UOmuputKRhxDmuYDoaBsA', '2MozR9FnRi9Sol52JfVvdH', '1cwrDRcEeToEkkBZZapTVp', '52tw6RvfXQJqEwbXPICg84', '4P3mhIRDU6iwzs9uuVFsyE', '65dulZCpRQYycXzkRXiRLj', '7uq0NF4OnW8uzih15y6PQk', '0VmoyqrenVov0RIbYRkcp1', '77nomJaQw67he2cnzHS6kj', '56tBvLdVfENitF87723bqz', '62h3iZoEvjJrmy42ucMytJ', '3N0R1GcrhHAvCmSSMJumJT', '2dTrKvcQZORH6t99jDV4Pn', '370tEYE4lZui1vrufdq7xy', '3oQe51s7JnZnVSbZmMY21m', '3smhgA5tMEWCfjqB6WF54r', '41x6s1VU0XUKV4TlvB7dEn', '5kDzf9eWk24U16EBkTDdpb', '1H1fjUqS8T70STFOb1Psyu', '4lK54lu5nxD3iMlCXMIQwx', '2mVv3SQVPJ38r4zEHm68Jy', '58ELr3yC5uxg8QsQWD8Lmy', '03gMxUW3FhkHIrMboQGUu6', '1fymlByuu9HabrD0hty0td', '1OURZGZJg8RYmXmQQA4yDc', '2Ir5MP20VzC5Aj62CBd2xW', '5RlrJbvsNxoGvxAbXhzjYQ', '6WUctoZjaabTMH16DrsnXZ', '1dDJAUMo7nJlS3NWZbRIUo', '4MWPOsshMgyRmHmGj7cvQN', '1rnJHknpDL8e9EjJeI7d1V', '3hJoRP8bV5pbXa2AienPS5', '7EJiYcxL0iX886o8wEzsYg', '7JMWNzG2Av3PkWgZmUO5x9', '1dYPwHG9KYpf9sYClhTC2k', '53pmQn6lXF6m5WViERilQF', '2mKeOh3TSHzA5XioOb0D2C', '0jroRKJ1TkA37bjmw3o6F1', '2qY73DcwMKoAV4JAfyXgD0', '7KNEp9goFIQIuIwqFDFgTg', '3cOxzJaR7I8ejYJfLUOx3f', '20RJLH7bkXLWkHdvrdcszw', '1s2jrVIrwTByHfgArNRd4F', '3YjCK5F0D78d0WXHcwQ7tq', '0oSBswMPV792Pth26EyI7N', '5rtMeX8LhfQCuhRTvWR13P', '3dI8uN2meX1IvAYwqVcmwW', '1jQcMY96s1kWcGGbeZjQY1', '4dwu8FLKXg4J3LQ4yHdVfr', '0ycoVPkrIuTEU5agjtyrtx', '6Y6bL0xU3C0F7QNNATnL6P', '53c317ocGcanb04Adxe8Es', '4diVi2jC7STpTqUBLWjvbG', '5mzgXrKqCpgGzapB3IM5kM', '1VlLDwrmsHR9hVjN2jroDJ', '5oz3BWXPGFwtM02PQxYVXt', '1sJYqW3R1pN0urpF6BPDNj', '460OzdtRygFt2sDZYDIlxC', '0sgOpFhZzxGQVvvxZei6fH', '6y8Q7oaqi56xodW4PIu9fP', '4b6NJsrgYmVbDsOclVNDud', '3iC8vhGrOS9XvvWBz85jfF', '2UCsDf7DroMDIIL4SPIfO7', '4diPkvLp8ZKMhERnlQjNe8', '0MITgTVdGQEYvGl3zSonPE', '0Z6ypDDrXad1QMj5EapMEV', '5litsrvBZvqdKKbJNf3cod', '52NjfVJ2mAEaeOorFvrGvk', '7nIarVloLxPcdqFB57urun', '3TgrDupMYLUWDWseF3oHgs', '06G0hSMWWxpR8nO0qzITLI', '2Y4LlOD06D7xMYCoqUBHXT', '4L18ziUY8P9SHL0dv0SpLX', '1MahKbTxPADS807KPwQkHy', '38HIhRQM2qSIRTjUW00xwp', '3vvcydnbjOAGsRtkfLCVON', '7DZDNqoxWp3uIgwTMHdBN6', '1a09PfpMhc1BoCtasZBoin', '04GMg3dGzp0chi0l2jRg8R', '6D2PZcS7TfFrgqSBowm3Ds', '0nN0oPt34YcHQoqkfHHubG', '2Rdu6yaflPFX3lfMewsxKA', '6SJYnl1cN2w1vGOQFZIBYq', '6UjUqa407F8vrTz5gKg4Jd', '5yLmmznzjfw9EnWo1MFtdL', '2xuduhoWA5fxvaeYjuvcBk', '2iwEKZJ9FRQMGTU9cn131i', '52JflXcdQmrfRhl97MT1O2', '2fvTmmnb2UbU5TWvbMolPz', '0qxjocA4xQxGG111X2bcSj', '68kxnt4QHyJ4cLONsi5VsX', '3eVTClqdypXLETw97iznv5', '2I9YaBNikRc9qAxiYnTDqn', '6VbtVCyMUz0eoiWGl2r6g7', '1CLuRPl2GVoKX0D5LVq3rg', '5oDNHd53EGh5BoiWGYIqH0', '0MGqujmWRe9njHpDUoIFGq', '2xtnkiIc0EBB8Tgb1XW4Kw', '4VhHe5d6eNI3zzppwiDgWX', '3Beo8BxMMRYA8knDzzz5H4', '3Xb1CTuAvYH2xYTVUVpOdT', '25WUrbL32sptDy2WqzfL87', '2Zbmyw9ZX9aEvLMoMwBjEM', '1SznnEayFyHbJ7rGI2XjIi', '0Grl1cS6EIySP2ORk0ygYr', '4b6QNIix3G6y2Ylsj2gC73', '2a0hVaTWH7F2cCRi8CKSzh', '2w6OEmFNpIydAbrB8m0DIX', '4dbAsOHzPJISKcPaiwvXwR', '0lkaBqKBytY4HfdLupBYbL', '02FLWh9kum0IQe7T2q9RSL', '5sJm6lyAmTT8HiUQ6Q5mJT', '5c81UwzYNYiV0qlSA9eQ8x', '22pjJtfW7sA4PiaruUB5yN', '5oZMnQNApteFlWDTo0xrtb', '5avOxmrNuQYBeSkfAzDzwo', '5K7XuuLr2WNf6sSWo9yiUx', '75AdiuZcTyPaChb4c6BH5G', '0WEcr0KepcAho5Wu3vAbXE', '1lfIJ8IDE8KkDiZkqdhmGj', '2lOU9vGfLa9kw1vMUYM6z1', '1Zmdt7w4HzEAW6IOLa1KKH', '7dzvfePcNOcoMPQCJR5OUX', '5ieddGiHAI6yCnafZgOT4m', '6Sk80JvC6Isqyf1Bs01r9j', '4gLqgkEOzR2IMIqts0jbBT', '7j0Fio78ghmrM92FrgSSFR', '0Srh9dNBtSw4FRAHozAUqj', '3LHV3K48mTlH9VhbGgFTMn', '4qQv74zGdUv910pI2WMrF4', '1TAxbbKCs6rlEQcrdVWYmW', '03Mf30p0BCtJuzdN9NfxaR', '0ZYFF9tPuPq2YNMRNhQZJt', '0Wz1UwyA2R1KMsEh1Tkpj3', '4vn9Grkso2ofxHg8JIM1D2', '47v4HO6aShu1jyLNudBinv', '2Mx4YLohU7qwzOlZbQeWrK', '4529JKPn5nYRNB3e3JHJ3D', '0vnGFiPxIyWRWlWRrd3nul', '65oDfp1E9qx1WvIvPAPUwK', '2Y1P5x9JbzVwBLeVrb7ucR', '26rQLpFzrmqS9ZvfBsLUZm', '2HM8sYzrJuQiQktMmkJRUA', '4ZOdyb8AvqZ451nHJNFZdC', '6kKNRaYd2zKj3f25SOjSjo', '0T2aOQSexU1FB4aQQBSdQd', '7qhZxfWGh9O2HWt3V7gpSA', '7DbE34FMEbrWv8GhU9NeH0', '1Me0qExIlbW7FgONEbkZE4', '47E4xm9bQeseKh6tSasQqG', '2xlyZ5SKttZHYxLU6o9mle', '39s493vky2Qtmh3yVP2Pv6', '6yXBRWwY8Tq2RTB2XiR9l3', '2x7eAHtuG7U1DRK955G1es', '2RBleJBJJiqL7cZ80OatM7', '67CFxN2tAcaedpUbwrQu7f', '2MmOxyg27Johuy1EaTrgAU', '6Lop6DyaZNvkZHLcHgaYBW', '1DV8BCntskEpuTae25lsNl', '64N6k7HTURpuTrigQO5eaO', '3iL6DO0YxEvjK2q0JYzzvH', '5of4tnNbG6WtRB9w9LkPl4', '7b5Z7A669b6TjXQqk2Spto', '4KQJeZBvV1unP9fIFwNtjP', '5oCactm6pHarGVJwbE0yaO', '3O5yTBh7Y28RTYRWqqv9eg', '7lqV7lzog3hotsBkAVUJIl', '2DHlpfni3t0A0chd8sHb4C', '14R3X4pqwNcREUaHLR8ijq', '0iV2b6EaTAeHyUnZkCRVDc', '0Psnw0YWHuqAvVO8YhYJWF'], ['76KkfFSYNWSYHwnhRBxUDq', '7kGA6YnBYlU3HplyYp9buA', '480M6DJCRmLEARYupW8Rdi', '5G5wN8DF7PsZGlF1ZN4vMq', '05orH2qSCaMxEhFeaND3Yh', '6UL8UnDWu9c95luN7S4wRs', '3Unp96l8Dn4AoRPskgXoqO', '0WVDWzuPGZQCeFZ1DDMDN6', '3YA1JuMxq4iJNRr1G4hilC', '7nKjcrZCdbtM0PZc5hSau2', '3Qz6ukyPREhIPinAnPsAIW', '1IZ5CRB42uic6y9nalS8MP', '5jJRdxN4pD29Uhj0ZIRFPf', '19sgQqGAcGplazJZTXeLUG', '2hrdgsVUHsepTX13wWziDC', '3kbQ9gfkcfLljiDMk9FnlC', '4iQIoXKmKERiy2cwVYvvMo', '4Vv4phL116mpFgpLRb5BVV', '0MxCys4nmIa6XRlJrCt9vJ', '009ddWL6yPxpgfLY76Z6x2', '4lSVAANT2LfdYn6UxvtKsy', '28qCNYcXyBvppVKPpZNfdd', '6Ca1K6vxKnJovI06DkcIWb', '5fYzZTS6KvemIcfMTE5dhw', '1dIz3iZu36WJbgNWdmZIyi', '3s9WQKVA4PGM3fE2XgT4TK', '20FNlUMNgCIUo7EAYRkJwg', '63Am0PGX5N7ZOxvuu6oTXv', '3gCEWVVAL0dTb6g44qqvkN', '4SaTkQWZk7z8skVGhPPKYf', '0zfqVW6LOYYYPCwHNpbS4H', '69jZqaBhTVQXMepSKTK2YI', '1K8Y4kHYHfjt6ihSDuSMaw', '2OEuDHDJWjSAoiGkpT79Sc', '5rTYOAAMiNdcnfgEQ3a6sc', '4KaOUZ1sO1hPrftxSxQWd9', '2jjhSbwhv2gNJh0ARmW0A2', '0FDqAqhTKhwFOLFcOxJKRR', '3Lp89wmns5SSt3U8wYWcK3', '2FxGFGXJi4yawmWPH5ZYJP', '1qjtO1mIllz0Ld4dBarI9y', '5VGQF5ilaoNOEl3HEI1TgT', '4vPcZDTDM5ZPZOhJExl3n6', '31OZWMJzxRZu6dwK0nhxY5', '6NlCQl1pNpTIvrvFB5Xtj6', '1TLrPhznn7bQFSuUAF2u82', '67RTyiGWF3L5AoVZTlRqOk', '6lVPoAULOMj3SnCgOzkFYI', '0vIkzx3mKL65T3gR48Bph2', '6Y9tU2Zb0Nj3uyvpZPUE9i', '75SDLCiU8CMpgeAJjsmZz5', '6bOsuV6PvVwM3dzA7AKTtx', '2R2YtEbMWrq5u7Pu3TLKRa', '6VBe6cQvmjbByAhWav0Qbq', '5J5tRxNdnxGhZPPYsGCySd', '327irrZplP8A15mvzhraRl', '5q4rTwMeNVX8aSaVzig01o', '5DRoVvG84sCnrZeQfTHr0p', '7KCqQrGmvOWbdFPf0stMbh', '7c1Z3aCJLt7YisQQyXwypK', '6nLRnyAmEOi7OeEddElTgo', '0fmxVcIZCywEvv7zXPjFPA', '5lbGsHhaPmrtQ05JdPPVR2', '24FlJf5U7AJ1AnlUY99TZD', '0Gv9jIN3xFw6QdITBpAWHc', '0ociygIFg7QypC1T9v1g7x', '3aLQdfUYOVRFlHhwJECabA', '4sJZ53JDyryVhDLcUFARLL', '6WxllqF4D8Gj8Veg1WBY0r', '2xAhznxb3sgTewpRkvidKU', '7F8Q0HfHeuuKuWM9UjBcU3', '5uNencS97nBENMIyhtZguS', '1dOT5Lnx29cI7OKt6Fmltg', '0vv1XTKVrCMJuY7BQwN8UE', '31pfQ67BktLUcQ9n5VGnDI', '42nObOhMR778AWFoUCkiXr', '3j1YYS7Palpfb92qd9x7vl', '0cKGEchDZyIGPp7XulCZO4', '0x6JnrpfyrnhzXzMZXSGe7', '4sFHOe1hDHoSURA28xL9SJ', '79AOdu3ELUDHkDPJT1rXUt', '2GJg3GhMmDjsldc2PZkEyw', '5pyY6lntlity8qpik69gsD', '73V6wOBfxqKIuhvUJAGOXc', '0tsrJG7x1oC1Td2MigYo8v', '4WQXurIqquq1yIaIbxWsSa', '4DhvRzyECHRaUL64HLGVvK', '0BucwX8Ux9HWxDYgbI445d', '4a3VarAtSbgKDRDjfqhB93', '4yn120cVWRqpXwovvl3gGQ', '56MKvHNKAAYAVB3s24AyZz', '5wFCPsNw0Bzh1Hhw3Lpdym', '1JCf4NGHq2nC3CrtaGY9Go', '7xJ9QkDPqpIQioFw54cDDQ', '2uoIbc4ps6iwqwobnHdDwg', '0QoICgVqWMhcyZgmFTfWUZ', '3Tqsr2oxmvcAecCQ4CKXyK', '1YD7lXqICOb2LCQH5Q03RM', '3ixDgyXZKaRCmNqesAo1pb', '14bpCLkVLcFmPMzGVXI7tN', '1TRSWLf7DyPgpmsyJXaYQT', '5fmra9ZqY7sZv7HLkPDXYm', '6cgvY9wIuV29oh36jxytWC', '3Oopu8NYhJVIgMrYDy9mit', '6GRRlIuSXWKDB2uVxCTLaT', '2wL2qCBk0diEm7vQEEx9Qa', '3H6YJ47QOQiC74hZNVUU2f', '3H7zYAP11JIviN8dwVACzL', '4KQJnPNAZPb94t5bKQmHCY', '7xd0MAvjgkDntWn9v8uTDs', '5cCSALXlXRj6q2FO947V8m', '5Uo0GX0o6AUKv1c9vYCKp5', '30bNP7XBbpyF8Krpe3sgVi', '0osSe1116rhifh5KwidIGJ', '1PWAjHtcfiRUh9OtmHhvGt', '66nTpHtBCHeUZpFhrpJN6F', '272JEE1LOwGe3QjMOo59IX', '3AGNffrwzLjTdSfVomZ30a', '1w8TCr2tpXhXXHLmYS5gkv', '06b02z4kjwrtG7aeJuUaEz', '35woouyNDBZLI0bKnZmE3s', '5T4YDWRog093Kqv01WcM9H', '4PLYw6CiiaPAIwAyHWhqBz', '0KYs41G2Vgje90CUmbxqbs', '1YyjDXxLn1KPLHMnN3B1F5', '3Nowur2XueyjlPEFZ2oQVA', '6oQUxF3hVHxvfsRyOC0IE9', '32189ym3b8UZkpus5l7mYM', '0pI6WrHCq5oRYSoCwMJkqi', '7iPFuDAoW20OY5LNTDtK1h', '0Bkb5R26YzaX24j0rL1puy', '4YUp9F2OYkScNE65mZRlU5', '7M46fyHKJg7TGS5J2OTB9I', '5dEmoAzfG8Ln1HXvSJ5LPx', '44bPq4GzXmjPqkVyGDpAo5', '2HZIaMnfPMDf24XjrNXaMt', '222ayS1WOFrZVmTeVOFhfd', '4ZOAblnxBTxXgyCSEOvGDl', '079TX5SHluTLtqzwER0RLh', '3Qb1SuXPEkMxqQB81haHqs', '2X35a4BVWpyP9BwcyRRhJD', '68OUiC8q9Gj6eaCNKYnPcP', '09doQtFZ7g2HTJzmGEYC9l', '62T9WUAB2E7Xw6PmHRSlaQ', '3SBqnTwyyrZ6eGrlMT7Qyn', '2nT30KPlGDd8vl9OIWTkJQ', '6WeDF6IYytZmoiLZaSnhgp', '2tz3Xb2QirbFQFv6mTU5vh', '7mGhICS65Y8036xSvdL5jN', '4nPH9l8L8OIkYnb0JSGsbW', '7yNCersDJdYn5S4OgsNweg', '18R3qeUAGv24F7ZGZlCR6W', '00BUG5gWzo4yU1M6F9Y4TC', '4DhmzKmnTZLClVZLPPHawZ', '2rtvIsY21G4H85kAUU3kjv', '44OUX4g93g6SohAJSSpKJC', '7MxCJx6LskBWTpzCscHs7a', '0cRVSi1eXiAYipZDgVU11c', '2Ss6FIh8uCehUwRQrm7CKg', '2DOzLv2V28INol2KQFiI33', '0MwWDReLQ2CbFF4RNV7p2J', '62KNLpt0asiJcAw8hihPJq', '6O0YqAnrB1YHt2SbwD28fD', '1gwP21GRuImodOMURpSXYs', '7iszolrnuUqc01LQaBqqII', '1RjbzvmW1Y1tDBt8PCiDqQ', '29LrWuDu53MLQ1eJgG5cy6', '5elKpfFPejpmof8qyNkpRw', '2F3L73OLu8Gi52yvGnv4yb', '0giKVmGYwAYFSADewdBLzJ', '4Pt1OE9gPOHcEsRDd1e2Jh', '3MZ3gpxfiXeyi8k5iEce0w', '1gzF6wXH6kATo88gihfcjl', '7lCxOOLZRXDUXummk4xJIL', '35N5o8M6G8REBIlKI2rIni', '5kLBrUOkzY9M7hbXfNE98t', '1Rc2TBXWekRzcu21vwlYS2', '3bhnRBlvTikmxpW50jBaIZ', '5I8SztKbck0OLJFFM8Pb9B', '2WfnBDeBCW7cPiFc1WkPuJ', '73WXY1u7H7CKsA4njkdJDg', '3KyDIDKY4iu4EOPLbQyofU', '0TcXdt4sbITbwCwwFbKYyd', '77zQ2lZmAeGFNHQAw2jWzQ', '5PbFpGjcgYEyyJvl6Z2wt4', '6Bf56sWlUQN4lnTq9LJye0', '6IJFcwLq8F7ZXUXhgARazn', '0cT7S92xSEh5wjPSSifu8I', '6FyN2aDjKcSmuy3im6mz5H', '1n4Q1wbXMA0f5bysyhPrUl', '7tt8E0lrPF9IoZ1gxM9Bn1', '76yP8tntlsX9RDgjcAfa53', '4LMXDmIn72kgOz2tlneVG2', '4Wnjv0bnb6Y7Il7WhEJC3x', '6RXirPTvDSUPoh0y2Gpnse', '6EbIVsw2rb11ACHIlWXZFV', '6svSgLHdMo6N5iGPSnUkKv', '0h0nzdXjZTmo4k32f24pVt', '2SrPXLwpNixB3uyGMZryAT', '6dvgLyeXG3HLGqtMa8wAX0'], ['4gV5tlVTMLPbFQqkd8LxWh', '5JemXUnCO5ULaqdFJG6d67', '5D7ascA0846W8Ye1LACHQG', '23e4SXJoxyNtQ3s2mSb5dx', '7d9YLozBOYeouQ0UyKPUpZ', '1sD9vBSHzNC8d30hT5Xg3m', '4ONNYwN5t3xizFyFKmAsSn', '4jw4G9J55p7tXV2xEAGUj4', '28OtIBYwNTMWc1P3HIizQH', '5zbyDiu9Z44EfBNA6D7X6q', '5yBIfrNoe8gDDRkddgTm4d', '2b3npHUEdwZfeLXj8JR1dh', '5FM6NXOVsSvGJETXY4PtMy', '0mOE2PzIQc6LljRmTSJsGy', '3vjyDo80PnOOIAjaRLgQ41', '3VDnnFwHwWhIf3N9yHpi1m', '7dUNJ7MzTkgLbtSd5smW9T', '17CzstuiihayOksRwVdG5Q', '3OBvO6hmsS5BsYbciDddW7', '4luNnGhISZdURbFcCl2dB6', '0347Gq2PVivirfybqYlvcf', '02LAKfdJFyxjrm5g51Dwt4', '6hXmqavi8q0NJ5u6PRt0MG', '4Jw47hdV6OqSfXh5z0HvZJ', '5CllQE0jNYEbZWEjyhDD6J', '5TQJIpSXVI5WEF3LeGhnko', '5GJ4YKR60brIy8f4NECcHG', '0TsFa6aPE0KgPXUT6kTFKk', '3b0dNrX44ZCPCkNZ2LNrt9', '2G9uoCA4NEEL74QTh8pEde', '0I8grtFFc4NxQ28GwWDCsW', '2FYJ3kw41qQGBtIDhusO7L', '3c4jETt4Inrxg7nN4bWehP', '1cxkt9NI4V0glkXJsY0eMo', '1A9Z4GYnYXZFrC1Gg4LWcw', '5qyy5b1YfKIAjTRxuwYnDT', '0MEg5cLJNk8oIHkjrMCWCe', '61SGkW9FkioyT880cxk73k', '5YldS0c0E8rsJPCeXBzEvr', '19q2gA3eWnQO5eTOD6aTYv', '5ClgIbl6XFwPUHKP2cXdqk', '0UPeXaFOc7K38kB3tWrg37', '3Eqk8Q21vdcEw6PwYSXwnD', '6DMNNb9U6Ptmb8dez874N7', '7aMTZp4Gq1sLx0dhz4Vi32', '6CDATmLv64et9BPZMpUspM', '6u1BOHbo8LkTrBdzfiFEj9', '0igK9QIsRHR6PpMAoLRZJQ', '1gyxfWb5nNDYEOC7oPN2Qk', '0TF0ssEBoKpdbIeIsSfXXX', '39xz0DseGu9cHjy8C6Oy9T', '3yFDk1kERD9HMY3OlxEbrM', '4D579AitDZxdDNJ5jfA582', '2wVSco9FZlWS9iW6OxI9Ia', '1Jx5CGej1OsvnPEQ1niZWp', '62PxpGVt45pYZ8O66VVZWP', '0hj6krZD6CE8wxg9nmIswz', '3AQTZnaOC1qKOfUZXV81qH', '1F1I7b5oK13ta5H3uhqrz9', '2sW6afZsyQD7wQKS7hMrkK', '1LFNDgI96e297dxed2dZZa', '3YAis1AJCEkSdFVMDdjskn', '180rnfqAvF7yGyTSb4I3QH', '1DcAt1K55Jaam0yRSN5VQ3', '6R9NIMDGt0sK7k1EggBAhj', '6k5RyzytYMPoNFFZX6hSsL', '0Ibhnj2z9ZVtpQcSopEhD8', '0y2K3aUSmblxNcVIVh3SSN', '1Ve019KZUUU4j6FmNt9B8a', '7qACZGMjyo64TdUdKAegjp', '3IttYEBZxFNRk0J6eZaHDd', '3Gf8bbUuqd7zLFt4LrSLej', '4rXWPJ6CfNeKj2MrXcsACW', '2lZNE4nnjvCXWnMHa5kc8o', '0qBmyqsTcbWc8QnW8mKLek', '3yF1mecrspw7z57kLoHPGK', '0b1oW8iHQORobRdjHeYeRC', '3A7CVlw4TJfIFZ9PVREXu2', '27smuYGRZZl9q0BCwda8en', '4NWpBUbftWMvjRB1AsRCOI', '144jJIiJ1sVSlU1anED49d', '0VNb1aKSyKWBrf9hHM2ZJD', '1aulYQhraYtvhTAA3Db99A', '01g27BmiXVR791t1A4zCOZ', '4SHiHmOhFaUjBiCN9kj2qM', '1x7ttJPXcB6jJM51MRiG4I', '7skhVBoiTy8Po9UdfkJ4Gy', '1wQ6t8Bo3Th1vLzFKK0Veu', '0LUqgNyVlPVcZ34ODl30kv', '1ZsmYjk67G0jXydOu9MzBG', '0K8vLLqK9tuNnCH41GbnES', '19Ba0QokQccfJ4PhGlIVVl', '5SfuVbeZFRwaXgZfXRd5So', '4uyu1mcpvAixF1jhrCYM0P', '3ASk6PZhXeRDblTYHeannL', '0NTwRY6l0oyeMVA6pAuq7G', '1gId0ogv6JOy3be2t736DE', '10LePyigDTDjghuJcNu92i', '25QwV1M9uzzG9L5KArdnXX', '5TixDd5uNtIrG0mua54Bt5', '151LvuVlFGqjjS4uQKHd4T', '7zTToZXXsogKivmPyIoYvg', '1ldfnmvsvrKsgUpveEpkXz', '5AnqtucIMghevunv9Pghfs', '2p7Kq3IMcBDLWSrFNUeNNC', '2OJDZ45jalVIEf5AIlkfev', '3wiB79MfBWu8I63xNXEWOU', '7MIkj5EbBCaUutUBEfGpEJ', '2HSt4RAoPw18TPri85TJEn', '3qoRkWaFtGQeEy3PS3VuFd', '2jCzTOAo6XqJLHUBFabse3', '4eC7Sa1Xcy33lKn53gfiZb', '066Ws83mBgawkpYWWvjmp6', '2MYwrfTz2d13WUqmKfg6ts', '50gbwtczrJEW7WRaI9077I', '535kYAMV6pRqLgCnOEqB08', '0QOMzxeAATjlhQSckJMqhR', '7pBdTAU2WIt4hx9jL9LKqo', '5TpheQ6NKy1gE7mdNj8ka7', '4rqvk7iY925j9XgWmyCKgF', '3ig0J9VqBXJGDDMftK3l8c', '5RoP1jxkqFRRiN0KhxjFp6', '47f23xvBayJUjEhAlUB7xS', '03lYJ1JeE7DJJ43emp4TVO', '4A25PQ7cmCfzglHhmU6dGW', '5qRiSivbLQ3QI5AH3Zsxg1', '7BHUefATXVfT9WNqcSBIra', '7yCJscn49YPaEC1S1nQfcj', '0FmeDxPXfsozPAyWv9uFjL', '43vEWQnhiRFtl8edALAc0x', '6R3LwBUTmiLahlJGUAHHVI', '7yFrafoJ9eCQDnwPrBVGWH', '6bpLPte0OZRWs4mZzu6C7f', '2aLVzwpdZekDdq6kh941ss', '29bqhWU5jZPLXuk160CNWs', '1uzXAb3u2OnBxawF9b2R1B', '0ZVLhUadGf0IkCOecGIgtf', '2OFa2z1OevsPmCJMKz3dCs', '1VW51zSCemBe3pfa82c90F', '5an1f0ElTPQH6D4QnBHkou', '5b3ce3FIod5FdBxsshVYIV', '53XJjU20RldmQHpuxGzGzw', '5aYcWZehrK6hKtR3EiWdqb', '6w2aSUJNW2QSTu3IwxzCXW', '2aSLhgGabkzY9488onYezH', '73BLB2ZMlXTieOIXEeOVDY', '5WSYYNXKVriJu31Pd4QJwk', '79vSZtZGJqNVs3KYInh42V', '0bWU5c6DF4sKYDGX2CX2Cr', '2kDooijmZr5ZNFXF37OggB', '1rpCUMoi2C2YUe67ZPSdC4', '3MuC7Uw1uy5rBppdjDF4OX', '3OkMOVdIN9iKuN4NRKSeK0', '2ixAwRgbvuIF9Fa0gnuC0u', '7ugZZo3hjrJW3r90wGmJBR', '2TGq3rEqYHLaHh8cFyg8vm', '55zQD9JY29hERJC2iLmacZ', '58RY7gj2eYkJEXUp9K0lH3', '5vSxkkaes5Rj0Z1gJuNwCq', '3NSgzaoH0Qzppq7JHCLgQJ', '5ad7yD03OEXgjFYaon4oCQ', '1n5lZH4Z7y6R254fFzL04j', '6lPEbS2LRB6eSYqUVU3PdL', '105I9WQNZIff3AehjOt8uF', '4UyR0hBQFwyU4LTOGgssyb', '2yZaGhmtFyRYuCHG8P2hyX', '0MgTVZhnxixIfszqQRnx6v', '61Aq31tAfvFqfFY0IYffZv', '0PAK2TYrXeQBrXCMzSELCH', '58hb46oJEDVQJxoew4Er8q', '1xMEPivWgOG18SFCrgwEI9', '4vLb33ufLI6jjyGh4jpz9P', '7eJHJMWBGO4D26vybq8wWh', '0pUItxZh4LNpvkkM22kBTj', '2CKj3hTGepAg0wJJ3N2q0a', '0l4beRwx17QIjP7kTciYUk', '370ziWDySqtFGSNQwJADo6', '5GgCJWob1ZqTc6JNtiQRBp', '21wDGffpNPXROzcaqp3Y0a', '0Z63t6kvtlrh1hAakGtVaO', '3nzu11NSu4oT9BX068iEZr', '2vjw5bRd08KtqzNvXoGeDD', '473HE9tKctd1WfOJl8DlKx', '5OxjA7vwawfL8r1bdCdp2W', '0LiL4uxTI4oq6hSvmCkVe0', '5CEI3RTXF487Lu9KGk76pb', '3x4eZnKeTjOEUvl21X1j67', '5b3YIpxXuCMM1NXvcoijD0', '1IlJGpU4HqNpfuJ0E879Dm', '1dGDueP3SFulSK9torTpli', '4RZ8ejso7uNp2Yz9DMqpVx', '5vd5RRHykVvzcnZDXnRt2H', '3N5lW1KhIBNZCa5x01ypla', '30FpFGBFN7Jlu4ElSv5vTE', '7pSvV59D4TlOOcPkGWSpZZ', '12zyNBOOFIiVBjfcdTo0Gx', '1R6gkpoaA4kCNsTX2HAeDD', '4Svlg7olD7nlAaE9j93K5m', '0Y1QS2ZQpff78Go92oKsZU', '5HfYvpOL7nni7KiR9lEl4d'], ['5au2CYTVy8KmBilpD2ofYl', '2yF75EnQd9BoJyqWrBnQQB', '1XtPFaH9uCg92IUh349zfu', '6s0bhopje9j3s2JiTHtLlx', '5tQkIKal5i3lAl1pZ4Y3yK', '2QVsIulY60RZs8u18nPccL', '2Wh7WpNxoec6eoJXv7QNDk', '0L371MBdXN5thFTULwgUJS', '4dS5aqiN32iHnEfPI9XuDu', '54eDlcyhSBrHMt6dbHyFWp', '3JvgYk6ZM1mwWViJpxphml', '3ZbPiBIy4lkcDi6c1cbCBe', '23UmyAFS2tQ8P5QWAXo6wn', '6E9jkAu1N93vNa0DZqVNmL', '0oaRihpf0Vq2jbsk0tnOPD', '6VKTnBP8zsyEmP1Sk7TvMm', '2cEtqSZ5rvZH6yvzqyLgFE', '0qRB6EMArr8xLzHOK7th7o', '3kNWVqxt0cR2phbffWW78v', '2u6y2dDw8lKwW389jYEMoN', '7duuLur49tAfIJBp03Upi9', '3ApHTzZrOMqtDhnyiBSSci', '6V384enS3I948e5HdX5P5A', '7JEemACfnGRp8PLv7wniws', '43kNzpeexrUOm37vMwtGmR', '74m3dVjqQ3WVDIFu0mpqks', '0D4LNcafhpgsbS1zddHRyN', '082daAvMUmkVEgkolt3wCw', '4nV9ZoMXZcVsDukR994fMf', '14JdnNWjAC67mTeMtQvVQU', '2BPocNoK7QF8mRuTdRd2Ph', '4Ngk0xBx3586LQXH1fS6h5', '2PvNMMgIu3xbKLuMBU8RlE', '0VKCDh1qcRXjMfDhGEXihm', '0yw5Q26eYIvaBediIFrYwN', '2q8VWIvm8iU5OkP0ITRfVF', '6T4DmAc9TqsUbfpaM8MZem', '6FS4N9H4Kc4VSNGiK8vZPH', '0kAFZCbHemKb8RxZhDPZbv', '5xADUgvmwvVgYpPEceBoxu', '0KLre7dpWZtErBod0KsUYk', '1nqvj06t4SEP57pxFuga0D', '3rtVTR62F5JRdaWabccLGH', '7yV5vLKdCyBDi4MW0It39c', '1ozxaOoXCqpoeAXfw2XuMa', '2qlBFnzL6CPxqRwenjrX53', '2vhnckZPFBK0SqIC2aqnja', '5t8Ohd3K05yxXPUmF3afO7', '0HoVEyV8Ywr90Wysl8PGJP', '7cMtcW2pIzy0f7Z1crBjer', '70E7wtl8eL3IG2kpaWok6E', '7iDIPfDUgSE0pHSngz8wsf', '2fqbzU1sBBZ3gW61Q7qYhp', '74Us8kcNh8ptwnaieyKQua', '0l7VGsrww9cdIVKWMqwhf2', '65Jejep3SssPpTW8RGELh6', '0ILJS3YPBHOUQteHkaRVp6', '7hc9ogiNnd0EIvckgjRbjP', '4j5HXUC9WYP8GCptgON472', '3ld6kktsIosfOrMt3AVPiU', '1nAMu3VI1913Bl8P6joGdE', '7BIohhHm3WSs2i2U5Atns6', '3wRf1C9sLcfpsUorCGVKCq', '1DtpofkGb09zLXCzsmlQ8C', '79Rqfgj6ClXaEAR3ED5i0E', '48uCDGE2YYjZsPSyhZXGP5', '0CaVoV0ZC3aUxNSb8SoZVf', '7t1UY9ai9TGUxcKreODyxw', '7yYi9aJirMqgnn5XlqOkZp', '0FtAetIsq3mJuD7MaPPnDH', '3fNf910W3Pn6kodHqV5YFM', '28m57W4UI4eetkNu9SvtX9', '6eYnoJVvfS5mnh53jWRcVC', '4vO3Vvrd8i0blcpXf7SpRd', '0DOeyrnYXB29X4ur5fbYjF', '58WrgIM3fXQiX0oOSQ9tFz', '6LuWh1x0fOIdgftSeHlR7g', '3GomZqnwKeecLnI3sOkoEq', '2dgamvBCHU1vE95dsKgZxE', '0LCXuAqnGnHjIORznov5OB', '5X9EYWYljr2BUBQy4mdIgI', '7nIyLU3pWFkevg3Kcer1ti', '3r3Yyzb9UUcuWpjd9Y0nfj', '015hxpj9Ds4ixai2HxN0h7', '4JtowPifE700fO0oqyMFSD', '3e0cmyYVSDVqZTFseCyg3y', '08K9iOQkGaqkaVjaHxMYS8', '5prkai2xWcnqLxwORZSYbN', '1jVq5hfumPrlKudzlaQ0Iy', '0cHdNZkYiOFuZSx5XBDmKd', '1KEkhbwh9el79SK5AsyjLP', '3P9lEX8RzKkD3hNVvnoMc5', '1IjPgTmGRkdHg0VwuY0rvj', '5SWKs0Pa7zEtc1jVKmmFDs', '0dCg4tpcWWDMxOy59wejGD', '4MdZYecJOgWqR3vkRl6Fvy', '5y8EoN232TP7tDMtavXRhQ', '1gwTJk9CjWSuhL5GlNuejF', '7MohyJQ5hB3cKpcyka02Rb', '0iCuzAER8gjEjq9sdVkdx1', '4oBAlPMMM8HqTd9ee6GiRr', '0nrk7jkdovzoJbERrBi9uN', '3c509AUJy6c6iovHuRcffO', '30wsH5DTqMPMvPpHsCtaau', '6YHx5ZIQqpfrxKEsw77EDU', '4MDvMFbmhNDSIDlJmy2RAj', '3IEqWeu1yUOkPhAH9h2iyr', '4GpNjPNQcTI39mXe6ht1ud', '1dXtLBMyIsFiuBlwoVmXg5', '5LX3gw3C7WWWzDDehyQZYF', '1D7jPq4bYfm26hI4qkol1A', '0LPayzJtRwOpX4uVM18EjK', '5LZfqXZsE5H6YGkV2X3Q39', '5tnKbXTO7xMv4AP0N9PVmB', '2Xkgh1OTAgZuqnsnWb8QAe', '10qF5DmqSyMx7ZoC7Qvw9X', '6XsbcephfL4BgHLbgcMjz7', '24azhjaYlJvkXF6xUKtnxp', '5Q2BgKWalZdUrg09hdnpCl', '7bQHO6kuIOQROJVnFukGXL', '38JPAkv9RrEuAgUWJlxBE3', '1TTeHpttiwkV4CRbU3lDxr', '1Llq45WvEoSY0v12skZBl2', '2zuQnlTbp8h0ZW6VPk0SOs', '0muM3KbvGflibIopOxuKVa', '3uxKTCL9tzfBk4waAP3u9F', '1pYXwb6K11YUZWvulG8LfM', '5T9buJg2Oo1S1Surr2cJrx', '3Es2chZy6eQDXNi4eCDzPY', '17tvDMuDgyuAvBSwF7zk9s', '2DmqZ2vZQNftNYjlMiL13d', '7LtrvBG4VNrlWRP4nW0jwT', '0WP043tSbyP4wmryLD5sDf', '5I8zMxeZZqqKS6eEcslf2z', '7EkuObU6WHy1QEBwyGZgYm', '1HiPI15vZXijzGPvapis1A', '15Z8LOfK9D6jDGd5yQ1rLQ', '7eKmP82luDpQR2hymWE1iJ', '2Jk2MxqakxUysaelPI07vv', '72L14B7jz0mAKlF8jdxPlW', '213ytvvMz8Fjj5cQ405EUX', '2H7ENwdHUCEAdQuEYWSy9a', '77lhjovotRh2w54Eqznx2H', '57SpJFKFiMmSLzOmOq2CaZ', '0VSDcgTOgN08cWVEkk4QBx', '59nqFLwBBdIucneCNJoCXJ', '56w4CTZ5B1kCuJfw0IEmrk', '0TvXLpy122QvbA0cBSkhxb', '656KRpxgsx2wpIX25EA4FP', '1gix2teoZioMus8kRecMUH', '5vBxJ3Y2DbAna3xBJpGz0z', '7CxPO1s49f3QtaG7ZhUXf2', '5ELJuzyWxmJSF24NtjZ5oH', '7nC4B9gtrOBQ7aT1J7FiOt', '38KAIcOl7fuUVC3LP9vn6F', '07Dm64w1XhUXaXDOtfXlNy', '3latkPrUCKAReX6bA9cEBw', '0uLPqu4EhudWJADwbdrltv', '13xIyn7asOWIcgTwTFw293', '4AppOssLEUy97dUJ4GZG7g', '0kUfDiMQYGivJnakru5Vh0', '0VfhfEmjd7hyk08RNDfo86', '33mIX3kzpt4p3BGv0b508d', '3IExr8qtJzsRF1vICyPux3', '5iOc0x0rzYpvshIYzaa15A', '4h0jGZdu6jRk57JFmWX98e', '5O5sX3NAyXbfZgjjEHIeTy', '3yQOUOSyGIUsaoRMf3iSYA', '6j9xPeEsHgCS1eZW0HsIsk', '72rILJ1Fw18i5bRYWoOuhd', '60NgGlktCblheYPBSSUUXz', '6jOp6WuIpRNcUXOVDrIqTm', '1ETZJ22QZBkO3WXLEGgRpf', '6fvk63guE3C9CwuBHTnELe', '3hVFk3uqdqUey1yX2fzSXr', '1yckyfEZtFkkq7UPXHbLwi', '19ZnuasPeaxJLHb42DRONl', '6YG4bN7FzZ562wTF5Cx0zC', '3XgFJ8rlTnzqDdNxcc3oWN', '3cVAl7O4S4qAqTRFTcwN8p', '1wsiIqm8FwH4FPW68LBFCr', '5S4nocceN9d2bFLsBlD3Pt', '1YhJWPt44wBUVMiioF1G4i', '3Aong678PTMX9pH7U2Bd0P', '22sJydhixCcmC9b2cu5Y6b', '4BsMAg9t48Ga9I8Fyzlvrc', '6zZc6904zlMlWQqH16hjlx', '0DX9WVEaDkEiax6hcVqdaL', '0XTK7eBNmxIP5aVMmqOiiC', '4bLGhvzA5nZGS6gxwRWtZt', '0ZoecwlEBQTUVeG9AbAuHa', '23MUSPH44uYB10onXR9mRe', '5bHs8IoVwwBRssDvGEYnwb', '2vX9LrZiITOIYR671WhGFy', '1qFV1e7g15fkc4Qzj4kGIK', '6F4vsDq9BtEpFrSNqh2e6f', '2UVYwW6BSENPhn2lxiIggj', '1gauLmjFqDP3iP7yKiJCHt', '4iZ0tP1VKBI4C1iC59Oe1N', '0SqD0qT1oRc5jGj3k2Bchb'], ['5aPKPDrqsxBQSST33NOsFw', '477CYgQVNHk8Z76QbYjz01', '73mIbBtGZZrvber2h9Y7Lu', '4xjjbNLvFXkiPRtPJ1JDDH', '2GdtwYYDxN65eReNI2hL90', '2Dsz5JxEeRz0nAC0plSEMF', '4tzo97AF7cGmRpYnnMosHP', '2NXy82Atoz6QzvmxQ0rir3', '520PdmxBhzhsOIfR0lAMth', '46bmK7CFBoQjguGbziZgub', '6kTzDCR055zwKksH44tCyF', '6ZW1osX8j6S1znByXhkxAF', '1frOhZBICOdl4gwwBtpscv', '6UhiAgqwwUoXo4JOrV104r', '6EyM9BeEm0vZvSkQyGaLkN', '5wd5MOHVeiMLGLCL0UYDsK', '3vvHiLqaof4wEAUoku9n7F', '4C4MIUXQzBPxXL4pb4iXb4', '4lDX4W8iQAm0hTVV6TfGpp', '1m3bBRIdm9WbACj6hcVpKk', '6mfmE5J5KZqQpFnpOnBlcA', '1ylxNfVL2l80wWwdnhcGLQ', '3FDQXSzsETVYzbrfOEEJnQ', '7LpTz3Uzb23hZ41ODZkKlB', '7vqxEJr0lrlXrI8lrlhRaM', '1yvV2FiUMqxDe2rfwHzAC9', '0MpkUjSC9rzQSS6VHML3pD', '13RHTjcb4k36bQu0SiYq3w', '0YilhnE31LG93t2UQDMphK', '3AcB5ov4dAX8jddis4Bafm', '0NEoudfcNeCkeULzX7co9e', '5cMga6Rfi407pGSXld2E7C', '3GBjj2KSHCKvn4PpWFZwRe', '24RLueVXOuPDMBFnTTBogj', '0SSA0QK7yBpyZngyAYsp6w', '0JAXi2lxjxMJQeP4iw9bxD', '1S961pBNDi5wvBim1dcxiq', '4ysJLFPAYAt4Uqyzo7OasJ', '5haig3RZ6OcU4Cz6AukvXY', '7yZS6e9IMeOkEzIydo1FYB', '24TfZCTkkTn8vSMJXCkkQ8', '3m3J7ebPRLBnxM9NqL9D9P', '0mjeWAXewFCtNv29zmHSzs', '1w1dhVUAY2xFWTEQh97Lrx', '59TVx2MmmBfg0BqRc7CvqM', '6qUVKIR00CpN0YBSKCeYFS', '6egS6vpB5c6raIlw1v0Nx2', '0zJrEnj3O8CohOpFFUVSo9', '3kKTNWq50Aysbs5ammCarH', '51YToRmnFC3U4iPj6LgHgF', '7AJynlDk1ALWIWobcKFPyL', '7qgTJhcHV88KAk7zILiOLL', '2dSueCb8JMaLfE3GQvIz6w', '4oPolfh8FnsAavGG0gvIW1', '6TChfUHNG9wRr4bmIRJvNV', '24UeBVPHdmORN5JOPIZiuV', '6yZn81v1jP6Phi9S0tm4At', '2TZYaVQjU4v0HIzwOsgo0E', '3QZvuSCrACnSqpsEFaigEw', '6BMz3GRTJ0ykYZzCtyFrcV', '0N0ulKJ2oY3YjckMYMqyJn', '2owRoUVlHqTdJF3FmF5uwZ', '1a8QWAogYxy8ULfcuI181A', '4ZtDa9oO5dpvF5L5dE977c', '17TwTPITOWP0Ep9joASCrm', '2tOnLiRR4UNjLEewu0OEYC', '4ex3MtrvMThnpygNXuecbS', '2qBRZvImPQjF7KXej3YmHz', '5q1J1NDNRmql9eRdW2FFOY', '1PUbKeyQcEE5MgfdaJRsgw', '2SMDVBkKqnZL9AoUWaZ2qs', '0AfJlTZlS2vAljOovY9Fag', '3epCXOPh4FT9jniV2noOHq', '7gG8yw7JGFr2o9BeWIXZ5t', '2w0tfXHDvjHmSqZ3Pi1OuJ', '5eKFlGWniCD4d70sY7tXGa', '347OhnWEkV9YCxJNWocQ7w', '5OzAgYmdiqJKWjGvX7cP4Q', '4kO0iMQHG8HwbmkgBKIlOY', '1x7cCTGSYF2xYu1hWiPQWk', '4fPXonBYvsGcigbOEKFudk', '6jVhvQipHoULFT0ioiQh7c', '2Hww6gHd4rDRxhD9pKDgZP', '4SIr7n8YCW0B6cKMdc3x4h', '6H9GvG5RlcVaHNxDx9agE1', '1M7XycuFu8GTTCZ4SwPRBB', '4MANho5BvtFfkQQ7C42iON', '4sZuhwUI9TvkyVCNMYreKQ', '3AZb0wfzzrRTjcaD2AqV1r', '4r1LGRBKB5vqUSxxWtUSnN', '36rXPmTzbFjBODt40ji0mC', '5L5KQye8CH1VgsYwmTTAxg', '6GAmRuos60sSq3VACPGhwj', '6X1FPMpA9bOtPJvIUvb1vh', '0m8nZXx1Y6MU0JnYxREiVf', '5yFAOzV56em5BaM8Vnp6GS', '5wyZAEalS7giTBe54e1GfS', '3ltjxxS7B8B3QAkH7KQMgY', '1ng2topoxV6TEuDgm2Ai90', '4umpvMoqfoNM3DbdkMA8SB', '2K3Gf8NozSaxXj5227J9tv', '0NMsSrtXFTtRieF0kkxZxT', '6TkBKzb8SP3wI1OGi871qn', '2WV371HvB5U80xDFui1vwg', '5cE06uG59oxYp9v8hrffC1', '6r9pKD3yNDbAm1iA0FhDM6', '1AbGDt8fm9fYWy5tYLmKf3', '1dHm6fhlORhY2O1v6aO4fc', '6Hq2IbgsGDBMUNJP0ksfVs', '04ugFARyXFS9iQaiHjes6i', '6ZOErPbFr6wWQ687g0TQGB', '52s2NxPEN2eTcR7Tx1CJLE', '28QheXSjeY6TmsCVFEHJnB', '2PNaFf1DInEl8NJSdkE4F4', '0YzSTrNdO3mMpdrpJrYFYu', '4VSoA0XmpkUnxEu7Vy6Dqk', '1TufwPOsgXigZyIUoh1GHj', '74RFwHMUEVXkqK2KeeIMPl', '3JICuz8Q3T8mtXBYNIxwcd', '1c2Js6bZrTdxqRK0AISLuk', '3rNs7l5F94njXt7oG8CiAc', '0SIod8gUiCyiC8HzToRf2c', '11lrjbxHzrFU0Y100KdT5g', '1Hi36iC4WJj9tr7pqGUvp0', '0lXwRRAsp3EUFdH5ynbVZc', '6jPTE8wgwi7jsQJ7DoD8Zj', '3CAXrvHsac1eF7IAXqBMTR', '4PRZ9KAdx0LySGaCA45AtW', '6eFAocA46YeKpvr0HY4DQJ', '4kKTvW0AL08Gdvb3wbpfCY', '0gbdE14EHL2dqs40VHEeyC', '6nwKOBp5s1ESz8zie6WBUf', '0GhyufHLiAxUoRloo1mZM1', '4oec56GSvIipuViMLNko7O', '0R4q3eZSSoSCLq7jNYeF5t', '5eZfux6hlisXkE1rC4a6mR', '4Xmsi84ZemGTbWpN4ty8J5', '0Ot8AKx9vVxNhxy3yojdwZ', '2mopMxdpnuOqtkWEWvBJfT', '0yRTC25xu2jLehDX24gFmH', '3lLXYcLaUynh40EobqkiV7', '2xoMr4AFEWPA5kYWSzjxfY', '2knr8HbdAH4SBQfaoItBkS', '41iWMc04NJfguWYm2r00Sc', '1qpc4tP2OfO2KjPlKm9iO1', '7HoucTIMv5vuyQDKHVUlBT', '0WiZH08R0qTR5134dWr54G', '4RhupISMLdVdHZoCJFhWCt', '0E4isSxspV6ey8CoOXeL7Y', '2A2qSpDa4K8gD55D7sDJe7', '6BfYBqrSm30CXrqFwecv5d', '1I4oTn6C426omLd0GOWnL3', '79hARNnoeG5aL4cC0pJrJ8', '7LiSIthh02iaUmBElzs3J8', '0Evf0zY8yZLBDOXJCLERQi', '2PtDS8FDWNsuHmiJZhjY66', '6IIzecv9ksn3wZtoYUxwue', '6GsfAMPH5NWV1LfJtGWrI8', '6Q8PsqsJG9adI3dZzXI4NC', '0iGGWpXCPFb1W6N32iAPmO', '2ZdTFWf2Mn6XcII1FwSf9G', '4aId92f7OaneHjOx0emyjz', '2FXemjCXofbSNrPVODowoR', '6i88VWYabg4ZArz3jVJ5c2', '1K1miemY3uR2aCmNhNHCqd', '7c2TdiTJw3RK9IRFAcW6NT', '0eEspHigzRe4qFl1W4lfRN', '0SybMyAwkrYehO7lUOT2hJ', '6RjtOHtdpwfcdepnu8RxLp', '7xCQgIZOLanZADeIagOOx7', '6oDViKcW0pnol9cJVJ4aiy', '4NEjIXkms1uQGIgUI92DHL', '17qQT0G3yFjOJ02wWZaNCw', '1thKr5e2Vm58eAyvPU6Uoh', '0KFA1EhvZjMISnKhtzbSiE', '2khJPxCAK41z7bhSqRsNEd', '0nrHQMazFvwjMpg5esflnT', '6PA6TCSmljI69KJ8Co6tVd', '4kG2qiyLY2O24LPEYMv6vf', '5mmfOiO0yv4gNE1Sv1mChY', '2mit5jMcQWc1aDvjBCZtO7', '7mDcvRe9hX5XN1wvQidtJO', '6i45Frf3x5Kfm0csZWJyy8', '2lsqobg83L55zSnJ8z7MuV', '4Hy2WDRHQh3020nVdICxvh', '739Ostt8uJHEesGujUjoh1', '6pwxXxDllzVgmynD4Xr0kh', '74D9iMeeq2odsGd6r6i68D', '4TayytzbGoBJCmBTxRBIEx', '1jbdPIYUIGp7V47JBzI3V5', '4ehHChcQBZTZ0kP9CkHdzc', '0dI6Br6YSVopWFFeFiyaoC', '3qQ2SLHCdYskqH5tl0UuUf', '6MjHKjWZs7OgrZne7lq5yY', '3JyntNJlx2qCSFZlol9fA6', '3usSb6t1CsmU5AgNVfxnjQ', '3qC7RPr0QzkFKAE1nuSAx4', '3FYtlLBnRUa6zk77HtEwXo', '3VqKxrwJDUidueO1338pKR', '3U4NUWEMSqoTI0TBcD0QHU'], ['46gHw9E8Oj5E7D3KzZaCAI', '39BNzr8nfjiDxsByHyXnIG', '3GPYC8RKQqvwic7uRMwRWQ', '0QrUMIfELgl7gi1zYcCgq4', '6N4OIZFag86xkAX8mtAdgs', '5LvhXeidSF2c8IbGm53pYt', '7B3rUVfCVpOmeezMZ5cJEk', '2xzvhh7pEpGPJOLSE3FcTo', '1Z81LBzQBw2K5vfTpWzyVr', '18b0DBiqVtRuj34OKPCgj6', '35Ezi6bCni1zwVOW2rOWDj', '2P6Yw1Gs1lwVqGasW1y2xw', '0RO8YBtv36PJFXHS6ohiYP', '5sSUx1Z8LMMPNY6JtWRQ6r', '1ni3hkYRNx5Sn9eX2igLSP', '4PYAgOlnw0hnRkuNT1lLN6', '2B6gPUsTqEgz2W7W6gEOt3', '19Xxt5xhpzYMi9z4grHrnb', '0qP3XxRkbgMXA62pA1N0oR', '5ydNNBQbwQJuhmcxyo8K1f', '4XDiTzSCiEBaGpL3haS8Il', '0gsDmsRdnzAyOje1xsgIP2', '6MjdCkcY5tUfadaakBRINy', '1DWET41vcTWLJFAnYJHUp0', '4SiVg5H07MzR76ON0qOEUw', '5EK0YXw0YUsxEMsu3GGjbM', '6rV941EQPPJiWJiMbEIXUB', '3uHhaeuWuy5wuL6WIAxaWV', '0OntTiyGzKP5yAqKhvmPXB', '7Kg7DFSptkBEuol6EKr8f2', '17buGP6jTSgqYoV4NwkMdX', '4yH9lNXRP4cFVJhVefAqpo', '2GENetRkZ45yEbcuqdt4WE', '35riSvSCs6TV2nFjAgUZXD', '5u8tbxvQvJtevUBqXAwJFs', '0dVEVtMAMauolhaE2hgnNZ', '6DfuxmEBhz2MdUmfSG5xu3', '7ks7U4OenxbeU7G4PU4cO4', '212BIjWzEJVNkScamNoETN', '710IY6IOVa3h64CvE0INWb', '2gzxLFncxblaXSdVS8r4gA', '38h45JzHtrOjAJAtbiwNJ3', '0HoHL9NCEDRhXdcHl7jfqF', '0zze9184q29H3oVTZgODXf', '5s6WNpuQnEZUivQy8MGQwP', '4dOuUV8PDgcjacbQ3FPheh', '4uRGFgfCn1CLBqaeKgYbJb', '23j3NLoqFN0Z7z3rsCZH7Q', '0XJs446xvZpKhz3pglrOlX', '43fLb3KD8t3c7fghr7XlXO', '4c0FH7ppMiVUJ8DB5zbfZg', '7l2qOZAyDLC2YH99jiBnT0', '4WT1Tpb9MAADzfXTohUWmm', '47RSt6JBM6AbqBxtggW1Jk', '3jyyfQn4I5SOTmaOZQ1NSK', '0kxFR8tp2YZ8BsAvRpaSDl', '4sff5BasdWwxgAW2B6pW0U', '4350ojbUlkGhZ4bYKREy3A', '1mvtazNJybNmsRmeTNjdEf', '0ju49bDfuL4CUqVhqna7s8', '6OjkhYNqLUKiCCYJqTRo8J', '7yKED2Klt77liZOLVAwzma', '6b1lscdaMR50HSUSLSqNPK', '2roNZbSQjCICekvwRQnAUz', '12fprWREYfIx1l0tG63nv4', '7jk0EKyr4Lc4jc4XPE4ycL', '7yC6AO4CRgiFDjhYUkPUzX', '4NABCyxEx5gqFjscEMWwAo', '1xeC9MJ6OC2ddKdtYQjxS4', '0IyGGlU8FNCbIpGzNOYOQR', '6lH9sM7yidlEBoxOcm2zij', '6nv9bEOb9PlCvhHthMKfwo', '3Xf5DQq60Gssc5ccah89wW', '3ASdA5uOWObzjjp6PFw2Q5', '1cokzRjm0SxgXXjQaBPtEa', '66hfhXEaNMA2NMncX5HatH', '7Hbtyb8qY5vz3IBYDvypYg', '3GREOE8CDxw4ber9ZOcxJG', '3aT99aG5pTpyttveznrzIj', '3VvwVEZaPYQfI8ZZbOCW5h', '5vmnpqCN7MSdpNMZMKij31', '6AzCASXpbvX5o3F8yaj1y0', '6oWtD6La5xHpdSGJXb1FnN', '2chkIBpDgwkNgmkB1Viavs', '3vwNGdBeZuk4qH5rmcQMdr', '6I5ckRacpJhSB8WYWEA8NT', '1mKUj2azsDUhgk7bONBZ3y', '4oHKn8uS4GzQIpUAgJNP78', '1mteRepMdleAEulhDVGhI4', '4Z6Tnnja5F2bkd8JhX6OC5', '78rpYOH1FWxbCRD962WlPw', '0CGco9gTEucsrVG65NV5yZ', '7IulbLvyD5OyBPani09FNT', '7luuOxRyl1SuTBxMo7DbTj', '74xxbuuHJujl204kaRgsLk', '55Dp6vIPU1HBq6rVjvzdRT', '0uAOaUQNR7DsTVK457abcH', '5JtBncEEG7c7v61vzjlyuW', '37tpe7yDWnfu2clBqtvMxI', '6Cn5vRU5a4k86RkDUAFQiH', '74l4cXfulumPoQ7EyasgY8', '4Yz8bWsqzuxjMW23terd5o', '5GoMuz5RLIBWPsb8NExeYc', '6yawclJUE90zXVD6QVuZuQ', '3LfgRDV6HceI9exDCtTJo3', '5vKOWKIkiwTjrRpRrM96qw', '4BLHWGRsNFy6C64njAPdJ2', '38D801qxfI1GvZZHQG5q1W', '3QwSD9T1GukGSbjQAzGYEr', '6vat2V2zBVw4cVQyp62EBQ', '4zkz0xTiMoXFzbpTz112Rr', '45AtGBDEqhtRHNflon49pO', '5eV5TVtfKb5XlszSppEAs4', '4xVyoTeHmAQ0yqz3D6GJx6', '5oCnQo5S6M9850XBP8LTqS', '2s2ntVO9pqBxQy2q9CD7ov', '2derYIaJKEEwMLCcEOYEcI', '6Hr3sYBBnLg65XUrCOICLZ', '0koXwc1zC8xeYcwaATGQcI', '6tAUaFl5FAzSh87nk6fbKW', '7yKWB5C29XF5slfGSOA8kw', '4iLweHFQ2lFWihZk6J22Na', '5BKfbWZ7WjiGwugYpbgdYp', '61BVo2kYujeavfw38gf5rm', '0ORjwYMeNv9v441v6aHPa1', '2CyDpwN7rYjdYcExg1pEho', '0SUatsZp7U7k1VgYcY1j5K', '01glKSMaMIShSMgPwkVD3p', '5vK4LD2FMuq92yLbkU1aeL', '7I4tjXKOxF4nvPoiyBfXbL', '0cpgslNIkmPPcHzZcSHrLE', '32AohcWAUkkSw3GkAdbdD8', '7mQXEFCmWw09h5Mv4PcVfI', '2bV5j3UH5k9rMxJywzTYKu', '5r4gdnighI2ujQqfCwtHlU', '2zxjp4qMAoiRr8xY1Uq1SW', '1VH3SvGCwNf06mibdpeR7I', '3zg3QbALwaqxVGMuEgSHnL', '2YdbsDOPHs7jAo90MmfFjI', '72P9BYdfc0XmY16sNnNpdi', '47quI8Re3ItWH8Rvn9HSvk', '7uLo8nwzm2LWLfgET15HCK', '2WTTJ6Punvhns8Evgh2AC3', '7gi5t2s5uIXVG61zCt5lmk', '0sCxbu4WgloqSoxM5WZhjd', '0jB6UfkDXKDPt4Q5wYluty', '5P8tTd1cQWuX5toG2oVCh5', '33jX0HQ4Ghh1RrEfZqFs1O', '7feEEP4MNQEEuxh5oSDg1O', '2gUFVgxO2AeWSFSmg2kQvl', '5M9OhWILZhUHrJZapQ7tSO', '7Ifye2q49cs6RDXTbQxJcq', '2VSIQI5C1eGnLNeS0XRqHm', '0PO5azqKb7jDQA7cADHMow', '5gQyJA5uWrGtqblgCuuQn8', '4QeDsh5JaGusYsFQHEBobD', '3LnGqeSqeeFXTuKb9SPWsV', '7wQsJI14eRUiBLMk65F8DS', '21rt1kGjzWvxHSnsrGVA88', '2P0CxBuS2D0BuqbEIrvvAV', '0KVgAg6kRrMkzrDyNJlh1C', '4IDhGicVEt669oWrlCWNUu', '511jonbPzmVIAWUgH3PzCw', '4VrV2cOsoGbmH7IwsHfc7z', '0ylNGJ6oQ43HQ9OE40syp4', '71iQR4AeEIQgaiVsBJBghh', '7MrgQuUqYHmEOQSYBWPSii', '45mfvpuFsZDNadXvLLXV50', '3Y0XUwYAtuk1dzWhLC8rPB', '1KauhpfXtTbEgYVi4d5rsD', '19WG6CV3V43ALyOvQFv5U8', '74tAe4b6IqbWoEZPusHk5d', '2MtDhoqYmegOviJeKyoCxv', '2DbQNCosMDvDew7dKFGEMa', '6kDLosKVoIVUmWOwiqY8iw', '6IywiOKAoppQqNyugHBSMW', '3pXHKCiWtjJj9q0fEaIA27', '2uNqTsNVHLYx4F7NU3kghB', '4aJWAqjVDWFCttlpi3F4HA', '5WLL1Lse5Juik9bTGbj1f1', '36twaQ7dgJjhqW3IEvfbTX', '0KecgPjeyjAn9T2d5PNTwN', '6lulrwh852gB3WirPe1e4p', '29l2v5sGaKTBwZd9I74CfA', '0yrnPLt9UfINwPvCLw9M25', '3b9YnVCg1sEUoXlRwQvBV2', '10tlXnx4tbeuzOacWhqx8Y', '4vpfMnKhs2KHHrCPzfhh3Q', '5wSUmSyg6fkQqIhuEWGcp9', '3fva5PDy3o8ewFmo0zHBLY', '6tQ9lxPQZazIl7NzChB3Ad', '3WINZ8hNPKCwu0BfDcr0GY', '50e1qdtZjfVotGxeCjxm0A', '1ODuLWN9mBdclo37ZgYUz1', '7mr4rvyCkgD2fuNdPGYQw9', '1vFKPl9m36U5Yx4UAZFaAr', '5AP63WH8Zqcm9PhRruSrXI', '7m2b2nBy51rTT8kHKJ7HyK', '0ESFh6xLpxYJiZydexEieU', '0gRjtLM7ocp0jndjkncxOf'], ['1ZnLAsxcy0c9BqUtNBjMCz', '0mkpZNuKedVZrRUsJVLNar', '5ktUoxOwva0xzMLV6HrR2g', '72JgUX20BlH6entpiEQcDx', '2Cc6vHEUJZBHAyoeepJZzY', '7C8E5QgIfbJXb55XOrhe3b', '2QeOCpMQDMK4ZHfqT2pIc3', '3yvVzKRxdUAc7vxWdwQfGS', '4g8jY2NYAlj7sBdFHtrgdF', '7HAemeH6qgoKySACL3ZUU2', '2XFrsvPGbamN9w2C57a9hg', '1lGi0fM0NsvSHTRIZjqcqL', '0lcI32pCLNqSkd5KwhxUpY', '7kUeKVMrA3eMZNP4p8HKVi', '2J9Z2jNlHJAGZx3RvETZDJ', '4cR1c9NaieHXwFyHA6LlpR', '3FkL35y5g0Vs6jMYo5vNYW', '6YVEV28McmK71mOrvNmVzZ', '66zlv1OjzOvFp5Keh7eflO', '5WRoxnhGdORynDlAbDMxFg', '38AKUxCXckgIaEY0QwDj1q', '2wFmDMfr5WYkNfkYbA6E30', '6RbitIahJYtBPf5nRGSgFY', '7FAkb5HaFNBqFFVVGFvMTE', '6wKQSVUwtqy0SxtBEGQcDs', '6axTSLEMCgsU2LWhux4t4l', '6ZdTdH3hRFXGSUcw10OXYf', '62PHV1LLPUMERqxHsti032', '6MCiWpvpGO4vHkMjOf9FGI', '1vGiXnMDGlF1e9NooVtDWq', '5Voot6Qf3OJX5KukZ1dn4n', '2xqUVVwHeAeyl8PvtPPcFm', '29BYlstSGlHGjaQk9bqNlY', '4VIb2spYu2TVsYw9FmWne6', '0DrrEFJAuUDG4PMJ0SP0oM', '2WOUj5obvjzJLxf3TASsnJ', '4tMXl8E1wE42prbMi3LuwR', '13iX2jp2aqqMlnF9j81MbY', '2obhhKQ1mPxskpJOHSiurg', '0V6rAUFWyVrTdxt701eZDh', '6AGFqnZa2nHdGuLeLneupc', '444iyrQpCfopAxHXu3YtLF', '2ACIH5Dey91mwax5lQOvER', '5omKBcq3JfWMx8ctXFNpiq', '3PgVUwML7OiR7vkkFYrlj1', '4gexXSDuDHS3FgLpRseBDL', '0iFBtJuqERDcTtFuhqQGbG', '6IzFj8GilAEayVRo4jBfM0', '7wx58jJTsUZs2EIzNfGHth', '3YYCtoClqVQZxgvG3nzVLH', '6kMd7pDwtSA0F7b0RrvsSe', '1zUlfEkaAo7zS5TWEuHXz2', '3suLYeJHg2ANaSgtN0PnAA', '3wskyZpbIizuW4OGktTpMy', '5u4WtjzIuJgzX1B5s7DhVM', '3nxdNdIA45HbkTwzlqZjQ0', '6tr10AllwnJcoRI6nlNDTa', '3rn0ycZKmc0TMthQMvBvCN', '4JTbjpQmuLtfLzIkAH52Jt', '58ienfUL0jy1I5EeZootxl', '4SuEoxbyTWZvBG1cmnp2mq', '4yc86ER1kfXDvnKVEA7gKT', '1jO2KInTRF7Oebj7RyyazC', '4s0siSTRtglRvQKxpWJ6pM', '4g8LVP5IHyzBhYplyf5sLU', '1dB6n4Nqw4Di2OseuSOFuA', '0bW80mIdkzLcN8Z9YZ0KE7', '6QTnfYqEOcwk1sMqp2lRIY', '4r7k2gHiV5NG8ErBhXySbS', '7GnFQMK9qCeEFN0BAxFvW7', '33wFbAFX8W0IgVqEPpxqth', '5juwTItf3H3eQuzrGiKwf9', '508OlaD8prowe8kNe3TFYu', '6nyFJksfTucl1yODVstEcL', '6FxYPsQA6ZUzOHvwCpBzGC', '6LJOGOAWRYLxDPGirVxTO3', '6JyqZHLr7ACv0AVqpYrXfj', '5OZ4hR8hoRBNchtdKO8lyF', '61uUE9vhMYIZ7tUMGTrziq', '3h7fF8ZzUWCYL5lJWSuEfp', '6iYnCaLRzrWmM2UyrkXEIA', '6m7ilZfojjvq5MaPmDOoDp', '1iLekEU5MMII393Pnk1yEt', '7f3xtPzz6uvPzsgMSMGgdB', '7tW3eTmzzYNNyEmi9qHdQC', '1v1cvGLu2qZlFWiK2B8s5V', '6JXgCuj9eBDcCMT6qkOMog', '5mJMwtywZacymdtdT21ABQ', '5MCVLiDmEoHxJmOK3HBfnt', '0425SqjE9dL7IryiNmSnkp', '3xB2NMC66RiBCfk1St2d5x', '1qDYupZn3TPJIDFR1tzETe', '1dOpDzDs3D7fQ43QUabPH0', '11UvQwdCC7p4WoF9AyhIdq', '4A7SzxjmpFO4E0H4BGT4p4', '3KIoIajdvsFRWMYN3T5Fa5', '2ZazIXecBCVmTlbyKJHxOc', '6VPguZgCEK4rHCeDTRpjQg', '49gROGYXXsoGl3DQxGcmdb', '3SKPT4J5y03Qn0u4iCtish', '0J6SPSO12FYJt55acGJW2y', '3WESokAhiJymMBjplSo0LK', '3Dz0w0CGiJkHCpOKEISUeN', '5bzKsMKgIihhxD41MaKpno', '1Qt0QYaLL9W2yie17ACazC', '0r1CgdiknCUXvmW7gunLBo', '2gQSoiXsgD9wpAp9aSdfMd', '4ZRv1fFjjwpgAcosytT3bd', '0neTlrXKNSaFSz87D95j96', '1EICh4qNolTgW5VnUDpXg7', '7x8tFMSNTZ8a6ono0obeRr', '78WdKuEUr6gpUMpQpDeaYe', '0lBzrIF31FmXrVkv7u5LlM', '2IfQvbwOmPhvVhcZhMEXUl', '4yoqzwRy09GCMseMU2ud0g', '3CDvBbpv7CfiK7V7hxeHBd', '2Z3QlVfnnWJMxseVVlPCAw', '0RHJbt2wuy7LkUiIL8WdYE', '1ulrJ0uK6zy2P4bruCmiZ4', '1Mcit79QvE6BdMXZ03eamN', '40C4RcHHLDxFUuBeMryCPw', '3AvkIFxEK6Ay45wuqKuybJ', '7vtKvrXpzwYH31cDsCSL5z', '6rhKHVL7MpASDhCtuY3ISy', '5NInEvlgKr6MTytu7av3e3', '60pHTeWKuQrILfPD3MIbkr', '63LPoxJh7Vux6Oove5e5RW', '40JvmtDltgFju6fGoscWlJ', '0SYBSM50ldqqPQgxDhEspE', '5bCUY6kzLTiW6elvotxQt9', '4iOtD7jyevmz37g72AcSnm', '4iloCrylppBqk7CzSKXGq8', '6CEUe0Nc4gTonVgMf5VDWO', '2F5lFpyiAqk9JmhCnA5DHr', '5If0ljSv0MPkrJJr9t75mY', '0huwyZvlFjrRcnw96wKEKj', '0YLPrzWklBgy152fwVL0iT', '6fVoPI4Kv0qs8fPoJ3xAp9', '5pOUlWdNexlBRsBFJ6d507', '3ZaC81nIFKE0zJphHSTnLq', '6I1LKsxUEASQ3EkgmkCEry', '5fEBnwOg3ZvXZVCG9uRXWX', '60VqjFK8tIzmpc5Q1NTosK', '1VdhLpUxXQT2SN1Vnum7Eu', '1nUeq2VFT7rDOsry1KD01T', '665CMYY9uSX9PEACXwQuXY', '5onpMVKnthMnM0uCN5k2jY', '0zturCsng8jMo3Pf2EXufv', '5QenrGMgQHb16phrb8aPLj', '7g97O2qHKYa3VZxOKMmyiL', '4O7HgjcUApuayvJrKPz4yJ', '36ixGm7UcqjpBUEHmAY1R1', '5hFhIObUIeucCv8VHhF1hT', '4RAw5T49Kgd7BdsFsWe4qS', '7ptDZTQFdaqA519GUfff8k', '3JPfdKelScEwS01JZaiH8X', '6VvLvmAEDn7AlNaYmtHfoE', '4wRu8Zs21gA3GxSbmYHqCq', '5VJcwlSzgFtpClXb8xtXs6', '1JqHnsfMUxosj0lbrhnbaC', '3DuxgqofnqkTigBNylYnve', '05Ru5TAWwKOeac8bbJ838T', '258fthdJsWF17XxHpTaTtF', '52Z6bV877kg1F0DvGzmdAw', '0xXjHgogk3WKOvzdCK2zDx', '0RMwdVc8npKTkImaMd0o3q', '4injc3ZPFFRB2dAMlo7wU3', '0PScKDOlpRri7jiwVxB1qQ', '2LWCWNdVk4bfLaaVMZVh6z', '72YNCrIywbtPaFgFSQNI6X', '3KVK40I3oBqzCiEm8nR5SX', '0L3eiLJIekTa0Bqhv2RURF', '1eE2MRCEWlqIKF1IGZFC2r', '0M2STcvX62sBK5YuLTE076', '3yZztAT95es1S7UQZ89Pnz', '6YlhnR407LgZfCOOGHZfiv', '5FzQOFCqG92Ja7AvQJu31o', '5NIS6jNvn2iVy6Qgq3Huju', '5h3UFJ2jRZG2vF5eVGaNGq', '2mgpUBKjC5UMpf1sJip82u', '0sbP0IrO1mrNWiKvuPzDRt', '2NMVEGeiUeIosCna7tcMUp', '5wZvX36s2lmD1q9PrdZVEW', '26advC90paRzW89GH6WeKU', '4ugRlcdNbQyQ295ckN6ZPx', '00x9xMs3caQUh0YV9iXVoG', '51fo3JEZp5ZBxb42IPnKOc', '6D23SO4WGAG8Md0yNLSKHP', '033GcMtC2caWh6MHodT6SO', '6gbXFwyN4DFGTeFysOYiCn', '5AnKiIswDra20Mmmoe4aPs', '0GqkGs9QSKFwUAku4VMj3v', '4ve4UMHBKvtSTCQrkdEihv', '0glh6jk9qJ2Ibuz3qbERLu', '6cDdh9kz3XoXieUAH6kdJq', '2NAM4VUbbZi2t1y3TfJsvH', '0vGEzqc4IQ59yiffuDz9jB', '0NIUQZCng8iw1JLyT9loOf', '6rUKKXL8dj1grd1jrmpZ3G', '3OFavLb9tW7gAThaWdthHx'], ['2wHDDpZj2N9zSDYLJQ52Jd', '4tH5CLOMXHah6ngcr3Z2Gu', '1yB0LY2uCnB5wAa1MQ6doR', '7BSMAQPtWQ8cLpwxE22kKA', '0Xml88s6LENWLR7I7lSGs2', '6MylRBnwQpJ7KlEnCQgSpd', '7lMW2Hpzs18nh4kmGOs2rB', '6F0DBsxGTwJ2nysdf3t2ka', '52znEJwTNgZg2n1T8C0WcV', '6pt4hCDsGV4O1xEBGhaiLI', '5l5jOUgJm8gedEcYijsBcK', '00hzOt3QX6S2FEJZUokusO', '78zBtTmgkplb8MUI3Fijek', '6FbDQuTcGT0IoZCtsbCISv', '4iy738QjI4zidzPOjhbLgp', '3OLnmWjHbXKRIiRNDNfntH', '6C7kz6eR1Sf12ZBrzl7aD8', '3JIOP9ciE3hb2cXTMOzBma', '5EyFMotmvSfDAZ4hSdKrbx', '46V58h9Hgc5WFavtjhNCvR', '1zX5Zu0uGJDr9ZDxA5hKV9', '08cijle4wA9ijkgwYToaxe', '6mNVIQaCsSfctLelEZBRJz', '1GqhHpCewFOcxp53xEHmJI', '5QlWCX597HERw4WITxAjcs', '3wnphCCCvxV0jO3rFtiLQB', '0IqRtRiN7mb32cAmyt7G13', '5mu96o6F1pWzA5C9R8LAOm', '06SnywJrDVSDAyzCIBGYnq', '6pj10f5j0g9gjfnJnOVgH9', '0QGrJitFBXUOFPICc94OlJ', '2ZwZOvNwDT4ctrht4TiYAp', '3H2s2HGReZFS8HKHNutpXg', '20CFvOMJgvNmysKxUH5GJV', '6S3Z5EjcBkNyQRHptNbckp', '3RtFvzIXD7ulUCXkWdIOWW', '2jGo6vr6swUBugWe7n2bzj', '0FemlmnruZEJogqocbcZ7e', '2NBLHCkoQ4r1KBgc5gOe8J', '6KCEBhb5eYhZfJQQBL6W3Q', '3o7Cu2rwpygk6zJiCqE0Z7', '6PrgksnXDw8GYVs2JE3Kuq', '2TKcfnqTPYu4pY4peMDQE6', '6w0py1uEgGI5cIxhIlnRaF', '5RSFiF5lKFazAm26oCvJO2', '3sY5WhiXGA6c0l7TCOETnJ', '2aIwwGSay614PUmlynXBt1', '5ITCoz5fDeGlbKyNmwKXoG', '7gMAoS3RpftL5PDiOu1ug0', '489ivRjlG7G0Hbhan2ZUBn', '24dPdOLQ5vnvCWyTukxqKx', '0Bx8EytO6xZ0O04CG0yM1X', '6pi3rdg7ArZGMT62FzattB', '0m1icO5Ea5t8btM4xQ7mHT', '2EYAlVOM1DPOmhtckB6FVf', '6QufKhhtnLpucZ0aFruw96', '6nMGFNdf9QNLJ8xz8NdZp6', '0QCwzUc7HoviOaH0of0cII', '3sKxsgPOnvZIPdmmoLvVtZ', '2hBQIwJOWzLMWl10enb9uE', '57Ehb6xWTjJUadbP8DDgyo', '55s8gstHcaCyfU47mQgLrB', '55N6txn5KNGrxoWcelkVOu', '5W6bxdaey4mnoC1QVxg61t', '4GhzIuuhKmoxP4WMDukGhR', '1kps7K1T21QuwQUHaotbmj', '6kWfC5lHYMJFMHVC22pkFX', '4PDKZIGNpydaoI7pZuxyh7', '2rC5y63rN8vpDKbYSD8ykd', '3YU0yEYcmTV7U4urOabDi9', '1lJpIVTf08jy5MGQnLjhE2', '0LB5NqzX7GPgyTd6T1rxaw', '0Hy9rITSl0a8n2bNBbFcta', '2pni39gq7ITfQJmVacTtrM', '5IWPEblkRFpFY7hVDfi97O', '51ZET8D7C1TIlpbFsREleh', '6o5FOjzzal4sPtjeonHloI', '4xcqsrLM9kK2oopGhZ9Fte', '26R9gGCsxKxvyGlOxS9mmB', '1a9b3aM6enStjH5hqmmVd0', '22Vw6zVm1ywaGcmSbbCJDe', '7qaB6v3tN8aZIrEk3bkA1i', '40SU6Jnb1f0fYjpN1bmhjP', '178sTCIthFi5cU2KQNK4QD', '5DO4LMun9Ri03W5bvBQ6Av', '7d4A45WwlxWLN2E0LIrUxE', '7MaOqNrbYKlp4LD81URIsG', '6f5qv22lxPOYrTcRW65JxX', '0iMiZcvIy26MqHQln5kkrI', '3RYQeTHhHcEiT9wW3bDtrP', '5VkFzduwXsWFeWKQogab01', '3o0fl3nB08es8tf2Gqwda5', '5i3nz8m7XR6D7PUoIchxW8', '18GSi8FlzkGjpX202M4AuG', '4UPY78QrXrmlSAE722apfN', '5PYjZgiLrtT7ykdvAJEAHw', '1BRJmIuTmwJPrwQdusX91F', '0FwI8YSp47qXoeuxJChIfC', '65UofZd1pC3HdvIXQzYC62', '4K8cqoXccxo7fPmBEqVKQm', '1yPm6jjucp6JfQfglsZKfj', '2smdrEhX6cSfCspXoWF1XS', '489vrXrd6VEejJPJTROXwl', '5KcfGqyKiDx3uLCpZsELKc', '3oXNPFl1SakoBnaFnGKbZC', '7JncFH6GAjyAobbWbIF2Qh', '2CZdtxWA0si9PFhWl51h7C', '6PZxkPpTt3Keio3aMLwJC4', '4lFah00zj4wCnxf1rquFRA', '6xshBURkq0CF8JJcHJGYic', '4byNu3ZWic9R7OgfT8jBFM', '2rsR2gxPujqpU0JA6Ug6xg', '19Mk3TNa4Gypv6LGMeklyS', '1kymVzLVYVIaSutk4cwaRX', '3BK0gx0rvmoqDp691gtQZG', '2cjIvuw4VVOQSeUAZfNiqY', '5j3yYNLrqwPHmXzckFjOwW', '20RjeezT8jhEhJSI6e90IY', '5LpV4RS7WgWaDyKxu0W60r', '6WUkO8l7dwfRtklnzNToRw', '4T7aBqQkKYQesg9BiDG0FD', '5S5M72txHB2OjrBop5AYC4', '6dHwd8PSz0phwZkwBRLMm1', '5eS2fQlgTYZR6nMAkuKl5L', '5sodadTxPhNX9LAxyd03DJ', '3htnWU03tCAZxRKAo5EUqR', '2umt4HDr7N53azdCC5YM1i', '0FwDEXzENm5BE6jhL7LWgC', '5my2tRvZRn2bjVMsWtZmuG', '6V610CI0YGTFiMWvm8fzeU', '6kD1by03LqVcIK7FfQ23Ub', '3l3PfTmx8jHrp0NeeEDkLt', '7oe7qiYLUxsfhZXlT6AIiS', '1U7Vxyzrqtj2XlPrWoj5DC', '0ZfARpXfByItZ8QLMICf4C', '0PNIW4MlH8AmkxbODzDOfg', '2iboRnpimzAlpZAbpIK7jt', '6Wel9lJLvOpiZHBJNF19jn', '3XUIqz03fTousjsdEDhQOS', '5kAulE1JAusA4SlfP0OjYG', '4OEl8ZiR5J1tfNVCfPugP5', '5KloWVVDflJ495FWRbh0QE', '03es0x1JNh66XhMmBD9AxS', '0vOzJN3JrGoaDCj5HP0Zjo', '24ThUsj0I1BHKdVe0oIbJS', '6M7wIo9NQLnHAnSVcnwwyd', '60u9ZHJHOBYU7yPFB3fJX1', '5PUxbB9Jk47DOKdYKMoYQs', '69pKDUYxS5H6u2xFsvHTvg', '1n6OWTFzNIgrLhgdxuft3M', '6G9ArXMsllECGSMB2BuG5Y', '7wiuy5iEdMLPlkxAZ1Xag6', '44OUoml4AGGKm6L0OB4JxL', '3RRuHMQvn4gPIfK802sqlb', '6BpJBq5EQ94Nm06ckgS9PM', '7p0kJWBVE4VFrVW6zs25kC', '3AxSX3HPwdYS7HWJOlTUnt', '7vmAOYPv79aEKthR81JQgR', '20Nyoxp7ti93U4ZU5kjiph', '5V4K0899rz3Tq7wbhl1XXn', '4sLca0JgChDj5bhtfPXejv', '6D5Jw413HjEVU0GBcNUoXT', '7htXvrm3IoLgJGcmoTSE28', '2GvYCSgXhZ0UnUpNDZRJZF', '4CvNSwKn7f9ngVLlP2Jr0O', '1kRWLtBz2L8PM8iTdvngqo', '4N6AuY7JB8cQG9evwx6seu', '7GjzZST3g8PmSlD8PO0dDc', '6Y3Aw2aBg0fnPRFAxp8apo', '7xbK3YEpiCfkISMiK26r2g', '3b97q4GnhWUw2oMm5OmC0w', '6yDWNVWstrSIYI1m4KHSUS', '5zBqJ2TE7dQrLB4Sxq6NVQ', '1QOMMQeQ9X79U3JtRZXy57', '62ZdK92qdn11OQmpgvteAd', '0AnIhnMNUYVFYsXULFr9Y2', '4SWc6Jiz6Tf6Oi48LjJomU', '2hfzjrxv05ynWI0LLxqpjq', '7sbU5WLJxjZeBzFCF1HSHX', '3bPyMItEC0e3OU8asnzdn3', '6mLO13tVLO98kSfe3A6XJg', '6nOAxBntpTFNYIxO8DUEM4', '0DdxySdbk9CaxkZTzC8WFr', '5keiITeMvrPlxQvpRScbjy', '6SjDZKf8ke13f8E3v1XAQ8', '5c0efazHur2H93z7zI5tl1', '767v4hBm6bZAwHptya3LcP', '3mIhbXZ9SxkUok4IxLBxZk', '1dOnoWJmZAhe8mRkMQxzut', '7HRSLTzbL56l8vneW3mR2w', '6QE53B7NfNuEJ8ZlwJMEA3', '3mg8CrTTMG66HCzZroE6TD', '5qDufC8I9t3EVumsy0ZRAR', '4tQLejuIwBey0NjUpLxPwb', '5G9AZ1XmZXIZofHotOQnB4', '3KX6z1klrH9RrmD4hvjlAl', '4iJOZzUyARH8EpZngrkiBm', '2Na5b8ZZxpBRZqZXFZGhl2', '6IovjBTXeMtrEqJjd8vrla', '7u9s8sobm0vJDxpdkhC3we'], ['0K0Nr4kOt76ScRRAJtE43R', '5i7nNkeKMubSAhFDPhIeYv', '46vWzFtJUqX1PZHoQswUuR', '2c18XJtmWR962C1qAM6HAN', '4bHzKgawoIYIv79jMGS1pL', '2dzVUieQEga2NiLQT4uTR2', '63PEOiPwgBRps6iW2emDAl', '6A74Q1YeY82b4l3zwYFFfm', '36YH1VI2xPJsg3pwCxr4Hl', '4q7xAk1gn5lUI9X5YUXJXj', '0UYBXYXU6iAs0RJqnteZW7', '1gCKEPHP1xQmIBMqw4aF9M', '5EVoGPRq1fYIcLhFCUiydQ', '6L5DYqEAWfLMEb6szUJpe4', '5gZ3OHKBftwK36rncggUxx', '1UJTujbW6NmQ1xqzNcDaY7', '7mMkzbc7EHjOtaLiW0O3ya', '4iRVszozo0kiDmgIqzmZxY', '5RmdN1TuYgoPmnQmMYE9X6', '3hDWEELdaUjBONwNB2jMGV', '4TpeBpehkryLCrVHrI5NWW', '5b7iuK1KtA1Ml7JrYpOUGr', '6CXa9mSWjMfcAp07TyU60l', '4vsDauJPmHBEIigU2GnY2p', '23VIA3teQnK7eZha7EDQjr', '0HbEsUZEhUiNZwMPzzMk5u', '3NOxMf5RZTnCXdC3qrqCxB', '4Pbi9IXKK2lD9VnHO2wGxO', '1sy0OGu2TTXLTiZ7zMdcoB', '3kznfCszuHhUojhZvXzdFC', '5pTlHziwBE6lzIvpBvjfnL', '1WoBse7KwMPGy9uIwoe5o7', '1mhHpC0idew8lgWQkEJnOL', '2AC2tTYulJO3e4IQkPZndE', '5MB3Fi7uDmoOlZkyctKwNK', '3IzGDWlfu7VTZEK9Cnadyf', '6JBXZSjISi9ugN1Q0Ku9cN', '5akdeWIPyZlIYz23s861Fn', '55tjSUI5gT2qRtjECLE1qf', '6NC5Dmw1bDL1pNHw9O4fK1', '1SDsQL5zFGmnZy4w7mk1ub', '2zPhIrBINowwbkxiGkdrec', '0f2OuB5CtLhR811C1epsFr', '5jGdQxtYegtKRvGJqo8315', '438mjqOPOjUa3aY1sOW50Q', '3r6u8ciy6JcrdCDXMwtC0v', '0S6rCiZ30gNEVxpsvtpKSQ', '1zF0LnCMxw340KfckveaGM', '2oTOp4JbYmmQke4KRt7fxj', '3GL4HNVOg9IqD5jxVpSRp7', '5OKeXMU4U3u4NkPA1XqsUD', '3EP7fmtL45NXEL0tpoO2ca', '2sTxdHJ1Nf5vve4zmir510', '5Zy6ZIVXhBE4nbmNhp8LLx', '5DcksqG6G4xJ9nu1t15wEQ', '3RbRDy3iktE2Zf0AP6cCK3', '4SZH8SQnuslwyddvWjY2Lx', '0W9zWriThPyQw3kmq6xJ1e', '6lMZE2UCxN6J7un54fIwAy', '27XLynMa4krkiA9piuqyT1', '7ouqnbBBJVTn2ekY2Us9rA', '7CPFCGaO2YcRhD0707yyYM', '10PT5OvCyg3tkZarwaKpuQ', '7BAkBfgas8V5uEHj5laJGI', '1IxeQOKZy4mzWWSTyEIPAC', '6PIhwFYl5paNWQ0UxMN2Ys', '5eWxTPyskEqSRgBMVgNFLa', '6XJ2Qa8gDoXrT7tafPbwIj', '4ErdfOdFfbDdISqqgv23GV', '5otIcGrLz05cFq5Erhbdml', '1ghBX7KDplRis0ISK7BHjq', '1qMFUP4G7zCrrLaBDFArLt', '5hne3nEjaQ0BLlU1cy1gSA', '38rbQIxZrNYvaTjlm1z6TM', '6tYftF6cXhtb2UbjhMy2Ad', '4jXVpI7UvXw8MlqR7Y9yv0', '0YHogJbqA5TrygAp2KAXjn', '6TDadUNwdzYI5gwc2AkQzW', '3Ma38ruHiz5DzF1Pb4sY1Y', '2ee3YapidNCKgzUrPR3BHq', '7DXmRDKwSNv3RB2NuYIfL7', '0UeXiI7e0dcdSvOdgowvm4', '0rSDQ760FMUfBOFSAlnC8M', '6JlPFzG76YouNrIG7zlaZo', '3pBfUFu8MkyiCYyZe849Ks', '0S5jjWoTd7P8avvYWHbTAP', '2KHl9SZ2hSMhP3IC7f1aco', '2jgy57TEf9gpe5wRZ4cPDF', '6R0fF4h0lHXU1xqcCzp9hd', '7x9EiG52OyQd4MkoE7QKtp', '2oUR5RTzUhtwJypKmhuxdG', '6gPuTJObMuO6PYBqTVhhGS', '3G9lrZrzBwmQ1F3OvvvV6d', '2jZIFXAzpHGKquLdfC7bs3', '5E9beuWK1DSrB7BLNqXqCD', '2ZdEVCj3XruQaXQuq0Hfrt', '7m7jhomQZY5LM4GrWyMiut', '1RRGICI1qR25Mc2jjagj65', '5KudWqpwRKdH5CY6yQ1nwA', '6B1R2NhaSBVDEuKRDqhjAo', '1CruiEBwsHZTp8VYJppXPx', '6iZqWDC417BZOeGrBRlfsR', '5OcvKHhsBhDH7rSq7ZrhUK', '3Ql7BLoaArWWHZxNJdONp4', '2SkLB5UGwScR0IVAMX048A', '3gMqSTa0UJO6c8CQDtQ2OL', '2dtelHlOSYB0TvjT8Vi18m', '65cw6LKvXQFFHR2iwNjZHY', '3i1lMa8Zl2bAF1ExmFNTV0', '1QARasWas7RvvcCyiXEjlV', '5DXacEpgPNVZjnPQU6JiIi', '6WYLegi5QthJ5ivzNnz4wM', '3gdJ34PX9drWzjgOjli4yu', '7IrSsJZdbHtpLGG18YLvPV', '6aanKgTfkuFFjiP1YW9HBE', '0dsJzRtGo230e23L34hllR', '3VrPTHyM5DuNHzEZUWzsnt', '7FdGVAxDb8iB96NFXOiVMe', '0NhxURiKUiHF89xVByijkI', '1Cf8ZdtSkyItY3LKaiZnWD', '0IX8lhBXTLOfuBixiqlAqI', '7H8Ak1DtWspFbNv6m1HVlW', '4vQygUErCC4v1vBZ5zkxvN', '3YZfaVLmvcxIAgRH3asbhw', '6B85dQKzhxzy3UJZ88L1fu', '7lD1z1eJX5htOF3koYxdnY', '66GxbkUX9OZikMgn338pz6', '01rNJ4ySEztGmhSevXtjVk', '0TnfKtQvtS8fcWUgXXBj8w', '4vTdyEz1xpzPJ45jfFHWYl', '2xTOmn6xG4eR2nns5GE1Iy', '5rgedt6jlpITOP31Nm1I7n', '0krnYjt6NxEOYruMsGzUqt', '2n39wrdsYsdsEUrzMRYVdo', '5Bkyd0BXBikpQah1jXqWYV', '52nQxDR1zNIqABK751NZz4', '2zVryf7Hg7btu7fMo8cAaZ', '7Ccp38dYsbJlU0FvQjjadQ', '6dRyRBIZl5acVd14h733T1', '2tlqYCJJmhwvxLrW2agDk1', '7LQOkJtfzEjj7aUQqz41w2', '3YJtBiDoJrBD7HuJVSduNl', '0PkAGge9ZxJLlJhQdzskPm', '6BR6crMXq9OQYVastamVDj', '3DcaooMgdPz0sO6hPGsepj', '61mWpz3ZqIBLOd3MxbjWFR', '7HK1rSHqmljzL2E38Ih5ZP', '7ljrQj2akgkpUbpCd0XEoP', '63FqUIxVo1KigavsVaoVnZ', '0yaAn9ELCJ7WzLhYJ3DHNi', '4H6GLDvB0kzoCyavxb1Z4B', '4SR5G11OQyBa5WCPm24J1N', '4RtSMgqyvQLbKaBLBb9qHc', '3tB6NrKiyxGGwmze1JhAaM', '5gql4TGO6qwkrztG2hFFBd', '4SraIxQeuuXNWKokMAZvhl', '33KhDl0itx7zYyzuEhwDQA', '36rl8fYkSJS6szi6ZYezk4', '2txBERwbpo2voBtdwA8VGG', '5Z8S9q8xXxOzQCdKBXx8Is', '1OmDM5DGkAOXJcJTX9oHaf', '7GmKZthF6bYPWlhFBTQ3Ef', '5FJqBWsK43TUQp0Jqzj0w1', '37Rgp5vWKUX17diUSWfqba', '6eJzG35mKPGsGvFcZJ39rP', '4RV4TSk6uaR4URwZMaA4Pa', '2THvXynGgYNp2AfoUmqcZ4', '31adiB2neUkKBC43IBDeXA', '4IPVfom5hEdsiEVGp98Khr', '6ShxMeq3GHXvCtK5QU7f7R', '1nvXMQtdBuflS4IrG5WqRH', '08nXOyhmTz2IN8HqBtJIXa', '3nbLTvtWKV1z0vmY1ampJb', '0m55vLjsDe1eh1MjdPufNH', '1Wnz6gX1qZXacmvCXX86xH', '0mKxo1d7Rshs6q4BrCEL5I', '53scIdMPn5Px3PdVOY1nC1', '3ckBFPOgYgKpF6P1QgBKXd', '0XeSjSOh2uwuysKcBqboqD', '22TWbFEbnhHv3CLCxOjoBW', '6Bwx1zt2m1T6AC1fTFBFAY', '1vH4G2PWCvespHrxCOI0oK', '1K9zy18wivsvVc42LDcQnA', '7nircqacJ9I8CqYs9HdKtY', '69gDbw6nnW6DRhaCmsNwQf', '1UolE09MPlJsiu4Qkd37vL', '4YPQUwpbUmIt9PbVNCn000', '2v9nYMvQnYXxYFZ5vLE9d8', '7t1aXa1i7A4leCY06e8GKn', '7KqcX5BTL17wPsP7Aq0rN3', '0UlkQsu8up6NMjMrn2Ge48', '6vjOsh6JeWFudKpQsOkYNP', '0X48ayqAs9PQ2Z4wRe2YBb', '73KqelVOge5J7pIo7b87SV', '6SW3GOlCtAd3WjUWdXwyaS', '7u6WmGIdrl2LFd73vZhBJQ', '4Ai1OzIuu5d40Ce1UFl8IW', '47qloHCA0Ygkm4Jn1pOYNt', '7iF21JdLdqullZnsPXps0n', '4h57lcwyBn5d5qSP7MchDj'], ['0VKu9BTDhgTrFjfBxsJ7PN', '7wTrCsonTWgiD38rsyTXc0', '6uSkf3ARKkBhgf8bQE8NSN', '0qxlFZHLZ3covDTbehMVIW', '5FDzNJpE1HyIV5Q5AqVvCR', '2H9lhkryk077kmxq8UOYkl', '4eE8nsqOILpqGNPdC33B9X', '66vH732A5RHBhtfEZHbxa1', '65oQYtlHy7Z886NlG6zdwM', '4pJ4ZEzj93WnpU4CUgVxH1', '5bNJ8LeBiHjPcsmumc9i3P', '2PIImwYRHiczMTYmHXmBcz', '1bGcbgDWekEUouQhyNwHrA', '4v2xTCDjMAWwXw1jvUahtv', '3H9BwCqSvhqLxl6gyePHAE', '4wj4OQkPDzlztExS1F1CH7', '5PI1ISPDdvY2InHQ4ltty1', '2lme11IX1jmvadLWtDcxFv', '61AYZjaNq8JoheU3TCuoXw', '18DLKGkmiAelCa1fE0WhCp', '6Pixe6bdAwQIkLv4q85U7E', '0rQNHkmdv2pLgSc98wcYvt', '7KvHsZlWBcDNpi5eaZkijY', '5Eavu4IrTnwmZZQbAM18KO', '3bxLVrtXrWOpw37GYZqoCm', '1vop8KpVahupGKRDvAWDrr', '532PtpsJMVHeWcE0XOvUKp', '6ZSIOKuqBJaJz1MEniEaSv', '3scCe8r2msxJjBVS8aI1Km', '5FOpN7ejzmMTtCgYWnrfB1', '1zBisMFE9VWtdXHzBxWD2d', '0KaPnh3dANNTOnqXlegsON', '4XgY9WBQzM4pr0UDmTJ69q', '2dvBbBvx5xENN0yta6YVMZ', '1muYMeX1SZqxIn3MeXlGmM', '6u5cs7trIBWbrSFplDuZo1', '2RfePZozRa9gl4lmx4Oldv', '6x09BnasLdoGcIA2pGqMfT', '6WlczMff7aDWRAux11Pj9M', '20iIYgQhyO7JlYOGsFYu0h', '6eKMGlc0PX3mNLAJOFUDUB', '3JDDP1JjveG5kUAnEIQK1l', '6sykPPFmdBMiAQud3Dnmt6', '0p7jyBh26hLVzUkGvPuRzZ', '7oGsbF2mIzJSpGiKIWPcYG', '5xoQJ99HdfiyskuR1M0n8V', '5scILYXkjOSPXJVC494rCD', '7y6c38VZYmqMEFcLflCxy1', '4nY6eWfRNKtTzG1oZLer4I', '50kZecUV5pY2SuJv3Ie0vy', '3S1y29gI6Wpchw9YCBHXM9', '2mccXT3LnZ6OsuCzoyXKnS', '3rm5ycg2D4VayBq52p478N', '3iAMvHfqcqv7St4MLQRq9u', '3BRya2QlUo0DeJ1MfA6MGD', '7xYLH2Pb2n9rILuSADRfVK', '0PT8NnEbyqkuBITZXwei0N', '2SMuSQrwplaFYop8lMjzXA', '6Aj2JlruKOsx7VrFYI90kF', '3LJucbwy2msKwooRQlVEwK', '5dis2SNFMhfm5iD1UO24LU', '28k2EefJC3hIfubtmcQrIW', '6ye4xUHWNCBV1GNFQ4yNaj', '6mDBTlpxmqfCQXQalGJOxe', '0vGULw3evyLe96gOsFOmFT', '3WkjlWImZ936rGAeweH93i', '33kqbVFZdUv4JuMUzFctmt', '0nqJegaRD3nkCjyIwg7mry', '3uDcb9aPKm610tkqbIw6fG', '2cXDt1ed25OJuZkDpEXAYp', '3ofLiCvTC8YguAJ45fIqEC', '2PaajqPSi1xmO8Pkk8uJQV', '1JEkVeDauPlvYRDE6sOcGJ', '4lPm47P0NUPUdaKpaSOSTX', '2g646JKBsJaDrJkZ4JJwgl', '7KHzvfzU7SVFsooG7EhsQZ', '1yVqljQXnWccHrSeMUxZwd', '5UYSZ8nVmn0iaIelrf9Oe8', '1rhRPl3CJrszlIzllhvW25', '2LcJiLWvG8jBx0HTyMfLXY', '3iUx0accVO1EwlLPg1u7Dh', '6bpwGHlRRLkVqfmOpqfmvx', '1zpGcI2DcOjVa2vbtU98cO', '3tBFVR4AL91lnjtkPrfsPa', '4ZIMiwF86xDzMZNE05pshX', '5SZlQCSNQoEmUc7lMMAX59', '07K0fnv9a9jclwEojIFMha', '511MabrP35Zp3tqYh2G4iJ', '3dcYLsaZ5ZrjU7BCYa84zW', '7vpR9aJNqeF7FYnSIbhcdc', '45zrIOyjGiR04qvOUBhltM', '18oX7hhCoQ3AIQyBmtD6Fn', '1VUoju1Asynop6UWLSOTqM', '60s3HASYRpcpczi7f6a6SC', '51Rs3akj3hc4c8XClo8LMK', '4lNcZ9bBI5BHRTGaWUUBiv', '11IIVaqPY3mfMjbjJbrp2l', '1HF6J83A0lrauLpdJ9N4Nz', '1v75VUwKR28oOd6Lf3C6JD', '5sEfquPnHosqWquqi93Ffh', '2mkZK1x9xqySv82Bx6pw4i', '6un2az3FWRdGCUdnl8DGeQ', '6yTgfTX8WLMvrExyuNdjd1', '3H0z2PNzgD8BqBbRUnkVy9', '6kL5ZTbRK4ckbI9eobGbO8', '6E9uHw2nQR9XPP4DGrBUcl', '0dHY01cuEZbyQ4Sy5x9qFd', '1wf6Z3Rb1Djl8GZdDMc7Ec', '1B8OWWOqc7hn1ajJpv4768', '6rKHYk07I03KxUuDGWj3Sp', '5JlAxfks8WrtOW60uXc5Nj', '7gMN44gKyJeABIt5tc34tA', '3kbzqWhOrhZFXME9PpL8dg', '6NLtxoSHgVwYSgaaqsh1ff', '6Nc6imqfPkI1PvvGGH8WS7', '1i9zTcQqWUBTgIuCgxDW3S', '4CVeMaTHVqnDs13oYp0Hs6', '18A3UbVyw5LS83fK0U5kqk', '1vSYauLcP94YFZ2JniVyUQ', '2omkyD8BvE3JD7yxK2PEv0', '3VtSSUplPtTQYR8rTEGkLG', '2uayyYqxhDjpRTbqPK19wQ', '2XOLY2xHGJ9usihj3VAJYS', '6oFOZ4cBewLRG3Vp07xmMI', '6zYwJZgdonpz6IfOM0LJos', '2hdg7RPQwGanRABvjHuppV', '69AS6y3vT3IRvzBiPwvqP9', '6J8tjCIP7AQhdNLnddASJJ', '5sLhmwkeZsqxUfx1871zjC', '3bIr8LlEXo2Qg2efV91gRF', '0IeVWLiNFBT7uvVDXOVYuW', '0fe5Mzpe1pImBgYciFmiYo', '2lybnXPgntmfOoxDm31UQR', '5P1jRmNP0TDLtKX7bj372S', '5eOvkYkMf6eMjyEQjldfiE', '57Ns5VoHxZQPQ374ebMZf5', '0dWgFxR0ieemTbUe1nfLed', '1EZksekNRKhPgFNfE6x9pt', '4lsam4Ai2qBD2z5c48CJc5', '60RyIsR1wt8rPHLilITQ6e', '4p7LvTTcCt83rvC5tXPVnR', '1AhkVbfxPtgV5wJhtOAvM7', '77dtfNhJiUgk8aTEWQ7hsF', '21dqo7wC7PMnraXfbuapQ7', '7iuklwaJAAJFkN7FEGPDvo', '4L9GKyeqZOi5rHUoqDZd6z', '4bm3WkkXKyxMfcLOEht3mk', '1GNpGs1XlJhH1ByOFhYfcN', '1MPMGTQ2WctsqYgtaI7AkF', '2AunSeg1QuuoTzpgBLfIe2', '05zx5BP5cdqnZrDWA6GE70', '1PdqHeY878X3TfBwXSS7LF', '6KAn1uGwrupBX9KI6jOT5N', '5UjR1zckvh7hglsfF1Bgdm', '7JhbNOJCU67Zo0IHs9plfD', '1M4UmyNnokZRdeAmBEaftG', '7xgfzFRkpWzI55LljwwuhO', '3Yxx0Sca9slhFdzbUZLlyR', '1mfUIv1E5Q7Yc9A93jBl2Z', '7pG25ZvJoouVIKkbGoA4kT', '5RTfxVbSrJFhZTCV6CwYW9', '2t0N1GoTz1iVDEIUjk9C8n', '5mCxFsaNdhe4kn7pup1Z5n', '3yNw8alWNruDeJemX6qKTj', '2wQtdyeWff2hxvQBfuJU0k', '432O6ZucUUusfi3KpPf7VP', '2LEnJ6o2VPcB8R7jGfZuNJ', '4SJlsd4gR9A8DTzRoMrFPl', '1SePFx01lSsAZTvUM83kEE', '7dGD97xXmJcdCKyNz5t96m', '0Nwd3oKmp7LXz07qnjm5ic', '5VfLpPyTr7A2k9CdAzp0Mz', '7rtjYFALpN7Fr7GDep1nVp', '771SM1pTZn9UnCESjwHmmE', '01xZc008FGqP87lMtOoVu0', '1LCGVLfROniWAIoSSAEKEE', '0JXnDtaoCfX7Q6QC6Q8i0x', '2VLJNrld3b2lqbb0N4mDZs', '6FAmZHdawJ1xkJWc4psWCk', '71kedeh6L7P0equUL0vOqe', '31G9F2wgbtKLVhnWrxN96b', '3Nd7gSpO4wcYP8G76NuE5I', '0Xnd1ETzdiJF6DTM9ORCtO', '5vS964lftHRyZAbjVeH26b', '5Y6dfIMb1eCIWajCXzvGgd', '7fxBCO4CXLWl2mYNe8Jjg0', '7Mb1RVFEVwS1kOeMpbCWbR', '2psBm18i8yELM0SUBhYLJL', '2YV8gdvqTjwHFbED8er07E', '78Pqr3lS2uzNDowQRsFbau', '2zg2RD4bLpG41onEUg5RYO', '7roO0fEOrwx0GdJlqB3gSH', '7lGaIZyXooFl0HIxvBxlNY', '5jsIFtPehy6NQmbRMwVyD3', '2ucuFoIFqmKn5VK1tyngBZ', '0PU2LSTswSlnKO879AQH2c', '5LAEfBsVtQOtofWiRIPnt2', '13Kst5O4iuiTXwJcbBTJ26', '5OdDSF7xtSO7aE15YUecGm', '1YoMpI53tJdZYGpjplRNhC'], ['7acyCjTN8uUB6TSTqBxfPx', '0siH6CPssx5JoGoqfz5ahx', '1G3qplfcVYzG0Z4XRASdks', '0vMO95PHDDpR99ysMzuxj5', '2ToND5VV0VPagg4Nm2qTR5', '7JOa2IKHuNQdLS7qJHZn17', '0ooaHcudpw6SLf2CnaflRC', '4JG5ndliGNeBBuFNHwlC57', '0iWlJqpbaegQTyyYdjVRCV', '6fGhwNDQy2BlYeoWGK4Akf', '0xSpQ9AtQX8YjgYBVYHLll', '5CkBV1eSxFpDKCjPhu5MGq', '4DQTzDMn0qfHZRt1NMk5A3', '3OrDWwOHM2iQCwi5vIxlMJ', '6AhE0orn6B44XduPrHRuiz', '5q3keTqdsaQpOk6qHSf6nl', '5GMyaejSXi6Q0rnNE6S6Mj', '763GSASOYgfhcUcxqiklHL', '3UQbqTKIxehTFCdFyjEQUn', '64rpUcla6sbXJFkaOAq1qu', '3nSUnrG5uxrF31ZNPMJxEc', '3aiXtpkV1kcvmLaMyNahH2', '0TLvkyZa3zlTc4oEGNMROg', '4xuMjOPD5nNuJqxDLtvAo7', '0SPPpYO8YKg4Uaga2tEFaO', '5gQcpV3OAkC7q9EvDBditZ', '05pbh0KetX5jvbbMBbmfQg', '356WDTnHgMReMxZpjAA1FC', '01YOtJuHGWRr2MlQebKDbi', '7JWvFuSIklMeBelZettpB5', '7vppw6zi3RPkuHAOleV5VU', '6ae4jidwa2VozFtzg7DumZ', '4KcMILB3MEuiqCtL03JvX8', '5m2WE1PHyGsVMnGP6Gvdpb', '03VBkbiDhkS0EVoFoKSe06', '2OhU63IZiP26GlbudgdfPU', '6tbp4GXPsNQpI6PooJ0oVI', '5X2e1EOcG56Dx7R2HlAtAQ', '3sG0wNAvyO3tqubkuSIJ5E', '2VTqYOL0UbNT0lMwi8vTNH', '0PAO4fNA7RtDYLZjJw7XeP', '2ZcuWr2KzhRzpIEPIopriM', '6GIfItyTdvjxKVVxkqfVpc', '0kOPCb8wKgaGA6kN3o6klO', '4IJ1EV8PM6CfcpvorkQACQ', '073dfuUmS2YAw6hnlVS9ct', '7uYRzhR9AcsXvPj89OYX9d', '5WjxMg3QfWAmDH7I2MpMoT', '3XiUfGn0daCb4CnghKUSCO', '7mO5q3hzRCrtC8HKPsitzQ', '3fMUb3gZXZ8ibcJb5zvy8r', '4cqMCSPLcPkwEkskZADlgG', '2cEb7MiAT7Zml7vizxftJm', '2vLez030U00PBsuE2ug926', '1lqi7FwBarJhtKW82nUz4Q', '4RJgpX5hWvmuNw45qr2mxL', '3RXQ3Vu6OkKnehN0QE0H2F', '73F0Ck1aBETZBJzIEg0leI', '4vrCM6ykBa5FfejfaPpTEs', '5xTgNWZsbDxigpxH2aPO8Y', '394romkiixjuorOHpRfcUY', '756UroBW6f0FT3UapavnwM', '4CX6IenmMGIHzvvld2066N', '4GugHUuQDpDCk9tHJzE2QS', '2Aah9Z4XH3yjHhPjFOCwh5', '5IlnOFlCzdzJwn6UZX5ZqD', '5E2dx9KsudEf6PNFcgF3NK', '3NmBEW27cR3QZHMVIXRYAv', '7cxq7g4KHWS9lalpMowhEJ', '0HPtrFbEfJh8xp12L2JJR0', '1DqTDBqyLLsMCGvqvf3QLY', '00sZtA0R30VPBaErSDJrNf', '1DwMhGBKT5wOLMDhTxAKHY', '7yt4wc1wdEaGjVSHWGUu5d', '1nc42Vh2sJrPr4iJtc9ebe', '6g2ys3gdIubcz7auNWTC5l', '6Vf6P26sYyUqljb9e8Jy5b', '6Iq7OIw7e1FzmKXPGJrhOU', '6XDdeW5toilpyJXBi0Plxl', '1ZwOZItEvdtWZuTVFQfwJs', '7uVfHvphUCmZCSgbGiOCgw', '7hba9sj7V4V5XJed89pVrU', '6Q9FHmEw5bl6tB3L8jHOMO', '334HQUev7fUfGPdNWg73Xa', '0VrLSdr3bRRpYyKHWJU04A', '20wI9KYEcMyhlyPdVMJmMA', '68uxlFAvnITCyQs0U8qr6n', '4YtIsxBbysyEZeIeXIELWq', '4PjGW8CyIEts0ZsMkVWou9', '1FmlTJhvVot4ctN0pThgMx', '5QvlUWldsaXIVHUzTmbhDx', '01Bay8ZGqdAWbrmLhilR3s', '6Nb8qxJ50HhjrYweWfE8It', '5HV5mTZCAuvBlRKvuNxAFu', '1S0H6VFAEH8VVmnCtkXr2s', '4ug6sQX1AJOzv3bfxDp58g', '45hFa5uFEeE5MMWJ6ycGzL', '1Q9cpdmMDXzc76i8nFbNTS', '1VUKmy5qSzD3KJQU0SA3ku', '0cBZNnEFHoynI0VCas1c4P', '5d9dEMb9Ezh1HmFfBdSbU9', '1LPg7FVcDkLiDiEP3YcClc', '2dNnJRyRUcwVBuAtBQTrQQ', '76RB4cPFZIK8WBomKSEIlQ', '7BKZEIdyav6sz9B628eXSx', '3JvxPwfz5njO7lzpAyoEWB', '3es9dCYSTrK0eqLSTOP2QM', '5v6BrHHEjpkk9GP9J2OfpN', '6CIyPj34GTpAkNwoWToLNT', '34X13zwfKF95I5PKO6GEKk', '4UUXB0Mz6E3VbmRdbi2o5P', '0Pg8lDo46YYTaEAdiskop8', '2xaiaEMr3drIoAsn397mtX', '6QhGqu20k2xKLxKDMft5H1', '3E6HUWCMr6NUqK6vOgQKod', '4GYN0nIrGTKLWpPRnQ1ukH', '7m4SvnJOObW34xVsLdXx30', '7jJ2VqsOJsd2hmsHLSOedD', '2ftTVWxFD0bhsQq37jAk5D', '19VC4dfHWpoxgPGLQtqLxN', '0oVmOYzfm6lZehEnLSCCkj', '23TcHEHll7Ds78hkaiohPx', '0HIfTbD7gaDP0rVPqSPNhX', '73wlrju5qMPbYENDR1CW92', '4PsFYH9aJDNjy7iwkWag7S', '7f1rBV6PnRYeBkrZKRcgCj', '5aBLOilVXfy3Xf5VrMowol', '1K5Q8BCOoB4ddGRzh9lryn', '0O5O7OKpXKZkWUBRVFAJ1g', '7HxEKL4NF7ZKakfTZiekTr', '1FVDUHQtMQJG35Ym31BnDr', '2XeJzzhlql6vgaARsBBFpl', '6eVnrJvLKljuBZXgfzke32', '2pGRSENDZrRPtxsf7pSBhJ', '4Icn89sdB2RaEILOgMxyON', '7bTaT6ImEJpkPb3OzYzk2Z', '57FYqlZy1HQtyNT739WL67', '2Qli8L6XitwVn4o4loA3RL', '3qmXZHBleLLE52bE1XYAfM', '3AnaNnUtgFvsTdx1OGr80h', '2eRw9eqaDyvtlYq1y2RlxR', '5cU8GY8cqeSTkgTXaYzo5z', '1OaA4XBHa4LnyOOrBOAaqE', '5IDUlMJWipaLZ8NZmaPB8E', '2fGISxSz9tC1fkRX2qZdDW', '1Sk5IqSLHTu67qMC0g0fsw', '6kLG3oulPcD3Q2cOEuO4fV', '7jcM11GE25u4XbhzuU7wYv', '6N3gRB6GTGmmLAAYe86ntl', '2fVXuLB7TwG2Wl1GQq0bnc', '0TmeJxeWPan6welHARw9FS', '3gjiYcI8PcYuztguDAdlLV', '6U2VlV0LIvYuU7XNHFycqA', '7ozIF2Sgxba6PB8VHTjsUC', '2NS3BH63J1GcEbBNeThpVr', '4vCRbt59p7oHtBkwCzaX6b', '6imJTb1hGPtOB9RJFAIxT5', '60Nm3seat7622WhdnFlzIr', '7BbCYGsbE3F7stw0OOEVJM', '5PieA5Xtecd3psusMgyvZb', '4E7Z0VZyLAY2U5Z4AqJwJr', '1JnRJniVHBZsxaxIvmZLad', '4J4aZLtiQzaVIWgyNKd1JX', '5MTGyQmulkcK6VjLlZyI0O', '5Oal0SFrp5aZoXlEaD8PQ4', '2OePO9GaqliMNHU4npmPs4', '4HoT33OJOwvMElhB4xEeFs', '3DCgyRkANN3ESXgKmTceKO', '0LcFA2C9lH8yfRXt8S2N3R', '6JtXP51dXNDWrlqblBzHzj', '5G2C23N21neMHfn68HHT1S', '6A5yoV5rTi1YV0T1jWWQnX', '4E95uV8A7beH7t5SolOBjX', '4if8aqDg8kCV1ReeSGvILy', '5lTiuwy0WagaU6DlDtiKqX', '38pIgQXtIgI52lzt0J0Fnk', '30JRpbUft5atDSyBhiolPZ', '6jFV4GfPYaxmcEfcigCPww', '4c48q14BOjzJoT1sYigoIQ', '5t9JNFZ4IK0asQ2DqcCmbJ', '0tb4mctI0W8DgwlQzPx2Hd', '36ElXYG8xeWVQFuZr0Puvy', '1f0ODk7IQYTRx3PxZlCeAy', '7ag1VL5wW9kzU3HNakBCNe', '0jiK6wprtcZIx6LJv3SYfx', '5lW8gmLYuDAADRlyqrZNXs', '5W4PrzMTHEQRQRADJ94nMZ', '6qfgxwWi0nedrduWtSUGiw', '19Lk45ZXIYyC5ZGYqfTNCk', '6LBhebheTgp2kzcOJhHsuP', '0PvoMMVwV0x5pSJMHXkiRE', '7DMszOOe5DQPifzW4EHD7w', '2oDlfDr6DS4hmKtIkLjdTf', '1QBLSc8zkQXQnYHGlGM1mS', '57HjZBESViQapJ1pkHFGh5', '69Vpu8wWrHTQvBA1hzndZW', '0eHVWJjMBIcxsdcgc6gtXt', '4a5OYJObN9YJPpfBuP2L22', '73fiuq4L8KLuDghQs9Bs7D', '660Huir7rfthrl2FEo4sGL'], ['6HZcdwcWYuzyIGgPSJWoxV', '5wltFiP60TnGuOwmR8R0Th', '3ShagP0yJAuPN8psJvAz2n', '2dyY1R7Q8AwJZLJrczjVhn', '0mLv4jNcPg09rJfLfhblHS', '3faHorqT0w0y69cZBrfVkh', '5kdPHafCZx70YvDHkihSuT', '63rahDKdDo5xjhy0DsIafA', '1iPn7sRGKkXcqfeTf4Y5kL', '4mFbCjaAKxq9b4Cy9seDXk', '2KR8vprLTSBgSCk2dI2wTj', '7AM6up7skBINcBMsC4hcdA', '77bvnztwYvanR3TJq6JSw8', '6rVc38cX36vBYPg4r4EYt9', '56AfuCaxyHLtpd3kZWQgay', '7iR72glWFGP5yjf38m6RZe', '3GZ4ki70GCmF8up0dcjAW4', '1PHIl1Zi6JSVHTTgXVVTFa', '5qOoAhdQmwETfh50C30ICF', '7wMWNsPIQQ5VBxuErPgZiv', '4rSQrZ0wzYg0caXe7mcFqU', '5Wh6LBCI5BX6VVLfkcJ1g6', '7vd7ZntuBk9C5l1MMs5Cgm', '3ozgCnrW1PNZxpkVkazhtT', '59bdZN6IStGCb7z18SiCmD', '1wL2aedMQGgNz9UkNI9ryk', '4qpdGrwHTenL9t4m2nAbK5', '0VnmxIGhsByRdLmRtRaOus', '77u4SHd1TQSIMa3rtGFr6O', '4hBx08ZvSe1OypE0PviYg0', '37On3yaaDFnjKAx93eXHrd', '5knZIAyIrFjOBLaqaLa5AN', '5ls1UJ1dPxJh3t0W7C8m6R', '54TsuG15EGsexttVBHiKUD', '5gi35SWBRo7VuSZeZ3es2A', '2C7ZlaZapi5PJTbg3H48kZ', '1RbpXfjqUTf9iKExXjr2jp', '1Om5aoyuE7hxi1UVxcjffn', '1h7iHbS21hpvGF5ZnzLN3Q', '7tNbjeC7or10a1G9GPSvbN', '7HLEjm2fEZsErggSthuFmZ', '4rmUSS4GQxpHjuZPf6eiSz', '6Ht0Dm6RMGxWbrtPOPCSKX', '11INHOoPSND6WHVKGucguA', '7oNPNXqyCxty9nHMltU1pp', '6vx1kgPpIzxF492o7ShEvf', '06nltIE2BZRD4KtSZ0Scnl', '22dHFD1MN2DKvlSCDUcnDl', '31vMSXGJYkMnYVfP4MVUMB', '6fjFw9EBblcy8D3tWL16pC', '3kheZGEwRSAPqiMqZL5heK', '4j8LWu769e0bze06dcZV7W', '67IEX5Nrgs7UQFhETcFZtK', '7vWzKkx25Ypq6GaaCVN4KK', '6uSUiQmSbBy83KifaDfCKq', '5lSfl95m04C6z4DtJwpmwA', '6OJxYPaWAtdmVajGo8UZlJ', '7s30KDxEKODMhyy7rkDmCt', '0fXHa2e5eKbz5s0xuAX8li', '0JC0SvamjkERHSSVifLM5N', '7CdZu3q1tMEAVI915Mquxf', '6MEINfTsX47SmVv3JLvQwm', '6b88SJXqhpJ9MaBMDn98FV', '3938nta3dDXu0lhuB4Szzh', '2lFT6elXscX6g0BnKrvnO6', '4PKY5a2HVsjJDCJ6nbT3k0', '0FQBLVXObEachBjozNnbpM', '3FK5Qrj27Y3jTRTsCRfRMI', '4nnzdeauDrOZv9WWKLctcl', '6iZjfdAaRSwpDCIkeamvX3', '4k8zipt68CH9xab4B07JRI', '0Q1Bwu1jOnw7Nob2UXWgEu', '6Mo9RKaNJKLiaTwmEifJmh', '69bfEySBI2rIRQbBJ1f383', '5GqyvPhYKB396WKpxn3fsQ', '6ZkJdeBYWOfQGP1mSz3622', '4dKxJnBaUEkEarU8qT0AMN', '61shI6mTi5fmb4S9CZFq55', '5djDoYnkBPwUsyCmfZPhso', '2MYwy50KqxrZV0b1kLuI8O', '6Hsvc32wLYcMdIhjHozOBK', '7wp0iyiaAS55xDZB7ERVQD', '1QzYdN21I99ZaGL4USSVBv', '6RsOx3WtvI9s7LOmoTvQQs', '74dQ0Y7bPu5J1PCKmdJNWN', '71zxZgihOnOsQiXXlaT5YZ', '0AVJ1UKXMQf244cvu4np0k', '7c6gSnRdFCpm3G1VdYUTuR', '3pyyIvUUnrPFSrZ9j7O5pq', '2F0nBrOtCk2GBv4gSxbwt6', '5HqaBtG1Clq1g28O0wKOAy', '0Nq3VKfylddr8Ujj7sOvY8', '2t1WqQPQV53p3b807i2IHv', '7615WtgKBqapPBpBB9lxUW', '0F7i7LpeujWblHYMdonb0g', '4BU0x01AGsuI2YyONYmJtN', '3OBMtOkVBAydo8hxzubKJp', '6U3JRL2usBO9nbexBtxitf', '7Ky7mnFOobBYJMFnNtLN8O', '5BBSSBa1Joklnlwpu0Np7L', '5Ct4UnnGmDiXOXUhZ6QYGG', '63wX5h9bggwGr0q0AgdLk6', '7MIRjDJ7QqxwOY1E9DIVIt', '3SbmBdyPiGj7fBc36n7BxE', '7B4zWgQlQykf68FE3hPeK9', '5rQtlZ3zEXGxBm5ZpyNPPL', '5fzhrCOhDEfDKBaK91RRii', '05DpybdRcuOBYXdjsvQnMk', '6Pd01i30hTp25RltgY77HS', '2RmQ1WAONeEih0FWEK7CW5', '2GMM4p5RuHWAFfWPSXQJ9D', '4qIzqV9I7DTV6uWxeqNUDC', '6jQSjYwybMfty3IjUDjwYA', '4ykSr52Ff3ysihmAO0z1Dw', '5dXuunbECY9K8CP3otFqnf', '5fuOMOhKpRjdcuquIHWW15', '3zx5G3PxVwdARrGTfwbXbw', '7hu7BO4O7OSu0yoetxbKh7', '5b8PZZmRcuOrqWYjLpJBZl', '4hh3UwCf9VmecijXT3YTLS', '2yAIbLXe1tpWjvYZiAVr4M', '73NvmzII2ExqKUR9iliJdQ', '3k2Tj2Fu7Hu4tJcdFvpgUc', '3Af7O9uoRW1gGNpFMliq8p', '0ISHRIOFoODGE7tErYG7CD', '4oVXk7YCP6OUuRBAncQNQS', '4vmfJ9pJfFyeo1s5Z0g9B7', '5LwgLsVuf83oZ4KM77Olxp', '6ZabhuUR9u23fPqnORS5sk', '2uc2oq6wQ8ZLSPmPr4qtte', '11ciXHI1eDFQiOyMznozgC', '69aXiyCYRhFqDvHCwuxXEV', '4wAAoGyd29TOmWniPBSvcH', '2BiLkczPTyfOtJx04FCdKn', '6fzw3GiLktfRKczD6sl6mT', '1CHbfeI1Ajoa99HnNPESDE', '5RTEY09kQp3iPys9IcVZwL', '7gT5cBwsoy4EkaHNtxLKRt', '6VoRk8kuJy99zXhIxdjwqt', '44UhH06dKGdI3cqbst5jJ4', '6lxiTORjbiO6lYSldqNSt4', '6tPZbh64wYuxEKSynffYk2', '6PpCm99AoagOn6HoVIy3ZP', '53bSSfavddJaaL8DMdriRJ', '7mgpndQpa9o8U7iC9xb6ZK', '1lZ2ChtHbod1f4N78xULHb', '59Pr9qBrHMBhmlgWUkXUjh', '2qKl9xYWzXTM65TG3PFmMc', '03zLen1gxr088za4E2yfG6', '7qAZ2MO6zbNkhilDEqpPfj', '2nKOwEQWB8qDAG5Qcs0kWc', '1CRcTyR3Pk8HHIpmuiUmTc', '1eXieDfUYsHEybjXNjJNfZ', '39v3x0pnnnKizjsCpvwd0p', '0M6CLMVZxMl6YJAbka4D2n', '06jaFdgGApTdAScZ5FggYC', '79xPl8AGKBVxYsdMUToAzR', '0HQGgNqnGE43URSB9W4Dy3', '6pxnBx9LGcdAaOAP0s1YPA', '2Y0PsfHwq4EAfoV2CGQI5t', '41ekhxR27rg6HNG3c6GGaP', '0K86fmE0c0SFgz9GpwhwLm', '0Jq8uF3opTf9ZaIj0Bzgxg', '5CJdhmcEj0APTY8toFWfrf', '7fENFDTpoFZTZN84EAyUhY', '6PJCol5gHpuhFsPNKBsbuD', '1cRwhvW7rLIu6j5jUpVLs3', '3R0cCFr2WTRnMH63bYR1qM', '6tdOM6oZTKZc3vYXEtqNlA', '4zvEtjP1Ou5sGBVL9Z91y0', '3IBzxeZiPQ0NMt7NA0Srgp', '6dL5fRHzNCWVxneaFru8h4', '3RWFXMd9ne5jj30u8ZTbEx', '2pz31tSbwDrb4p9F8LrWhM', '4dwOYXkXHmIht97nsgsHk1', '2xaw4stu1HBocKtPBllYME', '5XrU9MtUKdlhdaeDe26yNG', '5Kg0nXuFU5d95KSFSN8k76', '3S85Y5ObnzTB7tp2V2ypqA', '3mTv8YnTdrpfdmQRSiu1dx', '0vcTxhqUCmJxMUGcEmyubI', '6BjJc4ZLAzVIRzsMnyEefc', '7LcYmCAzj3ZFMc6mACdwP0', '5qnzjtTyEBVPQjs6ZEVIYF', '5FVe9WkNb8luUlA4481SUW', '2HUpNZLoYHe0Sa9dglqQOg', '5z0OFjAuMufpuiuKx7kFIc', '6ScV4ZrFoaQtvw05But2sB', '6NkJ3xUlvc3i48yCNEoduj', '2cnwzTMVQuEALb2Ekj3Gjf', '6ckHBekHAoozIV6ISOmvq1', '5EDwrXzHRKVIlwdXHMV7cT', '3vtNM3t1XaVyyu38aY7r8m', '0BXtyZkCBonl5z9L4FbvBP', '6QktX5Zs5mYhB9ckTVAlY5', '3PBhul1KmVf1JVSErEgypU', '7chfLI5b4xLB4V1JWaDKv7', '0mrfzeghcUlwuaNTCdCFZx', '06lR5Yw2iNduDqRouzJgJK', '6AMYqzWEHpzHQspdGpBH5s'], ['5G5uiaaU1lfD7ztyzQfGKs', '750qjatdMZy9qcRCIMJ0Bs', '1l68udGkykRW1ROitwX0DZ', '1IOnsLx8RVuGwGVvOZIXhJ', '0YE2Cngaa0qD0vM3VgEL2A', '35mjfFhJRcNTS9GpbmdOIW', '3Vw1bgxfUE0mrBcqrlCS6V', '41CIPcZqdtvb5gm5J5RPk7', '5lVuY5dJVBbAYLA0L9KJix', '0vFJAnZTtSZ6LoIKoH0sBl', '27FDMsW1QJGy7TBLjvWqio', '495wgS8hTHf6bcIVjOdClc', '3Q8FKBZzN91orolWx5NalN', '688ZLt1Od5gnavxSBSNifA', '7DX0z0GOvOetSofH5LFl02', '5j7SUgBZJ8Ap4ih5nat46U', '5vFY7PxDAkUMMDBXmxDG5V', '51IvzHND37F9uEN264qhe2', '7v6C5Eq5kz3YbqUyq490j8', '0AOzKluE1BrzvAAGnoV66A', '4Xw2kcuC3YkvtBYlhlWSsE', '6exyTPIT1Q2zH4eCwRutmF', '6Z9H0dv5ldWEmqk8lUTvqV', '1F7iSW32d3WByKSeWzb7mb', '1KZMCWImik3vA17zVLJ3c3', '5UvT2YrhYo6tUUGASRrUUl', '6LeXGKgnoXSoP3J2rdgO5H', '57BiSOFDoNQ9Kw1sCx0qGZ', '4xixii9fbVmUTiMikrqG8Y', '4mJCRik4FVLtaSVccmBTzy', '0CxGe6CAsVFQ36LNkTA54T', '2Rgdp2J6IIrc45k9CCGRPo', '77tNMX6jFAGi94LSDEfsbM', '4ddNv006w0q43fibFKQVW6', '3xHTWU84NchwmVpoOHdiyC', '7mCKps5qkrTMtPHr8Gvt7V', '3vN5OnVDvYnm8F2taNk0LL', '3wipiDq6FmTeBHtyj60y3x', '6fWI3chpTbEN1kC7FCy0yk', '191fWkH2OE2jHsG0o2zxAP', '20conlxRjnUqSRorkKq1l7', '3GKQ9yeAYenQfMYg6tDZiw', '3s00Mk6mFgMAm71StxpLM3', '1oTfnmfJwvQT8CEk8kEkxR', '5K4tFipiw5jFc3RQgB57jO', '6jPRKDy83GFbWLU3csEycu', '2fFD2vCjvzLlNegSiITgXf', '3z3YJH7rEJWuaVqggQaHnI', '3LIj4qA2q73Sl3tHBd8hge', '7h2YS1Asvv7C9XgCMYxAw9', '4LmqkRtYmylQxZZbflivFF', '2RzvBAsSztYg07TK5XRiTB', '3YB2rIYxSoAgs3WsgCFVOj', '1DIyRhN8JzZ1Y54dAJp8HC', '1dYuF5eAwrYfg7j9Z7Cmk0', '5dO10mMFIZL1rUZTI3k4fZ', '6qkA0ua0YWWSlJ0hUWZ1RY', '0xStZ7FTPxyUc7wuj8MkLW', '28XWNsMFftUZX8IdXdustD', '6BTRm34kIuBgr2YtPKVDtO', '3dkvfaZqToI9kSpSDolutm', '49CisrDGk8SedCS99g0blP', '4ILgcuCSyGWNY1RejVHgiN', '6a9wcpR5AqYMVe1bNO2LP9', '3EBMrwEeXilTkGsBB2g9AZ', '7yLE2whPjIEyndQJqTVqzX', '4WruPfNlvCeb0mhoqTgLFn', '6Vmrzb8WLxoZzUX7pQ5SRX', '5ScPLFNE5pNS9P990RljvH', '0J2GQpfBHVY2qRaoBkQFO1', '2WWDUDxy1PCo3bonaDqe6A', '6JQVexIlcd8GRubSpP49t0', '5iuNu2X3rOBHYqz0NlZ3Qj', '0w8NAczbvCnyPKNSFa47zY', '0RJFKia2RsWkIk6wseqOoN', '7dsOzqgEOrtXP3GEZEgwgr', '27zKNtgJLmUeuFNdyY1TVI', '5LyeSPswvFY0px093Wqm3v', '2jqAkE36tKTG48IdPF1917', '2ikc7RM2cySIDipaP64KJq', '1nQQau2qrarcK8gCZNIwia', '4jfHKgbEhoROTsvGffMoMq', '3k1UdQVzDtmhU085OTxjlh', '4LfTA71lypx7XfDpvMZXae', '1FYtDs08idk3VjvtgKRjZ7', '2ZrBy8XJhh2lEyXK1jXJ6n', '0Y4FAiSXVLZms2IDy7BdsU', '3u2VWLXqFGfp3YHZNsFZvn', '5vZJbTAT5UlOVc0jhWT3ao', '4T0zoIQXRtYSYnT32DCoPW', '6l6X13EYuQyuFBU6c6JRJM', '5izK80MaWIg2px59tE5CL4', '0grTiL0EW85nP5udOaUBxl', '5MScpF1soeUbcrlZk14uMo', '2xCFXS4di9R2XWQebiA5lv', '1EAfrcE5wTxdQ2bAu6vmmG', '2pUIRmPkTWfyaFrpGy61mk', '1GVL5ggzZBM5QAgosF60NB', '3Ek4QdnTWKwhZ2hI1wfQwj', '4WkhsYSDRiInX4Ij8SMQI9', '5ch48RZxz8d9yx6R6BSIKj', '2LxiSYEJRCTiv0TE0K3ljN', '33pnAlQ3n096s4W1XMnrNf', '1wks5Mj1FjxJLHWbmqx7Qp', '7AgkLDw5vKf1VED9Fw3DgX', '2NorvvPMx9T36Y8X0vtMR5', '4geurSHVDIGoWaPQw6L8Mc', '2uFx2M1ms8TSWx6r2ARRrq', '6WerM05v6Nw7rAFpjWRk7C', '4ivlJRUHZWiP25Fm2qN7Dv', '7jYbs20YAENXHIfySdJrdg', '7trkrHnBsGGGaQm3KJgVKP', '5ouCntxKITX88EkEogQZjz', '4jloEP0IHoUZUQHSDekeVG', '3IsyKdJIgFYSE3Ay66tKa3', '3w6Xp6CzaJEhZgCQR6tqGb', '0VIFRdDKyTqPghiYUu191o', '03yCfbIgtHKu2DobuNgOqN', '59m4dGWhNOmDno7HRVSMps', '5PU0pmBgjF2zn1VKxJmiAL', '1xIrUwLiU9RkiEDACmlVip', '62YmdQvGERgbmh7j13RIxB', '30sre1XG3IKvRYM6q0rBdE', '5OCtB3WnqAJr00FCAcBM84', '1B6F2FbtDNniCVjROeU0ga', '6TW50etX8zrpUNH7OOMHnf', '3WCKVCDPZFEosVBDwn9eIB', '6S3nHApTBJETaDMv7Bz8ZM', '3PQxBteiuz7OJGOvjjj7Lb', '2dJiqY6e5cvgwc0GCkHX8W', '2WEeEjUJTQJn0lYhjqJUyJ', '1RatTJrho9K5z9OVCqeU7Z', '0ccmoySgXs0AELQNSidOup', '06ZkXzaIiW3gWbdnQW0bYn', '3EBxpq1yqXbPgYmmnLyJxg', '0mAuWjb7YCXDfP1oaVTSDk', '3HYK6ri0GkvRcM6GkKh0hJ', '4Np94khIq8LGHOfmysON8v', '4eIEk9563Yr14VCgOjnJsv', '1OMI0VoGeq1WEgeDEN2P52', '2kmpwFIajNRGX0F4s4TnaX', '2fwbem3okAolbotKZaFsk2', '398I0lLuTptOpaf2ak03Az', '7uh6d2qXu4kltMx24JV7Vr', '6gvTpjogFak3cTvAe2UcPO', '0jd7I9PCsFKEGU7Kv1tsgJ', '7rwgumFrTFr0hhSNrgALCj', '33oGvjtMTi5BUCp7suPnkc', '0MPcCFrxUzQasz99MPXfBf', '1lqcHNoMZon8Vw4ajBVHgd', '2I60Jc6u9Wu0Qbtjwh6Oos', '1y6yh0oYnU38wZsGARkcnX', '1F4wNx9h2luKTSc1Tvx6fv', '6k7Tv57wY0l9lrPGhYfrw7', '0k0wYWN9getqOUOgswJU03', '5eFPh3ZaaYwaUFQsZ5sioE', '4DbSZoIbHauAhoZl2oAKmo', '04dSMOnptctsP9ssfQK01z', '0evPZ6WIgSKYY2gnlfXIdA', '5nCUGX8cVUBs1p0GLrNCmz', '7hPv9n2p7juD8FpGxnvQpX', '5o74KZgxzQuz1dbOOtsyj5', '0CTd4Z6oTkyeVD394QZ5cw', '22p4K2fHv3OEmaAQeXFs8y', '69eKo1hKxQTZwMbrqrrATV', '3zUYANulWztUKlnipQD8ZH', '0jniswZ8mF0KAGP07FKFel', '3yGP9iTHnDBiMHdBxiNUaa', '1YmxunYK08uhl32fuZqqDF', '15PzZ2MtRImGNPihcnPlJe', '2duCf3u7U1iW5LSwQKwwTc', '6BuTzpsrq8QUS1vI0HiEVc', '4WxMV4V4hCgLitFXNcZXPO', '0wSQP0F0vvybBZ279QaVur', '4EEpArVS7GF1eE4BGzOGvN', '5VvAAHLsQdsqkBGrGV5IsO', '3BZGhiDEQ4ubD6WcMKZawB', '5ba2wVOCMBIf5jMl5lRsGY', '432KLdqgrRmDjWbJ8iFsns', '0BpOGipPzdkgJomyZXLxYl', '6Y3YErcNrY3sVJkq6y9GtT', '7qZJbvzWIqM8WHJnedJzXX', '6f9GZVPhkxURhgekuq4EVh', '56fQFv3pWIlOrxfJ1wBDd0', '17J6qYVEkvx42RNjjqwWLo', '3GrPSi790vyzZOp5KlrWex', '0oRBlN7Dq4UxzVQl7q2bVO', '2nFuScPV8hjI2hVOpJsHvN', '6YVlYohc2LjtPtIF6b70Xb', '7F8uSkvkzO9Fhr525tcoHJ', '7e68yBvjBB80O77iLiVt3l', '1qr0GHLhe4Um7KPc4xnBnv', '3v8IgyYwcCBPSbyxoHKnx2', '3oWlrpGzB8SAslBk22W9lP', '6Ajh5eG4ZlKrr1148nrB5m', '52VptovPDaoqCMZm1dzIcP', '4FVeqntRIKNOhiVVAx0EZM', '7y2Av5WgZgD7jSuQZu6M7n', '0bhejAZQ6fC8zVZU6wxkrh', '13ShpIGoaxmzJ2l0vM8U8q'], ['6Hw8HTpwKJqXpS7zjSQ0EM', '7kfw9INA5VHwDZ2C9YbA4Y', '56jIKC6ujc2VuT8p8Q8EIx', '1N88gD04NZ5Q8RdDl27Cve', '3maj6HHPJLHTNEm30OTkGd', '7o2ox25eVd11xFrymrFO9j', '4P9bwV4vyjup4LWUj2iMUc', '6L5r0Dapop0UDxN5ple8pT', '17Vxg2BYsmGNc3SVxs54G3', '0KHHHweoNFNfWbDgG04eMI', '4aKWBf1qwNYn7j801LIBHr', '2pxOA8NLXwZaCk09pjaerb', '59r5KTXDuXTXZcIKo2rHFH', '4JFFwII9VfLC2TCBDS9XvD', '5LNeUSji65Sd0n6qxl84bh', '4HAbdPTjKgU8GUHRsaCxSU', '3gwOJdannyNpzpyl6MyNb1', '6BOkFgQ7RfunKTZFHP9fNW', '0OrVo6kqzD8mEvgbIKMhlp', '4CaaYZw34flhRgIUy2JPpl', '06Bclwc54xNjzibZZKl6KX', '4PVpbcs9oa63FhDWREEJMt', '1JLrWsFDWyPiG9NIIn2zjO', '0uFxobS0uJfFiTCkiG1J47', '5f9nhNDqESbdULE6Ue2Lze', '3ajp7PXuC2xPYxCuetjcRH', '3L2EjCGqykpbr8L2izzTs5', '6S5zF06mFcNSd9JYYivCBM', '5lhSLZIxNEpC4uttsZZdrN', '6qvDzwwyh61Er42eBjFVeK', '0mR6UfEMka4Lr5lodu6mUK', '0cuaFpexE9V0zr3s7l6yjR', '337hCRFLjygh0JPpHZ80GM', '1qJiG40Pdhyt3Mxslpk41M', '3ubtEnFuWe2aV4PcAuestW', '1ZJrVBx0kgQylNraHErajp', '1hy3tWvAs4J5mgqPusP5O1', '0H0ATiQwF1sRnxntil28ZX', '2xtljicTTSctDvj5UUlWCJ', '62soEe3oHcs4AwY063pK6B', '01mgpiIC0zDKNAVRouBWZk', '0TwTZK6NU4aTwNvDYGePPN', '5qQLE1iuD3CKOEXIb0fi7Z', '2zoo13IlfY1VrvdX9NfePC', '1xdLdgcB08v8hlQt8qRbU1', '35phkNovnV5dsBwKpBHUuI', '3ueKGpM7H6yOxXaawk7yeD', '5bTmOsC15wxJWZozRrKqZG', '3BD1sI4da2uZZd2uQ90Ttk', '3Bb1Rfc7TbQOHCMm4MHgCj', '3B79JUWNRAEFiKJO8LijQR', '5VS8ADThTyZdwv13jVip67', '1RJKluktWr9Dh7fXhhRkHV', '7ratOul7KberTWrn86l4O7', '18d9p6GrJV8IZRrZCwr5XM', '2LzMNx1bNYPyEmqtLnu0t0', '1NibfBr59fliv55zruqGLf', '7b3qwPS9RTygJC5H8DPfGl', '1FVYfon8yQdDTp2SHy0IJD', '29oFVjFjwV3667JJYStR6m', '4OiGOl4fr9CWcZnnYPZelX', '2nPM54EqadWdH5z9DjwxT8', '3Vt17G94M85heL0MgOePc6', '4IYqxUG3ZZ5bWN2WxEZ7cp', '1gSozatCNUiBFpUTK0DqGz', '4SNnzqfxrI1Uh1HpOctFTT', '2S05LDuOXuV9m0OI1ttTrd', '4X5NadJ9dnHyKd2vLILC7v', '5C9kvuGBcAUNipqfGNmq83', '6zc2HFPnDWeqqsBHhYEQER', '56PPF7Jg6OuDFZtC5gSCSI', '0SETcL76TBGpA8SNODzRTI', '5COOZ0qQHM3AhJnSF7ey9E', '4HozwtuUKoDxCR0GrX7o8L', '0qJTEzbjENk61TtYeqFxfq', '3bP1vgmYyNso0EoemyVMBE', '1tkjrVDJx0MwmNsoV5lgPr', '0d7494iI3NCBLj1q4draCg', '5uQQu2RC80Ku5AjSpCtrJF', '124Hts37YwwD2DIV1PmpPI', '1ii48Dby3vvKXtswT9sRjA', '4XhnpVMVwnL8e7EHxA2Rna', '5cZJI7DrZ3NIWWcbPIZeWt', '2JsqQdMbBC2hh7GjsEjKFg', '7ubSHsr9JrBqoRPvyIQ74U', '486PMRN6a8m6RTO5ypNc9I', '7has518kIeS5AkHVY0gnNz', '4hW3PF8Guu6YsdiZoAE2Oi', '0rwgjCaNEDtCetLhy8UUG5', '0Q3p2ozB9LNh4MgJtTlrXh', '7u5l82eY5aEZ2WN4PMxJ6K', '3u0sfPBO7pfMn3FKWPWAKq', '1mPHwr7prt7gRHkb7li9SQ', '7i0srFBdIZolSwzpLwAfaw', '6tDtq3CEyXbQVmJ5xaPHDC', '2UKjnmVx8ROXrNxIAeaE7M', '4bvyIQgxpp1YmiEUOvyFcL', '4mnzw6x7d1i0ek9pwdNYOO', '0qBkqNDoaEnhwGazeovqLP', '5U3GNko34JUJg2j4sTQpGb', '5eIm2TCJuRuogOrorWsBVy', '4DtLydGf8lRtpnC38sI410', '0U3TK5FgP7SbKWePe8OSKP', '68BYCIfkX1MmxvPwz8JtvI', '7henJ3D2euaPqsF2zGnkiS', '2uf3rUJPdy2piLDJXzVLWH', '7aoyVc90BhK3uEuZQqiavW', '4AJt3YNYYGQiRKEHzXVv7w', '48Rh26zAS7cf7PCM2juNjF', '0rkUoC7hZugEv96Q8o1PSw', '3BIl3M2ZzbPmNiVqg4Cxpd', '3ocyo0QqyIpbwsmGrgpgyG', '4NVJ5W2V7pgadk3yXliHTD', '3nN6qe9G9sTyORJ1KKyMaq', '3eFFWm7tiB8b90zD7fzUJv', '4GJRH5oAmoRw170RSXR4HZ', '7j5QgrOCOptczCKI74BK39', '76MewHSSH1jNiYwZZSn7xM', '1PxSVj3X9Ic9uzcicfqn7c', '1qxy2wp8KHkhXHoKLSyfDF', '6PoVHvnlFi25tA4wKlqnDN', '1uFomERyvA3TJOSYHQYgup', '2d32hJkHO6816u3Iho8NMC', '5fOqzWOlWWGZlPI6NTUmct', '2KkLEZecIyFOblj7RdJQDI', '4KFZyroHoCu4C8Dd4dRhM4', '4FlcRYTkhAqOWkQi9C4dss', '1o2j62emAHuERgjPZaI362', '5p63jelsoTJGZy0mEzmu28', '24b96cJDoOKjQBeHGCLoH5', '7kXIjqEB0TfSe7sI8N6Ypy', '3V8nD3NiWXtxPsaUhquOhC', '6tbzdys5a2LP2dKaCaIvAB', '5MXw4i9pRhleia2mDgrnbu', '4SAT9xwBIpqrUb4s09qrwC', '5rMf64nAGUwqxV9R63o5jW', '6wjgSakJqeH5n4Mc72Oc5P', '0uhfs6RxB1VkLp17K35Ssh', '03Kzx4JpyGKAbhmLSF96Kk', '51WjrD4DXN7XvmPciUip71', '66O4FigZBxS4Tz80TbZ9Zc', '5rZ75TobmwrURStRuCfugO', '43csA6NHJsLu6IHZViEQ5P', '6JO6Yci8XeTZKmiMigOgXY', '144rcyx6aMneSeqsoIaBOx', '2X6s7tN8lCBZRgSkPLFApt', '609HOKG5EE7KHuK4NaDMqO', '4UQti246d8vnBvGLBCaJ2o', '6c2XUzTGkczJ3WZ6e3uvbL', '000JNk5oR24GsGgz1XXtif', '7mSbJbQdcmQ1uLqsfKZyzy', '0cgmdn2oo9pnVlJwdpQaT0', '3ocwYOhhO6ayIfYSHDvMfF', '38R6g7ojpzP4weT7JspODa', '5c33S502HNpzP1AxJqS6La', '7tgHKaqrxEJdesPpK8pVY2', '2YxhESpDtgBdXr2AkOouvv', '3FmmWyUC2kd2Mt73H5LcDg', '6f8oAWcmpEcXrbnbOpnfqT', '3cANCffSWFKbBFnMpDmsnj', '6yGAwVDOmgKVKM4XDLNoVR', '7fCUoC8KHIPl8KGkot7B3h']]\n"
     ]
    }
   ],
   "source": [
    "chunk_size= 200\n",
    "result=[id_list[i:i + chunk_size] for i in range(0, len(id_list), chunk_size)]\n",
    "print(result)"
   ]
  },
  {
   "cell_type": "code",
   "execution_count": 11,
   "id": "89a79a39",
   "metadata": {},
   "outputs": [
    {
     "data": {
      "text/plain": [
       "30"
      ]
     },
     "execution_count": 11,
     "metadata": {},
     "output_type": "execute_result"
    }
   ],
   "source": [
    "len(result)"
   ]
  },
  {
   "cell_type": "markdown",
   "id": "f549a4c0",
   "metadata": {},
   "source": [
    "- chunks completely scraped \n",
    "- 29. \n",
    "- 28.\n",
    "- 26.\n"
   ]
  },
  {
   "cell_type": "markdown",
   "id": "ffd547c5",
   "metadata": {},
   "source": [
    "## We can add 30 times 250 playlist to data frame"
   ]
  },
  {
   "cell_type": "code",
   "execution_count": 17,
   "id": "5a4a491e",
   "metadata": {
    "scrolled": true
   },
   "outputs": [
    {
     "name": "stdout",
     "output_type": "stream",
     "text": [
      "6TGOKSobwpEoOtx80edFyV\n"
     ]
    },
    {
     "name": "stderr",
     "output_type": "stream",
     "text": [
      "/var/folders/1n/phyrz16s0rd1_mpv046jgqf80000gn/T/ipykernel_22382/3181457209.py:28: FutureWarning: The frame.append method is deprecated and will be removed from pandas in a future version. Use pandas.concat instead.\n",
      "  big_df =big_df.append(df)\n"
     ]
    },
    {
     "name": "stdout",
     "output_type": "stream",
     "text": [
      "67qIuPZRX12l7yMpxBQpxs\n"
     ]
    },
    {
     "name": "stderr",
     "output_type": "stream",
     "text": [
      "/var/folders/1n/phyrz16s0rd1_mpv046jgqf80000gn/T/ipykernel_22382/3181457209.py:28: FutureWarning: The frame.append method is deprecated and will be removed from pandas in a future version. Use pandas.concat instead.\n",
      "  big_df =big_df.append(df)\n"
     ]
    },
    {
     "name": "stdout",
     "output_type": "stream",
     "text": [
      "29qGA62efPsgLp6kblUPSg\n"
     ]
    },
    {
     "name": "stderr",
     "output_type": "stream",
     "text": [
      "/var/folders/1n/phyrz16s0rd1_mpv046jgqf80000gn/T/ipykernel_22382/3181457209.py:28: FutureWarning: The frame.append method is deprecated and will be removed from pandas in a future version. Use pandas.concat instead.\n",
      "  big_df =big_df.append(df)\n"
     ]
    },
    {
     "name": "stdout",
     "output_type": "stream",
     "text": [
      "2ZIRxkFuqNPMnlY7vL54uK\n"
     ]
    },
    {
     "name": "stderr",
     "output_type": "stream",
     "text": [
      "/var/folders/1n/phyrz16s0rd1_mpv046jgqf80000gn/T/ipykernel_22382/3181457209.py:28: FutureWarning: The frame.append method is deprecated and will be removed from pandas in a future version. Use pandas.concat instead.\n",
      "  big_df =big_df.append(df)\n"
     ]
    },
    {
     "name": "stdout",
     "output_type": "stream",
     "text": [
      "2QYND559WzeB2urcTaOG0j\n"
     ]
    },
    {
     "name": "stderr",
     "output_type": "stream",
     "text": [
      "/var/folders/1n/phyrz16s0rd1_mpv046jgqf80000gn/T/ipykernel_22382/3181457209.py:28: FutureWarning: The frame.append method is deprecated and will be removed from pandas in a future version. Use pandas.concat instead.\n",
      "  big_df =big_df.append(df)\n"
     ]
    },
    {
     "name": "stdout",
     "output_type": "stream",
     "text": [
      "6rZGKd5ndSUnGeJKuBhUej\n"
     ]
    },
    {
     "name": "stderr",
     "output_type": "stream",
     "text": [
      "/var/folders/1n/phyrz16s0rd1_mpv046jgqf80000gn/T/ipykernel_22382/3181457209.py:28: FutureWarning: The frame.append method is deprecated and will be removed from pandas in a future version. Use pandas.concat instead.\n",
      "  big_df =big_df.append(df)\n"
     ]
    },
    {
     "name": "stdout",
     "output_type": "stream",
     "text": [
      "2XXreCGINlOqm8wEn7WszA\n"
     ]
    },
    {
     "name": "stderr",
     "output_type": "stream",
     "text": [
      "/var/folders/1n/phyrz16s0rd1_mpv046jgqf80000gn/T/ipykernel_22382/3181457209.py:28: FutureWarning: The frame.append method is deprecated and will be removed from pandas in a future version. Use pandas.concat instead.\n",
      "  big_df =big_df.append(df)\n"
     ]
    },
    {
     "name": "stdout",
     "output_type": "stream",
     "text": [
      "0ShRnc2cyEyxkLbtZC4Yim\n"
     ]
    },
    {
     "name": "stderr",
     "output_type": "stream",
     "text": [
      "/var/folders/1n/phyrz16s0rd1_mpv046jgqf80000gn/T/ipykernel_22382/3181457209.py:28: FutureWarning: The frame.append method is deprecated and will be removed from pandas in a future version. Use pandas.concat instead.\n",
      "  big_df =big_df.append(df)\n"
     ]
    },
    {
     "name": "stdout",
     "output_type": "stream",
     "text": [
      "5kdP7VQedYdDzhTvfovu0u\n"
     ]
    },
    {
     "name": "stderr",
     "output_type": "stream",
     "text": [
      "/var/folders/1n/phyrz16s0rd1_mpv046jgqf80000gn/T/ipykernel_22382/3181457209.py:28: FutureWarning: The frame.append method is deprecated and will be removed from pandas in a future version. Use pandas.concat instead.\n",
      "  big_df =big_df.append(df)\n"
     ]
    },
    {
     "name": "stdout",
     "output_type": "stream",
     "text": [
      "4CfyHGpt8qPlLXlstcE2Wh\n"
     ]
    },
    {
     "name": "stderr",
     "output_type": "stream",
     "text": [
      "/var/folders/1n/phyrz16s0rd1_mpv046jgqf80000gn/T/ipykernel_22382/3181457209.py:28: FutureWarning: The frame.append method is deprecated and will be removed from pandas in a future version. Use pandas.concat instead.\n",
      "  big_df =big_df.append(df)\n"
     ]
    }
   ],
   "source": [
    "for i in  result[0][10:20]:\n",
    "        print(i)\n",
    "        get_features_df(i)"
   ]
  },
  {
   "cell_type": "code",
   "execution_count": null,
   "id": "0391f096",
   "metadata": {},
   "outputs": [],
   "source": [
    "for i in  result[3]:\n",
    "        print(i)\n",
    "        get_features_df(i)"
   ]
  },
  {
   "cell_type": "code",
   "execution_count": 15,
   "id": "6d58fedb",
   "metadata": {},
   "outputs": [
    {
     "data": {
      "text/html": [
       "<div>\n",
       "<style scoped>\n",
       "    .dataframe tbody tr th:only-of-type {\n",
       "        vertical-align: middle;\n",
       "    }\n",
       "\n",
       "    .dataframe tbody tr th {\n",
       "        vertical-align: top;\n",
       "    }\n",
       "\n",
       "    .dataframe thead th {\n",
       "        text-align: right;\n",
       "    }\n",
       "</style>\n",
       "<table border=\"1\" class=\"dataframe\">\n",
       "  <thead>\n",
       "    <tr style=\"text-align: right;\">\n",
       "      <th></th>\n",
       "      <th>danceability</th>\n",
       "      <th>energy</th>\n",
       "      <th>loudness</th>\n",
       "      <th>speechiness</th>\n",
       "      <th>acousticness</th>\n",
       "      <th>instrumentalness</th>\n",
       "      <th>liveness</th>\n",
       "      <th>valence</th>\n",
       "      <th>tempo</th>\n",
       "      <th>id</th>\n",
       "      <th>duration_ms</th>\n",
       "    </tr>\n",
       "  </thead>\n",
       "  <tbody>\n",
       "    <tr>\n",
       "      <th>0</th>\n",
       "      <td>0.705</td>\n",
       "      <td>0.637</td>\n",
       "      <td>-7.367</td>\n",
       "      <td>0.084</td>\n",
       "      <td>0.126</td>\n",
       "      <td>0.0308</td>\n",
       "      <td>0.233</td>\n",
       "      <td>0.819</td>\n",
       "      <td>127.656</td>\n",
       "      <td>0wNf3Yk11625KJ6mDkEjzu</td>\n",
       "      <td>185305</td>\n",
       "    </tr>\n",
       "    <tr>\n",
       "      <th>1</th>\n",
       "      <td>0.562</td>\n",
       "      <td>0.9</td>\n",
       "      <td>-5.41</td>\n",
       "      <td>0.0403</td>\n",
       "      <td>0.287</td>\n",
       "      <td>0.000819</td>\n",
       "      <td>0.336</td>\n",
       "      <td>0.693</td>\n",
       "      <td>138.046</td>\n",
       "      <td>5NUFanXmuh51dgRQ18xRAQ</td>\n",
       "      <td>163478</td>\n",
       "    </tr>\n",
       "    <tr>\n",
       "      <th>2</th>\n",
       "      <td>0.863</td>\n",
       "      <td>0.532</td>\n",
       "      <td>-8.709</td>\n",
       "      <td>0.0344</td>\n",
       "      <td>0.669</td>\n",
       "      <td>0.000158</td>\n",
       "      <td>0.224</td>\n",
       "      <td>0.868</td>\n",
       "      <td>113.063</td>\n",
       "      <td>6nwuEYRXKrrq9Ag4S7fzmh</td>\n",
       "      <td>181776</td>\n",
       "    </tr>\n",
       "    <tr>\n",
       "      <th>3</th>\n",
       "      <td>0.523</td>\n",
       "      <td>0.698</td>\n",
       "      <td>-7.598</td>\n",
       "      <td>0.0354</td>\n",
       "      <td>0.329</td>\n",
       "      <td>0.000019</td>\n",
       "      <td>0.0846</td>\n",
       "      <td>0.307</td>\n",
       "      <td>124.079</td>\n",
       "      <td>0DnZgTbQaUps8KG08ykZYp</td>\n",
       "      <td>257057</td>\n",
       "    </tr>\n",
       "    <tr>\n",
       "      <th>4</th>\n",
       "      <td>0.566</td>\n",
       "      <td>0.42</td>\n",
       "      <td>-11.168</td>\n",
       "      <td>0.0345</td>\n",
       "      <td>0.859</td>\n",
       "      <td>0.0</td>\n",
       "      <td>0.111</td>\n",
       "      <td>0.199</td>\n",
       "      <td>79.97</td>\n",
       "      <td>6t0oAanLFGaERBbL0Jit4S</td>\n",
       "      <td>223817</td>\n",
       "    </tr>\n",
       "    <tr>\n",
       "      <th>...</th>\n",
       "      <td>...</td>\n",
       "      <td>...</td>\n",
       "      <td>...</td>\n",
       "      <td>...</td>\n",
       "      <td>...</td>\n",
       "      <td>...</td>\n",
       "      <td>...</td>\n",
       "      <td>...</td>\n",
       "      <td>...</td>\n",
       "      <td>...</td>\n",
       "      <td>...</td>\n",
       "    </tr>\n",
       "    <tr>\n",
       "      <th>76</th>\n",
       "      <td>0.827</td>\n",
       "      <td>0.523</td>\n",
       "      <td>-8.121</td>\n",
       "      <td>0.0459</td>\n",
       "      <td>0.0751</td>\n",
       "      <td>0.00291</td>\n",
       "      <td>0.113</td>\n",
       "      <td>0.142</td>\n",
       "      <td>124.01</td>\n",
       "      <td>2BjbG541dRwGhaketIPEXI</td>\n",
       "      <td>236462</td>\n",
       "    </tr>\n",
       "    <tr>\n",
       "      <th>77</th>\n",
       "      <td>0.8</td>\n",
       "      <td>0.843</td>\n",
       "      <td>-7.257</td>\n",
       "      <td>0.25</td>\n",
       "      <td>0.00296</td>\n",
       "      <td>0.0</td>\n",
       "      <td>0.313</td>\n",
       "      <td>0.837</td>\n",
       "      <td>102.553</td>\n",
       "      <td>21iT3SqTPnWRGr49doXSlr</td>\n",
       "      <td>161098</td>\n",
       "    </tr>\n",
       "    <tr>\n",
       "      <th>78</th>\n",
       "      <td>0.661</td>\n",
       "      <td>0.745</td>\n",
       "      <td>-4.29</td>\n",
       "      <td>0.0292</td>\n",
       "      <td>0.0154</td>\n",
       "      <td>0.0</td>\n",
       "      <td>0.131</td>\n",
       "      <td>0.46</td>\n",
       "      <td>100.732</td>\n",
       "      <td>0EQsvl1H51El8ZCnYbSsSp</td>\n",
       "      <td>181071</td>\n",
       "    </tr>\n",
       "    <tr>\n",
       "      <th>79</th>\n",
       "      <td>0.663</td>\n",
       "      <td>0.884</td>\n",
       "      <td>-7.521</td>\n",
       "      <td>0.25</td>\n",
       "      <td>0.17</td>\n",
       "      <td>0.0</td>\n",
       "      <td>0.103</td>\n",
       "      <td>0.911</td>\n",
       "      <td>160.083</td>\n",
       "      <td>78Jpy7RTri3JulwgQ9sNEP</td>\n",
       "      <td>196687</td>\n",
       "    </tr>\n",
       "    <tr>\n",
       "      <th>80</th>\n",
       "      <td>0.762</td>\n",
       "      <td>0.508</td>\n",
       "      <td>-7.927</td>\n",
       "      <td>0.0441</td>\n",
       "      <td>0.000306</td>\n",
       "      <td>0.854</td>\n",
       "      <td>0.145</td>\n",
       "      <td>0.168</td>\n",
       "      <td>130.004</td>\n",
       "      <td>0sYLS9g61uh9VoADfOpnpe</td>\n",
       "      <td>273202</td>\n",
       "    </tr>\n",
       "  </tbody>\n",
       "</table>\n",
       "<p>5771 rows × 11 columns</p>\n",
       "</div>"
      ],
      "text/plain": [
       "   danceability energy loudness speechiness acousticness instrumentalness  \\\n",
       "0         0.705  0.637   -7.367       0.084        0.126           0.0308   \n",
       "1         0.562    0.9    -5.41      0.0403        0.287         0.000819   \n",
       "2         0.863  0.532   -8.709      0.0344        0.669         0.000158   \n",
       "3         0.523  0.698   -7.598      0.0354        0.329         0.000019   \n",
       "4         0.566   0.42  -11.168      0.0345        0.859              0.0   \n",
       "..          ...    ...      ...         ...          ...              ...   \n",
       "76        0.827  0.523   -8.121      0.0459       0.0751          0.00291   \n",
       "77          0.8  0.843   -7.257        0.25      0.00296              0.0   \n",
       "78        0.661  0.745    -4.29      0.0292       0.0154              0.0   \n",
       "79        0.663  0.884   -7.521        0.25         0.17              0.0   \n",
       "80        0.762  0.508   -7.927      0.0441     0.000306            0.854   \n",
       "\n",
       "   liveness valence    tempo                      id duration_ms  \n",
       "0     0.233   0.819  127.656  0wNf3Yk11625KJ6mDkEjzu      185305  \n",
       "1     0.336   0.693  138.046  5NUFanXmuh51dgRQ18xRAQ      163478  \n",
       "2     0.224   0.868  113.063  6nwuEYRXKrrq9Ag4S7fzmh      181776  \n",
       "3    0.0846   0.307  124.079  0DnZgTbQaUps8KG08ykZYp      257057  \n",
       "4     0.111   0.199    79.97  6t0oAanLFGaERBbL0Jit4S      223817  \n",
       "..      ...     ...      ...                     ...         ...  \n",
       "76    0.113   0.142   124.01  2BjbG541dRwGhaketIPEXI      236462  \n",
       "77    0.313   0.837  102.553  21iT3SqTPnWRGr49doXSlr      161098  \n",
       "78    0.131    0.46  100.732  0EQsvl1H51El8ZCnYbSsSp      181071  \n",
       "79    0.103   0.911  160.083  78Jpy7RTri3JulwgQ9sNEP      196687  \n",
       "80    0.145   0.168  130.004  0sYLS9g61uh9VoADfOpnpe      273202  \n",
       "\n",
       "[5771 rows x 11 columns]"
      ]
     },
     "execution_count": 15,
     "metadata": {},
     "output_type": "execute_result"
    }
   ],
   "source": [
    "big_df"
   ]
  },
  {
   "cell_type": "code",
   "execution_count": 241,
   "id": "6ca1cd9e",
   "metadata": {
    "scrolled": true
   },
   "outputs": [
    {
     "name": "stdout",
     "output_type": "stream",
     "text": [
      "6TySxsLwRVYqEh7LZ6fyq8\n"
     ]
    },
    {
     "ename": "KeyboardInterrupt",
     "evalue": "",
     "output_type": "error",
     "traceback": [
      "\u001b[0;31m---------------------------------------------------------------------------\u001b[0m",
      "\u001b[0;31mgaierror\u001b[0m                                  Traceback (most recent call last)",
      "File \u001b[0;32m~/opt/anaconda3/lib/python3.9/urllib/request.py:2592\u001b[0m, in \u001b[0;36m_proxy_bypass_macosx_sysconf\u001b[0;34m(host, proxy_settings)\u001b[0m\n\u001b[1;32m   2591\u001b[0m \u001b[38;5;28;01mtry\u001b[39;00m:\n\u001b[0;32m-> 2592\u001b[0m     hostIP \u001b[38;5;241m=\u001b[39m \u001b[43msocket\u001b[49m\u001b[38;5;241;43m.\u001b[39;49m\u001b[43mgethostbyname\u001b[49m\u001b[43m(\u001b[49m\u001b[43mhostonly\u001b[49m\u001b[43m)\u001b[49m\n\u001b[1;32m   2593\u001b[0m     hostIP \u001b[38;5;241m=\u001b[39m ip2num(hostIP)\n",
      "\u001b[0;31mgaierror\u001b[0m: [Errno 8] nodename nor servname provided, or not known",
      "\nDuring handling of the above exception, another exception occurred:\n",
      "\u001b[0;31mKeyboardInterrupt\u001b[0m                         Traceback (most recent call last)",
      "Input \u001b[0;32mIn [241]\u001b[0m, in \u001b[0;36m<cell line: 1>\u001b[0;34m()\u001b[0m\n\u001b[1;32m      2\u001b[0m \u001b[38;5;28;01mfor\u001b[39;00m i \u001b[38;5;129;01min\u001b[39;00m  result[\u001b[38;5;241m0\u001b[39m]:\n\u001b[1;32m      3\u001b[0m     \u001b[38;5;28mprint\u001b[39m(i)\n\u001b[0;32m----> 4\u001b[0m     \u001b[43mget_features_df\u001b[49m\u001b[43m(\u001b[49m\u001b[43mi\u001b[49m\u001b[43m)\u001b[49m\n",
      "Input \u001b[0;32mIn [237]\u001b[0m, in \u001b[0;36mget_features_df\u001b[0;34m(playlist_id)\u001b[0m\n\u001b[1;32m      4\u001b[0m artist_name\u001b[38;5;241m=\u001b[39m[]\n\u001b[1;32m      5\u001b[0m song_name\u001b[38;5;241m=\u001b[39m[]\n\u001b[0;32m----> 7\u001b[0m results \u001b[38;5;241m=\u001b[39m \u001b[43msp\u001b[49m\u001b[38;5;241;43m.\u001b[39;49m\u001b[43muser_playlist_tracks\u001b[49m\u001b[43m(\u001b[49m\u001b[38;5;124;43m\"\u001b[39;49m\u001b[38;5;124;43mthesoundsofspotify\u001b[39;49m\u001b[38;5;124;43m\"\u001b[39;49m\u001b[43m,\u001b[49m\u001b[43mplaylist_id\u001b[49m\u001b[43m,\u001b[49m\u001b[43mmarket\u001b[49m\u001b[38;5;241;43m=\u001b[39;49m\u001b[38;5;124;43m\"\u001b[39;49m\u001b[38;5;124;43mDE\u001b[39;49m\u001b[38;5;124;43m\"\u001b[39;49m\u001b[43m)\u001b[49m\n\u001b[1;32m      9\u001b[0m tracks \u001b[38;5;241m=\u001b[39m results[\u001b[38;5;124m'\u001b[39m\u001b[38;5;124mitems\u001b[39m\u001b[38;5;124m'\u001b[39m]\n\u001b[1;32m     11\u001b[0m \u001b[38;5;28;01mwhile\u001b[39;00m results[\u001b[38;5;124m'\u001b[39m\u001b[38;5;124mnext\u001b[39m\u001b[38;5;124m'\u001b[39m]:\n",
      "File \u001b[0;32m~/opt/anaconda3/lib/python3.9/site-packages/spotipy/client.py:747\u001b[0m, in \u001b[0;36mSpotify.user_playlist_tracks\u001b[0;34m(self, user, playlist_id, fields, limit, offset, market)\u001b[0m\n\u001b[1;32m    732\u001b[0m warnings\u001b[38;5;241m.\u001b[39mwarn(\n\u001b[1;32m    733\u001b[0m     \u001b[38;5;124m\"\u001b[39m\u001b[38;5;124mYou should use `playlist_tracks(playlist_id)` instead\u001b[39m\u001b[38;5;124m\"\u001b[39m,\n\u001b[1;32m    734\u001b[0m     \u001b[38;5;167;01mDeprecationWarning\u001b[39;00m,\n\u001b[1;32m    735\u001b[0m )\n\u001b[1;32m    737\u001b[0m \u001b[38;5;124;03m\"\"\" Get full details of the tracks of a playlist owned by a user.\u001b[39;00m\n\u001b[1;32m    738\u001b[0m \n\u001b[1;32m    739\u001b[0m \u001b[38;5;124;03m    Parameters:\u001b[39;00m\n\u001b[0;32m   (...)\u001b[0m\n\u001b[1;32m    745\u001b[0m \u001b[38;5;124;03m        - market - an ISO 3166-1 alpha-2 country code.\u001b[39;00m\n\u001b[1;32m    746\u001b[0m \u001b[38;5;124;03m\"\"\"\u001b[39;00m\n\u001b[0;32m--> 747\u001b[0m \u001b[38;5;28;01mreturn\u001b[39;00m \u001b[38;5;28;43mself\u001b[39;49m\u001b[38;5;241;43m.\u001b[39;49m\u001b[43mplaylist_tracks\u001b[49m\u001b[43m(\u001b[49m\n\u001b[1;32m    748\u001b[0m \u001b[43m    \u001b[49m\u001b[43mplaylist_id\u001b[49m\u001b[43m,\u001b[49m\n\u001b[1;32m    749\u001b[0m \u001b[43m    \u001b[49m\u001b[43mlimit\u001b[49m\u001b[38;5;241;43m=\u001b[39;49m\u001b[43mlimit\u001b[49m\u001b[43m,\u001b[49m\n\u001b[1;32m    750\u001b[0m \u001b[43m    \u001b[49m\u001b[43moffset\u001b[49m\u001b[38;5;241;43m=\u001b[39;49m\u001b[43moffset\u001b[49m\u001b[43m,\u001b[49m\n\u001b[1;32m    751\u001b[0m \u001b[43m    \u001b[49m\u001b[43mfields\u001b[49m\u001b[38;5;241;43m=\u001b[39;49m\u001b[43mfields\u001b[49m\u001b[43m,\u001b[49m\n\u001b[1;32m    752\u001b[0m \u001b[43m    \u001b[49m\u001b[43mmarket\u001b[49m\u001b[38;5;241;43m=\u001b[39;49m\u001b[43mmarket\u001b[49m\u001b[43m,\u001b[49m\n\u001b[1;32m    753\u001b[0m \u001b[43m\u001b[49m\u001b[43m)\u001b[49m\n",
      "File \u001b[0;32m~/opt/anaconda3/lib/python3.9/site-packages/spotipy/client.py:649\u001b[0m, in \u001b[0;36mSpotify.playlist_tracks\u001b[0;34m(self, playlist_id, fields, limit, offset, market, additional_types)\u001b[0m\n\u001b[1;32m    633\u001b[0m \u001b[38;5;124;03m\"\"\" Get full details of the tracks of a playlist.\u001b[39;00m\n\u001b[1;32m    634\u001b[0m \n\u001b[1;32m    635\u001b[0m \u001b[38;5;124;03m    Parameters:\u001b[39;00m\n\u001b[0;32m   (...)\u001b[0m\n\u001b[1;32m    642\u001b[0m \u001b[38;5;124;03m                             valid types are: track and episode\u001b[39;00m\n\u001b[1;32m    643\u001b[0m \u001b[38;5;124;03m\"\"\"\u001b[39;00m\n\u001b[1;32m    644\u001b[0m warnings\u001b[38;5;241m.\u001b[39mwarn(\n\u001b[1;32m    645\u001b[0m     \u001b[38;5;124m\"\u001b[39m\u001b[38;5;124mYou should use `playlist_items(playlist_id, ...,\u001b[39m\u001b[38;5;124m\"\u001b[39m\n\u001b[1;32m    646\u001b[0m     \u001b[38;5;124m\"\u001b[39m\u001b[38;5;124madditional_types=(\u001b[39m\u001b[38;5;124m'\u001b[39m\u001b[38;5;124mtrack\u001b[39m\u001b[38;5;124m'\u001b[39m\u001b[38;5;124m,))` instead\u001b[39m\u001b[38;5;124m\"\u001b[39m,\n\u001b[1;32m    647\u001b[0m     \u001b[38;5;167;01mDeprecationWarning\u001b[39;00m,\n\u001b[1;32m    648\u001b[0m )\n\u001b[0;32m--> 649\u001b[0m \u001b[38;5;28;01mreturn\u001b[39;00m \u001b[38;5;28;43mself\u001b[39;49m\u001b[38;5;241;43m.\u001b[39;49m\u001b[43mplaylist_items\u001b[49m\u001b[43m(\u001b[49m\u001b[43mplaylist_id\u001b[49m\u001b[43m,\u001b[49m\u001b[43m \u001b[49m\u001b[43mfields\u001b[49m\u001b[43m,\u001b[49m\u001b[43m \u001b[49m\u001b[43mlimit\u001b[49m\u001b[43m,\u001b[49m\u001b[43m \u001b[49m\u001b[43moffset\u001b[49m\u001b[43m,\u001b[49m\n\u001b[1;32m    650\u001b[0m \u001b[43m                           \u001b[49m\u001b[43mmarket\u001b[49m\u001b[43m,\u001b[49m\u001b[43m \u001b[49m\u001b[43madditional_types\u001b[49m\u001b[43m)\u001b[49m\n",
      "File \u001b[0;32m~/opt/anaconda3/lib/python3.9/site-packages/spotipy/client.py:673\u001b[0m, in \u001b[0;36mSpotify.playlist_items\u001b[0;34m(self, playlist_id, fields, limit, offset, market, additional_types)\u001b[0m\n\u001b[1;32m    661\u001b[0m \u001b[38;5;124;03m\"\"\" Get full details of the tracks and episodes of a playlist.\u001b[39;00m\n\u001b[1;32m    662\u001b[0m \n\u001b[1;32m    663\u001b[0m \u001b[38;5;124;03m    Parameters:\u001b[39;00m\n\u001b[0;32m   (...)\u001b[0m\n\u001b[1;32m    670\u001b[0m \u001b[38;5;124;03m                             valid types are: track and episode\u001b[39;00m\n\u001b[1;32m    671\u001b[0m \u001b[38;5;124;03m\"\"\"\u001b[39;00m\n\u001b[1;32m    672\u001b[0m plid \u001b[38;5;241m=\u001b[39m \u001b[38;5;28mself\u001b[39m\u001b[38;5;241m.\u001b[39m_get_id(\u001b[38;5;124m\"\u001b[39m\u001b[38;5;124mplaylist\u001b[39m\u001b[38;5;124m\"\u001b[39m, playlist_id)\n\u001b[0;32m--> 673\u001b[0m \u001b[38;5;28;01mreturn\u001b[39;00m \u001b[38;5;28;43mself\u001b[39;49m\u001b[38;5;241;43m.\u001b[39;49m\u001b[43m_get\u001b[49m\u001b[43m(\u001b[49m\n\u001b[1;32m    674\u001b[0m \u001b[43m    \u001b[49m\u001b[38;5;124;43m\"\u001b[39;49m\u001b[38;5;124;43mplaylists/\u001b[39;49m\u001b[38;5;132;43;01m%s\u001b[39;49;00m\u001b[38;5;124;43m/tracks\u001b[39;49m\u001b[38;5;124;43m\"\u001b[39;49m\u001b[43m \u001b[49m\u001b[38;5;241;43m%\u001b[39;49m\u001b[43m \u001b[49m\u001b[43m(\u001b[49m\u001b[43mplid\u001b[49m\u001b[43m)\u001b[49m\u001b[43m,\u001b[49m\n\u001b[1;32m    675\u001b[0m \u001b[43m    \u001b[49m\u001b[43mlimit\u001b[49m\u001b[38;5;241;43m=\u001b[39;49m\u001b[43mlimit\u001b[49m\u001b[43m,\u001b[49m\n\u001b[1;32m    676\u001b[0m \u001b[43m    \u001b[49m\u001b[43moffset\u001b[49m\u001b[38;5;241;43m=\u001b[39;49m\u001b[43moffset\u001b[49m\u001b[43m,\u001b[49m\n\u001b[1;32m    677\u001b[0m \u001b[43m    \u001b[49m\u001b[43mfields\u001b[49m\u001b[38;5;241;43m=\u001b[39;49m\u001b[43mfields\u001b[49m\u001b[43m,\u001b[49m\n\u001b[1;32m    678\u001b[0m \u001b[43m    \u001b[49m\u001b[43mmarket\u001b[49m\u001b[38;5;241;43m=\u001b[39;49m\u001b[43mmarket\u001b[49m\u001b[43m,\u001b[49m\n\u001b[1;32m    679\u001b[0m \u001b[43m    \u001b[49m\u001b[43madditional_types\u001b[49m\u001b[38;5;241;43m=\u001b[39;49m\u001b[38;5;124;43m\"\u001b[39;49m\u001b[38;5;124;43m,\u001b[39;49m\u001b[38;5;124;43m\"\u001b[39;49m\u001b[38;5;241;43m.\u001b[39;49m\u001b[43mjoin\u001b[49m\u001b[43m(\u001b[49m\u001b[43madditional_types\u001b[49m\u001b[43m)\u001b[49m\n\u001b[1;32m    680\u001b[0m \u001b[43m\u001b[49m\u001b[43m)\u001b[49m\n",
      "File \u001b[0;32m~/opt/anaconda3/lib/python3.9/site-packages/spotipy/client.py:297\u001b[0m, in \u001b[0;36mSpotify._get\u001b[0;34m(self, url, args, payload, **kwargs)\u001b[0m\n\u001b[1;32m    294\u001b[0m \u001b[38;5;28;01mif\u001b[39;00m args:\n\u001b[1;32m    295\u001b[0m     kwargs\u001b[38;5;241m.\u001b[39mupdate(args)\n\u001b[0;32m--> 297\u001b[0m \u001b[38;5;28;01mreturn\u001b[39;00m \u001b[38;5;28;43mself\u001b[39;49m\u001b[38;5;241;43m.\u001b[39;49m\u001b[43m_internal_call\u001b[49m\u001b[43m(\u001b[49m\u001b[38;5;124;43m\"\u001b[39;49m\u001b[38;5;124;43mGET\u001b[39;49m\u001b[38;5;124;43m\"\u001b[39;49m\u001b[43m,\u001b[49m\u001b[43m \u001b[49m\u001b[43murl\u001b[49m\u001b[43m,\u001b[49m\u001b[43m \u001b[49m\u001b[43mpayload\u001b[49m\u001b[43m,\u001b[49m\u001b[43m \u001b[49m\u001b[43mkwargs\u001b[49m\u001b[43m)\u001b[49m\n",
      "File \u001b[0;32m~/opt/anaconda3/lib/python3.9/site-packages/spotipy/client.py:240\u001b[0m, in \u001b[0;36mSpotify._internal_call\u001b[0;34m(self, method, url, payload, params)\u001b[0m\n\u001b[1;32m    236\u001b[0m logger\u001b[38;5;241m.\u001b[39mdebug(\u001b[38;5;124m'\u001b[39m\u001b[38;5;124mSending \u001b[39m\u001b[38;5;132;01m%s\u001b[39;00m\u001b[38;5;124m to \u001b[39m\u001b[38;5;132;01m%s\u001b[39;00m\u001b[38;5;124m with Params: \u001b[39m\u001b[38;5;132;01m%s\u001b[39;00m\u001b[38;5;124m Headers: \u001b[39m\u001b[38;5;132;01m%s\u001b[39;00m\u001b[38;5;124m and Body: \u001b[39m\u001b[38;5;132;01m%r\u001b[39;00m\u001b[38;5;124m \u001b[39m\u001b[38;5;124m'\u001b[39m,\n\u001b[1;32m    237\u001b[0m              method, url, args\u001b[38;5;241m.\u001b[39mget(\u001b[38;5;124m\"\u001b[39m\u001b[38;5;124mparams\u001b[39m\u001b[38;5;124m\"\u001b[39m), headers, args\u001b[38;5;241m.\u001b[39mget(\u001b[38;5;124m'\u001b[39m\u001b[38;5;124mdata\u001b[39m\u001b[38;5;124m'\u001b[39m))\n\u001b[1;32m    239\u001b[0m \u001b[38;5;28;01mtry\u001b[39;00m:\n\u001b[0;32m--> 240\u001b[0m     response \u001b[38;5;241m=\u001b[39m \u001b[38;5;28;43mself\u001b[39;49m\u001b[38;5;241;43m.\u001b[39;49m\u001b[43m_session\u001b[49m\u001b[38;5;241;43m.\u001b[39;49m\u001b[43mrequest\u001b[49m\u001b[43m(\u001b[49m\n\u001b[1;32m    241\u001b[0m \u001b[43m        \u001b[49m\u001b[43mmethod\u001b[49m\u001b[43m,\u001b[49m\u001b[43m \u001b[49m\u001b[43murl\u001b[49m\u001b[43m,\u001b[49m\u001b[43m \u001b[49m\u001b[43mheaders\u001b[49m\u001b[38;5;241;43m=\u001b[39;49m\u001b[43mheaders\u001b[49m\u001b[43m,\u001b[49m\u001b[43m \u001b[49m\u001b[43mproxies\u001b[49m\u001b[38;5;241;43m=\u001b[39;49m\u001b[38;5;28;43mself\u001b[39;49m\u001b[38;5;241;43m.\u001b[39;49m\u001b[43mproxies\u001b[49m\u001b[43m,\u001b[49m\n\u001b[1;32m    242\u001b[0m \u001b[43m        \u001b[49m\u001b[43mtimeout\u001b[49m\u001b[38;5;241;43m=\u001b[39;49m\u001b[38;5;28;43mself\u001b[39;49m\u001b[38;5;241;43m.\u001b[39;49m\u001b[43mrequests_timeout\u001b[49m\u001b[43m,\u001b[49m\u001b[43m \u001b[49m\u001b[38;5;241;43m*\u001b[39;49m\u001b[38;5;241;43m*\u001b[39;49m\u001b[43margs\u001b[49m\n\u001b[1;32m    243\u001b[0m \u001b[43m    \u001b[49m\u001b[43m)\u001b[49m\n\u001b[1;32m    245\u001b[0m     response\u001b[38;5;241m.\u001b[39mraise_for_status()\n\u001b[1;32m    246\u001b[0m     results \u001b[38;5;241m=\u001b[39m response\u001b[38;5;241m.\u001b[39mjson()\n",
      "File \u001b[0;32m~/opt/anaconda3/lib/python3.9/site-packages/requests/sessions.py:519\u001b[0m, in \u001b[0;36mSession.request\u001b[0;34m(self, method, url, params, data, headers, cookies, files, auth, timeout, allow_redirects, proxies, hooks, stream, verify, cert, json)\u001b[0m\n\u001b[1;32m    515\u001b[0m prep \u001b[38;5;241m=\u001b[39m \u001b[38;5;28mself\u001b[39m\u001b[38;5;241m.\u001b[39mprepare_request(req)\n\u001b[1;32m    517\u001b[0m proxies \u001b[38;5;241m=\u001b[39m proxies \u001b[38;5;129;01mor\u001b[39;00m {}\n\u001b[0;32m--> 519\u001b[0m settings \u001b[38;5;241m=\u001b[39m \u001b[38;5;28;43mself\u001b[39;49m\u001b[38;5;241;43m.\u001b[39;49m\u001b[43mmerge_environment_settings\u001b[49m\u001b[43m(\u001b[49m\n\u001b[1;32m    520\u001b[0m \u001b[43m    \u001b[49m\u001b[43mprep\u001b[49m\u001b[38;5;241;43m.\u001b[39;49m\u001b[43murl\u001b[49m\u001b[43m,\u001b[49m\u001b[43m \u001b[49m\u001b[43mproxies\u001b[49m\u001b[43m,\u001b[49m\u001b[43m \u001b[49m\u001b[43mstream\u001b[49m\u001b[43m,\u001b[49m\u001b[43m \u001b[49m\u001b[43mverify\u001b[49m\u001b[43m,\u001b[49m\u001b[43m \u001b[49m\u001b[43mcert\u001b[49m\n\u001b[1;32m    521\u001b[0m \u001b[43m\u001b[49m\u001b[43m)\u001b[49m\n\u001b[1;32m    523\u001b[0m \u001b[38;5;66;03m# Send the request.\u001b[39;00m\n\u001b[1;32m    524\u001b[0m send_kwargs \u001b[38;5;241m=\u001b[39m {\n\u001b[1;32m    525\u001b[0m     \u001b[38;5;124m'\u001b[39m\u001b[38;5;124mtimeout\u001b[39m\u001b[38;5;124m'\u001b[39m: timeout,\n\u001b[1;32m    526\u001b[0m     \u001b[38;5;124m'\u001b[39m\u001b[38;5;124mallow_redirects\u001b[39m\u001b[38;5;124m'\u001b[39m: allow_redirects,\n\u001b[1;32m    527\u001b[0m }\n",
      "File \u001b[0;32m~/opt/anaconda3/lib/python3.9/site-packages/requests/sessions.py:701\u001b[0m, in \u001b[0;36mSession.merge_environment_settings\u001b[0;34m(self, url, proxies, stream, verify, cert)\u001b[0m\n\u001b[1;32m    698\u001b[0m \u001b[38;5;28;01mif\u001b[39;00m \u001b[38;5;28mself\u001b[39m\u001b[38;5;241m.\u001b[39mtrust_env:\n\u001b[1;32m    699\u001b[0m     \u001b[38;5;66;03m# Set environment's proxies.\u001b[39;00m\n\u001b[1;32m    700\u001b[0m     no_proxy \u001b[38;5;241m=\u001b[39m proxies\u001b[38;5;241m.\u001b[39mget(\u001b[38;5;124m'\u001b[39m\u001b[38;5;124mno_proxy\u001b[39m\u001b[38;5;124m'\u001b[39m) \u001b[38;5;28;01mif\u001b[39;00m proxies \u001b[38;5;129;01mis\u001b[39;00m \u001b[38;5;129;01mnot\u001b[39;00m \u001b[38;5;28;01mNone\u001b[39;00m \u001b[38;5;28;01melse\u001b[39;00m \u001b[38;5;28;01mNone\u001b[39;00m\n\u001b[0;32m--> 701\u001b[0m     env_proxies \u001b[38;5;241m=\u001b[39m \u001b[43mget_environ_proxies\u001b[49m\u001b[43m(\u001b[49m\u001b[43murl\u001b[49m\u001b[43m,\u001b[49m\u001b[43m \u001b[49m\u001b[43mno_proxy\u001b[49m\u001b[38;5;241;43m=\u001b[39;49m\u001b[43mno_proxy\u001b[49m\u001b[43m)\u001b[49m\n\u001b[1;32m    702\u001b[0m     \u001b[38;5;28;01mfor\u001b[39;00m (k, v) \u001b[38;5;129;01min\u001b[39;00m env_proxies\u001b[38;5;241m.\u001b[39mitems():\n\u001b[1;32m    703\u001b[0m         proxies\u001b[38;5;241m.\u001b[39msetdefault(k, v)\n",
      "File \u001b[0;32m~/opt/anaconda3/lib/python3.9/site-packages/requests/utils.py:805\u001b[0m, in \u001b[0;36mget_environ_proxies\u001b[0;34m(url, no_proxy)\u001b[0m\n\u001b[1;32m    799\u001b[0m \u001b[38;5;28;01mdef\u001b[39;00m \u001b[38;5;21mget_environ_proxies\u001b[39m(url, no_proxy\u001b[38;5;241m=\u001b[39m\u001b[38;5;28;01mNone\u001b[39;00m):\n\u001b[1;32m    800\u001b[0m     \u001b[38;5;124;03m\"\"\"\u001b[39;00m\n\u001b[1;32m    801\u001b[0m \u001b[38;5;124;03m    Return a dict of environment proxies.\u001b[39;00m\n\u001b[1;32m    802\u001b[0m \n\u001b[1;32m    803\u001b[0m \u001b[38;5;124;03m    :rtype: dict\u001b[39;00m\n\u001b[1;32m    804\u001b[0m \u001b[38;5;124;03m    \"\"\"\u001b[39;00m\n\u001b[0;32m--> 805\u001b[0m     \u001b[38;5;28;01mif\u001b[39;00m \u001b[43mshould_bypass_proxies\u001b[49m\u001b[43m(\u001b[49m\u001b[43murl\u001b[49m\u001b[43m,\u001b[49m\u001b[43m \u001b[49m\u001b[43mno_proxy\u001b[49m\u001b[38;5;241;43m=\u001b[39;49m\u001b[43mno_proxy\u001b[49m\u001b[43m)\u001b[49m:\n\u001b[1;32m    806\u001b[0m         \u001b[38;5;28;01mreturn\u001b[39;00m {}\n\u001b[1;32m    807\u001b[0m     \u001b[38;5;28;01melse\u001b[39;00m:\n",
      "File \u001b[0;32m~/opt/anaconda3/lib/python3.9/site-packages/requests/utils.py:789\u001b[0m, in \u001b[0;36mshould_bypass_proxies\u001b[0;34m(url, no_proxy)\u001b[0m\n\u001b[1;32m    786\u001b[0m \u001b[38;5;28;01mwith\u001b[39;00m set_environ(\u001b[38;5;124m'\u001b[39m\u001b[38;5;124mno_proxy\u001b[39m\u001b[38;5;124m'\u001b[39m, no_proxy_arg):\n\u001b[1;32m    787\u001b[0m     \u001b[38;5;66;03m# parsed.hostname can be `None` in cases such as a file URI.\u001b[39;00m\n\u001b[1;32m    788\u001b[0m     \u001b[38;5;28;01mtry\u001b[39;00m:\n\u001b[0;32m--> 789\u001b[0m         bypass \u001b[38;5;241m=\u001b[39m \u001b[43mproxy_bypass\u001b[49m\u001b[43m(\u001b[49m\u001b[43mparsed\u001b[49m\u001b[38;5;241;43m.\u001b[39;49m\u001b[43mhostname\u001b[49m\u001b[43m)\u001b[49m\n\u001b[1;32m    790\u001b[0m     \u001b[38;5;28;01mexcept\u001b[39;00m (\u001b[38;5;167;01mTypeError\u001b[39;00m, socket\u001b[38;5;241m.\u001b[39mgaierror):\n\u001b[1;32m    791\u001b[0m         bypass \u001b[38;5;241m=\u001b[39m \u001b[38;5;28;01mFalse\u001b[39;00m\n",
      "File \u001b[0;32m~/opt/anaconda3/lib/python3.9/urllib/request.py:2647\u001b[0m, in \u001b[0;36mproxy_bypass\u001b[0;34m(host)\u001b[0m\n\u001b[1;32m   2645\u001b[0m     \u001b[38;5;28;01mreturn\u001b[39;00m proxy_bypass_environment(host, proxies)\n\u001b[1;32m   2646\u001b[0m \u001b[38;5;28;01melse\u001b[39;00m:\n\u001b[0;32m-> 2647\u001b[0m     \u001b[38;5;28;01mreturn\u001b[39;00m \u001b[43mproxy_bypass_macosx_sysconf\u001b[49m\u001b[43m(\u001b[49m\u001b[43mhost\u001b[49m\u001b[43m)\u001b[49m\n",
      "File \u001b[0;32m~/opt/anaconda3/lib/python3.9/urllib/request.py:2624\u001b[0m, in \u001b[0;36mproxy_bypass_macosx_sysconf\u001b[0;34m(host)\u001b[0m\n\u001b[1;32m   2622\u001b[0m \u001b[38;5;28;01mdef\u001b[39;00m \u001b[38;5;21mproxy_bypass_macosx_sysconf\u001b[39m(host):\n\u001b[1;32m   2623\u001b[0m     proxy_settings \u001b[38;5;241m=\u001b[39m _get_proxy_settings()\n\u001b[0;32m-> 2624\u001b[0m     \u001b[38;5;28;01mreturn\u001b[39;00m \u001b[43m_proxy_bypass_macosx_sysconf\u001b[49m\u001b[43m(\u001b[49m\u001b[43mhost\u001b[49m\u001b[43m,\u001b[49m\u001b[43m \u001b[49m\u001b[43mproxy_settings\u001b[49m\u001b[43m)\u001b[49m\n",
      "File \u001b[0;32m~/opt/anaconda3/lib/python3.9/urllib/request.py:2592\u001b[0m, in \u001b[0;36m_proxy_bypass_macosx_sysconf\u001b[0;34m(host, proxy_settings)\u001b[0m\n\u001b[1;32m   2590\u001b[0m \u001b[38;5;28;01mif\u001b[39;00m hostIP \u001b[38;5;129;01mis\u001b[39;00m \u001b[38;5;28;01mNone\u001b[39;00m:\n\u001b[1;32m   2591\u001b[0m     \u001b[38;5;28;01mtry\u001b[39;00m:\n\u001b[0;32m-> 2592\u001b[0m         hostIP \u001b[38;5;241m=\u001b[39m \u001b[43msocket\u001b[49m\u001b[38;5;241;43m.\u001b[39;49m\u001b[43mgethostbyname\u001b[49m\u001b[43m(\u001b[49m\u001b[43mhostonly\u001b[49m\u001b[43m)\u001b[49m\n\u001b[1;32m   2593\u001b[0m         hostIP \u001b[38;5;241m=\u001b[39m ip2num(hostIP)\n\u001b[1;32m   2594\u001b[0m     \u001b[38;5;28;01mexcept\u001b[39;00m \u001b[38;5;167;01mOSError\u001b[39;00m:\n",
      "\u001b[0;31mKeyboardInterrupt\u001b[0m: "
     ]
    }
   ],
   "source": [
    "for item in range(7,8):\n",
    "    for i in  result[0]:\n",
    "        print(i)\n",
    "        get_features_df(i)"
   ]
  },
  {
   "cell_type": "code",
   "execution_count": 45,
   "id": "901a2435",
   "metadata": {},
   "outputs": [
    {
     "name": "stdout",
     "output_type": "stream",
     "text": [
      "6TySxsLwRVYqEh7LZ6fyq8\n"
     ]
    },
    {
     "name": "stderr",
     "output_type": "stream",
     "text": [
      "/var/folders/1n/phyrz16s0rd1_mpv046jgqf80000gn/T/ipykernel_17629/3181457209.py:28: FutureWarning: The frame.append method is deprecated and will be removed from pandas in a future version. Use pandas.concat instead.\n",
      "  big_df =big_df.append(df)\n"
     ]
    },
    {
     "name": "stdout",
     "output_type": "stream",
     "text": [
      "0OGpuF8rnCzlcjJLsdywny\n"
     ]
    },
    {
     "name": "stderr",
     "output_type": "stream",
     "text": [
      "/var/folders/1n/phyrz16s0rd1_mpv046jgqf80000gn/T/ipykernel_17629/3181457209.py:28: FutureWarning: The frame.append method is deprecated and will be removed from pandas in a future version. Use pandas.concat instead.\n",
      "  big_df =big_df.append(df)\n"
     ]
    },
    {
     "name": "stdout",
     "output_type": "stream",
     "text": [
      "1BYospE2cLB28m3i84dcTV\n"
     ]
    },
    {
     "name": "stderr",
     "output_type": "stream",
     "text": [
      "/var/folders/1n/phyrz16s0rd1_mpv046jgqf80000gn/T/ipykernel_17629/3181457209.py:28: FutureWarning: The frame.append method is deprecated and will be removed from pandas in a future version. Use pandas.concat instead.\n",
      "  big_df =big_df.append(df)\n"
     ]
    },
    {
     "name": "stdout",
     "output_type": "stream",
     "text": [
      "6gS3HhOiI17QNojjPuPzqc\n"
     ]
    },
    {
     "name": "stderr",
     "output_type": "stream",
     "text": [
      "/var/folders/1n/phyrz16s0rd1_mpv046jgqf80000gn/T/ipykernel_17629/3181457209.py:28: FutureWarning: The frame.append method is deprecated and will be removed from pandas in a future version. Use pandas.concat instead.\n",
      "  big_df =big_df.append(df)\n"
     ]
    },
    {
     "name": "stdout",
     "output_type": "stream",
     "text": [
      "5nUyv9wyZKjdUW1rk3smTo\n"
     ]
    },
    {
     "name": "stderr",
     "output_type": "stream",
     "text": [
      "/var/folders/1n/phyrz16s0rd1_mpv046jgqf80000gn/T/ipykernel_17629/3181457209.py:28: FutureWarning: The frame.append method is deprecated and will be removed from pandas in a future version. Use pandas.concat instead.\n",
      "  big_df =big_df.append(df)\n"
     ]
    },
    {
     "name": "stdout",
     "output_type": "stream",
     "text": [
      "7nHgmv7uyIA1KHj6qTttjH\n"
     ]
    },
    {
     "name": "stderr",
     "output_type": "stream",
     "text": [
      "/var/folders/1n/phyrz16s0rd1_mpv046jgqf80000gn/T/ipykernel_17629/3181457209.py:28: FutureWarning: The frame.append method is deprecated and will be removed from pandas in a future version. Use pandas.concat instead.\n",
      "  big_df =big_df.append(df)\n"
     ]
    },
    {
     "name": "stdout",
     "output_type": "stream",
     "text": [
      "0lXSqruCjvX1e7hw2KGvKw\n"
     ]
    },
    {
     "name": "stderr",
     "output_type": "stream",
     "text": [
      "/var/folders/1n/phyrz16s0rd1_mpv046jgqf80000gn/T/ipykernel_17629/3181457209.py:28: FutureWarning: The frame.append method is deprecated and will be removed from pandas in a future version. Use pandas.concat instead.\n",
      "  big_df =big_df.append(df)\n"
     ]
    },
    {
     "name": "stdout",
     "output_type": "stream",
     "text": [
      "41997GIfsUgMnsPLFiuLeS\n"
     ]
    },
    {
     "name": "stderr",
     "output_type": "stream",
     "text": [
      "/var/folders/1n/phyrz16s0rd1_mpv046jgqf80000gn/T/ipykernel_17629/3181457209.py:28: FutureWarning: The frame.append method is deprecated and will be removed from pandas in a future version. Use pandas.concat instead.\n",
      "  big_df =big_df.append(df)\n"
     ]
    },
    {
     "name": "stdout",
     "output_type": "stream",
     "text": [
      "1aYiM4zLmBuFq0Fg6NQb6a\n"
     ]
    },
    {
     "name": "stderr",
     "output_type": "stream",
     "text": [
      "/var/folders/1n/phyrz16s0rd1_mpv046jgqf80000gn/T/ipykernel_17629/3181457209.py:28: FutureWarning: The frame.append method is deprecated and will be removed from pandas in a future version. Use pandas.concat instead.\n",
      "  big_df =big_df.append(df)\n"
     ]
    },
    {
     "name": "stdout",
     "output_type": "stream",
     "text": [
      "10FCW9lj0NdeoYI5VVvVtY\n"
     ]
    },
    {
     "name": "stderr",
     "output_type": "stream",
     "text": [
      "/var/folders/1n/phyrz16s0rd1_mpv046jgqf80000gn/T/ipykernel_17629/3181457209.py:28: FutureWarning: The frame.append method is deprecated and will be removed from pandas in a future version. Use pandas.concat instead.\n",
      "  big_df =big_df.append(df)\n"
     ]
    },
    {
     "name": "stdout",
     "output_type": "stream",
     "text": [
      "6TGOKSobwpEoOtx80edFyV\n"
     ]
    },
    {
     "name": "stderr",
     "output_type": "stream",
     "text": [
      "/var/folders/1n/phyrz16s0rd1_mpv046jgqf80000gn/T/ipykernel_17629/3181457209.py:28: FutureWarning: The frame.append method is deprecated and will be removed from pandas in a future version. Use pandas.concat instead.\n",
      "  big_df =big_df.append(df)\n"
     ]
    },
    {
     "name": "stdout",
     "output_type": "stream",
     "text": [
      "29qGA62efPsgLp6kblUPSg\n"
     ]
    },
    {
     "name": "stderr",
     "output_type": "stream",
     "text": [
      "/var/folders/1n/phyrz16s0rd1_mpv046jgqf80000gn/T/ipykernel_17629/3181457209.py:28: FutureWarning: The frame.append method is deprecated and will be removed from pandas in a future version. Use pandas.concat instead.\n",
      "  big_df =big_df.append(df)\n"
     ]
    },
    {
     "name": "stdout",
     "output_type": "stream",
     "text": [
      "67qIuPZRX12l7yMpxBQpxs\n"
     ]
    },
    {
     "name": "stderr",
     "output_type": "stream",
     "text": [
      "/var/folders/1n/phyrz16s0rd1_mpv046jgqf80000gn/T/ipykernel_17629/3181457209.py:28: FutureWarning: The frame.append method is deprecated and will be removed from pandas in a future version. Use pandas.concat instead.\n",
      "  big_df =big_df.append(df)\n"
     ]
    },
    {
     "name": "stdout",
     "output_type": "stream",
     "text": [
      "2QYND559WzeB2urcTaOG0j\n"
     ]
    },
    {
     "name": "stderr",
     "output_type": "stream",
     "text": [
      "/var/folders/1n/phyrz16s0rd1_mpv046jgqf80000gn/T/ipykernel_17629/3181457209.py:28: FutureWarning: The frame.append method is deprecated and will be removed from pandas in a future version. Use pandas.concat instead.\n",
      "  big_df =big_df.append(df)\n"
     ]
    },
    {
     "name": "stdout",
     "output_type": "stream",
     "text": [
      "6rZGKd5ndSUnGeJKuBhUej\n"
     ]
    },
    {
     "name": "stderr",
     "output_type": "stream",
     "text": [
      "/var/folders/1n/phyrz16s0rd1_mpv046jgqf80000gn/T/ipykernel_17629/3181457209.py:28: FutureWarning: The frame.append method is deprecated and will be removed from pandas in a future version. Use pandas.concat instead.\n",
      "  big_df =big_df.append(df)\n"
     ]
    },
    {
     "name": "stdout",
     "output_type": "stream",
     "text": [
      "2XXreCGINlOqm8wEn7WszA\n"
     ]
    },
    {
     "name": "stderr",
     "output_type": "stream",
     "text": [
      "/var/folders/1n/phyrz16s0rd1_mpv046jgqf80000gn/T/ipykernel_17629/3181457209.py:28: FutureWarning: The frame.append method is deprecated and will be removed from pandas in a future version. Use pandas.concat instead.\n",
      "  big_df =big_df.append(df)\n"
     ]
    },
    {
     "name": "stdout",
     "output_type": "stream",
     "text": [
      "0ShRnc2cyEyxkLbtZC4Yim\n"
     ]
    },
    {
     "name": "stderr",
     "output_type": "stream",
     "text": [
      "/var/folders/1n/phyrz16s0rd1_mpv046jgqf80000gn/T/ipykernel_17629/3181457209.py:28: FutureWarning: The frame.append method is deprecated and will be removed from pandas in a future version. Use pandas.concat instead.\n",
      "  big_df =big_df.append(df)\n"
     ]
    },
    {
     "name": "stdout",
     "output_type": "stream",
     "text": [
      "5kdP7VQedYdDzhTvfovu0u\n"
     ]
    },
    {
     "name": "stderr",
     "output_type": "stream",
     "text": [
      "/var/folders/1n/phyrz16s0rd1_mpv046jgqf80000gn/T/ipykernel_17629/3181457209.py:28: FutureWarning: The frame.append method is deprecated and will be removed from pandas in a future version. Use pandas.concat instead.\n",
      "  big_df =big_df.append(df)\n"
     ]
    },
    {
     "name": "stdout",
     "output_type": "stream",
     "text": [
      "4CfyHGpt8qPlLXlstcE2Wh\n"
     ]
    },
    {
     "name": "stderr",
     "output_type": "stream",
     "text": [
      "/var/folders/1n/phyrz16s0rd1_mpv046jgqf80000gn/T/ipykernel_17629/3181457209.py:28: FutureWarning: The frame.append method is deprecated and will be removed from pandas in a future version. Use pandas.concat instead.\n",
      "  big_df =big_df.append(df)\n"
     ]
    },
    {
     "name": "stdout",
     "output_type": "stream",
     "text": [
      "1Rn01P3YPioy5QRQoo32Lv\n"
     ]
    },
    {
     "name": "stderr",
     "output_type": "stream",
     "text": [
      "/var/folders/1n/phyrz16s0rd1_mpv046jgqf80000gn/T/ipykernel_17629/3181457209.py:28: FutureWarning: The frame.append method is deprecated and will be removed from pandas in a future version. Use pandas.concat instead.\n",
      "  big_df =big_df.append(df)\n"
     ]
    },
    {
     "name": "stdout",
     "output_type": "stream",
     "text": [
      "0yVmsZK4AtiNMpby2WqLZY\n"
     ]
    },
    {
     "name": "stderr",
     "output_type": "stream",
     "text": [
      "/var/folders/1n/phyrz16s0rd1_mpv046jgqf80000gn/T/ipykernel_17629/3181457209.py:28: FutureWarning: The frame.append method is deprecated and will be removed from pandas in a future version. Use pandas.concat instead.\n",
      "  big_df =big_df.append(df)\n"
     ]
    },
    {
     "name": "stdout",
     "output_type": "stream",
     "text": [
      "7mBz3DA4Lt7Bsbtr5TxklP\n"
     ]
    },
    {
     "name": "stderr",
     "output_type": "stream",
     "text": [
      "/var/folders/1n/phyrz16s0rd1_mpv046jgqf80000gn/T/ipykernel_17629/3181457209.py:28: FutureWarning: The frame.append method is deprecated and will be removed from pandas in a future version. Use pandas.concat instead.\n",
      "  big_df =big_df.append(df)\n"
     ]
    },
    {
     "name": "stdout",
     "output_type": "stream",
     "text": [
      "7AqOmLV0JV4a3GpIU1qxbL\n"
     ]
    },
    {
     "name": "stderr",
     "output_type": "stream",
     "text": [
      "/var/folders/1n/phyrz16s0rd1_mpv046jgqf80000gn/T/ipykernel_17629/3181457209.py:28: FutureWarning: The frame.append method is deprecated and will be removed from pandas in a future version. Use pandas.concat instead.\n",
      "  big_df =big_df.append(df)\n"
     ]
    },
    {
     "name": "stdout",
     "output_type": "stream",
     "text": [
      "5yagbqWY6gDlqB893zjOmO\n"
     ]
    },
    {
     "name": "stderr",
     "output_type": "stream",
     "text": [
      "/var/folders/1n/phyrz16s0rd1_mpv046jgqf80000gn/T/ipykernel_17629/3181457209.py:28: FutureWarning: The frame.append method is deprecated and will be removed from pandas in a future version. Use pandas.concat instead.\n",
      "  big_df =big_df.append(df)\n"
     ]
    },
    {
     "name": "stdout",
     "output_type": "stream",
     "text": [
      "1HGdDFrmuZ9cfLJwJ7Eb3s\n"
     ]
    },
    {
     "name": "stderr",
     "output_type": "stream",
     "text": [
      "/var/folders/1n/phyrz16s0rd1_mpv046jgqf80000gn/T/ipykernel_17629/3181457209.py:28: FutureWarning: The frame.append method is deprecated and will be removed from pandas in a future version. Use pandas.concat instead.\n",
      "  big_df =big_df.append(df)\n"
     ]
    },
    {
     "name": "stdout",
     "output_type": "stream",
     "text": [
      "0FkLYgMF09lmzytexAraKv\n"
     ]
    },
    {
     "ename": "TypeError",
     "evalue": "'NoneType' object is not subscriptable",
     "output_type": "error",
     "traceback": [
      "\u001b[0;31m---------------------------------------------------------------------------\u001b[0m",
      "\u001b[0;31mTypeError\u001b[0m                                 Traceback (most recent call last)",
      "Input \u001b[0;32mIn [45]\u001b[0m, in \u001b[0;36m<cell line: 1>\u001b[0;34m()\u001b[0m\n\u001b[1;32m      2\u001b[0m \u001b[38;5;28;01mfor\u001b[39;00m i \u001b[38;5;129;01min\u001b[39;00m  result[\u001b[38;5;241m0\u001b[39m]:\n\u001b[1;32m      3\u001b[0m     \u001b[38;5;28mprint\u001b[39m(i)\n\u001b[0;32m----> 4\u001b[0m     \u001b[43mget_features_df\u001b[49m\u001b[43m(\u001b[49m\u001b[43mi\u001b[49m\u001b[43m)\u001b[49m\n",
      "Input \u001b[0;32mIn [4]\u001b[0m, in \u001b[0;36mget_features_df\u001b[0;34m(playlist_id)\u001b[0m\n\u001b[1;32m     15\u001b[0m \u001b[38;5;66;03m#getting features per song in  playlist \u001b[39;00m\n\u001b[1;32m     16\u001b[0m     \u001b[38;5;28;01mfor\u001b[39;00m value \u001b[38;5;129;01min\u001b[39;00m \u001b[38;5;28mrange\u001b[39m(\u001b[38;5;241m0\u001b[39m,\u001b[38;5;28mlen\u001b[39m(tracks)):\n\u001b[0;32m---> 18\u001b[0m         list_of_audio_features\u001b[38;5;241m.\u001b[39mappend(sp\u001b[38;5;241m.\u001b[39maudio_features(\u001b[43mtracks\u001b[49m\u001b[43m[\u001b[49m\u001b[43mvalue\u001b[49m\u001b[43m]\u001b[49m\u001b[43m[\u001b[49m\u001b[38;5;124;43m\"\u001b[39;49m\u001b[38;5;124;43mtrack\u001b[39;49m\u001b[38;5;124;43m\"\u001b[39;49m\u001b[43m]\u001b[49m\u001b[43m[\u001b[49m\u001b[38;5;124;43m\"\u001b[39;49m\u001b[38;5;124;43mid\u001b[39;49m\u001b[38;5;124;43m\"\u001b[39;49m\u001b[43m]\u001b[49m)[\u001b[38;5;241m0\u001b[39m])\n\u001b[1;32m     21\u001b[0m \u001b[38;5;66;03m#creating df with audio features and adding song name and artist     \u001b[39;00m\n\u001b[1;32m     22\u001b[0m     df\u001b[38;5;241m=\u001b[39mpd\u001b[38;5;241m.\u001b[39mDataFrame(list_of_audio_features)    \n",
      "\u001b[0;31mTypeError\u001b[0m: 'NoneType' object is not subscriptable"
     ]
    }
   ],
   "source": [
    "for item in range(8,9):\n",
    "    for i in  result[0]:\n",
    "        print(i) \n",
    "        get_features_df(i)"
   ]
  },
  {
   "cell_type": "code",
   "execution_count": 50,
   "id": "64abf070",
   "metadata": {},
   "outputs": [
    {
     "name": "stdout",
     "output_type": "stream",
     "text": [
      "6TySxsLwRVYqEh7LZ6fyq8\n"
     ]
    },
    {
     "name": "stderr",
     "output_type": "stream",
     "text": [
      "/var/folders/1n/phyrz16s0rd1_mpv046jgqf80000gn/T/ipykernel_17629/3181457209.py:28: FutureWarning: The frame.append method is deprecated and will be removed from pandas in a future version. Use pandas.concat instead.\n",
      "  big_df =big_df.append(df)\n"
     ]
    },
    {
     "name": "stdout",
     "output_type": "stream",
     "text": [
      "0OGpuF8rnCzlcjJLsdywny\n"
     ]
    },
    {
     "name": "stderr",
     "output_type": "stream",
     "text": [
      "/var/folders/1n/phyrz16s0rd1_mpv046jgqf80000gn/T/ipykernel_17629/3181457209.py:28: FutureWarning: The frame.append method is deprecated and will be removed from pandas in a future version. Use pandas.concat instead.\n",
      "  big_df =big_df.append(df)\n"
     ]
    },
    {
     "name": "stdout",
     "output_type": "stream",
     "text": [
      "1BYospE2cLB28m3i84dcTV\n"
     ]
    },
    {
     "name": "stderr",
     "output_type": "stream",
     "text": [
      "/var/folders/1n/phyrz16s0rd1_mpv046jgqf80000gn/T/ipykernel_17629/3181457209.py:28: FutureWarning: The frame.append method is deprecated and will be removed from pandas in a future version. Use pandas.concat instead.\n",
      "  big_df =big_df.append(df)\n"
     ]
    },
    {
     "name": "stdout",
     "output_type": "stream",
     "text": [
      "6gS3HhOiI17QNojjPuPzqc\n"
     ]
    },
    {
     "name": "stderr",
     "output_type": "stream",
     "text": [
      "/var/folders/1n/phyrz16s0rd1_mpv046jgqf80000gn/T/ipykernel_17629/3181457209.py:28: FutureWarning: The frame.append method is deprecated and will be removed from pandas in a future version. Use pandas.concat instead.\n",
      "  big_df =big_df.append(df)\n"
     ]
    },
    {
     "name": "stdout",
     "output_type": "stream",
     "text": [
      "5nUyv9wyZKjdUW1rk3smTo\n"
     ]
    },
    {
     "name": "stderr",
     "output_type": "stream",
     "text": [
      "/var/folders/1n/phyrz16s0rd1_mpv046jgqf80000gn/T/ipykernel_17629/3181457209.py:28: FutureWarning: The frame.append method is deprecated and will be removed from pandas in a future version. Use pandas.concat instead.\n",
      "  big_df =big_df.append(df)\n"
     ]
    },
    {
     "name": "stdout",
     "output_type": "stream",
     "text": [
      "7nHgmv7uyIA1KHj6qTttjH\n"
     ]
    },
    {
     "name": "stderr",
     "output_type": "stream",
     "text": [
      "/var/folders/1n/phyrz16s0rd1_mpv046jgqf80000gn/T/ipykernel_17629/3181457209.py:28: FutureWarning: The frame.append method is deprecated and will be removed from pandas in a future version. Use pandas.concat instead.\n",
      "  big_df =big_df.append(df)\n"
     ]
    },
    {
     "name": "stdout",
     "output_type": "stream",
     "text": [
      "0lXSqruCjvX1e7hw2KGvKw\n"
     ]
    },
    {
     "name": "stderr",
     "output_type": "stream",
     "text": [
      "/var/folders/1n/phyrz16s0rd1_mpv046jgqf80000gn/T/ipykernel_17629/3181457209.py:28: FutureWarning: The frame.append method is deprecated and will be removed from pandas in a future version. Use pandas.concat instead.\n",
      "  big_df =big_df.append(df)\n"
     ]
    },
    {
     "name": "stdout",
     "output_type": "stream",
     "text": [
      "41997GIfsUgMnsPLFiuLeS\n"
     ]
    },
    {
     "name": "stderr",
     "output_type": "stream",
     "text": [
      "/var/folders/1n/phyrz16s0rd1_mpv046jgqf80000gn/T/ipykernel_17629/3181457209.py:28: FutureWarning: The frame.append method is deprecated and will be removed from pandas in a future version. Use pandas.concat instead.\n",
      "  big_df =big_df.append(df)\n"
     ]
    },
    {
     "name": "stdout",
     "output_type": "stream",
     "text": [
      "1aYiM4zLmBuFq0Fg6NQb6a\n"
     ]
    },
    {
     "name": "stderr",
     "output_type": "stream",
     "text": [
      "/var/folders/1n/phyrz16s0rd1_mpv046jgqf80000gn/T/ipykernel_17629/3181457209.py:28: FutureWarning: The frame.append method is deprecated and will be removed from pandas in a future version. Use pandas.concat instead.\n",
      "  big_df =big_df.append(df)\n"
     ]
    },
    {
     "name": "stdout",
     "output_type": "stream",
     "text": [
      "10FCW9lj0NdeoYI5VVvVtY\n"
     ]
    },
    {
     "name": "stderr",
     "output_type": "stream",
     "text": [
      "/var/folders/1n/phyrz16s0rd1_mpv046jgqf80000gn/T/ipykernel_17629/3181457209.py:28: FutureWarning: The frame.append method is deprecated and will be removed from pandas in a future version. Use pandas.concat instead.\n",
      "  big_df =big_df.append(df)\n"
     ]
    },
    {
     "name": "stdout",
     "output_type": "stream",
     "text": [
      "6TGOKSobwpEoOtx80edFyV\n"
     ]
    },
    {
     "name": "stderr",
     "output_type": "stream",
     "text": [
      "/var/folders/1n/phyrz16s0rd1_mpv046jgqf80000gn/T/ipykernel_17629/3181457209.py:28: FutureWarning: The frame.append method is deprecated and will be removed from pandas in a future version. Use pandas.concat instead.\n",
      "  big_df =big_df.append(df)\n"
     ]
    },
    {
     "name": "stdout",
     "output_type": "stream",
     "text": [
      "29qGA62efPsgLp6kblUPSg\n"
     ]
    },
    {
     "name": "stderr",
     "output_type": "stream",
     "text": [
      "/var/folders/1n/phyrz16s0rd1_mpv046jgqf80000gn/T/ipykernel_17629/3181457209.py:28: FutureWarning: The frame.append method is deprecated and will be removed from pandas in a future version. Use pandas.concat instead.\n",
      "  big_df =big_df.append(df)\n"
     ]
    },
    {
     "name": "stdout",
     "output_type": "stream",
     "text": [
      "67qIuPZRX12l7yMpxBQpxs\n"
     ]
    },
    {
     "name": "stderr",
     "output_type": "stream",
     "text": [
      "/var/folders/1n/phyrz16s0rd1_mpv046jgqf80000gn/T/ipykernel_17629/3181457209.py:28: FutureWarning: The frame.append method is deprecated and will be removed from pandas in a future version. Use pandas.concat instead.\n",
      "  big_df =big_df.append(df)\n"
     ]
    },
    {
     "name": "stdout",
     "output_type": "stream",
     "text": [
      "2QYND559WzeB2urcTaOG0j\n"
     ]
    },
    {
     "name": "stderr",
     "output_type": "stream",
     "text": [
      "/var/folders/1n/phyrz16s0rd1_mpv046jgqf80000gn/T/ipykernel_17629/3181457209.py:28: FutureWarning: The frame.append method is deprecated and will be removed from pandas in a future version. Use pandas.concat instead.\n",
      "  big_df =big_df.append(df)\n"
     ]
    },
    {
     "name": "stdout",
     "output_type": "stream",
     "text": [
      "6rZGKd5ndSUnGeJKuBhUej\n"
     ]
    },
    {
     "name": "stderr",
     "output_type": "stream",
     "text": [
      "/var/folders/1n/phyrz16s0rd1_mpv046jgqf80000gn/T/ipykernel_17629/3181457209.py:28: FutureWarning: The frame.append method is deprecated and will be removed from pandas in a future version. Use pandas.concat instead.\n",
      "  big_df =big_df.append(df)\n"
     ]
    },
    {
     "name": "stdout",
     "output_type": "stream",
     "text": [
      "2XXreCGINlOqm8wEn7WszA\n"
     ]
    },
    {
     "name": "stderr",
     "output_type": "stream",
     "text": [
      "/var/folders/1n/phyrz16s0rd1_mpv046jgqf80000gn/T/ipykernel_17629/3181457209.py:28: FutureWarning: The frame.append method is deprecated and will be removed from pandas in a future version. Use pandas.concat instead.\n",
      "  big_df =big_df.append(df)\n"
     ]
    },
    {
     "name": "stdout",
     "output_type": "stream",
     "text": [
      "0ShRnc2cyEyxkLbtZC4Yim\n"
     ]
    },
    {
     "name": "stderr",
     "output_type": "stream",
     "text": [
      "/var/folders/1n/phyrz16s0rd1_mpv046jgqf80000gn/T/ipykernel_17629/3181457209.py:28: FutureWarning: The frame.append method is deprecated and will be removed from pandas in a future version. Use pandas.concat instead.\n",
      "  big_df =big_df.append(df)\n"
     ]
    },
    {
     "name": "stdout",
     "output_type": "stream",
     "text": [
      "5kdP7VQedYdDzhTvfovu0u\n"
     ]
    },
    {
     "name": "stderr",
     "output_type": "stream",
     "text": [
      "/var/folders/1n/phyrz16s0rd1_mpv046jgqf80000gn/T/ipykernel_17629/3181457209.py:28: FutureWarning: The frame.append method is deprecated and will be removed from pandas in a future version. Use pandas.concat instead.\n",
      "  big_df =big_df.append(df)\n"
     ]
    },
    {
     "name": "stdout",
     "output_type": "stream",
     "text": [
      "4CfyHGpt8qPlLXlstcE2Wh\n"
     ]
    },
    {
     "name": "stderr",
     "output_type": "stream",
     "text": [
      "/var/folders/1n/phyrz16s0rd1_mpv046jgqf80000gn/T/ipykernel_17629/3181457209.py:28: FutureWarning: The frame.append method is deprecated and will be removed from pandas in a future version. Use pandas.concat instead.\n",
      "  big_df =big_df.append(df)\n"
     ]
    },
    {
     "name": "stdout",
     "output_type": "stream",
     "text": [
      "1Rn01P3YPioy5QRQoo32Lv\n"
     ]
    },
    {
     "name": "stderr",
     "output_type": "stream",
     "text": [
      "/var/folders/1n/phyrz16s0rd1_mpv046jgqf80000gn/T/ipykernel_17629/3181457209.py:28: FutureWarning: The frame.append method is deprecated and will be removed from pandas in a future version. Use pandas.concat instead.\n",
      "  big_df =big_df.append(df)\n"
     ]
    },
    {
     "name": "stdout",
     "output_type": "stream",
     "text": [
      "0yVmsZK4AtiNMpby2WqLZY\n"
     ]
    },
    {
     "name": "stderr",
     "output_type": "stream",
     "text": [
      "/var/folders/1n/phyrz16s0rd1_mpv046jgqf80000gn/T/ipykernel_17629/3181457209.py:28: FutureWarning: The frame.append method is deprecated and will be removed from pandas in a future version. Use pandas.concat instead.\n",
      "  big_df =big_df.append(df)\n"
     ]
    },
    {
     "name": "stdout",
     "output_type": "stream",
     "text": [
      "7mBz3DA4Lt7Bsbtr5TxklP\n"
     ]
    },
    {
     "name": "stderr",
     "output_type": "stream",
     "text": [
      "/var/folders/1n/phyrz16s0rd1_mpv046jgqf80000gn/T/ipykernel_17629/3181457209.py:28: FutureWarning: The frame.append method is deprecated and will be removed from pandas in a future version. Use pandas.concat instead.\n",
      "  big_df =big_df.append(df)\n"
     ]
    },
    {
     "name": "stdout",
     "output_type": "stream",
     "text": [
      "7AqOmLV0JV4a3GpIU1qxbL\n"
     ]
    },
    {
     "name": "stderr",
     "output_type": "stream",
     "text": [
      "/var/folders/1n/phyrz16s0rd1_mpv046jgqf80000gn/T/ipykernel_17629/3181457209.py:28: FutureWarning: The frame.append method is deprecated and will be removed from pandas in a future version. Use pandas.concat instead.\n",
      "  big_df =big_df.append(df)\n"
     ]
    },
    {
     "name": "stdout",
     "output_type": "stream",
     "text": [
      "5yagbqWY6gDlqB893zjOmO\n"
     ]
    },
    {
     "name": "stderr",
     "output_type": "stream",
     "text": [
      "/var/folders/1n/phyrz16s0rd1_mpv046jgqf80000gn/T/ipykernel_17629/3181457209.py:28: FutureWarning: The frame.append method is deprecated and will be removed from pandas in a future version. Use pandas.concat instead.\n",
      "  big_df =big_df.append(df)\n"
     ]
    },
    {
     "name": "stdout",
     "output_type": "stream",
     "text": [
      "1HGdDFrmuZ9cfLJwJ7Eb3s\n"
     ]
    },
    {
     "name": "stderr",
     "output_type": "stream",
     "text": [
      "/var/folders/1n/phyrz16s0rd1_mpv046jgqf80000gn/T/ipykernel_17629/3181457209.py:28: FutureWarning: The frame.append method is deprecated and will be removed from pandas in a future version. Use pandas.concat instead.\n",
      "  big_df =big_df.append(df)\n"
     ]
    },
    {
     "name": "stdout",
     "output_type": "stream",
     "text": [
      "0FkLYgMF09lmzytexAraKv\n"
     ]
    },
    {
     "ename": "TypeError",
     "evalue": "'NoneType' object is not subscriptable",
     "output_type": "error",
     "traceback": [
      "\u001b[0;31m---------------------------------------------------------------------------\u001b[0m",
      "\u001b[0;31mTypeError\u001b[0m                                 Traceback (most recent call last)",
      "Input \u001b[0;32mIn [50]\u001b[0m, in \u001b[0;36m<cell line: 1>\u001b[0;34m()\u001b[0m\n\u001b[1;32m      2\u001b[0m \u001b[38;5;28;01mfor\u001b[39;00m i \u001b[38;5;129;01min\u001b[39;00m  result[\u001b[38;5;241m0\u001b[39m]:\n\u001b[1;32m      3\u001b[0m     \u001b[38;5;28mprint\u001b[39m(i)\n\u001b[0;32m----> 4\u001b[0m     \u001b[43mget_features_df\u001b[49m\u001b[43m(\u001b[49m\u001b[43mi\u001b[49m\u001b[43m)\u001b[49m\n",
      "Input \u001b[0;32mIn [4]\u001b[0m, in \u001b[0;36mget_features_df\u001b[0;34m(playlist_id)\u001b[0m\n\u001b[1;32m     15\u001b[0m \u001b[38;5;66;03m#getting features per song in  playlist \u001b[39;00m\n\u001b[1;32m     16\u001b[0m     \u001b[38;5;28;01mfor\u001b[39;00m value \u001b[38;5;129;01min\u001b[39;00m \u001b[38;5;28mrange\u001b[39m(\u001b[38;5;241m0\u001b[39m,\u001b[38;5;28mlen\u001b[39m(tracks)):\n\u001b[0;32m---> 18\u001b[0m         list_of_audio_features\u001b[38;5;241m.\u001b[39mappend(sp\u001b[38;5;241m.\u001b[39maudio_features(\u001b[43mtracks\u001b[49m\u001b[43m[\u001b[49m\u001b[43mvalue\u001b[49m\u001b[43m]\u001b[49m\u001b[43m[\u001b[49m\u001b[38;5;124;43m\"\u001b[39;49m\u001b[38;5;124;43mtrack\u001b[39;49m\u001b[38;5;124;43m\"\u001b[39;49m\u001b[43m]\u001b[49m\u001b[43m[\u001b[49m\u001b[38;5;124;43m\"\u001b[39;49m\u001b[38;5;124;43mid\u001b[39;49m\u001b[38;5;124;43m\"\u001b[39;49m\u001b[43m]\u001b[49m)[\u001b[38;5;241m0\u001b[39m])\n\u001b[1;32m     21\u001b[0m \u001b[38;5;66;03m#creating df with audio features and adding song name and artist     \u001b[39;00m\n\u001b[1;32m     22\u001b[0m     df\u001b[38;5;241m=\u001b[39mpd\u001b[38;5;241m.\u001b[39mDataFrame(list_of_audio_features)    \n",
      "\u001b[0;31mTypeError\u001b[0m: 'NoneType' object is not subscriptable"
     ]
    }
   ],
   "source": [
    "for item in range(9,10):\n",
    "    for i in  result[0]:\n",
    "        print(i)\n",
    "        get_features_df(i)"
   ]
  },
  {
   "cell_type": "code",
   "execution_count": 230,
   "id": "a0f221b6",
   "metadata": {},
   "outputs": [
    {
     "name": "stdout",
     "output_type": "stream",
     "text": [
      "2TX3gfOXHHoHZiMLK0SVmq\n"
     ]
    },
    {
     "name": "stderr",
     "output_type": "stream",
     "text": [
      "/var/folders/1n/phyrz16s0rd1_mpv046jgqf80000gn/T/ipykernel_17629/3181457209.py:28: FutureWarning: The frame.append method is deprecated and will be removed from pandas in a future version. Use pandas.concat instead.\n",
      "  big_df =big_df.append(df)\n"
     ]
    },
    {
     "name": "stdout",
     "output_type": "stream",
     "text": [
      "52qm1kdbyMhYglyJTzEakf\n"
     ]
    },
    {
     "name": "stderr",
     "output_type": "stream",
     "text": [
      "/var/folders/1n/phyrz16s0rd1_mpv046jgqf80000gn/T/ipykernel_17629/3181457209.py:28: FutureWarning: The frame.append method is deprecated and will be removed from pandas in a future version. Use pandas.concat instead.\n",
      "  big_df =big_df.append(df)\n"
     ]
    },
    {
     "name": "stdout",
     "output_type": "stream",
     "text": [
      "6CXOnBtD2z6rNI9G6APj8X\n"
     ]
    },
    {
     "name": "stderr",
     "output_type": "stream",
     "text": [
      "/var/folders/1n/phyrz16s0rd1_mpv046jgqf80000gn/T/ipykernel_17629/3181457209.py:28: FutureWarning: The frame.append method is deprecated and will be removed from pandas in a future version. Use pandas.concat instead.\n",
      "  big_df =big_df.append(df)\n"
     ]
    },
    {
     "name": "stdout",
     "output_type": "stream",
     "text": [
      "1L5MigE9vLvXw3IuRMqST9\n"
     ]
    },
    {
     "name": "stderr",
     "output_type": "stream",
     "text": [
      "/var/folders/1n/phyrz16s0rd1_mpv046jgqf80000gn/T/ipykernel_17629/3181457209.py:28: FutureWarning: The frame.append method is deprecated and will be removed from pandas in a future version. Use pandas.concat instead.\n",
      "  big_df =big_df.append(df)\n"
     ]
    },
    {
     "name": "stdout",
     "output_type": "stream",
     "text": [
      "7f2DsDC8SQ14L8YOcYLOG6\n"
     ]
    },
    {
     "name": "stderr",
     "output_type": "stream",
     "text": [
      "/var/folders/1n/phyrz16s0rd1_mpv046jgqf80000gn/T/ipykernel_17629/3181457209.py:28: FutureWarning: The frame.append method is deprecated and will be removed from pandas in a future version. Use pandas.concat instead.\n",
      "  big_df =big_df.append(df)\n"
     ]
    },
    {
     "name": "stdout",
     "output_type": "stream",
     "text": [
      "5TQqMS1OBgLgi64wgDfgWB\n"
     ]
    },
    {
     "name": "stderr",
     "output_type": "stream",
     "text": [
      "/var/folders/1n/phyrz16s0rd1_mpv046jgqf80000gn/T/ipykernel_17629/3181457209.py:28: FutureWarning: The frame.append method is deprecated and will be removed from pandas in a future version. Use pandas.concat instead.\n",
      "  big_df =big_df.append(df)\n"
     ]
    },
    {
     "name": "stdout",
     "output_type": "stream",
     "text": [
      "46zaMGzDdLfisrtepPsZsO\n"
     ]
    },
    {
     "name": "stderr",
     "output_type": "stream",
     "text": [
      "/var/folders/1n/phyrz16s0rd1_mpv046jgqf80000gn/T/ipykernel_17629/3181457209.py:28: FutureWarning: The frame.append method is deprecated and will be removed from pandas in a future version. Use pandas.concat instead.\n",
      "  big_df =big_df.append(df)\n"
     ]
    },
    {
     "name": "stdout",
     "output_type": "stream",
     "text": [
      "2lZsuDl0JRkpDmZO9Poor1\n"
     ]
    },
    {
     "name": "stderr",
     "output_type": "stream",
     "text": [
      "/var/folders/1n/phyrz16s0rd1_mpv046jgqf80000gn/T/ipykernel_17629/3181457209.py:28: FutureWarning: The frame.append method is deprecated and will be removed from pandas in a future version. Use pandas.concat instead.\n",
      "  big_df =big_df.append(df)\n"
     ]
    },
    {
     "name": "stdout",
     "output_type": "stream",
     "text": [
      "3HUr4QyGI5W6iuK9enJBRq\n"
     ]
    },
    {
     "name": "stderr",
     "output_type": "stream",
     "text": [
      "/var/folders/1n/phyrz16s0rd1_mpv046jgqf80000gn/T/ipykernel_17629/3181457209.py:28: FutureWarning: The frame.append method is deprecated and will be removed from pandas in a future version. Use pandas.concat instead.\n",
      "  big_df =big_df.append(df)\n"
     ]
    },
    {
     "name": "stdout",
     "output_type": "stream",
     "text": [
      "3WBAHOaeWC5YPm6x72cfpv\n"
     ]
    },
    {
     "name": "stderr",
     "output_type": "stream",
     "text": [
      "/var/folders/1n/phyrz16s0rd1_mpv046jgqf80000gn/T/ipykernel_17629/3181457209.py:28: FutureWarning: The frame.append method is deprecated and will be removed from pandas in a future version. Use pandas.concat instead.\n",
      "  big_df =big_df.append(df)\n"
     ]
    },
    {
     "name": "stdout",
     "output_type": "stream",
     "text": [
      "1woPxeegfDWfKwxbBIRApW\n"
     ]
    },
    {
     "name": "stderr",
     "output_type": "stream",
     "text": [
      "/var/folders/1n/phyrz16s0rd1_mpv046jgqf80000gn/T/ipykernel_17629/3181457209.py:28: FutureWarning: The frame.append method is deprecated and will be removed from pandas in a future version. Use pandas.concat instead.\n",
      "  big_df =big_df.append(df)\n"
     ]
    },
    {
     "name": "stdout",
     "output_type": "stream",
     "text": [
      "7a1oABbPxSKFGu9UHx4oD9\n"
     ]
    },
    {
     "name": "stderr",
     "output_type": "stream",
     "text": [
      "/var/folders/1n/phyrz16s0rd1_mpv046jgqf80000gn/T/ipykernel_17629/3181457209.py:28: FutureWarning: The frame.append method is deprecated and will be removed from pandas in a future version. Use pandas.concat instead.\n",
      "  big_df =big_df.append(df)\n"
     ]
    },
    {
     "name": "stdout",
     "output_type": "stream",
     "text": [
      "6eA5u9ccVsxjn2iGAJ2Inq\n"
     ]
    },
    {
     "name": "stderr",
     "output_type": "stream",
     "text": [
      "/var/folders/1n/phyrz16s0rd1_mpv046jgqf80000gn/T/ipykernel_17629/3181457209.py:28: FutureWarning: The frame.append method is deprecated and will be removed from pandas in a future version. Use pandas.concat instead.\n",
      "  big_df =big_df.append(df)\n"
     ]
    },
    {
     "name": "stdout",
     "output_type": "stream",
     "text": [
      "1qZ6cyP2h2HwPSS0yAXvyb\n"
     ]
    },
    {
     "name": "stderr",
     "output_type": "stream",
     "text": [
      "/var/folders/1n/phyrz16s0rd1_mpv046jgqf80000gn/T/ipykernel_17629/3181457209.py:28: FutureWarning: The frame.append method is deprecated and will be removed from pandas in a future version. Use pandas.concat instead.\n",
      "  big_df =big_df.append(df)\n"
     ]
    },
    {
     "name": "stdout",
     "output_type": "stream",
     "text": [
      "5gq8uMPUlfKETqFUxujLIP\n"
     ]
    },
    {
     "name": "stderr",
     "output_type": "stream",
     "text": [
      "/var/folders/1n/phyrz16s0rd1_mpv046jgqf80000gn/T/ipykernel_17629/3181457209.py:28: FutureWarning: The frame.append method is deprecated and will be removed from pandas in a future version. Use pandas.concat instead.\n",
      "  big_df =big_df.append(df)\n"
     ]
    },
    {
     "name": "stdout",
     "output_type": "stream",
     "text": [
      "5YlKVBQiPIlV4uxyQVNmWm\n"
     ]
    },
    {
     "name": "stderr",
     "output_type": "stream",
     "text": [
      "/var/folders/1n/phyrz16s0rd1_mpv046jgqf80000gn/T/ipykernel_17629/3181457209.py:28: FutureWarning: The frame.append method is deprecated and will be removed from pandas in a future version. Use pandas.concat instead.\n",
      "  big_df =big_df.append(df)\n"
     ]
    },
    {
     "name": "stdout",
     "output_type": "stream",
     "text": [
      "7iRtqaM0fu2Ip8GzzceQzF\n"
     ]
    },
    {
     "name": "stderr",
     "output_type": "stream",
     "text": [
      "/var/folders/1n/phyrz16s0rd1_mpv046jgqf80000gn/T/ipykernel_17629/3181457209.py:28: FutureWarning: The frame.append method is deprecated and will be removed from pandas in a future version. Use pandas.concat instead.\n",
      "  big_df =big_df.append(df)\n"
     ]
    },
    {
     "name": "stdout",
     "output_type": "stream",
     "text": [
      "2fdUlsRORMQ1sM1SEPjDlE\n"
     ]
    },
    {
     "name": "stderr",
     "output_type": "stream",
     "text": [
      "/var/folders/1n/phyrz16s0rd1_mpv046jgqf80000gn/T/ipykernel_17629/3181457209.py:28: FutureWarning: The frame.append method is deprecated and will be removed from pandas in a future version. Use pandas.concat instead.\n",
      "  big_df =big_df.append(df)\n"
     ]
    },
    {
     "name": "stdout",
     "output_type": "stream",
     "text": [
      "4oaHLBPfa0FHBZqvCxpudp\n"
     ]
    },
    {
     "name": "stderr",
     "output_type": "stream",
     "text": [
      "/var/folders/1n/phyrz16s0rd1_mpv046jgqf80000gn/T/ipykernel_17629/3181457209.py:28: FutureWarning: The frame.append method is deprecated and will be removed from pandas in a future version. Use pandas.concat instead.\n",
      "  big_df =big_df.append(df)\n"
     ]
    },
    {
     "name": "stdout",
     "output_type": "stream",
     "text": [
      "1eWtvA0Byu9Wu7LENK35Dp\n"
     ]
    },
    {
     "name": "stderr",
     "output_type": "stream",
     "text": [
      "/var/folders/1n/phyrz16s0rd1_mpv046jgqf80000gn/T/ipykernel_17629/3181457209.py:28: FutureWarning: The frame.append method is deprecated and will be removed from pandas in a future version. Use pandas.concat instead.\n",
      "  big_df =big_df.append(df)\n"
     ]
    },
    {
     "name": "stdout",
     "output_type": "stream",
     "text": [
      "6dWBBpp1lebQAfwlMpnKfy\n"
     ]
    },
    {
     "name": "stderr",
     "output_type": "stream",
     "text": [
      "/var/folders/1n/phyrz16s0rd1_mpv046jgqf80000gn/T/ipykernel_17629/3181457209.py:28: FutureWarning: The frame.append method is deprecated and will be removed from pandas in a future version. Use pandas.concat instead.\n",
      "  big_df =big_df.append(df)\n"
     ]
    },
    {
     "name": "stdout",
     "output_type": "stream",
     "text": [
      "2Sca9Wv1kLiQJ8ARmFyN5I\n"
     ]
    },
    {
     "name": "stderr",
     "output_type": "stream",
     "text": [
      "/var/folders/1n/phyrz16s0rd1_mpv046jgqf80000gn/T/ipykernel_17629/3181457209.py:28: FutureWarning: The frame.append method is deprecated and will be removed from pandas in a future version. Use pandas.concat instead.\n",
      "  big_df =big_df.append(df)\n"
     ]
    },
    {
     "name": "stdout",
     "output_type": "stream",
     "text": [
      "4PRTrvutXqjv9Ec5CVO7w6\n"
     ]
    },
    {
     "name": "stderr",
     "output_type": "stream",
     "text": [
      "/var/folders/1n/phyrz16s0rd1_mpv046jgqf80000gn/T/ipykernel_17629/3181457209.py:28: FutureWarning: The frame.append method is deprecated and will be removed from pandas in a future version. Use pandas.concat instead.\n",
      "  big_df =big_df.append(df)\n"
     ]
    },
    {
     "name": "stdout",
     "output_type": "stream",
     "text": [
      "4XXr357Jej7eUBh7XPK8hb\n"
     ]
    },
    {
     "ename": "KeyboardInterrupt",
     "evalue": "",
     "output_type": "error",
     "traceback": [
      "\u001b[0;31m---------------------------------------------------------------------------\u001b[0m",
      "\u001b[0;31mgaierror\u001b[0m                                  Traceback (most recent call last)",
      "File \u001b[0;32m~/opt/anaconda3/lib/python3.9/urllib/request.py:2592\u001b[0m, in \u001b[0;36m_proxy_bypass_macosx_sysconf\u001b[0;34m(host, proxy_settings)\u001b[0m\n\u001b[1;32m   2591\u001b[0m \u001b[38;5;28;01mtry\u001b[39;00m:\n\u001b[0;32m-> 2592\u001b[0m     hostIP \u001b[38;5;241m=\u001b[39m \u001b[43msocket\u001b[49m\u001b[38;5;241;43m.\u001b[39;49m\u001b[43mgethostbyname\u001b[49m\u001b[43m(\u001b[49m\u001b[43mhostonly\u001b[49m\u001b[43m)\u001b[49m\n\u001b[1;32m   2593\u001b[0m     hostIP \u001b[38;5;241m=\u001b[39m ip2num(hostIP)\n",
      "\u001b[0;31mgaierror\u001b[0m: [Errno 8] nodename nor servname provided, or not known",
      "\nDuring handling of the above exception, another exception occurred:\n",
      "\u001b[0;31mKeyboardInterrupt\u001b[0m                         Traceback (most recent call last)",
      "Input \u001b[0;32mIn [230]\u001b[0m, in \u001b[0;36m<cell line: 1>\u001b[0;34m()\u001b[0m\n\u001b[1;32m      1\u001b[0m \u001b[38;5;28;01mfor\u001b[39;00m i  \u001b[38;5;129;01min\u001b[39;00m  result[\u001b[38;5;241m10\u001b[39m][\u001b[38;5;241m100\u001b[39m:\u001b[38;5;241m250\u001b[39m]:\n\u001b[1;32m      2\u001b[0m     \u001b[38;5;28mprint\u001b[39m(i)\n\u001b[0;32m----> 3\u001b[0m     \u001b[43mget_features_df\u001b[49m\u001b[43m(\u001b[49m\u001b[43mi\u001b[49m\u001b[43m)\u001b[49m\n",
      "Input \u001b[0;32mIn [4]\u001b[0m, in \u001b[0;36mget_features_df\u001b[0;34m(playlist_id)\u001b[0m\n\u001b[1;32m     15\u001b[0m \u001b[38;5;66;03m#getting features per song in  playlist \u001b[39;00m\n\u001b[1;32m     16\u001b[0m     \u001b[38;5;28;01mfor\u001b[39;00m value \u001b[38;5;129;01min\u001b[39;00m \u001b[38;5;28mrange\u001b[39m(\u001b[38;5;241m0\u001b[39m,\u001b[38;5;28mlen\u001b[39m(tracks)):\n\u001b[0;32m---> 18\u001b[0m         list_of_audio_features\u001b[38;5;241m.\u001b[39mappend(\u001b[43msp\u001b[49m\u001b[38;5;241;43m.\u001b[39;49m\u001b[43maudio_features\u001b[49m\u001b[43m(\u001b[49m\u001b[43mtracks\u001b[49m\u001b[43m[\u001b[49m\u001b[43mvalue\u001b[49m\u001b[43m]\u001b[49m\u001b[43m[\u001b[49m\u001b[38;5;124;43m\"\u001b[39;49m\u001b[38;5;124;43mtrack\u001b[39;49m\u001b[38;5;124;43m\"\u001b[39;49m\u001b[43m]\u001b[49m\u001b[43m[\u001b[49m\u001b[38;5;124;43m\"\u001b[39;49m\u001b[38;5;124;43mid\u001b[39;49m\u001b[38;5;124;43m\"\u001b[39;49m\u001b[43m]\u001b[49m\u001b[43m)\u001b[49m[\u001b[38;5;241m0\u001b[39m])\n\u001b[1;32m     21\u001b[0m \u001b[38;5;66;03m#creating df with audio features and adding song name and artist     \u001b[39;00m\n\u001b[1;32m     22\u001b[0m     df\u001b[38;5;241m=\u001b[39mpd\u001b[38;5;241m.\u001b[39mDataFrame(list_of_audio_features)    \n",
      "File \u001b[0;32m~/opt/anaconda3/lib/python3.9/site-packages/spotipy/client.py:1680\u001b[0m, in \u001b[0;36mSpotify.audio_features\u001b[0;34m(self, tracks)\u001b[0m\n\u001b[1;32m   1678\u001b[0m \u001b[38;5;28;01mif\u001b[39;00m \u001b[38;5;28misinstance\u001b[39m(tracks, \u001b[38;5;28mstr\u001b[39m):\n\u001b[1;32m   1679\u001b[0m     trackid \u001b[38;5;241m=\u001b[39m \u001b[38;5;28mself\u001b[39m\u001b[38;5;241m.\u001b[39m_get_id(\u001b[38;5;124m\"\u001b[39m\u001b[38;5;124mtrack\u001b[39m\u001b[38;5;124m\"\u001b[39m, tracks)\n\u001b[0;32m-> 1680\u001b[0m     results \u001b[38;5;241m=\u001b[39m \u001b[38;5;28;43mself\u001b[39;49m\u001b[38;5;241;43m.\u001b[39;49m\u001b[43m_get\u001b[49m\u001b[43m(\u001b[49m\u001b[38;5;124;43m\"\u001b[39;49m\u001b[38;5;124;43maudio-features/?ids=\u001b[39;49m\u001b[38;5;124;43m\"\u001b[39;49m\u001b[43m \u001b[49m\u001b[38;5;241;43m+\u001b[39;49m\u001b[43m \u001b[49m\u001b[43mtrackid\u001b[49m\u001b[43m)\u001b[49m\n\u001b[1;32m   1681\u001b[0m \u001b[38;5;28;01melse\u001b[39;00m:\n\u001b[1;32m   1682\u001b[0m     tlist \u001b[38;5;241m=\u001b[39m [\u001b[38;5;28mself\u001b[39m\u001b[38;5;241m.\u001b[39m_get_id(\u001b[38;5;124m\"\u001b[39m\u001b[38;5;124mtrack\u001b[39m\u001b[38;5;124m\"\u001b[39m, t) \u001b[38;5;28;01mfor\u001b[39;00m t \u001b[38;5;129;01min\u001b[39;00m tracks]\n",
      "File \u001b[0;32m~/opt/anaconda3/lib/python3.9/site-packages/spotipy/client.py:297\u001b[0m, in \u001b[0;36mSpotify._get\u001b[0;34m(self, url, args, payload, **kwargs)\u001b[0m\n\u001b[1;32m    294\u001b[0m \u001b[38;5;28;01mif\u001b[39;00m args:\n\u001b[1;32m    295\u001b[0m     kwargs\u001b[38;5;241m.\u001b[39mupdate(args)\n\u001b[0;32m--> 297\u001b[0m \u001b[38;5;28;01mreturn\u001b[39;00m \u001b[38;5;28;43mself\u001b[39;49m\u001b[38;5;241;43m.\u001b[39;49m\u001b[43m_internal_call\u001b[49m\u001b[43m(\u001b[49m\u001b[38;5;124;43m\"\u001b[39;49m\u001b[38;5;124;43mGET\u001b[39;49m\u001b[38;5;124;43m\"\u001b[39;49m\u001b[43m,\u001b[49m\u001b[43m \u001b[49m\u001b[43murl\u001b[49m\u001b[43m,\u001b[49m\u001b[43m \u001b[49m\u001b[43mpayload\u001b[49m\u001b[43m,\u001b[49m\u001b[43m \u001b[49m\u001b[43mkwargs\u001b[49m\u001b[43m)\u001b[49m\n",
      "File \u001b[0;32m~/opt/anaconda3/lib/python3.9/site-packages/spotipy/client.py:240\u001b[0m, in \u001b[0;36mSpotify._internal_call\u001b[0;34m(self, method, url, payload, params)\u001b[0m\n\u001b[1;32m    236\u001b[0m logger\u001b[38;5;241m.\u001b[39mdebug(\u001b[38;5;124m'\u001b[39m\u001b[38;5;124mSending \u001b[39m\u001b[38;5;132;01m%s\u001b[39;00m\u001b[38;5;124m to \u001b[39m\u001b[38;5;132;01m%s\u001b[39;00m\u001b[38;5;124m with Params: \u001b[39m\u001b[38;5;132;01m%s\u001b[39;00m\u001b[38;5;124m Headers: \u001b[39m\u001b[38;5;132;01m%s\u001b[39;00m\u001b[38;5;124m and Body: \u001b[39m\u001b[38;5;132;01m%r\u001b[39;00m\u001b[38;5;124m \u001b[39m\u001b[38;5;124m'\u001b[39m,\n\u001b[1;32m    237\u001b[0m              method, url, args\u001b[38;5;241m.\u001b[39mget(\u001b[38;5;124m\"\u001b[39m\u001b[38;5;124mparams\u001b[39m\u001b[38;5;124m\"\u001b[39m), headers, args\u001b[38;5;241m.\u001b[39mget(\u001b[38;5;124m'\u001b[39m\u001b[38;5;124mdata\u001b[39m\u001b[38;5;124m'\u001b[39m))\n\u001b[1;32m    239\u001b[0m \u001b[38;5;28;01mtry\u001b[39;00m:\n\u001b[0;32m--> 240\u001b[0m     response \u001b[38;5;241m=\u001b[39m \u001b[38;5;28;43mself\u001b[39;49m\u001b[38;5;241;43m.\u001b[39;49m\u001b[43m_session\u001b[49m\u001b[38;5;241;43m.\u001b[39;49m\u001b[43mrequest\u001b[49m\u001b[43m(\u001b[49m\n\u001b[1;32m    241\u001b[0m \u001b[43m        \u001b[49m\u001b[43mmethod\u001b[49m\u001b[43m,\u001b[49m\u001b[43m \u001b[49m\u001b[43murl\u001b[49m\u001b[43m,\u001b[49m\u001b[43m \u001b[49m\u001b[43mheaders\u001b[49m\u001b[38;5;241;43m=\u001b[39;49m\u001b[43mheaders\u001b[49m\u001b[43m,\u001b[49m\u001b[43m \u001b[49m\u001b[43mproxies\u001b[49m\u001b[38;5;241;43m=\u001b[39;49m\u001b[38;5;28;43mself\u001b[39;49m\u001b[38;5;241;43m.\u001b[39;49m\u001b[43mproxies\u001b[49m\u001b[43m,\u001b[49m\n\u001b[1;32m    242\u001b[0m \u001b[43m        \u001b[49m\u001b[43mtimeout\u001b[49m\u001b[38;5;241;43m=\u001b[39;49m\u001b[38;5;28;43mself\u001b[39;49m\u001b[38;5;241;43m.\u001b[39;49m\u001b[43mrequests_timeout\u001b[49m\u001b[43m,\u001b[49m\u001b[43m \u001b[49m\u001b[38;5;241;43m*\u001b[39;49m\u001b[38;5;241;43m*\u001b[39;49m\u001b[43margs\u001b[49m\n\u001b[1;32m    243\u001b[0m \u001b[43m    \u001b[49m\u001b[43m)\u001b[49m\n\u001b[1;32m    245\u001b[0m     response\u001b[38;5;241m.\u001b[39mraise_for_status()\n\u001b[1;32m    246\u001b[0m     results \u001b[38;5;241m=\u001b[39m response\u001b[38;5;241m.\u001b[39mjson()\n",
      "File \u001b[0;32m~/opt/anaconda3/lib/python3.9/site-packages/requests/sessions.py:519\u001b[0m, in \u001b[0;36mSession.request\u001b[0;34m(self, method, url, params, data, headers, cookies, files, auth, timeout, allow_redirects, proxies, hooks, stream, verify, cert, json)\u001b[0m\n\u001b[1;32m    515\u001b[0m prep \u001b[38;5;241m=\u001b[39m \u001b[38;5;28mself\u001b[39m\u001b[38;5;241m.\u001b[39mprepare_request(req)\n\u001b[1;32m    517\u001b[0m proxies \u001b[38;5;241m=\u001b[39m proxies \u001b[38;5;129;01mor\u001b[39;00m {}\n\u001b[0;32m--> 519\u001b[0m settings \u001b[38;5;241m=\u001b[39m \u001b[38;5;28;43mself\u001b[39;49m\u001b[38;5;241;43m.\u001b[39;49m\u001b[43mmerge_environment_settings\u001b[49m\u001b[43m(\u001b[49m\n\u001b[1;32m    520\u001b[0m \u001b[43m    \u001b[49m\u001b[43mprep\u001b[49m\u001b[38;5;241;43m.\u001b[39;49m\u001b[43murl\u001b[49m\u001b[43m,\u001b[49m\u001b[43m \u001b[49m\u001b[43mproxies\u001b[49m\u001b[43m,\u001b[49m\u001b[43m \u001b[49m\u001b[43mstream\u001b[49m\u001b[43m,\u001b[49m\u001b[43m \u001b[49m\u001b[43mverify\u001b[49m\u001b[43m,\u001b[49m\u001b[43m \u001b[49m\u001b[43mcert\u001b[49m\n\u001b[1;32m    521\u001b[0m \u001b[43m\u001b[49m\u001b[43m)\u001b[49m\n\u001b[1;32m    523\u001b[0m \u001b[38;5;66;03m# Send the request.\u001b[39;00m\n\u001b[1;32m    524\u001b[0m send_kwargs \u001b[38;5;241m=\u001b[39m {\n\u001b[1;32m    525\u001b[0m     \u001b[38;5;124m'\u001b[39m\u001b[38;5;124mtimeout\u001b[39m\u001b[38;5;124m'\u001b[39m: timeout,\n\u001b[1;32m    526\u001b[0m     \u001b[38;5;124m'\u001b[39m\u001b[38;5;124mallow_redirects\u001b[39m\u001b[38;5;124m'\u001b[39m: allow_redirects,\n\u001b[1;32m    527\u001b[0m }\n",
      "File \u001b[0;32m~/opt/anaconda3/lib/python3.9/site-packages/requests/sessions.py:701\u001b[0m, in \u001b[0;36mSession.merge_environment_settings\u001b[0;34m(self, url, proxies, stream, verify, cert)\u001b[0m\n\u001b[1;32m    698\u001b[0m \u001b[38;5;28;01mif\u001b[39;00m \u001b[38;5;28mself\u001b[39m\u001b[38;5;241m.\u001b[39mtrust_env:\n\u001b[1;32m    699\u001b[0m     \u001b[38;5;66;03m# Set environment's proxies.\u001b[39;00m\n\u001b[1;32m    700\u001b[0m     no_proxy \u001b[38;5;241m=\u001b[39m proxies\u001b[38;5;241m.\u001b[39mget(\u001b[38;5;124m'\u001b[39m\u001b[38;5;124mno_proxy\u001b[39m\u001b[38;5;124m'\u001b[39m) \u001b[38;5;28;01mif\u001b[39;00m proxies \u001b[38;5;129;01mis\u001b[39;00m \u001b[38;5;129;01mnot\u001b[39;00m \u001b[38;5;28;01mNone\u001b[39;00m \u001b[38;5;28;01melse\u001b[39;00m \u001b[38;5;28;01mNone\u001b[39;00m\n\u001b[0;32m--> 701\u001b[0m     env_proxies \u001b[38;5;241m=\u001b[39m \u001b[43mget_environ_proxies\u001b[49m\u001b[43m(\u001b[49m\u001b[43murl\u001b[49m\u001b[43m,\u001b[49m\u001b[43m \u001b[49m\u001b[43mno_proxy\u001b[49m\u001b[38;5;241;43m=\u001b[39;49m\u001b[43mno_proxy\u001b[49m\u001b[43m)\u001b[49m\n\u001b[1;32m    702\u001b[0m     \u001b[38;5;28;01mfor\u001b[39;00m (k, v) \u001b[38;5;129;01min\u001b[39;00m env_proxies\u001b[38;5;241m.\u001b[39mitems():\n\u001b[1;32m    703\u001b[0m         proxies\u001b[38;5;241m.\u001b[39msetdefault(k, v)\n",
      "File \u001b[0;32m~/opt/anaconda3/lib/python3.9/site-packages/requests/utils.py:805\u001b[0m, in \u001b[0;36mget_environ_proxies\u001b[0;34m(url, no_proxy)\u001b[0m\n\u001b[1;32m    799\u001b[0m \u001b[38;5;28;01mdef\u001b[39;00m \u001b[38;5;21mget_environ_proxies\u001b[39m(url, no_proxy\u001b[38;5;241m=\u001b[39m\u001b[38;5;28;01mNone\u001b[39;00m):\n\u001b[1;32m    800\u001b[0m     \u001b[38;5;124;03m\"\"\"\u001b[39;00m\n\u001b[1;32m    801\u001b[0m \u001b[38;5;124;03m    Return a dict of environment proxies.\u001b[39;00m\n\u001b[1;32m    802\u001b[0m \n\u001b[1;32m    803\u001b[0m \u001b[38;5;124;03m    :rtype: dict\u001b[39;00m\n\u001b[1;32m    804\u001b[0m \u001b[38;5;124;03m    \"\"\"\u001b[39;00m\n\u001b[0;32m--> 805\u001b[0m     \u001b[38;5;28;01mif\u001b[39;00m \u001b[43mshould_bypass_proxies\u001b[49m\u001b[43m(\u001b[49m\u001b[43murl\u001b[49m\u001b[43m,\u001b[49m\u001b[43m \u001b[49m\u001b[43mno_proxy\u001b[49m\u001b[38;5;241;43m=\u001b[39;49m\u001b[43mno_proxy\u001b[49m\u001b[43m)\u001b[49m:\n\u001b[1;32m    806\u001b[0m         \u001b[38;5;28;01mreturn\u001b[39;00m {}\n\u001b[1;32m    807\u001b[0m     \u001b[38;5;28;01melse\u001b[39;00m:\n",
      "File \u001b[0;32m~/opt/anaconda3/lib/python3.9/site-packages/requests/utils.py:789\u001b[0m, in \u001b[0;36mshould_bypass_proxies\u001b[0;34m(url, no_proxy)\u001b[0m\n\u001b[1;32m    786\u001b[0m \u001b[38;5;28;01mwith\u001b[39;00m set_environ(\u001b[38;5;124m'\u001b[39m\u001b[38;5;124mno_proxy\u001b[39m\u001b[38;5;124m'\u001b[39m, no_proxy_arg):\n\u001b[1;32m    787\u001b[0m     \u001b[38;5;66;03m# parsed.hostname can be `None` in cases such as a file URI.\u001b[39;00m\n\u001b[1;32m    788\u001b[0m     \u001b[38;5;28;01mtry\u001b[39;00m:\n\u001b[0;32m--> 789\u001b[0m         bypass \u001b[38;5;241m=\u001b[39m \u001b[43mproxy_bypass\u001b[49m\u001b[43m(\u001b[49m\u001b[43mparsed\u001b[49m\u001b[38;5;241;43m.\u001b[39;49m\u001b[43mhostname\u001b[49m\u001b[43m)\u001b[49m\n\u001b[1;32m    790\u001b[0m     \u001b[38;5;28;01mexcept\u001b[39;00m (\u001b[38;5;167;01mTypeError\u001b[39;00m, socket\u001b[38;5;241m.\u001b[39mgaierror):\n\u001b[1;32m    791\u001b[0m         bypass \u001b[38;5;241m=\u001b[39m \u001b[38;5;28;01mFalse\u001b[39;00m\n",
      "File \u001b[0;32m~/opt/anaconda3/lib/python3.9/urllib/request.py:2647\u001b[0m, in \u001b[0;36mproxy_bypass\u001b[0;34m(host)\u001b[0m\n\u001b[1;32m   2645\u001b[0m     \u001b[38;5;28;01mreturn\u001b[39;00m proxy_bypass_environment(host, proxies)\n\u001b[1;32m   2646\u001b[0m \u001b[38;5;28;01melse\u001b[39;00m:\n\u001b[0;32m-> 2647\u001b[0m     \u001b[38;5;28;01mreturn\u001b[39;00m \u001b[43mproxy_bypass_macosx_sysconf\u001b[49m\u001b[43m(\u001b[49m\u001b[43mhost\u001b[49m\u001b[43m)\u001b[49m\n",
      "File \u001b[0;32m~/opt/anaconda3/lib/python3.9/urllib/request.py:2624\u001b[0m, in \u001b[0;36mproxy_bypass_macosx_sysconf\u001b[0;34m(host)\u001b[0m\n\u001b[1;32m   2622\u001b[0m \u001b[38;5;28;01mdef\u001b[39;00m \u001b[38;5;21mproxy_bypass_macosx_sysconf\u001b[39m(host):\n\u001b[1;32m   2623\u001b[0m     proxy_settings \u001b[38;5;241m=\u001b[39m _get_proxy_settings()\n\u001b[0;32m-> 2624\u001b[0m     \u001b[38;5;28;01mreturn\u001b[39;00m \u001b[43m_proxy_bypass_macosx_sysconf\u001b[49m\u001b[43m(\u001b[49m\u001b[43mhost\u001b[49m\u001b[43m,\u001b[49m\u001b[43m \u001b[49m\u001b[43mproxy_settings\u001b[49m\u001b[43m)\u001b[49m\n",
      "File \u001b[0;32m~/opt/anaconda3/lib/python3.9/urllib/request.py:2592\u001b[0m, in \u001b[0;36m_proxy_bypass_macosx_sysconf\u001b[0;34m(host, proxy_settings)\u001b[0m\n\u001b[1;32m   2590\u001b[0m \u001b[38;5;28;01mif\u001b[39;00m hostIP \u001b[38;5;129;01mis\u001b[39;00m \u001b[38;5;28;01mNone\u001b[39;00m:\n\u001b[1;32m   2591\u001b[0m     \u001b[38;5;28;01mtry\u001b[39;00m:\n\u001b[0;32m-> 2592\u001b[0m         hostIP \u001b[38;5;241m=\u001b[39m \u001b[43msocket\u001b[49m\u001b[38;5;241;43m.\u001b[39;49m\u001b[43mgethostbyname\u001b[49m\u001b[43m(\u001b[49m\u001b[43mhostonly\u001b[49m\u001b[43m)\u001b[49m\n\u001b[1;32m   2593\u001b[0m         hostIP \u001b[38;5;241m=\u001b[39m ip2num(hostIP)\n\u001b[1;32m   2594\u001b[0m     \u001b[38;5;28;01mexcept\u001b[39;00m \u001b[38;5;167;01mOSError\u001b[39;00m:\n",
      "\u001b[0;31mKeyboardInterrupt\u001b[0m: "
     ]
    }
   ],
   "source": [
    "for i  in  result[10][100:250]:\n",
    "    print(i)\n",
    "    get_features_df(i)"
   ]
  },
  {
   "cell_type": "code",
   "execution_count": 227,
   "id": "72926390",
   "metadata": {},
   "outputs": [
    {
     "name": "stdout",
     "output_type": "stream",
     "text": [
      "7AWU30giFff2HhHrApuFGz\n"
     ]
    },
    {
     "ename": "ConnectionError",
     "evalue": "('Connection aborted.', ConnectionResetError(54, 'Connection reset by peer'))",
     "output_type": "error",
     "traceback": [
      "\u001b[0;31m---------------------------------------------------------------------------\u001b[0m",
      "\u001b[0;31mConnectionResetError\u001b[0m                      Traceback (most recent call last)",
      "File \u001b[0;32m~/opt/anaconda3/lib/python3.9/site-packages/urllib3/connectionpool.py:703\u001b[0m, in \u001b[0;36mHTTPConnectionPool.urlopen\u001b[0;34m(self, method, url, body, headers, retries, redirect, assert_same_host, timeout, pool_timeout, release_conn, chunked, body_pos, **response_kw)\u001b[0m\n\u001b[1;32m    702\u001b[0m \u001b[38;5;66;03m# Make the request on the httplib connection object.\u001b[39;00m\n\u001b[0;32m--> 703\u001b[0m httplib_response \u001b[38;5;241m=\u001b[39m \u001b[38;5;28;43mself\u001b[39;49m\u001b[38;5;241;43m.\u001b[39;49m\u001b[43m_make_request\u001b[49m\u001b[43m(\u001b[49m\n\u001b[1;32m    704\u001b[0m \u001b[43m    \u001b[49m\u001b[43mconn\u001b[49m\u001b[43m,\u001b[49m\n\u001b[1;32m    705\u001b[0m \u001b[43m    \u001b[49m\u001b[43mmethod\u001b[49m\u001b[43m,\u001b[49m\n\u001b[1;32m    706\u001b[0m \u001b[43m    \u001b[49m\u001b[43murl\u001b[49m\u001b[43m,\u001b[49m\n\u001b[1;32m    707\u001b[0m \u001b[43m    \u001b[49m\u001b[43mtimeout\u001b[49m\u001b[38;5;241;43m=\u001b[39;49m\u001b[43mtimeout_obj\u001b[49m\u001b[43m,\u001b[49m\n\u001b[1;32m    708\u001b[0m \u001b[43m    \u001b[49m\u001b[43mbody\u001b[49m\u001b[38;5;241;43m=\u001b[39;49m\u001b[43mbody\u001b[49m\u001b[43m,\u001b[49m\n\u001b[1;32m    709\u001b[0m \u001b[43m    \u001b[49m\u001b[43mheaders\u001b[49m\u001b[38;5;241;43m=\u001b[39;49m\u001b[43mheaders\u001b[49m\u001b[43m,\u001b[49m\n\u001b[1;32m    710\u001b[0m \u001b[43m    \u001b[49m\u001b[43mchunked\u001b[49m\u001b[38;5;241;43m=\u001b[39;49m\u001b[43mchunked\u001b[49m\u001b[43m,\u001b[49m\n\u001b[1;32m    711\u001b[0m \u001b[43m\u001b[49m\u001b[43m)\u001b[49m\n\u001b[1;32m    713\u001b[0m \u001b[38;5;66;03m# If we're going to release the connection in ``finally:``, then\u001b[39;00m\n\u001b[1;32m    714\u001b[0m \u001b[38;5;66;03m# the response doesn't need to know about the connection. Otherwise\u001b[39;00m\n\u001b[1;32m    715\u001b[0m \u001b[38;5;66;03m# it will also try to release it and we'll have a double-release\u001b[39;00m\n\u001b[1;32m    716\u001b[0m \u001b[38;5;66;03m# mess.\u001b[39;00m\n",
      "File \u001b[0;32m~/opt/anaconda3/lib/python3.9/site-packages/urllib3/connectionpool.py:449\u001b[0m, in \u001b[0;36mHTTPConnectionPool._make_request\u001b[0;34m(self, conn, method, url, timeout, chunked, **httplib_request_kw)\u001b[0m\n\u001b[1;32m    445\u001b[0m         \u001b[38;5;28;01mexcept\u001b[39;00m \u001b[38;5;167;01mBaseException\u001b[39;00m \u001b[38;5;28;01mas\u001b[39;00m e:\n\u001b[1;32m    446\u001b[0m             \u001b[38;5;66;03m# Remove the TypeError from the exception chain in\u001b[39;00m\n\u001b[1;32m    447\u001b[0m             \u001b[38;5;66;03m# Python 3 (including for exceptions like SystemExit).\u001b[39;00m\n\u001b[1;32m    448\u001b[0m             \u001b[38;5;66;03m# Otherwise it looks like a bug in the code.\u001b[39;00m\n\u001b[0;32m--> 449\u001b[0m             \u001b[43msix\u001b[49m\u001b[38;5;241;43m.\u001b[39;49m\u001b[43mraise_from\u001b[49m\u001b[43m(\u001b[49m\u001b[43me\u001b[49m\u001b[43m,\u001b[49m\u001b[43m \u001b[49m\u001b[38;5;28;43;01mNone\u001b[39;49;00m\u001b[43m)\u001b[49m\n\u001b[1;32m    450\u001b[0m \u001b[38;5;28;01mexcept\u001b[39;00m (SocketTimeout, BaseSSLError, SocketError) \u001b[38;5;28;01mas\u001b[39;00m e:\n",
      "File \u001b[0;32m<string>:3\u001b[0m, in \u001b[0;36mraise_from\u001b[0;34m(value, from_value)\u001b[0m\n",
      "File \u001b[0;32m~/opt/anaconda3/lib/python3.9/site-packages/urllib3/connectionpool.py:444\u001b[0m, in \u001b[0;36mHTTPConnectionPool._make_request\u001b[0;34m(self, conn, method, url, timeout, chunked, **httplib_request_kw)\u001b[0m\n\u001b[1;32m    443\u001b[0m \u001b[38;5;28;01mtry\u001b[39;00m:\n\u001b[0;32m--> 444\u001b[0m     httplib_response \u001b[38;5;241m=\u001b[39m \u001b[43mconn\u001b[49m\u001b[38;5;241;43m.\u001b[39;49m\u001b[43mgetresponse\u001b[49m\u001b[43m(\u001b[49m\u001b[43m)\u001b[49m\n\u001b[1;32m    445\u001b[0m \u001b[38;5;28;01mexcept\u001b[39;00m \u001b[38;5;167;01mBaseException\u001b[39;00m \u001b[38;5;28;01mas\u001b[39;00m e:\n\u001b[1;32m    446\u001b[0m     \u001b[38;5;66;03m# Remove the TypeError from the exception chain in\u001b[39;00m\n\u001b[1;32m    447\u001b[0m     \u001b[38;5;66;03m# Python 3 (including for exceptions like SystemExit).\u001b[39;00m\n\u001b[1;32m    448\u001b[0m     \u001b[38;5;66;03m# Otherwise it looks like a bug in the code.\u001b[39;00m\n",
      "File \u001b[0;32m~/opt/anaconda3/lib/python3.9/http/client.py:1377\u001b[0m, in \u001b[0;36mHTTPConnection.getresponse\u001b[0;34m(self)\u001b[0m\n\u001b[1;32m   1376\u001b[0m \u001b[38;5;28;01mtry\u001b[39;00m:\n\u001b[0;32m-> 1377\u001b[0m     \u001b[43mresponse\u001b[49m\u001b[38;5;241;43m.\u001b[39;49m\u001b[43mbegin\u001b[49m\u001b[43m(\u001b[49m\u001b[43m)\u001b[49m\n\u001b[1;32m   1378\u001b[0m \u001b[38;5;28;01mexcept\u001b[39;00m \u001b[38;5;167;01mConnectionError\u001b[39;00m:\n",
      "File \u001b[0;32m~/opt/anaconda3/lib/python3.9/http/client.py:320\u001b[0m, in \u001b[0;36mHTTPResponse.begin\u001b[0;34m(self)\u001b[0m\n\u001b[1;32m    319\u001b[0m \u001b[38;5;28;01mwhile\u001b[39;00m \u001b[38;5;28;01mTrue\u001b[39;00m:\n\u001b[0;32m--> 320\u001b[0m     version, status, reason \u001b[38;5;241m=\u001b[39m \u001b[38;5;28;43mself\u001b[39;49m\u001b[38;5;241;43m.\u001b[39;49m\u001b[43m_read_status\u001b[49m\u001b[43m(\u001b[49m\u001b[43m)\u001b[49m\n\u001b[1;32m    321\u001b[0m     \u001b[38;5;28;01mif\u001b[39;00m status \u001b[38;5;241m!=\u001b[39m CONTINUE:\n",
      "File \u001b[0;32m~/opt/anaconda3/lib/python3.9/http/client.py:281\u001b[0m, in \u001b[0;36mHTTPResponse._read_status\u001b[0;34m(self)\u001b[0m\n\u001b[1;32m    280\u001b[0m \u001b[38;5;28;01mdef\u001b[39;00m \u001b[38;5;21m_read_status\u001b[39m(\u001b[38;5;28mself\u001b[39m):\n\u001b[0;32m--> 281\u001b[0m     line \u001b[38;5;241m=\u001b[39m \u001b[38;5;28mstr\u001b[39m(\u001b[38;5;28;43mself\u001b[39;49m\u001b[38;5;241;43m.\u001b[39;49m\u001b[43mfp\u001b[49m\u001b[38;5;241;43m.\u001b[39;49m\u001b[43mreadline\u001b[49m\u001b[43m(\u001b[49m\u001b[43m_MAXLINE\u001b[49m\u001b[43m \u001b[49m\u001b[38;5;241;43m+\u001b[39;49m\u001b[43m \u001b[49m\u001b[38;5;241;43m1\u001b[39;49m\u001b[43m)\u001b[49m, \u001b[38;5;124m\"\u001b[39m\u001b[38;5;124miso-8859-1\u001b[39m\u001b[38;5;124m\"\u001b[39m)\n\u001b[1;32m    282\u001b[0m     \u001b[38;5;28;01mif\u001b[39;00m \u001b[38;5;28mlen\u001b[39m(line) \u001b[38;5;241m>\u001b[39m _MAXLINE:\n",
      "File \u001b[0;32m~/opt/anaconda3/lib/python3.9/socket.py:704\u001b[0m, in \u001b[0;36mSocketIO.readinto\u001b[0;34m(self, b)\u001b[0m\n\u001b[1;32m    703\u001b[0m \u001b[38;5;28;01mtry\u001b[39;00m:\n\u001b[0;32m--> 704\u001b[0m     \u001b[38;5;28;01mreturn\u001b[39;00m \u001b[38;5;28;43mself\u001b[39;49m\u001b[38;5;241;43m.\u001b[39;49m\u001b[43m_sock\u001b[49m\u001b[38;5;241;43m.\u001b[39;49m\u001b[43mrecv_into\u001b[49m\u001b[43m(\u001b[49m\u001b[43mb\u001b[49m\u001b[43m)\u001b[49m\n\u001b[1;32m    705\u001b[0m \u001b[38;5;28;01mexcept\u001b[39;00m timeout:\n",
      "File \u001b[0;32m~/opt/anaconda3/lib/python3.9/ssl.py:1241\u001b[0m, in \u001b[0;36mSSLSocket.recv_into\u001b[0;34m(self, buffer, nbytes, flags)\u001b[0m\n\u001b[1;32m   1238\u001b[0m         \u001b[38;5;28;01mraise\u001b[39;00m \u001b[38;5;167;01mValueError\u001b[39;00m(\n\u001b[1;32m   1239\u001b[0m           \u001b[38;5;124m\"\u001b[39m\u001b[38;5;124mnon-zero flags not allowed in calls to recv_into() on \u001b[39m\u001b[38;5;132;01m%s\u001b[39;00m\u001b[38;5;124m\"\u001b[39m \u001b[38;5;241m%\u001b[39m\n\u001b[1;32m   1240\u001b[0m           \u001b[38;5;28mself\u001b[39m\u001b[38;5;241m.\u001b[39m\u001b[38;5;18m__class__\u001b[39m)\n\u001b[0;32m-> 1241\u001b[0m     \u001b[38;5;28;01mreturn\u001b[39;00m \u001b[38;5;28;43mself\u001b[39;49m\u001b[38;5;241;43m.\u001b[39;49m\u001b[43mread\u001b[49m\u001b[43m(\u001b[49m\u001b[43mnbytes\u001b[49m\u001b[43m,\u001b[49m\u001b[43m \u001b[49m\u001b[43mbuffer\u001b[49m\u001b[43m)\u001b[49m\n\u001b[1;32m   1242\u001b[0m \u001b[38;5;28;01melse\u001b[39;00m:\n",
      "File \u001b[0;32m~/opt/anaconda3/lib/python3.9/ssl.py:1099\u001b[0m, in \u001b[0;36mSSLSocket.read\u001b[0;34m(self, len, buffer)\u001b[0m\n\u001b[1;32m   1098\u001b[0m \u001b[38;5;28;01mif\u001b[39;00m buffer \u001b[38;5;129;01mis\u001b[39;00m \u001b[38;5;129;01mnot\u001b[39;00m \u001b[38;5;28;01mNone\u001b[39;00m:\n\u001b[0;32m-> 1099\u001b[0m     \u001b[38;5;28;01mreturn\u001b[39;00m \u001b[38;5;28;43mself\u001b[39;49m\u001b[38;5;241;43m.\u001b[39;49m\u001b[43m_sslobj\u001b[49m\u001b[38;5;241;43m.\u001b[39;49m\u001b[43mread\u001b[49m\u001b[43m(\u001b[49m\u001b[38;5;28;43mlen\u001b[39;49m\u001b[43m,\u001b[49m\u001b[43m \u001b[49m\u001b[43mbuffer\u001b[49m\u001b[43m)\u001b[49m\n\u001b[1;32m   1100\u001b[0m \u001b[38;5;28;01melse\u001b[39;00m:\n",
      "\u001b[0;31mConnectionResetError\u001b[0m: [Errno 54] Connection reset by peer",
      "\nDuring handling of the above exception, another exception occurred:\n",
      "\u001b[0;31mProtocolError\u001b[0m                             Traceback (most recent call last)",
      "File \u001b[0;32m~/opt/anaconda3/lib/python3.9/site-packages/requests/adapters.py:440\u001b[0m, in \u001b[0;36mHTTPAdapter.send\u001b[0;34m(self, request, stream, timeout, verify, cert, proxies)\u001b[0m\n\u001b[1;32m    439\u001b[0m \u001b[38;5;28;01mif\u001b[39;00m \u001b[38;5;129;01mnot\u001b[39;00m chunked:\n\u001b[0;32m--> 440\u001b[0m     resp \u001b[38;5;241m=\u001b[39m \u001b[43mconn\u001b[49m\u001b[38;5;241;43m.\u001b[39;49m\u001b[43murlopen\u001b[49m\u001b[43m(\u001b[49m\n\u001b[1;32m    441\u001b[0m \u001b[43m        \u001b[49m\u001b[43mmethod\u001b[49m\u001b[38;5;241;43m=\u001b[39;49m\u001b[43mrequest\u001b[49m\u001b[38;5;241;43m.\u001b[39;49m\u001b[43mmethod\u001b[49m\u001b[43m,\u001b[49m\n\u001b[1;32m    442\u001b[0m \u001b[43m        \u001b[49m\u001b[43murl\u001b[49m\u001b[38;5;241;43m=\u001b[39;49m\u001b[43murl\u001b[49m\u001b[43m,\u001b[49m\n\u001b[1;32m    443\u001b[0m \u001b[43m        \u001b[49m\u001b[43mbody\u001b[49m\u001b[38;5;241;43m=\u001b[39;49m\u001b[43mrequest\u001b[49m\u001b[38;5;241;43m.\u001b[39;49m\u001b[43mbody\u001b[49m\u001b[43m,\u001b[49m\n\u001b[1;32m    444\u001b[0m \u001b[43m        \u001b[49m\u001b[43mheaders\u001b[49m\u001b[38;5;241;43m=\u001b[39;49m\u001b[43mrequest\u001b[49m\u001b[38;5;241;43m.\u001b[39;49m\u001b[43mheaders\u001b[49m\u001b[43m,\u001b[49m\n\u001b[1;32m    445\u001b[0m \u001b[43m        \u001b[49m\u001b[43mredirect\u001b[49m\u001b[38;5;241;43m=\u001b[39;49m\u001b[38;5;28;43;01mFalse\u001b[39;49;00m\u001b[43m,\u001b[49m\n\u001b[1;32m    446\u001b[0m \u001b[43m        \u001b[49m\u001b[43massert_same_host\u001b[49m\u001b[38;5;241;43m=\u001b[39;49m\u001b[38;5;28;43;01mFalse\u001b[39;49;00m\u001b[43m,\u001b[49m\n\u001b[1;32m    447\u001b[0m \u001b[43m        \u001b[49m\u001b[43mpreload_content\u001b[49m\u001b[38;5;241;43m=\u001b[39;49m\u001b[38;5;28;43;01mFalse\u001b[39;49;00m\u001b[43m,\u001b[49m\n\u001b[1;32m    448\u001b[0m \u001b[43m        \u001b[49m\u001b[43mdecode_content\u001b[49m\u001b[38;5;241;43m=\u001b[39;49m\u001b[38;5;28;43;01mFalse\u001b[39;49;00m\u001b[43m,\u001b[49m\n\u001b[1;32m    449\u001b[0m \u001b[43m        \u001b[49m\u001b[43mretries\u001b[49m\u001b[38;5;241;43m=\u001b[39;49m\u001b[38;5;28;43mself\u001b[39;49m\u001b[38;5;241;43m.\u001b[39;49m\u001b[43mmax_retries\u001b[49m\u001b[43m,\u001b[49m\n\u001b[1;32m    450\u001b[0m \u001b[43m        \u001b[49m\u001b[43mtimeout\u001b[49m\u001b[38;5;241;43m=\u001b[39;49m\u001b[43mtimeout\u001b[49m\n\u001b[1;32m    451\u001b[0m \u001b[43m    \u001b[49m\u001b[43m)\u001b[49m\n\u001b[1;32m    453\u001b[0m \u001b[38;5;66;03m# Send the request.\u001b[39;00m\n\u001b[1;32m    454\u001b[0m \u001b[38;5;28;01melse\u001b[39;00m:\n",
      "File \u001b[0;32m~/opt/anaconda3/lib/python3.9/site-packages/urllib3/connectionpool.py:785\u001b[0m, in \u001b[0;36mHTTPConnectionPool.urlopen\u001b[0;34m(self, method, url, body, headers, retries, redirect, assert_same_host, timeout, pool_timeout, release_conn, chunked, body_pos, **response_kw)\u001b[0m\n\u001b[1;32m    783\u001b[0m     e \u001b[38;5;241m=\u001b[39m ProtocolError(\u001b[38;5;124m\"\u001b[39m\u001b[38;5;124mConnection aborted.\u001b[39m\u001b[38;5;124m\"\u001b[39m, e)\n\u001b[0;32m--> 785\u001b[0m retries \u001b[38;5;241m=\u001b[39m \u001b[43mretries\u001b[49m\u001b[38;5;241;43m.\u001b[39;49m\u001b[43mincrement\u001b[49m\u001b[43m(\u001b[49m\n\u001b[1;32m    786\u001b[0m \u001b[43m    \u001b[49m\u001b[43mmethod\u001b[49m\u001b[43m,\u001b[49m\u001b[43m \u001b[49m\u001b[43murl\u001b[49m\u001b[43m,\u001b[49m\u001b[43m \u001b[49m\u001b[43merror\u001b[49m\u001b[38;5;241;43m=\u001b[39;49m\u001b[43me\u001b[49m\u001b[43m,\u001b[49m\u001b[43m \u001b[49m\u001b[43m_pool\u001b[49m\u001b[38;5;241;43m=\u001b[39;49m\u001b[38;5;28;43mself\u001b[39;49m\u001b[43m,\u001b[49m\u001b[43m \u001b[49m\u001b[43m_stacktrace\u001b[49m\u001b[38;5;241;43m=\u001b[39;49m\u001b[43msys\u001b[49m\u001b[38;5;241;43m.\u001b[39;49m\u001b[43mexc_info\u001b[49m\u001b[43m(\u001b[49m\u001b[43m)\u001b[49m\u001b[43m[\u001b[49m\u001b[38;5;241;43m2\u001b[39;49m\u001b[43m]\u001b[49m\n\u001b[1;32m    787\u001b[0m \u001b[43m\u001b[49m\u001b[43m)\u001b[49m\n\u001b[1;32m    788\u001b[0m retries\u001b[38;5;241m.\u001b[39msleep()\n",
      "File \u001b[0;32m~/opt/anaconda3/lib/python3.9/site-packages/urllib3/util/retry.py:550\u001b[0m, in \u001b[0;36mRetry.increment\u001b[0;34m(self, method, url, response, error, _pool, _stacktrace)\u001b[0m\n\u001b[1;32m    549\u001b[0m \u001b[38;5;28;01mif\u001b[39;00m read \u001b[38;5;129;01mis\u001b[39;00m \u001b[38;5;28;01mFalse\u001b[39;00m \u001b[38;5;129;01mor\u001b[39;00m \u001b[38;5;129;01mnot\u001b[39;00m \u001b[38;5;28mself\u001b[39m\u001b[38;5;241m.\u001b[39m_is_method_retryable(method):\n\u001b[0;32m--> 550\u001b[0m     \u001b[38;5;28;01mraise\u001b[39;00m \u001b[43msix\u001b[49m\u001b[38;5;241;43m.\u001b[39;49m\u001b[43mreraise\u001b[49m\u001b[43m(\u001b[49m\u001b[38;5;28;43mtype\u001b[39;49m\u001b[43m(\u001b[49m\u001b[43merror\u001b[49m\u001b[43m)\u001b[49m\u001b[43m,\u001b[49m\u001b[43m \u001b[49m\u001b[43merror\u001b[49m\u001b[43m,\u001b[49m\u001b[43m \u001b[49m\u001b[43m_stacktrace\u001b[49m\u001b[43m)\u001b[49m\n\u001b[1;32m    551\u001b[0m \u001b[38;5;28;01melif\u001b[39;00m read \u001b[38;5;129;01mis\u001b[39;00m \u001b[38;5;129;01mnot\u001b[39;00m \u001b[38;5;28;01mNone\u001b[39;00m:\n",
      "File \u001b[0;32m~/opt/anaconda3/lib/python3.9/site-packages/urllib3/packages/six.py:769\u001b[0m, in \u001b[0;36mreraise\u001b[0;34m(tp, value, tb)\u001b[0m\n\u001b[1;32m    768\u001b[0m \u001b[38;5;28;01mif\u001b[39;00m value\u001b[38;5;241m.\u001b[39m__traceback__ \u001b[38;5;129;01mis\u001b[39;00m \u001b[38;5;129;01mnot\u001b[39;00m tb:\n\u001b[0;32m--> 769\u001b[0m     \u001b[38;5;28;01mraise\u001b[39;00m value\u001b[38;5;241m.\u001b[39mwith_traceback(tb)\n\u001b[1;32m    770\u001b[0m \u001b[38;5;28;01mraise\u001b[39;00m value\n",
      "File \u001b[0;32m~/opt/anaconda3/lib/python3.9/site-packages/urllib3/connectionpool.py:703\u001b[0m, in \u001b[0;36mHTTPConnectionPool.urlopen\u001b[0;34m(self, method, url, body, headers, retries, redirect, assert_same_host, timeout, pool_timeout, release_conn, chunked, body_pos, **response_kw)\u001b[0m\n\u001b[1;32m    702\u001b[0m \u001b[38;5;66;03m# Make the request on the httplib connection object.\u001b[39;00m\n\u001b[0;32m--> 703\u001b[0m httplib_response \u001b[38;5;241m=\u001b[39m \u001b[38;5;28;43mself\u001b[39;49m\u001b[38;5;241;43m.\u001b[39;49m\u001b[43m_make_request\u001b[49m\u001b[43m(\u001b[49m\n\u001b[1;32m    704\u001b[0m \u001b[43m    \u001b[49m\u001b[43mconn\u001b[49m\u001b[43m,\u001b[49m\n\u001b[1;32m    705\u001b[0m \u001b[43m    \u001b[49m\u001b[43mmethod\u001b[49m\u001b[43m,\u001b[49m\n\u001b[1;32m    706\u001b[0m \u001b[43m    \u001b[49m\u001b[43murl\u001b[49m\u001b[43m,\u001b[49m\n\u001b[1;32m    707\u001b[0m \u001b[43m    \u001b[49m\u001b[43mtimeout\u001b[49m\u001b[38;5;241;43m=\u001b[39;49m\u001b[43mtimeout_obj\u001b[49m\u001b[43m,\u001b[49m\n\u001b[1;32m    708\u001b[0m \u001b[43m    \u001b[49m\u001b[43mbody\u001b[49m\u001b[38;5;241;43m=\u001b[39;49m\u001b[43mbody\u001b[49m\u001b[43m,\u001b[49m\n\u001b[1;32m    709\u001b[0m \u001b[43m    \u001b[49m\u001b[43mheaders\u001b[49m\u001b[38;5;241;43m=\u001b[39;49m\u001b[43mheaders\u001b[49m\u001b[43m,\u001b[49m\n\u001b[1;32m    710\u001b[0m \u001b[43m    \u001b[49m\u001b[43mchunked\u001b[49m\u001b[38;5;241;43m=\u001b[39;49m\u001b[43mchunked\u001b[49m\u001b[43m,\u001b[49m\n\u001b[1;32m    711\u001b[0m \u001b[43m\u001b[49m\u001b[43m)\u001b[49m\n\u001b[1;32m    713\u001b[0m \u001b[38;5;66;03m# If we're going to release the connection in ``finally:``, then\u001b[39;00m\n\u001b[1;32m    714\u001b[0m \u001b[38;5;66;03m# the response doesn't need to know about the connection. Otherwise\u001b[39;00m\n\u001b[1;32m    715\u001b[0m \u001b[38;5;66;03m# it will also try to release it and we'll have a double-release\u001b[39;00m\n\u001b[1;32m    716\u001b[0m \u001b[38;5;66;03m# mess.\u001b[39;00m\n",
      "File \u001b[0;32m~/opt/anaconda3/lib/python3.9/site-packages/urllib3/connectionpool.py:449\u001b[0m, in \u001b[0;36mHTTPConnectionPool._make_request\u001b[0;34m(self, conn, method, url, timeout, chunked, **httplib_request_kw)\u001b[0m\n\u001b[1;32m    445\u001b[0m         \u001b[38;5;28;01mexcept\u001b[39;00m \u001b[38;5;167;01mBaseException\u001b[39;00m \u001b[38;5;28;01mas\u001b[39;00m e:\n\u001b[1;32m    446\u001b[0m             \u001b[38;5;66;03m# Remove the TypeError from the exception chain in\u001b[39;00m\n\u001b[1;32m    447\u001b[0m             \u001b[38;5;66;03m# Python 3 (including for exceptions like SystemExit).\u001b[39;00m\n\u001b[1;32m    448\u001b[0m             \u001b[38;5;66;03m# Otherwise it looks like a bug in the code.\u001b[39;00m\n\u001b[0;32m--> 449\u001b[0m             \u001b[43msix\u001b[49m\u001b[38;5;241;43m.\u001b[39;49m\u001b[43mraise_from\u001b[49m\u001b[43m(\u001b[49m\u001b[43me\u001b[49m\u001b[43m,\u001b[49m\u001b[43m \u001b[49m\u001b[38;5;28;43;01mNone\u001b[39;49;00m\u001b[43m)\u001b[49m\n\u001b[1;32m    450\u001b[0m \u001b[38;5;28;01mexcept\u001b[39;00m (SocketTimeout, BaseSSLError, SocketError) \u001b[38;5;28;01mas\u001b[39;00m e:\n",
      "File \u001b[0;32m<string>:3\u001b[0m, in \u001b[0;36mraise_from\u001b[0;34m(value, from_value)\u001b[0m\n",
      "File \u001b[0;32m~/opt/anaconda3/lib/python3.9/site-packages/urllib3/connectionpool.py:444\u001b[0m, in \u001b[0;36mHTTPConnectionPool._make_request\u001b[0;34m(self, conn, method, url, timeout, chunked, **httplib_request_kw)\u001b[0m\n\u001b[1;32m    443\u001b[0m \u001b[38;5;28;01mtry\u001b[39;00m:\n\u001b[0;32m--> 444\u001b[0m     httplib_response \u001b[38;5;241m=\u001b[39m \u001b[43mconn\u001b[49m\u001b[38;5;241;43m.\u001b[39;49m\u001b[43mgetresponse\u001b[49m\u001b[43m(\u001b[49m\u001b[43m)\u001b[49m\n\u001b[1;32m    445\u001b[0m \u001b[38;5;28;01mexcept\u001b[39;00m \u001b[38;5;167;01mBaseException\u001b[39;00m \u001b[38;5;28;01mas\u001b[39;00m e:\n\u001b[1;32m    446\u001b[0m     \u001b[38;5;66;03m# Remove the TypeError from the exception chain in\u001b[39;00m\n\u001b[1;32m    447\u001b[0m     \u001b[38;5;66;03m# Python 3 (including for exceptions like SystemExit).\u001b[39;00m\n\u001b[1;32m    448\u001b[0m     \u001b[38;5;66;03m# Otherwise it looks like a bug in the code.\u001b[39;00m\n",
      "File \u001b[0;32m~/opt/anaconda3/lib/python3.9/http/client.py:1377\u001b[0m, in \u001b[0;36mHTTPConnection.getresponse\u001b[0;34m(self)\u001b[0m\n\u001b[1;32m   1376\u001b[0m \u001b[38;5;28;01mtry\u001b[39;00m:\n\u001b[0;32m-> 1377\u001b[0m     \u001b[43mresponse\u001b[49m\u001b[38;5;241;43m.\u001b[39;49m\u001b[43mbegin\u001b[49m\u001b[43m(\u001b[49m\u001b[43m)\u001b[49m\n\u001b[1;32m   1378\u001b[0m \u001b[38;5;28;01mexcept\u001b[39;00m \u001b[38;5;167;01mConnectionError\u001b[39;00m:\n",
      "File \u001b[0;32m~/opt/anaconda3/lib/python3.9/http/client.py:320\u001b[0m, in \u001b[0;36mHTTPResponse.begin\u001b[0;34m(self)\u001b[0m\n\u001b[1;32m    319\u001b[0m \u001b[38;5;28;01mwhile\u001b[39;00m \u001b[38;5;28;01mTrue\u001b[39;00m:\n\u001b[0;32m--> 320\u001b[0m     version, status, reason \u001b[38;5;241m=\u001b[39m \u001b[38;5;28;43mself\u001b[39;49m\u001b[38;5;241;43m.\u001b[39;49m\u001b[43m_read_status\u001b[49m\u001b[43m(\u001b[49m\u001b[43m)\u001b[49m\n\u001b[1;32m    321\u001b[0m     \u001b[38;5;28;01mif\u001b[39;00m status \u001b[38;5;241m!=\u001b[39m CONTINUE:\n",
      "File \u001b[0;32m~/opt/anaconda3/lib/python3.9/http/client.py:281\u001b[0m, in \u001b[0;36mHTTPResponse._read_status\u001b[0;34m(self)\u001b[0m\n\u001b[1;32m    280\u001b[0m \u001b[38;5;28;01mdef\u001b[39;00m \u001b[38;5;21m_read_status\u001b[39m(\u001b[38;5;28mself\u001b[39m):\n\u001b[0;32m--> 281\u001b[0m     line \u001b[38;5;241m=\u001b[39m \u001b[38;5;28mstr\u001b[39m(\u001b[38;5;28;43mself\u001b[39;49m\u001b[38;5;241;43m.\u001b[39;49m\u001b[43mfp\u001b[49m\u001b[38;5;241;43m.\u001b[39;49m\u001b[43mreadline\u001b[49m\u001b[43m(\u001b[49m\u001b[43m_MAXLINE\u001b[49m\u001b[43m \u001b[49m\u001b[38;5;241;43m+\u001b[39;49m\u001b[43m \u001b[49m\u001b[38;5;241;43m1\u001b[39;49m\u001b[43m)\u001b[49m, \u001b[38;5;124m\"\u001b[39m\u001b[38;5;124miso-8859-1\u001b[39m\u001b[38;5;124m\"\u001b[39m)\n\u001b[1;32m    282\u001b[0m     \u001b[38;5;28;01mif\u001b[39;00m \u001b[38;5;28mlen\u001b[39m(line) \u001b[38;5;241m>\u001b[39m _MAXLINE:\n",
      "File \u001b[0;32m~/opt/anaconda3/lib/python3.9/socket.py:704\u001b[0m, in \u001b[0;36mSocketIO.readinto\u001b[0;34m(self, b)\u001b[0m\n\u001b[1;32m    703\u001b[0m \u001b[38;5;28;01mtry\u001b[39;00m:\n\u001b[0;32m--> 704\u001b[0m     \u001b[38;5;28;01mreturn\u001b[39;00m \u001b[38;5;28;43mself\u001b[39;49m\u001b[38;5;241;43m.\u001b[39;49m\u001b[43m_sock\u001b[49m\u001b[38;5;241;43m.\u001b[39;49m\u001b[43mrecv_into\u001b[49m\u001b[43m(\u001b[49m\u001b[43mb\u001b[49m\u001b[43m)\u001b[49m\n\u001b[1;32m    705\u001b[0m \u001b[38;5;28;01mexcept\u001b[39;00m timeout:\n",
      "File \u001b[0;32m~/opt/anaconda3/lib/python3.9/ssl.py:1241\u001b[0m, in \u001b[0;36mSSLSocket.recv_into\u001b[0;34m(self, buffer, nbytes, flags)\u001b[0m\n\u001b[1;32m   1238\u001b[0m         \u001b[38;5;28;01mraise\u001b[39;00m \u001b[38;5;167;01mValueError\u001b[39;00m(\n\u001b[1;32m   1239\u001b[0m           \u001b[38;5;124m\"\u001b[39m\u001b[38;5;124mnon-zero flags not allowed in calls to recv_into() on \u001b[39m\u001b[38;5;132;01m%s\u001b[39;00m\u001b[38;5;124m\"\u001b[39m \u001b[38;5;241m%\u001b[39m\n\u001b[1;32m   1240\u001b[0m           \u001b[38;5;28mself\u001b[39m\u001b[38;5;241m.\u001b[39m\u001b[38;5;18m__class__\u001b[39m)\n\u001b[0;32m-> 1241\u001b[0m     \u001b[38;5;28;01mreturn\u001b[39;00m \u001b[38;5;28;43mself\u001b[39;49m\u001b[38;5;241;43m.\u001b[39;49m\u001b[43mread\u001b[49m\u001b[43m(\u001b[49m\u001b[43mnbytes\u001b[49m\u001b[43m,\u001b[49m\u001b[43m \u001b[49m\u001b[43mbuffer\u001b[49m\u001b[43m)\u001b[49m\n\u001b[1;32m   1242\u001b[0m \u001b[38;5;28;01melse\u001b[39;00m:\n",
      "File \u001b[0;32m~/opt/anaconda3/lib/python3.9/ssl.py:1099\u001b[0m, in \u001b[0;36mSSLSocket.read\u001b[0;34m(self, len, buffer)\u001b[0m\n\u001b[1;32m   1098\u001b[0m \u001b[38;5;28;01mif\u001b[39;00m buffer \u001b[38;5;129;01mis\u001b[39;00m \u001b[38;5;129;01mnot\u001b[39;00m \u001b[38;5;28;01mNone\u001b[39;00m:\n\u001b[0;32m-> 1099\u001b[0m     \u001b[38;5;28;01mreturn\u001b[39;00m \u001b[38;5;28;43mself\u001b[39;49m\u001b[38;5;241;43m.\u001b[39;49m\u001b[43m_sslobj\u001b[49m\u001b[38;5;241;43m.\u001b[39;49m\u001b[43mread\u001b[49m\u001b[43m(\u001b[49m\u001b[38;5;28;43mlen\u001b[39;49m\u001b[43m,\u001b[49m\u001b[43m \u001b[49m\u001b[43mbuffer\u001b[49m\u001b[43m)\u001b[49m\n\u001b[1;32m   1100\u001b[0m \u001b[38;5;28;01melse\u001b[39;00m:\n",
      "\u001b[0;31mProtocolError\u001b[0m: ('Connection aborted.', ConnectionResetError(54, 'Connection reset by peer'))",
      "\nDuring handling of the above exception, another exception occurred:\n",
      "\u001b[0;31mConnectionError\u001b[0m                           Traceback (most recent call last)",
      "Input \u001b[0;32mIn [227]\u001b[0m, in \u001b[0;36m<cell line: 1>\u001b[0;34m()\u001b[0m\n\u001b[1;32m      1\u001b[0m \u001b[38;5;28;01mfor\u001b[39;00m i  \u001b[38;5;129;01min\u001b[39;00m  result[\u001b[38;5;241m11\u001b[39m]:\n\u001b[1;32m      2\u001b[0m     \u001b[38;5;28mprint\u001b[39m(i)\n\u001b[0;32m----> 3\u001b[0m     \u001b[43mget_features_df\u001b[49m\u001b[43m(\u001b[49m\u001b[43mi\u001b[49m\u001b[43m)\u001b[49m\n",
      "Input \u001b[0;32mIn [4]\u001b[0m, in \u001b[0;36mget_features_df\u001b[0;34m(playlist_id)\u001b[0m\n\u001b[1;32m      4\u001b[0m artist_name\u001b[38;5;241m=\u001b[39m[]\n\u001b[1;32m      5\u001b[0m song_name\u001b[38;5;241m=\u001b[39m[]\n\u001b[0;32m----> 7\u001b[0m results \u001b[38;5;241m=\u001b[39m \u001b[43msp\u001b[49m\u001b[38;5;241;43m.\u001b[39;49m\u001b[43muser_playlist_tracks\u001b[49m\u001b[43m(\u001b[49m\u001b[38;5;124;43m\"\u001b[39;49m\u001b[38;5;124;43mthesoundsofspotify\u001b[39;49m\u001b[38;5;124;43m\"\u001b[39;49m\u001b[43m,\u001b[49m\u001b[43mplaylist_id\u001b[49m\u001b[43m,\u001b[49m\u001b[43mmarket\u001b[49m\u001b[38;5;241;43m=\u001b[39;49m\u001b[38;5;124;43m\"\u001b[39;49m\u001b[38;5;124;43mDE\u001b[39;49m\u001b[38;5;124;43m\"\u001b[39;49m\u001b[43m)\u001b[49m\n\u001b[1;32m      9\u001b[0m tracks \u001b[38;5;241m=\u001b[39m results[\u001b[38;5;124m'\u001b[39m\u001b[38;5;124mitems\u001b[39m\u001b[38;5;124m'\u001b[39m]\n\u001b[1;32m     11\u001b[0m \u001b[38;5;28;01mwhile\u001b[39;00m results[\u001b[38;5;124m'\u001b[39m\u001b[38;5;124mnext\u001b[39m\u001b[38;5;124m'\u001b[39m]:\n",
      "File \u001b[0;32m~/opt/anaconda3/lib/python3.9/site-packages/spotipy/client.py:747\u001b[0m, in \u001b[0;36mSpotify.user_playlist_tracks\u001b[0;34m(self, user, playlist_id, fields, limit, offset, market)\u001b[0m\n\u001b[1;32m    732\u001b[0m warnings\u001b[38;5;241m.\u001b[39mwarn(\n\u001b[1;32m    733\u001b[0m     \u001b[38;5;124m\"\u001b[39m\u001b[38;5;124mYou should use `playlist_tracks(playlist_id)` instead\u001b[39m\u001b[38;5;124m\"\u001b[39m,\n\u001b[1;32m    734\u001b[0m     \u001b[38;5;167;01mDeprecationWarning\u001b[39;00m,\n\u001b[1;32m    735\u001b[0m )\n\u001b[1;32m    737\u001b[0m \u001b[38;5;124;03m\"\"\" Get full details of the tracks of a playlist owned by a user.\u001b[39;00m\n\u001b[1;32m    738\u001b[0m \n\u001b[1;32m    739\u001b[0m \u001b[38;5;124;03m    Parameters:\u001b[39;00m\n\u001b[0;32m   (...)\u001b[0m\n\u001b[1;32m    745\u001b[0m \u001b[38;5;124;03m        - market - an ISO 3166-1 alpha-2 country code.\u001b[39;00m\n\u001b[1;32m    746\u001b[0m \u001b[38;5;124;03m\"\"\"\u001b[39;00m\n\u001b[0;32m--> 747\u001b[0m \u001b[38;5;28;01mreturn\u001b[39;00m \u001b[38;5;28;43mself\u001b[39;49m\u001b[38;5;241;43m.\u001b[39;49m\u001b[43mplaylist_tracks\u001b[49m\u001b[43m(\u001b[49m\n\u001b[1;32m    748\u001b[0m \u001b[43m    \u001b[49m\u001b[43mplaylist_id\u001b[49m\u001b[43m,\u001b[49m\n\u001b[1;32m    749\u001b[0m \u001b[43m    \u001b[49m\u001b[43mlimit\u001b[49m\u001b[38;5;241;43m=\u001b[39;49m\u001b[43mlimit\u001b[49m\u001b[43m,\u001b[49m\n\u001b[1;32m    750\u001b[0m \u001b[43m    \u001b[49m\u001b[43moffset\u001b[49m\u001b[38;5;241;43m=\u001b[39;49m\u001b[43moffset\u001b[49m\u001b[43m,\u001b[49m\n\u001b[1;32m    751\u001b[0m \u001b[43m    \u001b[49m\u001b[43mfields\u001b[49m\u001b[38;5;241;43m=\u001b[39;49m\u001b[43mfields\u001b[49m\u001b[43m,\u001b[49m\n\u001b[1;32m    752\u001b[0m \u001b[43m    \u001b[49m\u001b[43mmarket\u001b[49m\u001b[38;5;241;43m=\u001b[39;49m\u001b[43mmarket\u001b[49m\u001b[43m,\u001b[49m\n\u001b[1;32m    753\u001b[0m \u001b[43m\u001b[49m\u001b[43m)\u001b[49m\n",
      "File \u001b[0;32m~/opt/anaconda3/lib/python3.9/site-packages/spotipy/client.py:649\u001b[0m, in \u001b[0;36mSpotify.playlist_tracks\u001b[0;34m(self, playlist_id, fields, limit, offset, market, additional_types)\u001b[0m\n\u001b[1;32m    633\u001b[0m \u001b[38;5;124;03m\"\"\" Get full details of the tracks of a playlist.\u001b[39;00m\n\u001b[1;32m    634\u001b[0m \n\u001b[1;32m    635\u001b[0m \u001b[38;5;124;03m    Parameters:\u001b[39;00m\n\u001b[0;32m   (...)\u001b[0m\n\u001b[1;32m    642\u001b[0m \u001b[38;5;124;03m                             valid types are: track and episode\u001b[39;00m\n\u001b[1;32m    643\u001b[0m \u001b[38;5;124;03m\"\"\"\u001b[39;00m\n\u001b[1;32m    644\u001b[0m warnings\u001b[38;5;241m.\u001b[39mwarn(\n\u001b[1;32m    645\u001b[0m     \u001b[38;5;124m\"\u001b[39m\u001b[38;5;124mYou should use `playlist_items(playlist_id, ...,\u001b[39m\u001b[38;5;124m\"\u001b[39m\n\u001b[1;32m    646\u001b[0m     \u001b[38;5;124m\"\u001b[39m\u001b[38;5;124madditional_types=(\u001b[39m\u001b[38;5;124m'\u001b[39m\u001b[38;5;124mtrack\u001b[39m\u001b[38;5;124m'\u001b[39m\u001b[38;5;124m,))` instead\u001b[39m\u001b[38;5;124m\"\u001b[39m,\n\u001b[1;32m    647\u001b[0m     \u001b[38;5;167;01mDeprecationWarning\u001b[39;00m,\n\u001b[1;32m    648\u001b[0m )\n\u001b[0;32m--> 649\u001b[0m \u001b[38;5;28;01mreturn\u001b[39;00m \u001b[38;5;28;43mself\u001b[39;49m\u001b[38;5;241;43m.\u001b[39;49m\u001b[43mplaylist_items\u001b[49m\u001b[43m(\u001b[49m\u001b[43mplaylist_id\u001b[49m\u001b[43m,\u001b[49m\u001b[43m \u001b[49m\u001b[43mfields\u001b[49m\u001b[43m,\u001b[49m\u001b[43m \u001b[49m\u001b[43mlimit\u001b[49m\u001b[43m,\u001b[49m\u001b[43m \u001b[49m\u001b[43moffset\u001b[49m\u001b[43m,\u001b[49m\n\u001b[1;32m    650\u001b[0m \u001b[43m                           \u001b[49m\u001b[43mmarket\u001b[49m\u001b[43m,\u001b[49m\u001b[43m \u001b[49m\u001b[43madditional_types\u001b[49m\u001b[43m)\u001b[49m\n",
      "File \u001b[0;32m~/opt/anaconda3/lib/python3.9/site-packages/spotipy/client.py:673\u001b[0m, in \u001b[0;36mSpotify.playlist_items\u001b[0;34m(self, playlist_id, fields, limit, offset, market, additional_types)\u001b[0m\n\u001b[1;32m    661\u001b[0m \u001b[38;5;124;03m\"\"\" Get full details of the tracks and episodes of a playlist.\u001b[39;00m\n\u001b[1;32m    662\u001b[0m \n\u001b[1;32m    663\u001b[0m \u001b[38;5;124;03m    Parameters:\u001b[39;00m\n\u001b[0;32m   (...)\u001b[0m\n\u001b[1;32m    670\u001b[0m \u001b[38;5;124;03m                             valid types are: track and episode\u001b[39;00m\n\u001b[1;32m    671\u001b[0m \u001b[38;5;124;03m\"\"\"\u001b[39;00m\n\u001b[1;32m    672\u001b[0m plid \u001b[38;5;241m=\u001b[39m \u001b[38;5;28mself\u001b[39m\u001b[38;5;241m.\u001b[39m_get_id(\u001b[38;5;124m\"\u001b[39m\u001b[38;5;124mplaylist\u001b[39m\u001b[38;5;124m\"\u001b[39m, playlist_id)\n\u001b[0;32m--> 673\u001b[0m \u001b[38;5;28;01mreturn\u001b[39;00m \u001b[38;5;28;43mself\u001b[39;49m\u001b[38;5;241;43m.\u001b[39;49m\u001b[43m_get\u001b[49m\u001b[43m(\u001b[49m\n\u001b[1;32m    674\u001b[0m \u001b[43m    \u001b[49m\u001b[38;5;124;43m\"\u001b[39;49m\u001b[38;5;124;43mplaylists/\u001b[39;49m\u001b[38;5;132;43;01m%s\u001b[39;49;00m\u001b[38;5;124;43m/tracks\u001b[39;49m\u001b[38;5;124;43m\"\u001b[39;49m\u001b[43m \u001b[49m\u001b[38;5;241;43m%\u001b[39;49m\u001b[43m \u001b[49m\u001b[43m(\u001b[49m\u001b[43mplid\u001b[49m\u001b[43m)\u001b[49m\u001b[43m,\u001b[49m\n\u001b[1;32m    675\u001b[0m \u001b[43m    \u001b[49m\u001b[43mlimit\u001b[49m\u001b[38;5;241;43m=\u001b[39;49m\u001b[43mlimit\u001b[49m\u001b[43m,\u001b[49m\n\u001b[1;32m    676\u001b[0m \u001b[43m    \u001b[49m\u001b[43moffset\u001b[49m\u001b[38;5;241;43m=\u001b[39;49m\u001b[43moffset\u001b[49m\u001b[43m,\u001b[49m\n\u001b[1;32m    677\u001b[0m \u001b[43m    \u001b[49m\u001b[43mfields\u001b[49m\u001b[38;5;241;43m=\u001b[39;49m\u001b[43mfields\u001b[49m\u001b[43m,\u001b[49m\n\u001b[1;32m    678\u001b[0m \u001b[43m    \u001b[49m\u001b[43mmarket\u001b[49m\u001b[38;5;241;43m=\u001b[39;49m\u001b[43mmarket\u001b[49m\u001b[43m,\u001b[49m\n\u001b[1;32m    679\u001b[0m \u001b[43m    \u001b[49m\u001b[43madditional_types\u001b[49m\u001b[38;5;241;43m=\u001b[39;49m\u001b[38;5;124;43m\"\u001b[39;49m\u001b[38;5;124;43m,\u001b[39;49m\u001b[38;5;124;43m\"\u001b[39;49m\u001b[38;5;241;43m.\u001b[39;49m\u001b[43mjoin\u001b[49m\u001b[43m(\u001b[49m\u001b[43madditional_types\u001b[49m\u001b[43m)\u001b[49m\n\u001b[1;32m    680\u001b[0m \u001b[43m\u001b[49m\u001b[43m)\u001b[49m\n",
      "File \u001b[0;32m~/opt/anaconda3/lib/python3.9/site-packages/spotipy/client.py:297\u001b[0m, in \u001b[0;36mSpotify._get\u001b[0;34m(self, url, args, payload, **kwargs)\u001b[0m\n\u001b[1;32m    294\u001b[0m \u001b[38;5;28;01mif\u001b[39;00m args:\n\u001b[1;32m    295\u001b[0m     kwargs\u001b[38;5;241m.\u001b[39mupdate(args)\n\u001b[0;32m--> 297\u001b[0m \u001b[38;5;28;01mreturn\u001b[39;00m \u001b[38;5;28;43mself\u001b[39;49m\u001b[38;5;241;43m.\u001b[39;49m\u001b[43m_internal_call\u001b[49m\u001b[43m(\u001b[49m\u001b[38;5;124;43m\"\u001b[39;49m\u001b[38;5;124;43mGET\u001b[39;49m\u001b[38;5;124;43m\"\u001b[39;49m\u001b[43m,\u001b[49m\u001b[43m \u001b[49m\u001b[43murl\u001b[49m\u001b[43m,\u001b[49m\u001b[43m \u001b[49m\u001b[43mpayload\u001b[49m\u001b[43m,\u001b[49m\u001b[43m \u001b[49m\u001b[43mkwargs\u001b[49m\u001b[43m)\u001b[49m\n",
      "File \u001b[0;32m~/opt/anaconda3/lib/python3.9/site-packages/spotipy/client.py:240\u001b[0m, in \u001b[0;36mSpotify._internal_call\u001b[0;34m(self, method, url, payload, params)\u001b[0m\n\u001b[1;32m    236\u001b[0m logger\u001b[38;5;241m.\u001b[39mdebug(\u001b[38;5;124m'\u001b[39m\u001b[38;5;124mSending \u001b[39m\u001b[38;5;132;01m%s\u001b[39;00m\u001b[38;5;124m to \u001b[39m\u001b[38;5;132;01m%s\u001b[39;00m\u001b[38;5;124m with Params: \u001b[39m\u001b[38;5;132;01m%s\u001b[39;00m\u001b[38;5;124m Headers: \u001b[39m\u001b[38;5;132;01m%s\u001b[39;00m\u001b[38;5;124m and Body: \u001b[39m\u001b[38;5;132;01m%r\u001b[39;00m\u001b[38;5;124m \u001b[39m\u001b[38;5;124m'\u001b[39m,\n\u001b[1;32m    237\u001b[0m              method, url, args\u001b[38;5;241m.\u001b[39mget(\u001b[38;5;124m\"\u001b[39m\u001b[38;5;124mparams\u001b[39m\u001b[38;5;124m\"\u001b[39m), headers, args\u001b[38;5;241m.\u001b[39mget(\u001b[38;5;124m'\u001b[39m\u001b[38;5;124mdata\u001b[39m\u001b[38;5;124m'\u001b[39m))\n\u001b[1;32m    239\u001b[0m \u001b[38;5;28;01mtry\u001b[39;00m:\n\u001b[0;32m--> 240\u001b[0m     response \u001b[38;5;241m=\u001b[39m \u001b[38;5;28;43mself\u001b[39;49m\u001b[38;5;241;43m.\u001b[39;49m\u001b[43m_session\u001b[49m\u001b[38;5;241;43m.\u001b[39;49m\u001b[43mrequest\u001b[49m\u001b[43m(\u001b[49m\n\u001b[1;32m    241\u001b[0m \u001b[43m        \u001b[49m\u001b[43mmethod\u001b[49m\u001b[43m,\u001b[49m\u001b[43m \u001b[49m\u001b[43murl\u001b[49m\u001b[43m,\u001b[49m\u001b[43m \u001b[49m\u001b[43mheaders\u001b[49m\u001b[38;5;241;43m=\u001b[39;49m\u001b[43mheaders\u001b[49m\u001b[43m,\u001b[49m\u001b[43m \u001b[49m\u001b[43mproxies\u001b[49m\u001b[38;5;241;43m=\u001b[39;49m\u001b[38;5;28;43mself\u001b[39;49m\u001b[38;5;241;43m.\u001b[39;49m\u001b[43mproxies\u001b[49m\u001b[43m,\u001b[49m\n\u001b[1;32m    242\u001b[0m \u001b[43m        \u001b[49m\u001b[43mtimeout\u001b[49m\u001b[38;5;241;43m=\u001b[39;49m\u001b[38;5;28;43mself\u001b[39;49m\u001b[38;5;241;43m.\u001b[39;49m\u001b[43mrequests_timeout\u001b[49m\u001b[43m,\u001b[49m\u001b[43m \u001b[49m\u001b[38;5;241;43m*\u001b[39;49m\u001b[38;5;241;43m*\u001b[39;49m\u001b[43margs\u001b[49m\n\u001b[1;32m    243\u001b[0m \u001b[43m    \u001b[49m\u001b[43m)\u001b[49m\n\u001b[1;32m    245\u001b[0m     response\u001b[38;5;241m.\u001b[39mraise_for_status()\n\u001b[1;32m    246\u001b[0m     results \u001b[38;5;241m=\u001b[39m response\u001b[38;5;241m.\u001b[39mjson()\n",
      "File \u001b[0;32m~/opt/anaconda3/lib/python3.9/site-packages/requests/sessions.py:529\u001b[0m, in \u001b[0;36mSession.request\u001b[0;34m(self, method, url, params, data, headers, cookies, files, auth, timeout, allow_redirects, proxies, hooks, stream, verify, cert, json)\u001b[0m\n\u001b[1;32m    524\u001b[0m send_kwargs \u001b[38;5;241m=\u001b[39m {\n\u001b[1;32m    525\u001b[0m     \u001b[38;5;124m'\u001b[39m\u001b[38;5;124mtimeout\u001b[39m\u001b[38;5;124m'\u001b[39m: timeout,\n\u001b[1;32m    526\u001b[0m     \u001b[38;5;124m'\u001b[39m\u001b[38;5;124mallow_redirects\u001b[39m\u001b[38;5;124m'\u001b[39m: allow_redirects,\n\u001b[1;32m    527\u001b[0m }\n\u001b[1;32m    528\u001b[0m send_kwargs\u001b[38;5;241m.\u001b[39mupdate(settings)\n\u001b[0;32m--> 529\u001b[0m resp \u001b[38;5;241m=\u001b[39m \u001b[38;5;28;43mself\u001b[39;49m\u001b[38;5;241;43m.\u001b[39;49m\u001b[43msend\u001b[49m\u001b[43m(\u001b[49m\u001b[43mprep\u001b[49m\u001b[43m,\u001b[49m\u001b[43m \u001b[49m\u001b[38;5;241;43m*\u001b[39;49m\u001b[38;5;241;43m*\u001b[39;49m\u001b[43msend_kwargs\u001b[49m\u001b[43m)\u001b[49m\n\u001b[1;32m    531\u001b[0m \u001b[38;5;28;01mreturn\u001b[39;00m resp\n",
      "File \u001b[0;32m~/opt/anaconda3/lib/python3.9/site-packages/requests/sessions.py:645\u001b[0m, in \u001b[0;36mSession.send\u001b[0;34m(self, request, **kwargs)\u001b[0m\n\u001b[1;32m    642\u001b[0m start \u001b[38;5;241m=\u001b[39m preferred_clock()\n\u001b[1;32m    644\u001b[0m \u001b[38;5;66;03m# Send the request\u001b[39;00m\n\u001b[0;32m--> 645\u001b[0m r \u001b[38;5;241m=\u001b[39m \u001b[43madapter\u001b[49m\u001b[38;5;241;43m.\u001b[39;49m\u001b[43msend\u001b[49m\u001b[43m(\u001b[49m\u001b[43mrequest\u001b[49m\u001b[43m,\u001b[49m\u001b[43m \u001b[49m\u001b[38;5;241;43m*\u001b[39;49m\u001b[38;5;241;43m*\u001b[39;49m\u001b[43mkwargs\u001b[49m\u001b[43m)\u001b[49m\n\u001b[1;32m    647\u001b[0m \u001b[38;5;66;03m# Total elapsed time of the request (approximately)\u001b[39;00m\n\u001b[1;32m    648\u001b[0m elapsed \u001b[38;5;241m=\u001b[39m preferred_clock() \u001b[38;5;241m-\u001b[39m start\n",
      "File \u001b[0;32m~/opt/anaconda3/lib/python3.9/site-packages/requests/adapters.py:501\u001b[0m, in \u001b[0;36mHTTPAdapter.send\u001b[0;34m(self, request, stream, timeout, verify, cert, proxies)\u001b[0m\n\u001b[1;32m    498\u001b[0m             \u001b[38;5;28;01mraise\u001b[39;00m\n\u001b[1;32m    500\u001b[0m \u001b[38;5;28;01mexcept\u001b[39;00m (ProtocolError, socket\u001b[38;5;241m.\u001b[39merror) \u001b[38;5;28;01mas\u001b[39;00m err:\n\u001b[0;32m--> 501\u001b[0m     \u001b[38;5;28;01mraise\u001b[39;00m \u001b[38;5;167;01mConnectionError\u001b[39;00m(err, request\u001b[38;5;241m=\u001b[39mrequest)\n\u001b[1;32m    503\u001b[0m \u001b[38;5;28;01mexcept\u001b[39;00m MaxRetryError \u001b[38;5;28;01mas\u001b[39;00m e:\n\u001b[1;32m    504\u001b[0m     \u001b[38;5;28;01mif\u001b[39;00m \u001b[38;5;28misinstance\u001b[39m(e\u001b[38;5;241m.\u001b[39mreason, ConnectTimeoutError):\n\u001b[1;32m    505\u001b[0m         \u001b[38;5;66;03m# TODO: Remove this in 3.0.0: see #2811\u001b[39;00m\n",
      "\u001b[0;31mConnectionError\u001b[0m: ('Connection aborted.', ConnectionResetError(54, 'Connection reset by peer'))"
     ]
    }
   ],
   "source": [
    "for i  in  result[11]:\n",
    "    print(i)\n",
    "    get_features_df(i)"
   ]
  },
  {
   "cell_type": "code",
   "execution_count": 245,
   "id": "4560a047",
   "metadata": {},
   "outputs": [
    {
     "data": {
      "text/html": [
       "<div>\n",
       "<style scoped>\n",
       "    .dataframe tbody tr th:only-of-type {\n",
       "        vertical-align: middle;\n",
       "    }\n",
       "\n",
       "    .dataframe tbody tr th {\n",
       "        vertical-align: top;\n",
       "    }\n",
       "\n",
       "    .dataframe thead th {\n",
       "        text-align: right;\n",
       "    }\n",
       "</style>\n",
       "<table border=\"1\" class=\"dataframe\">\n",
       "  <thead>\n",
       "    <tr style=\"text-align: right;\">\n",
       "      <th></th>\n",
       "      <th>danceability</th>\n",
       "      <th>energy</th>\n",
       "      <th>loudness</th>\n",
       "      <th>speechiness</th>\n",
       "      <th>acousticness</th>\n",
       "      <th>instrumentalness</th>\n",
       "      <th>liveness</th>\n",
       "      <th>valence</th>\n",
       "      <th>tempo</th>\n",
       "      <th>id</th>\n",
       "      <th>duration_ms</th>\n",
       "    </tr>\n",
       "  </thead>\n",
       "  <tbody>\n",
       "  </tbody>\n",
       "</table>\n",
       "</div>"
      ],
      "text/plain": [
       "Empty DataFrame\n",
       "Columns: [danceability, energy, loudness, speechiness, acousticness, instrumentalness, liveness, valence, tempo, id, duration_ms]\n",
       "Index: []"
      ]
     },
     "execution_count": 245,
     "metadata": {},
     "output_type": "execute_result"
    }
   ],
   "source": [
    "big_df"
   ]
  },
  {
   "cell_type": "code",
   "execution_count": 66,
   "id": "ca912db7",
   "metadata": {},
   "outputs": [
    {
     "name": "stdout",
     "output_type": "stream",
     "text": [
      "7dowgSWOmvdpwNkGFMUs6e\n"
     ]
    },
    {
     "name": "stderr",
     "output_type": "stream",
     "text": [
      "/var/folders/1n/phyrz16s0rd1_mpv046jgqf80000gn/T/ipykernel_17629/3181457209.py:28: FutureWarning: The frame.append method is deprecated and will be removed from pandas in a future version. Use pandas.concat instead.\n",
      "  big_df =big_df.append(df)\n"
     ]
    },
    {
     "name": "stdout",
     "output_type": "stream",
     "text": [
      "7qshObBpTeNY6nyMtcXXCw\n"
     ]
    },
    {
     "name": "stderr",
     "output_type": "stream",
     "text": [
      "/var/folders/1n/phyrz16s0rd1_mpv046jgqf80000gn/T/ipykernel_17629/3181457209.py:28: FutureWarning: The frame.append method is deprecated and will be removed from pandas in a future version. Use pandas.concat instead.\n",
      "  big_df =big_df.append(df)\n"
     ]
    },
    {
     "name": "stdout",
     "output_type": "stream",
     "text": [
      "0tqAfBZxbPFjeWwKFpfH9F\n"
     ]
    },
    {
     "name": "stderr",
     "output_type": "stream",
     "text": [
      "/var/folders/1n/phyrz16s0rd1_mpv046jgqf80000gn/T/ipykernel_17629/3181457209.py:28: FutureWarning: The frame.append method is deprecated and will be removed from pandas in a future version. Use pandas.concat instead.\n",
      "  big_df =big_df.append(df)\n"
     ]
    },
    {
     "name": "stdout",
     "output_type": "stream",
     "text": [
      "3zLoWBeQkil0PcY4oFndPa\n"
     ]
    },
    {
     "name": "stderr",
     "output_type": "stream",
     "text": [
      "/var/folders/1n/phyrz16s0rd1_mpv046jgqf80000gn/T/ipykernel_17629/3181457209.py:28: FutureWarning: The frame.append method is deprecated and will be removed from pandas in a future version. Use pandas.concat instead.\n",
      "  big_df =big_df.append(df)\n"
     ]
    },
    {
     "name": "stdout",
     "output_type": "stream",
     "text": [
      "6ovzr8QuZNSVBiNI0uyS36\n"
     ]
    },
    {
     "name": "stderr",
     "output_type": "stream",
     "text": [
      "/var/folders/1n/phyrz16s0rd1_mpv046jgqf80000gn/T/ipykernel_17629/3181457209.py:28: FutureWarning: The frame.append method is deprecated and will be removed from pandas in a future version. Use pandas.concat instead.\n",
      "  big_df =big_df.append(df)\n"
     ]
    },
    {
     "name": "stdout",
     "output_type": "stream",
     "text": [
      "3iiCEjJsCfkP18Xfqv9fZi\n"
     ]
    },
    {
     "name": "stderr",
     "output_type": "stream",
     "text": [
      "/var/folders/1n/phyrz16s0rd1_mpv046jgqf80000gn/T/ipykernel_17629/3181457209.py:28: FutureWarning: The frame.append method is deprecated and will be removed from pandas in a future version. Use pandas.concat instead.\n",
      "  big_df =big_df.append(df)\n"
     ]
    },
    {
     "name": "stdout",
     "output_type": "stream",
     "text": [
      "7HAvXnynEl18Ay6mabzRRF\n"
     ]
    },
    {
     "name": "stderr",
     "output_type": "stream",
     "text": [
      "/var/folders/1n/phyrz16s0rd1_mpv046jgqf80000gn/T/ipykernel_17629/3181457209.py:28: FutureWarning: The frame.append method is deprecated and will be removed from pandas in a future version. Use pandas.concat instead.\n",
      "  big_df =big_df.append(df)\n"
     ]
    },
    {
     "name": "stdout",
     "output_type": "stream",
     "text": [
      "5pkSkAC6JTpIgg0zSQoWdF\n"
     ]
    },
    {
     "ename": "AttributeError",
     "evalue": "'NoneType' object has no attribute 'keys'",
     "output_type": "error",
     "traceback": [
      "\u001b[0;31m---------------------------------------------------------------------------\u001b[0m",
      "\u001b[0;31mAttributeError\u001b[0m                            Traceback (most recent call last)",
      "Input \u001b[0;32mIn [66]\u001b[0m, in \u001b[0;36m<cell line: 1>\u001b[0;34m()\u001b[0m\n\u001b[1;32m      1\u001b[0m \u001b[38;5;28;01mfor\u001b[39;00m i  \u001b[38;5;129;01min\u001b[39;00m  result[\u001b[38;5;241m12\u001b[39m]:\n\u001b[1;32m      2\u001b[0m     \u001b[38;5;28mprint\u001b[39m(i)\n\u001b[0;32m----> 3\u001b[0m     \u001b[43mget_features_df\u001b[49m\u001b[43m(\u001b[49m\u001b[43mi\u001b[49m\u001b[43m)\u001b[49m\n",
      "Input \u001b[0;32mIn [4]\u001b[0m, in \u001b[0;36mget_features_df\u001b[0;34m(playlist_id)\u001b[0m\n\u001b[1;32m     18\u001b[0m         list_of_audio_features\u001b[38;5;241m.\u001b[39mappend(sp\u001b[38;5;241m.\u001b[39maudio_features(tracks[value][\u001b[38;5;124m\"\u001b[39m\u001b[38;5;124mtrack\u001b[39m\u001b[38;5;124m\"\u001b[39m][\u001b[38;5;124m\"\u001b[39m\u001b[38;5;124mid\u001b[39m\u001b[38;5;124m\"\u001b[39m])[\u001b[38;5;241m0\u001b[39m])\n\u001b[1;32m     21\u001b[0m \u001b[38;5;66;03m#creating df with audio features and adding song name and artist     \u001b[39;00m\n\u001b[0;32m---> 22\u001b[0m     df\u001b[38;5;241m=\u001b[39m\u001b[43mpd\u001b[49m\u001b[38;5;241;43m.\u001b[39;49m\u001b[43mDataFrame\u001b[49m\u001b[43m(\u001b[49m\u001b[43mlist_of_audio_features\u001b[49m\u001b[43m)\u001b[49m    \n\u001b[1;32m     23\u001b[0m     df\u001b[38;5;241m=\u001b[39mdf[[\u001b[38;5;124m\"\u001b[39m\u001b[38;5;124mdanceability\u001b[39m\u001b[38;5;124m\"\u001b[39m,\u001b[38;5;124m\"\u001b[39m\u001b[38;5;124menergy\u001b[39m\u001b[38;5;124m\"\u001b[39m,\u001b[38;5;124m\"\u001b[39m\u001b[38;5;124mloudness\u001b[39m\u001b[38;5;124m\"\u001b[39m,\u001b[38;5;124m\"\u001b[39m\u001b[38;5;124mspeechiness\u001b[39m\u001b[38;5;124m\"\u001b[39m,\u001b[38;5;124m\"\u001b[39m\u001b[38;5;124macousticness\u001b[39m\u001b[38;5;124m\"\u001b[39m,\u001b[38;5;124m\"\u001b[39m\u001b[38;5;124minstrumentalness\u001b[39m\u001b[38;5;124m\"\u001b[39m,\u001b[38;5;124m\"\u001b[39m\u001b[38;5;124mliveness\u001b[39m\u001b[38;5;124m\"\u001b[39m,\u001b[38;5;124m\"\u001b[39m\u001b[38;5;124mvalence\u001b[39m\u001b[38;5;124m\"\u001b[39m,\u001b[38;5;124m\"\u001b[39m\u001b[38;5;124mtempo\u001b[39m\u001b[38;5;124m\"\u001b[39m,\u001b[38;5;124m\"\u001b[39m\u001b[38;5;124mid\u001b[39m\u001b[38;5;124m\"\u001b[39m,\u001b[38;5;124m\"\u001b[39m\u001b[38;5;124mduration_ms\u001b[39m\u001b[38;5;124m\"\u001b[39m]]\n\u001b[1;32m     25\u001b[0m     \u001b[38;5;66;03m#df.insert(0,\"song\", song_name)\u001b[39;00m\n\u001b[1;32m     26\u001b[0m     \u001b[38;5;66;03m#df.insert(1,\"artist\", artist_name)\u001b[39;00m\n",
      "File \u001b[0;32m~/opt/anaconda3/lib/python3.9/site-packages/pandas/core/frame.py:721\u001b[0m, in \u001b[0;36mDataFrame.__init__\u001b[0;34m(self, data, index, columns, dtype, copy)\u001b[0m\n\u001b[1;32m    716\u001b[0m     \u001b[38;5;28;01mif\u001b[39;00m columns \u001b[38;5;129;01mis\u001b[39;00m \u001b[38;5;129;01mnot\u001b[39;00m \u001b[38;5;28;01mNone\u001b[39;00m:\n\u001b[1;32m    717\u001b[0m         \u001b[38;5;66;03m# error: Argument 1 to \"ensure_index\" has incompatible type\u001b[39;00m\n\u001b[1;32m    718\u001b[0m         \u001b[38;5;66;03m# \"Collection[Any]\"; expected \"Union[Union[Union[ExtensionArray,\u001b[39;00m\n\u001b[1;32m    719\u001b[0m         \u001b[38;5;66;03m# ndarray], Index, Series], Sequence[Any]]\"\u001b[39;00m\n\u001b[1;32m    720\u001b[0m         columns \u001b[38;5;241m=\u001b[39m ensure_index(columns)  \u001b[38;5;66;03m# type: ignore[arg-type]\u001b[39;00m\n\u001b[0;32m--> 721\u001b[0m     arrays, columns, index \u001b[38;5;241m=\u001b[39m \u001b[43mnested_data_to_arrays\u001b[49m\u001b[43m(\u001b[49m\n\u001b[1;32m    722\u001b[0m \u001b[43m        \u001b[49m\u001b[38;5;66;43;03m# error: Argument 3 to \"nested_data_to_arrays\" has incompatible\u001b[39;49;00m\n\u001b[1;32m    723\u001b[0m \u001b[43m        \u001b[49m\u001b[38;5;66;43;03m# type \"Optional[Collection[Any]]\"; expected \"Optional[Index]\"\u001b[39;49;00m\n\u001b[1;32m    724\u001b[0m \u001b[43m        \u001b[49m\u001b[43mdata\u001b[49m\u001b[43m,\u001b[49m\n\u001b[1;32m    725\u001b[0m \u001b[43m        \u001b[49m\u001b[43mcolumns\u001b[49m\u001b[43m,\u001b[49m\n\u001b[1;32m    726\u001b[0m \u001b[43m        \u001b[49m\u001b[43mindex\u001b[49m\u001b[43m,\u001b[49m\u001b[43m  \u001b[49m\u001b[38;5;66;43;03m# type: ignore[arg-type]\u001b[39;49;00m\n\u001b[1;32m    727\u001b[0m \u001b[43m        \u001b[49m\u001b[43mdtype\u001b[49m\u001b[43m,\u001b[49m\n\u001b[1;32m    728\u001b[0m \u001b[43m    \u001b[49m\u001b[43m)\u001b[49m\n\u001b[1;32m    729\u001b[0m     mgr \u001b[38;5;241m=\u001b[39m arrays_to_mgr(\n\u001b[1;32m    730\u001b[0m         arrays,\n\u001b[1;32m    731\u001b[0m         columns,\n\u001b[0;32m   (...)\u001b[0m\n\u001b[1;32m    734\u001b[0m         typ\u001b[38;5;241m=\u001b[39mmanager,\n\u001b[1;32m    735\u001b[0m     )\n\u001b[1;32m    736\u001b[0m \u001b[38;5;28;01melse\u001b[39;00m:\n",
      "File \u001b[0;32m~/opt/anaconda3/lib/python3.9/site-packages/pandas/core/internals/construction.py:519\u001b[0m, in \u001b[0;36mnested_data_to_arrays\u001b[0;34m(data, columns, index, dtype)\u001b[0m\n\u001b[1;32m    516\u001b[0m \u001b[38;5;28;01mif\u001b[39;00m is_named_tuple(data[\u001b[38;5;241m0\u001b[39m]) \u001b[38;5;129;01mand\u001b[39;00m columns \u001b[38;5;129;01mis\u001b[39;00m \u001b[38;5;28;01mNone\u001b[39;00m:\n\u001b[1;32m    517\u001b[0m     columns \u001b[38;5;241m=\u001b[39m ensure_index(data[\u001b[38;5;241m0\u001b[39m]\u001b[38;5;241m.\u001b[39m_fields)\n\u001b[0;32m--> 519\u001b[0m arrays, columns \u001b[38;5;241m=\u001b[39m \u001b[43mto_arrays\u001b[49m\u001b[43m(\u001b[49m\u001b[43mdata\u001b[49m\u001b[43m,\u001b[49m\u001b[43m \u001b[49m\u001b[43mcolumns\u001b[49m\u001b[43m,\u001b[49m\u001b[43m \u001b[49m\u001b[43mdtype\u001b[49m\u001b[38;5;241;43m=\u001b[39;49m\u001b[43mdtype\u001b[49m\u001b[43m)\u001b[49m\n\u001b[1;32m    520\u001b[0m columns \u001b[38;5;241m=\u001b[39m ensure_index(columns)\n\u001b[1;32m    522\u001b[0m \u001b[38;5;28;01mif\u001b[39;00m index \u001b[38;5;129;01mis\u001b[39;00m \u001b[38;5;28;01mNone\u001b[39;00m:\n",
      "File \u001b[0;32m~/opt/anaconda3/lib/python3.9/site-packages/pandas/core/internals/construction.py:875\u001b[0m, in \u001b[0;36mto_arrays\u001b[0;34m(data, columns, dtype)\u001b[0m\n\u001b[1;32m    873\u001b[0m     arr \u001b[38;5;241m=\u001b[39m _list_to_arrays(data)\n\u001b[1;32m    874\u001b[0m \u001b[38;5;28;01melif\u001b[39;00m \u001b[38;5;28misinstance\u001b[39m(data[\u001b[38;5;241m0\u001b[39m], abc\u001b[38;5;241m.\u001b[39mMapping):\n\u001b[0;32m--> 875\u001b[0m     arr, columns \u001b[38;5;241m=\u001b[39m \u001b[43m_list_of_dict_to_arrays\u001b[49m\u001b[43m(\u001b[49m\u001b[43mdata\u001b[49m\u001b[43m,\u001b[49m\u001b[43m \u001b[49m\u001b[43mcolumns\u001b[49m\u001b[43m)\u001b[49m\n\u001b[1;32m    876\u001b[0m \u001b[38;5;28;01melif\u001b[39;00m \u001b[38;5;28misinstance\u001b[39m(data[\u001b[38;5;241m0\u001b[39m], ABCSeries):\n\u001b[1;32m    877\u001b[0m     arr, columns \u001b[38;5;241m=\u001b[39m _list_of_series_to_arrays(data, columns)\n",
      "File \u001b[0;32m~/opt/anaconda3/lib/python3.9/site-packages/pandas/core/internals/construction.py:960\u001b[0m, in \u001b[0;36m_list_of_dict_to_arrays\u001b[0;34m(data, columns)\u001b[0m\n\u001b[1;32m    958\u001b[0m     gen \u001b[38;5;241m=\u001b[39m (\u001b[38;5;28mlist\u001b[39m(x\u001b[38;5;241m.\u001b[39mkeys()) \u001b[38;5;28;01mfor\u001b[39;00m x \u001b[38;5;129;01min\u001b[39;00m data)\n\u001b[1;32m    959\u001b[0m     sort \u001b[38;5;241m=\u001b[39m \u001b[38;5;129;01mnot\u001b[39;00m \u001b[38;5;28many\u001b[39m(\u001b[38;5;28misinstance\u001b[39m(d, \u001b[38;5;28mdict\u001b[39m) \u001b[38;5;28;01mfor\u001b[39;00m d \u001b[38;5;129;01min\u001b[39;00m data)\n\u001b[0;32m--> 960\u001b[0m     pre_cols \u001b[38;5;241m=\u001b[39m \u001b[43mlib\u001b[49m\u001b[38;5;241;43m.\u001b[39;49m\u001b[43mfast_unique_multiple_list_gen\u001b[49m\u001b[43m(\u001b[49m\u001b[43mgen\u001b[49m\u001b[43m,\u001b[49m\u001b[43m \u001b[49m\u001b[43msort\u001b[49m\u001b[38;5;241;43m=\u001b[39;49m\u001b[43msort\u001b[49m\u001b[43m)\u001b[49m\n\u001b[1;32m    961\u001b[0m     columns \u001b[38;5;241m=\u001b[39m ensure_index(pre_cols)\n\u001b[1;32m    963\u001b[0m \u001b[38;5;66;03m# assure that they are of the base dict class and not of derived\u001b[39;00m\n\u001b[1;32m    964\u001b[0m \u001b[38;5;66;03m# classes\u001b[39;00m\n",
      "File \u001b[0;32m~/opt/anaconda3/lib/python3.9/site-packages/pandas/_libs/lib.pyx:403\u001b[0m, in \u001b[0;36mpandas._libs.lib.fast_unique_multiple_list_gen\u001b[0;34m()\u001b[0m\n",
      "File \u001b[0;32m~/opt/anaconda3/lib/python3.9/site-packages/pandas/core/internals/construction.py:958\u001b[0m, in \u001b[0;36m<genexpr>\u001b[0;34m(.0)\u001b[0m\n\u001b[1;32m    938\u001b[0m \u001b[38;5;124;03m\"\"\"\u001b[39;00m\n\u001b[1;32m    939\u001b[0m \u001b[38;5;124;03mConvert list of dicts to numpy arrays\u001b[39;00m\n\u001b[1;32m    940\u001b[0m \n\u001b[0;32m   (...)\u001b[0m\n\u001b[1;32m    955\u001b[0m \u001b[38;5;124;03mcolumns : Index\u001b[39;00m\n\u001b[1;32m    956\u001b[0m \u001b[38;5;124;03m\"\"\"\u001b[39;00m\n\u001b[1;32m    957\u001b[0m \u001b[38;5;28;01mif\u001b[39;00m columns \u001b[38;5;129;01mis\u001b[39;00m \u001b[38;5;28;01mNone\u001b[39;00m:\n\u001b[0;32m--> 958\u001b[0m     gen \u001b[38;5;241m=\u001b[39m (\u001b[38;5;28mlist\u001b[39m(\u001b[43mx\u001b[49m\u001b[38;5;241;43m.\u001b[39;49m\u001b[43mkeys\u001b[49m()) \u001b[38;5;28;01mfor\u001b[39;00m x \u001b[38;5;129;01min\u001b[39;00m data)\n\u001b[1;32m    959\u001b[0m     sort \u001b[38;5;241m=\u001b[39m \u001b[38;5;129;01mnot\u001b[39;00m \u001b[38;5;28many\u001b[39m(\u001b[38;5;28misinstance\u001b[39m(d, \u001b[38;5;28mdict\u001b[39m) \u001b[38;5;28;01mfor\u001b[39;00m d \u001b[38;5;129;01min\u001b[39;00m data)\n\u001b[1;32m    960\u001b[0m     pre_cols \u001b[38;5;241m=\u001b[39m lib\u001b[38;5;241m.\u001b[39mfast_unique_multiple_list_gen(gen, sort\u001b[38;5;241m=\u001b[39msort)\n",
      "\u001b[0;31mAttributeError\u001b[0m: 'NoneType' object has no attribute 'keys'"
     ]
    }
   ],
   "source": [
    "for i  in  result[12]:\n",
    "    print(i)\n",
    "    get_features_df(i)"
   ]
  },
  {
   "cell_type": "code",
   "execution_count": 67,
   "id": "150d2482",
   "metadata": {},
   "outputs": [
    {
     "name": "stdout",
     "output_type": "stream",
     "text": [
      "4QO5FPI0JxcUzJhGU4i8rI\n"
     ]
    },
    {
     "name": "stderr",
     "output_type": "stream",
     "text": [
      "/var/folders/1n/phyrz16s0rd1_mpv046jgqf80000gn/T/ipykernel_17629/3181457209.py:28: FutureWarning: The frame.append method is deprecated and will be removed from pandas in a future version. Use pandas.concat instead.\n",
      "  big_df =big_df.append(df)\n"
     ]
    },
    {
     "name": "stdout",
     "output_type": "stream",
     "text": [
      "54kgZCCHhUPnQWU0T8aHb8\n"
     ]
    },
    {
     "name": "stderr",
     "output_type": "stream",
     "text": [
      "/var/folders/1n/phyrz16s0rd1_mpv046jgqf80000gn/T/ipykernel_17629/3181457209.py:28: FutureWarning: The frame.append method is deprecated and will be removed from pandas in a future version. Use pandas.concat instead.\n",
      "  big_df =big_df.append(df)\n"
     ]
    },
    {
     "name": "stdout",
     "output_type": "stream",
     "text": [
      "5iKvDdecBJSQ5Qg46MN135\n"
     ]
    },
    {
     "name": "stderr",
     "output_type": "stream",
     "text": [
      "/var/folders/1n/phyrz16s0rd1_mpv046jgqf80000gn/T/ipykernel_17629/3181457209.py:28: FutureWarning: The frame.append method is deprecated and will be removed from pandas in a future version. Use pandas.concat instead.\n",
      "  big_df =big_df.append(df)\n"
     ]
    },
    {
     "name": "stdout",
     "output_type": "stream",
     "text": [
      "2QItDAo6NrPbTLzYYg1j8s\n"
     ]
    },
    {
     "name": "stderr",
     "output_type": "stream",
     "text": [
      "/var/folders/1n/phyrz16s0rd1_mpv046jgqf80000gn/T/ipykernel_17629/3181457209.py:28: FutureWarning: The frame.append method is deprecated and will be removed from pandas in a future version. Use pandas.concat instead.\n",
      "  big_df =big_df.append(df)\n"
     ]
    },
    {
     "name": "stdout",
     "output_type": "stream",
     "text": [
      "5Bf10lAe8u4oiayBSDlqDM\n"
     ]
    },
    {
     "name": "stderr",
     "output_type": "stream",
     "text": [
      "/var/folders/1n/phyrz16s0rd1_mpv046jgqf80000gn/T/ipykernel_17629/3181457209.py:28: FutureWarning: The frame.append method is deprecated and will be removed from pandas in a future version. Use pandas.concat instead.\n",
      "  big_df =big_df.append(df)\n"
     ]
    },
    {
     "name": "stdout",
     "output_type": "stream",
     "text": [
      "61AMB6Oddyl1hEUBd9A9sc\n"
     ]
    },
    {
     "name": "stderr",
     "output_type": "stream",
     "text": [
      "/var/folders/1n/phyrz16s0rd1_mpv046jgqf80000gn/T/ipykernel_17629/3181457209.py:28: FutureWarning: The frame.append method is deprecated and will be removed from pandas in a future version. Use pandas.concat instead.\n",
      "  big_df =big_df.append(df)\n"
     ]
    },
    {
     "name": "stdout",
     "output_type": "stream",
     "text": [
      "2f6QGyAso6OlpaJhuGjopB\n"
     ]
    },
    {
     "name": "stderr",
     "output_type": "stream",
     "text": [
      "/var/folders/1n/phyrz16s0rd1_mpv046jgqf80000gn/T/ipykernel_17629/3181457209.py:28: FutureWarning: The frame.append method is deprecated and will be removed from pandas in a future version. Use pandas.concat instead.\n",
      "  big_df =big_df.append(df)\n"
     ]
    },
    {
     "name": "stdout",
     "output_type": "stream",
     "text": [
      "6WFgrmagtAXNG2qKgJgSD9\n"
     ]
    },
    {
     "name": "stderr",
     "output_type": "stream",
     "text": [
      "/var/folders/1n/phyrz16s0rd1_mpv046jgqf80000gn/T/ipykernel_17629/3181457209.py:28: FutureWarning: The frame.append method is deprecated and will be removed from pandas in a future version. Use pandas.concat instead.\n",
      "  big_df =big_df.append(df)\n"
     ]
    },
    {
     "name": "stdout",
     "output_type": "stream",
     "text": [
      "7z91neKtQAc0DnOyyHnr67\n"
     ]
    },
    {
     "name": "stderr",
     "output_type": "stream",
     "text": [
      "/var/folders/1n/phyrz16s0rd1_mpv046jgqf80000gn/T/ipykernel_17629/3181457209.py:28: FutureWarning: The frame.append method is deprecated and will be removed from pandas in a future version. Use pandas.concat instead.\n",
      "  big_df =big_df.append(df)\n"
     ]
    },
    {
     "name": "stdout",
     "output_type": "stream",
     "text": [
      "1CKDPAYPv9QeMgLD8nmWhz\n"
     ]
    },
    {
     "name": "stderr",
     "output_type": "stream",
     "text": [
      "/var/folders/1n/phyrz16s0rd1_mpv046jgqf80000gn/T/ipykernel_17629/3181457209.py:28: FutureWarning: The frame.append method is deprecated and will be removed from pandas in a future version. Use pandas.concat instead.\n",
      "  big_df =big_df.append(df)\n"
     ]
    },
    {
     "name": "stdout",
     "output_type": "stream",
     "text": [
      "4NDzFx1QQw9nxSOk7PQJ4I\n"
     ]
    },
    {
     "name": "stderr",
     "output_type": "stream",
     "text": [
      "/var/folders/1n/phyrz16s0rd1_mpv046jgqf80000gn/T/ipykernel_17629/3181457209.py:28: FutureWarning: The frame.append method is deprecated and will be removed from pandas in a future version. Use pandas.concat instead.\n",
      "  big_df =big_df.append(df)\n"
     ]
    },
    {
     "name": "stdout",
     "output_type": "stream",
     "text": [
      "2KpqbUyQjQOcbISiQmUm4s\n"
     ]
    },
    {
     "name": "stderr",
     "output_type": "stream",
     "text": [
      "/var/folders/1n/phyrz16s0rd1_mpv046jgqf80000gn/T/ipykernel_17629/3181457209.py:28: FutureWarning: The frame.append method is deprecated and will be removed from pandas in a future version. Use pandas.concat instead.\n",
      "  big_df =big_df.append(df)\n"
     ]
    },
    {
     "name": "stdout",
     "output_type": "stream",
     "text": [
      "4rAO16HPp9ZQZ4bvclqVWe\n"
     ]
    },
    {
     "name": "stderr",
     "output_type": "stream",
     "text": [
      "/var/folders/1n/phyrz16s0rd1_mpv046jgqf80000gn/T/ipykernel_17629/3181457209.py:28: FutureWarning: The frame.append method is deprecated and will be removed from pandas in a future version. Use pandas.concat instead.\n",
      "  big_df =big_df.append(df)\n"
     ]
    },
    {
     "name": "stdout",
     "output_type": "stream",
     "text": [
      "3VKeOhZ2pYJnpJGokFZLJQ\n"
     ]
    },
    {
     "name": "stderr",
     "output_type": "stream",
     "text": [
      "/var/folders/1n/phyrz16s0rd1_mpv046jgqf80000gn/T/ipykernel_17629/3181457209.py:28: FutureWarning: The frame.append method is deprecated and will be removed from pandas in a future version. Use pandas.concat instead.\n",
      "  big_df =big_df.append(df)\n"
     ]
    },
    {
     "name": "stdout",
     "output_type": "stream",
     "text": [
      "1dP8vfs0Vt1uNk8VbPVwWJ\n"
     ]
    },
    {
     "name": "stderr",
     "output_type": "stream",
     "text": [
      "/var/folders/1n/phyrz16s0rd1_mpv046jgqf80000gn/T/ipykernel_17629/3181457209.py:28: FutureWarning: The frame.append method is deprecated and will be removed from pandas in a future version. Use pandas.concat instead.\n",
      "  big_df =big_df.append(df)\n"
     ]
    },
    {
     "name": "stdout",
     "output_type": "stream",
     "text": [
      "6HZZEMqGEsgkveYAGbjWCw\n"
     ]
    },
    {
     "name": "stderr",
     "output_type": "stream",
     "text": [
      "/var/folders/1n/phyrz16s0rd1_mpv046jgqf80000gn/T/ipykernel_17629/3181457209.py:28: FutureWarning: The frame.append method is deprecated and will be removed from pandas in a future version. Use pandas.concat instead.\n",
      "  big_df =big_df.append(df)\n"
     ]
    },
    {
     "name": "stdout",
     "output_type": "stream",
     "text": [
      "3yj9YnQGTdnFuKbDyXGDi6\n"
     ]
    },
    {
     "name": "stderr",
     "output_type": "stream",
     "text": [
      "/var/folders/1n/phyrz16s0rd1_mpv046jgqf80000gn/T/ipykernel_17629/3181457209.py:28: FutureWarning: The frame.append method is deprecated and will be removed from pandas in a future version. Use pandas.concat instead.\n",
      "  big_df =big_df.append(df)\n"
     ]
    },
    {
     "name": "stdout",
     "output_type": "stream",
     "text": [
      "3l8LWCr0z7TSPwrFhJCqbJ\n"
     ]
    },
    {
     "name": "stderr",
     "output_type": "stream",
     "text": [
      "/var/folders/1n/phyrz16s0rd1_mpv046jgqf80000gn/T/ipykernel_17629/3181457209.py:28: FutureWarning: The frame.append method is deprecated and will be removed from pandas in a future version. Use pandas.concat instead.\n",
      "  big_df =big_df.append(df)\n"
     ]
    },
    {
     "name": "stdout",
     "output_type": "stream",
     "text": [
      "6IUydBH9TAZUlLqdDI1m5g\n"
     ]
    },
    {
     "name": "stderr",
     "output_type": "stream",
     "text": [
      "/var/folders/1n/phyrz16s0rd1_mpv046jgqf80000gn/T/ipykernel_17629/3181457209.py:28: FutureWarning: The frame.append method is deprecated and will be removed from pandas in a future version. Use pandas.concat instead.\n",
      "  big_df =big_df.append(df)\n"
     ]
    },
    {
     "name": "stdout",
     "output_type": "stream",
     "text": [
      "3B7t8HFv1PowgvPsLq6Qbf\n"
     ]
    },
    {
     "name": "stderr",
     "output_type": "stream",
     "text": [
      "/var/folders/1n/phyrz16s0rd1_mpv046jgqf80000gn/T/ipykernel_17629/3181457209.py:28: FutureWarning: The frame.append method is deprecated and will be removed from pandas in a future version. Use pandas.concat instead.\n",
      "  big_df =big_df.append(df)\n"
     ]
    },
    {
     "name": "stdout",
     "output_type": "stream",
     "text": [
      "18rkg4zW2Xuo6RQCZjoq10\n"
     ]
    },
    {
     "ename": "TypeError",
     "evalue": "'NoneType' object is not subscriptable",
     "output_type": "error",
     "traceback": [
      "\u001b[0;31m---------------------------------------------------------------------------\u001b[0m",
      "\u001b[0;31mTypeError\u001b[0m                                 Traceback (most recent call last)",
      "Input \u001b[0;32mIn [67]\u001b[0m, in \u001b[0;36m<cell line: 1>\u001b[0;34m()\u001b[0m\n\u001b[1;32m      1\u001b[0m \u001b[38;5;28;01mfor\u001b[39;00m i  \u001b[38;5;129;01min\u001b[39;00m  result[\u001b[38;5;241m13\u001b[39m]:\n\u001b[1;32m      2\u001b[0m     \u001b[38;5;28mprint\u001b[39m(i)\n\u001b[0;32m----> 3\u001b[0m     \u001b[43mget_features_df\u001b[49m\u001b[43m(\u001b[49m\u001b[43mi\u001b[49m\u001b[43m)\u001b[49m\n",
      "Input \u001b[0;32mIn [4]\u001b[0m, in \u001b[0;36mget_features_df\u001b[0;34m(playlist_id)\u001b[0m\n\u001b[1;32m     15\u001b[0m \u001b[38;5;66;03m#getting features per song in  playlist \u001b[39;00m\n\u001b[1;32m     16\u001b[0m     \u001b[38;5;28;01mfor\u001b[39;00m value \u001b[38;5;129;01min\u001b[39;00m \u001b[38;5;28mrange\u001b[39m(\u001b[38;5;241m0\u001b[39m,\u001b[38;5;28mlen\u001b[39m(tracks)):\n\u001b[0;32m---> 18\u001b[0m         list_of_audio_features\u001b[38;5;241m.\u001b[39mappend(sp\u001b[38;5;241m.\u001b[39maudio_features(\u001b[43mtracks\u001b[49m\u001b[43m[\u001b[49m\u001b[43mvalue\u001b[49m\u001b[43m]\u001b[49m\u001b[43m[\u001b[49m\u001b[38;5;124;43m\"\u001b[39;49m\u001b[38;5;124;43mtrack\u001b[39;49m\u001b[38;5;124;43m\"\u001b[39;49m\u001b[43m]\u001b[49m\u001b[43m[\u001b[49m\u001b[38;5;124;43m\"\u001b[39;49m\u001b[38;5;124;43mid\u001b[39;49m\u001b[38;5;124;43m\"\u001b[39;49m\u001b[43m]\u001b[49m)[\u001b[38;5;241m0\u001b[39m])\n\u001b[1;32m     21\u001b[0m \u001b[38;5;66;03m#creating df with audio features and adding song name and artist     \u001b[39;00m\n\u001b[1;32m     22\u001b[0m     df\u001b[38;5;241m=\u001b[39mpd\u001b[38;5;241m.\u001b[39mDataFrame(list_of_audio_features)    \n",
      "\u001b[0;31mTypeError\u001b[0m: 'NoneType' object is not subscriptable"
     ]
    }
   ],
   "source": [
    "for i  in  result[13]:\n",
    "    print(i)\n",
    "    get_features_df(i)"
   ]
  },
  {
   "cell_type": "code",
   "execution_count": 68,
   "id": "55b0ddaa",
   "metadata": {},
   "outputs": [
    {
     "name": "stdout",
     "output_type": "stream",
     "text": [
      "76EUKJvEF2zPCLt0AuPvXT\n"
     ]
    },
    {
     "name": "stderr",
     "output_type": "stream",
     "text": [
      "/var/folders/1n/phyrz16s0rd1_mpv046jgqf80000gn/T/ipykernel_17629/3181457209.py:28: FutureWarning: The frame.append method is deprecated and will be removed from pandas in a future version. Use pandas.concat instead.\n",
      "  big_df =big_df.append(df)\n"
     ]
    },
    {
     "name": "stdout",
     "output_type": "stream",
     "text": [
      "3oBf8kc02esfPC3PUuSZks\n"
     ]
    },
    {
     "name": "stderr",
     "output_type": "stream",
     "text": [
      "/var/folders/1n/phyrz16s0rd1_mpv046jgqf80000gn/T/ipykernel_17629/3181457209.py:28: FutureWarning: The frame.append method is deprecated and will be removed from pandas in a future version. Use pandas.concat instead.\n",
      "  big_df =big_df.append(df)\n"
     ]
    },
    {
     "name": "stdout",
     "output_type": "stream",
     "text": [
      "04oO8fvjG3alSM9OcEfT3y\n"
     ]
    },
    {
     "name": "stderr",
     "output_type": "stream",
     "text": [
      "/var/folders/1n/phyrz16s0rd1_mpv046jgqf80000gn/T/ipykernel_17629/3181457209.py:28: FutureWarning: The frame.append method is deprecated and will be removed from pandas in a future version. Use pandas.concat instead.\n",
      "  big_df =big_df.append(df)\n"
     ]
    },
    {
     "name": "stdout",
     "output_type": "stream",
     "text": [
      "1L3GAiiBL5sBNbDEAMGMEA\n"
     ]
    },
    {
     "name": "stderr",
     "output_type": "stream",
     "text": [
      "/var/folders/1n/phyrz16s0rd1_mpv046jgqf80000gn/T/ipykernel_17629/3181457209.py:28: FutureWarning: The frame.append method is deprecated and will be removed from pandas in a future version. Use pandas.concat instead.\n",
      "  big_df =big_df.append(df)\n"
     ]
    },
    {
     "name": "stdout",
     "output_type": "stream",
     "text": [
      "3CBfMoFYBPPtZNE3uRlmZi\n"
     ]
    },
    {
     "name": "stderr",
     "output_type": "stream",
     "text": [
      "/var/folders/1n/phyrz16s0rd1_mpv046jgqf80000gn/T/ipykernel_17629/3181457209.py:28: FutureWarning: The frame.append method is deprecated and will be removed from pandas in a future version. Use pandas.concat instead.\n",
      "  big_df =big_df.append(df)\n"
     ]
    },
    {
     "name": "stdout",
     "output_type": "stream",
     "text": [
      "40h91GpdbHja6VVsnetD0r\n"
     ]
    },
    {
     "name": "stderr",
     "output_type": "stream",
     "text": [
      "/var/folders/1n/phyrz16s0rd1_mpv046jgqf80000gn/T/ipykernel_17629/3181457209.py:28: FutureWarning: The frame.append method is deprecated and will be removed from pandas in a future version. Use pandas.concat instead.\n",
      "  big_df =big_df.append(df)\n"
     ]
    },
    {
     "name": "stdout",
     "output_type": "stream",
     "text": [
      "5yIGJGL7xNaqIMDX1lyBhK\n"
     ]
    },
    {
     "name": "stderr",
     "output_type": "stream",
     "text": [
      "/var/folders/1n/phyrz16s0rd1_mpv046jgqf80000gn/T/ipykernel_17629/3181457209.py:28: FutureWarning: The frame.append method is deprecated and will be removed from pandas in a future version. Use pandas.concat instead.\n",
      "  big_df =big_df.append(df)\n"
     ]
    },
    {
     "name": "stdout",
     "output_type": "stream",
     "text": [
      "1G2wEAoTNmKc75PoOvV0P7\n"
     ]
    },
    {
     "name": "stderr",
     "output_type": "stream",
     "text": [
      "/var/folders/1n/phyrz16s0rd1_mpv046jgqf80000gn/T/ipykernel_17629/3181457209.py:28: FutureWarning: The frame.append method is deprecated and will be removed from pandas in a future version. Use pandas.concat instead.\n",
      "  big_df =big_df.append(df)\n"
     ]
    },
    {
     "name": "stdout",
     "output_type": "stream",
     "text": [
      "6aX6hpDdfZa2zVfEv82Yzr\n"
     ]
    },
    {
     "name": "stderr",
     "output_type": "stream",
     "text": [
      "/var/folders/1n/phyrz16s0rd1_mpv046jgqf80000gn/T/ipykernel_17629/3181457209.py:28: FutureWarning: The frame.append method is deprecated and will be removed from pandas in a future version. Use pandas.concat instead.\n",
      "  big_df =big_df.append(df)\n"
     ]
    },
    {
     "name": "stdout",
     "output_type": "stream",
     "text": [
      "3qxSuTNp8RQ3QAnsQkMan4\n"
     ]
    },
    {
     "name": "stderr",
     "output_type": "stream",
     "text": [
      "/var/folders/1n/phyrz16s0rd1_mpv046jgqf80000gn/T/ipykernel_17629/3181457209.py:28: FutureWarning: The frame.append method is deprecated and will be removed from pandas in a future version. Use pandas.concat instead.\n",
      "  big_df =big_df.append(df)\n"
     ]
    },
    {
     "name": "stdout",
     "output_type": "stream",
     "text": [
      "5BsjWwpsDp6nIjGWDlep8A\n"
     ]
    },
    {
     "name": "stderr",
     "output_type": "stream",
     "text": [
      "/var/folders/1n/phyrz16s0rd1_mpv046jgqf80000gn/T/ipykernel_17629/3181457209.py:28: FutureWarning: The frame.append method is deprecated and will be removed from pandas in a future version. Use pandas.concat instead.\n",
      "  big_df =big_df.append(df)\n"
     ]
    },
    {
     "name": "stdout",
     "output_type": "stream",
     "text": [
      "1qpcTBjAx26Xiw6ZClVVGm\n"
     ]
    },
    {
     "name": "stderr",
     "output_type": "stream",
     "text": [
      "/var/folders/1n/phyrz16s0rd1_mpv046jgqf80000gn/T/ipykernel_17629/3181457209.py:28: FutureWarning: The frame.append method is deprecated and will be removed from pandas in a future version. Use pandas.concat instead.\n",
      "  big_df =big_df.append(df)\n"
     ]
    },
    {
     "name": "stdout",
     "output_type": "stream",
     "text": [
      "2xnB7TJO3T8yTGwrRI98IO\n"
     ]
    },
    {
     "name": "stderr",
     "output_type": "stream",
     "text": [
      "/var/folders/1n/phyrz16s0rd1_mpv046jgqf80000gn/T/ipykernel_17629/3181457209.py:28: FutureWarning: The frame.append method is deprecated and will be removed from pandas in a future version. Use pandas.concat instead.\n",
      "  big_df =big_df.append(df)\n"
     ]
    },
    {
     "name": "stdout",
     "output_type": "stream",
     "text": [
      "3uzi1GRl4eTJYyQhGvDf7X\n"
     ]
    },
    {
     "name": "stderr",
     "output_type": "stream",
     "text": [
      "/var/folders/1n/phyrz16s0rd1_mpv046jgqf80000gn/T/ipykernel_17629/3181457209.py:28: FutureWarning: The frame.append method is deprecated and will be removed from pandas in a future version. Use pandas.concat instead.\n",
      "  big_df =big_df.append(df)\n"
     ]
    },
    {
     "name": "stdout",
     "output_type": "stream",
     "text": [
      "2STQEZpFAQHJqrT3UhRNIK\n"
     ]
    },
    {
     "name": "stderr",
     "output_type": "stream",
     "text": [
      "/var/folders/1n/phyrz16s0rd1_mpv046jgqf80000gn/T/ipykernel_17629/3181457209.py:28: FutureWarning: The frame.append method is deprecated and will be removed from pandas in a future version. Use pandas.concat instead.\n",
      "  big_df =big_df.append(df)\n"
     ]
    },
    {
     "name": "stdout",
     "output_type": "stream",
     "text": [
      "5ZkLWGmHP329LAyPnpvydQ\n"
     ]
    },
    {
     "name": "stderr",
     "output_type": "stream",
     "text": [
      "/var/folders/1n/phyrz16s0rd1_mpv046jgqf80000gn/T/ipykernel_17629/3181457209.py:28: FutureWarning: The frame.append method is deprecated and will be removed from pandas in a future version. Use pandas.concat instead.\n",
      "  big_df =big_df.append(df)\n"
     ]
    },
    {
     "name": "stdout",
     "output_type": "stream",
     "text": [
      "35qTca30VI81L6lzyZFLXH\n"
     ]
    },
    {
     "name": "stderr",
     "output_type": "stream",
     "text": [
      "/var/folders/1n/phyrz16s0rd1_mpv046jgqf80000gn/T/ipykernel_17629/3181457209.py:28: FutureWarning: The frame.append method is deprecated and will be removed from pandas in a future version. Use pandas.concat instead.\n",
      "  big_df =big_df.append(df)\n"
     ]
    },
    {
     "name": "stdout",
     "output_type": "stream",
     "text": [
      "5PZu55kuQyZjNE43eQuuTB\n"
     ]
    },
    {
     "name": "stderr",
     "output_type": "stream",
     "text": [
      "/var/folders/1n/phyrz16s0rd1_mpv046jgqf80000gn/T/ipykernel_17629/3181457209.py:28: FutureWarning: The frame.append method is deprecated and will be removed from pandas in a future version. Use pandas.concat instead.\n",
      "  big_df =big_df.append(df)\n"
     ]
    },
    {
     "name": "stdout",
     "output_type": "stream",
     "text": [
      "3TrVU2j0y1Og2K9wJC7Mh5\n"
     ]
    },
    {
     "name": "stderr",
     "output_type": "stream",
     "text": [
      "/var/folders/1n/phyrz16s0rd1_mpv046jgqf80000gn/T/ipykernel_17629/3181457209.py:28: FutureWarning: The frame.append method is deprecated and will be removed from pandas in a future version. Use pandas.concat instead.\n",
      "  big_df =big_df.append(df)\n"
     ]
    },
    {
     "name": "stdout",
     "output_type": "stream",
     "text": [
      "68yWjo2Nhi5q74Q58yt1mU\n"
     ]
    },
    {
     "name": "stderr",
     "output_type": "stream",
     "text": [
      "/var/folders/1n/phyrz16s0rd1_mpv046jgqf80000gn/T/ipykernel_17629/3181457209.py:28: FutureWarning: The frame.append method is deprecated and will be removed from pandas in a future version. Use pandas.concat instead.\n",
      "  big_df =big_df.append(df)\n"
     ]
    },
    {
     "name": "stdout",
     "output_type": "stream",
     "text": [
      "3hOKZkKbbvR05LZsde28i6\n"
     ]
    },
    {
     "name": "stderr",
     "output_type": "stream",
     "text": [
      "/var/folders/1n/phyrz16s0rd1_mpv046jgqf80000gn/T/ipykernel_17629/3181457209.py:28: FutureWarning: The frame.append method is deprecated and will be removed from pandas in a future version. Use pandas.concat instead.\n",
      "  big_df =big_df.append(df)\n"
     ]
    },
    {
     "name": "stdout",
     "output_type": "stream",
     "text": [
      "5dGF6rhQja0vlPM2w90775\n"
     ]
    },
    {
     "name": "stderr",
     "output_type": "stream",
     "text": [
      "/var/folders/1n/phyrz16s0rd1_mpv046jgqf80000gn/T/ipykernel_17629/3181457209.py:28: FutureWarning: The frame.append method is deprecated and will be removed from pandas in a future version. Use pandas.concat instead.\n",
      "  big_df =big_df.append(df)\n"
     ]
    },
    {
     "name": "stdout",
     "output_type": "stream",
     "text": [
      "4NWfwcqBdZ3wltgu3BESG7\n"
     ]
    },
    {
     "name": "stderr",
     "output_type": "stream",
     "text": [
      "/var/folders/1n/phyrz16s0rd1_mpv046jgqf80000gn/T/ipykernel_17629/3181457209.py:28: FutureWarning: The frame.append method is deprecated and will be removed from pandas in a future version. Use pandas.concat instead.\n",
      "  big_df =big_df.append(df)\n"
     ]
    },
    {
     "name": "stdout",
     "output_type": "stream",
     "text": [
      "4KgZ9ZN10RfjRxBYkj6tTK\n"
     ]
    },
    {
     "name": "stderr",
     "output_type": "stream",
     "text": [
      "/var/folders/1n/phyrz16s0rd1_mpv046jgqf80000gn/T/ipykernel_17629/3181457209.py:28: FutureWarning: The frame.append method is deprecated and will be removed from pandas in a future version. Use pandas.concat instead.\n",
      "  big_df =big_df.append(df)\n"
     ]
    },
    {
     "name": "stdout",
     "output_type": "stream",
     "text": [
      "63XcNlx6B8Ilew6hsGPr82\n"
     ]
    },
    {
     "name": "stderr",
     "output_type": "stream",
     "text": [
      "/var/folders/1n/phyrz16s0rd1_mpv046jgqf80000gn/T/ipykernel_17629/3181457209.py:28: FutureWarning: The frame.append method is deprecated and will be removed from pandas in a future version. Use pandas.concat instead.\n",
      "  big_df =big_df.append(df)\n"
     ]
    },
    {
     "name": "stdout",
     "output_type": "stream",
     "text": [
      "7lqKESEBuOaNuquLaHdKrO\n"
     ]
    },
    {
     "ename": "ReadTimeout",
     "evalue": "HTTPSConnectionPool(host='api.spotify.com', port=443): Read timed out. (read timeout=5)",
     "output_type": "error",
     "traceback": [
      "\u001b[0;31m---------------------------------------------------------------------------\u001b[0m",
      "\u001b[0;31mtimeout\u001b[0m                                   Traceback (most recent call last)",
      "File \u001b[0;32m~/opt/anaconda3/lib/python3.9/site-packages/urllib3/connectionpool.py:449\u001b[0m, in \u001b[0;36mHTTPConnectionPool._make_request\u001b[0;34m(self, conn, method, url, timeout, chunked, **httplib_request_kw)\u001b[0m\n\u001b[1;32m    445\u001b[0m         \u001b[38;5;28;01mexcept\u001b[39;00m \u001b[38;5;167;01mBaseException\u001b[39;00m \u001b[38;5;28;01mas\u001b[39;00m e:\n\u001b[1;32m    446\u001b[0m             \u001b[38;5;66;03m# Remove the TypeError from the exception chain in\u001b[39;00m\n\u001b[1;32m    447\u001b[0m             \u001b[38;5;66;03m# Python 3 (including for exceptions like SystemExit).\u001b[39;00m\n\u001b[1;32m    448\u001b[0m             \u001b[38;5;66;03m# Otherwise it looks like a bug in the code.\u001b[39;00m\n\u001b[0;32m--> 449\u001b[0m             \u001b[43msix\u001b[49m\u001b[38;5;241;43m.\u001b[39;49m\u001b[43mraise_from\u001b[49m\u001b[43m(\u001b[49m\u001b[43me\u001b[49m\u001b[43m,\u001b[49m\u001b[43m \u001b[49m\u001b[38;5;28;43;01mNone\u001b[39;49;00m\u001b[43m)\u001b[49m\n\u001b[1;32m    450\u001b[0m \u001b[38;5;28;01mexcept\u001b[39;00m (SocketTimeout, BaseSSLError, SocketError) \u001b[38;5;28;01mas\u001b[39;00m e:\n",
      "File \u001b[0;32m<string>:3\u001b[0m, in \u001b[0;36mraise_from\u001b[0;34m(value, from_value)\u001b[0m\n",
      "File \u001b[0;32m~/opt/anaconda3/lib/python3.9/site-packages/urllib3/connectionpool.py:444\u001b[0m, in \u001b[0;36mHTTPConnectionPool._make_request\u001b[0;34m(self, conn, method, url, timeout, chunked, **httplib_request_kw)\u001b[0m\n\u001b[1;32m    443\u001b[0m \u001b[38;5;28;01mtry\u001b[39;00m:\n\u001b[0;32m--> 444\u001b[0m     httplib_response \u001b[38;5;241m=\u001b[39m \u001b[43mconn\u001b[49m\u001b[38;5;241;43m.\u001b[39;49m\u001b[43mgetresponse\u001b[49m\u001b[43m(\u001b[49m\u001b[43m)\u001b[49m\n\u001b[1;32m    445\u001b[0m \u001b[38;5;28;01mexcept\u001b[39;00m \u001b[38;5;167;01mBaseException\u001b[39;00m \u001b[38;5;28;01mas\u001b[39;00m e:\n\u001b[1;32m    446\u001b[0m     \u001b[38;5;66;03m# Remove the TypeError from the exception chain in\u001b[39;00m\n\u001b[1;32m    447\u001b[0m     \u001b[38;5;66;03m# Python 3 (including for exceptions like SystemExit).\u001b[39;00m\n\u001b[1;32m    448\u001b[0m     \u001b[38;5;66;03m# Otherwise it looks like a bug in the code.\u001b[39;00m\n",
      "File \u001b[0;32m~/opt/anaconda3/lib/python3.9/http/client.py:1377\u001b[0m, in \u001b[0;36mHTTPConnection.getresponse\u001b[0;34m(self)\u001b[0m\n\u001b[1;32m   1376\u001b[0m \u001b[38;5;28;01mtry\u001b[39;00m:\n\u001b[0;32m-> 1377\u001b[0m     \u001b[43mresponse\u001b[49m\u001b[38;5;241;43m.\u001b[39;49m\u001b[43mbegin\u001b[49m\u001b[43m(\u001b[49m\u001b[43m)\u001b[49m\n\u001b[1;32m   1378\u001b[0m \u001b[38;5;28;01mexcept\u001b[39;00m \u001b[38;5;167;01mConnectionError\u001b[39;00m:\n",
      "File \u001b[0;32m~/opt/anaconda3/lib/python3.9/http/client.py:320\u001b[0m, in \u001b[0;36mHTTPResponse.begin\u001b[0;34m(self)\u001b[0m\n\u001b[1;32m    319\u001b[0m \u001b[38;5;28;01mwhile\u001b[39;00m \u001b[38;5;28;01mTrue\u001b[39;00m:\n\u001b[0;32m--> 320\u001b[0m     version, status, reason \u001b[38;5;241m=\u001b[39m \u001b[38;5;28;43mself\u001b[39;49m\u001b[38;5;241;43m.\u001b[39;49m\u001b[43m_read_status\u001b[49m\u001b[43m(\u001b[49m\u001b[43m)\u001b[49m\n\u001b[1;32m    321\u001b[0m     \u001b[38;5;28;01mif\u001b[39;00m status \u001b[38;5;241m!=\u001b[39m CONTINUE:\n",
      "File \u001b[0;32m~/opt/anaconda3/lib/python3.9/http/client.py:281\u001b[0m, in \u001b[0;36mHTTPResponse._read_status\u001b[0;34m(self)\u001b[0m\n\u001b[1;32m    280\u001b[0m \u001b[38;5;28;01mdef\u001b[39;00m \u001b[38;5;21m_read_status\u001b[39m(\u001b[38;5;28mself\u001b[39m):\n\u001b[0;32m--> 281\u001b[0m     line \u001b[38;5;241m=\u001b[39m \u001b[38;5;28mstr\u001b[39m(\u001b[38;5;28;43mself\u001b[39;49m\u001b[38;5;241;43m.\u001b[39;49m\u001b[43mfp\u001b[49m\u001b[38;5;241;43m.\u001b[39;49m\u001b[43mreadline\u001b[49m\u001b[43m(\u001b[49m\u001b[43m_MAXLINE\u001b[49m\u001b[43m \u001b[49m\u001b[38;5;241;43m+\u001b[39;49m\u001b[43m \u001b[49m\u001b[38;5;241;43m1\u001b[39;49m\u001b[43m)\u001b[49m, \u001b[38;5;124m\"\u001b[39m\u001b[38;5;124miso-8859-1\u001b[39m\u001b[38;5;124m\"\u001b[39m)\n\u001b[1;32m    282\u001b[0m     \u001b[38;5;28;01mif\u001b[39;00m \u001b[38;5;28mlen\u001b[39m(line) \u001b[38;5;241m>\u001b[39m _MAXLINE:\n",
      "File \u001b[0;32m~/opt/anaconda3/lib/python3.9/socket.py:704\u001b[0m, in \u001b[0;36mSocketIO.readinto\u001b[0;34m(self, b)\u001b[0m\n\u001b[1;32m    703\u001b[0m \u001b[38;5;28;01mtry\u001b[39;00m:\n\u001b[0;32m--> 704\u001b[0m     \u001b[38;5;28;01mreturn\u001b[39;00m \u001b[38;5;28;43mself\u001b[39;49m\u001b[38;5;241;43m.\u001b[39;49m\u001b[43m_sock\u001b[49m\u001b[38;5;241;43m.\u001b[39;49m\u001b[43mrecv_into\u001b[49m\u001b[43m(\u001b[49m\u001b[43mb\u001b[49m\u001b[43m)\u001b[49m\n\u001b[1;32m    705\u001b[0m \u001b[38;5;28;01mexcept\u001b[39;00m timeout:\n",
      "File \u001b[0;32m~/opt/anaconda3/lib/python3.9/ssl.py:1241\u001b[0m, in \u001b[0;36mSSLSocket.recv_into\u001b[0;34m(self, buffer, nbytes, flags)\u001b[0m\n\u001b[1;32m   1238\u001b[0m         \u001b[38;5;28;01mraise\u001b[39;00m \u001b[38;5;167;01mValueError\u001b[39;00m(\n\u001b[1;32m   1239\u001b[0m           \u001b[38;5;124m\"\u001b[39m\u001b[38;5;124mnon-zero flags not allowed in calls to recv_into() on \u001b[39m\u001b[38;5;132;01m%s\u001b[39;00m\u001b[38;5;124m\"\u001b[39m \u001b[38;5;241m%\u001b[39m\n\u001b[1;32m   1240\u001b[0m           \u001b[38;5;28mself\u001b[39m\u001b[38;5;241m.\u001b[39m\u001b[38;5;18m__class__\u001b[39m)\n\u001b[0;32m-> 1241\u001b[0m     \u001b[38;5;28;01mreturn\u001b[39;00m \u001b[38;5;28;43mself\u001b[39;49m\u001b[38;5;241;43m.\u001b[39;49m\u001b[43mread\u001b[49m\u001b[43m(\u001b[49m\u001b[43mnbytes\u001b[49m\u001b[43m,\u001b[49m\u001b[43m \u001b[49m\u001b[43mbuffer\u001b[49m\u001b[43m)\u001b[49m\n\u001b[1;32m   1242\u001b[0m \u001b[38;5;28;01melse\u001b[39;00m:\n",
      "File \u001b[0;32m~/opt/anaconda3/lib/python3.9/ssl.py:1099\u001b[0m, in \u001b[0;36mSSLSocket.read\u001b[0;34m(self, len, buffer)\u001b[0m\n\u001b[1;32m   1098\u001b[0m \u001b[38;5;28;01mif\u001b[39;00m buffer \u001b[38;5;129;01mis\u001b[39;00m \u001b[38;5;129;01mnot\u001b[39;00m \u001b[38;5;28;01mNone\u001b[39;00m:\n\u001b[0;32m-> 1099\u001b[0m     \u001b[38;5;28;01mreturn\u001b[39;00m \u001b[38;5;28;43mself\u001b[39;49m\u001b[38;5;241;43m.\u001b[39;49m\u001b[43m_sslobj\u001b[49m\u001b[38;5;241;43m.\u001b[39;49m\u001b[43mread\u001b[49m\u001b[43m(\u001b[49m\u001b[38;5;28;43mlen\u001b[39;49m\u001b[43m,\u001b[49m\u001b[43m \u001b[49m\u001b[43mbuffer\u001b[49m\u001b[43m)\u001b[49m\n\u001b[1;32m   1100\u001b[0m \u001b[38;5;28;01melse\u001b[39;00m:\n",
      "\u001b[0;31mtimeout\u001b[0m: The read operation timed out",
      "\nDuring handling of the above exception, another exception occurred:\n",
      "\u001b[0;31mReadTimeoutError\u001b[0m                          Traceback (most recent call last)",
      "File \u001b[0;32m~/opt/anaconda3/lib/python3.9/site-packages/requests/adapters.py:440\u001b[0m, in \u001b[0;36mHTTPAdapter.send\u001b[0;34m(self, request, stream, timeout, verify, cert, proxies)\u001b[0m\n\u001b[1;32m    439\u001b[0m \u001b[38;5;28;01mif\u001b[39;00m \u001b[38;5;129;01mnot\u001b[39;00m chunked:\n\u001b[0;32m--> 440\u001b[0m     resp \u001b[38;5;241m=\u001b[39m \u001b[43mconn\u001b[49m\u001b[38;5;241;43m.\u001b[39;49m\u001b[43murlopen\u001b[49m\u001b[43m(\u001b[49m\n\u001b[1;32m    441\u001b[0m \u001b[43m        \u001b[49m\u001b[43mmethod\u001b[49m\u001b[38;5;241;43m=\u001b[39;49m\u001b[43mrequest\u001b[49m\u001b[38;5;241;43m.\u001b[39;49m\u001b[43mmethod\u001b[49m\u001b[43m,\u001b[49m\n\u001b[1;32m    442\u001b[0m \u001b[43m        \u001b[49m\u001b[43murl\u001b[49m\u001b[38;5;241;43m=\u001b[39;49m\u001b[43murl\u001b[49m\u001b[43m,\u001b[49m\n\u001b[1;32m    443\u001b[0m \u001b[43m        \u001b[49m\u001b[43mbody\u001b[49m\u001b[38;5;241;43m=\u001b[39;49m\u001b[43mrequest\u001b[49m\u001b[38;5;241;43m.\u001b[39;49m\u001b[43mbody\u001b[49m\u001b[43m,\u001b[49m\n\u001b[1;32m    444\u001b[0m \u001b[43m        \u001b[49m\u001b[43mheaders\u001b[49m\u001b[38;5;241;43m=\u001b[39;49m\u001b[43mrequest\u001b[49m\u001b[38;5;241;43m.\u001b[39;49m\u001b[43mheaders\u001b[49m\u001b[43m,\u001b[49m\n\u001b[1;32m    445\u001b[0m \u001b[43m        \u001b[49m\u001b[43mredirect\u001b[49m\u001b[38;5;241;43m=\u001b[39;49m\u001b[38;5;28;43;01mFalse\u001b[39;49;00m\u001b[43m,\u001b[49m\n\u001b[1;32m    446\u001b[0m \u001b[43m        \u001b[49m\u001b[43massert_same_host\u001b[49m\u001b[38;5;241;43m=\u001b[39;49m\u001b[38;5;28;43;01mFalse\u001b[39;49;00m\u001b[43m,\u001b[49m\n\u001b[1;32m    447\u001b[0m \u001b[43m        \u001b[49m\u001b[43mpreload_content\u001b[49m\u001b[38;5;241;43m=\u001b[39;49m\u001b[38;5;28;43;01mFalse\u001b[39;49;00m\u001b[43m,\u001b[49m\n\u001b[1;32m    448\u001b[0m \u001b[43m        \u001b[49m\u001b[43mdecode_content\u001b[49m\u001b[38;5;241;43m=\u001b[39;49m\u001b[38;5;28;43;01mFalse\u001b[39;49;00m\u001b[43m,\u001b[49m\n\u001b[1;32m    449\u001b[0m \u001b[43m        \u001b[49m\u001b[43mretries\u001b[49m\u001b[38;5;241;43m=\u001b[39;49m\u001b[38;5;28;43mself\u001b[39;49m\u001b[38;5;241;43m.\u001b[39;49m\u001b[43mmax_retries\u001b[49m\u001b[43m,\u001b[49m\n\u001b[1;32m    450\u001b[0m \u001b[43m        \u001b[49m\u001b[43mtimeout\u001b[49m\u001b[38;5;241;43m=\u001b[39;49m\u001b[43mtimeout\u001b[49m\n\u001b[1;32m    451\u001b[0m \u001b[43m    \u001b[49m\u001b[43m)\u001b[49m\n\u001b[1;32m    453\u001b[0m \u001b[38;5;66;03m# Send the request.\u001b[39;00m\n\u001b[1;32m    454\u001b[0m \u001b[38;5;28;01melse\u001b[39;00m:\n",
      "File \u001b[0;32m~/opt/anaconda3/lib/python3.9/site-packages/urllib3/connectionpool.py:785\u001b[0m, in \u001b[0;36mHTTPConnectionPool.urlopen\u001b[0;34m(self, method, url, body, headers, retries, redirect, assert_same_host, timeout, pool_timeout, release_conn, chunked, body_pos, **response_kw)\u001b[0m\n\u001b[1;32m    783\u001b[0m     e \u001b[38;5;241m=\u001b[39m ProtocolError(\u001b[38;5;124m\"\u001b[39m\u001b[38;5;124mConnection aborted.\u001b[39m\u001b[38;5;124m\"\u001b[39m, e)\n\u001b[0;32m--> 785\u001b[0m retries \u001b[38;5;241m=\u001b[39m \u001b[43mretries\u001b[49m\u001b[38;5;241;43m.\u001b[39;49m\u001b[43mincrement\u001b[49m\u001b[43m(\u001b[49m\n\u001b[1;32m    786\u001b[0m \u001b[43m    \u001b[49m\u001b[43mmethod\u001b[49m\u001b[43m,\u001b[49m\u001b[43m \u001b[49m\u001b[43murl\u001b[49m\u001b[43m,\u001b[49m\u001b[43m \u001b[49m\u001b[43merror\u001b[49m\u001b[38;5;241;43m=\u001b[39;49m\u001b[43me\u001b[49m\u001b[43m,\u001b[49m\u001b[43m \u001b[49m\u001b[43m_pool\u001b[49m\u001b[38;5;241;43m=\u001b[39;49m\u001b[38;5;28;43mself\u001b[39;49m\u001b[43m,\u001b[49m\u001b[43m \u001b[49m\u001b[43m_stacktrace\u001b[49m\u001b[38;5;241;43m=\u001b[39;49m\u001b[43msys\u001b[49m\u001b[38;5;241;43m.\u001b[39;49m\u001b[43mexc_info\u001b[49m\u001b[43m(\u001b[49m\u001b[43m)\u001b[49m\u001b[43m[\u001b[49m\u001b[38;5;241;43m2\u001b[39;49m\u001b[43m]\u001b[49m\n\u001b[1;32m    787\u001b[0m \u001b[43m\u001b[49m\u001b[43m)\u001b[49m\n\u001b[1;32m    788\u001b[0m retries\u001b[38;5;241m.\u001b[39msleep()\n",
      "File \u001b[0;32m~/opt/anaconda3/lib/python3.9/site-packages/urllib3/util/retry.py:550\u001b[0m, in \u001b[0;36mRetry.increment\u001b[0;34m(self, method, url, response, error, _pool, _stacktrace)\u001b[0m\n\u001b[1;32m    549\u001b[0m \u001b[38;5;28;01mif\u001b[39;00m read \u001b[38;5;129;01mis\u001b[39;00m \u001b[38;5;28;01mFalse\u001b[39;00m \u001b[38;5;129;01mor\u001b[39;00m \u001b[38;5;129;01mnot\u001b[39;00m \u001b[38;5;28mself\u001b[39m\u001b[38;5;241m.\u001b[39m_is_method_retryable(method):\n\u001b[0;32m--> 550\u001b[0m     \u001b[38;5;28;01mraise\u001b[39;00m \u001b[43msix\u001b[49m\u001b[38;5;241;43m.\u001b[39;49m\u001b[43mreraise\u001b[49m\u001b[43m(\u001b[49m\u001b[38;5;28;43mtype\u001b[39;49m\u001b[43m(\u001b[49m\u001b[43merror\u001b[49m\u001b[43m)\u001b[49m\u001b[43m,\u001b[49m\u001b[43m \u001b[49m\u001b[43merror\u001b[49m\u001b[43m,\u001b[49m\u001b[43m \u001b[49m\u001b[43m_stacktrace\u001b[49m\u001b[43m)\u001b[49m\n\u001b[1;32m    551\u001b[0m \u001b[38;5;28;01melif\u001b[39;00m read \u001b[38;5;129;01mis\u001b[39;00m \u001b[38;5;129;01mnot\u001b[39;00m \u001b[38;5;28;01mNone\u001b[39;00m:\n",
      "File \u001b[0;32m~/opt/anaconda3/lib/python3.9/site-packages/urllib3/packages/six.py:770\u001b[0m, in \u001b[0;36mreraise\u001b[0;34m(tp, value, tb)\u001b[0m\n\u001b[1;32m    769\u001b[0m         \u001b[38;5;28;01mraise\u001b[39;00m value\u001b[38;5;241m.\u001b[39mwith_traceback(tb)\n\u001b[0;32m--> 770\u001b[0m     \u001b[38;5;28;01mraise\u001b[39;00m value\n\u001b[1;32m    771\u001b[0m \u001b[38;5;28;01mfinally\u001b[39;00m:\n",
      "File \u001b[0;32m~/opt/anaconda3/lib/python3.9/site-packages/urllib3/connectionpool.py:703\u001b[0m, in \u001b[0;36mHTTPConnectionPool.urlopen\u001b[0;34m(self, method, url, body, headers, retries, redirect, assert_same_host, timeout, pool_timeout, release_conn, chunked, body_pos, **response_kw)\u001b[0m\n\u001b[1;32m    702\u001b[0m \u001b[38;5;66;03m# Make the request on the httplib connection object.\u001b[39;00m\n\u001b[0;32m--> 703\u001b[0m httplib_response \u001b[38;5;241m=\u001b[39m \u001b[38;5;28;43mself\u001b[39;49m\u001b[38;5;241;43m.\u001b[39;49m\u001b[43m_make_request\u001b[49m\u001b[43m(\u001b[49m\n\u001b[1;32m    704\u001b[0m \u001b[43m    \u001b[49m\u001b[43mconn\u001b[49m\u001b[43m,\u001b[49m\n\u001b[1;32m    705\u001b[0m \u001b[43m    \u001b[49m\u001b[43mmethod\u001b[49m\u001b[43m,\u001b[49m\n\u001b[1;32m    706\u001b[0m \u001b[43m    \u001b[49m\u001b[43murl\u001b[49m\u001b[43m,\u001b[49m\n\u001b[1;32m    707\u001b[0m \u001b[43m    \u001b[49m\u001b[43mtimeout\u001b[49m\u001b[38;5;241;43m=\u001b[39;49m\u001b[43mtimeout_obj\u001b[49m\u001b[43m,\u001b[49m\n\u001b[1;32m    708\u001b[0m \u001b[43m    \u001b[49m\u001b[43mbody\u001b[49m\u001b[38;5;241;43m=\u001b[39;49m\u001b[43mbody\u001b[49m\u001b[43m,\u001b[49m\n\u001b[1;32m    709\u001b[0m \u001b[43m    \u001b[49m\u001b[43mheaders\u001b[49m\u001b[38;5;241;43m=\u001b[39;49m\u001b[43mheaders\u001b[49m\u001b[43m,\u001b[49m\n\u001b[1;32m    710\u001b[0m \u001b[43m    \u001b[49m\u001b[43mchunked\u001b[49m\u001b[38;5;241;43m=\u001b[39;49m\u001b[43mchunked\u001b[49m\u001b[43m,\u001b[49m\n\u001b[1;32m    711\u001b[0m \u001b[43m\u001b[49m\u001b[43m)\u001b[49m\n\u001b[1;32m    713\u001b[0m \u001b[38;5;66;03m# If we're going to release the connection in ``finally:``, then\u001b[39;00m\n\u001b[1;32m    714\u001b[0m \u001b[38;5;66;03m# the response doesn't need to know about the connection. Otherwise\u001b[39;00m\n\u001b[1;32m    715\u001b[0m \u001b[38;5;66;03m# it will also try to release it and we'll have a double-release\u001b[39;00m\n\u001b[1;32m    716\u001b[0m \u001b[38;5;66;03m# mess.\u001b[39;00m\n",
      "File \u001b[0;32m~/opt/anaconda3/lib/python3.9/site-packages/urllib3/connectionpool.py:451\u001b[0m, in \u001b[0;36mHTTPConnectionPool._make_request\u001b[0;34m(self, conn, method, url, timeout, chunked, **httplib_request_kw)\u001b[0m\n\u001b[1;32m    450\u001b[0m \u001b[38;5;28;01mexcept\u001b[39;00m (SocketTimeout, BaseSSLError, SocketError) \u001b[38;5;28;01mas\u001b[39;00m e:\n\u001b[0;32m--> 451\u001b[0m     \u001b[38;5;28;43mself\u001b[39;49m\u001b[38;5;241;43m.\u001b[39;49m\u001b[43m_raise_timeout\u001b[49m\u001b[43m(\u001b[49m\u001b[43merr\u001b[49m\u001b[38;5;241;43m=\u001b[39;49m\u001b[43me\u001b[49m\u001b[43m,\u001b[49m\u001b[43m \u001b[49m\u001b[43murl\u001b[49m\u001b[38;5;241;43m=\u001b[39;49m\u001b[43murl\u001b[49m\u001b[43m,\u001b[49m\u001b[43m \u001b[49m\u001b[43mtimeout_value\u001b[49m\u001b[38;5;241;43m=\u001b[39;49m\u001b[43mread_timeout\u001b[49m\u001b[43m)\u001b[49m\n\u001b[1;32m    452\u001b[0m     \u001b[38;5;28;01mraise\u001b[39;00m\n",
      "File \u001b[0;32m~/opt/anaconda3/lib/python3.9/site-packages/urllib3/connectionpool.py:340\u001b[0m, in \u001b[0;36mHTTPConnectionPool._raise_timeout\u001b[0;34m(self, err, url, timeout_value)\u001b[0m\n\u001b[1;32m    339\u001b[0m \u001b[38;5;28;01mif\u001b[39;00m \u001b[38;5;28misinstance\u001b[39m(err, SocketTimeout):\n\u001b[0;32m--> 340\u001b[0m     \u001b[38;5;28;01mraise\u001b[39;00m ReadTimeoutError(\n\u001b[1;32m    341\u001b[0m         \u001b[38;5;28mself\u001b[39m, url, \u001b[38;5;124m\"\u001b[39m\u001b[38;5;124mRead timed out. (read timeout=\u001b[39m\u001b[38;5;132;01m%s\u001b[39;00m\u001b[38;5;124m)\u001b[39m\u001b[38;5;124m\"\u001b[39m \u001b[38;5;241m%\u001b[39m timeout_value\n\u001b[1;32m    342\u001b[0m     )\n\u001b[1;32m    344\u001b[0m \u001b[38;5;66;03m# See the above comment about EAGAIN in Python 3. In Python 2 we have\u001b[39;00m\n\u001b[1;32m    345\u001b[0m \u001b[38;5;66;03m# to specifically catch it and throw the timeout error\u001b[39;00m\n",
      "\u001b[0;31mReadTimeoutError\u001b[0m: HTTPSConnectionPool(host='api.spotify.com', port=443): Read timed out. (read timeout=5)",
      "\nDuring handling of the above exception, another exception occurred:\n",
      "\u001b[0;31mReadTimeout\u001b[0m                               Traceback (most recent call last)",
      "Input \u001b[0;32mIn [68]\u001b[0m, in \u001b[0;36m<cell line: 1>\u001b[0;34m()\u001b[0m\n\u001b[1;32m      1\u001b[0m \u001b[38;5;28;01mfor\u001b[39;00m i  \u001b[38;5;129;01min\u001b[39;00m  result[\u001b[38;5;241m14\u001b[39m]:\n\u001b[1;32m      2\u001b[0m     \u001b[38;5;28mprint\u001b[39m(i)\n\u001b[0;32m----> 3\u001b[0m     \u001b[43mget_features_df\u001b[49m\u001b[43m(\u001b[49m\u001b[43mi\u001b[49m\u001b[43m)\u001b[49m\n",
      "Input \u001b[0;32mIn [4]\u001b[0m, in \u001b[0;36mget_features_df\u001b[0;34m(playlist_id)\u001b[0m\n\u001b[1;32m     15\u001b[0m \u001b[38;5;66;03m#getting features per song in  playlist \u001b[39;00m\n\u001b[1;32m     16\u001b[0m     \u001b[38;5;28;01mfor\u001b[39;00m value \u001b[38;5;129;01min\u001b[39;00m \u001b[38;5;28mrange\u001b[39m(\u001b[38;5;241m0\u001b[39m,\u001b[38;5;28mlen\u001b[39m(tracks)):\n\u001b[0;32m---> 18\u001b[0m         list_of_audio_features\u001b[38;5;241m.\u001b[39mappend(\u001b[43msp\u001b[49m\u001b[38;5;241;43m.\u001b[39;49m\u001b[43maudio_features\u001b[49m\u001b[43m(\u001b[49m\u001b[43mtracks\u001b[49m\u001b[43m[\u001b[49m\u001b[43mvalue\u001b[49m\u001b[43m]\u001b[49m\u001b[43m[\u001b[49m\u001b[38;5;124;43m\"\u001b[39;49m\u001b[38;5;124;43mtrack\u001b[39;49m\u001b[38;5;124;43m\"\u001b[39;49m\u001b[43m]\u001b[49m\u001b[43m[\u001b[49m\u001b[38;5;124;43m\"\u001b[39;49m\u001b[38;5;124;43mid\u001b[39;49m\u001b[38;5;124;43m\"\u001b[39;49m\u001b[43m]\u001b[49m\u001b[43m)\u001b[49m[\u001b[38;5;241m0\u001b[39m])\n\u001b[1;32m     21\u001b[0m \u001b[38;5;66;03m#creating df with audio features and adding song name and artist     \u001b[39;00m\n\u001b[1;32m     22\u001b[0m     df\u001b[38;5;241m=\u001b[39mpd\u001b[38;5;241m.\u001b[39mDataFrame(list_of_audio_features)    \n",
      "File \u001b[0;32m~/opt/anaconda3/lib/python3.9/site-packages/spotipy/client.py:1680\u001b[0m, in \u001b[0;36mSpotify.audio_features\u001b[0;34m(self, tracks)\u001b[0m\n\u001b[1;32m   1678\u001b[0m \u001b[38;5;28;01mif\u001b[39;00m \u001b[38;5;28misinstance\u001b[39m(tracks, \u001b[38;5;28mstr\u001b[39m):\n\u001b[1;32m   1679\u001b[0m     trackid \u001b[38;5;241m=\u001b[39m \u001b[38;5;28mself\u001b[39m\u001b[38;5;241m.\u001b[39m_get_id(\u001b[38;5;124m\"\u001b[39m\u001b[38;5;124mtrack\u001b[39m\u001b[38;5;124m\"\u001b[39m, tracks)\n\u001b[0;32m-> 1680\u001b[0m     results \u001b[38;5;241m=\u001b[39m \u001b[38;5;28;43mself\u001b[39;49m\u001b[38;5;241;43m.\u001b[39;49m\u001b[43m_get\u001b[49m\u001b[43m(\u001b[49m\u001b[38;5;124;43m\"\u001b[39;49m\u001b[38;5;124;43maudio-features/?ids=\u001b[39;49m\u001b[38;5;124;43m\"\u001b[39;49m\u001b[43m \u001b[49m\u001b[38;5;241;43m+\u001b[39;49m\u001b[43m \u001b[49m\u001b[43mtrackid\u001b[49m\u001b[43m)\u001b[49m\n\u001b[1;32m   1681\u001b[0m \u001b[38;5;28;01melse\u001b[39;00m:\n\u001b[1;32m   1682\u001b[0m     tlist \u001b[38;5;241m=\u001b[39m [\u001b[38;5;28mself\u001b[39m\u001b[38;5;241m.\u001b[39m_get_id(\u001b[38;5;124m\"\u001b[39m\u001b[38;5;124mtrack\u001b[39m\u001b[38;5;124m\"\u001b[39m, t) \u001b[38;5;28;01mfor\u001b[39;00m t \u001b[38;5;129;01min\u001b[39;00m tracks]\n",
      "File \u001b[0;32m~/opt/anaconda3/lib/python3.9/site-packages/spotipy/client.py:297\u001b[0m, in \u001b[0;36mSpotify._get\u001b[0;34m(self, url, args, payload, **kwargs)\u001b[0m\n\u001b[1;32m    294\u001b[0m \u001b[38;5;28;01mif\u001b[39;00m args:\n\u001b[1;32m    295\u001b[0m     kwargs\u001b[38;5;241m.\u001b[39mupdate(args)\n\u001b[0;32m--> 297\u001b[0m \u001b[38;5;28;01mreturn\u001b[39;00m \u001b[38;5;28;43mself\u001b[39;49m\u001b[38;5;241;43m.\u001b[39;49m\u001b[43m_internal_call\u001b[49m\u001b[43m(\u001b[49m\u001b[38;5;124;43m\"\u001b[39;49m\u001b[38;5;124;43mGET\u001b[39;49m\u001b[38;5;124;43m\"\u001b[39;49m\u001b[43m,\u001b[49m\u001b[43m \u001b[49m\u001b[43murl\u001b[49m\u001b[43m,\u001b[49m\u001b[43m \u001b[49m\u001b[43mpayload\u001b[49m\u001b[43m,\u001b[49m\u001b[43m \u001b[49m\u001b[43mkwargs\u001b[49m\u001b[43m)\u001b[49m\n",
      "File \u001b[0;32m~/opt/anaconda3/lib/python3.9/site-packages/spotipy/client.py:240\u001b[0m, in \u001b[0;36mSpotify._internal_call\u001b[0;34m(self, method, url, payload, params)\u001b[0m\n\u001b[1;32m    236\u001b[0m logger\u001b[38;5;241m.\u001b[39mdebug(\u001b[38;5;124m'\u001b[39m\u001b[38;5;124mSending \u001b[39m\u001b[38;5;132;01m%s\u001b[39;00m\u001b[38;5;124m to \u001b[39m\u001b[38;5;132;01m%s\u001b[39;00m\u001b[38;5;124m with Params: \u001b[39m\u001b[38;5;132;01m%s\u001b[39;00m\u001b[38;5;124m Headers: \u001b[39m\u001b[38;5;132;01m%s\u001b[39;00m\u001b[38;5;124m and Body: \u001b[39m\u001b[38;5;132;01m%r\u001b[39;00m\u001b[38;5;124m \u001b[39m\u001b[38;5;124m'\u001b[39m,\n\u001b[1;32m    237\u001b[0m              method, url, args\u001b[38;5;241m.\u001b[39mget(\u001b[38;5;124m\"\u001b[39m\u001b[38;5;124mparams\u001b[39m\u001b[38;5;124m\"\u001b[39m), headers, args\u001b[38;5;241m.\u001b[39mget(\u001b[38;5;124m'\u001b[39m\u001b[38;5;124mdata\u001b[39m\u001b[38;5;124m'\u001b[39m))\n\u001b[1;32m    239\u001b[0m \u001b[38;5;28;01mtry\u001b[39;00m:\n\u001b[0;32m--> 240\u001b[0m     response \u001b[38;5;241m=\u001b[39m \u001b[38;5;28;43mself\u001b[39;49m\u001b[38;5;241;43m.\u001b[39;49m\u001b[43m_session\u001b[49m\u001b[38;5;241;43m.\u001b[39;49m\u001b[43mrequest\u001b[49m\u001b[43m(\u001b[49m\n\u001b[1;32m    241\u001b[0m \u001b[43m        \u001b[49m\u001b[43mmethod\u001b[49m\u001b[43m,\u001b[49m\u001b[43m \u001b[49m\u001b[43murl\u001b[49m\u001b[43m,\u001b[49m\u001b[43m \u001b[49m\u001b[43mheaders\u001b[49m\u001b[38;5;241;43m=\u001b[39;49m\u001b[43mheaders\u001b[49m\u001b[43m,\u001b[49m\u001b[43m \u001b[49m\u001b[43mproxies\u001b[49m\u001b[38;5;241;43m=\u001b[39;49m\u001b[38;5;28;43mself\u001b[39;49m\u001b[38;5;241;43m.\u001b[39;49m\u001b[43mproxies\u001b[49m\u001b[43m,\u001b[49m\n\u001b[1;32m    242\u001b[0m \u001b[43m        \u001b[49m\u001b[43mtimeout\u001b[49m\u001b[38;5;241;43m=\u001b[39;49m\u001b[38;5;28;43mself\u001b[39;49m\u001b[38;5;241;43m.\u001b[39;49m\u001b[43mrequests_timeout\u001b[49m\u001b[43m,\u001b[49m\u001b[43m \u001b[49m\u001b[38;5;241;43m*\u001b[39;49m\u001b[38;5;241;43m*\u001b[39;49m\u001b[43margs\u001b[49m\n\u001b[1;32m    243\u001b[0m \u001b[43m    \u001b[49m\u001b[43m)\u001b[49m\n\u001b[1;32m    245\u001b[0m     response\u001b[38;5;241m.\u001b[39mraise_for_status()\n\u001b[1;32m    246\u001b[0m     results \u001b[38;5;241m=\u001b[39m response\u001b[38;5;241m.\u001b[39mjson()\n",
      "File \u001b[0;32m~/opt/anaconda3/lib/python3.9/site-packages/requests/sessions.py:529\u001b[0m, in \u001b[0;36mSession.request\u001b[0;34m(self, method, url, params, data, headers, cookies, files, auth, timeout, allow_redirects, proxies, hooks, stream, verify, cert, json)\u001b[0m\n\u001b[1;32m    524\u001b[0m send_kwargs \u001b[38;5;241m=\u001b[39m {\n\u001b[1;32m    525\u001b[0m     \u001b[38;5;124m'\u001b[39m\u001b[38;5;124mtimeout\u001b[39m\u001b[38;5;124m'\u001b[39m: timeout,\n\u001b[1;32m    526\u001b[0m     \u001b[38;5;124m'\u001b[39m\u001b[38;5;124mallow_redirects\u001b[39m\u001b[38;5;124m'\u001b[39m: allow_redirects,\n\u001b[1;32m    527\u001b[0m }\n\u001b[1;32m    528\u001b[0m send_kwargs\u001b[38;5;241m.\u001b[39mupdate(settings)\n\u001b[0;32m--> 529\u001b[0m resp \u001b[38;5;241m=\u001b[39m \u001b[38;5;28;43mself\u001b[39;49m\u001b[38;5;241;43m.\u001b[39;49m\u001b[43msend\u001b[49m\u001b[43m(\u001b[49m\u001b[43mprep\u001b[49m\u001b[43m,\u001b[49m\u001b[43m \u001b[49m\u001b[38;5;241;43m*\u001b[39;49m\u001b[38;5;241;43m*\u001b[39;49m\u001b[43msend_kwargs\u001b[49m\u001b[43m)\u001b[49m\n\u001b[1;32m    531\u001b[0m \u001b[38;5;28;01mreturn\u001b[39;00m resp\n",
      "File \u001b[0;32m~/opt/anaconda3/lib/python3.9/site-packages/requests/sessions.py:645\u001b[0m, in \u001b[0;36mSession.send\u001b[0;34m(self, request, **kwargs)\u001b[0m\n\u001b[1;32m    642\u001b[0m start \u001b[38;5;241m=\u001b[39m preferred_clock()\n\u001b[1;32m    644\u001b[0m \u001b[38;5;66;03m# Send the request\u001b[39;00m\n\u001b[0;32m--> 645\u001b[0m r \u001b[38;5;241m=\u001b[39m \u001b[43madapter\u001b[49m\u001b[38;5;241;43m.\u001b[39;49m\u001b[43msend\u001b[49m\u001b[43m(\u001b[49m\u001b[43mrequest\u001b[49m\u001b[43m,\u001b[49m\u001b[43m \u001b[49m\u001b[38;5;241;43m*\u001b[39;49m\u001b[38;5;241;43m*\u001b[39;49m\u001b[43mkwargs\u001b[49m\u001b[43m)\u001b[49m\n\u001b[1;32m    647\u001b[0m \u001b[38;5;66;03m# Total elapsed time of the request (approximately)\u001b[39;00m\n\u001b[1;32m    648\u001b[0m elapsed \u001b[38;5;241m=\u001b[39m preferred_clock() \u001b[38;5;241m-\u001b[39m start\n",
      "File \u001b[0;32m~/opt/anaconda3/lib/python3.9/site-packages/requests/adapters.py:532\u001b[0m, in \u001b[0;36mHTTPAdapter.send\u001b[0;34m(self, request, stream, timeout, verify, cert, proxies)\u001b[0m\n\u001b[1;32m    530\u001b[0m     \u001b[38;5;28;01mraise\u001b[39;00m SSLError(e, request\u001b[38;5;241m=\u001b[39mrequest)\n\u001b[1;32m    531\u001b[0m \u001b[38;5;28;01melif\u001b[39;00m \u001b[38;5;28misinstance\u001b[39m(e, ReadTimeoutError):\n\u001b[0;32m--> 532\u001b[0m     \u001b[38;5;28;01mraise\u001b[39;00m ReadTimeout(e, request\u001b[38;5;241m=\u001b[39mrequest)\n\u001b[1;32m    533\u001b[0m \u001b[38;5;28;01melif\u001b[39;00m \u001b[38;5;28misinstance\u001b[39m(e, _InvalidHeader):\n\u001b[1;32m    534\u001b[0m     \u001b[38;5;28;01mraise\u001b[39;00m InvalidHeader(e, request\u001b[38;5;241m=\u001b[39mrequest)\n",
      "\u001b[0;31mReadTimeout\u001b[0m: HTTPSConnectionPool(host='api.spotify.com', port=443): Read timed out. (read timeout=5)"
     ]
    }
   ],
   "source": [
    "for i  in  result[14]:\n",
    "    print(i)\n",
    "    get_features_df(i)"
   ]
  },
  {
   "cell_type": "code",
   "execution_count": 73,
   "id": "e0cb27b6",
   "metadata": {},
   "outputs": [
    {
     "name": "stdout",
     "output_type": "stream",
     "text": [
      "0gdPJDXUHuVod0WX0DEZpx\n"
     ]
    },
    {
     "name": "stderr",
     "output_type": "stream",
     "text": [
      "/var/folders/1n/phyrz16s0rd1_mpv046jgqf80000gn/T/ipykernel_17629/3181457209.py:28: FutureWarning: The frame.append method is deprecated and will be removed from pandas in a future version. Use pandas.concat instead.\n",
      "  big_df =big_df.append(df)\n"
     ]
    },
    {
     "name": "stdout",
     "output_type": "stream",
     "text": [
      "5ggt9QATTOmCuRAPV3r7QF\n"
     ]
    },
    {
     "name": "stderr",
     "output_type": "stream",
     "text": [
      "/var/folders/1n/phyrz16s0rd1_mpv046jgqf80000gn/T/ipykernel_17629/3181457209.py:28: FutureWarning: The frame.append method is deprecated and will be removed from pandas in a future version. Use pandas.concat instead.\n",
      "  big_df =big_df.append(df)\n"
     ]
    },
    {
     "name": "stdout",
     "output_type": "stream",
     "text": [
      "7HSFHkTHpBbDuhTyP68zww\n"
     ]
    },
    {
     "name": "stderr",
     "output_type": "stream",
     "text": [
      "/var/folders/1n/phyrz16s0rd1_mpv046jgqf80000gn/T/ipykernel_17629/3181457209.py:28: FutureWarning: The frame.append method is deprecated and will be removed from pandas in a future version. Use pandas.concat instead.\n",
      "  big_df =big_df.append(df)\n"
     ]
    },
    {
     "name": "stdout",
     "output_type": "stream",
     "text": [
      "7LkQdN3mSOphnFoJpsKeUJ\n"
     ]
    },
    {
     "name": "stderr",
     "output_type": "stream",
     "text": [
      "/var/folders/1n/phyrz16s0rd1_mpv046jgqf80000gn/T/ipykernel_17629/3181457209.py:28: FutureWarning: The frame.append method is deprecated and will be removed from pandas in a future version. Use pandas.concat instead.\n",
      "  big_df =big_df.append(df)\n"
     ]
    },
    {
     "name": "stdout",
     "output_type": "stream",
     "text": [
      "5aZ4lZlDtOUrxAOipWB3r8\n"
     ]
    },
    {
     "name": "stderr",
     "output_type": "stream",
     "text": [
      "/var/folders/1n/phyrz16s0rd1_mpv046jgqf80000gn/T/ipykernel_17629/3181457209.py:28: FutureWarning: The frame.append method is deprecated and will be removed from pandas in a future version. Use pandas.concat instead.\n",
      "  big_df =big_df.append(df)\n"
     ]
    },
    {
     "name": "stdout",
     "output_type": "stream",
     "text": [
      "20cUBDEbmqhNmklStbkQvL\n"
     ]
    },
    {
     "name": "stderr",
     "output_type": "stream",
     "text": [
      "/var/folders/1n/phyrz16s0rd1_mpv046jgqf80000gn/T/ipykernel_17629/3181457209.py:28: FutureWarning: The frame.append method is deprecated and will be removed from pandas in a future version. Use pandas.concat instead.\n",
      "  big_df =big_df.append(df)\n"
     ]
    },
    {
     "name": "stdout",
     "output_type": "stream",
     "text": [
      "1OryHghVEZcUUosn2hVv6V\n"
     ]
    },
    {
     "name": "stderr",
     "output_type": "stream",
     "text": [
      "/var/folders/1n/phyrz16s0rd1_mpv046jgqf80000gn/T/ipykernel_17629/3181457209.py:28: FutureWarning: The frame.append method is deprecated and will be removed from pandas in a future version. Use pandas.concat instead.\n",
      "  big_df =big_df.append(df)\n"
     ]
    },
    {
     "name": "stdout",
     "output_type": "stream",
     "text": [
      "7bavRpySiSuZLFPkglPRK5\n"
     ]
    },
    {
     "name": "stderr",
     "output_type": "stream",
     "text": [
      "/var/folders/1n/phyrz16s0rd1_mpv046jgqf80000gn/T/ipykernel_17629/3181457209.py:28: FutureWarning: The frame.append method is deprecated and will be removed from pandas in a future version. Use pandas.concat instead.\n",
      "  big_df =big_df.append(df)\n"
     ]
    },
    {
     "name": "stdout",
     "output_type": "stream",
     "text": [
      "3ZoEx06KGNEh90aExmyMf0\n"
     ]
    },
    {
     "name": "stderr",
     "output_type": "stream",
     "text": [
      "/var/folders/1n/phyrz16s0rd1_mpv046jgqf80000gn/T/ipykernel_17629/3181457209.py:28: FutureWarning: The frame.append method is deprecated and will be removed from pandas in a future version. Use pandas.concat instead.\n",
      "  big_df =big_df.append(df)\n"
     ]
    },
    {
     "name": "stdout",
     "output_type": "stream",
     "text": [
      "3nbCGvGDojsTWlcFKRBiBP\n"
     ]
    },
    {
     "name": "stderr",
     "output_type": "stream",
     "text": [
      "/var/folders/1n/phyrz16s0rd1_mpv046jgqf80000gn/T/ipykernel_17629/3181457209.py:28: FutureWarning: The frame.append method is deprecated and will be removed from pandas in a future version. Use pandas.concat instead.\n",
      "  big_df =big_df.append(df)\n"
     ]
    },
    {
     "name": "stdout",
     "output_type": "stream",
     "text": [
      "47IU2RY3QPp07RIcQ1vOOP\n"
     ]
    },
    {
     "name": "stderr",
     "output_type": "stream",
     "text": [
      "/var/folders/1n/phyrz16s0rd1_mpv046jgqf80000gn/T/ipykernel_17629/3181457209.py:28: FutureWarning: The frame.append method is deprecated and will be removed from pandas in a future version. Use pandas.concat instead.\n",
      "  big_df =big_df.append(df)\n"
     ]
    },
    {
     "name": "stdout",
     "output_type": "stream",
     "text": [
      "0spsvp2NNHMXDezns2YSGt\n"
     ]
    },
    {
     "name": "stderr",
     "output_type": "stream",
     "text": [
      "/var/folders/1n/phyrz16s0rd1_mpv046jgqf80000gn/T/ipykernel_17629/3181457209.py:28: FutureWarning: The frame.append method is deprecated and will be removed from pandas in a future version. Use pandas.concat instead.\n",
      "  big_df =big_df.append(df)\n"
     ]
    },
    {
     "name": "stdout",
     "output_type": "stream",
     "text": [
      "1kmByJrppUuQigskkJmGgv\n"
     ]
    },
    {
     "name": "stderr",
     "output_type": "stream",
     "text": [
      "/var/folders/1n/phyrz16s0rd1_mpv046jgqf80000gn/T/ipykernel_17629/3181457209.py:28: FutureWarning: The frame.append method is deprecated and will be removed from pandas in a future version. Use pandas.concat instead.\n",
      "  big_df =big_df.append(df)\n"
     ]
    },
    {
     "name": "stdout",
     "output_type": "stream",
     "text": [
      "3PMlHfN3H3GmOcTgEcGwJT\n"
     ]
    },
    {
     "name": "stderr",
     "output_type": "stream",
     "text": [
      "/var/folders/1n/phyrz16s0rd1_mpv046jgqf80000gn/T/ipykernel_17629/3181457209.py:28: FutureWarning: The frame.append method is deprecated and will be removed from pandas in a future version. Use pandas.concat instead.\n",
      "  big_df =big_df.append(df)\n"
     ]
    },
    {
     "name": "stdout",
     "output_type": "stream",
     "text": [
      "0mLDT7xPUSqpnDEoa5DFqw\n"
     ]
    },
    {
     "name": "stderr",
     "output_type": "stream",
     "text": [
      "/var/folders/1n/phyrz16s0rd1_mpv046jgqf80000gn/T/ipykernel_17629/3181457209.py:28: FutureWarning: The frame.append method is deprecated and will be removed from pandas in a future version. Use pandas.concat instead.\n",
      "  big_df =big_df.append(df)\n"
     ]
    },
    {
     "name": "stdout",
     "output_type": "stream",
     "text": [
      "5yVWA6mgrbN3iVxSvftCbk\n"
     ]
    },
    {
     "name": "stderr",
     "output_type": "stream",
     "text": [
      "/var/folders/1n/phyrz16s0rd1_mpv046jgqf80000gn/T/ipykernel_17629/3181457209.py:28: FutureWarning: The frame.append method is deprecated and will be removed from pandas in a future version. Use pandas.concat instead.\n",
      "  big_df =big_df.append(df)\n"
     ]
    },
    {
     "name": "stdout",
     "output_type": "stream",
     "text": [
      "0t85wrZwJdkmcL015OytYz\n"
     ]
    },
    {
     "name": "stderr",
     "output_type": "stream",
     "text": [
      "/var/folders/1n/phyrz16s0rd1_mpv046jgqf80000gn/T/ipykernel_17629/3181457209.py:28: FutureWarning: The frame.append method is deprecated and will be removed from pandas in a future version. Use pandas.concat instead.\n",
      "  big_df =big_df.append(df)\n"
     ]
    },
    {
     "name": "stdout",
     "output_type": "stream",
     "text": [
      "3gDyXNhx15j4TSaddiiLq8\n"
     ]
    },
    {
     "name": "stderr",
     "output_type": "stream",
     "text": [
      "/var/folders/1n/phyrz16s0rd1_mpv046jgqf80000gn/T/ipykernel_17629/3181457209.py:28: FutureWarning: The frame.append method is deprecated and will be removed from pandas in a future version. Use pandas.concat instead.\n",
      "  big_df =big_df.append(df)\n"
     ]
    },
    {
     "name": "stdout",
     "output_type": "stream",
     "text": [
      "7GllgsTN71VioHh4ksZnEm\n"
     ]
    },
    {
     "name": "stderr",
     "output_type": "stream",
     "text": [
      "/var/folders/1n/phyrz16s0rd1_mpv046jgqf80000gn/T/ipykernel_17629/3181457209.py:28: FutureWarning: The frame.append method is deprecated and will be removed from pandas in a future version. Use pandas.concat instead.\n",
      "  big_df =big_df.append(df)\n"
     ]
    },
    {
     "name": "stdout",
     "output_type": "stream",
     "text": [
      "15rvzJq4AVJG8s5S7HfDqy\n"
     ]
    },
    {
     "name": "stderr",
     "output_type": "stream",
     "text": [
      "/var/folders/1n/phyrz16s0rd1_mpv046jgqf80000gn/T/ipykernel_17629/3181457209.py:28: FutureWarning: The frame.append method is deprecated and will be removed from pandas in a future version. Use pandas.concat instead.\n",
      "  big_df =big_df.append(df)\n"
     ]
    },
    {
     "name": "stdout",
     "output_type": "stream",
     "text": [
      "3dlw4x21qVajwZLPNHtS3u\n"
     ]
    },
    {
     "name": "stderr",
     "output_type": "stream",
     "text": [
      "/var/folders/1n/phyrz16s0rd1_mpv046jgqf80000gn/T/ipykernel_17629/3181457209.py:28: FutureWarning: The frame.append method is deprecated and will be removed from pandas in a future version. Use pandas.concat instead.\n",
      "  big_df =big_df.append(df)\n"
     ]
    },
    {
     "name": "stdout",
     "output_type": "stream",
     "text": [
      "7rAlDSQkUjL5aaGe5PQDd1\n"
     ]
    },
    {
     "name": "stderr",
     "output_type": "stream",
     "text": [
      "/var/folders/1n/phyrz16s0rd1_mpv046jgqf80000gn/T/ipykernel_17629/3181457209.py:28: FutureWarning: The frame.append method is deprecated and will be removed from pandas in a future version. Use pandas.concat instead.\n",
      "  big_df =big_df.append(df)\n"
     ]
    },
    {
     "name": "stdout",
     "output_type": "stream",
     "text": [
      "3esSvKGfxhvtlpIjKE6ORD\n"
     ]
    },
    {
     "name": "stderr",
     "output_type": "stream",
     "text": [
      "/var/folders/1n/phyrz16s0rd1_mpv046jgqf80000gn/T/ipykernel_17629/3181457209.py:28: FutureWarning: The frame.append method is deprecated and will be removed from pandas in a future version. Use pandas.concat instead.\n",
      "  big_df =big_df.append(df)\n"
     ]
    },
    {
     "name": "stdout",
     "output_type": "stream",
     "text": [
      "0tgPDhmWG9iaamzytuHJ00\n"
     ]
    },
    {
     "name": "stderr",
     "output_type": "stream",
     "text": [
      "/var/folders/1n/phyrz16s0rd1_mpv046jgqf80000gn/T/ipykernel_17629/3181457209.py:28: FutureWarning: The frame.append method is deprecated and will be removed from pandas in a future version. Use pandas.concat instead.\n",
      "  big_df =big_df.append(df)\n"
     ]
    },
    {
     "name": "stdout",
     "output_type": "stream",
     "text": [
      "0q8tZkSf7dCPWPyrGsDsNt\n"
     ]
    },
    {
     "name": "stderr",
     "output_type": "stream",
     "text": [
      "/var/folders/1n/phyrz16s0rd1_mpv046jgqf80000gn/T/ipykernel_17629/3181457209.py:28: FutureWarning: The frame.append method is deprecated and will be removed from pandas in a future version. Use pandas.concat instead.\n",
      "  big_df =big_df.append(df)\n"
     ]
    },
    {
     "name": "stdout",
     "output_type": "stream",
     "text": [
      "2Fk5nop80n0zvafa2zf6G0\n"
     ]
    },
    {
     "name": "stderr",
     "output_type": "stream",
     "text": [
      "/var/folders/1n/phyrz16s0rd1_mpv046jgqf80000gn/T/ipykernel_17629/3181457209.py:28: FutureWarning: The frame.append method is deprecated and will be removed from pandas in a future version. Use pandas.concat instead.\n",
      "  big_df =big_df.append(df)\n"
     ]
    },
    {
     "name": "stdout",
     "output_type": "stream",
     "text": [
      "7gWXMsnp6meAp5LFCkUQ22\n"
     ]
    },
    {
     "name": "stderr",
     "output_type": "stream",
     "text": [
      "/var/folders/1n/phyrz16s0rd1_mpv046jgqf80000gn/T/ipykernel_17629/3181457209.py:28: FutureWarning: The frame.append method is deprecated and will be removed from pandas in a future version. Use pandas.concat instead.\n",
      "  big_df =big_df.append(df)\n"
     ]
    },
    {
     "name": "stdout",
     "output_type": "stream",
     "text": [
      "3pouQuoUV0BHp6yMFYq3iH\n"
     ]
    },
    {
     "name": "stderr",
     "output_type": "stream",
     "text": [
      "/var/folders/1n/phyrz16s0rd1_mpv046jgqf80000gn/T/ipykernel_17629/3181457209.py:28: FutureWarning: The frame.append method is deprecated and will be removed from pandas in a future version. Use pandas.concat instead.\n",
      "  big_df =big_df.append(df)\n"
     ]
    },
    {
     "name": "stdout",
     "output_type": "stream",
     "text": [
      "7m4rhZGOMq1x4FGZjF9oy1\n"
     ]
    },
    {
     "name": "stderr",
     "output_type": "stream",
     "text": [
      "/var/folders/1n/phyrz16s0rd1_mpv046jgqf80000gn/T/ipykernel_17629/3181457209.py:28: FutureWarning: The frame.append method is deprecated and will be removed from pandas in a future version. Use pandas.concat instead.\n",
      "  big_df =big_df.append(df)\n"
     ]
    },
    {
     "name": "stdout",
     "output_type": "stream",
     "text": [
      "3BMqtY6C1ZQaS7LbanRysj\n"
     ]
    },
    {
     "name": "stderr",
     "output_type": "stream",
     "text": [
      "/var/folders/1n/phyrz16s0rd1_mpv046jgqf80000gn/T/ipykernel_17629/3181457209.py:28: FutureWarning: The frame.append method is deprecated and will be removed from pandas in a future version. Use pandas.concat instead.\n",
      "  big_df =big_df.append(df)\n"
     ]
    },
    {
     "name": "stdout",
     "output_type": "stream",
     "text": [
      "0o1QLc0vIBELSqrIEPXqQg\n"
     ]
    },
    {
     "name": "stderr",
     "output_type": "stream",
     "text": [
      "/var/folders/1n/phyrz16s0rd1_mpv046jgqf80000gn/T/ipykernel_17629/3181457209.py:28: FutureWarning: The frame.append method is deprecated and will be removed from pandas in a future version. Use pandas.concat instead.\n",
      "  big_df =big_df.append(df)\n"
     ]
    },
    {
     "name": "stdout",
     "output_type": "stream",
     "text": [
      "5YLwbQ51ZpX888YWodZpv2\n"
     ]
    },
    {
     "ename": "ReadTimeout",
     "evalue": "HTTPSConnectionPool(host='api.spotify.com', port=443): Read timed out. (read timeout=5)",
     "output_type": "error",
     "traceback": [
      "\u001b[0;31m---------------------------------------------------------------------------\u001b[0m",
      "\u001b[0;31mtimeout\u001b[0m                                   Traceback (most recent call last)",
      "File \u001b[0;32m~/opt/anaconda3/lib/python3.9/site-packages/urllib3/connectionpool.py:449\u001b[0m, in \u001b[0;36mHTTPConnectionPool._make_request\u001b[0;34m(self, conn, method, url, timeout, chunked, **httplib_request_kw)\u001b[0m\n\u001b[1;32m    445\u001b[0m         \u001b[38;5;28;01mexcept\u001b[39;00m \u001b[38;5;167;01mBaseException\u001b[39;00m \u001b[38;5;28;01mas\u001b[39;00m e:\n\u001b[1;32m    446\u001b[0m             \u001b[38;5;66;03m# Remove the TypeError from the exception chain in\u001b[39;00m\n\u001b[1;32m    447\u001b[0m             \u001b[38;5;66;03m# Python 3 (including for exceptions like SystemExit).\u001b[39;00m\n\u001b[1;32m    448\u001b[0m             \u001b[38;5;66;03m# Otherwise it looks like a bug in the code.\u001b[39;00m\n\u001b[0;32m--> 449\u001b[0m             \u001b[43msix\u001b[49m\u001b[38;5;241;43m.\u001b[39;49m\u001b[43mraise_from\u001b[49m\u001b[43m(\u001b[49m\u001b[43me\u001b[49m\u001b[43m,\u001b[49m\u001b[43m \u001b[49m\u001b[38;5;28;43;01mNone\u001b[39;49;00m\u001b[43m)\u001b[49m\n\u001b[1;32m    450\u001b[0m \u001b[38;5;28;01mexcept\u001b[39;00m (SocketTimeout, BaseSSLError, SocketError) \u001b[38;5;28;01mas\u001b[39;00m e:\n",
      "File \u001b[0;32m<string>:3\u001b[0m, in \u001b[0;36mraise_from\u001b[0;34m(value, from_value)\u001b[0m\n",
      "File \u001b[0;32m~/opt/anaconda3/lib/python3.9/site-packages/urllib3/connectionpool.py:444\u001b[0m, in \u001b[0;36mHTTPConnectionPool._make_request\u001b[0;34m(self, conn, method, url, timeout, chunked, **httplib_request_kw)\u001b[0m\n\u001b[1;32m    443\u001b[0m \u001b[38;5;28;01mtry\u001b[39;00m:\n\u001b[0;32m--> 444\u001b[0m     httplib_response \u001b[38;5;241m=\u001b[39m \u001b[43mconn\u001b[49m\u001b[38;5;241;43m.\u001b[39;49m\u001b[43mgetresponse\u001b[49m\u001b[43m(\u001b[49m\u001b[43m)\u001b[49m\n\u001b[1;32m    445\u001b[0m \u001b[38;5;28;01mexcept\u001b[39;00m \u001b[38;5;167;01mBaseException\u001b[39;00m \u001b[38;5;28;01mas\u001b[39;00m e:\n\u001b[1;32m    446\u001b[0m     \u001b[38;5;66;03m# Remove the TypeError from the exception chain in\u001b[39;00m\n\u001b[1;32m    447\u001b[0m     \u001b[38;5;66;03m# Python 3 (including for exceptions like SystemExit).\u001b[39;00m\n\u001b[1;32m    448\u001b[0m     \u001b[38;5;66;03m# Otherwise it looks like a bug in the code.\u001b[39;00m\n",
      "File \u001b[0;32m~/opt/anaconda3/lib/python3.9/http/client.py:1377\u001b[0m, in \u001b[0;36mHTTPConnection.getresponse\u001b[0;34m(self)\u001b[0m\n\u001b[1;32m   1376\u001b[0m \u001b[38;5;28;01mtry\u001b[39;00m:\n\u001b[0;32m-> 1377\u001b[0m     \u001b[43mresponse\u001b[49m\u001b[38;5;241;43m.\u001b[39;49m\u001b[43mbegin\u001b[49m\u001b[43m(\u001b[49m\u001b[43m)\u001b[49m\n\u001b[1;32m   1378\u001b[0m \u001b[38;5;28;01mexcept\u001b[39;00m \u001b[38;5;167;01mConnectionError\u001b[39;00m:\n",
      "File \u001b[0;32m~/opt/anaconda3/lib/python3.9/http/client.py:320\u001b[0m, in \u001b[0;36mHTTPResponse.begin\u001b[0;34m(self)\u001b[0m\n\u001b[1;32m    319\u001b[0m \u001b[38;5;28;01mwhile\u001b[39;00m \u001b[38;5;28;01mTrue\u001b[39;00m:\n\u001b[0;32m--> 320\u001b[0m     version, status, reason \u001b[38;5;241m=\u001b[39m \u001b[38;5;28;43mself\u001b[39;49m\u001b[38;5;241;43m.\u001b[39;49m\u001b[43m_read_status\u001b[49m\u001b[43m(\u001b[49m\u001b[43m)\u001b[49m\n\u001b[1;32m    321\u001b[0m     \u001b[38;5;28;01mif\u001b[39;00m status \u001b[38;5;241m!=\u001b[39m CONTINUE:\n",
      "File \u001b[0;32m~/opt/anaconda3/lib/python3.9/http/client.py:281\u001b[0m, in \u001b[0;36mHTTPResponse._read_status\u001b[0;34m(self)\u001b[0m\n\u001b[1;32m    280\u001b[0m \u001b[38;5;28;01mdef\u001b[39;00m \u001b[38;5;21m_read_status\u001b[39m(\u001b[38;5;28mself\u001b[39m):\n\u001b[0;32m--> 281\u001b[0m     line \u001b[38;5;241m=\u001b[39m \u001b[38;5;28mstr\u001b[39m(\u001b[38;5;28;43mself\u001b[39;49m\u001b[38;5;241;43m.\u001b[39;49m\u001b[43mfp\u001b[49m\u001b[38;5;241;43m.\u001b[39;49m\u001b[43mreadline\u001b[49m\u001b[43m(\u001b[49m\u001b[43m_MAXLINE\u001b[49m\u001b[43m \u001b[49m\u001b[38;5;241;43m+\u001b[39;49m\u001b[43m \u001b[49m\u001b[38;5;241;43m1\u001b[39;49m\u001b[43m)\u001b[49m, \u001b[38;5;124m\"\u001b[39m\u001b[38;5;124miso-8859-1\u001b[39m\u001b[38;5;124m\"\u001b[39m)\n\u001b[1;32m    282\u001b[0m     \u001b[38;5;28;01mif\u001b[39;00m \u001b[38;5;28mlen\u001b[39m(line) \u001b[38;5;241m>\u001b[39m _MAXLINE:\n",
      "File \u001b[0;32m~/opt/anaconda3/lib/python3.9/socket.py:704\u001b[0m, in \u001b[0;36mSocketIO.readinto\u001b[0;34m(self, b)\u001b[0m\n\u001b[1;32m    703\u001b[0m \u001b[38;5;28;01mtry\u001b[39;00m:\n\u001b[0;32m--> 704\u001b[0m     \u001b[38;5;28;01mreturn\u001b[39;00m \u001b[38;5;28;43mself\u001b[39;49m\u001b[38;5;241;43m.\u001b[39;49m\u001b[43m_sock\u001b[49m\u001b[38;5;241;43m.\u001b[39;49m\u001b[43mrecv_into\u001b[49m\u001b[43m(\u001b[49m\u001b[43mb\u001b[49m\u001b[43m)\u001b[49m\n\u001b[1;32m    705\u001b[0m \u001b[38;5;28;01mexcept\u001b[39;00m timeout:\n",
      "File \u001b[0;32m~/opt/anaconda3/lib/python3.9/ssl.py:1241\u001b[0m, in \u001b[0;36mSSLSocket.recv_into\u001b[0;34m(self, buffer, nbytes, flags)\u001b[0m\n\u001b[1;32m   1238\u001b[0m         \u001b[38;5;28;01mraise\u001b[39;00m \u001b[38;5;167;01mValueError\u001b[39;00m(\n\u001b[1;32m   1239\u001b[0m           \u001b[38;5;124m\"\u001b[39m\u001b[38;5;124mnon-zero flags not allowed in calls to recv_into() on \u001b[39m\u001b[38;5;132;01m%s\u001b[39;00m\u001b[38;5;124m\"\u001b[39m \u001b[38;5;241m%\u001b[39m\n\u001b[1;32m   1240\u001b[0m           \u001b[38;5;28mself\u001b[39m\u001b[38;5;241m.\u001b[39m\u001b[38;5;18m__class__\u001b[39m)\n\u001b[0;32m-> 1241\u001b[0m     \u001b[38;5;28;01mreturn\u001b[39;00m \u001b[38;5;28;43mself\u001b[39;49m\u001b[38;5;241;43m.\u001b[39;49m\u001b[43mread\u001b[49m\u001b[43m(\u001b[49m\u001b[43mnbytes\u001b[49m\u001b[43m,\u001b[49m\u001b[43m \u001b[49m\u001b[43mbuffer\u001b[49m\u001b[43m)\u001b[49m\n\u001b[1;32m   1242\u001b[0m \u001b[38;5;28;01melse\u001b[39;00m:\n",
      "File \u001b[0;32m~/opt/anaconda3/lib/python3.9/ssl.py:1099\u001b[0m, in \u001b[0;36mSSLSocket.read\u001b[0;34m(self, len, buffer)\u001b[0m\n\u001b[1;32m   1098\u001b[0m \u001b[38;5;28;01mif\u001b[39;00m buffer \u001b[38;5;129;01mis\u001b[39;00m \u001b[38;5;129;01mnot\u001b[39;00m \u001b[38;5;28;01mNone\u001b[39;00m:\n\u001b[0;32m-> 1099\u001b[0m     \u001b[38;5;28;01mreturn\u001b[39;00m \u001b[38;5;28;43mself\u001b[39;49m\u001b[38;5;241;43m.\u001b[39;49m\u001b[43m_sslobj\u001b[49m\u001b[38;5;241;43m.\u001b[39;49m\u001b[43mread\u001b[49m\u001b[43m(\u001b[49m\u001b[38;5;28;43mlen\u001b[39;49m\u001b[43m,\u001b[49m\u001b[43m \u001b[49m\u001b[43mbuffer\u001b[49m\u001b[43m)\u001b[49m\n\u001b[1;32m   1100\u001b[0m \u001b[38;5;28;01melse\u001b[39;00m:\n",
      "\u001b[0;31mtimeout\u001b[0m: The read operation timed out",
      "\nDuring handling of the above exception, another exception occurred:\n",
      "\u001b[0;31mReadTimeoutError\u001b[0m                          Traceback (most recent call last)",
      "File \u001b[0;32m~/opt/anaconda3/lib/python3.9/site-packages/requests/adapters.py:440\u001b[0m, in \u001b[0;36mHTTPAdapter.send\u001b[0;34m(self, request, stream, timeout, verify, cert, proxies)\u001b[0m\n\u001b[1;32m    439\u001b[0m \u001b[38;5;28;01mif\u001b[39;00m \u001b[38;5;129;01mnot\u001b[39;00m chunked:\n\u001b[0;32m--> 440\u001b[0m     resp \u001b[38;5;241m=\u001b[39m \u001b[43mconn\u001b[49m\u001b[38;5;241;43m.\u001b[39;49m\u001b[43murlopen\u001b[49m\u001b[43m(\u001b[49m\n\u001b[1;32m    441\u001b[0m \u001b[43m        \u001b[49m\u001b[43mmethod\u001b[49m\u001b[38;5;241;43m=\u001b[39;49m\u001b[43mrequest\u001b[49m\u001b[38;5;241;43m.\u001b[39;49m\u001b[43mmethod\u001b[49m\u001b[43m,\u001b[49m\n\u001b[1;32m    442\u001b[0m \u001b[43m        \u001b[49m\u001b[43murl\u001b[49m\u001b[38;5;241;43m=\u001b[39;49m\u001b[43murl\u001b[49m\u001b[43m,\u001b[49m\n\u001b[1;32m    443\u001b[0m \u001b[43m        \u001b[49m\u001b[43mbody\u001b[49m\u001b[38;5;241;43m=\u001b[39;49m\u001b[43mrequest\u001b[49m\u001b[38;5;241;43m.\u001b[39;49m\u001b[43mbody\u001b[49m\u001b[43m,\u001b[49m\n\u001b[1;32m    444\u001b[0m \u001b[43m        \u001b[49m\u001b[43mheaders\u001b[49m\u001b[38;5;241;43m=\u001b[39;49m\u001b[43mrequest\u001b[49m\u001b[38;5;241;43m.\u001b[39;49m\u001b[43mheaders\u001b[49m\u001b[43m,\u001b[49m\n\u001b[1;32m    445\u001b[0m \u001b[43m        \u001b[49m\u001b[43mredirect\u001b[49m\u001b[38;5;241;43m=\u001b[39;49m\u001b[38;5;28;43;01mFalse\u001b[39;49;00m\u001b[43m,\u001b[49m\n\u001b[1;32m    446\u001b[0m \u001b[43m        \u001b[49m\u001b[43massert_same_host\u001b[49m\u001b[38;5;241;43m=\u001b[39;49m\u001b[38;5;28;43;01mFalse\u001b[39;49;00m\u001b[43m,\u001b[49m\n\u001b[1;32m    447\u001b[0m \u001b[43m        \u001b[49m\u001b[43mpreload_content\u001b[49m\u001b[38;5;241;43m=\u001b[39;49m\u001b[38;5;28;43;01mFalse\u001b[39;49;00m\u001b[43m,\u001b[49m\n\u001b[1;32m    448\u001b[0m \u001b[43m        \u001b[49m\u001b[43mdecode_content\u001b[49m\u001b[38;5;241;43m=\u001b[39;49m\u001b[38;5;28;43;01mFalse\u001b[39;49;00m\u001b[43m,\u001b[49m\n\u001b[1;32m    449\u001b[0m \u001b[43m        \u001b[49m\u001b[43mretries\u001b[49m\u001b[38;5;241;43m=\u001b[39;49m\u001b[38;5;28;43mself\u001b[39;49m\u001b[38;5;241;43m.\u001b[39;49m\u001b[43mmax_retries\u001b[49m\u001b[43m,\u001b[49m\n\u001b[1;32m    450\u001b[0m \u001b[43m        \u001b[49m\u001b[43mtimeout\u001b[49m\u001b[38;5;241;43m=\u001b[39;49m\u001b[43mtimeout\u001b[49m\n\u001b[1;32m    451\u001b[0m \u001b[43m    \u001b[49m\u001b[43m)\u001b[49m\n\u001b[1;32m    453\u001b[0m \u001b[38;5;66;03m# Send the request.\u001b[39;00m\n\u001b[1;32m    454\u001b[0m \u001b[38;5;28;01melse\u001b[39;00m:\n",
      "File \u001b[0;32m~/opt/anaconda3/lib/python3.9/site-packages/urllib3/connectionpool.py:785\u001b[0m, in \u001b[0;36mHTTPConnectionPool.urlopen\u001b[0;34m(self, method, url, body, headers, retries, redirect, assert_same_host, timeout, pool_timeout, release_conn, chunked, body_pos, **response_kw)\u001b[0m\n\u001b[1;32m    783\u001b[0m     e \u001b[38;5;241m=\u001b[39m ProtocolError(\u001b[38;5;124m\"\u001b[39m\u001b[38;5;124mConnection aborted.\u001b[39m\u001b[38;5;124m\"\u001b[39m, e)\n\u001b[0;32m--> 785\u001b[0m retries \u001b[38;5;241m=\u001b[39m \u001b[43mretries\u001b[49m\u001b[38;5;241;43m.\u001b[39;49m\u001b[43mincrement\u001b[49m\u001b[43m(\u001b[49m\n\u001b[1;32m    786\u001b[0m \u001b[43m    \u001b[49m\u001b[43mmethod\u001b[49m\u001b[43m,\u001b[49m\u001b[43m \u001b[49m\u001b[43murl\u001b[49m\u001b[43m,\u001b[49m\u001b[43m \u001b[49m\u001b[43merror\u001b[49m\u001b[38;5;241;43m=\u001b[39;49m\u001b[43me\u001b[49m\u001b[43m,\u001b[49m\u001b[43m \u001b[49m\u001b[43m_pool\u001b[49m\u001b[38;5;241;43m=\u001b[39;49m\u001b[38;5;28;43mself\u001b[39;49m\u001b[43m,\u001b[49m\u001b[43m \u001b[49m\u001b[43m_stacktrace\u001b[49m\u001b[38;5;241;43m=\u001b[39;49m\u001b[43msys\u001b[49m\u001b[38;5;241;43m.\u001b[39;49m\u001b[43mexc_info\u001b[49m\u001b[43m(\u001b[49m\u001b[43m)\u001b[49m\u001b[43m[\u001b[49m\u001b[38;5;241;43m2\u001b[39;49m\u001b[43m]\u001b[49m\n\u001b[1;32m    787\u001b[0m \u001b[43m\u001b[49m\u001b[43m)\u001b[49m\n\u001b[1;32m    788\u001b[0m retries\u001b[38;5;241m.\u001b[39msleep()\n",
      "File \u001b[0;32m~/opt/anaconda3/lib/python3.9/site-packages/urllib3/util/retry.py:550\u001b[0m, in \u001b[0;36mRetry.increment\u001b[0;34m(self, method, url, response, error, _pool, _stacktrace)\u001b[0m\n\u001b[1;32m    549\u001b[0m \u001b[38;5;28;01mif\u001b[39;00m read \u001b[38;5;129;01mis\u001b[39;00m \u001b[38;5;28;01mFalse\u001b[39;00m \u001b[38;5;129;01mor\u001b[39;00m \u001b[38;5;129;01mnot\u001b[39;00m \u001b[38;5;28mself\u001b[39m\u001b[38;5;241m.\u001b[39m_is_method_retryable(method):\n\u001b[0;32m--> 550\u001b[0m     \u001b[38;5;28;01mraise\u001b[39;00m \u001b[43msix\u001b[49m\u001b[38;5;241;43m.\u001b[39;49m\u001b[43mreraise\u001b[49m\u001b[43m(\u001b[49m\u001b[38;5;28;43mtype\u001b[39;49m\u001b[43m(\u001b[49m\u001b[43merror\u001b[49m\u001b[43m)\u001b[49m\u001b[43m,\u001b[49m\u001b[43m \u001b[49m\u001b[43merror\u001b[49m\u001b[43m,\u001b[49m\u001b[43m \u001b[49m\u001b[43m_stacktrace\u001b[49m\u001b[43m)\u001b[49m\n\u001b[1;32m    551\u001b[0m \u001b[38;5;28;01melif\u001b[39;00m read \u001b[38;5;129;01mis\u001b[39;00m \u001b[38;5;129;01mnot\u001b[39;00m \u001b[38;5;28;01mNone\u001b[39;00m:\n",
      "File \u001b[0;32m~/opt/anaconda3/lib/python3.9/site-packages/urllib3/packages/six.py:770\u001b[0m, in \u001b[0;36mreraise\u001b[0;34m(tp, value, tb)\u001b[0m\n\u001b[1;32m    769\u001b[0m         \u001b[38;5;28;01mraise\u001b[39;00m value\u001b[38;5;241m.\u001b[39mwith_traceback(tb)\n\u001b[0;32m--> 770\u001b[0m     \u001b[38;5;28;01mraise\u001b[39;00m value\n\u001b[1;32m    771\u001b[0m \u001b[38;5;28;01mfinally\u001b[39;00m:\n",
      "File \u001b[0;32m~/opt/anaconda3/lib/python3.9/site-packages/urllib3/connectionpool.py:703\u001b[0m, in \u001b[0;36mHTTPConnectionPool.urlopen\u001b[0;34m(self, method, url, body, headers, retries, redirect, assert_same_host, timeout, pool_timeout, release_conn, chunked, body_pos, **response_kw)\u001b[0m\n\u001b[1;32m    702\u001b[0m \u001b[38;5;66;03m# Make the request on the httplib connection object.\u001b[39;00m\n\u001b[0;32m--> 703\u001b[0m httplib_response \u001b[38;5;241m=\u001b[39m \u001b[38;5;28;43mself\u001b[39;49m\u001b[38;5;241;43m.\u001b[39;49m\u001b[43m_make_request\u001b[49m\u001b[43m(\u001b[49m\n\u001b[1;32m    704\u001b[0m \u001b[43m    \u001b[49m\u001b[43mconn\u001b[49m\u001b[43m,\u001b[49m\n\u001b[1;32m    705\u001b[0m \u001b[43m    \u001b[49m\u001b[43mmethod\u001b[49m\u001b[43m,\u001b[49m\n\u001b[1;32m    706\u001b[0m \u001b[43m    \u001b[49m\u001b[43murl\u001b[49m\u001b[43m,\u001b[49m\n\u001b[1;32m    707\u001b[0m \u001b[43m    \u001b[49m\u001b[43mtimeout\u001b[49m\u001b[38;5;241;43m=\u001b[39;49m\u001b[43mtimeout_obj\u001b[49m\u001b[43m,\u001b[49m\n\u001b[1;32m    708\u001b[0m \u001b[43m    \u001b[49m\u001b[43mbody\u001b[49m\u001b[38;5;241;43m=\u001b[39;49m\u001b[43mbody\u001b[49m\u001b[43m,\u001b[49m\n\u001b[1;32m    709\u001b[0m \u001b[43m    \u001b[49m\u001b[43mheaders\u001b[49m\u001b[38;5;241;43m=\u001b[39;49m\u001b[43mheaders\u001b[49m\u001b[43m,\u001b[49m\n\u001b[1;32m    710\u001b[0m \u001b[43m    \u001b[49m\u001b[43mchunked\u001b[49m\u001b[38;5;241;43m=\u001b[39;49m\u001b[43mchunked\u001b[49m\u001b[43m,\u001b[49m\n\u001b[1;32m    711\u001b[0m \u001b[43m\u001b[49m\u001b[43m)\u001b[49m\n\u001b[1;32m    713\u001b[0m \u001b[38;5;66;03m# If we're going to release the connection in ``finally:``, then\u001b[39;00m\n\u001b[1;32m    714\u001b[0m \u001b[38;5;66;03m# the response doesn't need to know about the connection. Otherwise\u001b[39;00m\n\u001b[1;32m    715\u001b[0m \u001b[38;5;66;03m# it will also try to release it and we'll have a double-release\u001b[39;00m\n\u001b[1;32m    716\u001b[0m \u001b[38;5;66;03m# mess.\u001b[39;00m\n",
      "File \u001b[0;32m~/opt/anaconda3/lib/python3.9/site-packages/urllib3/connectionpool.py:451\u001b[0m, in \u001b[0;36mHTTPConnectionPool._make_request\u001b[0;34m(self, conn, method, url, timeout, chunked, **httplib_request_kw)\u001b[0m\n\u001b[1;32m    450\u001b[0m \u001b[38;5;28;01mexcept\u001b[39;00m (SocketTimeout, BaseSSLError, SocketError) \u001b[38;5;28;01mas\u001b[39;00m e:\n\u001b[0;32m--> 451\u001b[0m     \u001b[38;5;28;43mself\u001b[39;49m\u001b[38;5;241;43m.\u001b[39;49m\u001b[43m_raise_timeout\u001b[49m\u001b[43m(\u001b[49m\u001b[43merr\u001b[49m\u001b[38;5;241;43m=\u001b[39;49m\u001b[43me\u001b[49m\u001b[43m,\u001b[49m\u001b[43m \u001b[49m\u001b[43murl\u001b[49m\u001b[38;5;241;43m=\u001b[39;49m\u001b[43murl\u001b[49m\u001b[43m,\u001b[49m\u001b[43m \u001b[49m\u001b[43mtimeout_value\u001b[49m\u001b[38;5;241;43m=\u001b[39;49m\u001b[43mread_timeout\u001b[49m\u001b[43m)\u001b[49m\n\u001b[1;32m    452\u001b[0m     \u001b[38;5;28;01mraise\u001b[39;00m\n",
      "File \u001b[0;32m~/opt/anaconda3/lib/python3.9/site-packages/urllib3/connectionpool.py:340\u001b[0m, in \u001b[0;36mHTTPConnectionPool._raise_timeout\u001b[0;34m(self, err, url, timeout_value)\u001b[0m\n\u001b[1;32m    339\u001b[0m \u001b[38;5;28;01mif\u001b[39;00m \u001b[38;5;28misinstance\u001b[39m(err, SocketTimeout):\n\u001b[0;32m--> 340\u001b[0m     \u001b[38;5;28;01mraise\u001b[39;00m ReadTimeoutError(\n\u001b[1;32m    341\u001b[0m         \u001b[38;5;28mself\u001b[39m, url, \u001b[38;5;124m\"\u001b[39m\u001b[38;5;124mRead timed out. (read timeout=\u001b[39m\u001b[38;5;132;01m%s\u001b[39;00m\u001b[38;5;124m)\u001b[39m\u001b[38;5;124m\"\u001b[39m \u001b[38;5;241m%\u001b[39m timeout_value\n\u001b[1;32m    342\u001b[0m     )\n\u001b[1;32m    344\u001b[0m \u001b[38;5;66;03m# See the above comment about EAGAIN in Python 3. In Python 2 we have\u001b[39;00m\n\u001b[1;32m    345\u001b[0m \u001b[38;5;66;03m# to specifically catch it and throw the timeout error\u001b[39;00m\n",
      "\u001b[0;31mReadTimeoutError\u001b[0m: HTTPSConnectionPool(host='api.spotify.com', port=443): Read timed out. (read timeout=5)",
      "\nDuring handling of the above exception, another exception occurred:\n",
      "\u001b[0;31mReadTimeout\u001b[0m                               Traceback (most recent call last)",
      "Input \u001b[0;32mIn [73]\u001b[0m, in \u001b[0;36m<cell line: 1>\u001b[0;34m()\u001b[0m\n\u001b[1;32m      1\u001b[0m \u001b[38;5;28;01mfor\u001b[39;00m i  \u001b[38;5;129;01min\u001b[39;00m  result[\u001b[38;5;241m15\u001b[39m]:\n\u001b[1;32m      2\u001b[0m     \u001b[38;5;28mprint\u001b[39m(i)\n\u001b[0;32m----> 3\u001b[0m     \u001b[43mget_features_df\u001b[49m\u001b[43m(\u001b[49m\u001b[43mi\u001b[49m\u001b[43m)\u001b[49m\n",
      "Input \u001b[0;32mIn [4]\u001b[0m, in \u001b[0;36mget_features_df\u001b[0;34m(playlist_id)\u001b[0m\n\u001b[1;32m     15\u001b[0m \u001b[38;5;66;03m#getting features per song in  playlist \u001b[39;00m\n\u001b[1;32m     16\u001b[0m     \u001b[38;5;28;01mfor\u001b[39;00m value \u001b[38;5;129;01min\u001b[39;00m \u001b[38;5;28mrange\u001b[39m(\u001b[38;5;241m0\u001b[39m,\u001b[38;5;28mlen\u001b[39m(tracks)):\n\u001b[0;32m---> 18\u001b[0m         list_of_audio_features\u001b[38;5;241m.\u001b[39mappend(\u001b[43msp\u001b[49m\u001b[38;5;241;43m.\u001b[39;49m\u001b[43maudio_features\u001b[49m\u001b[43m(\u001b[49m\u001b[43mtracks\u001b[49m\u001b[43m[\u001b[49m\u001b[43mvalue\u001b[49m\u001b[43m]\u001b[49m\u001b[43m[\u001b[49m\u001b[38;5;124;43m\"\u001b[39;49m\u001b[38;5;124;43mtrack\u001b[39;49m\u001b[38;5;124;43m\"\u001b[39;49m\u001b[43m]\u001b[49m\u001b[43m[\u001b[49m\u001b[38;5;124;43m\"\u001b[39;49m\u001b[38;5;124;43mid\u001b[39;49m\u001b[38;5;124;43m\"\u001b[39;49m\u001b[43m]\u001b[49m\u001b[43m)\u001b[49m[\u001b[38;5;241m0\u001b[39m])\n\u001b[1;32m     21\u001b[0m \u001b[38;5;66;03m#creating df with audio features and adding song name and artist     \u001b[39;00m\n\u001b[1;32m     22\u001b[0m     df\u001b[38;5;241m=\u001b[39mpd\u001b[38;5;241m.\u001b[39mDataFrame(list_of_audio_features)    \n",
      "File \u001b[0;32m~/opt/anaconda3/lib/python3.9/site-packages/spotipy/client.py:1680\u001b[0m, in \u001b[0;36mSpotify.audio_features\u001b[0;34m(self, tracks)\u001b[0m\n\u001b[1;32m   1678\u001b[0m \u001b[38;5;28;01mif\u001b[39;00m \u001b[38;5;28misinstance\u001b[39m(tracks, \u001b[38;5;28mstr\u001b[39m):\n\u001b[1;32m   1679\u001b[0m     trackid \u001b[38;5;241m=\u001b[39m \u001b[38;5;28mself\u001b[39m\u001b[38;5;241m.\u001b[39m_get_id(\u001b[38;5;124m\"\u001b[39m\u001b[38;5;124mtrack\u001b[39m\u001b[38;5;124m\"\u001b[39m, tracks)\n\u001b[0;32m-> 1680\u001b[0m     results \u001b[38;5;241m=\u001b[39m \u001b[38;5;28;43mself\u001b[39;49m\u001b[38;5;241;43m.\u001b[39;49m\u001b[43m_get\u001b[49m\u001b[43m(\u001b[49m\u001b[38;5;124;43m\"\u001b[39;49m\u001b[38;5;124;43maudio-features/?ids=\u001b[39;49m\u001b[38;5;124;43m\"\u001b[39;49m\u001b[43m \u001b[49m\u001b[38;5;241;43m+\u001b[39;49m\u001b[43m \u001b[49m\u001b[43mtrackid\u001b[49m\u001b[43m)\u001b[49m\n\u001b[1;32m   1681\u001b[0m \u001b[38;5;28;01melse\u001b[39;00m:\n\u001b[1;32m   1682\u001b[0m     tlist \u001b[38;5;241m=\u001b[39m [\u001b[38;5;28mself\u001b[39m\u001b[38;5;241m.\u001b[39m_get_id(\u001b[38;5;124m\"\u001b[39m\u001b[38;5;124mtrack\u001b[39m\u001b[38;5;124m\"\u001b[39m, t) \u001b[38;5;28;01mfor\u001b[39;00m t \u001b[38;5;129;01min\u001b[39;00m tracks]\n",
      "File \u001b[0;32m~/opt/anaconda3/lib/python3.9/site-packages/spotipy/client.py:297\u001b[0m, in \u001b[0;36mSpotify._get\u001b[0;34m(self, url, args, payload, **kwargs)\u001b[0m\n\u001b[1;32m    294\u001b[0m \u001b[38;5;28;01mif\u001b[39;00m args:\n\u001b[1;32m    295\u001b[0m     kwargs\u001b[38;5;241m.\u001b[39mupdate(args)\n\u001b[0;32m--> 297\u001b[0m \u001b[38;5;28;01mreturn\u001b[39;00m \u001b[38;5;28;43mself\u001b[39;49m\u001b[38;5;241;43m.\u001b[39;49m\u001b[43m_internal_call\u001b[49m\u001b[43m(\u001b[49m\u001b[38;5;124;43m\"\u001b[39;49m\u001b[38;5;124;43mGET\u001b[39;49m\u001b[38;5;124;43m\"\u001b[39;49m\u001b[43m,\u001b[49m\u001b[43m \u001b[49m\u001b[43murl\u001b[49m\u001b[43m,\u001b[49m\u001b[43m \u001b[49m\u001b[43mpayload\u001b[49m\u001b[43m,\u001b[49m\u001b[43m \u001b[49m\u001b[43mkwargs\u001b[49m\u001b[43m)\u001b[49m\n",
      "File \u001b[0;32m~/opt/anaconda3/lib/python3.9/site-packages/spotipy/client.py:240\u001b[0m, in \u001b[0;36mSpotify._internal_call\u001b[0;34m(self, method, url, payload, params)\u001b[0m\n\u001b[1;32m    236\u001b[0m logger\u001b[38;5;241m.\u001b[39mdebug(\u001b[38;5;124m'\u001b[39m\u001b[38;5;124mSending \u001b[39m\u001b[38;5;132;01m%s\u001b[39;00m\u001b[38;5;124m to \u001b[39m\u001b[38;5;132;01m%s\u001b[39;00m\u001b[38;5;124m with Params: \u001b[39m\u001b[38;5;132;01m%s\u001b[39;00m\u001b[38;5;124m Headers: \u001b[39m\u001b[38;5;132;01m%s\u001b[39;00m\u001b[38;5;124m and Body: \u001b[39m\u001b[38;5;132;01m%r\u001b[39;00m\u001b[38;5;124m \u001b[39m\u001b[38;5;124m'\u001b[39m,\n\u001b[1;32m    237\u001b[0m              method, url, args\u001b[38;5;241m.\u001b[39mget(\u001b[38;5;124m\"\u001b[39m\u001b[38;5;124mparams\u001b[39m\u001b[38;5;124m\"\u001b[39m), headers, args\u001b[38;5;241m.\u001b[39mget(\u001b[38;5;124m'\u001b[39m\u001b[38;5;124mdata\u001b[39m\u001b[38;5;124m'\u001b[39m))\n\u001b[1;32m    239\u001b[0m \u001b[38;5;28;01mtry\u001b[39;00m:\n\u001b[0;32m--> 240\u001b[0m     response \u001b[38;5;241m=\u001b[39m \u001b[38;5;28;43mself\u001b[39;49m\u001b[38;5;241;43m.\u001b[39;49m\u001b[43m_session\u001b[49m\u001b[38;5;241;43m.\u001b[39;49m\u001b[43mrequest\u001b[49m\u001b[43m(\u001b[49m\n\u001b[1;32m    241\u001b[0m \u001b[43m        \u001b[49m\u001b[43mmethod\u001b[49m\u001b[43m,\u001b[49m\u001b[43m \u001b[49m\u001b[43murl\u001b[49m\u001b[43m,\u001b[49m\u001b[43m \u001b[49m\u001b[43mheaders\u001b[49m\u001b[38;5;241;43m=\u001b[39;49m\u001b[43mheaders\u001b[49m\u001b[43m,\u001b[49m\u001b[43m \u001b[49m\u001b[43mproxies\u001b[49m\u001b[38;5;241;43m=\u001b[39;49m\u001b[38;5;28;43mself\u001b[39;49m\u001b[38;5;241;43m.\u001b[39;49m\u001b[43mproxies\u001b[49m\u001b[43m,\u001b[49m\n\u001b[1;32m    242\u001b[0m \u001b[43m        \u001b[49m\u001b[43mtimeout\u001b[49m\u001b[38;5;241;43m=\u001b[39;49m\u001b[38;5;28;43mself\u001b[39;49m\u001b[38;5;241;43m.\u001b[39;49m\u001b[43mrequests_timeout\u001b[49m\u001b[43m,\u001b[49m\u001b[43m \u001b[49m\u001b[38;5;241;43m*\u001b[39;49m\u001b[38;5;241;43m*\u001b[39;49m\u001b[43margs\u001b[49m\n\u001b[1;32m    243\u001b[0m \u001b[43m    \u001b[49m\u001b[43m)\u001b[49m\n\u001b[1;32m    245\u001b[0m     response\u001b[38;5;241m.\u001b[39mraise_for_status()\n\u001b[1;32m    246\u001b[0m     results \u001b[38;5;241m=\u001b[39m response\u001b[38;5;241m.\u001b[39mjson()\n",
      "File \u001b[0;32m~/opt/anaconda3/lib/python3.9/site-packages/requests/sessions.py:529\u001b[0m, in \u001b[0;36mSession.request\u001b[0;34m(self, method, url, params, data, headers, cookies, files, auth, timeout, allow_redirects, proxies, hooks, stream, verify, cert, json)\u001b[0m\n\u001b[1;32m    524\u001b[0m send_kwargs \u001b[38;5;241m=\u001b[39m {\n\u001b[1;32m    525\u001b[0m     \u001b[38;5;124m'\u001b[39m\u001b[38;5;124mtimeout\u001b[39m\u001b[38;5;124m'\u001b[39m: timeout,\n\u001b[1;32m    526\u001b[0m     \u001b[38;5;124m'\u001b[39m\u001b[38;5;124mallow_redirects\u001b[39m\u001b[38;5;124m'\u001b[39m: allow_redirects,\n\u001b[1;32m    527\u001b[0m }\n\u001b[1;32m    528\u001b[0m send_kwargs\u001b[38;5;241m.\u001b[39mupdate(settings)\n\u001b[0;32m--> 529\u001b[0m resp \u001b[38;5;241m=\u001b[39m \u001b[38;5;28;43mself\u001b[39;49m\u001b[38;5;241;43m.\u001b[39;49m\u001b[43msend\u001b[49m\u001b[43m(\u001b[49m\u001b[43mprep\u001b[49m\u001b[43m,\u001b[49m\u001b[43m \u001b[49m\u001b[38;5;241;43m*\u001b[39;49m\u001b[38;5;241;43m*\u001b[39;49m\u001b[43msend_kwargs\u001b[49m\u001b[43m)\u001b[49m\n\u001b[1;32m    531\u001b[0m \u001b[38;5;28;01mreturn\u001b[39;00m resp\n",
      "File \u001b[0;32m~/opt/anaconda3/lib/python3.9/site-packages/requests/sessions.py:645\u001b[0m, in \u001b[0;36mSession.send\u001b[0;34m(self, request, **kwargs)\u001b[0m\n\u001b[1;32m    642\u001b[0m start \u001b[38;5;241m=\u001b[39m preferred_clock()\n\u001b[1;32m    644\u001b[0m \u001b[38;5;66;03m# Send the request\u001b[39;00m\n\u001b[0;32m--> 645\u001b[0m r \u001b[38;5;241m=\u001b[39m \u001b[43madapter\u001b[49m\u001b[38;5;241;43m.\u001b[39;49m\u001b[43msend\u001b[49m\u001b[43m(\u001b[49m\u001b[43mrequest\u001b[49m\u001b[43m,\u001b[49m\u001b[43m \u001b[49m\u001b[38;5;241;43m*\u001b[39;49m\u001b[38;5;241;43m*\u001b[39;49m\u001b[43mkwargs\u001b[49m\u001b[43m)\u001b[49m\n\u001b[1;32m    647\u001b[0m \u001b[38;5;66;03m# Total elapsed time of the request (approximately)\u001b[39;00m\n\u001b[1;32m    648\u001b[0m elapsed \u001b[38;5;241m=\u001b[39m preferred_clock() \u001b[38;5;241m-\u001b[39m start\n",
      "File \u001b[0;32m~/opt/anaconda3/lib/python3.9/site-packages/requests/adapters.py:532\u001b[0m, in \u001b[0;36mHTTPAdapter.send\u001b[0;34m(self, request, stream, timeout, verify, cert, proxies)\u001b[0m\n\u001b[1;32m    530\u001b[0m     \u001b[38;5;28;01mraise\u001b[39;00m SSLError(e, request\u001b[38;5;241m=\u001b[39mrequest)\n\u001b[1;32m    531\u001b[0m \u001b[38;5;28;01melif\u001b[39;00m \u001b[38;5;28misinstance\u001b[39m(e, ReadTimeoutError):\n\u001b[0;32m--> 532\u001b[0m     \u001b[38;5;28;01mraise\u001b[39;00m ReadTimeout(e, request\u001b[38;5;241m=\u001b[39mrequest)\n\u001b[1;32m    533\u001b[0m \u001b[38;5;28;01melif\u001b[39;00m \u001b[38;5;28misinstance\u001b[39m(e, _InvalidHeader):\n\u001b[1;32m    534\u001b[0m     \u001b[38;5;28;01mraise\u001b[39;00m InvalidHeader(e, request\u001b[38;5;241m=\u001b[39mrequest)\n",
      "\u001b[0;31mReadTimeout\u001b[0m: HTTPSConnectionPool(host='api.spotify.com', port=443): Read timed out. (read timeout=5)"
     ]
    }
   ],
   "source": [
    "for i  in  result[15]:\n",
    "    print(i)\n",
    "    get_features_df(i)"
   ]
  },
  {
   "cell_type": "code",
   "execution_count": 75,
   "id": "4f60606b",
   "metadata": {},
   "outputs": [
    {
     "name": "stdout",
     "output_type": "stream",
     "text": [
      "13rgRSFVuyKQ0YtrZDJD6R\n"
     ]
    },
    {
     "name": "stderr",
     "output_type": "stream",
     "text": [
      "/var/folders/1n/phyrz16s0rd1_mpv046jgqf80000gn/T/ipykernel_17629/3181457209.py:28: FutureWarning: The frame.append method is deprecated and will be removed from pandas in a future version. Use pandas.concat instead.\n",
      "  big_df =big_df.append(df)\n"
     ]
    },
    {
     "name": "stdout",
     "output_type": "stream",
     "text": [
      "7xVNaEai3Tk9uOZ2p3sdg5\n"
     ]
    },
    {
     "name": "stderr",
     "output_type": "stream",
     "text": [
      "/var/folders/1n/phyrz16s0rd1_mpv046jgqf80000gn/T/ipykernel_17629/3181457209.py:28: FutureWarning: The frame.append method is deprecated and will be removed from pandas in a future version. Use pandas.concat instead.\n",
      "  big_df =big_df.append(df)\n"
     ]
    },
    {
     "name": "stdout",
     "output_type": "stream",
     "text": [
      "3uwJeZkSKE219OiTdOV0b0\n"
     ]
    },
    {
     "name": "stderr",
     "output_type": "stream",
     "text": [
      "/var/folders/1n/phyrz16s0rd1_mpv046jgqf80000gn/T/ipykernel_17629/3181457209.py:28: FutureWarning: The frame.append method is deprecated and will be removed from pandas in a future version. Use pandas.concat instead.\n",
      "  big_df =big_df.append(df)\n"
     ]
    },
    {
     "name": "stdout",
     "output_type": "stream",
     "text": [
      "1sYzsb7P37XzNZoUR2GGdm\n"
     ]
    },
    {
     "name": "stderr",
     "output_type": "stream",
     "text": [
      "/var/folders/1n/phyrz16s0rd1_mpv046jgqf80000gn/T/ipykernel_17629/3181457209.py:28: FutureWarning: The frame.append method is deprecated and will be removed from pandas in a future version. Use pandas.concat instead.\n",
      "  big_df =big_df.append(df)\n"
     ]
    },
    {
     "name": "stdout",
     "output_type": "stream",
     "text": [
      "2ACt3AX70sZp8hJbn88JTm\n"
     ]
    },
    {
     "name": "stderr",
     "output_type": "stream",
     "text": [
      "/var/folders/1n/phyrz16s0rd1_mpv046jgqf80000gn/T/ipykernel_17629/3181457209.py:28: FutureWarning: The frame.append method is deprecated and will be removed from pandas in a future version. Use pandas.concat instead.\n",
      "  big_df =big_df.append(df)\n"
     ]
    },
    {
     "name": "stdout",
     "output_type": "stream",
     "text": [
      "1PJcHjQejGViKFWUhkEaGi\n"
     ]
    },
    {
     "name": "stderr",
     "output_type": "stream",
     "text": [
      "/var/folders/1n/phyrz16s0rd1_mpv046jgqf80000gn/T/ipykernel_17629/3181457209.py:28: FutureWarning: The frame.append method is deprecated and will be removed from pandas in a future version. Use pandas.concat instead.\n",
      "  big_df =big_df.append(df)\n"
     ]
    },
    {
     "name": "stdout",
     "output_type": "stream",
     "text": [
      "0s5kSVps4n8Gxi1I4444LZ\n"
     ]
    },
    {
     "name": "stderr",
     "output_type": "stream",
     "text": [
      "/var/folders/1n/phyrz16s0rd1_mpv046jgqf80000gn/T/ipykernel_17629/3181457209.py:28: FutureWarning: The frame.append method is deprecated and will be removed from pandas in a future version. Use pandas.concat instead.\n",
      "  big_df =big_df.append(df)\n"
     ]
    },
    {
     "name": "stdout",
     "output_type": "stream",
     "text": [
      "0eG7lHRXnfTMVTSYwdkFhw\n"
     ]
    },
    {
     "name": "stderr",
     "output_type": "stream",
     "text": [
      "/var/folders/1n/phyrz16s0rd1_mpv046jgqf80000gn/T/ipykernel_17629/3181457209.py:28: FutureWarning: The frame.append method is deprecated and will be removed from pandas in a future version. Use pandas.concat instead.\n",
      "  big_df =big_df.append(df)\n"
     ]
    },
    {
     "name": "stdout",
     "output_type": "stream",
     "text": [
      "42I35nX6LVqu5PqNj8824b\n"
     ]
    },
    {
     "name": "stderr",
     "output_type": "stream",
     "text": [
      "/var/folders/1n/phyrz16s0rd1_mpv046jgqf80000gn/T/ipykernel_17629/3181457209.py:28: FutureWarning: The frame.append method is deprecated and will be removed from pandas in a future version. Use pandas.concat instead.\n",
      "  big_df =big_df.append(df)\n"
     ]
    },
    {
     "name": "stdout",
     "output_type": "stream",
     "text": [
      "4s63F0tPbBZFctstOgQ6dB\n"
     ]
    },
    {
     "name": "stderr",
     "output_type": "stream",
     "text": [
      "/var/folders/1n/phyrz16s0rd1_mpv046jgqf80000gn/T/ipykernel_17629/3181457209.py:28: FutureWarning: The frame.append method is deprecated and will be removed from pandas in a future version. Use pandas.concat instead.\n",
      "  big_df =big_df.append(df)\n"
     ]
    },
    {
     "name": "stdout",
     "output_type": "stream",
     "text": [
      "7aRjOmjIA4T4AIvRyI1xeI\n"
     ]
    },
    {
     "name": "stderr",
     "output_type": "stream",
     "text": [
      "/var/folders/1n/phyrz16s0rd1_mpv046jgqf80000gn/T/ipykernel_17629/3181457209.py:28: FutureWarning: The frame.append method is deprecated and will be removed from pandas in a future version. Use pandas.concat instead.\n",
      "  big_df =big_df.append(df)\n"
     ]
    },
    {
     "name": "stdout",
     "output_type": "stream",
     "text": [
      "3vcdeM6ldGdBYp6mEKTAKQ\n"
     ]
    },
    {
     "name": "stderr",
     "output_type": "stream",
     "text": [
      "/var/folders/1n/phyrz16s0rd1_mpv046jgqf80000gn/T/ipykernel_17629/3181457209.py:28: FutureWarning: The frame.append method is deprecated and will be removed from pandas in a future version. Use pandas.concat instead.\n",
      "  big_df =big_df.append(df)\n"
     ]
    },
    {
     "name": "stdout",
     "output_type": "stream",
     "text": [
      "4FGSq8L27DzNOAv63DbBSV\n"
     ]
    },
    {
     "name": "stderr",
     "output_type": "stream",
     "text": [
      "/var/folders/1n/phyrz16s0rd1_mpv046jgqf80000gn/T/ipykernel_17629/3181457209.py:28: FutureWarning: The frame.append method is deprecated and will be removed from pandas in a future version. Use pandas.concat instead.\n",
      "  big_df =big_df.append(df)\n"
     ]
    },
    {
     "name": "stdout",
     "output_type": "stream",
     "text": [
      "6ewrhTyrUB7Vh24nb9q6dR\n"
     ]
    },
    {
     "name": "stderr",
     "output_type": "stream",
     "text": [
      "/var/folders/1n/phyrz16s0rd1_mpv046jgqf80000gn/T/ipykernel_17629/3181457209.py:28: FutureWarning: The frame.append method is deprecated and will be removed from pandas in a future version. Use pandas.concat instead.\n",
      "  big_df =big_df.append(df)\n"
     ]
    },
    {
     "name": "stdout",
     "output_type": "stream",
     "text": [
      "22V60MoCj7rBWKYUBKE0WK\n"
     ]
    },
    {
     "name": "stderr",
     "output_type": "stream",
     "text": [
      "/var/folders/1n/phyrz16s0rd1_mpv046jgqf80000gn/T/ipykernel_17629/3181457209.py:28: FutureWarning: The frame.append method is deprecated and will be removed from pandas in a future version. Use pandas.concat instead.\n",
      "  big_df =big_df.append(df)\n"
     ]
    },
    {
     "name": "stdout",
     "output_type": "stream",
     "text": [
      "1KED9gpGOnUAKU9ChGCekB\n"
     ]
    },
    {
     "name": "stderr",
     "output_type": "stream",
     "text": [
      "/var/folders/1n/phyrz16s0rd1_mpv046jgqf80000gn/T/ipykernel_17629/3181457209.py:28: FutureWarning: The frame.append method is deprecated and will be removed from pandas in a future version. Use pandas.concat instead.\n",
      "  big_df =big_df.append(df)\n"
     ]
    },
    {
     "name": "stdout",
     "output_type": "stream",
     "text": [
      "7dAnb4clKDtv2ETIFAuXsA\n"
     ]
    },
    {
     "name": "stderr",
     "output_type": "stream",
     "text": [
      "/var/folders/1n/phyrz16s0rd1_mpv046jgqf80000gn/T/ipykernel_17629/3181457209.py:28: FutureWarning: The frame.append method is deprecated and will be removed from pandas in a future version. Use pandas.concat instead.\n",
      "  big_df =big_df.append(df)\n"
     ]
    },
    {
     "name": "stdout",
     "output_type": "stream",
     "text": [
      "2UITkS3qkO0x6bKVzKZrbS\n"
     ]
    },
    {
     "name": "stderr",
     "output_type": "stream",
     "text": [
      "/var/folders/1n/phyrz16s0rd1_mpv046jgqf80000gn/T/ipykernel_17629/3181457209.py:28: FutureWarning: The frame.append method is deprecated and will be removed from pandas in a future version. Use pandas.concat instead.\n",
      "  big_df =big_df.append(df)\n"
     ]
    },
    {
     "name": "stdout",
     "output_type": "stream",
     "text": [
      "0HzeEyoLQcd9KCfda4yBoA\n"
     ]
    },
    {
     "ename": "TypeError",
     "evalue": "'NoneType' object is not subscriptable",
     "output_type": "error",
     "traceback": [
      "\u001b[0;31m---------------------------------------------------------------------------\u001b[0m",
      "\u001b[0;31mTypeError\u001b[0m                                 Traceback (most recent call last)",
      "Input \u001b[0;32mIn [75]\u001b[0m, in \u001b[0;36m<cell line: 1>\u001b[0;34m()\u001b[0m\n\u001b[1;32m      1\u001b[0m \u001b[38;5;28;01mfor\u001b[39;00m i  \u001b[38;5;129;01min\u001b[39;00m  result[\u001b[38;5;241m16\u001b[39m]:\n\u001b[1;32m      2\u001b[0m     \u001b[38;5;28mprint\u001b[39m(i)\n\u001b[0;32m----> 3\u001b[0m     \u001b[43mget_features_df\u001b[49m\u001b[43m(\u001b[49m\u001b[43mi\u001b[49m\u001b[43m)\u001b[49m\n",
      "Input \u001b[0;32mIn [4]\u001b[0m, in \u001b[0;36mget_features_df\u001b[0;34m(playlist_id)\u001b[0m\n\u001b[1;32m     15\u001b[0m \u001b[38;5;66;03m#getting features per song in  playlist \u001b[39;00m\n\u001b[1;32m     16\u001b[0m     \u001b[38;5;28;01mfor\u001b[39;00m value \u001b[38;5;129;01min\u001b[39;00m \u001b[38;5;28mrange\u001b[39m(\u001b[38;5;241m0\u001b[39m,\u001b[38;5;28mlen\u001b[39m(tracks)):\n\u001b[0;32m---> 18\u001b[0m         list_of_audio_features\u001b[38;5;241m.\u001b[39mappend(sp\u001b[38;5;241m.\u001b[39maudio_features(\u001b[43mtracks\u001b[49m\u001b[43m[\u001b[49m\u001b[43mvalue\u001b[49m\u001b[43m]\u001b[49m\u001b[43m[\u001b[49m\u001b[38;5;124;43m\"\u001b[39;49m\u001b[38;5;124;43mtrack\u001b[39;49m\u001b[38;5;124;43m\"\u001b[39;49m\u001b[43m]\u001b[49m\u001b[43m[\u001b[49m\u001b[38;5;124;43m\"\u001b[39;49m\u001b[38;5;124;43mid\u001b[39;49m\u001b[38;5;124;43m\"\u001b[39;49m\u001b[43m]\u001b[49m)[\u001b[38;5;241m0\u001b[39m])\n\u001b[1;32m     21\u001b[0m \u001b[38;5;66;03m#creating df with audio features and adding song name and artist     \u001b[39;00m\n\u001b[1;32m     22\u001b[0m     df\u001b[38;5;241m=\u001b[39mpd\u001b[38;5;241m.\u001b[39mDataFrame(list_of_audio_features)    \n",
      "\u001b[0;31mTypeError\u001b[0m: 'NoneType' object is not subscriptable"
     ]
    }
   ],
   "source": [
    "for i  in  result[16]:\n",
    "    print(i)\n",
    "    get_features_df(i)"
   ]
  },
  {
   "cell_type": "code",
   "execution_count": 74,
   "id": "b13a276f",
   "metadata": {},
   "outputs": [
    {
     "data": {
      "text/html": [
       "<div>\n",
       "<style scoped>\n",
       "    .dataframe tbody tr th:only-of-type {\n",
       "        vertical-align: middle;\n",
       "    }\n",
       "\n",
       "    .dataframe tbody tr th {\n",
       "        vertical-align: top;\n",
       "    }\n",
       "\n",
       "    .dataframe thead th {\n",
       "        text-align: right;\n",
       "    }\n",
       "</style>\n",
       "<table border=\"1\" class=\"dataframe\">\n",
       "  <thead>\n",
       "    <tr style=\"text-align: right;\">\n",
       "      <th></th>\n",
       "      <th>danceability</th>\n",
       "      <th>energy</th>\n",
       "      <th>loudness</th>\n",
       "      <th>speechiness</th>\n",
       "      <th>acousticness</th>\n",
       "      <th>instrumentalness</th>\n",
       "      <th>liveness</th>\n",
       "      <th>valence</th>\n",
       "      <th>tempo</th>\n",
       "      <th>id</th>\n",
       "      <th>duration_ms</th>\n",
       "    </tr>\n",
       "  </thead>\n",
       "  <tbody>\n",
       "    <tr>\n",
       "      <th>0</th>\n",
       "      <td>0.752</td>\n",
       "      <td>0.698</td>\n",
       "      <td>-6.53</td>\n",
       "      <td>0.306</td>\n",
       "      <td>0.52</td>\n",
       "      <td>0.0</td>\n",
       "      <td>0.211</td>\n",
       "      <td>0.347</td>\n",
       "      <td>132.058</td>\n",
       "      <td>0g21KZ1XJuhwexWPLpuEt1</td>\n",
       "      <td>159453</td>\n",
       "    </tr>\n",
       "    <tr>\n",
       "      <th>1</th>\n",
       "      <td>0.832</td>\n",
       "      <td>0.738</td>\n",
       "      <td>-4.417</td>\n",
       "      <td>0.0783</td>\n",
       "      <td>0.258</td>\n",
       "      <td>0.000015</td>\n",
       "      <td>0.22</td>\n",
       "      <td>0.49</td>\n",
       "      <td>127.874</td>\n",
       "      <td>3fMNMAP51H7NywqzoukIRy</td>\n",
       "      <td>133876</td>\n",
       "    </tr>\n",
       "    <tr>\n",
       "      <th>2</th>\n",
       "      <td>0.603</td>\n",
       "      <td>0.512</td>\n",
       "      <td>-6.687</td>\n",
       "      <td>0.0402</td>\n",
       "      <td>0.454</td>\n",
       "      <td>0.00014</td>\n",
       "      <td>0.154</td>\n",
       "      <td>0.271</td>\n",
       "      <td>145.91</td>\n",
       "      <td>4xb8JHIN56xixSl6vkSPjm</td>\n",
       "      <td>200267</td>\n",
       "    </tr>\n",
       "    <tr>\n",
       "      <th>3</th>\n",
       "      <td>0.321</td>\n",
       "      <td>0.705</td>\n",
       "      <td>-5.41</td>\n",
       "      <td>0.0943</td>\n",
       "      <td>0.17</td>\n",
       "      <td>0.0</td>\n",
       "      <td>0.0514</td>\n",
       "      <td>0.302</td>\n",
       "      <td>62.013</td>\n",
       "      <td>0O8feNuKk5rTTip2bTyOoC</td>\n",
       "      <td>184923</td>\n",
       "    </tr>\n",
       "    <tr>\n",
       "      <th>4</th>\n",
       "      <td>0.477</td>\n",
       "      <td>0.128</td>\n",
       "      <td>-14.567</td>\n",
       "      <td>0.0707</td>\n",
       "      <td>0.928</td>\n",
       "      <td>0.0</td>\n",
       "      <td>0.0875</td>\n",
       "      <td>0.38</td>\n",
       "      <td>88.917</td>\n",
       "      <td>51xRMJFRBrW9C1RI1qW4S0</td>\n",
       "      <td>238576</td>\n",
       "    </tr>\n",
       "    <tr>\n",
       "      <th>...</th>\n",
       "      <td>...</td>\n",
       "      <td>...</td>\n",
       "      <td>...</td>\n",
       "      <td>...</td>\n",
       "      <td>...</td>\n",
       "      <td>...</td>\n",
       "      <td>...</td>\n",
       "      <td>...</td>\n",
       "      <td>...</td>\n",
       "      <td>...</td>\n",
       "      <td>...</td>\n",
       "    </tr>\n",
       "    <tr>\n",
       "      <th>79</th>\n",
       "      <td>0.701</td>\n",
       "      <td>0.705</td>\n",
       "      <td>-8.361</td>\n",
       "      <td>0.115</td>\n",
       "      <td>0.542</td>\n",
       "      <td>0.000199</td>\n",
       "      <td>0.103</td>\n",
       "      <td>0.76</td>\n",
       "      <td>89.984</td>\n",
       "      <td>6Yx4ke3NE26JcEoWcG36IK</td>\n",
       "      <td>216024</td>\n",
       "    </tr>\n",
       "    <tr>\n",
       "      <th>80</th>\n",
       "      <td>0.529</td>\n",
       "      <td>0.994</td>\n",
       "      <td>-1.947</td>\n",
       "      <td>0.194</td>\n",
       "      <td>0.0455</td>\n",
       "      <td>0.000017</td>\n",
       "      <td>0.319</td>\n",
       "      <td>0.506</td>\n",
       "      <td>74.996</td>\n",
       "      <td>3RU6Hh09oX8QgsWhmRtTli</td>\n",
       "      <td>285753</td>\n",
       "    </tr>\n",
       "    <tr>\n",
       "      <th>81</th>\n",
       "      <td>0.523</td>\n",
       "      <td>0.681</td>\n",
       "      <td>-5.851</td>\n",
       "      <td>0.108</td>\n",
       "      <td>0.623</td>\n",
       "      <td>0.0</td>\n",
       "      <td>0.122</td>\n",
       "      <td>0.451</td>\n",
       "      <td>82.385</td>\n",
       "      <td>4brO1SuRFMwOutegq7BxsY</td>\n",
       "      <td>235747</td>\n",
       "    </tr>\n",
       "    <tr>\n",
       "      <th>82</th>\n",
       "      <td>0.718</td>\n",
       "      <td>0.765</td>\n",
       "      <td>-5.164</td>\n",
       "      <td>0.0566</td>\n",
       "      <td>0.0745</td>\n",
       "      <td>0.0</td>\n",
       "      <td>0.296</td>\n",
       "      <td>0.809</td>\n",
       "      <td>84.868</td>\n",
       "      <td>1M6JfXfpjHgy1bbQyrXzzm</td>\n",
       "      <td>317500</td>\n",
       "    </tr>\n",
       "    <tr>\n",
       "      <th>83</th>\n",
       "      <td>0.615</td>\n",
       "      <td>0.929</td>\n",
       "      <td>-1.56</td>\n",
       "      <td>0.161</td>\n",
       "      <td>0.333</td>\n",
       "      <td>0.0</td>\n",
       "      <td>0.11</td>\n",
       "      <td>0.641</td>\n",
       "      <td>95.179</td>\n",
       "      <td>6A77JwLaTUuiRqz4f9VZiO</td>\n",
       "      <td>256004</td>\n",
       "    </tr>\n",
       "  </tbody>\n",
       "</table>\n",
       "<p>124210 rows × 11 columns</p>\n",
       "</div>"
      ],
      "text/plain": [
       "   danceability energy loudness speechiness acousticness instrumentalness  \\\n",
       "0         0.752  0.698    -6.53       0.306         0.52              0.0   \n",
       "1         0.832  0.738   -4.417      0.0783        0.258         0.000015   \n",
       "2         0.603  0.512   -6.687      0.0402        0.454          0.00014   \n",
       "3         0.321  0.705    -5.41      0.0943         0.17              0.0   \n",
       "4         0.477  0.128  -14.567      0.0707        0.928              0.0   \n",
       "..          ...    ...      ...         ...          ...              ...   \n",
       "79        0.701  0.705   -8.361       0.115        0.542         0.000199   \n",
       "80        0.529  0.994   -1.947       0.194       0.0455         0.000017   \n",
       "81        0.523  0.681   -5.851       0.108        0.623              0.0   \n",
       "82        0.718  0.765   -5.164      0.0566       0.0745              0.0   \n",
       "83        0.615  0.929    -1.56       0.161        0.333              0.0   \n",
       "\n",
       "   liveness valence    tempo                      id duration_ms  \n",
       "0     0.211   0.347  132.058  0g21KZ1XJuhwexWPLpuEt1      159453  \n",
       "1      0.22    0.49  127.874  3fMNMAP51H7NywqzoukIRy      133876  \n",
       "2     0.154   0.271   145.91  4xb8JHIN56xixSl6vkSPjm      200267  \n",
       "3    0.0514   0.302   62.013  0O8feNuKk5rTTip2bTyOoC      184923  \n",
       "4    0.0875    0.38   88.917  51xRMJFRBrW9C1RI1qW4S0      238576  \n",
       "..      ...     ...      ...                     ...         ...  \n",
       "79    0.103    0.76   89.984  6Yx4ke3NE26JcEoWcG36IK      216024  \n",
       "80    0.319   0.506   74.996  3RU6Hh09oX8QgsWhmRtTli      285753  \n",
       "81    0.122   0.451   82.385  4brO1SuRFMwOutegq7BxsY      235747  \n",
       "82    0.296   0.809   84.868  1M6JfXfpjHgy1bbQyrXzzm      317500  \n",
       "83     0.11   0.641   95.179  6A77JwLaTUuiRqz4f9VZiO      256004  \n",
       "\n",
       "[124210 rows x 11 columns]"
      ]
     },
     "execution_count": 74,
     "metadata": {},
     "output_type": "execute_result"
    }
   ],
   "source": [
    "big_df"
   ]
  },
  {
   "cell_type": "code",
   "execution_count": 76,
   "id": "5a4010a8",
   "metadata": {},
   "outputs": [
    {
     "name": "stdout",
     "output_type": "stream",
     "text": [
      "5jJRdxN4pD29Uhj0ZIRFPf\n"
     ]
    },
    {
     "name": "stderr",
     "output_type": "stream",
     "text": [
      "/var/folders/1n/phyrz16s0rd1_mpv046jgqf80000gn/T/ipykernel_17629/3181457209.py:28: FutureWarning: The frame.append method is deprecated and will be removed from pandas in a future version. Use pandas.concat instead.\n",
      "  big_df =big_df.append(df)\n"
     ]
    },
    {
     "name": "stdout",
     "output_type": "stream",
     "text": [
      "14R3X4pqwNcREUaHLR8ijq\n"
     ]
    },
    {
     "name": "stderr",
     "output_type": "stream",
     "text": [
      "/var/folders/1n/phyrz16s0rd1_mpv046jgqf80000gn/T/ipykernel_17629/3181457209.py:28: FutureWarning: The frame.append method is deprecated and will be removed from pandas in a future version. Use pandas.concat instead.\n",
      "  big_df =big_df.append(df)\n"
     ]
    },
    {
     "name": "stdout",
     "output_type": "stream",
     "text": [
      "6UL8UnDWu9c95luN7S4wRs\n"
     ]
    },
    {
     "name": "stderr",
     "output_type": "stream",
     "text": [
      "/var/folders/1n/phyrz16s0rd1_mpv046jgqf80000gn/T/ipykernel_17629/3181457209.py:28: FutureWarning: The frame.append method is deprecated and will be removed from pandas in a future version. Use pandas.concat instead.\n",
      "  big_df =big_df.append(df)\n"
     ]
    },
    {
     "name": "stdout",
     "output_type": "stream",
     "text": [
      "3Unp96l8Dn4AoRPskgXoqO\n"
     ]
    },
    {
     "name": "stderr",
     "output_type": "stream",
     "text": [
      "/var/folders/1n/phyrz16s0rd1_mpv046jgqf80000gn/T/ipykernel_17629/3181457209.py:28: FutureWarning: The frame.append method is deprecated and will be removed from pandas in a future version. Use pandas.concat instead.\n",
      "  big_df =big_df.append(df)\n"
     ]
    },
    {
     "name": "stdout",
     "output_type": "stream",
     "text": [
      "6lVPoAULOMj3SnCgOzkFYI\n"
     ]
    },
    {
     "name": "stderr",
     "output_type": "stream",
     "text": [
      "/var/folders/1n/phyrz16s0rd1_mpv046jgqf80000gn/T/ipykernel_17629/3181457209.py:28: FutureWarning: The frame.append method is deprecated and will be removed from pandas in a future version. Use pandas.concat instead.\n",
      "  big_df =big_df.append(df)\n"
     ]
    },
    {
     "name": "stdout",
     "output_type": "stream",
     "text": [
      "3Qz6ukyPREhIPinAnPsAIW\n"
     ]
    },
    {
     "name": "stderr",
     "output_type": "stream",
     "text": [
      "/var/folders/1n/phyrz16s0rd1_mpv046jgqf80000gn/T/ipykernel_17629/3181457209.py:28: FutureWarning: The frame.append method is deprecated and will be removed from pandas in a future version. Use pandas.concat instead.\n",
      "  big_df =big_df.append(df)\n"
     ]
    },
    {
     "name": "stdout",
     "output_type": "stream",
     "text": [
      "19sgQqGAcGplazJZTXeLUG\n"
     ]
    },
    {
     "ename": "TypeError",
     "evalue": "'NoneType' object is not subscriptable",
     "output_type": "error",
     "traceback": [
      "\u001b[0;31m---------------------------------------------------------------------------\u001b[0m",
      "\u001b[0;31mTypeError\u001b[0m                                 Traceback (most recent call last)",
      "Input \u001b[0;32mIn [76]\u001b[0m, in \u001b[0;36m<cell line: 1>\u001b[0;34m()\u001b[0m\n\u001b[1;32m      1\u001b[0m \u001b[38;5;28;01mfor\u001b[39;00m i  \u001b[38;5;129;01min\u001b[39;00m  result[\u001b[38;5;241m17\u001b[39m]:\n\u001b[1;32m      2\u001b[0m     \u001b[38;5;28mprint\u001b[39m(i)\n\u001b[0;32m----> 3\u001b[0m     \u001b[43mget_features_df\u001b[49m\u001b[43m(\u001b[49m\u001b[43mi\u001b[49m\u001b[43m)\u001b[49m\n",
      "Input \u001b[0;32mIn [4]\u001b[0m, in \u001b[0;36mget_features_df\u001b[0;34m(playlist_id)\u001b[0m\n\u001b[1;32m     15\u001b[0m \u001b[38;5;66;03m#getting features per song in  playlist \u001b[39;00m\n\u001b[1;32m     16\u001b[0m     \u001b[38;5;28;01mfor\u001b[39;00m value \u001b[38;5;129;01min\u001b[39;00m \u001b[38;5;28mrange\u001b[39m(\u001b[38;5;241m0\u001b[39m,\u001b[38;5;28mlen\u001b[39m(tracks)):\n\u001b[0;32m---> 18\u001b[0m         list_of_audio_features\u001b[38;5;241m.\u001b[39mappend(sp\u001b[38;5;241m.\u001b[39maudio_features(\u001b[43mtracks\u001b[49m\u001b[43m[\u001b[49m\u001b[43mvalue\u001b[49m\u001b[43m]\u001b[49m\u001b[43m[\u001b[49m\u001b[38;5;124;43m\"\u001b[39;49m\u001b[38;5;124;43mtrack\u001b[39;49m\u001b[38;5;124;43m\"\u001b[39;49m\u001b[43m]\u001b[49m\u001b[43m[\u001b[49m\u001b[38;5;124;43m\"\u001b[39;49m\u001b[38;5;124;43mid\u001b[39;49m\u001b[38;5;124;43m\"\u001b[39;49m\u001b[43m]\u001b[49m)[\u001b[38;5;241m0\u001b[39m])\n\u001b[1;32m     21\u001b[0m \u001b[38;5;66;03m#creating df with audio features and adding song name and artist     \u001b[39;00m\n\u001b[1;32m     22\u001b[0m     df\u001b[38;5;241m=\u001b[39mpd\u001b[38;5;241m.\u001b[39mDataFrame(list_of_audio_features)    \n",
      "\u001b[0;31mTypeError\u001b[0m: 'NoneType' object is not subscriptable"
     ]
    }
   ],
   "source": [
    "for i  in  result[17]:\n",
    "    print(i)\n",
    "    get_features_df(i)"
   ]
  },
  {
   "cell_type": "code",
   "execution_count": 78,
   "id": "b97020ae",
   "metadata": {},
   "outputs": [
    {
     "data": {
      "text/html": [
       "<div>\n",
       "<style scoped>\n",
       "    .dataframe tbody tr th:only-of-type {\n",
       "        vertical-align: middle;\n",
       "    }\n",
       "\n",
       "    .dataframe tbody tr th {\n",
       "        vertical-align: top;\n",
       "    }\n",
       "\n",
       "    .dataframe thead th {\n",
       "        text-align: right;\n",
       "    }\n",
       "</style>\n",
       "<table border=\"1\" class=\"dataframe\">\n",
       "  <thead>\n",
       "    <tr style=\"text-align: right;\">\n",
       "      <th></th>\n",
       "      <th>danceability</th>\n",
       "      <th>energy</th>\n",
       "      <th>loudness</th>\n",
       "      <th>speechiness</th>\n",
       "      <th>acousticness</th>\n",
       "      <th>instrumentalness</th>\n",
       "      <th>liveness</th>\n",
       "      <th>valence</th>\n",
       "      <th>tempo</th>\n",
       "      <th>id</th>\n",
       "      <th>duration_ms</th>\n",
       "    </tr>\n",
       "  </thead>\n",
       "  <tbody>\n",
       "    <tr>\n",
       "      <th>0</th>\n",
       "      <td>0.752</td>\n",
       "      <td>0.698</td>\n",
       "      <td>-6.53</td>\n",
       "      <td>0.306</td>\n",
       "      <td>0.52</td>\n",
       "      <td>0.0</td>\n",
       "      <td>0.211</td>\n",
       "      <td>0.347</td>\n",
       "      <td>132.058</td>\n",
       "      <td>0g21KZ1XJuhwexWPLpuEt1</td>\n",
       "      <td>159453</td>\n",
       "    </tr>\n",
       "    <tr>\n",
       "      <th>1</th>\n",
       "      <td>0.832</td>\n",
       "      <td>0.738</td>\n",
       "      <td>-4.417</td>\n",
       "      <td>0.0783</td>\n",
       "      <td>0.258</td>\n",
       "      <td>0.000015</td>\n",
       "      <td>0.22</td>\n",
       "      <td>0.49</td>\n",
       "      <td>127.874</td>\n",
       "      <td>3fMNMAP51H7NywqzoukIRy</td>\n",
       "      <td>133876</td>\n",
       "    </tr>\n",
       "    <tr>\n",
       "      <th>2</th>\n",
       "      <td>0.603</td>\n",
       "      <td>0.512</td>\n",
       "      <td>-6.687</td>\n",
       "      <td>0.0402</td>\n",
       "      <td>0.454</td>\n",
       "      <td>0.00014</td>\n",
       "      <td>0.154</td>\n",
       "      <td>0.271</td>\n",
       "      <td>145.91</td>\n",
       "      <td>4xb8JHIN56xixSl6vkSPjm</td>\n",
       "      <td>200267</td>\n",
       "    </tr>\n",
       "    <tr>\n",
       "      <th>3</th>\n",
       "      <td>0.321</td>\n",
       "      <td>0.705</td>\n",
       "      <td>-5.41</td>\n",
       "      <td>0.0943</td>\n",
       "      <td>0.17</td>\n",
       "      <td>0.0</td>\n",
       "      <td>0.0514</td>\n",
       "      <td>0.302</td>\n",
       "      <td>62.013</td>\n",
       "      <td>0O8feNuKk5rTTip2bTyOoC</td>\n",
       "      <td>184923</td>\n",
       "    </tr>\n",
       "    <tr>\n",
       "      <th>4</th>\n",
       "      <td>0.477</td>\n",
       "      <td>0.128</td>\n",
       "      <td>-14.567</td>\n",
       "      <td>0.0707</td>\n",
       "      <td>0.928</td>\n",
       "      <td>0.0</td>\n",
       "      <td>0.0875</td>\n",
       "      <td>0.38</td>\n",
       "      <td>88.917</td>\n",
       "      <td>51xRMJFRBrW9C1RI1qW4S0</td>\n",
       "      <td>238576</td>\n",
       "    </tr>\n",
       "    <tr>\n",
       "      <th>...</th>\n",
       "      <td>...</td>\n",
       "      <td>...</td>\n",
       "      <td>...</td>\n",
       "      <td>...</td>\n",
       "      <td>...</td>\n",
       "      <td>...</td>\n",
       "      <td>...</td>\n",
       "      <td>...</td>\n",
       "      <td>...</td>\n",
       "      <td>...</td>\n",
       "      <td>...</td>\n",
       "    </tr>\n",
       "    <tr>\n",
       "      <th>103</th>\n",
       "      <td>0.85</td>\n",
       "      <td>0.516</td>\n",
       "      <td>-8.291</td>\n",
       "      <td>0.0665</td>\n",
       "      <td>0.28</td>\n",
       "      <td>0.751</td>\n",
       "      <td>0.0454</td>\n",
       "      <td>0.514</td>\n",
       "      <td>93.274</td>\n",
       "      <td>027PEN37zhx4CKCdF4ZqPG</td>\n",
       "      <td>273507</td>\n",
       "    </tr>\n",
       "    <tr>\n",
       "      <th>104</th>\n",
       "      <td>0.624</td>\n",
       "      <td>0.291</td>\n",
       "      <td>-20.189</td>\n",
       "      <td>0.044</td>\n",
       "      <td>0.763</td>\n",
       "      <td>0.928</td>\n",
       "      <td>0.11</td>\n",
       "      <td>0.341</td>\n",
       "      <td>119.816</td>\n",
       "      <td>5X1hhT5YLeeniK9fysUozo</td>\n",
       "      <td>264208</td>\n",
       "    </tr>\n",
       "    <tr>\n",
       "      <th>105</th>\n",
       "      <td>0.505</td>\n",
       "      <td>0.897</td>\n",
       "      <td>-6.459</td>\n",
       "      <td>0.0385</td>\n",
       "      <td>0.00704</td>\n",
       "      <td>0.888</td>\n",
       "      <td>0.0908</td>\n",
       "      <td>0.579</td>\n",
       "      <td>143.995</td>\n",
       "      <td>0w0p3j0YBIj68bkInrGoJM</td>\n",
       "      <td>315773</td>\n",
       "    </tr>\n",
       "    <tr>\n",
       "      <th>106</th>\n",
       "      <td>0.596</td>\n",
       "      <td>0.786</td>\n",
       "      <td>-6.701</td>\n",
       "      <td>0.0318</td>\n",
       "      <td>0.0103</td>\n",
       "      <td>0.891</td>\n",
       "      <td>0.126</td>\n",
       "      <td>0.587</td>\n",
       "      <td>130.058</td>\n",
       "      <td>4KyCwtnIlqHo4SgQZRCIpT</td>\n",
       "      <td>296279</td>\n",
       "    </tr>\n",
       "    <tr>\n",
       "      <th>107</th>\n",
       "      <td>0.546</td>\n",
       "      <td>0.74</td>\n",
       "      <td>-8.498</td>\n",
       "      <td>0.0322</td>\n",
       "      <td>0.0192</td>\n",
       "      <td>0.795</td>\n",
       "      <td>0.106</td>\n",
       "      <td>0.319</td>\n",
       "      <td>132.034</td>\n",
       "      <td>0BAkyTlT3lrcIlYx0cLzYx</td>\n",
       "      <td>544559</td>\n",
       "    </tr>\n",
       "  </tbody>\n",
       "</table>\n",
       "<p>129613 rows × 11 columns</p>\n",
       "</div>"
      ],
      "text/plain": [
       "    danceability energy loudness speechiness acousticness instrumentalness  \\\n",
       "0          0.752  0.698    -6.53       0.306         0.52              0.0   \n",
       "1          0.832  0.738   -4.417      0.0783        0.258         0.000015   \n",
       "2          0.603  0.512   -6.687      0.0402        0.454          0.00014   \n",
       "3          0.321  0.705    -5.41      0.0943         0.17              0.0   \n",
       "4          0.477  0.128  -14.567      0.0707        0.928              0.0   \n",
       "..           ...    ...      ...         ...          ...              ...   \n",
       "103         0.85  0.516   -8.291      0.0665         0.28            0.751   \n",
       "104        0.624  0.291  -20.189       0.044        0.763            0.928   \n",
       "105        0.505  0.897   -6.459      0.0385      0.00704            0.888   \n",
       "106        0.596  0.786   -6.701      0.0318       0.0103            0.891   \n",
       "107        0.546   0.74   -8.498      0.0322       0.0192            0.795   \n",
       "\n",
       "    liveness valence    tempo                      id duration_ms  \n",
       "0      0.211   0.347  132.058  0g21KZ1XJuhwexWPLpuEt1      159453  \n",
       "1       0.22    0.49  127.874  3fMNMAP51H7NywqzoukIRy      133876  \n",
       "2      0.154   0.271   145.91  4xb8JHIN56xixSl6vkSPjm      200267  \n",
       "3     0.0514   0.302   62.013  0O8feNuKk5rTTip2bTyOoC      184923  \n",
       "4     0.0875    0.38   88.917  51xRMJFRBrW9C1RI1qW4S0      238576  \n",
       "..       ...     ...      ...                     ...         ...  \n",
       "103   0.0454   0.514   93.274  027PEN37zhx4CKCdF4ZqPG      273507  \n",
       "104     0.11   0.341  119.816  5X1hhT5YLeeniK9fysUozo      264208  \n",
       "105   0.0908   0.579  143.995  0w0p3j0YBIj68bkInrGoJM      315773  \n",
       "106    0.126   0.587  130.058  4KyCwtnIlqHo4SgQZRCIpT      296279  \n",
       "107    0.106   0.319  132.034  0BAkyTlT3lrcIlYx0cLzYx      544559  \n",
       "\n",
       "[129613 rows x 11 columns]"
      ]
     },
     "execution_count": 78,
     "metadata": {},
     "output_type": "execute_result"
    }
   ],
   "source": [
    "big_df"
   ]
  },
  {
   "cell_type": "code",
   "execution_count": 79,
   "id": "412e570a",
   "metadata": {},
   "outputs": [
    {
     "name": "stdout",
     "output_type": "stream",
     "text": [
      "2b3npHUEdwZfeLXj8JR1dh\n"
     ]
    },
    {
     "name": "stderr",
     "output_type": "stream",
     "text": [
      "/var/folders/1n/phyrz16s0rd1_mpv046jgqf80000gn/T/ipykernel_17629/3181457209.py:28: FutureWarning: The frame.append method is deprecated and will be removed from pandas in a future version. Use pandas.concat instead.\n",
      "  big_df =big_df.append(df)\n"
     ]
    },
    {
     "name": "stdout",
     "output_type": "stream",
     "text": [
      "6dvgLyeXG3HLGqtMa8wAX0\n"
     ]
    },
    {
     "name": "stderr",
     "output_type": "stream",
     "text": [
      "/var/folders/1n/phyrz16s0rd1_mpv046jgqf80000gn/T/ipykernel_17629/3181457209.py:28: FutureWarning: The frame.append method is deprecated and will be removed from pandas in a future version. Use pandas.concat instead.\n",
      "  big_df =big_df.append(df)\n"
     ]
    },
    {
     "name": "stdout",
     "output_type": "stream",
     "text": [
      "28OtIBYwNTMWc1P3HIizQH\n"
     ]
    },
    {
     "name": "stderr",
     "output_type": "stream",
     "text": [
      "/var/folders/1n/phyrz16s0rd1_mpv046jgqf80000gn/T/ipykernel_17629/3181457209.py:28: FutureWarning: The frame.append method is deprecated and will be removed from pandas in a future version. Use pandas.concat instead.\n",
      "  big_df =big_df.append(df)\n"
     ]
    },
    {
     "name": "stdout",
     "output_type": "stream",
     "text": [
      "4ONNYwN5t3xizFyFKmAsSn\n"
     ]
    },
    {
     "name": "stderr",
     "output_type": "stream",
     "text": [
      "/var/folders/1n/phyrz16s0rd1_mpv046jgqf80000gn/T/ipykernel_17629/3181457209.py:28: FutureWarning: The frame.append method is deprecated and will be removed from pandas in a future version. Use pandas.concat instead.\n",
      "  big_df =big_df.append(df)\n"
     ]
    },
    {
     "name": "stdout",
     "output_type": "stream",
     "text": [
      "4jw4G9J55p7tXV2xEAGUj4\n"
     ]
    },
    {
     "name": "stderr",
     "output_type": "stream",
     "text": [
      "/var/folders/1n/phyrz16s0rd1_mpv046jgqf80000gn/T/ipykernel_17629/3181457209.py:28: FutureWarning: The frame.append method is deprecated and will be removed from pandas in a future version. Use pandas.concat instead.\n",
      "  big_df =big_df.append(df)\n"
     ]
    },
    {
     "name": "stdout",
     "output_type": "stream",
     "text": [
      "5zbyDiu9Z44EfBNA6D7X6q\n"
     ]
    },
    {
     "name": "stderr",
     "output_type": "stream",
     "text": [
      "/var/folders/1n/phyrz16s0rd1_mpv046jgqf80000gn/T/ipykernel_17629/3181457209.py:28: FutureWarning: The frame.append method is deprecated and will be removed from pandas in a future version. Use pandas.concat instead.\n",
      "  big_df =big_df.append(df)\n"
     ]
    },
    {
     "name": "stdout",
     "output_type": "stream",
     "text": [
      "1ZsmYjk67G0jXydOu9MzBG\n"
     ]
    },
    {
     "name": "stderr",
     "output_type": "stream",
     "text": [
      "/var/folders/1n/phyrz16s0rd1_mpv046jgqf80000gn/T/ipykernel_17629/3181457209.py:28: FutureWarning: The frame.append method is deprecated and will be removed from pandas in a future version. Use pandas.concat instead.\n",
      "  big_df =big_df.append(df)\n"
     ]
    },
    {
     "name": "stdout",
     "output_type": "stream",
     "text": [
      "3VDnnFwHwWhIf3N9yHpi1m\n"
     ]
    },
    {
     "name": "stderr",
     "output_type": "stream",
     "text": [
      "/var/folders/1n/phyrz16s0rd1_mpv046jgqf80000gn/T/ipykernel_17629/3181457209.py:28: FutureWarning: The frame.append method is deprecated and will be removed from pandas in a future version. Use pandas.concat instead.\n",
      "  big_df =big_df.append(df)\n"
     ]
    },
    {
     "name": "stdout",
     "output_type": "stream",
     "text": [
      "7d9YLozBOYeouQ0UyKPUpZ\n"
     ]
    },
    {
     "name": "stderr",
     "output_type": "stream",
     "text": [
      "/var/folders/1n/phyrz16s0rd1_mpv046jgqf80000gn/T/ipykernel_17629/3181457209.py:28: FutureWarning: The frame.append method is deprecated and will be removed from pandas in a future version. Use pandas.concat instead.\n",
      "  big_df =big_df.append(df)\n"
     ]
    },
    {
     "name": "stdout",
     "output_type": "stream",
     "text": [
      "5yBIfrNoe8gDDRkddgTm4d\n"
     ]
    },
    {
     "ename": "ConnectionError",
     "evalue": "('Connection aborted.', ConnectionResetError(54, 'Connection reset by peer'))",
     "output_type": "error",
     "traceback": [
      "\u001b[0;31m---------------------------------------------------------------------------\u001b[0m",
      "\u001b[0;31mConnectionResetError\u001b[0m                      Traceback (most recent call last)",
      "File \u001b[0;32m~/opt/anaconda3/lib/python3.9/site-packages/urllib3/connectionpool.py:703\u001b[0m, in \u001b[0;36mHTTPConnectionPool.urlopen\u001b[0;34m(self, method, url, body, headers, retries, redirect, assert_same_host, timeout, pool_timeout, release_conn, chunked, body_pos, **response_kw)\u001b[0m\n\u001b[1;32m    702\u001b[0m \u001b[38;5;66;03m# Make the request on the httplib connection object.\u001b[39;00m\n\u001b[0;32m--> 703\u001b[0m httplib_response \u001b[38;5;241m=\u001b[39m \u001b[38;5;28;43mself\u001b[39;49m\u001b[38;5;241;43m.\u001b[39;49m\u001b[43m_make_request\u001b[49m\u001b[43m(\u001b[49m\n\u001b[1;32m    704\u001b[0m \u001b[43m    \u001b[49m\u001b[43mconn\u001b[49m\u001b[43m,\u001b[49m\n\u001b[1;32m    705\u001b[0m \u001b[43m    \u001b[49m\u001b[43mmethod\u001b[49m\u001b[43m,\u001b[49m\n\u001b[1;32m    706\u001b[0m \u001b[43m    \u001b[49m\u001b[43murl\u001b[49m\u001b[43m,\u001b[49m\n\u001b[1;32m    707\u001b[0m \u001b[43m    \u001b[49m\u001b[43mtimeout\u001b[49m\u001b[38;5;241;43m=\u001b[39;49m\u001b[43mtimeout_obj\u001b[49m\u001b[43m,\u001b[49m\n\u001b[1;32m    708\u001b[0m \u001b[43m    \u001b[49m\u001b[43mbody\u001b[49m\u001b[38;5;241;43m=\u001b[39;49m\u001b[43mbody\u001b[49m\u001b[43m,\u001b[49m\n\u001b[1;32m    709\u001b[0m \u001b[43m    \u001b[49m\u001b[43mheaders\u001b[49m\u001b[38;5;241;43m=\u001b[39;49m\u001b[43mheaders\u001b[49m\u001b[43m,\u001b[49m\n\u001b[1;32m    710\u001b[0m \u001b[43m    \u001b[49m\u001b[43mchunked\u001b[49m\u001b[38;5;241;43m=\u001b[39;49m\u001b[43mchunked\u001b[49m\u001b[43m,\u001b[49m\n\u001b[1;32m    711\u001b[0m \u001b[43m\u001b[49m\u001b[43m)\u001b[49m\n\u001b[1;32m    713\u001b[0m \u001b[38;5;66;03m# If we're going to release the connection in ``finally:``, then\u001b[39;00m\n\u001b[1;32m    714\u001b[0m \u001b[38;5;66;03m# the response doesn't need to know about the connection. Otherwise\u001b[39;00m\n\u001b[1;32m    715\u001b[0m \u001b[38;5;66;03m# it will also try to release it and we'll have a double-release\u001b[39;00m\n\u001b[1;32m    716\u001b[0m \u001b[38;5;66;03m# mess.\u001b[39;00m\n",
      "File \u001b[0;32m~/opt/anaconda3/lib/python3.9/site-packages/urllib3/connectionpool.py:449\u001b[0m, in \u001b[0;36mHTTPConnectionPool._make_request\u001b[0;34m(self, conn, method, url, timeout, chunked, **httplib_request_kw)\u001b[0m\n\u001b[1;32m    445\u001b[0m         \u001b[38;5;28;01mexcept\u001b[39;00m \u001b[38;5;167;01mBaseException\u001b[39;00m \u001b[38;5;28;01mas\u001b[39;00m e:\n\u001b[1;32m    446\u001b[0m             \u001b[38;5;66;03m# Remove the TypeError from the exception chain in\u001b[39;00m\n\u001b[1;32m    447\u001b[0m             \u001b[38;5;66;03m# Python 3 (including for exceptions like SystemExit).\u001b[39;00m\n\u001b[1;32m    448\u001b[0m             \u001b[38;5;66;03m# Otherwise it looks like a bug in the code.\u001b[39;00m\n\u001b[0;32m--> 449\u001b[0m             \u001b[43msix\u001b[49m\u001b[38;5;241;43m.\u001b[39;49m\u001b[43mraise_from\u001b[49m\u001b[43m(\u001b[49m\u001b[43me\u001b[49m\u001b[43m,\u001b[49m\u001b[43m \u001b[49m\u001b[38;5;28;43;01mNone\u001b[39;49;00m\u001b[43m)\u001b[49m\n\u001b[1;32m    450\u001b[0m \u001b[38;5;28;01mexcept\u001b[39;00m (SocketTimeout, BaseSSLError, SocketError) \u001b[38;5;28;01mas\u001b[39;00m e:\n",
      "File \u001b[0;32m<string>:3\u001b[0m, in \u001b[0;36mraise_from\u001b[0;34m(value, from_value)\u001b[0m\n",
      "File \u001b[0;32m~/opt/anaconda3/lib/python3.9/site-packages/urllib3/connectionpool.py:444\u001b[0m, in \u001b[0;36mHTTPConnectionPool._make_request\u001b[0;34m(self, conn, method, url, timeout, chunked, **httplib_request_kw)\u001b[0m\n\u001b[1;32m    443\u001b[0m \u001b[38;5;28;01mtry\u001b[39;00m:\n\u001b[0;32m--> 444\u001b[0m     httplib_response \u001b[38;5;241m=\u001b[39m \u001b[43mconn\u001b[49m\u001b[38;5;241;43m.\u001b[39;49m\u001b[43mgetresponse\u001b[49m\u001b[43m(\u001b[49m\u001b[43m)\u001b[49m\n\u001b[1;32m    445\u001b[0m \u001b[38;5;28;01mexcept\u001b[39;00m \u001b[38;5;167;01mBaseException\u001b[39;00m \u001b[38;5;28;01mas\u001b[39;00m e:\n\u001b[1;32m    446\u001b[0m     \u001b[38;5;66;03m# Remove the TypeError from the exception chain in\u001b[39;00m\n\u001b[1;32m    447\u001b[0m     \u001b[38;5;66;03m# Python 3 (including for exceptions like SystemExit).\u001b[39;00m\n\u001b[1;32m    448\u001b[0m     \u001b[38;5;66;03m# Otherwise it looks like a bug in the code.\u001b[39;00m\n",
      "File \u001b[0;32m~/opt/anaconda3/lib/python3.9/http/client.py:1377\u001b[0m, in \u001b[0;36mHTTPConnection.getresponse\u001b[0;34m(self)\u001b[0m\n\u001b[1;32m   1376\u001b[0m \u001b[38;5;28;01mtry\u001b[39;00m:\n\u001b[0;32m-> 1377\u001b[0m     \u001b[43mresponse\u001b[49m\u001b[38;5;241;43m.\u001b[39;49m\u001b[43mbegin\u001b[49m\u001b[43m(\u001b[49m\u001b[43m)\u001b[49m\n\u001b[1;32m   1378\u001b[0m \u001b[38;5;28;01mexcept\u001b[39;00m \u001b[38;5;167;01mConnectionError\u001b[39;00m:\n",
      "File \u001b[0;32m~/opt/anaconda3/lib/python3.9/http/client.py:320\u001b[0m, in \u001b[0;36mHTTPResponse.begin\u001b[0;34m(self)\u001b[0m\n\u001b[1;32m    319\u001b[0m \u001b[38;5;28;01mwhile\u001b[39;00m \u001b[38;5;28;01mTrue\u001b[39;00m:\n\u001b[0;32m--> 320\u001b[0m     version, status, reason \u001b[38;5;241m=\u001b[39m \u001b[38;5;28;43mself\u001b[39;49m\u001b[38;5;241;43m.\u001b[39;49m\u001b[43m_read_status\u001b[49m\u001b[43m(\u001b[49m\u001b[43m)\u001b[49m\n\u001b[1;32m    321\u001b[0m     \u001b[38;5;28;01mif\u001b[39;00m status \u001b[38;5;241m!=\u001b[39m CONTINUE:\n",
      "File \u001b[0;32m~/opt/anaconda3/lib/python3.9/http/client.py:281\u001b[0m, in \u001b[0;36mHTTPResponse._read_status\u001b[0;34m(self)\u001b[0m\n\u001b[1;32m    280\u001b[0m \u001b[38;5;28;01mdef\u001b[39;00m \u001b[38;5;21m_read_status\u001b[39m(\u001b[38;5;28mself\u001b[39m):\n\u001b[0;32m--> 281\u001b[0m     line \u001b[38;5;241m=\u001b[39m \u001b[38;5;28mstr\u001b[39m(\u001b[38;5;28;43mself\u001b[39;49m\u001b[38;5;241;43m.\u001b[39;49m\u001b[43mfp\u001b[49m\u001b[38;5;241;43m.\u001b[39;49m\u001b[43mreadline\u001b[49m\u001b[43m(\u001b[49m\u001b[43m_MAXLINE\u001b[49m\u001b[43m \u001b[49m\u001b[38;5;241;43m+\u001b[39;49m\u001b[43m \u001b[49m\u001b[38;5;241;43m1\u001b[39;49m\u001b[43m)\u001b[49m, \u001b[38;5;124m\"\u001b[39m\u001b[38;5;124miso-8859-1\u001b[39m\u001b[38;5;124m\"\u001b[39m)\n\u001b[1;32m    282\u001b[0m     \u001b[38;5;28;01mif\u001b[39;00m \u001b[38;5;28mlen\u001b[39m(line) \u001b[38;5;241m>\u001b[39m _MAXLINE:\n",
      "File \u001b[0;32m~/opt/anaconda3/lib/python3.9/socket.py:704\u001b[0m, in \u001b[0;36mSocketIO.readinto\u001b[0;34m(self, b)\u001b[0m\n\u001b[1;32m    703\u001b[0m \u001b[38;5;28;01mtry\u001b[39;00m:\n\u001b[0;32m--> 704\u001b[0m     \u001b[38;5;28;01mreturn\u001b[39;00m \u001b[38;5;28;43mself\u001b[39;49m\u001b[38;5;241;43m.\u001b[39;49m\u001b[43m_sock\u001b[49m\u001b[38;5;241;43m.\u001b[39;49m\u001b[43mrecv_into\u001b[49m\u001b[43m(\u001b[49m\u001b[43mb\u001b[49m\u001b[43m)\u001b[49m\n\u001b[1;32m    705\u001b[0m \u001b[38;5;28;01mexcept\u001b[39;00m timeout:\n",
      "File \u001b[0;32m~/opt/anaconda3/lib/python3.9/ssl.py:1241\u001b[0m, in \u001b[0;36mSSLSocket.recv_into\u001b[0;34m(self, buffer, nbytes, flags)\u001b[0m\n\u001b[1;32m   1238\u001b[0m         \u001b[38;5;28;01mraise\u001b[39;00m \u001b[38;5;167;01mValueError\u001b[39;00m(\n\u001b[1;32m   1239\u001b[0m           \u001b[38;5;124m\"\u001b[39m\u001b[38;5;124mnon-zero flags not allowed in calls to recv_into() on \u001b[39m\u001b[38;5;132;01m%s\u001b[39;00m\u001b[38;5;124m\"\u001b[39m \u001b[38;5;241m%\u001b[39m\n\u001b[1;32m   1240\u001b[0m           \u001b[38;5;28mself\u001b[39m\u001b[38;5;241m.\u001b[39m\u001b[38;5;18m__class__\u001b[39m)\n\u001b[0;32m-> 1241\u001b[0m     \u001b[38;5;28;01mreturn\u001b[39;00m \u001b[38;5;28;43mself\u001b[39;49m\u001b[38;5;241;43m.\u001b[39;49m\u001b[43mread\u001b[49m\u001b[43m(\u001b[49m\u001b[43mnbytes\u001b[49m\u001b[43m,\u001b[49m\u001b[43m \u001b[49m\u001b[43mbuffer\u001b[49m\u001b[43m)\u001b[49m\n\u001b[1;32m   1242\u001b[0m \u001b[38;5;28;01melse\u001b[39;00m:\n",
      "File \u001b[0;32m~/opt/anaconda3/lib/python3.9/ssl.py:1099\u001b[0m, in \u001b[0;36mSSLSocket.read\u001b[0;34m(self, len, buffer)\u001b[0m\n\u001b[1;32m   1098\u001b[0m \u001b[38;5;28;01mif\u001b[39;00m buffer \u001b[38;5;129;01mis\u001b[39;00m \u001b[38;5;129;01mnot\u001b[39;00m \u001b[38;5;28;01mNone\u001b[39;00m:\n\u001b[0;32m-> 1099\u001b[0m     \u001b[38;5;28;01mreturn\u001b[39;00m \u001b[38;5;28;43mself\u001b[39;49m\u001b[38;5;241;43m.\u001b[39;49m\u001b[43m_sslobj\u001b[49m\u001b[38;5;241;43m.\u001b[39;49m\u001b[43mread\u001b[49m\u001b[43m(\u001b[49m\u001b[38;5;28;43mlen\u001b[39;49m\u001b[43m,\u001b[49m\u001b[43m \u001b[49m\u001b[43mbuffer\u001b[49m\u001b[43m)\u001b[49m\n\u001b[1;32m   1100\u001b[0m \u001b[38;5;28;01melse\u001b[39;00m:\n",
      "\u001b[0;31mConnectionResetError\u001b[0m: [Errno 54] Connection reset by peer",
      "\nDuring handling of the above exception, another exception occurred:\n",
      "\u001b[0;31mProtocolError\u001b[0m                             Traceback (most recent call last)",
      "File \u001b[0;32m~/opt/anaconda3/lib/python3.9/site-packages/requests/adapters.py:440\u001b[0m, in \u001b[0;36mHTTPAdapter.send\u001b[0;34m(self, request, stream, timeout, verify, cert, proxies)\u001b[0m\n\u001b[1;32m    439\u001b[0m \u001b[38;5;28;01mif\u001b[39;00m \u001b[38;5;129;01mnot\u001b[39;00m chunked:\n\u001b[0;32m--> 440\u001b[0m     resp \u001b[38;5;241m=\u001b[39m \u001b[43mconn\u001b[49m\u001b[38;5;241;43m.\u001b[39;49m\u001b[43murlopen\u001b[49m\u001b[43m(\u001b[49m\n\u001b[1;32m    441\u001b[0m \u001b[43m        \u001b[49m\u001b[43mmethod\u001b[49m\u001b[38;5;241;43m=\u001b[39;49m\u001b[43mrequest\u001b[49m\u001b[38;5;241;43m.\u001b[39;49m\u001b[43mmethod\u001b[49m\u001b[43m,\u001b[49m\n\u001b[1;32m    442\u001b[0m \u001b[43m        \u001b[49m\u001b[43murl\u001b[49m\u001b[38;5;241;43m=\u001b[39;49m\u001b[43murl\u001b[49m\u001b[43m,\u001b[49m\n\u001b[1;32m    443\u001b[0m \u001b[43m        \u001b[49m\u001b[43mbody\u001b[49m\u001b[38;5;241;43m=\u001b[39;49m\u001b[43mrequest\u001b[49m\u001b[38;5;241;43m.\u001b[39;49m\u001b[43mbody\u001b[49m\u001b[43m,\u001b[49m\n\u001b[1;32m    444\u001b[0m \u001b[43m        \u001b[49m\u001b[43mheaders\u001b[49m\u001b[38;5;241;43m=\u001b[39;49m\u001b[43mrequest\u001b[49m\u001b[38;5;241;43m.\u001b[39;49m\u001b[43mheaders\u001b[49m\u001b[43m,\u001b[49m\n\u001b[1;32m    445\u001b[0m \u001b[43m        \u001b[49m\u001b[43mredirect\u001b[49m\u001b[38;5;241;43m=\u001b[39;49m\u001b[38;5;28;43;01mFalse\u001b[39;49;00m\u001b[43m,\u001b[49m\n\u001b[1;32m    446\u001b[0m \u001b[43m        \u001b[49m\u001b[43massert_same_host\u001b[49m\u001b[38;5;241;43m=\u001b[39;49m\u001b[38;5;28;43;01mFalse\u001b[39;49;00m\u001b[43m,\u001b[49m\n\u001b[1;32m    447\u001b[0m \u001b[43m        \u001b[49m\u001b[43mpreload_content\u001b[49m\u001b[38;5;241;43m=\u001b[39;49m\u001b[38;5;28;43;01mFalse\u001b[39;49;00m\u001b[43m,\u001b[49m\n\u001b[1;32m    448\u001b[0m \u001b[43m        \u001b[49m\u001b[43mdecode_content\u001b[49m\u001b[38;5;241;43m=\u001b[39;49m\u001b[38;5;28;43;01mFalse\u001b[39;49;00m\u001b[43m,\u001b[49m\n\u001b[1;32m    449\u001b[0m \u001b[43m        \u001b[49m\u001b[43mretries\u001b[49m\u001b[38;5;241;43m=\u001b[39;49m\u001b[38;5;28;43mself\u001b[39;49m\u001b[38;5;241;43m.\u001b[39;49m\u001b[43mmax_retries\u001b[49m\u001b[43m,\u001b[49m\n\u001b[1;32m    450\u001b[0m \u001b[43m        \u001b[49m\u001b[43mtimeout\u001b[49m\u001b[38;5;241;43m=\u001b[39;49m\u001b[43mtimeout\u001b[49m\n\u001b[1;32m    451\u001b[0m \u001b[43m    \u001b[49m\u001b[43m)\u001b[49m\n\u001b[1;32m    453\u001b[0m \u001b[38;5;66;03m# Send the request.\u001b[39;00m\n\u001b[1;32m    454\u001b[0m \u001b[38;5;28;01melse\u001b[39;00m:\n",
      "File \u001b[0;32m~/opt/anaconda3/lib/python3.9/site-packages/urllib3/connectionpool.py:785\u001b[0m, in \u001b[0;36mHTTPConnectionPool.urlopen\u001b[0;34m(self, method, url, body, headers, retries, redirect, assert_same_host, timeout, pool_timeout, release_conn, chunked, body_pos, **response_kw)\u001b[0m\n\u001b[1;32m    783\u001b[0m     e \u001b[38;5;241m=\u001b[39m ProtocolError(\u001b[38;5;124m\"\u001b[39m\u001b[38;5;124mConnection aborted.\u001b[39m\u001b[38;5;124m\"\u001b[39m, e)\n\u001b[0;32m--> 785\u001b[0m retries \u001b[38;5;241m=\u001b[39m \u001b[43mretries\u001b[49m\u001b[38;5;241;43m.\u001b[39;49m\u001b[43mincrement\u001b[49m\u001b[43m(\u001b[49m\n\u001b[1;32m    786\u001b[0m \u001b[43m    \u001b[49m\u001b[43mmethod\u001b[49m\u001b[43m,\u001b[49m\u001b[43m \u001b[49m\u001b[43murl\u001b[49m\u001b[43m,\u001b[49m\u001b[43m \u001b[49m\u001b[43merror\u001b[49m\u001b[38;5;241;43m=\u001b[39;49m\u001b[43me\u001b[49m\u001b[43m,\u001b[49m\u001b[43m \u001b[49m\u001b[43m_pool\u001b[49m\u001b[38;5;241;43m=\u001b[39;49m\u001b[38;5;28;43mself\u001b[39;49m\u001b[43m,\u001b[49m\u001b[43m \u001b[49m\u001b[43m_stacktrace\u001b[49m\u001b[38;5;241;43m=\u001b[39;49m\u001b[43msys\u001b[49m\u001b[38;5;241;43m.\u001b[39;49m\u001b[43mexc_info\u001b[49m\u001b[43m(\u001b[49m\u001b[43m)\u001b[49m\u001b[43m[\u001b[49m\u001b[38;5;241;43m2\u001b[39;49m\u001b[43m]\u001b[49m\n\u001b[1;32m    787\u001b[0m \u001b[43m\u001b[49m\u001b[43m)\u001b[49m\n\u001b[1;32m    788\u001b[0m retries\u001b[38;5;241m.\u001b[39msleep()\n",
      "File \u001b[0;32m~/opt/anaconda3/lib/python3.9/site-packages/urllib3/util/retry.py:550\u001b[0m, in \u001b[0;36mRetry.increment\u001b[0;34m(self, method, url, response, error, _pool, _stacktrace)\u001b[0m\n\u001b[1;32m    549\u001b[0m \u001b[38;5;28;01mif\u001b[39;00m read \u001b[38;5;129;01mis\u001b[39;00m \u001b[38;5;28;01mFalse\u001b[39;00m \u001b[38;5;129;01mor\u001b[39;00m \u001b[38;5;129;01mnot\u001b[39;00m \u001b[38;5;28mself\u001b[39m\u001b[38;5;241m.\u001b[39m_is_method_retryable(method):\n\u001b[0;32m--> 550\u001b[0m     \u001b[38;5;28;01mraise\u001b[39;00m \u001b[43msix\u001b[49m\u001b[38;5;241;43m.\u001b[39;49m\u001b[43mreraise\u001b[49m\u001b[43m(\u001b[49m\u001b[38;5;28;43mtype\u001b[39;49m\u001b[43m(\u001b[49m\u001b[43merror\u001b[49m\u001b[43m)\u001b[49m\u001b[43m,\u001b[49m\u001b[43m \u001b[49m\u001b[43merror\u001b[49m\u001b[43m,\u001b[49m\u001b[43m \u001b[49m\u001b[43m_stacktrace\u001b[49m\u001b[43m)\u001b[49m\n\u001b[1;32m    551\u001b[0m \u001b[38;5;28;01melif\u001b[39;00m read \u001b[38;5;129;01mis\u001b[39;00m \u001b[38;5;129;01mnot\u001b[39;00m \u001b[38;5;28;01mNone\u001b[39;00m:\n",
      "File \u001b[0;32m~/opt/anaconda3/lib/python3.9/site-packages/urllib3/packages/six.py:769\u001b[0m, in \u001b[0;36mreraise\u001b[0;34m(tp, value, tb)\u001b[0m\n\u001b[1;32m    768\u001b[0m \u001b[38;5;28;01mif\u001b[39;00m value\u001b[38;5;241m.\u001b[39m__traceback__ \u001b[38;5;129;01mis\u001b[39;00m \u001b[38;5;129;01mnot\u001b[39;00m tb:\n\u001b[0;32m--> 769\u001b[0m     \u001b[38;5;28;01mraise\u001b[39;00m value\u001b[38;5;241m.\u001b[39mwith_traceback(tb)\n\u001b[1;32m    770\u001b[0m \u001b[38;5;28;01mraise\u001b[39;00m value\n",
      "File \u001b[0;32m~/opt/anaconda3/lib/python3.9/site-packages/urllib3/connectionpool.py:703\u001b[0m, in \u001b[0;36mHTTPConnectionPool.urlopen\u001b[0;34m(self, method, url, body, headers, retries, redirect, assert_same_host, timeout, pool_timeout, release_conn, chunked, body_pos, **response_kw)\u001b[0m\n\u001b[1;32m    702\u001b[0m \u001b[38;5;66;03m# Make the request on the httplib connection object.\u001b[39;00m\n\u001b[0;32m--> 703\u001b[0m httplib_response \u001b[38;5;241m=\u001b[39m \u001b[38;5;28;43mself\u001b[39;49m\u001b[38;5;241;43m.\u001b[39;49m\u001b[43m_make_request\u001b[49m\u001b[43m(\u001b[49m\n\u001b[1;32m    704\u001b[0m \u001b[43m    \u001b[49m\u001b[43mconn\u001b[49m\u001b[43m,\u001b[49m\n\u001b[1;32m    705\u001b[0m \u001b[43m    \u001b[49m\u001b[43mmethod\u001b[49m\u001b[43m,\u001b[49m\n\u001b[1;32m    706\u001b[0m \u001b[43m    \u001b[49m\u001b[43murl\u001b[49m\u001b[43m,\u001b[49m\n\u001b[1;32m    707\u001b[0m \u001b[43m    \u001b[49m\u001b[43mtimeout\u001b[49m\u001b[38;5;241;43m=\u001b[39;49m\u001b[43mtimeout_obj\u001b[49m\u001b[43m,\u001b[49m\n\u001b[1;32m    708\u001b[0m \u001b[43m    \u001b[49m\u001b[43mbody\u001b[49m\u001b[38;5;241;43m=\u001b[39;49m\u001b[43mbody\u001b[49m\u001b[43m,\u001b[49m\n\u001b[1;32m    709\u001b[0m \u001b[43m    \u001b[49m\u001b[43mheaders\u001b[49m\u001b[38;5;241;43m=\u001b[39;49m\u001b[43mheaders\u001b[49m\u001b[43m,\u001b[49m\n\u001b[1;32m    710\u001b[0m \u001b[43m    \u001b[49m\u001b[43mchunked\u001b[49m\u001b[38;5;241;43m=\u001b[39;49m\u001b[43mchunked\u001b[49m\u001b[43m,\u001b[49m\n\u001b[1;32m    711\u001b[0m \u001b[43m\u001b[49m\u001b[43m)\u001b[49m\n\u001b[1;32m    713\u001b[0m \u001b[38;5;66;03m# If we're going to release the connection in ``finally:``, then\u001b[39;00m\n\u001b[1;32m    714\u001b[0m \u001b[38;5;66;03m# the response doesn't need to know about the connection. Otherwise\u001b[39;00m\n\u001b[1;32m    715\u001b[0m \u001b[38;5;66;03m# it will also try to release it and we'll have a double-release\u001b[39;00m\n\u001b[1;32m    716\u001b[0m \u001b[38;5;66;03m# mess.\u001b[39;00m\n",
      "File \u001b[0;32m~/opt/anaconda3/lib/python3.9/site-packages/urllib3/connectionpool.py:449\u001b[0m, in \u001b[0;36mHTTPConnectionPool._make_request\u001b[0;34m(self, conn, method, url, timeout, chunked, **httplib_request_kw)\u001b[0m\n\u001b[1;32m    445\u001b[0m         \u001b[38;5;28;01mexcept\u001b[39;00m \u001b[38;5;167;01mBaseException\u001b[39;00m \u001b[38;5;28;01mas\u001b[39;00m e:\n\u001b[1;32m    446\u001b[0m             \u001b[38;5;66;03m# Remove the TypeError from the exception chain in\u001b[39;00m\n\u001b[1;32m    447\u001b[0m             \u001b[38;5;66;03m# Python 3 (including for exceptions like SystemExit).\u001b[39;00m\n\u001b[1;32m    448\u001b[0m             \u001b[38;5;66;03m# Otherwise it looks like a bug in the code.\u001b[39;00m\n\u001b[0;32m--> 449\u001b[0m             \u001b[43msix\u001b[49m\u001b[38;5;241;43m.\u001b[39;49m\u001b[43mraise_from\u001b[49m\u001b[43m(\u001b[49m\u001b[43me\u001b[49m\u001b[43m,\u001b[49m\u001b[43m \u001b[49m\u001b[38;5;28;43;01mNone\u001b[39;49;00m\u001b[43m)\u001b[49m\n\u001b[1;32m    450\u001b[0m \u001b[38;5;28;01mexcept\u001b[39;00m (SocketTimeout, BaseSSLError, SocketError) \u001b[38;5;28;01mas\u001b[39;00m e:\n",
      "File \u001b[0;32m<string>:3\u001b[0m, in \u001b[0;36mraise_from\u001b[0;34m(value, from_value)\u001b[0m\n",
      "File \u001b[0;32m~/opt/anaconda3/lib/python3.9/site-packages/urllib3/connectionpool.py:444\u001b[0m, in \u001b[0;36mHTTPConnectionPool._make_request\u001b[0;34m(self, conn, method, url, timeout, chunked, **httplib_request_kw)\u001b[0m\n\u001b[1;32m    443\u001b[0m \u001b[38;5;28;01mtry\u001b[39;00m:\n\u001b[0;32m--> 444\u001b[0m     httplib_response \u001b[38;5;241m=\u001b[39m \u001b[43mconn\u001b[49m\u001b[38;5;241;43m.\u001b[39;49m\u001b[43mgetresponse\u001b[49m\u001b[43m(\u001b[49m\u001b[43m)\u001b[49m\n\u001b[1;32m    445\u001b[0m \u001b[38;5;28;01mexcept\u001b[39;00m \u001b[38;5;167;01mBaseException\u001b[39;00m \u001b[38;5;28;01mas\u001b[39;00m e:\n\u001b[1;32m    446\u001b[0m     \u001b[38;5;66;03m# Remove the TypeError from the exception chain in\u001b[39;00m\n\u001b[1;32m    447\u001b[0m     \u001b[38;5;66;03m# Python 3 (including for exceptions like SystemExit).\u001b[39;00m\n\u001b[1;32m    448\u001b[0m     \u001b[38;5;66;03m# Otherwise it looks like a bug in the code.\u001b[39;00m\n",
      "File \u001b[0;32m~/opt/anaconda3/lib/python3.9/http/client.py:1377\u001b[0m, in \u001b[0;36mHTTPConnection.getresponse\u001b[0;34m(self)\u001b[0m\n\u001b[1;32m   1376\u001b[0m \u001b[38;5;28;01mtry\u001b[39;00m:\n\u001b[0;32m-> 1377\u001b[0m     \u001b[43mresponse\u001b[49m\u001b[38;5;241;43m.\u001b[39;49m\u001b[43mbegin\u001b[49m\u001b[43m(\u001b[49m\u001b[43m)\u001b[49m\n\u001b[1;32m   1378\u001b[0m \u001b[38;5;28;01mexcept\u001b[39;00m \u001b[38;5;167;01mConnectionError\u001b[39;00m:\n",
      "File \u001b[0;32m~/opt/anaconda3/lib/python3.9/http/client.py:320\u001b[0m, in \u001b[0;36mHTTPResponse.begin\u001b[0;34m(self)\u001b[0m\n\u001b[1;32m    319\u001b[0m \u001b[38;5;28;01mwhile\u001b[39;00m \u001b[38;5;28;01mTrue\u001b[39;00m:\n\u001b[0;32m--> 320\u001b[0m     version, status, reason \u001b[38;5;241m=\u001b[39m \u001b[38;5;28;43mself\u001b[39;49m\u001b[38;5;241;43m.\u001b[39;49m\u001b[43m_read_status\u001b[49m\u001b[43m(\u001b[49m\u001b[43m)\u001b[49m\n\u001b[1;32m    321\u001b[0m     \u001b[38;5;28;01mif\u001b[39;00m status \u001b[38;5;241m!=\u001b[39m CONTINUE:\n",
      "File \u001b[0;32m~/opt/anaconda3/lib/python3.9/http/client.py:281\u001b[0m, in \u001b[0;36mHTTPResponse._read_status\u001b[0;34m(self)\u001b[0m\n\u001b[1;32m    280\u001b[0m \u001b[38;5;28;01mdef\u001b[39;00m \u001b[38;5;21m_read_status\u001b[39m(\u001b[38;5;28mself\u001b[39m):\n\u001b[0;32m--> 281\u001b[0m     line \u001b[38;5;241m=\u001b[39m \u001b[38;5;28mstr\u001b[39m(\u001b[38;5;28;43mself\u001b[39;49m\u001b[38;5;241;43m.\u001b[39;49m\u001b[43mfp\u001b[49m\u001b[38;5;241;43m.\u001b[39;49m\u001b[43mreadline\u001b[49m\u001b[43m(\u001b[49m\u001b[43m_MAXLINE\u001b[49m\u001b[43m \u001b[49m\u001b[38;5;241;43m+\u001b[39;49m\u001b[43m \u001b[49m\u001b[38;5;241;43m1\u001b[39;49m\u001b[43m)\u001b[49m, \u001b[38;5;124m\"\u001b[39m\u001b[38;5;124miso-8859-1\u001b[39m\u001b[38;5;124m\"\u001b[39m)\n\u001b[1;32m    282\u001b[0m     \u001b[38;5;28;01mif\u001b[39;00m \u001b[38;5;28mlen\u001b[39m(line) \u001b[38;5;241m>\u001b[39m _MAXLINE:\n",
      "File \u001b[0;32m~/opt/anaconda3/lib/python3.9/socket.py:704\u001b[0m, in \u001b[0;36mSocketIO.readinto\u001b[0;34m(self, b)\u001b[0m\n\u001b[1;32m    703\u001b[0m \u001b[38;5;28;01mtry\u001b[39;00m:\n\u001b[0;32m--> 704\u001b[0m     \u001b[38;5;28;01mreturn\u001b[39;00m \u001b[38;5;28;43mself\u001b[39;49m\u001b[38;5;241;43m.\u001b[39;49m\u001b[43m_sock\u001b[49m\u001b[38;5;241;43m.\u001b[39;49m\u001b[43mrecv_into\u001b[49m\u001b[43m(\u001b[49m\u001b[43mb\u001b[49m\u001b[43m)\u001b[49m\n\u001b[1;32m    705\u001b[0m \u001b[38;5;28;01mexcept\u001b[39;00m timeout:\n",
      "File \u001b[0;32m~/opt/anaconda3/lib/python3.9/ssl.py:1241\u001b[0m, in \u001b[0;36mSSLSocket.recv_into\u001b[0;34m(self, buffer, nbytes, flags)\u001b[0m\n\u001b[1;32m   1238\u001b[0m         \u001b[38;5;28;01mraise\u001b[39;00m \u001b[38;5;167;01mValueError\u001b[39;00m(\n\u001b[1;32m   1239\u001b[0m           \u001b[38;5;124m\"\u001b[39m\u001b[38;5;124mnon-zero flags not allowed in calls to recv_into() on \u001b[39m\u001b[38;5;132;01m%s\u001b[39;00m\u001b[38;5;124m\"\u001b[39m \u001b[38;5;241m%\u001b[39m\n\u001b[1;32m   1240\u001b[0m           \u001b[38;5;28mself\u001b[39m\u001b[38;5;241m.\u001b[39m\u001b[38;5;18m__class__\u001b[39m)\n\u001b[0;32m-> 1241\u001b[0m     \u001b[38;5;28;01mreturn\u001b[39;00m \u001b[38;5;28;43mself\u001b[39;49m\u001b[38;5;241;43m.\u001b[39;49m\u001b[43mread\u001b[49m\u001b[43m(\u001b[49m\u001b[43mnbytes\u001b[49m\u001b[43m,\u001b[49m\u001b[43m \u001b[49m\u001b[43mbuffer\u001b[49m\u001b[43m)\u001b[49m\n\u001b[1;32m   1242\u001b[0m \u001b[38;5;28;01melse\u001b[39;00m:\n",
      "File \u001b[0;32m~/opt/anaconda3/lib/python3.9/ssl.py:1099\u001b[0m, in \u001b[0;36mSSLSocket.read\u001b[0;34m(self, len, buffer)\u001b[0m\n\u001b[1;32m   1098\u001b[0m \u001b[38;5;28;01mif\u001b[39;00m buffer \u001b[38;5;129;01mis\u001b[39;00m \u001b[38;5;129;01mnot\u001b[39;00m \u001b[38;5;28;01mNone\u001b[39;00m:\n\u001b[0;32m-> 1099\u001b[0m     \u001b[38;5;28;01mreturn\u001b[39;00m \u001b[38;5;28;43mself\u001b[39;49m\u001b[38;5;241;43m.\u001b[39;49m\u001b[43m_sslobj\u001b[49m\u001b[38;5;241;43m.\u001b[39;49m\u001b[43mread\u001b[49m\u001b[43m(\u001b[49m\u001b[38;5;28;43mlen\u001b[39;49m\u001b[43m,\u001b[49m\u001b[43m \u001b[49m\u001b[43mbuffer\u001b[49m\u001b[43m)\u001b[49m\n\u001b[1;32m   1100\u001b[0m \u001b[38;5;28;01melse\u001b[39;00m:\n",
      "\u001b[0;31mProtocolError\u001b[0m: ('Connection aborted.', ConnectionResetError(54, 'Connection reset by peer'))",
      "\nDuring handling of the above exception, another exception occurred:\n",
      "\u001b[0;31mConnectionError\u001b[0m                           Traceback (most recent call last)",
      "Input \u001b[0;32mIn [79]\u001b[0m, in \u001b[0;36m<cell line: 1>\u001b[0;34m()\u001b[0m\n\u001b[1;32m      1\u001b[0m \u001b[38;5;28;01mfor\u001b[39;00m i  \u001b[38;5;129;01min\u001b[39;00m  result[\u001b[38;5;241m18\u001b[39m]:\n\u001b[1;32m      2\u001b[0m     \u001b[38;5;28mprint\u001b[39m(i)\n\u001b[0;32m----> 3\u001b[0m     \u001b[43mget_features_df\u001b[49m\u001b[43m(\u001b[49m\u001b[43mi\u001b[49m\u001b[43m)\u001b[49m\n",
      "Input \u001b[0;32mIn [4]\u001b[0m, in \u001b[0;36mget_features_df\u001b[0;34m(playlist_id)\u001b[0m\n\u001b[1;32m     15\u001b[0m \u001b[38;5;66;03m#getting features per song in  playlist \u001b[39;00m\n\u001b[1;32m     16\u001b[0m     \u001b[38;5;28;01mfor\u001b[39;00m value \u001b[38;5;129;01min\u001b[39;00m \u001b[38;5;28mrange\u001b[39m(\u001b[38;5;241m0\u001b[39m,\u001b[38;5;28mlen\u001b[39m(tracks)):\n\u001b[0;32m---> 18\u001b[0m         list_of_audio_features\u001b[38;5;241m.\u001b[39mappend(\u001b[43msp\u001b[49m\u001b[38;5;241;43m.\u001b[39;49m\u001b[43maudio_features\u001b[49m\u001b[43m(\u001b[49m\u001b[43mtracks\u001b[49m\u001b[43m[\u001b[49m\u001b[43mvalue\u001b[49m\u001b[43m]\u001b[49m\u001b[43m[\u001b[49m\u001b[38;5;124;43m\"\u001b[39;49m\u001b[38;5;124;43mtrack\u001b[39;49m\u001b[38;5;124;43m\"\u001b[39;49m\u001b[43m]\u001b[49m\u001b[43m[\u001b[49m\u001b[38;5;124;43m\"\u001b[39;49m\u001b[38;5;124;43mid\u001b[39;49m\u001b[38;5;124;43m\"\u001b[39;49m\u001b[43m]\u001b[49m\u001b[43m)\u001b[49m[\u001b[38;5;241m0\u001b[39m])\n\u001b[1;32m     21\u001b[0m \u001b[38;5;66;03m#creating df with audio features and adding song name and artist     \u001b[39;00m\n\u001b[1;32m     22\u001b[0m     df\u001b[38;5;241m=\u001b[39mpd\u001b[38;5;241m.\u001b[39mDataFrame(list_of_audio_features)    \n",
      "File \u001b[0;32m~/opt/anaconda3/lib/python3.9/site-packages/spotipy/client.py:1680\u001b[0m, in \u001b[0;36mSpotify.audio_features\u001b[0;34m(self, tracks)\u001b[0m\n\u001b[1;32m   1678\u001b[0m \u001b[38;5;28;01mif\u001b[39;00m \u001b[38;5;28misinstance\u001b[39m(tracks, \u001b[38;5;28mstr\u001b[39m):\n\u001b[1;32m   1679\u001b[0m     trackid \u001b[38;5;241m=\u001b[39m \u001b[38;5;28mself\u001b[39m\u001b[38;5;241m.\u001b[39m_get_id(\u001b[38;5;124m\"\u001b[39m\u001b[38;5;124mtrack\u001b[39m\u001b[38;5;124m\"\u001b[39m, tracks)\n\u001b[0;32m-> 1680\u001b[0m     results \u001b[38;5;241m=\u001b[39m \u001b[38;5;28;43mself\u001b[39;49m\u001b[38;5;241;43m.\u001b[39;49m\u001b[43m_get\u001b[49m\u001b[43m(\u001b[49m\u001b[38;5;124;43m\"\u001b[39;49m\u001b[38;5;124;43maudio-features/?ids=\u001b[39;49m\u001b[38;5;124;43m\"\u001b[39;49m\u001b[43m \u001b[49m\u001b[38;5;241;43m+\u001b[39;49m\u001b[43m \u001b[49m\u001b[43mtrackid\u001b[49m\u001b[43m)\u001b[49m\n\u001b[1;32m   1681\u001b[0m \u001b[38;5;28;01melse\u001b[39;00m:\n\u001b[1;32m   1682\u001b[0m     tlist \u001b[38;5;241m=\u001b[39m [\u001b[38;5;28mself\u001b[39m\u001b[38;5;241m.\u001b[39m_get_id(\u001b[38;5;124m\"\u001b[39m\u001b[38;5;124mtrack\u001b[39m\u001b[38;5;124m\"\u001b[39m, t) \u001b[38;5;28;01mfor\u001b[39;00m t \u001b[38;5;129;01min\u001b[39;00m tracks]\n",
      "File \u001b[0;32m~/opt/anaconda3/lib/python3.9/site-packages/spotipy/client.py:297\u001b[0m, in \u001b[0;36mSpotify._get\u001b[0;34m(self, url, args, payload, **kwargs)\u001b[0m\n\u001b[1;32m    294\u001b[0m \u001b[38;5;28;01mif\u001b[39;00m args:\n\u001b[1;32m    295\u001b[0m     kwargs\u001b[38;5;241m.\u001b[39mupdate(args)\n\u001b[0;32m--> 297\u001b[0m \u001b[38;5;28;01mreturn\u001b[39;00m \u001b[38;5;28;43mself\u001b[39;49m\u001b[38;5;241;43m.\u001b[39;49m\u001b[43m_internal_call\u001b[49m\u001b[43m(\u001b[49m\u001b[38;5;124;43m\"\u001b[39;49m\u001b[38;5;124;43mGET\u001b[39;49m\u001b[38;5;124;43m\"\u001b[39;49m\u001b[43m,\u001b[49m\u001b[43m \u001b[49m\u001b[43murl\u001b[49m\u001b[43m,\u001b[49m\u001b[43m \u001b[49m\u001b[43mpayload\u001b[49m\u001b[43m,\u001b[49m\u001b[43m \u001b[49m\u001b[43mkwargs\u001b[49m\u001b[43m)\u001b[49m\n",
      "File \u001b[0;32m~/opt/anaconda3/lib/python3.9/site-packages/spotipy/client.py:240\u001b[0m, in \u001b[0;36mSpotify._internal_call\u001b[0;34m(self, method, url, payload, params)\u001b[0m\n\u001b[1;32m    236\u001b[0m logger\u001b[38;5;241m.\u001b[39mdebug(\u001b[38;5;124m'\u001b[39m\u001b[38;5;124mSending \u001b[39m\u001b[38;5;132;01m%s\u001b[39;00m\u001b[38;5;124m to \u001b[39m\u001b[38;5;132;01m%s\u001b[39;00m\u001b[38;5;124m with Params: \u001b[39m\u001b[38;5;132;01m%s\u001b[39;00m\u001b[38;5;124m Headers: \u001b[39m\u001b[38;5;132;01m%s\u001b[39;00m\u001b[38;5;124m and Body: \u001b[39m\u001b[38;5;132;01m%r\u001b[39;00m\u001b[38;5;124m \u001b[39m\u001b[38;5;124m'\u001b[39m,\n\u001b[1;32m    237\u001b[0m              method, url, args\u001b[38;5;241m.\u001b[39mget(\u001b[38;5;124m\"\u001b[39m\u001b[38;5;124mparams\u001b[39m\u001b[38;5;124m\"\u001b[39m), headers, args\u001b[38;5;241m.\u001b[39mget(\u001b[38;5;124m'\u001b[39m\u001b[38;5;124mdata\u001b[39m\u001b[38;5;124m'\u001b[39m))\n\u001b[1;32m    239\u001b[0m \u001b[38;5;28;01mtry\u001b[39;00m:\n\u001b[0;32m--> 240\u001b[0m     response \u001b[38;5;241m=\u001b[39m \u001b[38;5;28;43mself\u001b[39;49m\u001b[38;5;241;43m.\u001b[39;49m\u001b[43m_session\u001b[49m\u001b[38;5;241;43m.\u001b[39;49m\u001b[43mrequest\u001b[49m\u001b[43m(\u001b[49m\n\u001b[1;32m    241\u001b[0m \u001b[43m        \u001b[49m\u001b[43mmethod\u001b[49m\u001b[43m,\u001b[49m\u001b[43m \u001b[49m\u001b[43murl\u001b[49m\u001b[43m,\u001b[49m\u001b[43m \u001b[49m\u001b[43mheaders\u001b[49m\u001b[38;5;241;43m=\u001b[39;49m\u001b[43mheaders\u001b[49m\u001b[43m,\u001b[49m\u001b[43m \u001b[49m\u001b[43mproxies\u001b[49m\u001b[38;5;241;43m=\u001b[39;49m\u001b[38;5;28;43mself\u001b[39;49m\u001b[38;5;241;43m.\u001b[39;49m\u001b[43mproxies\u001b[49m\u001b[43m,\u001b[49m\n\u001b[1;32m    242\u001b[0m \u001b[43m        \u001b[49m\u001b[43mtimeout\u001b[49m\u001b[38;5;241;43m=\u001b[39;49m\u001b[38;5;28;43mself\u001b[39;49m\u001b[38;5;241;43m.\u001b[39;49m\u001b[43mrequests_timeout\u001b[49m\u001b[43m,\u001b[49m\u001b[43m \u001b[49m\u001b[38;5;241;43m*\u001b[39;49m\u001b[38;5;241;43m*\u001b[39;49m\u001b[43margs\u001b[49m\n\u001b[1;32m    243\u001b[0m \u001b[43m    \u001b[49m\u001b[43m)\u001b[49m\n\u001b[1;32m    245\u001b[0m     response\u001b[38;5;241m.\u001b[39mraise_for_status()\n\u001b[1;32m    246\u001b[0m     results \u001b[38;5;241m=\u001b[39m response\u001b[38;5;241m.\u001b[39mjson()\n",
      "File \u001b[0;32m~/opt/anaconda3/lib/python3.9/site-packages/requests/sessions.py:529\u001b[0m, in \u001b[0;36mSession.request\u001b[0;34m(self, method, url, params, data, headers, cookies, files, auth, timeout, allow_redirects, proxies, hooks, stream, verify, cert, json)\u001b[0m\n\u001b[1;32m    524\u001b[0m send_kwargs \u001b[38;5;241m=\u001b[39m {\n\u001b[1;32m    525\u001b[0m     \u001b[38;5;124m'\u001b[39m\u001b[38;5;124mtimeout\u001b[39m\u001b[38;5;124m'\u001b[39m: timeout,\n\u001b[1;32m    526\u001b[0m     \u001b[38;5;124m'\u001b[39m\u001b[38;5;124mallow_redirects\u001b[39m\u001b[38;5;124m'\u001b[39m: allow_redirects,\n\u001b[1;32m    527\u001b[0m }\n\u001b[1;32m    528\u001b[0m send_kwargs\u001b[38;5;241m.\u001b[39mupdate(settings)\n\u001b[0;32m--> 529\u001b[0m resp \u001b[38;5;241m=\u001b[39m \u001b[38;5;28;43mself\u001b[39;49m\u001b[38;5;241;43m.\u001b[39;49m\u001b[43msend\u001b[49m\u001b[43m(\u001b[49m\u001b[43mprep\u001b[49m\u001b[43m,\u001b[49m\u001b[43m \u001b[49m\u001b[38;5;241;43m*\u001b[39;49m\u001b[38;5;241;43m*\u001b[39;49m\u001b[43msend_kwargs\u001b[49m\u001b[43m)\u001b[49m\n\u001b[1;32m    531\u001b[0m \u001b[38;5;28;01mreturn\u001b[39;00m resp\n",
      "File \u001b[0;32m~/opt/anaconda3/lib/python3.9/site-packages/requests/sessions.py:645\u001b[0m, in \u001b[0;36mSession.send\u001b[0;34m(self, request, **kwargs)\u001b[0m\n\u001b[1;32m    642\u001b[0m start \u001b[38;5;241m=\u001b[39m preferred_clock()\n\u001b[1;32m    644\u001b[0m \u001b[38;5;66;03m# Send the request\u001b[39;00m\n\u001b[0;32m--> 645\u001b[0m r \u001b[38;5;241m=\u001b[39m \u001b[43madapter\u001b[49m\u001b[38;5;241;43m.\u001b[39;49m\u001b[43msend\u001b[49m\u001b[43m(\u001b[49m\u001b[43mrequest\u001b[49m\u001b[43m,\u001b[49m\u001b[43m \u001b[49m\u001b[38;5;241;43m*\u001b[39;49m\u001b[38;5;241;43m*\u001b[39;49m\u001b[43mkwargs\u001b[49m\u001b[43m)\u001b[49m\n\u001b[1;32m    647\u001b[0m \u001b[38;5;66;03m# Total elapsed time of the request (approximately)\u001b[39;00m\n\u001b[1;32m    648\u001b[0m elapsed \u001b[38;5;241m=\u001b[39m preferred_clock() \u001b[38;5;241m-\u001b[39m start\n",
      "File \u001b[0;32m~/opt/anaconda3/lib/python3.9/site-packages/requests/adapters.py:501\u001b[0m, in \u001b[0;36mHTTPAdapter.send\u001b[0;34m(self, request, stream, timeout, verify, cert, proxies)\u001b[0m\n\u001b[1;32m    498\u001b[0m             \u001b[38;5;28;01mraise\u001b[39;00m\n\u001b[1;32m    500\u001b[0m \u001b[38;5;28;01mexcept\u001b[39;00m (ProtocolError, socket\u001b[38;5;241m.\u001b[39merror) \u001b[38;5;28;01mas\u001b[39;00m err:\n\u001b[0;32m--> 501\u001b[0m     \u001b[38;5;28;01mraise\u001b[39;00m \u001b[38;5;167;01mConnectionError\u001b[39;00m(err, request\u001b[38;5;241m=\u001b[39mrequest)\n\u001b[1;32m    503\u001b[0m \u001b[38;5;28;01mexcept\u001b[39;00m MaxRetryError \u001b[38;5;28;01mas\u001b[39;00m e:\n\u001b[1;32m    504\u001b[0m     \u001b[38;5;28;01mif\u001b[39;00m \u001b[38;5;28misinstance\u001b[39m(e\u001b[38;5;241m.\u001b[39mreason, ConnectTimeoutError):\n\u001b[1;32m    505\u001b[0m         \u001b[38;5;66;03m# TODO: Remove this in 3.0.0: see #2811\u001b[39;00m\n",
      "\u001b[0;31mConnectionError\u001b[0m: ('Connection aborted.', ConnectionResetError(54, 'Connection reset by peer'))"
     ]
    }
   ],
   "source": [
    "for i  in  result[18]:\n",
    "    print(i)\n",
    "    get_features_df(i)"
   ]
  },
  {
   "cell_type": "code",
   "execution_count": 84,
   "id": "56d72013",
   "metadata": {},
   "outputs": [
    {
     "name": "stdout",
     "output_type": "stream",
     "text": [
      "4Svlg7olD7nlAaE9j93K5m\n"
     ]
    },
    {
     "name": "stderr",
     "output_type": "stream",
     "text": [
      "/var/folders/1n/phyrz16s0rd1_mpv046jgqf80000gn/T/ipykernel_17629/3181457209.py:28: FutureWarning: The frame.append method is deprecated and will be removed from pandas in a future version. Use pandas.concat instead.\n",
      "  big_df =big_df.append(df)\n"
     ]
    },
    {
     "name": "stdout",
     "output_type": "stream",
     "text": [
      "2QVsIulY60RZs8u18nPccL\n"
     ]
    },
    {
     "name": "stderr",
     "output_type": "stream",
     "text": [
      "/var/folders/1n/phyrz16s0rd1_mpv046jgqf80000gn/T/ipykernel_17629/3181457209.py:28: FutureWarning: The frame.append method is deprecated and will be removed from pandas in a future version. Use pandas.concat instead.\n",
      "  big_df =big_df.append(df)\n"
     ]
    },
    {
     "name": "stdout",
     "output_type": "stream",
     "text": [
      "2Wh7WpNxoec6eoJXv7QNDk\n"
     ]
    },
    {
     "name": "stderr",
     "output_type": "stream",
     "text": [
      "/var/folders/1n/phyrz16s0rd1_mpv046jgqf80000gn/T/ipykernel_17629/3181457209.py:28: FutureWarning: The frame.append method is deprecated and will be removed from pandas in a future version. Use pandas.concat instead.\n",
      "  big_df =big_df.append(df)\n"
     ]
    },
    {
     "name": "stdout",
     "output_type": "stream",
     "text": [
      "3ZbPiBIy4lkcDi6c1cbCBe\n"
     ]
    },
    {
     "name": "stderr",
     "output_type": "stream",
     "text": [
      "/var/folders/1n/phyrz16s0rd1_mpv046jgqf80000gn/T/ipykernel_17629/3181457209.py:28: FutureWarning: The frame.append method is deprecated and will be removed from pandas in a future version. Use pandas.concat instead.\n",
      "  big_df =big_df.append(df)\n"
     ]
    },
    {
     "name": "stdout",
     "output_type": "stream",
     "text": [
      "3kNWVqxt0cR2phbffWW78v\n"
     ]
    },
    {
     "name": "stderr",
     "output_type": "stream",
     "text": [
      "/var/folders/1n/phyrz16s0rd1_mpv046jgqf80000gn/T/ipykernel_17629/3181457209.py:28: FutureWarning: The frame.append method is deprecated and will be removed from pandas in a future version. Use pandas.concat instead.\n",
      "  big_df =big_df.append(df)\n"
     ]
    },
    {
     "name": "stdout",
     "output_type": "stream",
     "text": [
      "4dS5aqiN32iHnEfPI9XuDu\n"
     ]
    },
    {
     "name": "stderr",
     "output_type": "stream",
     "text": [
      "/var/folders/1n/phyrz16s0rd1_mpv046jgqf80000gn/T/ipykernel_17629/3181457209.py:28: FutureWarning: The frame.append method is deprecated and will be removed from pandas in a future version. Use pandas.concat instead.\n",
      "  big_df =big_df.append(df)\n"
     ]
    },
    {
     "name": "stdout",
     "output_type": "stream",
     "text": [
      "5HfYvpOL7nni7KiR9lEl4d\n"
     ]
    },
    {
     "name": "stderr",
     "output_type": "stream",
     "text": [
      "/var/folders/1n/phyrz16s0rd1_mpv046jgqf80000gn/T/ipykernel_17629/3181457209.py:28: FutureWarning: The frame.append method is deprecated and will be removed from pandas in a future version. Use pandas.concat instead.\n",
      "  big_df =big_df.append(df)\n"
     ]
    },
    {
     "name": "stdout",
     "output_type": "stream",
     "text": [
      "54eDlcyhSBrHMt6dbHyFWp\n"
     ]
    },
    {
     "name": "stderr",
     "output_type": "stream",
     "text": [
      "/var/folders/1n/phyrz16s0rd1_mpv046jgqf80000gn/T/ipykernel_17629/3181457209.py:28: FutureWarning: The frame.append method is deprecated and will be removed from pandas in a future version. Use pandas.concat instead.\n",
      "  big_df =big_df.append(df)\n"
     ]
    },
    {
     "name": "stdout",
     "output_type": "stream",
     "text": [
      "0L371MBdXN5thFTULwgUJS\n"
     ]
    },
    {
     "name": "stderr",
     "output_type": "stream",
     "text": [
      "/var/folders/1n/phyrz16s0rd1_mpv046jgqf80000gn/T/ipykernel_17629/3181457209.py:28: FutureWarning: The frame.append method is deprecated and will be removed from pandas in a future version. Use pandas.concat instead.\n",
      "  big_df =big_df.append(df)\n"
     ]
    },
    {
     "name": "stdout",
     "output_type": "stream",
     "text": [
      "23UmyAFS2tQ8P5QWAXo6wn\n"
     ]
    },
    {
     "name": "stderr",
     "output_type": "stream",
     "text": [
      "/var/folders/1n/phyrz16s0rd1_mpv046jgqf80000gn/T/ipykernel_17629/3181457209.py:28: FutureWarning: The frame.append method is deprecated and will be removed from pandas in a future version. Use pandas.concat instead.\n",
      "  big_df =big_df.append(df)\n"
     ]
    },
    {
     "name": "stdout",
     "output_type": "stream",
     "text": [
      "2cEtqSZ5rvZH6yvzqyLgFE\n"
     ]
    },
    {
     "name": "stderr",
     "output_type": "stream",
     "text": [
      "/var/folders/1n/phyrz16s0rd1_mpv046jgqf80000gn/T/ipykernel_17629/3181457209.py:28: FutureWarning: The frame.append method is deprecated and will be removed from pandas in a future version. Use pandas.concat instead.\n",
      "  big_df =big_df.append(df)\n"
     ]
    },
    {
     "name": "stdout",
     "output_type": "stream",
     "text": [
      "0oaRihpf0Vq2jbsk0tnOPD\n"
     ]
    },
    {
     "name": "stderr",
     "output_type": "stream",
     "text": [
      "/var/folders/1n/phyrz16s0rd1_mpv046jgqf80000gn/T/ipykernel_17629/3181457209.py:28: FutureWarning: The frame.append method is deprecated and will be removed from pandas in a future version. Use pandas.concat instead.\n",
      "  big_df =big_df.append(df)\n"
     ]
    },
    {
     "name": "stdout",
     "output_type": "stream",
     "text": [
      "6VKTnBP8zsyEmP1Sk7TvMm\n"
     ]
    },
    {
     "name": "stderr",
     "output_type": "stream",
     "text": [
      "/var/folders/1n/phyrz16s0rd1_mpv046jgqf80000gn/T/ipykernel_17629/3181457209.py:28: FutureWarning: The frame.append method is deprecated and will be removed from pandas in a future version. Use pandas.concat instead.\n",
      "  big_df =big_df.append(df)\n"
     ]
    },
    {
     "name": "stdout",
     "output_type": "stream",
     "text": [
      "7duuLur49tAfIJBp03Upi9\n"
     ]
    },
    {
     "name": "stderr",
     "output_type": "stream",
     "text": [
      "/var/folders/1n/phyrz16s0rd1_mpv046jgqf80000gn/T/ipykernel_17629/3181457209.py:28: FutureWarning: The frame.append method is deprecated and will be removed from pandas in a future version. Use pandas.concat instead.\n",
      "  big_df =big_df.append(df)\n"
     ]
    },
    {
     "name": "stdout",
     "output_type": "stream",
     "text": [
      "2u6y2dDw8lKwW389jYEMoN\n"
     ]
    },
    {
     "name": "stderr",
     "output_type": "stream",
     "text": [
      "/var/folders/1n/phyrz16s0rd1_mpv046jgqf80000gn/T/ipykernel_17629/3181457209.py:28: FutureWarning: The frame.append method is deprecated and will be removed from pandas in a future version. Use pandas.concat instead.\n",
      "  big_df =big_df.append(df)\n"
     ]
    },
    {
     "name": "stdout",
     "output_type": "stream",
     "text": [
      "74m3dVjqQ3WVDIFu0mpqks\n"
     ]
    },
    {
     "name": "stderr",
     "output_type": "stream",
     "text": [
      "/var/folders/1n/phyrz16s0rd1_mpv046jgqf80000gn/T/ipykernel_17629/3181457209.py:28: FutureWarning: The frame.append method is deprecated and will be removed from pandas in a future version. Use pandas.concat instead.\n",
      "  big_df =big_df.append(df)\n"
     ]
    },
    {
     "name": "stdout",
     "output_type": "stream",
     "text": [
      "43kNzpeexrUOm37vMwtGmR\n"
     ]
    },
    {
     "name": "stderr",
     "output_type": "stream",
     "text": [
      "/var/folders/1n/phyrz16s0rd1_mpv046jgqf80000gn/T/ipykernel_17629/3181457209.py:28: FutureWarning: The frame.append method is deprecated and will be removed from pandas in a future version. Use pandas.concat instead.\n",
      "  big_df =big_df.append(df)\n"
     ]
    },
    {
     "name": "stdout",
     "output_type": "stream",
     "text": [
      "0VKCDh1qcRXjMfDhGEXihm\n"
     ]
    },
    {
     "name": "stderr",
     "output_type": "stream",
     "text": [
      "/var/folders/1n/phyrz16s0rd1_mpv046jgqf80000gn/T/ipykernel_17629/3181457209.py:28: FutureWarning: The frame.append method is deprecated and will be removed from pandas in a future version. Use pandas.concat instead.\n",
      "  big_df =big_df.append(df)\n"
     ]
    },
    {
     "name": "stdout",
     "output_type": "stream",
     "text": [
      "4Ngk0xBx3586LQXH1fS6h5\n"
     ]
    },
    {
     "name": "stderr",
     "output_type": "stream",
     "text": [
      "/var/folders/1n/phyrz16s0rd1_mpv046jgqf80000gn/T/ipykernel_17629/3181457209.py:28: FutureWarning: The frame.append method is deprecated and will be removed from pandas in a future version. Use pandas.concat instead.\n",
      "  big_df =big_df.append(df)\n"
     ]
    },
    {
     "name": "stdout",
     "output_type": "stream",
     "text": [
      "6V384enS3I948e5HdX5P5A\n"
     ]
    },
    {
     "name": "stderr",
     "output_type": "stream",
     "text": [
      "/var/folders/1n/phyrz16s0rd1_mpv046jgqf80000gn/T/ipykernel_17629/3181457209.py:28: FutureWarning: The frame.append method is deprecated and will be removed from pandas in a future version. Use pandas.concat instead.\n",
      "  big_df =big_df.append(df)\n"
     ]
    },
    {
     "name": "stdout",
     "output_type": "stream",
     "text": [
      "4nV9ZoMXZcVsDukR994fMf\n"
     ]
    },
    {
     "name": "stderr",
     "output_type": "stream",
     "text": [
      "/var/folders/1n/phyrz16s0rd1_mpv046jgqf80000gn/T/ipykernel_17629/3181457209.py:28: FutureWarning: The frame.append method is deprecated and will be removed from pandas in a future version. Use pandas.concat instead.\n",
      "  big_df =big_df.append(df)\n"
     ]
    },
    {
     "name": "stdout",
     "output_type": "stream",
     "text": [
      "14JdnNWjAC67mTeMtQvVQU\n"
     ]
    },
    {
     "name": "stderr",
     "output_type": "stream",
     "text": [
      "/var/folders/1n/phyrz16s0rd1_mpv046jgqf80000gn/T/ipykernel_17629/3181457209.py:28: FutureWarning: The frame.append method is deprecated and will be removed from pandas in a future version. Use pandas.concat instead.\n",
      "  big_df =big_df.append(df)\n"
     ]
    },
    {
     "name": "stdout",
     "output_type": "stream",
     "text": [
      "0D4LNcafhpgsbS1zddHRyN\n"
     ]
    },
    {
     "name": "stderr",
     "output_type": "stream",
     "text": [
      "/var/folders/1n/phyrz16s0rd1_mpv046jgqf80000gn/T/ipykernel_17629/3181457209.py:28: FutureWarning: The frame.append method is deprecated and will be removed from pandas in a future version. Use pandas.concat instead.\n",
      "  big_df =big_df.append(df)\n"
     ]
    },
    {
     "name": "stdout",
     "output_type": "stream",
     "text": [
      "2BPocNoK7QF8mRuTdRd2Ph\n"
     ]
    },
    {
     "name": "stderr",
     "output_type": "stream",
     "text": [
      "/var/folders/1n/phyrz16s0rd1_mpv046jgqf80000gn/T/ipykernel_17629/3181457209.py:28: FutureWarning: The frame.append method is deprecated and will be removed from pandas in a future version. Use pandas.concat instead.\n",
      "  big_df =big_df.append(df)\n"
     ]
    },
    {
     "name": "stdout",
     "output_type": "stream",
     "text": [
      "6T4DmAc9TqsUbfpaM8MZem\n"
     ]
    },
    {
     "name": "stderr",
     "output_type": "stream",
     "text": [
      "/var/folders/1n/phyrz16s0rd1_mpv046jgqf80000gn/T/ipykernel_17629/3181457209.py:28: FutureWarning: The frame.append method is deprecated and will be removed from pandas in a future version. Use pandas.concat instead.\n",
      "  big_df =big_df.append(df)\n"
     ]
    },
    {
     "name": "stdout",
     "output_type": "stream",
     "text": [
      "2q8VWIvm8iU5OkP0ITRfVF\n"
     ]
    },
    {
     "name": "stderr",
     "output_type": "stream",
     "text": [
      "/var/folders/1n/phyrz16s0rd1_mpv046jgqf80000gn/T/ipykernel_17629/3181457209.py:28: FutureWarning: The frame.append method is deprecated and will be removed from pandas in a future version. Use pandas.concat instead.\n",
      "  big_df =big_df.append(df)\n"
     ]
    },
    {
     "name": "stdout",
     "output_type": "stream",
     "text": [
      "082daAvMUmkVEgkolt3wCw\n"
     ]
    },
    {
     "name": "stderr",
     "output_type": "stream",
     "text": [
      "/var/folders/1n/phyrz16s0rd1_mpv046jgqf80000gn/T/ipykernel_17629/3181457209.py:28: FutureWarning: The frame.append method is deprecated and will be removed from pandas in a future version. Use pandas.concat instead.\n",
      "  big_df =big_df.append(df)\n"
     ]
    },
    {
     "name": "stdout",
     "output_type": "stream",
     "text": [
      "6FS4N9H4Kc4VSNGiK8vZPH\n"
     ]
    },
    {
     "name": "stderr",
     "output_type": "stream",
     "text": [
      "/var/folders/1n/phyrz16s0rd1_mpv046jgqf80000gn/T/ipykernel_17629/3181457209.py:28: FutureWarning: The frame.append method is deprecated and will be removed from pandas in a future version. Use pandas.concat instead.\n",
      "  big_df =big_df.append(df)\n"
     ]
    },
    {
     "name": "stdout",
     "output_type": "stream",
     "text": [
      "0yw5Q26eYIvaBediIFrYwN\n"
     ]
    },
    {
     "ename": "ReadTimeout",
     "evalue": "HTTPSConnectionPool(host='api.spotify.com', port=443): Read timed out. (read timeout=5)",
     "output_type": "error",
     "traceback": [
      "\u001b[0;31m---------------------------------------------------------------------------\u001b[0m",
      "\u001b[0;31mtimeout\u001b[0m                                   Traceback (most recent call last)",
      "File \u001b[0;32m~/opt/anaconda3/lib/python3.9/site-packages/urllib3/connectionpool.py:449\u001b[0m, in \u001b[0;36mHTTPConnectionPool._make_request\u001b[0;34m(self, conn, method, url, timeout, chunked, **httplib_request_kw)\u001b[0m\n\u001b[1;32m    445\u001b[0m         \u001b[38;5;28;01mexcept\u001b[39;00m \u001b[38;5;167;01mBaseException\u001b[39;00m \u001b[38;5;28;01mas\u001b[39;00m e:\n\u001b[1;32m    446\u001b[0m             \u001b[38;5;66;03m# Remove the TypeError from the exception chain in\u001b[39;00m\n\u001b[1;32m    447\u001b[0m             \u001b[38;5;66;03m# Python 3 (including for exceptions like SystemExit).\u001b[39;00m\n\u001b[1;32m    448\u001b[0m             \u001b[38;5;66;03m# Otherwise it looks like a bug in the code.\u001b[39;00m\n\u001b[0;32m--> 449\u001b[0m             \u001b[43msix\u001b[49m\u001b[38;5;241;43m.\u001b[39;49m\u001b[43mraise_from\u001b[49m\u001b[43m(\u001b[49m\u001b[43me\u001b[49m\u001b[43m,\u001b[49m\u001b[43m \u001b[49m\u001b[38;5;28;43;01mNone\u001b[39;49;00m\u001b[43m)\u001b[49m\n\u001b[1;32m    450\u001b[0m \u001b[38;5;28;01mexcept\u001b[39;00m (SocketTimeout, BaseSSLError, SocketError) \u001b[38;5;28;01mas\u001b[39;00m e:\n",
      "File \u001b[0;32m<string>:3\u001b[0m, in \u001b[0;36mraise_from\u001b[0;34m(value, from_value)\u001b[0m\n",
      "File \u001b[0;32m~/opt/anaconda3/lib/python3.9/site-packages/urllib3/connectionpool.py:444\u001b[0m, in \u001b[0;36mHTTPConnectionPool._make_request\u001b[0;34m(self, conn, method, url, timeout, chunked, **httplib_request_kw)\u001b[0m\n\u001b[1;32m    443\u001b[0m \u001b[38;5;28;01mtry\u001b[39;00m:\n\u001b[0;32m--> 444\u001b[0m     httplib_response \u001b[38;5;241m=\u001b[39m \u001b[43mconn\u001b[49m\u001b[38;5;241;43m.\u001b[39;49m\u001b[43mgetresponse\u001b[49m\u001b[43m(\u001b[49m\u001b[43m)\u001b[49m\n\u001b[1;32m    445\u001b[0m \u001b[38;5;28;01mexcept\u001b[39;00m \u001b[38;5;167;01mBaseException\u001b[39;00m \u001b[38;5;28;01mas\u001b[39;00m e:\n\u001b[1;32m    446\u001b[0m     \u001b[38;5;66;03m# Remove the TypeError from the exception chain in\u001b[39;00m\n\u001b[1;32m    447\u001b[0m     \u001b[38;5;66;03m# Python 3 (including for exceptions like SystemExit).\u001b[39;00m\n\u001b[1;32m    448\u001b[0m     \u001b[38;5;66;03m# Otherwise it looks like a bug in the code.\u001b[39;00m\n",
      "File \u001b[0;32m~/opt/anaconda3/lib/python3.9/http/client.py:1377\u001b[0m, in \u001b[0;36mHTTPConnection.getresponse\u001b[0;34m(self)\u001b[0m\n\u001b[1;32m   1376\u001b[0m \u001b[38;5;28;01mtry\u001b[39;00m:\n\u001b[0;32m-> 1377\u001b[0m     \u001b[43mresponse\u001b[49m\u001b[38;5;241;43m.\u001b[39;49m\u001b[43mbegin\u001b[49m\u001b[43m(\u001b[49m\u001b[43m)\u001b[49m\n\u001b[1;32m   1378\u001b[0m \u001b[38;5;28;01mexcept\u001b[39;00m \u001b[38;5;167;01mConnectionError\u001b[39;00m:\n",
      "File \u001b[0;32m~/opt/anaconda3/lib/python3.9/http/client.py:320\u001b[0m, in \u001b[0;36mHTTPResponse.begin\u001b[0;34m(self)\u001b[0m\n\u001b[1;32m    319\u001b[0m \u001b[38;5;28;01mwhile\u001b[39;00m \u001b[38;5;28;01mTrue\u001b[39;00m:\n\u001b[0;32m--> 320\u001b[0m     version, status, reason \u001b[38;5;241m=\u001b[39m \u001b[38;5;28;43mself\u001b[39;49m\u001b[38;5;241;43m.\u001b[39;49m\u001b[43m_read_status\u001b[49m\u001b[43m(\u001b[49m\u001b[43m)\u001b[49m\n\u001b[1;32m    321\u001b[0m     \u001b[38;5;28;01mif\u001b[39;00m status \u001b[38;5;241m!=\u001b[39m CONTINUE:\n",
      "File \u001b[0;32m~/opt/anaconda3/lib/python3.9/http/client.py:281\u001b[0m, in \u001b[0;36mHTTPResponse._read_status\u001b[0;34m(self)\u001b[0m\n\u001b[1;32m    280\u001b[0m \u001b[38;5;28;01mdef\u001b[39;00m \u001b[38;5;21m_read_status\u001b[39m(\u001b[38;5;28mself\u001b[39m):\n\u001b[0;32m--> 281\u001b[0m     line \u001b[38;5;241m=\u001b[39m \u001b[38;5;28mstr\u001b[39m(\u001b[38;5;28;43mself\u001b[39;49m\u001b[38;5;241;43m.\u001b[39;49m\u001b[43mfp\u001b[49m\u001b[38;5;241;43m.\u001b[39;49m\u001b[43mreadline\u001b[49m\u001b[43m(\u001b[49m\u001b[43m_MAXLINE\u001b[49m\u001b[43m \u001b[49m\u001b[38;5;241;43m+\u001b[39;49m\u001b[43m \u001b[49m\u001b[38;5;241;43m1\u001b[39;49m\u001b[43m)\u001b[49m, \u001b[38;5;124m\"\u001b[39m\u001b[38;5;124miso-8859-1\u001b[39m\u001b[38;5;124m\"\u001b[39m)\n\u001b[1;32m    282\u001b[0m     \u001b[38;5;28;01mif\u001b[39;00m \u001b[38;5;28mlen\u001b[39m(line) \u001b[38;5;241m>\u001b[39m _MAXLINE:\n",
      "File \u001b[0;32m~/opt/anaconda3/lib/python3.9/socket.py:704\u001b[0m, in \u001b[0;36mSocketIO.readinto\u001b[0;34m(self, b)\u001b[0m\n\u001b[1;32m    703\u001b[0m \u001b[38;5;28;01mtry\u001b[39;00m:\n\u001b[0;32m--> 704\u001b[0m     \u001b[38;5;28;01mreturn\u001b[39;00m \u001b[38;5;28;43mself\u001b[39;49m\u001b[38;5;241;43m.\u001b[39;49m\u001b[43m_sock\u001b[49m\u001b[38;5;241;43m.\u001b[39;49m\u001b[43mrecv_into\u001b[49m\u001b[43m(\u001b[49m\u001b[43mb\u001b[49m\u001b[43m)\u001b[49m\n\u001b[1;32m    705\u001b[0m \u001b[38;5;28;01mexcept\u001b[39;00m timeout:\n",
      "File \u001b[0;32m~/opt/anaconda3/lib/python3.9/ssl.py:1241\u001b[0m, in \u001b[0;36mSSLSocket.recv_into\u001b[0;34m(self, buffer, nbytes, flags)\u001b[0m\n\u001b[1;32m   1238\u001b[0m         \u001b[38;5;28;01mraise\u001b[39;00m \u001b[38;5;167;01mValueError\u001b[39;00m(\n\u001b[1;32m   1239\u001b[0m           \u001b[38;5;124m\"\u001b[39m\u001b[38;5;124mnon-zero flags not allowed in calls to recv_into() on \u001b[39m\u001b[38;5;132;01m%s\u001b[39;00m\u001b[38;5;124m\"\u001b[39m \u001b[38;5;241m%\u001b[39m\n\u001b[1;32m   1240\u001b[0m           \u001b[38;5;28mself\u001b[39m\u001b[38;5;241m.\u001b[39m\u001b[38;5;18m__class__\u001b[39m)\n\u001b[0;32m-> 1241\u001b[0m     \u001b[38;5;28;01mreturn\u001b[39;00m \u001b[38;5;28;43mself\u001b[39;49m\u001b[38;5;241;43m.\u001b[39;49m\u001b[43mread\u001b[49m\u001b[43m(\u001b[49m\u001b[43mnbytes\u001b[49m\u001b[43m,\u001b[49m\u001b[43m \u001b[49m\u001b[43mbuffer\u001b[49m\u001b[43m)\u001b[49m\n\u001b[1;32m   1242\u001b[0m \u001b[38;5;28;01melse\u001b[39;00m:\n",
      "File \u001b[0;32m~/opt/anaconda3/lib/python3.9/ssl.py:1099\u001b[0m, in \u001b[0;36mSSLSocket.read\u001b[0;34m(self, len, buffer)\u001b[0m\n\u001b[1;32m   1098\u001b[0m \u001b[38;5;28;01mif\u001b[39;00m buffer \u001b[38;5;129;01mis\u001b[39;00m \u001b[38;5;129;01mnot\u001b[39;00m \u001b[38;5;28;01mNone\u001b[39;00m:\n\u001b[0;32m-> 1099\u001b[0m     \u001b[38;5;28;01mreturn\u001b[39;00m \u001b[38;5;28;43mself\u001b[39;49m\u001b[38;5;241;43m.\u001b[39;49m\u001b[43m_sslobj\u001b[49m\u001b[38;5;241;43m.\u001b[39;49m\u001b[43mread\u001b[49m\u001b[43m(\u001b[49m\u001b[38;5;28;43mlen\u001b[39;49m\u001b[43m,\u001b[49m\u001b[43m \u001b[49m\u001b[43mbuffer\u001b[49m\u001b[43m)\u001b[49m\n\u001b[1;32m   1100\u001b[0m \u001b[38;5;28;01melse\u001b[39;00m:\n",
      "\u001b[0;31mtimeout\u001b[0m: The read operation timed out",
      "\nDuring handling of the above exception, another exception occurred:\n",
      "\u001b[0;31mReadTimeoutError\u001b[0m                          Traceback (most recent call last)",
      "File \u001b[0;32m~/opt/anaconda3/lib/python3.9/site-packages/requests/adapters.py:440\u001b[0m, in \u001b[0;36mHTTPAdapter.send\u001b[0;34m(self, request, stream, timeout, verify, cert, proxies)\u001b[0m\n\u001b[1;32m    439\u001b[0m \u001b[38;5;28;01mif\u001b[39;00m \u001b[38;5;129;01mnot\u001b[39;00m chunked:\n\u001b[0;32m--> 440\u001b[0m     resp \u001b[38;5;241m=\u001b[39m \u001b[43mconn\u001b[49m\u001b[38;5;241;43m.\u001b[39;49m\u001b[43murlopen\u001b[49m\u001b[43m(\u001b[49m\n\u001b[1;32m    441\u001b[0m \u001b[43m        \u001b[49m\u001b[43mmethod\u001b[49m\u001b[38;5;241;43m=\u001b[39;49m\u001b[43mrequest\u001b[49m\u001b[38;5;241;43m.\u001b[39;49m\u001b[43mmethod\u001b[49m\u001b[43m,\u001b[49m\n\u001b[1;32m    442\u001b[0m \u001b[43m        \u001b[49m\u001b[43murl\u001b[49m\u001b[38;5;241;43m=\u001b[39;49m\u001b[43murl\u001b[49m\u001b[43m,\u001b[49m\n\u001b[1;32m    443\u001b[0m \u001b[43m        \u001b[49m\u001b[43mbody\u001b[49m\u001b[38;5;241;43m=\u001b[39;49m\u001b[43mrequest\u001b[49m\u001b[38;5;241;43m.\u001b[39;49m\u001b[43mbody\u001b[49m\u001b[43m,\u001b[49m\n\u001b[1;32m    444\u001b[0m \u001b[43m        \u001b[49m\u001b[43mheaders\u001b[49m\u001b[38;5;241;43m=\u001b[39;49m\u001b[43mrequest\u001b[49m\u001b[38;5;241;43m.\u001b[39;49m\u001b[43mheaders\u001b[49m\u001b[43m,\u001b[49m\n\u001b[1;32m    445\u001b[0m \u001b[43m        \u001b[49m\u001b[43mredirect\u001b[49m\u001b[38;5;241;43m=\u001b[39;49m\u001b[38;5;28;43;01mFalse\u001b[39;49;00m\u001b[43m,\u001b[49m\n\u001b[1;32m    446\u001b[0m \u001b[43m        \u001b[49m\u001b[43massert_same_host\u001b[49m\u001b[38;5;241;43m=\u001b[39;49m\u001b[38;5;28;43;01mFalse\u001b[39;49;00m\u001b[43m,\u001b[49m\n\u001b[1;32m    447\u001b[0m \u001b[43m        \u001b[49m\u001b[43mpreload_content\u001b[49m\u001b[38;5;241;43m=\u001b[39;49m\u001b[38;5;28;43;01mFalse\u001b[39;49;00m\u001b[43m,\u001b[49m\n\u001b[1;32m    448\u001b[0m \u001b[43m        \u001b[49m\u001b[43mdecode_content\u001b[49m\u001b[38;5;241;43m=\u001b[39;49m\u001b[38;5;28;43;01mFalse\u001b[39;49;00m\u001b[43m,\u001b[49m\n\u001b[1;32m    449\u001b[0m \u001b[43m        \u001b[49m\u001b[43mretries\u001b[49m\u001b[38;5;241;43m=\u001b[39;49m\u001b[38;5;28;43mself\u001b[39;49m\u001b[38;5;241;43m.\u001b[39;49m\u001b[43mmax_retries\u001b[49m\u001b[43m,\u001b[49m\n\u001b[1;32m    450\u001b[0m \u001b[43m        \u001b[49m\u001b[43mtimeout\u001b[49m\u001b[38;5;241;43m=\u001b[39;49m\u001b[43mtimeout\u001b[49m\n\u001b[1;32m    451\u001b[0m \u001b[43m    \u001b[49m\u001b[43m)\u001b[49m\n\u001b[1;32m    453\u001b[0m \u001b[38;5;66;03m# Send the request.\u001b[39;00m\n\u001b[1;32m    454\u001b[0m \u001b[38;5;28;01melse\u001b[39;00m:\n",
      "File \u001b[0;32m~/opt/anaconda3/lib/python3.9/site-packages/urllib3/connectionpool.py:785\u001b[0m, in \u001b[0;36mHTTPConnectionPool.urlopen\u001b[0;34m(self, method, url, body, headers, retries, redirect, assert_same_host, timeout, pool_timeout, release_conn, chunked, body_pos, **response_kw)\u001b[0m\n\u001b[1;32m    783\u001b[0m     e \u001b[38;5;241m=\u001b[39m ProtocolError(\u001b[38;5;124m\"\u001b[39m\u001b[38;5;124mConnection aborted.\u001b[39m\u001b[38;5;124m\"\u001b[39m, e)\n\u001b[0;32m--> 785\u001b[0m retries \u001b[38;5;241m=\u001b[39m \u001b[43mretries\u001b[49m\u001b[38;5;241;43m.\u001b[39;49m\u001b[43mincrement\u001b[49m\u001b[43m(\u001b[49m\n\u001b[1;32m    786\u001b[0m \u001b[43m    \u001b[49m\u001b[43mmethod\u001b[49m\u001b[43m,\u001b[49m\u001b[43m \u001b[49m\u001b[43murl\u001b[49m\u001b[43m,\u001b[49m\u001b[43m \u001b[49m\u001b[43merror\u001b[49m\u001b[38;5;241;43m=\u001b[39;49m\u001b[43me\u001b[49m\u001b[43m,\u001b[49m\u001b[43m \u001b[49m\u001b[43m_pool\u001b[49m\u001b[38;5;241;43m=\u001b[39;49m\u001b[38;5;28;43mself\u001b[39;49m\u001b[43m,\u001b[49m\u001b[43m \u001b[49m\u001b[43m_stacktrace\u001b[49m\u001b[38;5;241;43m=\u001b[39;49m\u001b[43msys\u001b[49m\u001b[38;5;241;43m.\u001b[39;49m\u001b[43mexc_info\u001b[49m\u001b[43m(\u001b[49m\u001b[43m)\u001b[49m\u001b[43m[\u001b[49m\u001b[38;5;241;43m2\u001b[39;49m\u001b[43m]\u001b[49m\n\u001b[1;32m    787\u001b[0m \u001b[43m\u001b[49m\u001b[43m)\u001b[49m\n\u001b[1;32m    788\u001b[0m retries\u001b[38;5;241m.\u001b[39msleep()\n",
      "File \u001b[0;32m~/opt/anaconda3/lib/python3.9/site-packages/urllib3/util/retry.py:550\u001b[0m, in \u001b[0;36mRetry.increment\u001b[0;34m(self, method, url, response, error, _pool, _stacktrace)\u001b[0m\n\u001b[1;32m    549\u001b[0m \u001b[38;5;28;01mif\u001b[39;00m read \u001b[38;5;129;01mis\u001b[39;00m \u001b[38;5;28;01mFalse\u001b[39;00m \u001b[38;5;129;01mor\u001b[39;00m \u001b[38;5;129;01mnot\u001b[39;00m \u001b[38;5;28mself\u001b[39m\u001b[38;5;241m.\u001b[39m_is_method_retryable(method):\n\u001b[0;32m--> 550\u001b[0m     \u001b[38;5;28;01mraise\u001b[39;00m \u001b[43msix\u001b[49m\u001b[38;5;241;43m.\u001b[39;49m\u001b[43mreraise\u001b[49m\u001b[43m(\u001b[49m\u001b[38;5;28;43mtype\u001b[39;49m\u001b[43m(\u001b[49m\u001b[43merror\u001b[49m\u001b[43m)\u001b[49m\u001b[43m,\u001b[49m\u001b[43m \u001b[49m\u001b[43merror\u001b[49m\u001b[43m,\u001b[49m\u001b[43m \u001b[49m\u001b[43m_stacktrace\u001b[49m\u001b[43m)\u001b[49m\n\u001b[1;32m    551\u001b[0m \u001b[38;5;28;01melif\u001b[39;00m read \u001b[38;5;129;01mis\u001b[39;00m \u001b[38;5;129;01mnot\u001b[39;00m \u001b[38;5;28;01mNone\u001b[39;00m:\n",
      "File \u001b[0;32m~/opt/anaconda3/lib/python3.9/site-packages/urllib3/packages/six.py:770\u001b[0m, in \u001b[0;36mreraise\u001b[0;34m(tp, value, tb)\u001b[0m\n\u001b[1;32m    769\u001b[0m         \u001b[38;5;28;01mraise\u001b[39;00m value\u001b[38;5;241m.\u001b[39mwith_traceback(tb)\n\u001b[0;32m--> 770\u001b[0m     \u001b[38;5;28;01mraise\u001b[39;00m value\n\u001b[1;32m    771\u001b[0m \u001b[38;5;28;01mfinally\u001b[39;00m:\n",
      "File \u001b[0;32m~/opt/anaconda3/lib/python3.9/site-packages/urllib3/connectionpool.py:703\u001b[0m, in \u001b[0;36mHTTPConnectionPool.urlopen\u001b[0;34m(self, method, url, body, headers, retries, redirect, assert_same_host, timeout, pool_timeout, release_conn, chunked, body_pos, **response_kw)\u001b[0m\n\u001b[1;32m    702\u001b[0m \u001b[38;5;66;03m# Make the request on the httplib connection object.\u001b[39;00m\n\u001b[0;32m--> 703\u001b[0m httplib_response \u001b[38;5;241m=\u001b[39m \u001b[38;5;28;43mself\u001b[39;49m\u001b[38;5;241;43m.\u001b[39;49m\u001b[43m_make_request\u001b[49m\u001b[43m(\u001b[49m\n\u001b[1;32m    704\u001b[0m \u001b[43m    \u001b[49m\u001b[43mconn\u001b[49m\u001b[43m,\u001b[49m\n\u001b[1;32m    705\u001b[0m \u001b[43m    \u001b[49m\u001b[43mmethod\u001b[49m\u001b[43m,\u001b[49m\n\u001b[1;32m    706\u001b[0m \u001b[43m    \u001b[49m\u001b[43murl\u001b[49m\u001b[43m,\u001b[49m\n\u001b[1;32m    707\u001b[0m \u001b[43m    \u001b[49m\u001b[43mtimeout\u001b[49m\u001b[38;5;241;43m=\u001b[39;49m\u001b[43mtimeout_obj\u001b[49m\u001b[43m,\u001b[49m\n\u001b[1;32m    708\u001b[0m \u001b[43m    \u001b[49m\u001b[43mbody\u001b[49m\u001b[38;5;241;43m=\u001b[39;49m\u001b[43mbody\u001b[49m\u001b[43m,\u001b[49m\n\u001b[1;32m    709\u001b[0m \u001b[43m    \u001b[49m\u001b[43mheaders\u001b[49m\u001b[38;5;241;43m=\u001b[39;49m\u001b[43mheaders\u001b[49m\u001b[43m,\u001b[49m\n\u001b[1;32m    710\u001b[0m \u001b[43m    \u001b[49m\u001b[43mchunked\u001b[49m\u001b[38;5;241;43m=\u001b[39;49m\u001b[43mchunked\u001b[49m\u001b[43m,\u001b[49m\n\u001b[1;32m    711\u001b[0m \u001b[43m\u001b[49m\u001b[43m)\u001b[49m\n\u001b[1;32m    713\u001b[0m \u001b[38;5;66;03m# If we're going to release the connection in ``finally:``, then\u001b[39;00m\n\u001b[1;32m    714\u001b[0m \u001b[38;5;66;03m# the response doesn't need to know about the connection. Otherwise\u001b[39;00m\n\u001b[1;32m    715\u001b[0m \u001b[38;5;66;03m# it will also try to release it and we'll have a double-release\u001b[39;00m\n\u001b[1;32m    716\u001b[0m \u001b[38;5;66;03m# mess.\u001b[39;00m\n",
      "File \u001b[0;32m~/opt/anaconda3/lib/python3.9/site-packages/urllib3/connectionpool.py:451\u001b[0m, in \u001b[0;36mHTTPConnectionPool._make_request\u001b[0;34m(self, conn, method, url, timeout, chunked, **httplib_request_kw)\u001b[0m\n\u001b[1;32m    450\u001b[0m \u001b[38;5;28;01mexcept\u001b[39;00m (SocketTimeout, BaseSSLError, SocketError) \u001b[38;5;28;01mas\u001b[39;00m e:\n\u001b[0;32m--> 451\u001b[0m     \u001b[38;5;28;43mself\u001b[39;49m\u001b[38;5;241;43m.\u001b[39;49m\u001b[43m_raise_timeout\u001b[49m\u001b[43m(\u001b[49m\u001b[43merr\u001b[49m\u001b[38;5;241;43m=\u001b[39;49m\u001b[43me\u001b[49m\u001b[43m,\u001b[49m\u001b[43m \u001b[49m\u001b[43murl\u001b[49m\u001b[38;5;241;43m=\u001b[39;49m\u001b[43murl\u001b[49m\u001b[43m,\u001b[49m\u001b[43m \u001b[49m\u001b[43mtimeout_value\u001b[49m\u001b[38;5;241;43m=\u001b[39;49m\u001b[43mread_timeout\u001b[49m\u001b[43m)\u001b[49m\n\u001b[1;32m    452\u001b[0m     \u001b[38;5;28;01mraise\u001b[39;00m\n",
      "File \u001b[0;32m~/opt/anaconda3/lib/python3.9/site-packages/urllib3/connectionpool.py:340\u001b[0m, in \u001b[0;36mHTTPConnectionPool._raise_timeout\u001b[0;34m(self, err, url, timeout_value)\u001b[0m\n\u001b[1;32m    339\u001b[0m \u001b[38;5;28;01mif\u001b[39;00m \u001b[38;5;28misinstance\u001b[39m(err, SocketTimeout):\n\u001b[0;32m--> 340\u001b[0m     \u001b[38;5;28;01mraise\u001b[39;00m ReadTimeoutError(\n\u001b[1;32m    341\u001b[0m         \u001b[38;5;28mself\u001b[39m, url, \u001b[38;5;124m\"\u001b[39m\u001b[38;5;124mRead timed out. (read timeout=\u001b[39m\u001b[38;5;132;01m%s\u001b[39;00m\u001b[38;5;124m)\u001b[39m\u001b[38;5;124m\"\u001b[39m \u001b[38;5;241m%\u001b[39m timeout_value\n\u001b[1;32m    342\u001b[0m     )\n\u001b[1;32m    344\u001b[0m \u001b[38;5;66;03m# See the above comment about EAGAIN in Python 3. In Python 2 we have\u001b[39;00m\n\u001b[1;32m    345\u001b[0m \u001b[38;5;66;03m# to specifically catch it and throw the timeout error\u001b[39;00m\n",
      "\u001b[0;31mReadTimeoutError\u001b[0m: HTTPSConnectionPool(host='api.spotify.com', port=443): Read timed out. (read timeout=5)",
      "\nDuring handling of the above exception, another exception occurred:\n",
      "\u001b[0;31mReadTimeout\u001b[0m                               Traceback (most recent call last)",
      "Input \u001b[0;32mIn [84]\u001b[0m, in \u001b[0;36m<cell line: 1>\u001b[0;34m()\u001b[0m\n\u001b[1;32m      1\u001b[0m \u001b[38;5;28;01mfor\u001b[39;00m i  \u001b[38;5;129;01min\u001b[39;00m  result[\u001b[38;5;241m19\u001b[39m]:\n\u001b[1;32m      2\u001b[0m     \u001b[38;5;28mprint\u001b[39m(i)\n\u001b[0;32m----> 3\u001b[0m     \u001b[43mget_features_df\u001b[49m\u001b[43m(\u001b[49m\u001b[43mi\u001b[49m\u001b[43m)\u001b[49m\n",
      "Input \u001b[0;32mIn [4]\u001b[0m, in \u001b[0;36mget_features_df\u001b[0;34m(playlist_id)\u001b[0m\n\u001b[1;32m     15\u001b[0m \u001b[38;5;66;03m#getting features per song in  playlist \u001b[39;00m\n\u001b[1;32m     16\u001b[0m     \u001b[38;5;28;01mfor\u001b[39;00m value \u001b[38;5;129;01min\u001b[39;00m \u001b[38;5;28mrange\u001b[39m(\u001b[38;5;241m0\u001b[39m,\u001b[38;5;28mlen\u001b[39m(tracks)):\n\u001b[0;32m---> 18\u001b[0m         list_of_audio_features\u001b[38;5;241m.\u001b[39mappend(\u001b[43msp\u001b[49m\u001b[38;5;241;43m.\u001b[39;49m\u001b[43maudio_features\u001b[49m\u001b[43m(\u001b[49m\u001b[43mtracks\u001b[49m\u001b[43m[\u001b[49m\u001b[43mvalue\u001b[49m\u001b[43m]\u001b[49m\u001b[43m[\u001b[49m\u001b[38;5;124;43m\"\u001b[39;49m\u001b[38;5;124;43mtrack\u001b[39;49m\u001b[38;5;124;43m\"\u001b[39;49m\u001b[43m]\u001b[49m\u001b[43m[\u001b[49m\u001b[38;5;124;43m\"\u001b[39;49m\u001b[38;5;124;43mid\u001b[39;49m\u001b[38;5;124;43m\"\u001b[39;49m\u001b[43m]\u001b[49m\u001b[43m)\u001b[49m[\u001b[38;5;241m0\u001b[39m])\n\u001b[1;32m     21\u001b[0m \u001b[38;5;66;03m#creating df with audio features and adding song name and artist     \u001b[39;00m\n\u001b[1;32m     22\u001b[0m     df\u001b[38;5;241m=\u001b[39mpd\u001b[38;5;241m.\u001b[39mDataFrame(list_of_audio_features)    \n",
      "File \u001b[0;32m~/opt/anaconda3/lib/python3.9/site-packages/spotipy/client.py:1680\u001b[0m, in \u001b[0;36mSpotify.audio_features\u001b[0;34m(self, tracks)\u001b[0m\n\u001b[1;32m   1678\u001b[0m \u001b[38;5;28;01mif\u001b[39;00m \u001b[38;5;28misinstance\u001b[39m(tracks, \u001b[38;5;28mstr\u001b[39m):\n\u001b[1;32m   1679\u001b[0m     trackid \u001b[38;5;241m=\u001b[39m \u001b[38;5;28mself\u001b[39m\u001b[38;5;241m.\u001b[39m_get_id(\u001b[38;5;124m\"\u001b[39m\u001b[38;5;124mtrack\u001b[39m\u001b[38;5;124m\"\u001b[39m, tracks)\n\u001b[0;32m-> 1680\u001b[0m     results \u001b[38;5;241m=\u001b[39m \u001b[38;5;28;43mself\u001b[39;49m\u001b[38;5;241;43m.\u001b[39;49m\u001b[43m_get\u001b[49m\u001b[43m(\u001b[49m\u001b[38;5;124;43m\"\u001b[39;49m\u001b[38;5;124;43maudio-features/?ids=\u001b[39;49m\u001b[38;5;124;43m\"\u001b[39;49m\u001b[43m \u001b[49m\u001b[38;5;241;43m+\u001b[39;49m\u001b[43m \u001b[49m\u001b[43mtrackid\u001b[49m\u001b[43m)\u001b[49m\n\u001b[1;32m   1681\u001b[0m \u001b[38;5;28;01melse\u001b[39;00m:\n\u001b[1;32m   1682\u001b[0m     tlist \u001b[38;5;241m=\u001b[39m [\u001b[38;5;28mself\u001b[39m\u001b[38;5;241m.\u001b[39m_get_id(\u001b[38;5;124m\"\u001b[39m\u001b[38;5;124mtrack\u001b[39m\u001b[38;5;124m\"\u001b[39m, t) \u001b[38;5;28;01mfor\u001b[39;00m t \u001b[38;5;129;01min\u001b[39;00m tracks]\n",
      "File \u001b[0;32m~/opt/anaconda3/lib/python3.9/site-packages/spotipy/client.py:297\u001b[0m, in \u001b[0;36mSpotify._get\u001b[0;34m(self, url, args, payload, **kwargs)\u001b[0m\n\u001b[1;32m    294\u001b[0m \u001b[38;5;28;01mif\u001b[39;00m args:\n\u001b[1;32m    295\u001b[0m     kwargs\u001b[38;5;241m.\u001b[39mupdate(args)\n\u001b[0;32m--> 297\u001b[0m \u001b[38;5;28;01mreturn\u001b[39;00m \u001b[38;5;28;43mself\u001b[39;49m\u001b[38;5;241;43m.\u001b[39;49m\u001b[43m_internal_call\u001b[49m\u001b[43m(\u001b[49m\u001b[38;5;124;43m\"\u001b[39;49m\u001b[38;5;124;43mGET\u001b[39;49m\u001b[38;5;124;43m\"\u001b[39;49m\u001b[43m,\u001b[49m\u001b[43m \u001b[49m\u001b[43murl\u001b[49m\u001b[43m,\u001b[49m\u001b[43m \u001b[49m\u001b[43mpayload\u001b[49m\u001b[43m,\u001b[49m\u001b[43m \u001b[49m\u001b[43mkwargs\u001b[49m\u001b[43m)\u001b[49m\n",
      "File \u001b[0;32m~/opt/anaconda3/lib/python3.9/site-packages/spotipy/client.py:240\u001b[0m, in \u001b[0;36mSpotify._internal_call\u001b[0;34m(self, method, url, payload, params)\u001b[0m\n\u001b[1;32m    236\u001b[0m logger\u001b[38;5;241m.\u001b[39mdebug(\u001b[38;5;124m'\u001b[39m\u001b[38;5;124mSending \u001b[39m\u001b[38;5;132;01m%s\u001b[39;00m\u001b[38;5;124m to \u001b[39m\u001b[38;5;132;01m%s\u001b[39;00m\u001b[38;5;124m with Params: \u001b[39m\u001b[38;5;132;01m%s\u001b[39;00m\u001b[38;5;124m Headers: \u001b[39m\u001b[38;5;132;01m%s\u001b[39;00m\u001b[38;5;124m and Body: \u001b[39m\u001b[38;5;132;01m%r\u001b[39;00m\u001b[38;5;124m \u001b[39m\u001b[38;5;124m'\u001b[39m,\n\u001b[1;32m    237\u001b[0m              method, url, args\u001b[38;5;241m.\u001b[39mget(\u001b[38;5;124m\"\u001b[39m\u001b[38;5;124mparams\u001b[39m\u001b[38;5;124m\"\u001b[39m), headers, args\u001b[38;5;241m.\u001b[39mget(\u001b[38;5;124m'\u001b[39m\u001b[38;5;124mdata\u001b[39m\u001b[38;5;124m'\u001b[39m))\n\u001b[1;32m    239\u001b[0m \u001b[38;5;28;01mtry\u001b[39;00m:\n\u001b[0;32m--> 240\u001b[0m     response \u001b[38;5;241m=\u001b[39m \u001b[38;5;28;43mself\u001b[39;49m\u001b[38;5;241;43m.\u001b[39;49m\u001b[43m_session\u001b[49m\u001b[38;5;241;43m.\u001b[39;49m\u001b[43mrequest\u001b[49m\u001b[43m(\u001b[49m\n\u001b[1;32m    241\u001b[0m \u001b[43m        \u001b[49m\u001b[43mmethod\u001b[49m\u001b[43m,\u001b[49m\u001b[43m \u001b[49m\u001b[43murl\u001b[49m\u001b[43m,\u001b[49m\u001b[43m \u001b[49m\u001b[43mheaders\u001b[49m\u001b[38;5;241;43m=\u001b[39;49m\u001b[43mheaders\u001b[49m\u001b[43m,\u001b[49m\u001b[43m \u001b[49m\u001b[43mproxies\u001b[49m\u001b[38;5;241;43m=\u001b[39;49m\u001b[38;5;28;43mself\u001b[39;49m\u001b[38;5;241;43m.\u001b[39;49m\u001b[43mproxies\u001b[49m\u001b[43m,\u001b[49m\n\u001b[1;32m    242\u001b[0m \u001b[43m        \u001b[49m\u001b[43mtimeout\u001b[49m\u001b[38;5;241;43m=\u001b[39;49m\u001b[38;5;28;43mself\u001b[39;49m\u001b[38;5;241;43m.\u001b[39;49m\u001b[43mrequests_timeout\u001b[49m\u001b[43m,\u001b[49m\u001b[43m \u001b[49m\u001b[38;5;241;43m*\u001b[39;49m\u001b[38;5;241;43m*\u001b[39;49m\u001b[43margs\u001b[49m\n\u001b[1;32m    243\u001b[0m \u001b[43m    \u001b[49m\u001b[43m)\u001b[49m\n\u001b[1;32m    245\u001b[0m     response\u001b[38;5;241m.\u001b[39mraise_for_status()\n\u001b[1;32m    246\u001b[0m     results \u001b[38;5;241m=\u001b[39m response\u001b[38;5;241m.\u001b[39mjson()\n",
      "File \u001b[0;32m~/opt/anaconda3/lib/python3.9/site-packages/requests/sessions.py:529\u001b[0m, in \u001b[0;36mSession.request\u001b[0;34m(self, method, url, params, data, headers, cookies, files, auth, timeout, allow_redirects, proxies, hooks, stream, verify, cert, json)\u001b[0m\n\u001b[1;32m    524\u001b[0m send_kwargs \u001b[38;5;241m=\u001b[39m {\n\u001b[1;32m    525\u001b[0m     \u001b[38;5;124m'\u001b[39m\u001b[38;5;124mtimeout\u001b[39m\u001b[38;5;124m'\u001b[39m: timeout,\n\u001b[1;32m    526\u001b[0m     \u001b[38;5;124m'\u001b[39m\u001b[38;5;124mallow_redirects\u001b[39m\u001b[38;5;124m'\u001b[39m: allow_redirects,\n\u001b[1;32m    527\u001b[0m }\n\u001b[1;32m    528\u001b[0m send_kwargs\u001b[38;5;241m.\u001b[39mupdate(settings)\n\u001b[0;32m--> 529\u001b[0m resp \u001b[38;5;241m=\u001b[39m \u001b[38;5;28;43mself\u001b[39;49m\u001b[38;5;241;43m.\u001b[39;49m\u001b[43msend\u001b[49m\u001b[43m(\u001b[49m\u001b[43mprep\u001b[49m\u001b[43m,\u001b[49m\u001b[43m \u001b[49m\u001b[38;5;241;43m*\u001b[39;49m\u001b[38;5;241;43m*\u001b[39;49m\u001b[43msend_kwargs\u001b[49m\u001b[43m)\u001b[49m\n\u001b[1;32m    531\u001b[0m \u001b[38;5;28;01mreturn\u001b[39;00m resp\n",
      "File \u001b[0;32m~/opt/anaconda3/lib/python3.9/site-packages/requests/sessions.py:645\u001b[0m, in \u001b[0;36mSession.send\u001b[0;34m(self, request, **kwargs)\u001b[0m\n\u001b[1;32m    642\u001b[0m start \u001b[38;5;241m=\u001b[39m preferred_clock()\n\u001b[1;32m    644\u001b[0m \u001b[38;5;66;03m# Send the request\u001b[39;00m\n\u001b[0;32m--> 645\u001b[0m r \u001b[38;5;241m=\u001b[39m \u001b[43madapter\u001b[49m\u001b[38;5;241;43m.\u001b[39;49m\u001b[43msend\u001b[49m\u001b[43m(\u001b[49m\u001b[43mrequest\u001b[49m\u001b[43m,\u001b[49m\u001b[43m \u001b[49m\u001b[38;5;241;43m*\u001b[39;49m\u001b[38;5;241;43m*\u001b[39;49m\u001b[43mkwargs\u001b[49m\u001b[43m)\u001b[49m\n\u001b[1;32m    647\u001b[0m \u001b[38;5;66;03m# Total elapsed time of the request (approximately)\u001b[39;00m\n\u001b[1;32m    648\u001b[0m elapsed \u001b[38;5;241m=\u001b[39m preferred_clock() \u001b[38;5;241m-\u001b[39m start\n",
      "File \u001b[0;32m~/opt/anaconda3/lib/python3.9/site-packages/requests/adapters.py:532\u001b[0m, in \u001b[0;36mHTTPAdapter.send\u001b[0;34m(self, request, stream, timeout, verify, cert, proxies)\u001b[0m\n\u001b[1;32m    530\u001b[0m     \u001b[38;5;28;01mraise\u001b[39;00m SSLError(e, request\u001b[38;5;241m=\u001b[39mrequest)\n\u001b[1;32m    531\u001b[0m \u001b[38;5;28;01melif\u001b[39;00m \u001b[38;5;28misinstance\u001b[39m(e, ReadTimeoutError):\n\u001b[0;32m--> 532\u001b[0m     \u001b[38;5;28;01mraise\u001b[39;00m ReadTimeout(e, request\u001b[38;5;241m=\u001b[39mrequest)\n\u001b[1;32m    533\u001b[0m \u001b[38;5;28;01melif\u001b[39;00m \u001b[38;5;28misinstance\u001b[39m(e, _InvalidHeader):\n\u001b[1;32m    534\u001b[0m     \u001b[38;5;28;01mraise\u001b[39;00m InvalidHeader(e, request\u001b[38;5;241m=\u001b[39mrequest)\n",
      "\u001b[0;31mReadTimeout\u001b[0m: HTTPSConnectionPool(host='api.spotify.com', port=443): Read timed out. (read timeout=5)"
     ]
    }
   ],
   "source": [
    "for i  in  result[19]:\n",
    "    print(i)\n",
    "    get_features_df(i)"
   ]
  },
  {
   "cell_type": "code",
   "execution_count": 85,
   "id": "7e86404d",
   "metadata": {},
   "outputs": [
    {
     "name": "stdout",
     "output_type": "stream",
     "text": [
      "520PdmxBhzhsOIfR0lAMth\n"
     ]
    },
    {
     "name": "stderr",
     "output_type": "stream",
     "text": [
      "/var/folders/1n/phyrz16s0rd1_mpv046jgqf80000gn/T/ipykernel_17629/3181457209.py:28: FutureWarning: The frame.append method is deprecated and will be removed from pandas in a future version. Use pandas.concat instead.\n",
      "  big_df =big_df.append(df)\n"
     ]
    },
    {
     "name": "stdout",
     "output_type": "stream",
     "text": [
      "2Dsz5JxEeRz0nAC0plSEMF\n"
     ]
    },
    {
     "name": "stderr",
     "output_type": "stream",
     "text": [
      "/var/folders/1n/phyrz16s0rd1_mpv046jgqf80000gn/T/ipykernel_17629/3181457209.py:28: FutureWarning: The frame.append method is deprecated and will be removed from pandas in a future version. Use pandas.concat instead.\n",
      "  big_df =big_df.append(df)\n"
     ]
    },
    {
     "name": "stdout",
     "output_type": "stream",
     "text": [
      "46bmK7CFBoQjguGbziZgub\n"
     ]
    },
    {
     "name": "stderr",
     "output_type": "stream",
     "text": [
      "/var/folders/1n/phyrz16s0rd1_mpv046jgqf80000gn/T/ipykernel_17629/3181457209.py:28: FutureWarning: The frame.append method is deprecated and will be removed from pandas in a future version. Use pandas.concat instead.\n",
      "  big_df =big_df.append(df)\n"
     ]
    },
    {
     "name": "stdout",
     "output_type": "stream",
     "text": [
      "6ZW1osX8j6S1znByXhkxAF\n"
     ]
    },
    {
     "name": "stderr",
     "output_type": "stream",
     "text": [
      "/var/folders/1n/phyrz16s0rd1_mpv046jgqf80000gn/T/ipykernel_17629/3181457209.py:28: FutureWarning: The frame.append method is deprecated and will be removed from pandas in a future version. Use pandas.concat instead.\n",
      "  big_df =big_df.append(df)\n"
     ]
    },
    {
     "name": "stdout",
     "output_type": "stream",
     "text": [
      "0SSA0QK7yBpyZngyAYsp6w\n"
     ]
    },
    {
     "name": "stderr",
     "output_type": "stream",
     "text": [
      "/var/folders/1n/phyrz16s0rd1_mpv046jgqf80000gn/T/ipykernel_17629/3181457209.py:28: FutureWarning: The frame.append method is deprecated and will be removed from pandas in a future version. Use pandas.concat instead.\n",
      "  big_df =big_df.append(df)\n"
     ]
    },
    {
     "name": "stdout",
     "output_type": "stream",
     "text": [
      "6kTzDCR055zwKksH44tCyF\n"
     ]
    },
    {
     "name": "stderr",
     "output_type": "stream",
     "text": [
      "/var/folders/1n/phyrz16s0rd1_mpv046jgqf80000gn/T/ipykernel_17629/3181457209.py:28: FutureWarning: The frame.append method is deprecated and will be removed from pandas in a future version. Use pandas.concat instead.\n",
      "  big_df =big_df.append(df)\n"
     ]
    },
    {
     "name": "stdout",
     "output_type": "stream",
     "text": [
      "6EyM9BeEm0vZvSkQyGaLkN\n"
     ]
    },
    {
     "name": "stderr",
     "output_type": "stream",
     "text": [
      "/var/folders/1n/phyrz16s0rd1_mpv046jgqf80000gn/T/ipykernel_17629/3181457209.py:28: FutureWarning: The frame.append method is deprecated and will be removed from pandas in a future version. Use pandas.concat instead.\n",
      "  big_df =big_df.append(df)\n"
     ]
    },
    {
     "name": "stdout",
     "output_type": "stream",
     "text": [
      "1frOhZBICOdl4gwwBtpscv\n"
     ]
    },
    {
     "name": "stderr",
     "output_type": "stream",
     "text": [
      "/var/folders/1n/phyrz16s0rd1_mpv046jgqf80000gn/T/ipykernel_17629/3181457209.py:28: FutureWarning: The frame.append method is deprecated and will be removed from pandas in a future version. Use pandas.concat instead.\n",
      "  big_df =big_df.append(df)\n"
     ]
    },
    {
     "name": "stdout",
     "output_type": "stream",
     "text": [
      "4ysJLFPAYAt4Uqyzo7OasJ\n"
     ]
    },
    {
     "name": "stderr",
     "output_type": "stream",
     "text": [
      "/var/folders/1n/phyrz16s0rd1_mpv046jgqf80000gn/T/ipykernel_17629/3181457209.py:28: FutureWarning: The frame.append method is deprecated and will be removed from pandas in a future version. Use pandas.concat instead.\n",
      "  big_df =big_df.append(df)\n"
     ]
    },
    {
     "name": "stdout",
     "output_type": "stream",
     "text": [
      "3vvHiLqaof4wEAUoku9n7F\n"
     ]
    },
    {
     "name": "stderr",
     "output_type": "stream",
     "text": [
      "/var/folders/1n/phyrz16s0rd1_mpv046jgqf80000gn/T/ipykernel_17629/3181457209.py:28: FutureWarning: The frame.append method is deprecated and will be removed from pandas in a future version. Use pandas.concat instead.\n",
      "  big_df =big_df.append(df)\n"
     ]
    },
    {
     "name": "stdout",
     "output_type": "stream",
     "text": [
      "4C4MIUXQzBPxXL4pb4iXb4\n"
     ]
    },
    {
     "name": "stderr",
     "output_type": "stream",
     "text": [
      "/var/folders/1n/phyrz16s0rd1_mpv046jgqf80000gn/T/ipykernel_17629/3181457209.py:28: FutureWarning: The frame.append method is deprecated and will be removed from pandas in a future version. Use pandas.concat instead.\n",
      "  big_df =big_df.append(df)\n"
     ]
    },
    {
     "name": "stdout",
     "output_type": "stream",
     "text": [
      "4lDX4W8iQAm0hTVV6TfGpp\n"
     ]
    },
    {
     "name": "stderr",
     "output_type": "stream",
     "text": [
      "/var/folders/1n/phyrz16s0rd1_mpv046jgqf80000gn/T/ipykernel_17629/3181457209.py:28: FutureWarning: The frame.append method is deprecated and will be removed from pandas in a future version. Use pandas.concat instead.\n",
      "  big_df =big_df.append(df)\n"
     ]
    },
    {
     "name": "stdout",
     "output_type": "stream",
     "text": [
      "6UhiAgqwwUoXo4JOrV104r\n"
     ]
    },
    {
     "name": "stderr",
     "output_type": "stream",
     "text": [
      "/var/folders/1n/phyrz16s0rd1_mpv046jgqf80000gn/T/ipykernel_17629/3181457209.py:28: FutureWarning: The frame.append method is deprecated and will be removed from pandas in a future version. Use pandas.concat instead.\n",
      "  big_df =big_df.append(df)\n"
     ]
    },
    {
     "name": "stdout",
     "output_type": "stream",
     "text": [
      "5wd5MOHVeiMLGLCL0UYDsK\n"
     ]
    },
    {
     "name": "stderr",
     "output_type": "stream",
     "text": [
      "/var/folders/1n/phyrz16s0rd1_mpv046jgqf80000gn/T/ipykernel_17629/3181457209.py:28: FutureWarning: The frame.append method is deprecated and will be removed from pandas in a future version. Use pandas.concat instead.\n",
      "  big_df =big_df.append(df)\n"
     ]
    },
    {
     "name": "stdout",
     "output_type": "stream",
     "text": [
      "1yvV2FiUMqxDe2rfwHzAC9\n"
     ]
    },
    {
     "name": "stderr",
     "output_type": "stream",
     "text": [
      "/var/folders/1n/phyrz16s0rd1_mpv046jgqf80000gn/T/ipykernel_17629/3181457209.py:28: FutureWarning: The frame.append method is deprecated and will be removed from pandas in a future version. Use pandas.concat instead.\n",
      "  big_df =big_df.append(df)\n"
     ]
    },
    {
     "name": "stdout",
     "output_type": "stream",
     "text": [
      "7LpTz3Uzb23hZ41ODZkKlB\n"
     ]
    },
    {
     "name": "stderr",
     "output_type": "stream",
     "text": [
      "/var/folders/1n/phyrz16s0rd1_mpv046jgqf80000gn/T/ipykernel_17629/3181457209.py:28: FutureWarning: The frame.append method is deprecated and will be removed from pandas in a future version. Use pandas.concat instead.\n",
      "  big_df =big_df.append(df)\n"
     ]
    },
    {
     "name": "stdout",
     "output_type": "stream",
     "text": [
      "6mfmE5J5KZqQpFnpOnBlcA\n"
     ]
    },
    {
     "name": "stderr",
     "output_type": "stream",
     "text": [
      "/var/folders/1n/phyrz16s0rd1_mpv046jgqf80000gn/T/ipykernel_17629/3181457209.py:28: FutureWarning: The frame.append method is deprecated and will be removed from pandas in a future version. Use pandas.concat instead.\n",
      "  big_df =big_df.append(df)\n"
     ]
    },
    {
     "name": "stdout",
     "output_type": "stream",
     "text": [
      "1ylxNfVL2l80wWwdnhcGLQ\n"
     ]
    },
    {
     "name": "stderr",
     "output_type": "stream",
     "text": [
      "/var/folders/1n/phyrz16s0rd1_mpv046jgqf80000gn/T/ipykernel_17629/3181457209.py:28: FutureWarning: The frame.append method is deprecated and will be removed from pandas in a future version. Use pandas.concat instead.\n",
      "  big_df =big_df.append(df)\n"
     ]
    },
    {
     "name": "stdout",
     "output_type": "stream",
     "text": [
      "7vqxEJr0lrlXrI8lrlhRaM\n"
     ]
    },
    {
     "name": "stderr",
     "output_type": "stream",
     "text": [
      "/var/folders/1n/phyrz16s0rd1_mpv046jgqf80000gn/T/ipykernel_17629/3181457209.py:28: FutureWarning: The frame.append method is deprecated and will be removed from pandas in a future version. Use pandas.concat instead.\n",
      "  big_df =big_df.append(df)\n"
     ]
    },
    {
     "name": "stdout",
     "output_type": "stream",
     "text": [
      "0MpkUjSC9rzQSS6VHML3pD\n"
     ]
    },
    {
     "name": "stderr",
     "output_type": "stream",
     "text": [
      "/var/folders/1n/phyrz16s0rd1_mpv046jgqf80000gn/T/ipykernel_17629/3181457209.py:28: FutureWarning: The frame.append method is deprecated and will be removed from pandas in a future version. Use pandas.concat instead.\n",
      "  big_df =big_df.append(df)\n"
     ]
    },
    {
     "name": "stdout",
     "output_type": "stream",
     "text": [
      "3FDQXSzsETVYzbrfOEEJnQ\n"
     ]
    },
    {
     "name": "stderr",
     "output_type": "stream",
     "text": [
      "/var/folders/1n/phyrz16s0rd1_mpv046jgqf80000gn/T/ipykernel_17629/3181457209.py:28: FutureWarning: The frame.append method is deprecated and will be removed from pandas in a future version. Use pandas.concat instead.\n",
      "  big_df =big_df.append(df)\n"
     ]
    },
    {
     "name": "stdout",
     "output_type": "stream",
     "text": [
      "3AcB5ov4dAX8jddis4Bafm\n"
     ]
    },
    {
     "name": "stderr",
     "output_type": "stream",
     "text": [
      "/var/folders/1n/phyrz16s0rd1_mpv046jgqf80000gn/T/ipykernel_17629/3181457209.py:28: FutureWarning: The frame.append method is deprecated and will be removed from pandas in a future version. Use pandas.concat instead.\n",
      "  big_df =big_df.append(df)\n"
     ]
    },
    {
     "name": "stdout",
     "output_type": "stream",
     "text": [
      "0YilhnE31LG93t2UQDMphK\n"
     ]
    },
    {
     "name": "stderr",
     "output_type": "stream",
     "text": [
      "/var/folders/1n/phyrz16s0rd1_mpv046jgqf80000gn/T/ipykernel_17629/3181457209.py:28: FutureWarning: The frame.append method is deprecated and will be removed from pandas in a future version. Use pandas.concat instead.\n",
      "  big_df =big_df.append(df)\n"
     ]
    },
    {
     "name": "stdout",
     "output_type": "stream",
     "text": [
      "1m3bBRIdm9WbACj6hcVpKk\n"
     ]
    },
    {
     "name": "stderr",
     "output_type": "stream",
     "text": [
      "/var/folders/1n/phyrz16s0rd1_mpv046jgqf80000gn/T/ipykernel_17629/3181457209.py:28: FutureWarning: The frame.append method is deprecated and will be removed from pandas in a future version. Use pandas.concat instead.\n",
      "  big_df =big_df.append(df)\n"
     ]
    },
    {
     "name": "stdout",
     "output_type": "stream",
     "text": [
      "5cMga6Rfi407pGSXld2E7C\n"
     ]
    },
    {
     "name": "stderr",
     "output_type": "stream",
     "text": [
      "/var/folders/1n/phyrz16s0rd1_mpv046jgqf80000gn/T/ipykernel_17629/3181457209.py:28: FutureWarning: The frame.append method is deprecated and will be removed from pandas in a future version. Use pandas.concat instead.\n",
      "  big_df =big_df.append(df)\n"
     ]
    },
    {
     "name": "stdout",
     "output_type": "stream",
     "text": [
      "13RHTjcb4k36bQu0SiYq3w\n"
     ]
    },
    {
     "name": "stderr",
     "output_type": "stream",
     "text": [
      "/var/folders/1n/phyrz16s0rd1_mpv046jgqf80000gn/T/ipykernel_17629/3181457209.py:28: FutureWarning: The frame.append method is deprecated and will be removed from pandas in a future version. Use pandas.concat instead.\n",
      "  big_df =big_df.append(df)\n"
     ]
    },
    {
     "name": "stdout",
     "output_type": "stream",
     "text": [
      "0JAXi2lxjxMJQeP4iw9bxD\n"
     ]
    },
    {
     "name": "stderr",
     "output_type": "stream",
     "text": [
      "/var/folders/1n/phyrz16s0rd1_mpv046jgqf80000gn/T/ipykernel_17629/3181457209.py:28: FutureWarning: The frame.append method is deprecated and will be removed from pandas in a future version. Use pandas.concat instead.\n",
      "  big_df =big_df.append(df)\n"
     ]
    },
    {
     "name": "stdout",
     "output_type": "stream",
     "text": [
      "3GBjj2KSHCKvn4PpWFZwRe\n"
     ]
    },
    {
     "name": "stderr",
     "output_type": "stream",
     "text": [
      "/var/folders/1n/phyrz16s0rd1_mpv046jgqf80000gn/T/ipykernel_17629/3181457209.py:28: FutureWarning: The frame.append method is deprecated and will be removed from pandas in a future version. Use pandas.concat instead.\n",
      "  big_df =big_df.append(df)\n"
     ]
    },
    {
     "name": "stdout",
     "output_type": "stream",
     "text": [
      "0NEoudfcNeCkeULzX7co9e\n"
     ]
    },
    {
     "name": "stderr",
     "output_type": "stream",
     "text": [
      "/var/folders/1n/phyrz16s0rd1_mpv046jgqf80000gn/T/ipykernel_17629/3181457209.py:28: FutureWarning: The frame.append method is deprecated and will be removed from pandas in a future version. Use pandas.concat instead.\n",
      "  big_df =big_df.append(df)\n"
     ]
    },
    {
     "name": "stdout",
     "output_type": "stream",
     "text": [
      "24RLueVXOuPDMBFnTTBogj\n"
     ]
    },
    {
     "name": "stderr",
     "output_type": "stream",
     "text": [
      "/var/folders/1n/phyrz16s0rd1_mpv046jgqf80000gn/T/ipykernel_17629/3181457209.py:28: FutureWarning: The frame.append method is deprecated and will be removed from pandas in a future version. Use pandas.concat instead.\n",
      "  big_df =big_df.append(df)\n"
     ]
    },
    {
     "name": "stdout",
     "output_type": "stream",
     "text": [
      "7yZS6e9IMeOkEzIydo1FYB\n"
     ]
    },
    {
     "name": "stderr",
     "output_type": "stream",
     "text": [
      "/var/folders/1n/phyrz16s0rd1_mpv046jgqf80000gn/T/ipykernel_17629/3181457209.py:28: FutureWarning: The frame.append method is deprecated and will be removed from pandas in a future version. Use pandas.concat instead.\n",
      "  big_df =big_df.append(df)\n"
     ]
    },
    {
     "name": "stdout",
     "output_type": "stream",
     "text": [
      "1S961pBNDi5wvBim1dcxiq\n"
     ]
    },
    {
     "name": "stderr",
     "output_type": "stream",
     "text": [
      "/var/folders/1n/phyrz16s0rd1_mpv046jgqf80000gn/T/ipykernel_17629/3181457209.py:28: FutureWarning: The frame.append method is deprecated and will be removed from pandas in a future version. Use pandas.concat instead.\n",
      "  big_df =big_df.append(df)\n"
     ]
    },
    {
     "name": "stdout",
     "output_type": "stream",
     "text": [
      "5haig3RZ6OcU4Cz6AukvXY\n"
     ]
    },
    {
     "name": "stderr",
     "output_type": "stream",
     "text": [
      "/var/folders/1n/phyrz16s0rd1_mpv046jgqf80000gn/T/ipykernel_17629/3181457209.py:28: FutureWarning: The frame.append method is deprecated and will be removed from pandas in a future version. Use pandas.concat instead.\n",
      "  big_df =big_df.append(df)\n"
     ]
    },
    {
     "name": "stdout",
     "output_type": "stream",
     "text": [
      "24TfZCTkkTn8vSMJXCkkQ8\n"
     ]
    },
    {
     "name": "stderr",
     "output_type": "stream",
     "text": [
      "/var/folders/1n/phyrz16s0rd1_mpv046jgqf80000gn/T/ipykernel_17629/3181457209.py:28: FutureWarning: The frame.append method is deprecated and will be removed from pandas in a future version. Use pandas.concat instead.\n",
      "  big_df =big_df.append(df)\n"
     ]
    },
    {
     "name": "stdout",
     "output_type": "stream",
     "text": [
      "3m3J7ebPRLBnxM9NqL9D9P\n"
     ]
    },
    {
     "name": "stderr",
     "output_type": "stream",
     "text": [
      "/var/folders/1n/phyrz16s0rd1_mpv046jgqf80000gn/T/ipykernel_17629/3181457209.py:28: FutureWarning: The frame.append method is deprecated and will be removed from pandas in a future version. Use pandas.concat instead.\n",
      "  big_df =big_df.append(df)\n"
     ]
    },
    {
     "name": "stdout",
     "output_type": "stream",
     "text": [
      "1w1dhVUAY2xFWTEQh97Lrx\n"
     ]
    },
    {
     "name": "stderr",
     "output_type": "stream",
     "text": [
      "/var/folders/1n/phyrz16s0rd1_mpv046jgqf80000gn/T/ipykernel_17629/3181457209.py:28: FutureWarning: The frame.append method is deprecated and will be removed from pandas in a future version. Use pandas.concat instead.\n",
      "  big_df =big_df.append(df)\n"
     ]
    },
    {
     "name": "stdout",
     "output_type": "stream",
     "text": [
      "0mjeWAXewFCtNv29zmHSzs\n"
     ]
    },
    {
     "name": "stderr",
     "output_type": "stream",
     "text": [
      "/var/folders/1n/phyrz16s0rd1_mpv046jgqf80000gn/T/ipykernel_17629/3181457209.py:28: FutureWarning: The frame.append method is deprecated and will be removed from pandas in a future version. Use pandas.concat instead.\n",
      "  big_df =big_df.append(df)\n"
     ]
    },
    {
     "name": "stdout",
     "output_type": "stream",
     "text": [
      "59TVx2MmmBfg0BqRc7CvqM\n"
     ]
    },
    {
     "name": "stderr",
     "output_type": "stream",
     "text": [
      "/var/folders/1n/phyrz16s0rd1_mpv046jgqf80000gn/T/ipykernel_17629/3181457209.py:28: FutureWarning: The frame.append method is deprecated and will be removed from pandas in a future version. Use pandas.concat instead.\n",
      "  big_df =big_df.append(df)\n"
     ]
    },
    {
     "name": "stdout",
     "output_type": "stream",
     "text": [
      "6qUVKIR00CpN0YBSKCeYFS\n"
     ]
    },
    {
     "name": "stderr",
     "output_type": "stream",
     "text": [
      "/var/folders/1n/phyrz16s0rd1_mpv046jgqf80000gn/T/ipykernel_17629/3181457209.py:28: FutureWarning: The frame.append method is deprecated and will be removed from pandas in a future version. Use pandas.concat instead.\n",
      "  big_df =big_df.append(df)\n"
     ]
    },
    {
     "name": "stdout",
     "output_type": "stream",
     "text": [
      "1PUbKeyQcEE5MgfdaJRsgw\n"
     ]
    },
    {
     "name": "stderr",
     "output_type": "stream",
     "text": [
      "/var/folders/1n/phyrz16s0rd1_mpv046jgqf80000gn/T/ipykernel_17629/3181457209.py:28: FutureWarning: The frame.append method is deprecated and will be removed from pandas in a future version. Use pandas.concat instead.\n",
      "  big_df =big_df.append(df)\n"
     ]
    },
    {
     "name": "stdout",
     "output_type": "stream",
     "text": [
      "7qgTJhcHV88KAk7zILiOLL\n"
     ]
    },
    {
     "name": "stderr",
     "output_type": "stream",
     "text": [
      "/var/folders/1n/phyrz16s0rd1_mpv046jgqf80000gn/T/ipykernel_17629/3181457209.py:28: FutureWarning: The frame.append method is deprecated and will be removed from pandas in a future version. Use pandas.concat instead.\n",
      "  big_df =big_df.append(df)\n"
     ]
    },
    {
     "name": "stdout",
     "output_type": "stream",
     "text": [
      "6egS6vpB5c6raIlw1v0Nx2\n"
     ]
    },
    {
     "name": "stderr",
     "output_type": "stream",
     "text": [
      "/var/folders/1n/phyrz16s0rd1_mpv046jgqf80000gn/T/ipykernel_17629/3181457209.py:28: FutureWarning: The frame.append method is deprecated and will be removed from pandas in a future version. Use pandas.concat instead.\n",
      "  big_df =big_df.append(df)\n"
     ]
    },
    {
     "name": "stdout",
     "output_type": "stream",
     "text": [
      "7AJynlDk1ALWIWobcKFPyL\n"
     ]
    },
    {
     "name": "stderr",
     "output_type": "stream",
     "text": [
      "/var/folders/1n/phyrz16s0rd1_mpv046jgqf80000gn/T/ipykernel_17629/3181457209.py:28: FutureWarning: The frame.append method is deprecated and will be removed from pandas in a future version. Use pandas.concat instead.\n",
      "  big_df =big_df.append(df)\n"
     ]
    },
    {
     "name": "stdout",
     "output_type": "stream",
     "text": [
      "51YToRmnFC3U4iPj6LgHgF\n"
     ]
    },
    {
     "name": "stderr",
     "output_type": "stream",
     "text": [
      "/var/folders/1n/phyrz16s0rd1_mpv046jgqf80000gn/T/ipykernel_17629/3181457209.py:28: FutureWarning: The frame.append method is deprecated and will be removed from pandas in a future version. Use pandas.concat instead.\n",
      "  big_df =big_df.append(df)\n"
     ]
    },
    {
     "name": "stdout",
     "output_type": "stream",
     "text": [
      "3cVAl7O4S4qAqTRFTcwN8p\n"
     ]
    },
    {
     "name": "stderr",
     "output_type": "stream",
     "text": [
      "/var/folders/1n/phyrz16s0rd1_mpv046jgqf80000gn/T/ipykernel_17629/3181457209.py:28: FutureWarning: The frame.append method is deprecated and will be removed from pandas in a future version. Use pandas.concat instead.\n",
      "  big_df =big_df.append(df)\n"
     ]
    },
    {
     "name": "stdout",
     "output_type": "stream",
     "text": [
      "17TwTPITOWP0Ep9joASCrm\n"
     ]
    },
    {
     "name": "stderr",
     "output_type": "stream",
     "text": [
      "/var/folders/1n/phyrz16s0rd1_mpv046jgqf80000gn/T/ipykernel_17629/3181457209.py:28: FutureWarning: The frame.append method is deprecated and will be removed from pandas in a future version. Use pandas.concat instead.\n",
      "  big_df =big_df.append(df)\n"
     ]
    },
    {
     "name": "stdout",
     "output_type": "stream",
     "text": [
      "6yZn81v1jP6Phi9S0tm4At\n"
     ]
    },
    {
     "name": "stderr",
     "output_type": "stream",
     "text": [
      "/var/folders/1n/phyrz16s0rd1_mpv046jgqf80000gn/T/ipykernel_17629/3181457209.py:28: FutureWarning: The frame.append method is deprecated and will be removed from pandas in a future version. Use pandas.concat instead.\n",
      "  big_df =big_df.append(df)\n"
     ]
    },
    {
     "name": "stdout",
     "output_type": "stream",
     "text": [
      "0zJrEnj3O8CohOpFFUVSo9\n"
     ]
    },
    {
     "name": "stderr",
     "output_type": "stream",
     "text": [
      "/var/folders/1n/phyrz16s0rd1_mpv046jgqf80000gn/T/ipykernel_17629/3181457209.py:28: FutureWarning: The frame.append method is deprecated and will be removed from pandas in a future version. Use pandas.concat instead.\n",
      "  big_df =big_df.append(df)\n"
     ]
    },
    {
     "name": "stdout",
     "output_type": "stream",
     "text": [
      "4oPolfh8FnsAavGG0gvIW1\n"
     ]
    },
    {
     "name": "stderr",
     "output_type": "stream",
     "text": [
      "/var/folders/1n/phyrz16s0rd1_mpv046jgqf80000gn/T/ipykernel_17629/3181457209.py:28: FutureWarning: The frame.append method is deprecated and will be removed from pandas in a future version. Use pandas.concat instead.\n",
      "  big_df =big_df.append(df)\n"
     ]
    },
    {
     "name": "stdout",
     "output_type": "stream",
     "text": [
      "2dSueCb8JMaLfE3GQvIz6w\n"
     ]
    },
    {
     "name": "stderr",
     "output_type": "stream",
     "text": [
      "/var/folders/1n/phyrz16s0rd1_mpv046jgqf80000gn/T/ipykernel_17629/3181457209.py:28: FutureWarning: The frame.append method is deprecated and will be removed from pandas in a future version. Use pandas.concat instead.\n",
      "  big_df =big_df.append(df)\n"
     ]
    },
    {
     "name": "stdout",
     "output_type": "stream",
     "text": [
      "2TZYaVQjU4v0HIzwOsgo0E\n"
     ]
    },
    {
     "name": "stderr",
     "output_type": "stream",
     "text": [
      "/var/folders/1n/phyrz16s0rd1_mpv046jgqf80000gn/T/ipykernel_17629/3181457209.py:28: FutureWarning: The frame.append method is deprecated and will be removed from pandas in a future version. Use pandas.concat instead.\n",
      "  big_df =big_df.append(df)\n"
     ]
    },
    {
     "name": "stdout",
     "output_type": "stream",
     "text": [
      "3QZvuSCrACnSqpsEFaigEw\n"
     ]
    },
    {
     "name": "stderr",
     "output_type": "stream",
     "text": [
      "/var/folders/1n/phyrz16s0rd1_mpv046jgqf80000gn/T/ipykernel_17629/3181457209.py:28: FutureWarning: The frame.append method is deprecated and will be removed from pandas in a future version. Use pandas.concat instead.\n",
      "  big_df =big_df.append(df)\n"
     ]
    },
    {
     "name": "stdout",
     "output_type": "stream",
     "text": [
      "0N0ulKJ2oY3YjckMYMqyJn\n"
     ]
    },
    {
     "name": "stderr",
     "output_type": "stream",
     "text": [
      "/var/folders/1n/phyrz16s0rd1_mpv046jgqf80000gn/T/ipykernel_17629/3181457209.py:28: FutureWarning: The frame.append method is deprecated and will be removed from pandas in a future version. Use pandas.concat instead.\n",
      "  big_df =big_df.append(df)\n"
     ]
    },
    {
     "name": "stdout",
     "output_type": "stream",
     "text": [
      "6TChfUHNG9wRr4bmIRJvNV\n"
     ]
    },
    {
     "name": "stderr",
     "output_type": "stream",
     "text": [
      "/var/folders/1n/phyrz16s0rd1_mpv046jgqf80000gn/T/ipykernel_17629/3181457209.py:28: FutureWarning: The frame.append method is deprecated and will be removed from pandas in a future version. Use pandas.concat instead.\n",
      "  big_df =big_df.append(df)\n"
     ]
    },
    {
     "name": "stdout",
     "output_type": "stream",
     "text": [
      "2NXy82Atoz6QzvmxQ0rir3\n"
     ]
    },
    {
     "name": "stderr",
     "output_type": "stream",
     "text": [
      "/var/folders/1n/phyrz16s0rd1_mpv046jgqf80000gn/T/ipykernel_17629/3181457209.py:28: FutureWarning: The frame.append method is deprecated and will be removed from pandas in a future version. Use pandas.concat instead.\n",
      "  big_df =big_df.append(df)\n"
     ]
    },
    {
     "name": "stdout",
     "output_type": "stream",
     "text": [
      "6BMz3GRTJ0ykYZzCtyFrcV\n"
     ]
    },
    {
     "name": "stderr",
     "output_type": "stream",
     "text": [
      "/var/folders/1n/phyrz16s0rd1_mpv046jgqf80000gn/T/ipykernel_17629/3181457209.py:28: FutureWarning: The frame.append method is deprecated and will be removed from pandas in a future version. Use pandas.concat instead.\n",
      "  big_df =big_df.append(df)\n"
     ]
    },
    {
     "name": "stdout",
     "output_type": "stream",
     "text": [
      "24UeBVPHdmORN5JOPIZiuV\n"
     ]
    },
    {
     "name": "stderr",
     "output_type": "stream",
     "text": [
      "/var/folders/1n/phyrz16s0rd1_mpv046jgqf80000gn/T/ipykernel_17629/3181457209.py:28: FutureWarning: The frame.append method is deprecated and will be removed from pandas in a future version. Use pandas.concat instead.\n",
      "  big_df =big_df.append(df)\n"
     ]
    },
    {
     "name": "stdout",
     "output_type": "stream",
     "text": [
      "1YhJWPt44wBUVMiioF1G4i\n"
     ]
    },
    {
     "name": "stderr",
     "output_type": "stream",
     "text": [
      "/var/folders/1n/phyrz16s0rd1_mpv046jgqf80000gn/T/ipykernel_17629/3181457209.py:28: FutureWarning: The frame.append method is deprecated and will be removed from pandas in a future version. Use pandas.concat instead.\n",
      "  big_df =big_df.append(df)\n"
     ]
    },
    {
     "name": "stdout",
     "output_type": "stream",
     "text": [
      "4ex3MtrvMThnpygNXuecbS\n"
     ]
    },
    {
     "name": "stderr",
     "output_type": "stream",
     "text": [
      "/var/folders/1n/phyrz16s0rd1_mpv046jgqf80000gn/T/ipykernel_17629/3181457209.py:28: FutureWarning: The frame.append method is deprecated and will be removed from pandas in a future version. Use pandas.concat instead.\n",
      "  big_df =big_df.append(df)\n"
     ]
    },
    {
     "name": "stdout",
     "output_type": "stream",
     "text": [
      "4ZtDa9oO5dpvF5L5dE977c\n"
     ]
    },
    {
     "name": "stderr",
     "output_type": "stream",
     "text": [
      "/var/folders/1n/phyrz16s0rd1_mpv046jgqf80000gn/T/ipykernel_17629/3181457209.py:28: FutureWarning: The frame.append method is deprecated and will be removed from pandas in a future version. Use pandas.concat instead.\n",
      "  big_df =big_df.append(df)\n"
     ]
    },
    {
     "name": "stdout",
     "output_type": "stream",
     "text": [
      "2tOnLiRR4UNjLEewu0OEYC\n"
     ]
    },
    {
     "name": "stderr",
     "output_type": "stream",
     "text": [
      "/var/folders/1n/phyrz16s0rd1_mpv046jgqf80000gn/T/ipykernel_17629/3181457209.py:28: FutureWarning: The frame.append method is deprecated and will be removed from pandas in a future version. Use pandas.concat instead.\n",
      "  big_df =big_df.append(df)\n"
     ]
    },
    {
     "name": "stdout",
     "output_type": "stream",
     "text": [
      "0AfJlTZlS2vAljOovY9Fag\n"
     ]
    },
    {
     "name": "stderr",
     "output_type": "stream",
     "text": [
      "/var/folders/1n/phyrz16s0rd1_mpv046jgqf80000gn/T/ipykernel_17629/3181457209.py:28: FutureWarning: The frame.append method is deprecated and will be removed from pandas in a future version. Use pandas.concat instead.\n",
      "  big_df =big_df.append(df)\n"
     ]
    },
    {
     "name": "stdout",
     "output_type": "stream",
     "text": [
      "2qBRZvImPQjF7KXej3YmHz\n"
     ]
    },
    {
     "name": "stderr",
     "output_type": "stream",
     "text": [
      "/var/folders/1n/phyrz16s0rd1_mpv046jgqf80000gn/T/ipykernel_17629/3181457209.py:28: FutureWarning: The frame.append method is deprecated and will be removed from pandas in a future version. Use pandas.concat instead.\n",
      "  big_df =big_df.append(df)\n"
     ]
    },
    {
     "name": "stdout",
     "output_type": "stream",
     "text": [
      "5q1J1NDNRmql9eRdW2FFOY\n"
     ]
    },
    {
     "name": "stderr",
     "output_type": "stream",
     "text": [
      "/var/folders/1n/phyrz16s0rd1_mpv046jgqf80000gn/T/ipykernel_17629/3181457209.py:28: FutureWarning: The frame.append method is deprecated and will be removed from pandas in a future version. Use pandas.concat instead.\n",
      "  big_df =big_df.append(df)\n"
     ]
    },
    {
     "name": "stdout",
     "output_type": "stream",
     "text": [
      "2SMDVBkKqnZL9AoUWaZ2qs\n"
     ]
    },
    {
     "name": "stderr",
     "output_type": "stream",
     "text": [
      "/var/folders/1n/phyrz16s0rd1_mpv046jgqf80000gn/T/ipykernel_17629/3181457209.py:28: FutureWarning: The frame.append method is deprecated and will be removed from pandas in a future version. Use pandas.concat instead.\n",
      "  big_df =big_df.append(df)\n"
     ]
    },
    {
     "name": "stdout",
     "output_type": "stream",
     "text": [
      "5OzAgYmdiqJKWjGvX7cP4Q\n"
     ]
    },
    {
     "ename": "ReadTimeout",
     "evalue": "HTTPSConnectionPool(host='api.spotify.com', port=443): Read timed out. (read timeout=5)",
     "output_type": "error",
     "traceback": [
      "\u001b[0;31m---------------------------------------------------------------------------\u001b[0m",
      "\u001b[0;31mtimeout\u001b[0m                                   Traceback (most recent call last)",
      "File \u001b[0;32m~/opt/anaconda3/lib/python3.9/site-packages/urllib3/connectionpool.py:449\u001b[0m, in \u001b[0;36mHTTPConnectionPool._make_request\u001b[0;34m(self, conn, method, url, timeout, chunked, **httplib_request_kw)\u001b[0m\n\u001b[1;32m    445\u001b[0m         \u001b[38;5;28;01mexcept\u001b[39;00m \u001b[38;5;167;01mBaseException\u001b[39;00m \u001b[38;5;28;01mas\u001b[39;00m e:\n\u001b[1;32m    446\u001b[0m             \u001b[38;5;66;03m# Remove the TypeError from the exception chain in\u001b[39;00m\n\u001b[1;32m    447\u001b[0m             \u001b[38;5;66;03m# Python 3 (including for exceptions like SystemExit).\u001b[39;00m\n\u001b[1;32m    448\u001b[0m             \u001b[38;5;66;03m# Otherwise it looks like a bug in the code.\u001b[39;00m\n\u001b[0;32m--> 449\u001b[0m             \u001b[43msix\u001b[49m\u001b[38;5;241;43m.\u001b[39;49m\u001b[43mraise_from\u001b[49m\u001b[43m(\u001b[49m\u001b[43me\u001b[49m\u001b[43m,\u001b[49m\u001b[43m \u001b[49m\u001b[38;5;28;43;01mNone\u001b[39;49;00m\u001b[43m)\u001b[49m\n\u001b[1;32m    450\u001b[0m \u001b[38;5;28;01mexcept\u001b[39;00m (SocketTimeout, BaseSSLError, SocketError) \u001b[38;5;28;01mas\u001b[39;00m e:\n",
      "File \u001b[0;32m<string>:3\u001b[0m, in \u001b[0;36mraise_from\u001b[0;34m(value, from_value)\u001b[0m\n",
      "File \u001b[0;32m~/opt/anaconda3/lib/python3.9/site-packages/urllib3/connectionpool.py:444\u001b[0m, in \u001b[0;36mHTTPConnectionPool._make_request\u001b[0;34m(self, conn, method, url, timeout, chunked, **httplib_request_kw)\u001b[0m\n\u001b[1;32m    443\u001b[0m \u001b[38;5;28;01mtry\u001b[39;00m:\n\u001b[0;32m--> 444\u001b[0m     httplib_response \u001b[38;5;241m=\u001b[39m \u001b[43mconn\u001b[49m\u001b[38;5;241;43m.\u001b[39;49m\u001b[43mgetresponse\u001b[49m\u001b[43m(\u001b[49m\u001b[43m)\u001b[49m\n\u001b[1;32m    445\u001b[0m \u001b[38;5;28;01mexcept\u001b[39;00m \u001b[38;5;167;01mBaseException\u001b[39;00m \u001b[38;5;28;01mas\u001b[39;00m e:\n\u001b[1;32m    446\u001b[0m     \u001b[38;5;66;03m# Remove the TypeError from the exception chain in\u001b[39;00m\n\u001b[1;32m    447\u001b[0m     \u001b[38;5;66;03m# Python 3 (including for exceptions like SystemExit).\u001b[39;00m\n\u001b[1;32m    448\u001b[0m     \u001b[38;5;66;03m# Otherwise it looks like a bug in the code.\u001b[39;00m\n",
      "File \u001b[0;32m~/opt/anaconda3/lib/python3.9/http/client.py:1377\u001b[0m, in \u001b[0;36mHTTPConnection.getresponse\u001b[0;34m(self)\u001b[0m\n\u001b[1;32m   1376\u001b[0m \u001b[38;5;28;01mtry\u001b[39;00m:\n\u001b[0;32m-> 1377\u001b[0m     \u001b[43mresponse\u001b[49m\u001b[38;5;241;43m.\u001b[39;49m\u001b[43mbegin\u001b[49m\u001b[43m(\u001b[49m\u001b[43m)\u001b[49m\n\u001b[1;32m   1378\u001b[0m \u001b[38;5;28;01mexcept\u001b[39;00m \u001b[38;5;167;01mConnectionError\u001b[39;00m:\n",
      "File \u001b[0;32m~/opt/anaconda3/lib/python3.9/http/client.py:320\u001b[0m, in \u001b[0;36mHTTPResponse.begin\u001b[0;34m(self)\u001b[0m\n\u001b[1;32m    319\u001b[0m \u001b[38;5;28;01mwhile\u001b[39;00m \u001b[38;5;28;01mTrue\u001b[39;00m:\n\u001b[0;32m--> 320\u001b[0m     version, status, reason \u001b[38;5;241m=\u001b[39m \u001b[38;5;28;43mself\u001b[39;49m\u001b[38;5;241;43m.\u001b[39;49m\u001b[43m_read_status\u001b[49m\u001b[43m(\u001b[49m\u001b[43m)\u001b[49m\n\u001b[1;32m    321\u001b[0m     \u001b[38;5;28;01mif\u001b[39;00m status \u001b[38;5;241m!=\u001b[39m CONTINUE:\n",
      "File \u001b[0;32m~/opt/anaconda3/lib/python3.9/http/client.py:281\u001b[0m, in \u001b[0;36mHTTPResponse._read_status\u001b[0;34m(self)\u001b[0m\n\u001b[1;32m    280\u001b[0m \u001b[38;5;28;01mdef\u001b[39;00m \u001b[38;5;21m_read_status\u001b[39m(\u001b[38;5;28mself\u001b[39m):\n\u001b[0;32m--> 281\u001b[0m     line \u001b[38;5;241m=\u001b[39m \u001b[38;5;28mstr\u001b[39m(\u001b[38;5;28;43mself\u001b[39;49m\u001b[38;5;241;43m.\u001b[39;49m\u001b[43mfp\u001b[49m\u001b[38;5;241;43m.\u001b[39;49m\u001b[43mreadline\u001b[49m\u001b[43m(\u001b[49m\u001b[43m_MAXLINE\u001b[49m\u001b[43m \u001b[49m\u001b[38;5;241;43m+\u001b[39;49m\u001b[43m \u001b[49m\u001b[38;5;241;43m1\u001b[39;49m\u001b[43m)\u001b[49m, \u001b[38;5;124m\"\u001b[39m\u001b[38;5;124miso-8859-1\u001b[39m\u001b[38;5;124m\"\u001b[39m)\n\u001b[1;32m    282\u001b[0m     \u001b[38;5;28;01mif\u001b[39;00m \u001b[38;5;28mlen\u001b[39m(line) \u001b[38;5;241m>\u001b[39m _MAXLINE:\n",
      "File \u001b[0;32m~/opt/anaconda3/lib/python3.9/socket.py:704\u001b[0m, in \u001b[0;36mSocketIO.readinto\u001b[0;34m(self, b)\u001b[0m\n\u001b[1;32m    703\u001b[0m \u001b[38;5;28;01mtry\u001b[39;00m:\n\u001b[0;32m--> 704\u001b[0m     \u001b[38;5;28;01mreturn\u001b[39;00m \u001b[38;5;28;43mself\u001b[39;49m\u001b[38;5;241;43m.\u001b[39;49m\u001b[43m_sock\u001b[49m\u001b[38;5;241;43m.\u001b[39;49m\u001b[43mrecv_into\u001b[49m\u001b[43m(\u001b[49m\u001b[43mb\u001b[49m\u001b[43m)\u001b[49m\n\u001b[1;32m    705\u001b[0m \u001b[38;5;28;01mexcept\u001b[39;00m timeout:\n",
      "File \u001b[0;32m~/opt/anaconda3/lib/python3.9/ssl.py:1241\u001b[0m, in \u001b[0;36mSSLSocket.recv_into\u001b[0;34m(self, buffer, nbytes, flags)\u001b[0m\n\u001b[1;32m   1238\u001b[0m         \u001b[38;5;28;01mraise\u001b[39;00m \u001b[38;5;167;01mValueError\u001b[39;00m(\n\u001b[1;32m   1239\u001b[0m           \u001b[38;5;124m\"\u001b[39m\u001b[38;5;124mnon-zero flags not allowed in calls to recv_into() on \u001b[39m\u001b[38;5;132;01m%s\u001b[39;00m\u001b[38;5;124m\"\u001b[39m \u001b[38;5;241m%\u001b[39m\n\u001b[1;32m   1240\u001b[0m           \u001b[38;5;28mself\u001b[39m\u001b[38;5;241m.\u001b[39m\u001b[38;5;18m__class__\u001b[39m)\n\u001b[0;32m-> 1241\u001b[0m     \u001b[38;5;28;01mreturn\u001b[39;00m \u001b[38;5;28;43mself\u001b[39;49m\u001b[38;5;241;43m.\u001b[39;49m\u001b[43mread\u001b[49m\u001b[43m(\u001b[49m\u001b[43mnbytes\u001b[49m\u001b[43m,\u001b[49m\u001b[43m \u001b[49m\u001b[43mbuffer\u001b[49m\u001b[43m)\u001b[49m\n\u001b[1;32m   1242\u001b[0m \u001b[38;5;28;01melse\u001b[39;00m:\n",
      "File \u001b[0;32m~/opt/anaconda3/lib/python3.9/ssl.py:1099\u001b[0m, in \u001b[0;36mSSLSocket.read\u001b[0;34m(self, len, buffer)\u001b[0m\n\u001b[1;32m   1098\u001b[0m \u001b[38;5;28;01mif\u001b[39;00m buffer \u001b[38;5;129;01mis\u001b[39;00m \u001b[38;5;129;01mnot\u001b[39;00m \u001b[38;5;28;01mNone\u001b[39;00m:\n\u001b[0;32m-> 1099\u001b[0m     \u001b[38;5;28;01mreturn\u001b[39;00m \u001b[38;5;28;43mself\u001b[39;49m\u001b[38;5;241;43m.\u001b[39;49m\u001b[43m_sslobj\u001b[49m\u001b[38;5;241;43m.\u001b[39;49m\u001b[43mread\u001b[49m\u001b[43m(\u001b[49m\u001b[38;5;28;43mlen\u001b[39;49m\u001b[43m,\u001b[49m\u001b[43m \u001b[49m\u001b[43mbuffer\u001b[49m\u001b[43m)\u001b[49m\n\u001b[1;32m   1100\u001b[0m \u001b[38;5;28;01melse\u001b[39;00m:\n",
      "\u001b[0;31mtimeout\u001b[0m: The read operation timed out",
      "\nDuring handling of the above exception, another exception occurred:\n",
      "\u001b[0;31mReadTimeoutError\u001b[0m                          Traceback (most recent call last)",
      "File \u001b[0;32m~/opt/anaconda3/lib/python3.9/site-packages/requests/adapters.py:440\u001b[0m, in \u001b[0;36mHTTPAdapter.send\u001b[0;34m(self, request, stream, timeout, verify, cert, proxies)\u001b[0m\n\u001b[1;32m    439\u001b[0m \u001b[38;5;28;01mif\u001b[39;00m \u001b[38;5;129;01mnot\u001b[39;00m chunked:\n\u001b[0;32m--> 440\u001b[0m     resp \u001b[38;5;241m=\u001b[39m \u001b[43mconn\u001b[49m\u001b[38;5;241;43m.\u001b[39;49m\u001b[43murlopen\u001b[49m\u001b[43m(\u001b[49m\n\u001b[1;32m    441\u001b[0m \u001b[43m        \u001b[49m\u001b[43mmethod\u001b[49m\u001b[38;5;241;43m=\u001b[39;49m\u001b[43mrequest\u001b[49m\u001b[38;5;241;43m.\u001b[39;49m\u001b[43mmethod\u001b[49m\u001b[43m,\u001b[49m\n\u001b[1;32m    442\u001b[0m \u001b[43m        \u001b[49m\u001b[43murl\u001b[49m\u001b[38;5;241;43m=\u001b[39;49m\u001b[43murl\u001b[49m\u001b[43m,\u001b[49m\n\u001b[1;32m    443\u001b[0m \u001b[43m        \u001b[49m\u001b[43mbody\u001b[49m\u001b[38;5;241;43m=\u001b[39;49m\u001b[43mrequest\u001b[49m\u001b[38;5;241;43m.\u001b[39;49m\u001b[43mbody\u001b[49m\u001b[43m,\u001b[49m\n\u001b[1;32m    444\u001b[0m \u001b[43m        \u001b[49m\u001b[43mheaders\u001b[49m\u001b[38;5;241;43m=\u001b[39;49m\u001b[43mrequest\u001b[49m\u001b[38;5;241;43m.\u001b[39;49m\u001b[43mheaders\u001b[49m\u001b[43m,\u001b[49m\n\u001b[1;32m    445\u001b[0m \u001b[43m        \u001b[49m\u001b[43mredirect\u001b[49m\u001b[38;5;241;43m=\u001b[39;49m\u001b[38;5;28;43;01mFalse\u001b[39;49;00m\u001b[43m,\u001b[49m\n\u001b[1;32m    446\u001b[0m \u001b[43m        \u001b[49m\u001b[43massert_same_host\u001b[49m\u001b[38;5;241;43m=\u001b[39;49m\u001b[38;5;28;43;01mFalse\u001b[39;49;00m\u001b[43m,\u001b[49m\n\u001b[1;32m    447\u001b[0m \u001b[43m        \u001b[49m\u001b[43mpreload_content\u001b[49m\u001b[38;5;241;43m=\u001b[39;49m\u001b[38;5;28;43;01mFalse\u001b[39;49;00m\u001b[43m,\u001b[49m\n\u001b[1;32m    448\u001b[0m \u001b[43m        \u001b[49m\u001b[43mdecode_content\u001b[49m\u001b[38;5;241;43m=\u001b[39;49m\u001b[38;5;28;43;01mFalse\u001b[39;49;00m\u001b[43m,\u001b[49m\n\u001b[1;32m    449\u001b[0m \u001b[43m        \u001b[49m\u001b[43mretries\u001b[49m\u001b[38;5;241;43m=\u001b[39;49m\u001b[38;5;28;43mself\u001b[39;49m\u001b[38;5;241;43m.\u001b[39;49m\u001b[43mmax_retries\u001b[49m\u001b[43m,\u001b[49m\n\u001b[1;32m    450\u001b[0m \u001b[43m        \u001b[49m\u001b[43mtimeout\u001b[49m\u001b[38;5;241;43m=\u001b[39;49m\u001b[43mtimeout\u001b[49m\n\u001b[1;32m    451\u001b[0m \u001b[43m    \u001b[49m\u001b[43m)\u001b[49m\n\u001b[1;32m    453\u001b[0m \u001b[38;5;66;03m# Send the request.\u001b[39;00m\n\u001b[1;32m    454\u001b[0m \u001b[38;5;28;01melse\u001b[39;00m:\n",
      "File \u001b[0;32m~/opt/anaconda3/lib/python3.9/site-packages/urllib3/connectionpool.py:785\u001b[0m, in \u001b[0;36mHTTPConnectionPool.urlopen\u001b[0;34m(self, method, url, body, headers, retries, redirect, assert_same_host, timeout, pool_timeout, release_conn, chunked, body_pos, **response_kw)\u001b[0m\n\u001b[1;32m    783\u001b[0m     e \u001b[38;5;241m=\u001b[39m ProtocolError(\u001b[38;5;124m\"\u001b[39m\u001b[38;5;124mConnection aborted.\u001b[39m\u001b[38;5;124m\"\u001b[39m, e)\n\u001b[0;32m--> 785\u001b[0m retries \u001b[38;5;241m=\u001b[39m \u001b[43mretries\u001b[49m\u001b[38;5;241;43m.\u001b[39;49m\u001b[43mincrement\u001b[49m\u001b[43m(\u001b[49m\n\u001b[1;32m    786\u001b[0m \u001b[43m    \u001b[49m\u001b[43mmethod\u001b[49m\u001b[43m,\u001b[49m\u001b[43m \u001b[49m\u001b[43murl\u001b[49m\u001b[43m,\u001b[49m\u001b[43m \u001b[49m\u001b[43merror\u001b[49m\u001b[38;5;241;43m=\u001b[39;49m\u001b[43me\u001b[49m\u001b[43m,\u001b[49m\u001b[43m \u001b[49m\u001b[43m_pool\u001b[49m\u001b[38;5;241;43m=\u001b[39;49m\u001b[38;5;28;43mself\u001b[39;49m\u001b[43m,\u001b[49m\u001b[43m \u001b[49m\u001b[43m_stacktrace\u001b[49m\u001b[38;5;241;43m=\u001b[39;49m\u001b[43msys\u001b[49m\u001b[38;5;241;43m.\u001b[39;49m\u001b[43mexc_info\u001b[49m\u001b[43m(\u001b[49m\u001b[43m)\u001b[49m\u001b[43m[\u001b[49m\u001b[38;5;241;43m2\u001b[39;49m\u001b[43m]\u001b[49m\n\u001b[1;32m    787\u001b[0m \u001b[43m\u001b[49m\u001b[43m)\u001b[49m\n\u001b[1;32m    788\u001b[0m retries\u001b[38;5;241m.\u001b[39msleep()\n",
      "File \u001b[0;32m~/opt/anaconda3/lib/python3.9/site-packages/urllib3/util/retry.py:550\u001b[0m, in \u001b[0;36mRetry.increment\u001b[0;34m(self, method, url, response, error, _pool, _stacktrace)\u001b[0m\n\u001b[1;32m    549\u001b[0m \u001b[38;5;28;01mif\u001b[39;00m read \u001b[38;5;129;01mis\u001b[39;00m \u001b[38;5;28;01mFalse\u001b[39;00m \u001b[38;5;129;01mor\u001b[39;00m \u001b[38;5;129;01mnot\u001b[39;00m \u001b[38;5;28mself\u001b[39m\u001b[38;5;241m.\u001b[39m_is_method_retryable(method):\n\u001b[0;32m--> 550\u001b[0m     \u001b[38;5;28;01mraise\u001b[39;00m \u001b[43msix\u001b[49m\u001b[38;5;241;43m.\u001b[39;49m\u001b[43mreraise\u001b[49m\u001b[43m(\u001b[49m\u001b[38;5;28;43mtype\u001b[39;49m\u001b[43m(\u001b[49m\u001b[43merror\u001b[49m\u001b[43m)\u001b[49m\u001b[43m,\u001b[49m\u001b[43m \u001b[49m\u001b[43merror\u001b[49m\u001b[43m,\u001b[49m\u001b[43m \u001b[49m\u001b[43m_stacktrace\u001b[49m\u001b[43m)\u001b[49m\n\u001b[1;32m    551\u001b[0m \u001b[38;5;28;01melif\u001b[39;00m read \u001b[38;5;129;01mis\u001b[39;00m \u001b[38;5;129;01mnot\u001b[39;00m \u001b[38;5;28;01mNone\u001b[39;00m:\n",
      "File \u001b[0;32m~/opt/anaconda3/lib/python3.9/site-packages/urllib3/packages/six.py:770\u001b[0m, in \u001b[0;36mreraise\u001b[0;34m(tp, value, tb)\u001b[0m\n\u001b[1;32m    769\u001b[0m         \u001b[38;5;28;01mraise\u001b[39;00m value\u001b[38;5;241m.\u001b[39mwith_traceback(tb)\n\u001b[0;32m--> 770\u001b[0m     \u001b[38;5;28;01mraise\u001b[39;00m value\n\u001b[1;32m    771\u001b[0m \u001b[38;5;28;01mfinally\u001b[39;00m:\n",
      "File \u001b[0;32m~/opt/anaconda3/lib/python3.9/site-packages/urllib3/connectionpool.py:703\u001b[0m, in \u001b[0;36mHTTPConnectionPool.urlopen\u001b[0;34m(self, method, url, body, headers, retries, redirect, assert_same_host, timeout, pool_timeout, release_conn, chunked, body_pos, **response_kw)\u001b[0m\n\u001b[1;32m    702\u001b[0m \u001b[38;5;66;03m# Make the request on the httplib connection object.\u001b[39;00m\n\u001b[0;32m--> 703\u001b[0m httplib_response \u001b[38;5;241m=\u001b[39m \u001b[38;5;28;43mself\u001b[39;49m\u001b[38;5;241;43m.\u001b[39;49m\u001b[43m_make_request\u001b[49m\u001b[43m(\u001b[49m\n\u001b[1;32m    704\u001b[0m \u001b[43m    \u001b[49m\u001b[43mconn\u001b[49m\u001b[43m,\u001b[49m\n\u001b[1;32m    705\u001b[0m \u001b[43m    \u001b[49m\u001b[43mmethod\u001b[49m\u001b[43m,\u001b[49m\n\u001b[1;32m    706\u001b[0m \u001b[43m    \u001b[49m\u001b[43murl\u001b[49m\u001b[43m,\u001b[49m\n\u001b[1;32m    707\u001b[0m \u001b[43m    \u001b[49m\u001b[43mtimeout\u001b[49m\u001b[38;5;241;43m=\u001b[39;49m\u001b[43mtimeout_obj\u001b[49m\u001b[43m,\u001b[49m\n\u001b[1;32m    708\u001b[0m \u001b[43m    \u001b[49m\u001b[43mbody\u001b[49m\u001b[38;5;241;43m=\u001b[39;49m\u001b[43mbody\u001b[49m\u001b[43m,\u001b[49m\n\u001b[1;32m    709\u001b[0m \u001b[43m    \u001b[49m\u001b[43mheaders\u001b[49m\u001b[38;5;241;43m=\u001b[39;49m\u001b[43mheaders\u001b[49m\u001b[43m,\u001b[49m\n\u001b[1;32m    710\u001b[0m \u001b[43m    \u001b[49m\u001b[43mchunked\u001b[49m\u001b[38;5;241;43m=\u001b[39;49m\u001b[43mchunked\u001b[49m\u001b[43m,\u001b[49m\n\u001b[1;32m    711\u001b[0m \u001b[43m\u001b[49m\u001b[43m)\u001b[49m\n\u001b[1;32m    713\u001b[0m \u001b[38;5;66;03m# If we're going to release the connection in ``finally:``, then\u001b[39;00m\n\u001b[1;32m    714\u001b[0m \u001b[38;5;66;03m# the response doesn't need to know about the connection. Otherwise\u001b[39;00m\n\u001b[1;32m    715\u001b[0m \u001b[38;5;66;03m# it will also try to release it and we'll have a double-release\u001b[39;00m\n\u001b[1;32m    716\u001b[0m \u001b[38;5;66;03m# mess.\u001b[39;00m\n",
      "File \u001b[0;32m~/opt/anaconda3/lib/python3.9/site-packages/urllib3/connectionpool.py:451\u001b[0m, in \u001b[0;36mHTTPConnectionPool._make_request\u001b[0;34m(self, conn, method, url, timeout, chunked, **httplib_request_kw)\u001b[0m\n\u001b[1;32m    450\u001b[0m \u001b[38;5;28;01mexcept\u001b[39;00m (SocketTimeout, BaseSSLError, SocketError) \u001b[38;5;28;01mas\u001b[39;00m e:\n\u001b[0;32m--> 451\u001b[0m     \u001b[38;5;28;43mself\u001b[39;49m\u001b[38;5;241;43m.\u001b[39;49m\u001b[43m_raise_timeout\u001b[49m\u001b[43m(\u001b[49m\u001b[43merr\u001b[49m\u001b[38;5;241;43m=\u001b[39;49m\u001b[43me\u001b[49m\u001b[43m,\u001b[49m\u001b[43m \u001b[49m\u001b[43murl\u001b[49m\u001b[38;5;241;43m=\u001b[39;49m\u001b[43murl\u001b[49m\u001b[43m,\u001b[49m\u001b[43m \u001b[49m\u001b[43mtimeout_value\u001b[49m\u001b[38;5;241;43m=\u001b[39;49m\u001b[43mread_timeout\u001b[49m\u001b[43m)\u001b[49m\n\u001b[1;32m    452\u001b[0m     \u001b[38;5;28;01mraise\u001b[39;00m\n",
      "File \u001b[0;32m~/opt/anaconda3/lib/python3.9/site-packages/urllib3/connectionpool.py:340\u001b[0m, in \u001b[0;36mHTTPConnectionPool._raise_timeout\u001b[0;34m(self, err, url, timeout_value)\u001b[0m\n\u001b[1;32m    339\u001b[0m \u001b[38;5;28;01mif\u001b[39;00m \u001b[38;5;28misinstance\u001b[39m(err, SocketTimeout):\n\u001b[0;32m--> 340\u001b[0m     \u001b[38;5;28;01mraise\u001b[39;00m ReadTimeoutError(\n\u001b[1;32m    341\u001b[0m         \u001b[38;5;28mself\u001b[39m, url, \u001b[38;5;124m\"\u001b[39m\u001b[38;5;124mRead timed out. (read timeout=\u001b[39m\u001b[38;5;132;01m%s\u001b[39;00m\u001b[38;5;124m)\u001b[39m\u001b[38;5;124m\"\u001b[39m \u001b[38;5;241m%\u001b[39m timeout_value\n\u001b[1;32m    342\u001b[0m     )\n\u001b[1;32m    344\u001b[0m \u001b[38;5;66;03m# See the above comment about EAGAIN in Python 3. In Python 2 we have\u001b[39;00m\n\u001b[1;32m    345\u001b[0m \u001b[38;5;66;03m# to specifically catch it and throw the timeout error\u001b[39;00m\n",
      "\u001b[0;31mReadTimeoutError\u001b[0m: HTTPSConnectionPool(host='api.spotify.com', port=443): Read timed out. (read timeout=5)",
      "\nDuring handling of the above exception, another exception occurred:\n",
      "\u001b[0;31mReadTimeout\u001b[0m                               Traceback (most recent call last)",
      "Input \u001b[0;32mIn [85]\u001b[0m, in \u001b[0;36m<cell line: 1>\u001b[0;34m()\u001b[0m\n\u001b[1;32m      1\u001b[0m \u001b[38;5;28;01mfor\u001b[39;00m i  \u001b[38;5;129;01min\u001b[39;00m  result[\u001b[38;5;241m20\u001b[39m]:\n\u001b[1;32m      2\u001b[0m     \u001b[38;5;28mprint\u001b[39m(i)\n\u001b[0;32m----> 3\u001b[0m     \u001b[43mget_features_df\u001b[49m\u001b[43m(\u001b[49m\u001b[43mi\u001b[49m\u001b[43m)\u001b[49m\n",
      "Input \u001b[0;32mIn [4]\u001b[0m, in \u001b[0;36mget_features_df\u001b[0;34m(playlist_id)\u001b[0m\n\u001b[1;32m     15\u001b[0m \u001b[38;5;66;03m#getting features per song in  playlist \u001b[39;00m\n\u001b[1;32m     16\u001b[0m     \u001b[38;5;28;01mfor\u001b[39;00m value \u001b[38;5;129;01min\u001b[39;00m \u001b[38;5;28mrange\u001b[39m(\u001b[38;5;241m0\u001b[39m,\u001b[38;5;28mlen\u001b[39m(tracks)):\n\u001b[0;32m---> 18\u001b[0m         list_of_audio_features\u001b[38;5;241m.\u001b[39mappend(\u001b[43msp\u001b[49m\u001b[38;5;241;43m.\u001b[39;49m\u001b[43maudio_features\u001b[49m\u001b[43m(\u001b[49m\u001b[43mtracks\u001b[49m\u001b[43m[\u001b[49m\u001b[43mvalue\u001b[49m\u001b[43m]\u001b[49m\u001b[43m[\u001b[49m\u001b[38;5;124;43m\"\u001b[39;49m\u001b[38;5;124;43mtrack\u001b[39;49m\u001b[38;5;124;43m\"\u001b[39;49m\u001b[43m]\u001b[49m\u001b[43m[\u001b[49m\u001b[38;5;124;43m\"\u001b[39;49m\u001b[38;5;124;43mid\u001b[39;49m\u001b[38;5;124;43m\"\u001b[39;49m\u001b[43m]\u001b[49m\u001b[43m)\u001b[49m[\u001b[38;5;241m0\u001b[39m])\n\u001b[1;32m     21\u001b[0m \u001b[38;5;66;03m#creating df with audio features and adding song name and artist     \u001b[39;00m\n\u001b[1;32m     22\u001b[0m     df\u001b[38;5;241m=\u001b[39mpd\u001b[38;5;241m.\u001b[39mDataFrame(list_of_audio_features)    \n",
      "File \u001b[0;32m~/opt/anaconda3/lib/python3.9/site-packages/spotipy/client.py:1680\u001b[0m, in \u001b[0;36mSpotify.audio_features\u001b[0;34m(self, tracks)\u001b[0m\n\u001b[1;32m   1678\u001b[0m \u001b[38;5;28;01mif\u001b[39;00m \u001b[38;5;28misinstance\u001b[39m(tracks, \u001b[38;5;28mstr\u001b[39m):\n\u001b[1;32m   1679\u001b[0m     trackid \u001b[38;5;241m=\u001b[39m \u001b[38;5;28mself\u001b[39m\u001b[38;5;241m.\u001b[39m_get_id(\u001b[38;5;124m\"\u001b[39m\u001b[38;5;124mtrack\u001b[39m\u001b[38;5;124m\"\u001b[39m, tracks)\n\u001b[0;32m-> 1680\u001b[0m     results \u001b[38;5;241m=\u001b[39m \u001b[38;5;28;43mself\u001b[39;49m\u001b[38;5;241;43m.\u001b[39;49m\u001b[43m_get\u001b[49m\u001b[43m(\u001b[49m\u001b[38;5;124;43m\"\u001b[39;49m\u001b[38;5;124;43maudio-features/?ids=\u001b[39;49m\u001b[38;5;124;43m\"\u001b[39;49m\u001b[43m \u001b[49m\u001b[38;5;241;43m+\u001b[39;49m\u001b[43m \u001b[49m\u001b[43mtrackid\u001b[49m\u001b[43m)\u001b[49m\n\u001b[1;32m   1681\u001b[0m \u001b[38;5;28;01melse\u001b[39;00m:\n\u001b[1;32m   1682\u001b[0m     tlist \u001b[38;5;241m=\u001b[39m [\u001b[38;5;28mself\u001b[39m\u001b[38;5;241m.\u001b[39m_get_id(\u001b[38;5;124m\"\u001b[39m\u001b[38;5;124mtrack\u001b[39m\u001b[38;5;124m\"\u001b[39m, t) \u001b[38;5;28;01mfor\u001b[39;00m t \u001b[38;5;129;01min\u001b[39;00m tracks]\n",
      "File \u001b[0;32m~/opt/anaconda3/lib/python3.9/site-packages/spotipy/client.py:297\u001b[0m, in \u001b[0;36mSpotify._get\u001b[0;34m(self, url, args, payload, **kwargs)\u001b[0m\n\u001b[1;32m    294\u001b[0m \u001b[38;5;28;01mif\u001b[39;00m args:\n\u001b[1;32m    295\u001b[0m     kwargs\u001b[38;5;241m.\u001b[39mupdate(args)\n\u001b[0;32m--> 297\u001b[0m \u001b[38;5;28;01mreturn\u001b[39;00m \u001b[38;5;28;43mself\u001b[39;49m\u001b[38;5;241;43m.\u001b[39;49m\u001b[43m_internal_call\u001b[49m\u001b[43m(\u001b[49m\u001b[38;5;124;43m\"\u001b[39;49m\u001b[38;5;124;43mGET\u001b[39;49m\u001b[38;5;124;43m\"\u001b[39;49m\u001b[43m,\u001b[49m\u001b[43m \u001b[49m\u001b[43murl\u001b[49m\u001b[43m,\u001b[49m\u001b[43m \u001b[49m\u001b[43mpayload\u001b[49m\u001b[43m,\u001b[49m\u001b[43m \u001b[49m\u001b[43mkwargs\u001b[49m\u001b[43m)\u001b[49m\n",
      "File \u001b[0;32m~/opt/anaconda3/lib/python3.9/site-packages/spotipy/client.py:240\u001b[0m, in \u001b[0;36mSpotify._internal_call\u001b[0;34m(self, method, url, payload, params)\u001b[0m\n\u001b[1;32m    236\u001b[0m logger\u001b[38;5;241m.\u001b[39mdebug(\u001b[38;5;124m'\u001b[39m\u001b[38;5;124mSending \u001b[39m\u001b[38;5;132;01m%s\u001b[39;00m\u001b[38;5;124m to \u001b[39m\u001b[38;5;132;01m%s\u001b[39;00m\u001b[38;5;124m with Params: \u001b[39m\u001b[38;5;132;01m%s\u001b[39;00m\u001b[38;5;124m Headers: \u001b[39m\u001b[38;5;132;01m%s\u001b[39;00m\u001b[38;5;124m and Body: \u001b[39m\u001b[38;5;132;01m%r\u001b[39;00m\u001b[38;5;124m \u001b[39m\u001b[38;5;124m'\u001b[39m,\n\u001b[1;32m    237\u001b[0m              method, url, args\u001b[38;5;241m.\u001b[39mget(\u001b[38;5;124m\"\u001b[39m\u001b[38;5;124mparams\u001b[39m\u001b[38;5;124m\"\u001b[39m), headers, args\u001b[38;5;241m.\u001b[39mget(\u001b[38;5;124m'\u001b[39m\u001b[38;5;124mdata\u001b[39m\u001b[38;5;124m'\u001b[39m))\n\u001b[1;32m    239\u001b[0m \u001b[38;5;28;01mtry\u001b[39;00m:\n\u001b[0;32m--> 240\u001b[0m     response \u001b[38;5;241m=\u001b[39m \u001b[38;5;28;43mself\u001b[39;49m\u001b[38;5;241;43m.\u001b[39;49m\u001b[43m_session\u001b[49m\u001b[38;5;241;43m.\u001b[39;49m\u001b[43mrequest\u001b[49m\u001b[43m(\u001b[49m\n\u001b[1;32m    241\u001b[0m \u001b[43m        \u001b[49m\u001b[43mmethod\u001b[49m\u001b[43m,\u001b[49m\u001b[43m \u001b[49m\u001b[43murl\u001b[49m\u001b[43m,\u001b[49m\u001b[43m \u001b[49m\u001b[43mheaders\u001b[49m\u001b[38;5;241;43m=\u001b[39;49m\u001b[43mheaders\u001b[49m\u001b[43m,\u001b[49m\u001b[43m \u001b[49m\u001b[43mproxies\u001b[49m\u001b[38;5;241;43m=\u001b[39;49m\u001b[38;5;28;43mself\u001b[39;49m\u001b[38;5;241;43m.\u001b[39;49m\u001b[43mproxies\u001b[49m\u001b[43m,\u001b[49m\n\u001b[1;32m    242\u001b[0m \u001b[43m        \u001b[49m\u001b[43mtimeout\u001b[49m\u001b[38;5;241;43m=\u001b[39;49m\u001b[38;5;28;43mself\u001b[39;49m\u001b[38;5;241;43m.\u001b[39;49m\u001b[43mrequests_timeout\u001b[49m\u001b[43m,\u001b[49m\u001b[43m \u001b[49m\u001b[38;5;241;43m*\u001b[39;49m\u001b[38;5;241;43m*\u001b[39;49m\u001b[43margs\u001b[49m\n\u001b[1;32m    243\u001b[0m \u001b[43m    \u001b[49m\u001b[43m)\u001b[49m\n\u001b[1;32m    245\u001b[0m     response\u001b[38;5;241m.\u001b[39mraise_for_status()\n\u001b[1;32m    246\u001b[0m     results \u001b[38;5;241m=\u001b[39m response\u001b[38;5;241m.\u001b[39mjson()\n",
      "File \u001b[0;32m~/opt/anaconda3/lib/python3.9/site-packages/requests/sessions.py:529\u001b[0m, in \u001b[0;36mSession.request\u001b[0;34m(self, method, url, params, data, headers, cookies, files, auth, timeout, allow_redirects, proxies, hooks, stream, verify, cert, json)\u001b[0m\n\u001b[1;32m    524\u001b[0m send_kwargs \u001b[38;5;241m=\u001b[39m {\n\u001b[1;32m    525\u001b[0m     \u001b[38;5;124m'\u001b[39m\u001b[38;5;124mtimeout\u001b[39m\u001b[38;5;124m'\u001b[39m: timeout,\n\u001b[1;32m    526\u001b[0m     \u001b[38;5;124m'\u001b[39m\u001b[38;5;124mallow_redirects\u001b[39m\u001b[38;5;124m'\u001b[39m: allow_redirects,\n\u001b[1;32m    527\u001b[0m }\n\u001b[1;32m    528\u001b[0m send_kwargs\u001b[38;5;241m.\u001b[39mupdate(settings)\n\u001b[0;32m--> 529\u001b[0m resp \u001b[38;5;241m=\u001b[39m \u001b[38;5;28;43mself\u001b[39;49m\u001b[38;5;241;43m.\u001b[39;49m\u001b[43msend\u001b[49m\u001b[43m(\u001b[49m\u001b[43mprep\u001b[49m\u001b[43m,\u001b[49m\u001b[43m \u001b[49m\u001b[38;5;241;43m*\u001b[39;49m\u001b[38;5;241;43m*\u001b[39;49m\u001b[43msend_kwargs\u001b[49m\u001b[43m)\u001b[49m\n\u001b[1;32m    531\u001b[0m \u001b[38;5;28;01mreturn\u001b[39;00m resp\n",
      "File \u001b[0;32m~/opt/anaconda3/lib/python3.9/site-packages/requests/sessions.py:645\u001b[0m, in \u001b[0;36mSession.send\u001b[0;34m(self, request, **kwargs)\u001b[0m\n\u001b[1;32m    642\u001b[0m start \u001b[38;5;241m=\u001b[39m preferred_clock()\n\u001b[1;32m    644\u001b[0m \u001b[38;5;66;03m# Send the request\u001b[39;00m\n\u001b[0;32m--> 645\u001b[0m r \u001b[38;5;241m=\u001b[39m \u001b[43madapter\u001b[49m\u001b[38;5;241;43m.\u001b[39;49m\u001b[43msend\u001b[49m\u001b[43m(\u001b[49m\u001b[43mrequest\u001b[49m\u001b[43m,\u001b[49m\u001b[43m \u001b[49m\u001b[38;5;241;43m*\u001b[39;49m\u001b[38;5;241;43m*\u001b[39;49m\u001b[43mkwargs\u001b[49m\u001b[43m)\u001b[49m\n\u001b[1;32m    647\u001b[0m \u001b[38;5;66;03m# Total elapsed time of the request (approximately)\u001b[39;00m\n\u001b[1;32m    648\u001b[0m elapsed \u001b[38;5;241m=\u001b[39m preferred_clock() \u001b[38;5;241m-\u001b[39m start\n",
      "File \u001b[0;32m~/opt/anaconda3/lib/python3.9/site-packages/requests/adapters.py:532\u001b[0m, in \u001b[0;36mHTTPAdapter.send\u001b[0;34m(self, request, stream, timeout, verify, cert, proxies)\u001b[0m\n\u001b[1;32m    530\u001b[0m     \u001b[38;5;28;01mraise\u001b[39;00m SSLError(e, request\u001b[38;5;241m=\u001b[39mrequest)\n\u001b[1;32m    531\u001b[0m \u001b[38;5;28;01melif\u001b[39;00m \u001b[38;5;28misinstance\u001b[39m(e, ReadTimeoutError):\n\u001b[0;32m--> 532\u001b[0m     \u001b[38;5;28;01mraise\u001b[39;00m ReadTimeout(e, request\u001b[38;5;241m=\u001b[39mrequest)\n\u001b[1;32m    533\u001b[0m \u001b[38;5;28;01melif\u001b[39;00m \u001b[38;5;28misinstance\u001b[39m(e, _InvalidHeader):\n\u001b[1;32m    534\u001b[0m     \u001b[38;5;28;01mraise\u001b[39;00m InvalidHeader(e, request\u001b[38;5;241m=\u001b[39mrequest)\n",
      "\u001b[0;31mReadTimeout\u001b[0m: HTTPSConnectionPool(host='api.spotify.com', port=443): Read timed out. (read timeout=5)"
     ]
    }
   ],
   "source": [
    "for i  in  result[20]:\n",
    "    print(i)\n",
    "    get_features_df(i)"
   ]
  },
  {
   "cell_type": "code",
   "execution_count": 89,
   "id": "dd1fdca4",
   "metadata": {},
   "outputs": [
    {
     "name": "stdout",
     "output_type": "stream",
     "text": [
      "2xzvhh7pEpGPJOLSE3FcTo\n"
     ]
    },
    {
     "name": "stderr",
     "output_type": "stream",
     "text": [
      "/var/folders/1n/phyrz16s0rd1_mpv046jgqf80000gn/T/ipykernel_17629/3181457209.py:28: FutureWarning: The frame.append method is deprecated and will be removed from pandas in a future version. Use pandas.concat instead.\n",
      "  big_df =big_df.append(df)\n"
     ]
    },
    {
     "name": "stdout",
     "output_type": "stream",
     "text": [
      "18b0DBiqVtRuj34OKPCgj6\n"
     ]
    },
    {
     "name": "stderr",
     "output_type": "stream",
     "text": [
      "/var/folders/1n/phyrz16s0rd1_mpv046jgqf80000gn/T/ipykernel_17629/3181457209.py:28: FutureWarning: The frame.append method is deprecated and will be removed from pandas in a future version. Use pandas.concat instead.\n",
      "  big_df =big_df.append(df)\n"
     ]
    },
    {
     "name": "stdout",
     "output_type": "stream",
     "text": [
      "7B3rUVfCVpOmeezMZ5cJEk\n"
     ]
    },
    {
     "name": "stderr",
     "output_type": "stream",
     "text": [
      "/var/folders/1n/phyrz16s0rd1_mpv046jgqf80000gn/T/ipykernel_17629/3181457209.py:28: FutureWarning: The frame.append method is deprecated and will be removed from pandas in a future version. Use pandas.concat instead.\n",
      "  big_df =big_df.append(df)\n"
     ]
    },
    {
     "name": "stdout",
     "output_type": "stream",
     "text": [
      "2P6Yw1Gs1lwVqGasW1y2xw\n"
     ]
    },
    {
     "name": "stderr",
     "output_type": "stream",
     "text": [
      "/var/folders/1n/phyrz16s0rd1_mpv046jgqf80000gn/T/ipykernel_17629/3181457209.py:28: FutureWarning: The frame.append method is deprecated and will be removed from pandas in a future version. Use pandas.concat instead.\n",
      "  big_df =big_df.append(df)\n"
     ]
    },
    {
     "name": "stdout",
     "output_type": "stream",
     "text": [
      "1Z81LBzQBw2K5vfTpWzyVr\n"
     ]
    },
    {
     "name": "stderr",
     "output_type": "stream",
     "text": [
      "/var/folders/1n/phyrz16s0rd1_mpv046jgqf80000gn/T/ipykernel_17629/3181457209.py:28: FutureWarning: The frame.append method is deprecated and will be removed from pandas in a future version. Use pandas.concat instead.\n",
      "  big_df =big_df.append(df)\n"
     ]
    },
    {
     "name": "stdout",
     "output_type": "stream",
     "text": [
      "0qP3XxRkbgMXA62pA1N0oR\n"
     ]
    },
    {
     "name": "stderr",
     "output_type": "stream",
     "text": [
      "/var/folders/1n/phyrz16s0rd1_mpv046jgqf80000gn/T/ipykernel_17629/3181457209.py:28: FutureWarning: The frame.append method is deprecated and will be removed from pandas in a future version. Use pandas.concat instead.\n",
      "  big_df =big_df.append(df)\n"
     ]
    },
    {
     "name": "stdout",
     "output_type": "stream",
     "text": [
      "4PYAgOlnw0hnRkuNT1lLN6\n"
     ]
    },
    {
     "name": "stderr",
     "output_type": "stream",
     "text": [
      "/var/folders/1n/phyrz16s0rd1_mpv046jgqf80000gn/T/ipykernel_17629/3181457209.py:28: FutureWarning: The frame.append method is deprecated and will be removed from pandas in a future version. Use pandas.concat instead.\n",
      "  big_df =big_df.append(df)\n"
     ]
    },
    {
     "name": "stdout",
     "output_type": "stream",
     "text": [
      "0RO8YBtv36PJFXHS6ohiYP\n"
     ]
    },
    {
     "name": "stderr",
     "output_type": "stream",
     "text": [
      "/var/folders/1n/phyrz16s0rd1_mpv046jgqf80000gn/T/ipykernel_17629/3181457209.py:28: FutureWarning: The frame.append method is deprecated and will be removed from pandas in a future version. Use pandas.concat instead.\n",
      "  big_df =big_df.append(df)\n"
     ]
    },
    {
     "name": "stdout",
     "output_type": "stream",
     "text": [
      "4XDiTzSCiEBaGpL3haS8Il\n"
     ]
    },
    {
     "name": "stderr",
     "output_type": "stream",
     "text": [
      "/var/folders/1n/phyrz16s0rd1_mpv046jgqf80000gn/T/ipykernel_17629/3181457209.py:28: FutureWarning: The frame.append method is deprecated and will be removed from pandas in a future version. Use pandas.concat instead.\n",
      "  big_df =big_df.append(df)\n"
     ]
    },
    {
     "name": "stdout",
     "output_type": "stream",
     "text": [
      "5LvhXeidSF2c8IbGm53pYt\n"
     ]
    },
    {
     "name": "stderr",
     "output_type": "stream",
     "text": [
      "/var/folders/1n/phyrz16s0rd1_mpv046jgqf80000gn/T/ipykernel_17629/3181457209.py:28: FutureWarning: The frame.append method is deprecated and will be removed from pandas in a future version. Use pandas.concat instead.\n",
      "  big_df =big_df.append(df)\n"
     ]
    },
    {
     "name": "stdout",
     "output_type": "stream",
     "text": [
      "3uHhaeuWuy5wuL6WIAxaWV\n"
     ]
    },
    {
     "name": "stderr",
     "output_type": "stream",
     "text": [
      "/var/folders/1n/phyrz16s0rd1_mpv046jgqf80000gn/T/ipykernel_17629/3181457209.py:28: FutureWarning: The frame.append method is deprecated and will be removed from pandas in a future version. Use pandas.concat instead.\n",
      "  big_df =big_df.append(df)\n"
     ]
    },
    {
     "name": "stdout",
     "output_type": "stream",
     "text": [
      "5sSUx1Z8LMMPNY6JtWRQ6r\n"
     ]
    },
    {
     "name": "stderr",
     "output_type": "stream",
     "text": [
      "/var/folders/1n/phyrz16s0rd1_mpv046jgqf80000gn/T/ipykernel_17629/3181457209.py:28: FutureWarning: The frame.append method is deprecated and will be removed from pandas in a future version. Use pandas.concat instead.\n",
      "  big_df =big_df.append(df)\n"
     ]
    },
    {
     "name": "stdout",
     "output_type": "stream",
     "text": [
      "1DWET41vcTWLJFAnYJHUp0\n"
     ]
    },
    {
     "name": "stderr",
     "output_type": "stream",
     "text": [
      "/var/folders/1n/phyrz16s0rd1_mpv046jgqf80000gn/T/ipykernel_17629/3181457209.py:28: FutureWarning: The frame.append method is deprecated and will be removed from pandas in a future version. Use pandas.concat instead.\n",
      "  big_df =big_df.append(df)\n"
     ]
    },
    {
     "name": "stdout",
     "output_type": "stream",
     "text": [
      "0gsDmsRdnzAyOje1xsgIP2\n"
     ]
    },
    {
     "name": "stderr",
     "output_type": "stream",
     "text": [
      "/var/folders/1n/phyrz16s0rd1_mpv046jgqf80000gn/T/ipykernel_17629/3181457209.py:28: FutureWarning: The frame.append method is deprecated and will be removed from pandas in a future version. Use pandas.concat instead.\n",
      "  big_df =big_df.append(df)\n"
     ]
    },
    {
     "name": "stdout",
     "output_type": "stream",
     "text": [
      "19Xxt5xhpzYMi9z4grHrnb\n"
     ]
    },
    {
     "name": "stderr",
     "output_type": "stream",
     "text": [
      "/var/folders/1n/phyrz16s0rd1_mpv046jgqf80000gn/T/ipykernel_17629/3181457209.py:28: FutureWarning: The frame.append method is deprecated and will be removed from pandas in a future version. Use pandas.concat instead.\n",
      "  big_df =big_df.append(df)\n"
     ]
    },
    {
     "name": "stdout",
     "output_type": "stream",
     "text": [
      "5ydNNBQbwQJuhmcxyo8K1f\n"
     ]
    },
    {
     "name": "stderr",
     "output_type": "stream",
     "text": [
      "/var/folders/1n/phyrz16s0rd1_mpv046jgqf80000gn/T/ipykernel_17629/3181457209.py:28: FutureWarning: The frame.append method is deprecated and will be removed from pandas in a future version. Use pandas.concat instead.\n",
      "  big_df =big_df.append(df)\n"
     ]
    },
    {
     "name": "stdout",
     "output_type": "stream",
     "text": [
      "5EK0YXw0YUsxEMsu3GGjbM\n"
     ]
    },
    {
     "name": "stderr",
     "output_type": "stream",
     "text": [
      "/var/folders/1n/phyrz16s0rd1_mpv046jgqf80000gn/T/ipykernel_17629/3181457209.py:28: FutureWarning: The frame.append method is deprecated and will be removed from pandas in a future version. Use pandas.concat instead.\n",
      "  big_df =big_df.append(df)\n"
     ]
    },
    {
     "name": "stdout",
     "output_type": "stream",
     "text": [
      "4SiVg5H07MzR76ON0qOEUw\n"
     ]
    },
    {
     "name": "stderr",
     "output_type": "stream",
     "text": [
      "/var/folders/1n/phyrz16s0rd1_mpv046jgqf80000gn/T/ipykernel_17629/3181457209.py:28: FutureWarning: The frame.append method is deprecated and will be removed from pandas in a future version. Use pandas.concat instead.\n",
      "  big_df =big_df.append(df)\n"
     ]
    },
    {
     "name": "stdout",
     "output_type": "stream",
     "text": [
      "6MjdCkcY5tUfadaakBRINy\n"
     ]
    },
    {
     "name": "stderr",
     "output_type": "stream",
     "text": [
      "/var/folders/1n/phyrz16s0rd1_mpv046jgqf80000gn/T/ipykernel_17629/3181457209.py:28: FutureWarning: The frame.append method is deprecated and will be removed from pandas in a future version. Use pandas.concat instead.\n",
      "  big_df =big_df.append(df)\n"
     ]
    },
    {
     "name": "stdout",
     "output_type": "stream",
     "text": [
      "6rV941EQPPJiWJiMbEIXUB\n"
     ]
    },
    {
     "name": "stderr",
     "output_type": "stream",
     "text": [
      "/var/folders/1n/phyrz16s0rd1_mpv046jgqf80000gn/T/ipykernel_17629/3181457209.py:28: FutureWarning: The frame.append method is deprecated and will be removed from pandas in a future version. Use pandas.concat instead.\n",
      "  big_df =big_df.append(df)\n"
     ]
    },
    {
     "name": "stdout",
     "output_type": "stream",
     "text": [
      "35riSvSCs6TV2nFjAgUZXD\n"
     ]
    },
    {
     "name": "stderr",
     "output_type": "stream",
     "text": [
      "/var/folders/1n/phyrz16s0rd1_mpv046jgqf80000gn/T/ipykernel_17629/3181457209.py:28: FutureWarning: The frame.append method is deprecated and will be removed from pandas in a future version. Use pandas.concat instead.\n",
      "  big_df =big_df.append(df)\n"
     ]
    },
    {
     "name": "stdout",
     "output_type": "stream",
     "text": [
      "4yH9lNXRP4cFVJhVefAqpo\n"
     ]
    },
    {
     "name": "stderr",
     "output_type": "stream",
     "text": [
      "/var/folders/1n/phyrz16s0rd1_mpv046jgqf80000gn/T/ipykernel_17629/3181457209.py:28: FutureWarning: The frame.append method is deprecated and will be removed from pandas in a future version. Use pandas.concat instead.\n",
      "  big_df =big_df.append(df)\n"
     ]
    },
    {
     "name": "stdout",
     "output_type": "stream",
     "text": [
      "17buGP6jTSgqYoV4NwkMdX\n"
     ]
    },
    {
     "name": "stderr",
     "output_type": "stream",
     "text": [
      "/var/folders/1n/phyrz16s0rd1_mpv046jgqf80000gn/T/ipykernel_17629/3181457209.py:28: FutureWarning: The frame.append method is deprecated and will be removed from pandas in a future version. Use pandas.concat instead.\n",
      "  big_df =big_df.append(df)\n"
     ]
    },
    {
     "name": "stdout",
     "output_type": "stream",
     "text": [
      "7Kg7DFSptkBEuol6EKr8f2\n"
     ]
    },
    {
     "name": "stderr",
     "output_type": "stream",
     "text": [
      "/var/folders/1n/phyrz16s0rd1_mpv046jgqf80000gn/T/ipykernel_17629/3181457209.py:28: FutureWarning: The frame.append method is deprecated and will be removed from pandas in a future version. Use pandas.concat instead.\n",
      "  big_df =big_df.append(df)\n"
     ]
    },
    {
     "name": "stdout",
     "output_type": "stream",
     "text": [
      "38h45JzHtrOjAJAtbiwNJ3\n"
     ]
    },
    {
     "name": "stderr",
     "output_type": "stream",
     "text": [
      "/var/folders/1n/phyrz16s0rd1_mpv046jgqf80000gn/T/ipykernel_17629/3181457209.py:28: FutureWarning: The frame.append method is deprecated and will be removed from pandas in a future version. Use pandas.concat instead.\n",
      "  big_df =big_df.append(df)\n"
     ]
    },
    {
     "name": "stdout",
     "output_type": "stream",
     "text": [
      "0dVEVtMAMauolhaE2hgnNZ\n"
     ]
    },
    {
     "name": "stderr",
     "output_type": "stream",
     "text": [
      "/var/folders/1n/phyrz16s0rd1_mpv046jgqf80000gn/T/ipykernel_17629/3181457209.py:28: FutureWarning: The frame.append method is deprecated and will be removed from pandas in a future version. Use pandas.concat instead.\n",
      "  big_df =big_df.append(df)\n"
     ]
    },
    {
     "name": "stdout",
     "output_type": "stream",
     "text": [
      "0OntTiyGzKP5yAqKhvmPXB\n"
     ]
    },
    {
     "name": "stderr",
     "output_type": "stream",
     "text": [
      "/var/folders/1n/phyrz16s0rd1_mpv046jgqf80000gn/T/ipykernel_17629/3181457209.py:28: FutureWarning: The frame.append method is deprecated and will be removed from pandas in a future version. Use pandas.concat instead.\n",
      "  big_df =big_df.append(df)\n"
     ]
    },
    {
     "name": "stdout",
     "output_type": "stream",
     "text": [
      "5u8tbxvQvJtevUBqXAwJFs\n"
     ]
    },
    {
     "name": "stderr",
     "output_type": "stream",
     "text": [
      "/var/folders/1n/phyrz16s0rd1_mpv046jgqf80000gn/T/ipykernel_17629/3181457209.py:28: FutureWarning: The frame.append method is deprecated and will be removed from pandas in a future version. Use pandas.concat instead.\n",
      "  big_df =big_df.append(df)\n"
     ]
    },
    {
     "name": "stdout",
     "output_type": "stream",
     "text": [
      "6DfuxmEBhz2MdUmfSG5xu3\n"
     ]
    },
    {
     "name": "stderr",
     "output_type": "stream",
     "text": [
      "/var/folders/1n/phyrz16s0rd1_mpv046jgqf80000gn/T/ipykernel_17629/3181457209.py:28: FutureWarning: The frame.append method is deprecated and will be removed from pandas in a future version. Use pandas.concat instead.\n",
      "  big_df =big_df.append(df)\n"
     ]
    },
    {
     "name": "stdout",
     "output_type": "stream",
     "text": [
      "710IY6IOVa3h64CvE0INWb\n"
     ]
    },
    {
     "name": "stderr",
     "output_type": "stream",
     "text": [
      "/var/folders/1n/phyrz16s0rd1_mpv046jgqf80000gn/T/ipykernel_17629/3181457209.py:28: FutureWarning: The frame.append method is deprecated and will be removed from pandas in a future version. Use pandas.concat instead.\n",
      "  big_df =big_df.append(df)\n"
     ]
    },
    {
     "name": "stdout",
     "output_type": "stream",
     "text": [
      "0HoHL9NCEDRhXdcHl7jfqF\n"
     ]
    },
    {
     "name": "stderr",
     "output_type": "stream",
     "text": [
      "/var/folders/1n/phyrz16s0rd1_mpv046jgqf80000gn/T/ipykernel_17629/3181457209.py:28: FutureWarning: The frame.append method is deprecated and will be removed from pandas in a future version. Use pandas.concat instead.\n",
      "  big_df =big_df.append(df)\n"
     ]
    },
    {
     "name": "stdout",
     "output_type": "stream",
     "text": [
      "2GENetRkZ45yEbcuqdt4WE\n"
     ]
    },
    {
     "name": "stderr",
     "output_type": "stream",
     "text": [
      "/var/folders/1n/phyrz16s0rd1_mpv046jgqf80000gn/T/ipykernel_17629/3181457209.py:28: FutureWarning: The frame.append method is deprecated and will be removed from pandas in a future version. Use pandas.concat instead.\n",
      "  big_df =big_df.append(df)\n"
     ]
    },
    {
     "name": "stdout",
     "output_type": "stream",
     "text": [
      "212BIjWzEJVNkScamNoETN\n"
     ]
    },
    {
     "name": "stderr",
     "output_type": "stream",
     "text": [
      "/var/folders/1n/phyrz16s0rd1_mpv046jgqf80000gn/T/ipykernel_17629/3181457209.py:28: FutureWarning: The frame.append method is deprecated and will be removed from pandas in a future version. Use pandas.concat instead.\n",
      "  big_df =big_df.append(df)\n"
     ]
    },
    {
     "name": "stdout",
     "output_type": "stream",
     "text": [
      "7mQXEFCmWw09h5Mv4PcVfI\n"
     ]
    },
    {
     "name": "stderr",
     "output_type": "stream",
     "text": [
      "/var/folders/1n/phyrz16s0rd1_mpv046jgqf80000gn/T/ipykernel_17629/3181457209.py:28: FutureWarning: The frame.append method is deprecated and will be removed from pandas in a future version. Use pandas.concat instead.\n",
      "  big_df =big_df.append(df)\n"
     ]
    },
    {
     "name": "stdout",
     "output_type": "stream",
     "text": [
      "23j3NLoqFN0Z7z3rsCZH7Q\n"
     ]
    },
    {
     "name": "stderr",
     "output_type": "stream",
     "text": [
      "/var/folders/1n/phyrz16s0rd1_mpv046jgqf80000gn/T/ipykernel_17629/3181457209.py:28: FutureWarning: The frame.append method is deprecated and will be removed from pandas in a future version. Use pandas.concat instead.\n",
      "  big_df =big_df.append(df)\n"
     ]
    },
    {
     "name": "stdout",
     "output_type": "stream",
     "text": [
      "0zze9184q29H3oVTZgODXf\n"
     ]
    },
    {
     "name": "stderr",
     "output_type": "stream",
     "text": [
      "/var/folders/1n/phyrz16s0rd1_mpv046jgqf80000gn/T/ipykernel_17629/3181457209.py:28: FutureWarning: The frame.append method is deprecated and will be removed from pandas in a future version. Use pandas.concat instead.\n",
      "  big_df =big_df.append(df)\n"
     ]
    },
    {
     "name": "stdout",
     "output_type": "stream",
     "text": [
      "7ks7U4OenxbeU7G4PU4cO4\n"
     ]
    },
    {
     "name": "stderr",
     "output_type": "stream",
     "text": [
      "/var/folders/1n/phyrz16s0rd1_mpv046jgqf80000gn/T/ipykernel_17629/3181457209.py:28: FutureWarning: The frame.append method is deprecated and will be removed from pandas in a future version. Use pandas.concat instead.\n",
      "  big_df =big_df.append(df)\n"
     ]
    },
    {
     "name": "stdout",
     "output_type": "stream",
     "text": [
      "4dOuUV8PDgcjacbQ3FPheh\n"
     ]
    },
    {
     "name": "stderr",
     "output_type": "stream",
     "text": [
      "/var/folders/1n/phyrz16s0rd1_mpv046jgqf80000gn/T/ipykernel_17629/3181457209.py:28: FutureWarning: The frame.append method is deprecated and will be removed from pandas in a future version. Use pandas.concat instead.\n",
      "  big_df =big_df.append(df)\n"
     ]
    },
    {
     "name": "stdout",
     "output_type": "stream",
     "text": [
      "5s6WNpuQnEZUivQy8MGQwP\n"
     ]
    },
    {
     "name": "stderr",
     "output_type": "stream",
     "text": [
      "/var/folders/1n/phyrz16s0rd1_mpv046jgqf80000gn/T/ipykernel_17629/3181457209.py:28: FutureWarning: The frame.append method is deprecated and will be removed from pandas in a future version. Use pandas.concat instead.\n",
      "  big_df =big_df.append(df)\n"
     ]
    },
    {
     "name": "stdout",
     "output_type": "stream",
     "text": [
      "0XJs446xvZpKhz3pglrOlX\n"
     ]
    },
    {
     "name": "stderr",
     "output_type": "stream",
     "text": [
      "/var/folders/1n/phyrz16s0rd1_mpv046jgqf80000gn/T/ipykernel_17629/3181457209.py:28: FutureWarning: The frame.append method is deprecated and will be removed from pandas in a future version. Use pandas.concat instead.\n",
      "  big_df =big_df.append(df)\n"
     ]
    },
    {
     "name": "stdout",
     "output_type": "stream",
     "text": [
      "4uRGFgfCn1CLBqaeKgYbJb\n"
     ]
    },
    {
     "name": "stderr",
     "output_type": "stream",
     "text": [
      "/var/folders/1n/phyrz16s0rd1_mpv046jgqf80000gn/T/ipykernel_17629/3181457209.py:28: FutureWarning: The frame.append method is deprecated and will be removed from pandas in a future version. Use pandas.concat instead.\n",
      "  big_df =big_df.append(df)\n"
     ]
    },
    {
     "name": "stdout",
     "output_type": "stream",
     "text": [
      "4c0FH7ppMiVUJ8DB5zbfZg\n"
     ]
    },
    {
     "name": "stderr",
     "output_type": "stream",
     "text": [
      "/var/folders/1n/phyrz16s0rd1_mpv046jgqf80000gn/T/ipykernel_17629/3181457209.py:28: FutureWarning: The frame.append method is deprecated and will be removed from pandas in a future version. Use pandas.concat instead.\n",
      "  big_df =big_df.append(df)\n"
     ]
    },
    {
     "name": "stdout",
     "output_type": "stream",
     "text": [
      "4WT1Tpb9MAADzfXTohUWmm\n"
     ]
    },
    {
     "name": "stderr",
     "output_type": "stream",
     "text": [
      "/var/folders/1n/phyrz16s0rd1_mpv046jgqf80000gn/T/ipykernel_17629/3181457209.py:28: FutureWarning: The frame.append method is deprecated and will be removed from pandas in a future version. Use pandas.concat instead.\n",
      "  big_df =big_df.append(df)\n"
     ]
    },
    {
     "name": "stdout",
     "output_type": "stream",
     "text": [
      "2gzxLFncxblaXSdVS8r4gA\n"
     ]
    },
    {
     "name": "stderr",
     "output_type": "stream",
     "text": [
      "/var/folders/1n/phyrz16s0rd1_mpv046jgqf80000gn/T/ipykernel_17629/3181457209.py:28: FutureWarning: The frame.append method is deprecated and will be removed from pandas in a future version. Use pandas.concat instead.\n",
      "  big_df =big_df.append(df)\n"
     ]
    },
    {
     "name": "stdout",
     "output_type": "stream",
     "text": [
      "43fLb3KD8t3c7fghr7XlXO\n"
     ]
    },
    {
     "name": "stderr",
     "output_type": "stream",
     "text": [
      "/var/folders/1n/phyrz16s0rd1_mpv046jgqf80000gn/T/ipykernel_17629/3181457209.py:28: FutureWarning: The frame.append method is deprecated and will be removed from pandas in a future version. Use pandas.concat instead.\n",
      "  big_df =big_df.append(df)\n"
     ]
    },
    {
     "name": "stdout",
     "output_type": "stream",
     "text": [
      "47RSt6JBM6AbqBxtggW1Jk\n"
     ]
    },
    {
     "name": "stderr",
     "output_type": "stream",
     "text": [
      "/var/folders/1n/phyrz16s0rd1_mpv046jgqf80000gn/T/ipykernel_17629/3181457209.py:28: FutureWarning: The frame.append method is deprecated and will be removed from pandas in a future version. Use pandas.concat instead.\n",
      "  big_df =big_df.append(df)\n"
     ]
    },
    {
     "name": "stdout",
     "output_type": "stream",
     "text": [
      "3jyyfQn4I5SOTmaOZQ1NSK\n"
     ]
    },
    {
     "name": "stderr",
     "output_type": "stream",
     "text": [
      "/var/folders/1n/phyrz16s0rd1_mpv046jgqf80000gn/T/ipykernel_17629/3181457209.py:28: FutureWarning: The frame.append method is deprecated and will be removed from pandas in a future version. Use pandas.concat instead.\n",
      "  big_df =big_df.append(df)\n"
     ]
    },
    {
     "name": "stdout",
     "output_type": "stream",
     "text": [
      "4sff5BasdWwxgAW2B6pW0U\n"
     ]
    },
    {
     "name": "stderr",
     "output_type": "stream",
     "text": [
      "/var/folders/1n/phyrz16s0rd1_mpv046jgqf80000gn/T/ipykernel_17629/3181457209.py:28: FutureWarning: The frame.append method is deprecated and will be removed from pandas in a future version. Use pandas.concat instead.\n",
      "  big_df =big_df.append(df)\n"
     ]
    },
    {
     "name": "stdout",
     "output_type": "stream",
     "text": [
      "0kxFR8tp2YZ8BsAvRpaSDl\n"
     ]
    },
    {
     "name": "stderr",
     "output_type": "stream",
     "text": [
      "/var/folders/1n/phyrz16s0rd1_mpv046jgqf80000gn/T/ipykernel_17629/3181457209.py:28: FutureWarning: The frame.append method is deprecated and will be removed from pandas in a future version. Use pandas.concat instead.\n",
      "  big_df =big_df.append(df)\n"
     ]
    },
    {
     "name": "stdout",
     "output_type": "stream",
     "text": [
      "1mvtazNJybNmsRmeTNjdEf\n"
     ]
    },
    {
     "name": "stderr",
     "output_type": "stream",
     "text": [
      "/var/folders/1n/phyrz16s0rd1_mpv046jgqf80000gn/T/ipykernel_17629/3181457209.py:28: FutureWarning: The frame.append method is deprecated and will be removed from pandas in a future version. Use pandas.concat instead.\n",
      "  big_df =big_df.append(df)\n"
     ]
    },
    {
     "name": "stdout",
     "output_type": "stream",
     "text": [
      "0ju49bDfuL4CUqVhqna7s8\n"
     ]
    },
    {
     "name": "stderr",
     "output_type": "stream",
     "text": [
      "/var/folders/1n/phyrz16s0rd1_mpv046jgqf80000gn/T/ipykernel_17629/3181457209.py:28: FutureWarning: The frame.append method is deprecated and will be removed from pandas in a future version. Use pandas.concat instead.\n",
      "  big_df =big_df.append(df)\n"
     ]
    },
    {
     "name": "stdout",
     "output_type": "stream",
     "text": [
      "7jk0EKyr4Lc4jc4XPE4ycL\n"
     ]
    },
    {
     "name": "stderr",
     "output_type": "stream",
     "text": [
      "/var/folders/1n/phyrz16s0rd1_mpv046jgqf80000gn/T/ipykernel_17629/3181457209.py:28: FutureWarning: The frame.append method is deprecated and will be removed from pandas in a future version. Use pandas.concat instead.\n",
      "  big_df =big_df.append(df)\n"
     ]
    },
    {
     "name": "stdout",
     "output_type": "stream",
     "text": [
      "1cokzRjm0SxgXXjQaBPtEa\n"
     ]
    },
    {
     "name": "stderr",
     "output_type": "stream",
     "text": [
      "/var/folders/1n/phyrz16s0rd1_mpv046jgqf80000gn/T/ipykernel_17629/3181457209.py:28: FutureWarning: The frame.append method is deprecated and will be removed from pandas in a future version. Use pandas.concat instead.\n",
      "  big_df =big_df.append(df)\n"
     ]
    },
    {
     "name": "stdout",
     "output_type": "stream",
     "text": [
      "7yKED2Klt77liZOLVAwzma\n"
     ]
    },
    {
     "ename": "ReadTimeout",
     "evalue": "HTTPSConnectionPool(host='api.spotify.com', port=443): Read timed out. (read timeout=5)",
     "output_type": "error",
     "traceback": [
      "\u001b[0;31m---------------------------------------------------------------------------\u001b[0m",
      "\u001b[0;31mtimeout\u001b[0m                                   Traceback (most recent call last)",
      "File \u001b[0;32m~/opt/anaconda3/lib/python3.9/site-packages/urllib3/connectionpool.py:449\u001b[0m, in \u001b[0;36mHTTPConnectionPool._make_request\u001b[0;34m(self, conn, method, url, timeout, chunked, **httplib_request_kw)\u001b[0m\n\u001b[1;32m    445\u001b[0m         \u001b[38;5;28;01mexcept\u001b[39;00m \u001b[38;5;167;01mBaseException\u001b[39;00m \u001b[38;5;28;01mas\u001b[39;00m e:\n\u001b[1;32m    446\u001b[0m             \u001b[38;5;66;03m# Remove the TypeError from the exception chain in\u001b[39;00m\n\u001b[1;32m    447\u001b[0m             \u001b[38;5;66;03m# Python 3 (including for exceptions like SystemExit).\u001b[39;00m\n\u001b[1;32m    448\u001b[0m             \u001b[38;5;66;03m# Otherwise it looks like a bug in the code.\u001b[39;00m\n\u001b[0;32m--> 449\u001b[0m             \u001b[43msix\u001b[49m\u001b[38;5;241;43m.\u001b[39;49m\u001b[43mraise_from\u001b[49m\u001b[43m(\u001b[49m\u001b[43me\u001b[49m\u001b[43m,\u001b[49m\u001b[43m \u001b[49m\u001b[38;5;28;43;01mNone\u001b[39;49;00m\u001b[43m)\u001b[49m\n\u001b[1;32m    450\u001b[0m \u001b[38;5;28;01mexcept\u001b[39;00m (SocketTimeout, BaseSSLError, SocketError) \u001b[38;5;28;01mas\u001b[39;00m e:\n",
      "File \u001b[0;32m<string>:3\u001b[0m, in \u001b[0;36mraise_from\u001b[0;34m(value, from_value)\u001b[0m\n",
      "File \u001b[0;32m~/opt/anaconda3/lib/python3.9/site-packages/urllib3/connectionpool.py:444\u001b[0m, in \u001b[0;36mHTTPConnectionPool._make_request\u001b[0;34m(self, conn, method, url, timeout, chunked, **httplib_request_kw)\u001b[0m\n\u001b[1;32m    443\u001b[0m \u001b[38;5;28;01mtry\u001b[39;00m:\n\u001b[0;32m--> 444\u001b[0m     httplib_response \u001b[38;5;241m=\u001b[39m \u001b[43mconn\u001b[49m\u001b[38;5;241;43m.\u001b[39;49m\u001b[43mgetresponse\u001b[49m\u001b[43m(\u001b[49m\u001b[43m)\u001b[49m\n\u001b[1;32m    445\u001b[0m \u001b[38;5;28;01mexcept\u001b[39;00m \u001b[38;5;167;01mBaseException\u001b[39;00m \u001b[38;5;28;01mas\u001b[39;00m e:\n\u001b[1;32m    446\u001b[0m     \u001b[38;5;66;03m# Remove the TypeError from the exception chain in\u001b[39;00m\n\u001b[1;32m    447\u001b[0m     \u001b[38;5;66;03m# Python 3 (including for exceptions like SystemExit).\u001b[39;00m\n\u001b[1;32m    448\u001b[0m     \u001b[38;5;66;03m# Otherwise it looks like a bug in the code.\u001b[39;00m\n",
      "File \u001b[0;32m~/opt/anaconda3/lib/python3.9/http/client.py:1377\u001b[0m, in \u001b[0;36mHTTPConnection.getresponse\u001b[0;34m(self)\u001b[0m\n\u001b[1;32m   1376\u001b[0m \u001b[38;5;28;01mtry\u001b[39;00m:\n\u001b[0;32m-> 1377\u001b[0m     \u001b[43mresponse\u001b[49m\u001b[38;5;241;43m.\u001b[39;49m\u001b[43mbegin\u001b[49m\u001b[43m(\u001b[49m\u001b[43m)\u001b[49m\n\u001b[1;32m   1378\u001b[0m \u001b[38;5;28;01mexcept\u001b[39;00m \u001b[38;5;167;01mConnectionError\u001b[39;00m:\n",
      "File \u001b[0;32m~/opt/anaconda3/lib/python3.9/http/client.py:320\u001b[0m, in \u001b[0;36mHTTPResponse.begin\u001b[0;34m(self)\u001b[0m\n\u001b[1;32m    319\u001b[0m \u001b[38;5;28;01mwhile\u001b[39;00m \u001b[38;5;28;01mTrue\u001b[39;00m:\n\u001b[0;32m--> 320\u001b[0m     version, status, reason \u001b[38;5;241m=\u001b[39m \u001b[38;5;28;43mself\u001b[39;49m\u001b[38;5;241;43m.\u001b[39;49m\u001b[43m_read_status\u001b[49m\u001b[43m(\u001b[49m\u001b[43m)\u001b[49m\n\u001b[1;32m    321\u001b[0m     \u001b[38;5;28;01mif\u001b[39;00m status \u001b[38;5;241m!=\u001b[39m CONTINUE:\n",
      "File \u001b[0;32m~/opt/anaconda3/lib/python3.9/http/client.py:281\u001b[0m, in \u001b[0;36mHTTPResponse._read_status\u001b[0;34m(self)\u001b[0m\n\u001b[1;32m    280\u001b[0m \u001b[38;5;28;01mdef\u001b[39;00m \u001b[38;5;21m_read_status\u001b[39m(\u001b[38;5;28mself\u001b[39m):\n\u001b[0;32m--> 281\u001b[0m     line \u001b[38;5;241m=\u001b[39m \u001b[38;5;28mstr\u001b[39m(\u001b[38;5;28;43mself\u001b[39;49m\u001b[38;5;241;43m.\u001b[39;49m\u001b[43mfp\u001b[49m\u001b[38;5;241;43m.\u001b[39;49m\u001b[43mreadline\u001b[49m\u001b[43m(\u001b[49m\u001b[43m_MAXLINE\u001b[49m\u001b[43m \u001b[49m\u001b[38;5;241;43m+\u001b[39;49m\u001b[43m \u001b[49m\u001b[38;5;241;43m1\u001b[39;49m\u001b[43m)\u001b[49m, \u001b[38;5;124m\"\u001b[39m\u001b[38;5;124miso-8859-1\u001b[39m\u001b[38;5;124m\"\u001b[39m)\n\u001b[1;32m    282\u001b[0m     \u001b[38;5;28;01mif\u001b[39;00m \u001b[38;5;28mlen\u001b[39m(line) \u001b[38;5;241m>\u001b[39m _MAXLINE:\n",
      "File \u001b[0;32m~/opt/anaconda3/lib/python3.9/socket.py:704\u001b[0m, in \u001b[0;36mSocketIO.readinto\u001b[0;34m(self, b)\u001b[0m\n\u001b[1;32m    703\u001b[0m \u001b[38;5;28;01mtry\u001b[39;00m:\n\u001b[0;32m--> 704\u001b[0m     \u001b[38;5;28;01mreturn\u001b[39;00m \u001b[38;5;28;43mself\u001b[39;49m\u001b[38;5;241;43m.\u001b[39;49m\u001b[43m_sock\u001b[49m\u001b[38;5;241;43m.\u001b[39;49m\u001b[43mrecv_into\u001b[49m\u001b[43m(\u001b[49m\u001b[43mb\u001b[49m\u001b[43m)\u001b[49m\n\u001b[1;32m    705\u001b[0m \u001b[38;5;28;01mexcept\u001b[39;00m timeout:\n",
      "File \u001b[0;32m~/opt/anaconda3/lib/python3.9/ssl.py:1241\u001b[0m, in \u001b[0;36mSSLSocket.recv_into\u001b[0;34m(self, buffer, nbytes, flags)\u001b[0m\n\u001b[1;32m   1238\u001b[0m         \u001b[38;5;28;01mraise\u001b[39;00m \u001b[38;5;167;01mValueError\u001b[39;00m(\n\u001b[1;32m   1239\u001b[0m           \u001b[38;5;124m\"\u001b[39m\u001b[38;5;124mnon-zero flags not allowed in calls to recv_into() on \u001b[39m\u001b[38;5;132;01m%s\u001b[39;00m\u001b[38;5;124m\"\u001b[39m \u001b[38;5;241m%\u001b[39m\n\u001b[1;32m   1240\u001b[0m           \u001b[38;5;28mself\u001b[39m\u001b[38;5;241m.\u001b[39m\u001b[38;5;18m__class__\u001b[39m)\n\u001b[0;32m-> 1241\u001b[0m     \u001b[38;5;28;01mreturn\u001b[39;00m \u001b[38;5;28;43mself\u001b[39;49m\u001b[38;5;241;43m.\u001b[39;49m\u001b[43mread\u001b[49m\u001b[43m(\u001b[49m\u001b[43mnbytes\u001b[49m\u001b[43m,\u001b[49m\u001b[43m \u001b[49m\u001b[43mbuffer\u001b[49m\u001b[43m)\u001b[49m\n\u001b[1;32m   1242\u001b[0m \u001b[38;5;28;01melse\u001b[39;00m:\n",
      "File \u001b[0;32m~/opt/anaconda3/lib/python3.9/ssl.py:1099\u001b[0m, in \u001b[0;36mSSLSocket.read\u001b[0;34m(self, len, buffer)\u001b[0m\n\u001b[1;32m   1098\u001b[0m \u001b[38;5;28;01mif\u001b[39;00m buffer \u001b[38;5;129;01mis\u001b[39;00m \u001b[38;5;129;01mnot\u001b[39;00m \u001b[38;5;28;01mNone\u001b[39;00m:\n\u001b[0;32m-> 1099\u001b[0m     \u001b[38;5;28;01mreturn\u001b[39;00m \u001b[38;5;28;43mself\u001b[39;49m\u001b[38;5;241;43m.\u001b[39;49m\u001b[43m_sslobj\u001b[49m\u001b[38;5;241;43m.\u001b[39;49m\u001b[43mread\u001b[49m\u001b[43m(\u001b[49m\u001b[38;5;28;43mlen\u001b[39;49m\u001b[43m,\u001b[49m\u001b[43m \u001b[49m\u001b[43mbuffer\u001b[49m\u001b[43m)\u001b[49m\n\u001b[1;32m   1100\u001b[0m \u001b[38;5;28;01melse\u001b[39;00m:\n",
      "\u001b[0;31mtimeout\u001b[0m: The read operation timed out",
      "\nDuring handling of the above exception, another exception occurred:\n",
      "\u001b[0;31mReadTimeoutError\u001b[0m                          Traceback (most recent call last)",
      "File \u001b[0;32m~/opt/anaconda3/lib/python3.9/site-packages/requests/adapters.py:440\u001b[0m, in \u001b[0;36mHTTPAdapter.send\u001b[0;34m(self, request, stream, timeout, verify, cert, proxies)\u001b[0m\n\u001b[1;32m    439\u001b[0m \u001b[38;5;28;01mif\u001b[39;00m \u001b[38;5;129;01mnot\u001b[39;00m chunked:\n\u001b[0;32m--> 440\u001b[0m     resp \u001b[38;5;241m=\u001b[39m \u001b[43mconn\u001b[49m\u001b[38;5;241;43m.\u001b[39;49m\u001b[43murlopen\u001b[49m\u001b[43m(\u001b[49m\n\u001b[1;32m    441\u001b[0m \u001b[43m        \u001b[49m\u001b[43mmethod\u001b[49m\u001b[38;5;241;43m=\u001b[39;49m\u001b[43mrequest\u001b[49m\u001b[38;5;241;43m.\u001b[39;49m\u001b[43mmethod\u001b[49m\u001b[43m,\u001b[49m\n\u001b[1;32m    442\u001b[0m \u001b[43m        \u001b[49m\u001b[43murl\u001b[49m\u001b[38;5;241;43m=\u001b[39;49m\u001b[43murl\u001b[49m\u001b[43m,\u001b[49m\n\u001b[1;32m    443\u001b[0m \u001b[43m        \u001b[49m\u001b[43mbody\u001b[49m\u001b[38;5;241;43m=\u001b[39;49m\u001b[43mrequest\u001b[49m\u001b[38;5;241;43m.\u001b[39;49m\u001b[43mbody\u001b[49m\u001b[43m,\u001b[49m\n\u001b[1;32m    444\u001b[0m \u001b[43m        \u001b[49m\u001b[43mheaders\u001b[49m\u001b[38;5;241;43m=\u001b[39;49m\u001b[43mrequest\u001b[49m\u001b[38;5;241;43m.\u001b[39;49m\u001b[43mheaders\u001b[49m\u001b[43m,\u001b[49m\n\u001b[1;32m    445\u001b[0m \u001b[43m        \u001b[49m\u001b[43mredirect\u001b[49m\u001b[38;5;241;43m=\u001b[39;49m\u001b[38;5;28;43;01mFalse\u001b[39;49;00m\u001b[43m,\u001b[49m\n\u001b[1;32m    446\u001b[0m \u001b[43m        \u001b[49m\u001b[43massert_same_host\u001b[49m\u001b[38;5;241;43m=\u001b[39;49m\u001b[38;5;28;43;01mFalse\u001b[39;49;00m\u001b[43m,\u001b[49m\n\u001b[1;32m    447\u001b[0m \u001b[43m        \u001b[49m\u001b[43mpreload_content\u001b[49m\u001b[38;5;241;43m=\u001b[39;49m\u001b[38;5;28;43;01mFalse\u001b[39;49;00m\u001b[43m,\u001b[49m\n\u001b[1;32m    448\u001b[0m \u001b[43m        \u001b[49m\u001b[43mdecode_content\u001b[49m\u001b[38;5;241;43m=\u001b[39;49m\u001b[38;5;28;43;01mFalse\u001b[39;49;00m\u001b[43m,\u001b[49m\n\u001b[1;32m    449\u001b[0m \u001b[43m        \u001b[49m\u001b[43mretries\u001b[49m\u001b[38;5;241;43m=\u001b[39;49m\u001b[38;5;28;43mself\u001b[39;49m\u001b[38;5;241;43m.\u001b[39;49m\u001b[43mmax_retries\u001b[49m\u001b[43m,\u001b[49m\n\u001b[1;32m    450\u001b[0m \u001b[43m        \u001b[49m\u001b[43mtimeout\u001b[49m\u001b[38;5;241;43m=\u001b[39;49m\u001b[43mtimeout\u001b[49m\n\u001b[1;32m    451\u001b[0m \u001b[43m    \u001b[49m\u001b[43m)\u001b[49m\n\u001b[1;32m    453\u001b[0m \u001b[38;5;66;03m# Send the request.\u001b[39;00m\n\u001b[1;32m    454\u001b[0m \u001b[38;5;28;01melse\u001b[39;00m:\n",
      "File \u001b[0;32m~/opt/anaconda3/lib/python3.9/site-packages/urllib3/connectionpool.py:785\u001b[0m, in \u001b[0;36mHTTPConnectionPool.urlopen\u001b[0;34m(self, method, url, body, headers, retries, redirect, assert_same_host, timeout, pool_timeout, release_conn, chunked, body_pos, **response_kw)\u001b[0m\n\u001b[1;32m    783\u001b[0m     e \u001b[38;5;241m=\u001b[39m ProtocolError(\u001b[38;5;124m\"\u001b[39m\u001b[38;5;124mConnection aborted.\u001b[39m\u001b[38;5;124m\"\u001b[39m, e)\n\u001b[0;32m--> 785\u001b[0m retries \u001b[38;5;241m=\u001b[39m \u001b[43mretries\u001b[49m\u001b[38;5;241;43m.\u001b[39;49m\u001b[43mincrement\u001b[49m\u001b[43m(\u001b[49m\n\u001b[1;32m    786\u001b[0m \u001b[43m    \u001b[49m\u001b[43mmethod\u001b[49m\u001b[43m,\u001b[49m\u001b[43m \u001b[49m\u001b[43murl\u001b[49m\u001b[43m,\u001b[49m\u001b[43m \u001b[49m\u001b[43merror\u001b[49m\u001b[38;5;241;43m=\u001b[39;49m\u001b[43me\u001b[49m\u001b[43m,\u001b[49m\u001b[43m \u001b[49m\u001b[43m_pool\u001b[49m\u001b[38;5;241;43m=\u001b[39;49m\u001b[38;5;28;43mself\u001b[39;49m\u001b[43m,\u001b[49m\u001b[43m \u001b[49m\u001b[43m_stacktrace\u001b[49m\u001b[38;5;241;43m=\u001b[39;49m\u001b[43msys\u001b[49m\u001b[38;5;241;43m.\u001b[39;49m\u001b[43mexc_info\u001b[49m\u001b[43m(\u001b[49m\u001b[43m)\u001b[49m\u001b[43m[\u001b[49m\u001b[38;5;241;43m2\u001b[39;49m\u001b[43m]\u001b[49m\n\u001b[1;32m    787\u001b[0m \u001b[43m\u001b[49m\u001b[43m)\u001b[49m\n\u001b[1;32m    788\u001b[0m retries\u001b[38;5;241m.\u001b[39msleep()\n",
      "File \u001b[0;32m~/opt/anaconda3/lib/python3.9/site-packages/urllib3/util/retry.py:550\u001b[0m, in \u001b[0;36mRetry.increment\u001b[0;34m(self, method, url, response, error, _pool, _stacktrace)\u001b[0m\n\u001b[1;32m    549\u001b[0m \u001b[38;5;28;01mif\u001b[39;00m read \u001b[38;5;129;01mis\u001b[39;00m \u001b[38;5;28;01mFalse\u001b[39;00m \u001b[38;5;129;01mor\u001b[39;00m \u001b[38;5;129;01mnot\u001b[39;00m \u001b[38;5;28mself\u001b[39m\u001b[38;5;241m.\u001b[39m_is_method_retryable(method):\n\u001b[0;32m--> 550\u001b[0m     \u001b[38;5;28;01mraise\u001b[39;00m \u001b[43msix\u001b[49m\u001b[38;5;241;43m.\u001b[39;49m\u001b[43mreraise\u001b[49m\u001b[43m(\u001b[49m\u001b[38;5;28;43mtype\u001b[39;49m\u001b[43m(\u001b[49m\u001b[43merror\u001b[49m\u001b[43m)\u001b[49m\u001b[43m,\u001b[49m\u001b[43m \u001b[49m\u001b[43merror\u001b[49m\u001b[43m,\u001b[49m\u001b[43m \u001b[49m\u001b[43m_stacktrace\u001b[49m\u001b[43m)\u001b[49m\n\u001b[1;32m    551\u001b[0m \u001b[38;5;28;01melif\u001b[39;00m read \u001b[38;5;129;01mis\u001b[39;00m \u001b[38;5;129;01mnot\u001b[39;00m \u001b[38;5;28;01mNone\u001b[39;00m:\n",
      "File \u001b[0;32m~/opt/anaconda3/lib/python3.9/site-packages/urllib3/packages/six.py:770\u001b[0m, in \u001b[0;36mreraise\u001b[0;34m(tp, value, tb)\u001b[0m\n\u001b[1;32m    769\u001b[0m         \u001b[38;5;28;01mraise\u001b[39;00m value\u001b[38;5;241m.\u001b[39mwith_traceback(tb)\n\u001b[0;32m--> 770\u001b[0m     \u001b[38;5;28;01mraise\u001b[39;00m value\n\u001b[1;32m    771\u001b[0m \u001b[38;5;28;01mfinally\u001b[39;00m:\n",
      "File \u001b[0;32m~/opt/anaconda3/lib/python3.9/site-packages/urllib3/connectionpool.py:703\u001b[0m, in \u001b[0;36mHTTPConnectionPool.urlopen\u001b[0;34m(self, method, url, body, headers, retries, redirect, assert_same_host, timeout, pool_timeout, release_conn, chunked, body_pos, **response_kw)\u001b[0m\n\u001b[1;32m    702\u001b[0m \u001b[38;5;66;03m# Make the request on the httplib connection object.\u001b[39;00m\n\u001b[0;32m--> 703\u001b[0m httplib_response \u001b[38;5;241m=\u001b[39m \u001b[38;5;28;43mself\u001b[39;49m\u001b[38;5;241;43m.\u001b[39;49m\u001b[43m_make_request\u001b[49m\u001b[43m(\u001b[49m\n\u001b[1;32m    704\u001b[0m \u001b[43m    \u001b[49m\u001b[43mconn\u001b[49m\u001b[43m,\u001b[49m\n\u001b[1;32m    705\u001b[0m \u001b[43m    \u001b[49m\u001b[43mmethod\u001b[49m\u001b[43m,\u001b[49m\n\u001b[1;32m    706\u001b[0m \u001b[43m    \u001b[49m\u001b[43murl\u001b[49m\u001b[43m,\u001b[49m\n\u001b[1;32m    707\u001b[0m \u001b[43m    \u001b[49m\u001b[43mtimeout\u001b[49m\u001b[38;5;241;43m=\u001b[39;49m\u001b[43mtimeout_obj\u001b[49m\u001b[43m,\u001b[49m\n\u001b[1;32m    708\u001b[0m \u001b[43m    \u001b[49m\u001b[43mbody\u001b[49m\u001b[38;5;241;43m=\u001b[39;49m\u001b[43mbody\u001b[49m\u001b[43m,\u001b[49m\n\u001b[1;32m    709\u001b[0m \u001b[43m    \u001b[49m\u001b[43mheaders\u001b[49m\u001b[38;5;241;43m=\u001b[39;49m\u001b[43mheaders\u001b[49m\u001b[43m,\u001b[49m\n\u001b[1;32m    710\u001b[0m \u001b[43m    \u001b[49m\u001b[43mchunked\u001b[49m\u001b[38;5;241;43m=\u001b[39;49m\u001b[43mchunked\u001b[49m\u001b[43m,\u001b[49m\n\u001b[1;32m    711\u001b[0m \u001b[43m\u001b[49m\u001b[43m)\u001b[49m\n\u001b[1;32m    713\u001b[0m \u001b[38;5;66;03m# If we're going to release the connection in ``finally:``, then\u001b[39;00m\n\u001b[1;32m    714\u001b[0m \u001b[38;5;66;03m# the response doesn't need to know about the connection. Otherwise\u001b[39;00m\n\u001b[1;32m    715\u001b[0m \u001b[38;5;66;03m# it will also try to release it and we'll have a double-release\u001b[39;00m\n\u001b[1;32m    716\u001b[0m \u001b[38;5;66;03m# mess.\u001b[39;00m\n",
      "File \u001b[0;32m~/opt/anaconda3/lib/python3.9/site-packages/urllib3/connectionpool.py:451\u001b[0m, in \u001b[0;36mHTTPConnectionPool._make_request\u001b[0;34m(self, conn, method, url, timeout, chunked, **httplib_request_kw)\u001b[0m\n\u001b[1;32m    450\u001b[0m \u001b[38;5;28;01mexcept\u001b[39;00m (SocketTimeout, BaseSSLError, SocketError) \u001b[38;5;28;01mas\u001b[39;00m e:\n\u001b[0;32m--> 451\u001b[0m     \u001b[38;5;28;43mself\u001b[39;49m\u001b[38;5;241;43m.\u001b[39;49m\u001b[43m_raise_timeout\u001b[49m\u001b[43m(\u001b[49m\u001b[43merr\u001b[49m\u001b[38;5;241;43m=\u001b[39;49m\u001b[43me\u001b[49m\u001b[43m,\u001b[49m\u001b[43m \u001b[49m\u001b[43murl\u001b[49m\u001b[38;5;241;43m=\u001b[39;49m\u001b[43murl\u001b[49m\u001b[43m,\u001b[49m\u001b[43m \u001b[49m\u001b[43mtimeout_value\u001b[49m\u001b[38;5;241;43m=\u001b[39;49m\u001b[43mread_timeout\u001b[49m\u001b[43m)\u001b[49m\n\u001b[1;32m    452\u001b[0m     \u001b[38;5;28;01mraise\u001b[39;00m\n",
      "File \u001b[0;32m~/opt/anaconda3/lib/python3.9/site-packages/urllib3/connectionpool.py:340\u001b[0m, in \u001b[0;36mHTTPConnectionPool._raise_timeout\u001b[0;34m(self, err, url, timeout_value)\u001b[0m\n\u001b[1;32m    339\u001b[0m \u001b[38;5;28;01mif\u001b[39;00m \u001b[38;5;28misinstance\u001b[39m(err, SocketTimeout):\n\u001b[0;32m--> 340\u001b[0m     \u001b[38;5;28;01mraise\u001b[39;00m ReadTimeoutError(\n\u001b[1;32m    341\u001b[0m         \u001b[38;5;28mself\u001b[39m, url, \u001b[38;5;124m\"\u001b[39m\u001b[38;5;124mRead timed out. (read timeout=\u001b[39m\u001b[38;5;132;01m%s\u001b[39;00m\u001b[38;5;124m)\u001b[39m\u001b[38;5;124m\"\u001b[39m \u001b[38;5;241m%\u001b[39m timeout_value\n\u001b[1;32m    342\u001b[0m     )\n\u001b[1;32m    344\u001b[0m \u001b[38;5;66;03m# See the above comment about EAGAIN in Python 3. In Python 2 we have\u001b[39;00m\n\u001b[1;32m    345\u001b[0m \u001b[38;5;66;03m# to specifically catch it and throw the timeout error\u001b[39;00m\n",
      "\u001b[0;31mReadTimeoutError\u001b[0m: HTTPSConnectionPool(host='api.spotify.com', port=443): Read timed out. (read timeout=5)",
      "\nDuring handling of the above exception, another exception occurred:\n",
      "\u001b[0;31mReadTimeout\u001b[0m                               Traceback (most recent call last)",
      "Input \u001b[0;32mIn [89]\u001b[0m, in \u001b[0;36m<cell line: 1>\u001b[0;34m()\u001b[0m\n\u001b[1;32m      1\u001b[0m \u001b[38;5;28;01mfor\u001b[39;00m i  \u001b[38;5;129;01min\u001b[39;00m  result[\u001b[38;5;241m21\u001b[39m]:\n\u001b[1;32m      2\u001b[0m     \u001b[38;5;28mprint\u001b[39m(i)\n\u001b[0;32m----> 3\u001b[0m     \u001b[43mget_features_df\u001b[49m\u001b[43m(\u001b[49m\u001b[43mi\u001b[49m\u001b[43m)\u001b[49m\n",
      "Input \u001b[0;32mIn [4]\u001b[0m, in \u001b[0;36mget_features_df\u001b[0;34m(playlist_id)\u001b[0m\n\u001b[1;32m     15\u001b[0m \u001b[38;5;66;03m#getting features per song in  playlist \u001b[39;00m\n\u001b[1;32m     16\u001b[0m     \u001b[38;5;28;01mfor\u001b[39;00m value \u001b[38;5;129;01min\u001b[39;00m \u001b[38;5;28mrange\u001b[39m(\u001b[38;5;241m0\u001b[39m,\u001b[38;5;28mlen\u001b[39m(tracks)):\n\u001b[0;32m---> 18\u001b[0m         list_of_audio_features\u001b[38;5;241m.\u001b[39mappend(\u001b[43msp\u001b[49m\u001b[38;5;241;43m.\u001b[39;49m\u001b[43maudio_features\u001b[49m\u001b[43m(\u001b[49m\u001b[43mtracks\u001b[49m\u001b[43m[\u001b[49m\u001b[43mvalue\u001b[49m\u001b[43m]\u001b[49m\u001b[43m[\u001b[49m\u001b[38;5;124;43m\"\u001b[39;49m\u001b[38;5;124;43mtrack\u001b[39;49m\u001b[38;5;124;43m\"\u001b[39;49m\u001b[43m]\u001b[49m\u001b[43m[\u001b[49m\u001b[38;5;124;43m\"\u001b[39;49m\u001b[38;5;124;43mid\u001b[39;49m\u001b[38;5;124;43m\"\u001b[39;49m\u001b[43m]\u001b[49m\u001b[43m)\u001b[49m[\u001b[38;5;241m0\u001b[39m])\n\u001b[1;32m     21\u001b[0m \u001b[38;5;66;03m#creating df with audio features and adding song name and artist     \u001b[39;00m\n\u001b[1;32m     22\u001b[0m     df\u001b[38;5;241m=\u001b[39mpd\u001b[38;5;241m.\u001b[39mDataFrame(list_of_audio_features)    \n",
      "File \u001b[0;32m~/opt/anaconda3/lib/python3.9/site-packages/spotipy/client.py:1680\u001b[0m, in \u001b[0;36mSpotify.audio_features\u001b[0;34m(self, tracks)\u001b[0m\n\u001b[1;32m   1678\u001b[0m \u001b[38;5;28;01mif\u001b[39;00m \u001b[38;5;28misinstance\u001b[39m(tracks, \u001b[38;5;28mstr\u001b[39m):\n\u001b[1;32m   1679\u001b[0m     trackid \u001b[38;5;241m=\u001b[39m \u001b[38;5;28mself\u001b[39m\u001b[38;5;241m.\u001b[39m_get_id(\u001b[38;5;124m\"\u001b[39m\u001b[38;5;124mtrack\u001b[39m\u001b[38;5;124m\"\u001b[39m, tracks)\n\u001b[0;32m-> 1680\u001b[0m     results \u001b[38;5;241m=\u001b[39m \u001b[38;5;28;43mself\u001b[39;49m\u001b[38;5;241;43m.\u001b[39;49m\u001b[43m_get\u001b[49m\u001b[43m(\u001b[49m\u001b[38;5;124;43m\"\u001b[39;49m\u001b[38;5;124;43maudio-features/?ids=\u001b[39;49m\u001b[38;5;124;43m\"\u001b[39;49m\u001b[43m \u001b[49m\u001b[38;5;241;43m+\u001b[39;49m\u001b[43m \u001b[49m\u001b[43mtrackid\u001b[49m\u001b[43m)\u001b[49m\n\u001b[1;32m   1681\u001b[0m \u001b[38;5;28;01melse\u001b[39;00m:\n\u001b[1;32m   1682\u001b[0m     tlist \u001b[38;5;241m=\u001b[39m [\u001b[38;5;28mself\u001b[39m\u001b[38;5;241m.\u001b[39m_get_id(\u001b[38;5;124m\"\u001b[39m\u001b[38;5;124mtrack\u001b[39m\u001b[38;5;124m\"\u001b[39m, t) \u001b[38;5;28;01mfor\u001b[39;00m t \u001b[38;5;129;01min\u001b[39;00m tracks]\n",
      "File \u001b[0;32m~/opt/anaconda3/lib/python3.9/site-packages/spotipy/client.py:297\u001b[0m, in \u001b[0;36mSpotify._get\u001b[0;34m(self, url, args, payload, **kwargs)\u001b[0m\n\u001b[1;32m    294\u001b[0m \u001b[38;5;28;01mif\u001b[39;00m args:\n\u001b[1;32m    295\u001b[0m     kwargs\u001b[38;5;241m.\u001b[39mupdate(args)\n\u001b[0;32m--> 297\u001b[0m \u001b[38;5;28;01mreturn\u001b[39;00m \u001b[38;5;28;43mself\u001b[39;49m\u001b[38;5;241;43m.\u001b[39;49m\u001b[43m_internal_call\u001b[49m\u001b[43m(\u001b[49m\u001b[38;5;124;43m\"\u001b[39;49m\u001b[38;5;124;43mGET\u001b[39;49m\u001b[38;5;124;43m\"\u001b[39;49m\u001b[43m,\u001b[49m\u001b[43m \u001b[49m\u001b[43murl\u001b[49m\u001b[43m,\u001b[49m\u001b[43m \u001b[49m\u001b[43mpayload\u001b[49m\u001b[43m,\u001b[49m\u001b[43m \u001b[49m\u001b[43mkwargs\u001b[49m\u001b[43m)\u001b[49m\n",
      "File \u001b[0;32m~/opt/anaconda3/lib/python3.9/site-packages/spotipy/client.py:240\u001b[0m, in \u001b[0;36mSpotify._internal_call\u001b[0;34m(self, method, url, payload, params)\u001b[0m\n\u001b[1;32m    236\u001b[0m logger\u001b[38;5;241m.\u001b[39mdebug(\u001b[38;5;124m'\u001b[39m\u001b[38;5;124mSending \u001b[39m\u001b[38;5;132;01m%s\u001b[39;00m\u001b[38;5;124m to \u001b[39m\u001b[38;5;132;01m%s\u001b[39;00m\u001b[38;5;124m with Params: \u001b[39m\u001b[38;5;132;01m%s\u001b[39;00m\u001b[38;5;124m Headers: \u001b[39m\u001b[38;5;132;01m%s\u001b[39;00m\u001b[38;5;124m and Body: \u001b[39m\u001b[38;5;132;01m%r\u001b[39;00m\u001b[38;5;124m \u001b[39m\u001b[38;5;124m'\u001b[39m,\n\u001b[1;32m    237\u001b[0m              method, url, args\u001b[38;5;241m.\u001b[39mget(\u001b[38;5;124m\"\u001b[39m\u001b[38;5;124mparams\u001b[39m\u001b[38;5;124m\"\u001b[39m), headers, args\u001b[38;5;241m.\u001b[39mget(\u001b[38;5;124m'\u001b[39m\u001b[38;5;124mdata\u001b[39m\u001b[38;5;124m'\u001b[39m))\n\u001b[1;32m    239\u001b[0m \u001b[38;5;28;01mtry\u001b[39;00m:\n\u001b[0;32m--> 240\u001b[0m     response \u001b[38;5;241m=\u001b[39m \u001b[38;5;28;43mself\u001b[39;49m\u001b[38;5;241;43m.\u001b[39;49m\u001b[43m_session\u001b[49m\u001b[38;5;241;43m.\u001b[39;49m\u001b[43mrequest\u001b[49m\u001b[43m(\u001b[49m\n\u001b[1;32m    241\u001b[0m \u001b[43m        \u001b[49m\u001b[43mmethod\u001b[49m\u001b[43m,\u001b[49m\u001b[43m \u001b[49m\u001b[43murl\u001b[49m\u001b[43m,\u001b[49m\u001b[43m \u001b[49m\u001b[43mheaders\u001b[49m\u001b[38;5;241;43m=\u001b[39;49m\u001b[43mheaders\u001b[49m\u001b[43m,\u001b[49m\u001b[43m \u001b[49m\u001b[43mproxies\u001b[49m\u001b[38;5;241;43m=\u001b[39;49m\u001b[38;5;28;43mself\u001b[39;49m\u001b[38;5;241;43m.\u001b[39;49m\u001b[43mproxies\u001b[49m\u001b[43m,\u001b[49m\n\u001b[1;32m    242\u001b[0m \u001b[43m        \u001b[49m\u001b[43mtimeout\u001b[49m\u001b[38;5;241;43m=\u001b[39;49m\u001b[38;5;28;43mself\u001b[39;49m\u001b[38;5;241;43m.\u001b[39;49m\u001b[43mrequests_timeout\u001b[49m\u001b[43m,\u001b[49m\u001b[43m \u001b[49m\u001b[38;5;241;43m*\u001b[39;49m\u001b[38;5;241;43m*\u001b[39;49m\u001b[43margs\u001b[49m\n\u001b[1;32m    243\u001b[0m \u001b[43m    \u001b[49m\u001b[43m)\u001b[49m\n\u001b[1;32m    245\u001b[0m     response\u001b[38;5;241m.\u001b[39mraise_for_status()\n\u001b[1;32m    246\u001b[0m     results \u001b[38;5;241m=\u001b[39m response\u001b[38;5;241m.\u001b[39mjson()\n",
      "File \u001b[0;32m~/opt/anaconda3/lib/python3.9/site-packages/requests/sessions.py:529\u001b[0m, in \u001b[0;36mSession.request\u001b[0;34m(self, method, url, params, data, headers, cookies, files, auth, timeout, allow_redirects, proxies, hooks, stream, verify, cert, json)\u001b[0m\n\u001b[1;32m    524\u001b[0m send_kwargs \u001b[38;5;241m=\u001b[39m {\n\u001b[1;32m    525\u001b[0m     \u001b[38;5;124m'\u001b[39m\u001b[38;5;124mtimeout\u001b[39m\u001b[38;5;124m'\u001b[39m: timeout,\n\u001b[1;32m    526\u001b[0m     \u001b[38;5;124m'\u001b[39m\u001b[38;5;124mallow_redirects\u001b[39m\u001b[38;5;124m'\u001b[39m: allow_redirects,\n\u001b[1;32m    527\u001b[0m }\n\u001b[1;32m    528\u001b[0m send_kwargs\u001b[38;5;241m.\u001b[39mupdate(settings)\n\u001b[0;32m--> 529\u001b[0m resp \u001b[38;5;241m=\u001b[39m \u001b[38;5;28;43mself\u001b[39;49m\u001b[38;5;241;43m.\u001b[39;49m\u001b[43msend\u001b[49m\u001b[43m(\u001b[49m\u001b[43mprep\u001b[49m\u001b[43m,\u001b[49m\u001b[43m \u001b[49m\u001b[38;5;241;43m*\u001b[39;49m\u001b[38;5;241;43m*\u001b[39;49m\u001b[43msend_kwargs\u001b[49m\u001b[43m)\u001b[49m\n\u001b[1;32m    531\u001b[0m \u001b[38;5;28;01mreturn\u001b[39;00m resp\n",
      "File \u001b[0;32m~/opt/anaconda3/lib/python3.9/site-packages/requests/sessions.py:645\u001b[0m, in \u001b[0;36mSession.send\u001b[0;34m(self, request, **kwargs)\u001b[0m\n\u001b[1;32m    642\u001b[0m start \u001b[38;5;241m=\u001b[39m preferred_clock()\n\u001b[1;32m    644\u001b[0m \u001b[38;5;66;03m# Send the request\u001b[39;00m\n\u001b[0;32m--> 645\u001b[0m r \u001b[38;5;241m=\u001b[39m \u001b[43madapter\u001b[49m\u001b[38;5;241;43m.\u001b[39;49m\u001b[43msend\u001b[49m\u001b[43m(\u001b[49m\u001b[43mrequest\u001b[49m\u001b[43m,\u001b[49m\u001b[43m \u001b[49m\u001b[38;5;241;43m*\u001b[39;49m\u001b[38;5;241;43m*\u001b[39;49m\u001b[43mkwargs\u001b[49m\u001b[43m)\u001b[49m\n\u001b[1;32m    647\u001b[0m \u001b[38;5;66;03m# Total elapsed time of the request (approximately)\u001b[39;00m\n\u001b[1;32m    648\u001b[0m elapsed \u001b[38;5;241m=\u001b[39m preferred_clock() \u001b[38;5;241m-\u001b[39m start\n",
      "File \u001b[0;32m~/opt/anaconda3/lib/python3.9/site-packages/requests/adapters.py:532\u001b[0m, in \u001b[0;36mHTTPAdapter.send\u001b[0;34m(self, request, stream, timeout, verify, cert, proxies)\u001b[0m\n\u001b[1;32m    530\u001b[0m     \u001b[38;5;28;01mraise\u001b[39;00m SSLError(e, request\u001b[38;5;241m=\u001b[39mrequest)\n\u001b[1;32m    531\u001b[0m \u001b[38;5;28;01melif\u001b[39;00m \u001b[38;5;28misinstance\u001b[39m(e, ReadTimeoutError):\n\u001b[0;32m--> 532\u001b[0m     \u001b[38;5;28;01mraise\u001b[39;00m ReadTimeout(e, request\u001b[38;5;241m=\u001b[39mrequest)\n\u001b[1;32m    533\u001b[0m \u001b[38;5;28;01melif\u001b[39;00m \u001b[38;5;28misinstance\u001b[39m(e, _InvalidHeader):\n\u001b[1;32m    534\u001b[0m     \u001b[38;5;28;01mraise\u001b[39;00m InvalidHeader(e, request\u001b[38;5;241m=\u001b[39mrequest)\n",
      "\u001b[0;31mReadTimeout\u001b[0m: HTTPSConnectionPool(host='api.spotify.com', port=443): Read timed out. (read timeout=5)"
     ]
    }
   ],
   "source": [
    "for i  in  result[21]:\n",
    "    print(i)\n",
    "    get_features_df(i)"
   ]
  },
  {
   "cell_type": "code",
   "execution_count": 92,
   "id": "f1a9a733",
   "metadata": {},
   "outputs": [
    {
     "name": "stdout",
     "output_type": "stream",
     "text": [
      "4g8jY2NYAlj7sBdFHtrgdF\n"
     ]
    },
    {
     "name": "stderr",
     "output_type": "stream",
     "text": [
      "/var/folders/1n/phyrz16s0rd1_mpv046jgqf80000gn/T/ipykernel_17629/3181457209.py:28: FutureWarning: The frame.append method is deprecated and will be removed from pandas in a future version. Use pandas.concat instead.\n",
      "  big_df =big_df.append(df)\n"
     ]
    },
    {
     "name": "stdout",
     "output_type": "stream",
     "text": [
      "2QeOCpMQDMK4ZHfqT2pIc3\n"
     ]
    },
    {
     "name": "stderr",
     "output_type": "stream",
     "text": [
      "/var/folders/1n/phyrz16s0rd1_mpv046jgqf80000gn/T/ipykernel_17629/3181457209.py:28: FutureWarning: The frame.append method is deprecated and will be removed from pandas in a future version. Use pandas.concat instead.\n",
      "  big_df =big_df.append(df)\n"
     ]
    },
    {
     "name": "stdout",
     "output_type": "stream",
     "text": [
      "2XFrsvPGbamN9w2C57a9hg\n"
     ]
    },
    {
     "name": "stderr",
     "output_type": "stream",
     "text": [
      "/var/folders/1n/phyrz16s0rd1_mpv046jgqf80000gn/T/ipykernel_17629/3181457209.py:28: FutureWarning: The frame.append method is deprecated and will be removed from pandas in a future version. Use pandas.concat instead.\n",
      "  big_df =big_df.append(df)\n"
     ]
    },
    {
     "name": "stdout",
     "output_type": "stream",
     "text": [
      "7HAemeH6qgoKySACL3ZUU2\n"
     ]
    },
    {
     "name": "stderr",
     "output_type": "stream",
     "text": [
      "/var/folders/1n/phyrz16s0rd1_mpv046jgqf80000gn/T/ipykernel_17629/3181457209.py:28: FutureWarning: The frame.append method is deprecated and will be removed from pandas in a future version. Use pandas.concat instead.\n",
      "  big_df =big_df.append(df)\n"
     ]
    },
    {
     "name": "stdout",
     "output_type": "stream",
     "text": [
      "0lcI32pCLNqSkd5KwhxUpY\n"
     ]
    },
    {
     "name": "stderr",
     "output_type": "stream",
     "text": [
      "/var/folders/1n/phyrz16s0rd1_mpv046jgqf80000gn/T/ipykernel_17629/3181457209.py:28: FutureWarning: The frame.append method is deprecated and will be removed from pandas in a future version. Use pandas.concat instead.\n",
      "  big_df =big_df.append(df)\n"
     ]
    },
    {
     "name": "stdout",
     "output_type": "stream",
     "text": [
      "1lGi0fM0NsvSHTRIZjqcqL\n"
     ]
    },
    {
     "name": "stderr",
     "output_type": "stream",
     "text": [
      "/var/folders/1n/phyrz16s0rd1_mpv046jgqf80000gn/T/ipykernel_17629/3181457209.py:28: FutureWarning: The frame.append method is deprecated and will be removed from pandas in a future version. Use pandas.concat instead.\n",
      "  big_df =big_df.append(df)\n"
     ]
    },
    {
     "name": "stdout",
     "output_type": "stream",
     "text": [
      "2J9Z2jNlHJAGZx3RvETZDJ\n"
     ]
    },
    {
     "name": "stderr",
     "output_type": "stream",
     "text": [
      "/var/folders/1n/phyrz16s0rd1_mpv046jgqf80000gn/T/ipykernel_17629/3181457209.py:28: FutureWarning: The frame.append method is deprecated and will be removed from pandas in a future version. Use pandas.concat instead.\n",
      "  big_df =big_df.append(df)\n"
     ]
    },
    {
     "name": "stdout",
     "output_type": "stream",
     "text": [
      "7kUeKVMrA3eMZNP4p8HKVi\n"
     ]
    },
    {
     "name": "stderr",
     "output_type": "stream",
     "text": [
      "/var/folders/1n/phyrz16s0rd1_mpv046jgqf80000gn/T/ipykernel_17629/3181457209.py:28: FutureWarning: The frame.append method is deprecated and will be removed from pandas in a future version. Use pandas.concat instead.\n",
      "  big_df =big_df.append(df)\n"
     ]
    },
    {
     "name": "stdout",
     "output_type": "stream",
     "text": [
      "6YVEV28McmK71mOrvNmVzZ\n"
     ]
    },
    {
     "name": "stderr",
     "output_type": "stream",
     "text": [
      "/var/folders/1n/phyrz16s0rd1_mpv046jgqf80000gn/T/ipykernel_17629/3181457209.py:28: FutureWarning: The frame.append method is deprecated and will be removed from pandas in a future version. Use pandas.concat instead.\n",
      "  big_df =big_df.append(df)\n"
     ]
    },
    {
     "name": "stdout",
     "output_type": "stream",
     "text": [
      "4cR1c9NaieHXwFyHA6LlpR\n"
     ]
    },
    {
     "name": "stderr",
     "output_type": "stream",
     "text": [
      "/var/folders/1n/phyrz16s0rd1_mpv046jgqf80000gn/T/ipykernel_17629/3181457209.py:28: FutureWarning: The frame.append method is deprecated and will be removed from pandas in a future version. Use pandas.concat instead.\n",
      "  big_df =big_df.append(df)\n"
     ]
    },
    {
     "name": "stdout",
     "output_type": "stream",
     "text": [
      "66zlv1OjzOvFp5Keh7eflO\n"
     ]
    },
    {
     "name": "stderr",
     "output_type": "stream",
     "text": [
      "/var/folders/1n/phyrz16s0rd1_mpv046jgqf80000gn/T/ipykernel_17629/3181457209.py:28: FutureWarning: The frame.append method is deprecated and will be removed from pandas in a future version. Use pandas.concat instead.\n",
      "  big_df =big_df.append(df)\n"
     ]
    },
    {
     "name": "stdout",
     "output_type": "stream",
     "text": [
      "3FkL35y5g0Vs6jMYo5vNYW\n"
     ]
    },
    {
     "name": "stderr",
     "output_type": "stream",
     "text": [
      "/var/folders/1n/phyrz16s0rd1_mpv046jgqf80000gn/T/ipykernel_17629/3181457209.py:28: FutureWarning: The frame.append method is deprecated and will be removed from pandas in a future version. Use pandas.concat instead.\n",
      "  big_df =big_df.append(df)\n"
     ]
    },
    {
     "name": "stdout",
     "output_type": "stream",
     "text": [
      "38AKUxCXckgIaEY0QwDj1q\n"
     ]
    },
    {
     "name": "stderr",
     "output_type": "stream",
     "text": [
      "/var/folders/1n/phyrz16s0rd1_mpv046jgqf80000gn/T/ipykernel_17629/3181457209.py:28: FutureWarning: The frame.append method is deprecated and will be removed from pandas in a future version. Use pandas.concat instead.\n",
      "  big_df =big_df.append(df)\n"
     ]
    },
    {
     "name": "stdout",
     "output_type": "stream",
     "text": [
      "2B6gPUsTqEgz2W7W6gEOt3\n"
     ]
    },
    {
     "name": "stderr",
     "output_type": "stream",
     "text": [
      "/var/folders/1n/phyrz16s0rd1_mpv046jgqf80000gn/T/ipykernel_17629/3181457209.py:28: FutureWarning: The frame.append method is deprecated and will be removed from pandas in a future version. Use pandas.concat instead.\n",
      "  big_df =big_df.append(df)\n"
     ]
    },
    {
     "name": "stdout",
     "output_type": "stream",
     "text": [
      "7FAkb5HaFNBqFFVVGFvMTE\n"
     ]
    },
    {
     "name": "stderr",
     "output_type": "stream",
     "text": [
      "/var/folders/1n/phyrz16s0rd1_mpv046jgqf80000gn/T/ipykernel_17629/3181457209.py:28: FutureWarning: The frame.append method is deprecated and will be removed from pandas in a future version. Use pandas.concat instead.\n",
      "  big_df =big_df.append(df)\n"
     ]
    },
    {
     "name": "stdout",
     "output_type": "stream",
     "text": [
      "6wKQSVUwtqy0SxtBEGQcDs\n"
     ]
    },
    {
     "ename": "TypeError",
     "evalue": "'NoneType' object is not subscriptable",
     "output_type": "error",
     "traceback": [
      "\u001b[0;31m---------------------------------------------------------------------------\u001b[0m",
      "\u001b[0;31mTypeError\u001b[0m                                 Traceback (most recent call last)",
      "Input \u001b[0;32mIn [92]\u001b[0m, in \u001b[0;36m<cell line: 1>\u001b[0;34m()\u001b[0m\n\u001b[1;32m      1\u001b[0m \u001b[38;5;28;01mfor\u001b[39;00m i  \u001b[38;5;129;01min\u001b[39;00m  result[\u001b[38;5;241m22\u001b[39m]:\n\u001b[1;32m      2\u001b[0m     \u001b[38;5;28mprint\u001b[39m(i)\n\u001b[0;32m----> 3\u001b[0m     \u001b[43mget_features_df\u001b[49m\u001b[43m(\u001b[49m\u001b[43mi\u001b[49m\u001b[43m)\u001b[49m\n",
      "Input \u001b[0;32mIn [4]\u001b[0m, in \u001b[0;36mget_features_df\u001b[0;34m(playlist_id)\u001b[0m\n\u001b[1;32m     15\u001b[0m \u001b[38;5;66;03m#getting features per song in  playlist \u001b[39;00m\n\u001b[1;32m     16\u001b[0m     \u001b[38;5;28;01mfor\u001b[39;00m value \u001b[38;5;129;01min\u001b[39;00m \u001b[38;5;28mrange\u001b[39m(\u001b[38;5;241m0\u001b[39m,\u001b[38;5;28mlen\u001b[39m(tracks)):\n\u001b[0;32m---> 18\u001b[0m         list_of_audio_features\u001b[38;5;241m.\u001b[39mappend(sp\u001b[38;5;241m.\u001b[39maudio_features(\u001b[43mtracks\u001b[49m\u001b[43m[\u001b[49m\u001b[43mvalue\u001b[49m\u001b[43m]\u001b[49m\u001b[43m[\u001b[49m\u001b[38;5;124;43m\"\u001b[39;49m\u001b[38;5;124;43mtrack\u001b[39;49m\u001b[38;5;124;43m\"\u001b[39;49m\u001b[43m]\u001b[49m\u001b[43m[\u001b[49m\u001b[38;5;124;43m\"\u001b[39;49m\u001b[38;5;124;43mid\u001b[39;49m\u001b[38;5;124;43m\"\u001b[39;49m\u001b[43m]\u001b[49m)[\u001b[38;5;241m0\u001b[39m])\n\u001b[1;32m     21\u001b[0m \u001b[38;5;66;03m#creating df with audio features and adding song name and artist     \u001b[39;00m\n\u001b[1;32m     22\u001b[0m     df\u001b[38;5;241m=\u001b[39mpd\u001b[38;5;241m.\u001b[39mDataFrame(list_of_audio_features)    \n",
      "\u001b[0;31mTypeError\u001b[0m: 'NoneType' object is not subscriptable"
     ]
    }
   ],
   "source": [
    "for i  in  result[22]:\n",
    "    print(i)\n",
    "    get_features_df(i)"
   ]
  },
  {
   "cell_type": "code",
   "execution_count": 94,
   "id": "8a605b2b",
   "metadata": {},
   "outputs": [
    {
     "name": "stdout",
     "output_type": "stream",
     "text": [
      "6FbDQuTcGT0IoZCtsbCISv\n"
     ]
    },
    {
     "name": "stderr",
     "output_type": "stream",
     "text": [
      "/var/folders/1n/phyrz16s0rd1_mpv046jgqf80000gn/T/ipykernel_17629/3181457209.py:28: FutureWarning: The frame.append method is deprecated and will be removed from pandas in a future version. Use pandas.concat instead.\n",
      "  big_df =big_df.append(df)\n"
     ]
    },
    {
     "name": "stdout",
     "output_type": "stream",
     "text": [
      "6pt4hCDsGV4O1xEBGhaiLI\n"
     ]
    },
    {
     "name": "stderr",
     "output_type": "stream",
     "text": [
      "/var/folders/1n/phyrz16s0rd1_mpv046jgqf80000gn/T/ipykernel_17629/3181457209.py:28: FutureWarning: The frame.append method is deprecated and will be removed from pandas in a future version. Use pandas.concat instead.\n",
      "  big_df =big_df.append(df)\n"
     ]
    },
    {
     "name": "stdout",
     "output_type": "stream",
     "text": [
      "78zBtTmgkplb8MUI3Fijek\n"
     ]
    },
    {
     "name": "stderr",
     "output_type": "stream",
     "text": [
      "/var/folders/1n/phyrz16s0rd1_mpv046jgqf80000gn/T/ipykernel_17629/3181457209.py:28: FutureWarning: The frame.append method is deprecated and will be removed from pandas in a future version. Use pandas.concat instead.\n",
      "  big_df =big_df.append(df)\n"
     ]
    },
    {
     "name": "stdout",
     "output_type": "stream",
     "text": [
      "5l5jOUgJm8gedEcYijsBcK\n"
     ]
    },
    {
     "name": "stderr",
     "output_type": "stream",
     "text": [
      "/var/folders/1n/phyrz16s0rd1_mpv046jgqf80000gn/T/ipykernel_17629/3181457209.py:28: FutureWarning: The frame.append method is deprecated and will be removed from pandas in a future version. Use pandas.concat instead.\n",
      "  big_df =big_df.append(df)\n"
     ]
    },
    {
     "name": "stdout",
     "output_type": "stream",
     "text": [
      "46V58h9Hgc5WFavtjhNCvR\n"
     ]
    },
    {
     "name": "stderr",
     "output_type": "stream",
     "text": [
      "/var/folders/1n/phyrz16s0rd1_mpv046jgqf80000gn/T/ipykernel_17629/3181457209.py:28: FutureWarning: The frame.append method is deprecated and will be removed from pandas in a future version. Use pandas.concat instead.\n",
      "  big_df =big_df.append(df)\n"
     ]
    },
    {
     "name": "stdout",
     "output_type": "stream",
     "text": [
      "3JIOP9ciE3hb2cXTMOzBma\n"
     ]
    },
    {
     "name": "stderr",
     "output_type": "stream",
     "text": [
      "/var/folders/1n/phyrz16s0rd1_mpv046jgqf80000gn/T/ipykernel_17629/3181457209.py:28: FutureWarning: The frame.append method is deprecated and will be removed from pandas in a future version. Use pandas.concat instead.\n",
      "  big_df =big_df.append(df)\n"
     ]
    },
    {
     "name": "stdout",
     "output_type": "stream",
     "text": [
      "3OLnmWjHbXKRIiRNDNfntH\n"
     ]
    },
    {
     "name": "stderr",
     "output_type": "stream",
     "text": [
      "/var/folders/1n/phyrz16s0rd1_mpv046jgqf80000gn/T/ipykernel_17629/3181457209.py:28: FutureWarning: The frame.append method is deprecated and will be removed from pandas in a future version. Use pandas.concat instead.\n",
      "  big_df =big_df.append(df)\n"
     ]
    },
    {
     "name": "stdout",
     "output_type": "stream",
     "text": [
      "6C7kz6eR1Sf12ZBrzl7aD8\n"
     ]
    },
    {
     "name": "stderr",
     "output_type": "stream",
     "text": [
      "/var/folders/1n/phyrz16s0rd1_mpv046jgqf80000gn/T/ipykernel_17629/3181457209.py:28: FutureWarning: The frame.append method is deprecated and will be removed from pandas in a future version. Use pandas.concat instead.\n",
      "  big_df =big_df.append(df)\n"
     ]
    },
    {
     "name": "stdout",
     "output_type": "stream",
     "text": [
      "6rUKKXL8dj1grd1jrmpZ3G\n"
     ]
    },
    {
     "name": "stderr",
     "output_type": "stream",
     "text": [
      "/var/folders/1n/phyrz16s0rd1_mpv046jgqf80000gn/T/ipykernel_17629/3181457209.py:28: FutureWarning: The frame.append method is deprecated and will be removed from pandas in a future version. Use pandas.concat instead.\n",
      "  big_df =big_df.append(df)\n"
     ]
    },
    {
     "name": "stdout",
     "output_type": "stream",
     "text": [
      "5EyFMotmvSfDAZ4hSdKrbx\n"
     ]
    },
    {
     "ename": "ReadTimeout",
     "evalue": "HTTPSConnectionPool(host='api.spotify.com', port=443): Read timed out. (read timeout=5)",
     "output_type": "error",
     "traceback": [
      "\u001b[0;31m---------------------------------------------------------------------------\u001b[0m",
      "\u001b[0;31mtimeout\u001b[0m                                   Traceback (most recent call last)",
      "File \u001b[0;32m~/opt/anaconda3/lib/python3.9/site-packages/urllib3/connectionpool.py:449\u001b[0m, in \u001b[0;36mHTTPConnectionPool._make_request\u001b[0;34m(self, conn, method, url, timeout, chunked, **httplib_request_kw)\u001b[0m\n\u001b[1;32m    445\u001b[0m         \u001b[38;5;28;01mexcept\u001b[39;00m \u001b[38;5;167;01mBaseException\u001b[39;00m \u001b[38;5;28;01mas\u001b[39;00m e:\n\u001b[1;32m    446\u001b[0m             \u001b[38;5;66;03m# Remove the TypeError from the exception chain in\u001b[39;00m\n\u001b[1;32m    447\u001b[0m             \u001b[38;5;66;03m# Python 3 (including for exceptions like SystemExit).\u001b[39;00m\n\u001b[1;32m    448\u001b[0m             \u001b[38;5;66;03m# Otherwise it looks like a bug in the code.\u001b[39;00m\n\u001b[0;32m--> 449\u001b[0m             \u001b[43msix\u001b[49m\u001b[38;5;241;43m.\u001b[39;49m\u001b[43mraise_from\u001b[49m\u001b[43m(\u001b[49m\u001b[43me\u001b[49m\u001b[43m,\u001b[49m\u001b[43m \u001b[49m\u001b[38;5;28;43;01mNone\u001b[39;49;00m\u001b[43m)\u001b[49m\n\u001b[1;32m    450\u001b[0m \u001b[38;5;28;01mexcept\u001b[39;00m (SocketTimeout, BaseSSLError, SocketError) \u001b[38;5;28;01mas\u001b[39;00m e:\n",
      "File \u001b[0;32m<string>:3\u001b[0m, in \u001b[0;36mraise_from\u001b[0;34m(value, from_value)\u001b[0m\n",
      "File \u001b[0;32m~/opt/anaconda3/lib/python3.9/site-packages/urllib3/connectionpool.py:444\u001b[0m, in \u001b[0;36mHTTPConnectionPool._make_request\u001b[0;34m(self, conn, method, url, timeout, chunked, **httplib_request_kw)\u001b[0m\n\u001b[1;32m    443\u001b[0m \u001b[38;5;28;01mtry\u001b[39;00m:\n\u001b[0;32m--> 444\u001b[0m     httplib_response \u001b[38;5;241m=\u001b[39m \u001b[43mconn\u001b[49m\u001b[38;5;241;43m.\u001b[39;49m\u001b[43mgetresponse\u001b[49m\u001b[43m(\u001b[49m\u001b[43m)\u001b[49m\n\u001b[1;32m    445\u001b[0m \u001b[38;5;28;01mexcept\u001b[39;00m \u001b[38;5;167;01mBaseException\u001b[39;00m \u001b[38;5;28;01mas\u001b[39;00m e:\n\u001b[1;32m    446\u001b[0m     \u001b[38;5;66;03m# Remove the TypeError from the exception chain in\u001b[39;00m\n\u001b[1;32m    447\u001b[0m     \u001b[38;5;66;03m# Python 3 (including for exceptions like SystemExit).\u001b[39;00m\n\u001b[1;32m    448\u001b[0m     \u001b[38;5;66;03m# Otherwise it looks like a bug in the code.\u001b[39;00m\n",
      "File \u001b[0;32m~/opt/anaconda3/lib/python3.9/http/client.py:1377\u001b[0m, in \u001b[0;36mHTTPConnection.getresponse\u001b[0;34m(self)\u001b[0m\n\u001b[1;32m   1376\u001b[0m \u001b[38;5;28;01mtry\u001b[39;00m:\n\u001b[0;32m-> 1377\u001b[0m     \u001b[43mresponse\u001b[49m\u001b[38;5;241;43m.\u001b[39;49m\u001b[43mbegin\u001b[49m\u001b[43m(\u001b[49m\u001b[43m)\u001b[49m\n\u001b[1;32m   1378\u001b[0m \u001b[38;5;28;01mexcept\u001b[39;00m \u001b[38;5;167;01mConnectionError\u001b[39;00m:\n",
      "File \u001b[0;32m~/opt/anaconda3/lib/python3.9/http/client.py:320\u001b[0m, in \u001b[0;36mHTTPResponse.begin\u001b[0;34m(self)\u001b[0m\n\u001b[1;32m    319\u001b[0m \u001b[38;5;28;01mwhile\u001b[39;00m \u001b[38;5;28;01mTrue\u001b[39;00m:\n\u001b[0;32m--> 320\u001b[0m     version, status, reason \u001b[38;5;241m=\u001b[39m \u001b[38;5;28;43mself\u001b[39;49m\u001b[38;5;241;43m.\u001b[39;49m\u001b[43m_read_status\u001b[49m\u001b[43m(\u001b[49m\u001b[43m)\u001b[49m\n\u001b[1;32m    321\u001b[0m     \u001b[38;5;28;01mif\u001b[39;00m status \u001b[38;5;241m!=\u001b[39m CONTINUE:\n",
      "File \u001b[0;32m~/opt/anaconda3/lib/python3.9/http/client.py:281\u001b[0m, in \u001b[0;36mHTTPResponse._read_status\u001b[0;34m(self)\u001b[0m\n\u001b[1;32m    280\u001b[0m \u001b[38;5;28;01mdef\u001b[39;00m \u001b[38;5;21m_read_status\u001b[39m(\u001b[38;5;28mself\u001b[39m):\n\u001b[0;32m--> 281\u001b[0m     line \u001b[38;5;241m=\u001b[39m \u001b[38;5;28mstr\u001b[39m(\u001b[38;5;28;43mself\u001b[39;49m\u001b[38;5;241;43m.\u001b[39;49m\u001b[43mfp\u001b[49m\u001b[38;5;241;43m.\u001b[39;49m\u001b[43mreadline\u001b[49m\u001b[43m(\u001b[49m\u001b[43m_MAXLINE\u001b[49m\u001b[43m \u001b[49m\u001b[38;5;241;43m+\u001b[39;49m\u001b[43m \u001b[49m\u001b[38;5;241;43m1\u001b[39;49m\u001b[43m)\u001b[49m, \u001b[38;5;124m\"\u001b[39m\u001b[38;5;124miso-8859-1\u001b[39m\u001b[38;5;124m\"\u001b[39m)\n\u001b[1;32m    282\u001b[0m     \u001b[38;5;28;01mif\u001b[39;00m \u001b[38;5;28mlen\u001b[39m(line) \u001b[38;5;241m>\u001b[39m _MAXLINE:\n",
      "File \u001b[0;32m~/opt/anaconda3/lib/python3.9/socket.py:704\u001b[0m, in \u001b[0;36mSocketIO.readinto\u001b[0;34m(self, b)\u001b[0m\n\u001b[1;32m    703\u001b[0m \u001b[38;5;28;01mtry\u001b[39;00m:\n\u001b[0;32m--> 704\u001b[0m     \u001b[38;5;28;01mreturn\u001b[39;00m \u001b[38;5;28;43mself\u001b[39;49m\u001b[38;5;241;43m.\u001b[39;49m\u001b[43m_sock\u001b[49m\u001b[38;5;241;43m.\u001b[39;49m\u001b[43mrecv_into\u001b[49m\u001b[43m(\u001b[49m\u001b[43mb\u001b[49m\u001b[43m)\u001b[49m\n\u001b[1;32m    705\u001b[0m \u001b[38;5;28;01mexcept\u001b[39;00m timeout:\n",
      "File \u001b[0;32m~/opt/anaconda3/lib/python3.9/ssl.py:1241\u001b[0m, in \u001b[0;36mSSLSocket.recv_into\u001b[0;34m(self, buffer, nbytes, flags)\u001b[0m\n\u001b[1;32m   1238\u001b[0m         \u001b[38;5;28;01mraise\u001b[39;00m \u001b[38;5;167;01mValueError\u001b[39;00m(\n\u001b[1;32m   1239\u001b[0m           \u001b[38;5;124m\"\u001b[39m\u001b[38;5;124mnon-zero flags not allowed in calls to recv_into() on \u001b[39m\u001b[38;5;132;01m%s\u001b[39;00m\u001b[38;5;124m\"\u001b[39m \u001b[38;5;241m%\u001b[39m\n\u001b[1;32m   1240\u001b[0m           \u001b[38;5;28mself\u001b[39m\u001b[38;5;241m.\u001b[39m\u001b[38;5;18m__class__\u001b[39m)\n\u001b[0;32m-> 1241\u001b[0m     \u001b[38;5;28;01mreturn\u001b[39;00m \u001b[38;5;28;43mself\u001b[39;49m\u001b[38;5;241;43m.\u001b[39;49m\u001b[43mread\u001b[49m\u001b[43m(\u001b[49m\u001b[43mnbytes\u001b[49m\u001b[43m,\u001b[49m\u001b[43m \u001b[49m\u001b[43mbuffer\u001b[49m\u001b[43m)\u001b[49m\n\u001b[1;32m   1242\u001b[0m \u001b[38;5;28;01melse\u001b[39;00m:\n",
      "File \u001b[0;32m~/opt/anaconda3/lib/python3.9/ssl.py:1099\u001b[0m, in \u001b[0;36mSSLSocket.read\u001b[0;34m(self, len, buffer)\u001b[0m\n\u001b[1;32m   1098\u001b[0m \u001b[38;5;28;01mif\u001b[39;00m buffer \u001b[38;5;129;01mis\u001b[39;00m \u001b[38;5;129;01mnot\u001b[39;00m \u001b[38;5;28;01mNone\u001b[39;00m:\n\u001b[0;32m-> 1099\u001b[0m     \u001b[38;5;28;01mreturn\u001b[39;00m \u001b[38;5;28;43mself\u001b[39;49m\u001b[38;5;241;43m.\u001b[39;49m\u001b[43m_sslobj\u001b[49m\u001b[38;5;241;43m.\u001b[39;49m\u001b[43mread\u001b[49m\u001b[43m(\u001b[49m\u001b[38;5;28;43mlen\u001b[39;49m\u001b[43m,\u001b[49m\u001b[43m \u001b[49m\u001b[43mbuffer\u001b[49m\u001b[43m)\u001b[49m\n\u001b[1;32m   1100\u001b[0m \u001b[38;5;28;01melse\u001b[39;00m:\n",
      "\u001b[0;31mtimeout\u001b[0m: The read operation timed out",
      "\nDuring handling of the above exception, another exception occurred:\n",
      "\u001b[0;31mReadTimeoutError\u001b[0m                          Traceback (most recent call last)",
      "File \u001b[0;32m~/opt/anaconda3/lib/python3.9/site-packages/requests/adapters.py:440\u001b[0m, in \u001b[0;36mHTTPAdapter.send\u001b[0;34m(self, request, stream, timeout, verify, cert, proxies)\u001b[0m\n\u001b[1;32m    439\u001b[0m \u001b[38;5;28;01mif\u001b[39;00m \u001b[38;5;129;01mnot\u001b[39;00m chunked:\n\u001b[0;32m--> 440\u001b[0m     resp \u001b[38;5;241m=\u001b[39m \u001b[43mconn\u001b[49m\u001b[38;5;241;43m.\u001b[39;49m\u001b[43murlopen\u001b[49m\u001b[43m(\u001b[49m\n\u001b[1;32m    441\u001b[0m \u001b[43m        \u001b[49m\u001b[43mmethod\u001b[49m\u001b[38;5;241;43m=\u001b[39;49m\u001b[43mrequest\u001b[49m\u001b[38;5;241;43m.\u001b[39;49m\u001b[43mmethod\u001b[49m\u001b[43m,\u001b[49m\n\u001b[1;32m    442\u001b[0m \u001b[43m        \u001b[49m\u001b[43murl\u001b[49m\u001b[38;5;241;43m=\u001b[39;49m\u001b[43murl\u001b[49m\u001b[43m,\u001b[49m\n\u001b[1;32m    443\u001b[0m \u001b[43m        \u001b[49m\u001b[43mbody\u001b[49m\u001b[38;5;241;43m=\u001b[39;49m\u001b[43mrequest\u001b[49m\u001b[38;5;241;43m.\u001b[39;49m\u001b[43mbody\u001b[49m\u001b[43m,\u001b[49m\n\u001b[1;32m    444\u001b[0m \u001b[43m        \u001b[49m\u001b[43mheaders\u001b[49m\u001b[38;5;241;43m=\u001b[39;49m\u001b[43mrequest\u001b[49m\u001b[38;5;241;43m.\u001b[39;49m\u001b[43mheaders\u001b[49m\u001b[43m,\u001b[49m\n\u001b[1;32m    445\u001b[0m \u001b[43m        \u001b[49m\u001b[43mredirect\u001b[49m\u001b[38;5;241;43m=\u001b[39;49m\u001b[38;5;28;43;01mFalse\u001b[39;49;00m\u001b[43m,\u001b[49m\n\u001b[1;32m    446\u001b[0m \u001b[43m        \u001b[49m\u001b[43massert_same_host\u001b[49m\u001b[38;5;241;43m=\u001b[39;49m\u001b[38;5;28;43;01mFalse\u001b[39;49;00m\u001b[43m,\u001b[49m\n\u001b[1;32m    447\u001b[0m \u001b[43m        \u001b[49m\u001b[43mpreload_content\u001b[49m\u001b[38;5;241;43m=\u001b[39;49m\u001b[38;5;28;43;01mFalse\u001b[39;49;00m\u001b[43m,\u001b[49m\n\u001b[1;32m    448\u001b[0m \u001b[43m        \u001b[49m\u001b[43mdecode_content\u001b[49m\u001b[38;5;241;43m=\u001b[39;49m\u001b[38;5;28;43;01mFalse\u001b[39;49;00m\u001b[43m,\u001b[49m\n\u001b[1;32m    449\u001b[0m \u001b[43m        \u001b[49m\u001b[43mretries\u001b[49m\u001b[38;5;241;43m=\u001b[39;49m\u001b[38;5;28;43mself\u001b[39;49m\u001b[38;5;241;43m.\u001b[39;49m\u001b[43mmax_retries\u001b[49m\u001b[43m,\u001b[49m\n\u001b[1;32m    450\u001b[0m \u001b[43m        \u001b[49m\u001b[43mtimeout\u001b[49m\u001b[38;5;241;43m=\u001b[39;49m\u001b[43mtimeout\u001b[49m\n\u001b[1;32m    451\u001b[0m \u001b[43m    \u001b[49m\u001b[43m)\u001b[49m\n\u001b[1;32m    453\u001b[0m \u001b[38;5;66;03m# Send the request.\u001b[39;00m\n\u001b[1;32m    454\u001b[0m \u001b[38;5;28;01melse\u001b[39;00m:\n",
      "File \u001b[0;32m~/opt/anaconda3/lib/python3.9/site-packages/urllib3/connectionpool.py:785\u001b[0m, in \u001b[0;36mHTTPConnectionPool.urlopen\u001b[0;34m(self, method, url, body, headers, retries, redirect, assert_same_host, timeout, pool_timeout, release_conn, chunked, body_pos, **response_kw)\u001b[0m\n\u001b[1;32m    783\u001b[0m     e \u001b[38;5;241m=\u001b[39m ProtocolError(\u001b[38;5;124m\"\u001b[39m\u001b[38;5;124mConnection aborted.\u001b[39m\u001b[38;5;124m\"\u001b[39m, e)\n\u001b[0;32m--> 785\u001b[0m retries \u001b[38;5;241m=\u001b[39m \u001b[43mretries\u001b[49m\u001b[38;5;241;43m.\u001b[39;49m\u001b[43mincrement\u001b[49m\u001b[43m(\u001b[49m\n\u001b[1;32m    786\u001b[0m \u001b[43m    \u001b[49m\u001b[43mmethod\u001b[49m\u001b[43m,\u001b[49m\u001b[43m \u001b[49m\u001b[43murl\u001b[49m\u001b[43m,\u001b[49m\u001b[43m \u001b[49m\u001b[43merror\u001b[49m\u001b[38;5;241;43m=\u001b[39;49m\u001b[43me\u001b[49m\u001b[43m,\u001b[49m\u001b[43m \u001b[49m\u001b[43m_pool\u001b[49m\u001b[38;5;241;43m=\u001b[39;49m\u001b[38;5;28;43mself\u001b[39;49m\u001b[43m,\u001b[49m\u001b[43m \u001b[49m\u001b[43m_stacktrace\u001b[49m\u001b[38;5;241;43m=\u001b[39;49m\u001b[43msys\u001b[49m\u001b[38;5;241;43m.\u001b[39;49m\u001b[43mexc_info\u001b[49m\u001b[43m(\u001b[49m\u001b[43m)\u001b[49m\u001b[43m[\u001b[49m\u001b[38;5;241;43m2\u001b[39;49m\u001b[43m]\u001b[49m\n\u001b[1;32m    787\u001b[0m \u001b[43m\u001b[49m\u001b[43m)\u001b[49m\n\u001b[1;32m    788\u001b[0m retries\u001b[38;5;241m.\u001b[39msleep()\n",
      "File \u001b[0;32m~/opt/anaconda3/lib/python3.9/site-packages/urllib3/util/retry.py:550\u001b[0m, in \u001b[0;36mRetry.increment\u001b[0;34m(self, method, url, response, error, _pool, _stacktrace)\u001b[0m\n\u001b[1;32m    549\u001b[0m \u001b[38;5;28;01mif\u001b[39;00m read \u001b[38;5;129;01mis\u001b[39;00m \u001b[38;5;28;01mFalse\u001b[39;00m \u001b[38;5;129;01mor\u001b[39;00m \u001b[38;5;129;01mnot\u001b[39;00m \u001b[38;5;28mself\u001b[39m\u001b[38;5;241m.\u001b[39m_is_method_retryable(method):\n\u001b[0;32m--> 550\u001b[0m     \u001b[38;5;28;01mraise\u001b[39;00m \u001b[43msix\u001b[49m\u001b[38;5;241;43m.\u001b[39;49m\u001b[43mreraise\u001b[49m\u001b[43m(\u001b[49m\u001b[38;5;28;43mtype\u001b[39;49m\u001b[43m(\u001b[49m\u001b[43merror\u001b[49m\u001b[43m)\u001b[49m\u001b[43m,\u001b[49m\u001b[43m \u001b[49m\u001b[43merror\u001b[49m\u001b[43m,\u001b[49m\u001b[43m \u001b[49m\u001b[43m_stacktrace\u001b[49m\u001b[43m)\u001b[49m\n\u001b[1;32m    551\u001b[0m \u001b[38;5;28;01melif\u001b[39;00m read \u001b[38;5;129;01mis\u001b[39;00m \u001b[38;5;129;01mnot\u001b[39;00m \u001b[38;5;28;01mNone\u001b[39;00m:\n",
      "File \u001b[0;32m~/opt/anaconda3/lib/python3.9/site-packages/urllib3/packages/six.py:770\u001b[0m, in \u001b[0;36mreraise\u001b[0;34m(tp, value, tb)\u001b[0m\n\u001b[1;32m    769\u001b[0m         \u001b[38;5;28;01mraise\u001b[39;00m value\u001b[38;5;241m.\u001b[39mwith_traceback(tb)\n\u001b[0;32m--> 770\u001b[0m     \u001b[38;5;28;01mraise\u001b[39;00m value\n\u001b[1;32m    771\u001b[0m \u001b[38;5;28;01mfinally\u001b[39;00m:\n",
      "File \u001b[0;32m~/opt/anaconda3/lib/python3.9/site-packages/urllib3/connectionpool.py:703\u001b[0m, in \u001b[0;36mHTTPConnectionPool.urlopen\u001b[0;34m(self, method, url, body, headers, retries, redirect, assert_same_host, timeout, pool_timeout, release_conn, chunked, body_pos, **response_kw)\u001b[0m\n\u001b[1;32m    702\u001b[0m \u001b[38;5;66;03m# Make the request on the httplib connection object.\u001b[39;00m\n\u001b[0;32m--> 703\u001b[0m httplib_response \u001b[38;5;241m=\u001b[39m \u001b[38;5;28;43mself\u001b[39;49m\u001b[38;5;241;43m.\u001b[39;49m\u001b[43m_make_request\u001b[49m\u001b[43m(\u001b[49m\n\u001b[1;32m    704\u001b[0m \u001b[43m    \u001b[49m\u001b[43mconn\u001b[49m\u001b[43m,\u001b[49m\n\u001b[1;32m    705\u001b[0m \u001b[43m    \u001b[49m\u001b[43mmethod\u001b[49m\u001b[43m,\u001b[49m\n\u001b[1;32m    706\u001b[0m \u001b[43m    \u001b[49m\u001b[43murl\u001b[49m\u001b[43m,\u001b[49m\n\u001b[1;32m    707\u001b[0m \u001b[43m    \u001b[49m\u001b[43mtimeout\u001b[49m\u001b[38;5;241;43m=\u001b[39;49m\u001b[43mtimeout_obj\u001b[49m\u001b[43m,\u001b[49m\n\u001b[1;32m    708\u001b[0m \u001b[43m    \u001b[49m\u001b[43mbody\u001b[49m\u001b[38;5;241;43m=\u001b[39;49m\u001b[43mbody\u001b[49m\u001b[43m,\u001b[49m\n\u001b[1;32m    709\u001b[0m \u001b[43m    \u001b[49m\u001b[43mheaders\u001b[49m\u001b[38;5;241;43m=\u001b[39;49m\u001b[43mheaders\u001b[49m\u001b[43m,\u001b[49m\n\u001b[1;32m    710\u001b[0m \u001b[43m    \u001b[49m\u001b[43mchunked\u001b[49m\u001b[38;5;241;43m=\u001b[39;49m\u001b[43mchunked\u001b[49m\u001b[43m,\u001b[49m\n\u001b[1;32m    711\u001b[0m \u001b[43m\u001b[49m\u001b[43m)\u001b[49m\n\u001b[1;32m    713\u001b[0m \u001b[38;5;66;03m# If we're going to release the connection in ``finally:``, then\u001b[39;00m\n\u001b[1;32m    714\u001b[0m \u001b[38;5;66;03m# the response doesn't need to know about the connection. Otherwise\u001b[39;00m\n\u001b[1;32m    715\u001b[0m \u001b[38;5;66;03m# it will also try to release it and we'll have a double-release\u001b[39;00m\n\u001b[1;32m    716\u001b[0m \u001b[38;5;66;03m# mess.\u001b[39;00m\n",
      "File \u001b[0;32m~/opt/anaconda3/lib/python3.9/site-packages/urllib3/connectionpool.py:451\u001b[0m, in \u001b[0;36mHTTPConnectionPool._make_request\u001b[0;34m(self, conn, method, url, timeout, chunked, **httplib_request_kw)\u001b[0m\n\u001b[1;32m    450\u001b[0m \u001b[38;5;28;01mexcept\u001b[39;00m (SocketTimeout, BaseSSLError, SocketError) \u001b[38;5;28;01mas\u001b[39;00m e:\n\u001b[0;32m--> 451\u001b[0m     \u001b[38;5;28;43mself\u001b[39;49m\u001b[38;5;241;43m.\u001b[39;49m\u001b[43m_raise_timeout\u001b[49m\u001b[43m(\u001b[49m\u001b[43merr\u001b[49m\u001b[38;5;241;43m=\u001b[39;49m\u001b[43me\u001b[49m\u001b[43m,\u001b[49m\u001b[43m \u001b[49m\u001b[43murl\u001b[49m\u001b[38;5;241;43m=\u001b[39;49m\u001b[43murl\u001b[49m\u001b[43m,\u001b[49m\u001b[43m \u001b[49m\u001b[43mtimeout_value\u001b[49m\u001b[38;5;241;43m=\u001b[39;49m\u001b[43mread_timeout\u001b[49m\u001b[43m)\u001b[49m\n\u001b[1;32m    452\u001b[0m     \u001b[38;5;28;01mraise\u001b[39;00m\n",
      "File \u001b[0;32m~/opt/anaconda3/lib/python3.9/site-packages/urllib3/connectionpool.py:340\u001b[0m, in \u001b[0;36mHTTPConnectionPool._raise_timeout\u001b[0;34m(self, err, url, timeout_value)\u001b[0m\n\u001b[1;32m    339\u001b[0m \u001b[38;5;28;01mif\u001b[39;00m \u001b[38;5;28misinstance\u001b[39m(err, SocketTimeout):\n\u001b[0;32m--> 340\u001b[0m     \u001b[38;5;28;01mraise\u001b[39;00m ReadTimeoutError(\n\u001b[1;32m    341\u001b[0m         \u001b[38;5;28mself\u001b[39m, url, \u001b[38;5;124m\"\u001b[39m\u001b[38;5;124mRead timed out. (read timeout=\u001b[39m\u001b[38;5;132;01m%s\u001b[39;00m\u001b[38;5;124m)\u001b[39m\u001b[38;5;124m\"\u001b[39m \u001b[38;5;241m%\u001b[39m timeout_value\n\u001b[1;32m    342\u001b[0m     )\n\u001b[1;32m    344\u001b[0m \u001b[38;5;66;03m# See the above comment about EAGAIN in Python 3. In Python 2 we have\u001b[39;00m\n\u001b[1;32m    345\u001b[0m \u001b[38;5;66;03m# to specifically catch it and throw the timeout error\u001b[39;00m\n",
      "\u001b[0;31mReadTimeoutError\u001b[0m: HTTPSConnectionPool(host='api.spotify.com', port=443): Read timed out. (read timeout=5)",
      "\nDuring handling of the above exception, another exception occurred:\n",
      "\u001b[0;31mReadTimeout\u001b[0m                               Traceback (most recent call last)",
      "Input \u001b[0;32mIn [94]\u001b[0m, in \u001b[0;36m<cell line: 1>\u001b[0;34m()\u001b[0m\n\u001b[1;32m      1\u001b[0m \u001b[38;5;28;01mfor\u001b[39;00m i  \u001b[38;5;129;01min\u001b[39;00m  result[\u001b[38;5;241m23\u001b[39m]:\n\u001b[1;32m      2\u001b[0m     \u001b[38;5;28mprint\u001b[39m(i)\n\u001b[0;32m----> 3\u001b[0m     \u001b[43mget_features_df\u001b[49m\u001b[43m(\u001b[49m\u001b[43mi\u001b[49m\u001b[43m)\u001b[49m\n",
      "Input \u001b[0;32mIn [4]\u001b[0m, in \u001b[0;36mget_features_df\u001b[0;34m(playlist_id)\u001b[0m\n\u001b[1;32m     15\u001b[0m \u001b[38;5;66;03m#getting features per song in  playlist \u001b[39;00m\n\u001b[1;32m     16\u001b[0m     \u001b[38;5;28;01mfor\u001b[39;00m value \u001b[38;5;129;01min\u001b[39;00m \u001b[38;5;28mrange\u001b[39m(\u001b[38;5;241m0\u001b[39m,\u001b[38;5;28mlen\u001b[39m(tracks)):\n\u001b[0;32m---> 18\u001b[0m         list_of_audio_features\u001b[38;5;241m.\u001b[39mappend(\u001b[43msp\u001b[49m\u001b[38;5;241;43m.\u001b[39;49m\u001b[43maudio_features\u001b[49m\u001b[43m(\u001b[49m\u001b[43mtracks\u001b[49m\u001b[43m[\u001b[49m\u001b[43mvalue\u001b[49m\u001b[43m]\u001b[49m\u001b[43m[\u001b[49m\u001b[38;5;124;43m\"\u001b[39;49m\u001b[38;5;124;43mtrack\u001b[39;49m\u001b[38;5;124;43m\"\u001b[39;49m\u001b[43m]\u001b[49m\u001b[43m[\u001b[49m\u001b[38;5;124;43m\"\u001b[39;49m\u001b[38;5;124;43mid\u001b[39;49m\u001b[38;5;124;43m\"\u001b[39;49m\u001b[43m]\u001b[49m\u001b[43m)\u001b[49m[\u001b[38;5;241m0\u001b[39m])\n\u001b[1;32m     21\u001b[0m \u001b[38;5;66;03m#creating df with audio features and adding song name and artist     \u001b[39;00m\n\u001b[1;32m     22\u001b[0m     df\u001b[38;5;241m=\u001b[39mpd\u001b[38;5;241m.\u001b[39mDataFrame(list_of_audio_features)    \n",
      "File \u001b[0;32m~/opt/anaconda3/lib/python3.9/site-packages/spotipy/client.py:1680\u001b[0m, in \u001b[0;36mSpotify.audio_features\u001b[0;34m(self, tracks)\u001b[0m\n\u001b[1;32m   1678\u001b[0m \u001b[38;5;28;01mif\u001b[39;00m \u001b[38;5;28misinstance\u001b[39m(tracks, \u001b[38;5;28mstr\u001b[39m):\n\u001b[1;32m   1679\u001b[0m     trackid \u001b[38;5;241m=\u001b[39m \u001b[38;5;28mself\u001b[39m\u001b[38;5;241m.\u001b[39m_get_id(\u001b[38;5;124m\"\u001b[39m\u001b[38;5;124mtrack\u001b[39m\u001b[38;5;124m\"\u001b[39m, tracks)\n\u001b[0;32m-> 1680\u001b[0m     results \u001b[38;5;241m=\u001b[39m \u001b[38;5;28;43mself\u001b[39;49m\u001b[38;5;241;43m.\u001b[39;49m\u001b[43m_get\u001b[49m\u001b[43m(\u001b[49m\u001b[38;5;124;43m\"\u001b[39;49m\u001b[38;5;124;43maudio-features/?ids=\u001b[39;49m\u001b[38;5;124;43m\"\u001b[39;49m\u001b[43m \u001b[49m\u001b[38;5;241;43m+\u001b[39;49m\u001b[43m \u001b[49m\u001b[43mtrackid\u001b[49m\u001b[43m)\u001b[49m\n\u001b[1;32m   1681\u001b[0m \u001b[38;5;28;01melse\u001b[39;00m:\n\u001b[1;32m   1682\u001b[0m     tlist \u001b[38;5;241m=\u001b[39m [\u001b[38;5;28mself\u001b[39m\u001b[38;5;241m.\u001b[39m_get_id(\u001b[38;5;124m\"\u001b[39m\u001b[38;5;124mtrack\u001b[39m\u001b[38;5;124m\"\u001b[39m, t) \u001b[38;5;28;01mfor\u001b[39;00m t \u001b[38;5;129;01min\u001b[39;00m tracks]\n",
      "File \u001b[0;32m~/opt/anaconda3/lib/python3.9/site-packages/spotipy/client.py:297\u001b[0m, in \u001b[0;36mSpotify._get\u001b[0;34m(self, url, args, payload, **kwargs)\u001b[0m\n\u001b[1;32m    294\u001b[0m \u001b[38;5;28;01mif\u001b[39;00m args:\n\u001b[1;32m    295\u001b[0m     kwargs\u001b[38;5;241m.\u001b[39mupdate(args)\n\u001b[0;32m--> 297\u001b[0m \u001b[38;5;28;01mreturn\u001b[39;00m \u001b[38;5;28;43mself\u001b[39;49m\u001b[38;5;241;43m.\u001b[39;49m\u001b[43m_internal_call\u001b[49m\u001b[43m(\u001b[49m\u001b[38;5;124;43m\"\u001b[39;49m\u001b[38;5;124;43mGET\u001b[39;49m\u001b[38;5;124;43m\"\u001b[39;49m\u001b[43m,\u001b[49m\u001b[43m \u001b[49m\u001b[43murl\u001b[49m\u001b[43m,\u001b[49m\u001b[43m \u001b[49m\u001b[43mpayload\u001b[49m\u001b[43m,\u001b[49m\u001b[43m \u001b[49m\u001b[43mkwargs\u001b[49m\u001b[43m)\u001b[49m\n",
      "File \u001b[0;32m~/opt/anaconda3/lib/python3.9/site-packages/spotipy/client.py:240\u001b[0m, in \u001b[0;36mSpotify._internal_call\u001b[0;34m(self, method, url, payload, params)\u001b[0m\n\u001b[1;32m    236\u001b[0m logger\u001b[38;5;241m.\u001b[39mdebug(\u001b[38;5;124m'\u001b[39m\u001b[38;5;124mSending \u001b[39m\u001b[38;5;132;01m%s\u001b[39;00m\u001b[38;5;124m to \u001b[39m\u001b[38;5;132;01m%s\u001b[39;00m\u001b[38;5;124m with Params: \u001b[39m\u001b[38;5;132;01m%s\u001b[39;00m\u001b[38;5;124m Headers: \u001b[39m\u001b[38;5;132;01m%s\u001b[39;00m\u001b[38;5;124m and Body: \u001b[39m\u001b[38;5;132;01m%r\u001b[39;00m\u001b[38;5;124m \u001b[39m\u001b[38;5;124m'\u001b[39m,\n\u001b[1;32m    237\u001b[0m              method, url, args\u001b[38;5;241m.\u001b[39mget(\u001b[38;5;124m\"\u001b[39m\u001b[38;5;124mparams\u001b[39m\u001b[38;5;124m\"\u001b[39m), headers, args\u001b[38;5;241m.\u001b[39mget(\u001b[38;5;124m'\u001b[39m\u001b[38;5;124mdata\u001b[39m\u001b[38;5;124m'\u001b[39m))\n\u001b[1;32m    239\u001b[0m \u001b[38;5;28;01mtry\u001b[39;00m:\n\u001b[0;32m--> 240\u001b[0m     response \u001b[38;5;241m=\u001b[39m \u001b[38;5;28;43mself\u001b[39;49m\u001b[38;5;241;43m.\u001b[39;49m\u001b[43m_session\u001b[49m\u001b[38;5;241;43m.\u001b[39;49m\u001b[43mrequest\u001b[49m\u001b[43m(\u001b[49m\n\u001b[1;32m    241\u001b[0m \u001b[43m        \u001b[49m\u001b[43mmethod\u001b[49m\u001b[43m,\u001b[49m\u001b[43m \u001b[49m\u001b[43murl\u001b[49m\u001b[43m,\u001b[49m\u001b[43m \u001b[49m\u001b[43mheaders\u001b[49m\u001b[38;5;241;43m=\u001b[39;49m\u001b[43mheaders\u001b[49m\u001b[43m,\u001b[49m\u001b[43m \u001b[49m\u001b[43mproxies\u001b[49m\u001b[38;5;241;43m=\u001b[39;49m\u001b[38;5;28;43mself\u001b[39;49m\u001b[38;5;241;43m.\u001b[39;49m\u001b[43mproxies\u001b[49m\u001b[43m,\u001b[49m\n\u001b[1;32m    242\u001b[0m \u001b[43m        \u001b[49m\u001b[43mtimeout\u001b[49m\u001b[38;5;241;43m=\u001b[39;49m\u001b[38;5;28;43mself\u001b[39;49m\u001b[38;5;241;43m.\u001b[39;49m\u001b[43mrequests_timeout\u001b[49m\u001b[43m,\u001b[49m\u001b[43m \u001b[49m\u001b[38;5;241;43m*\u001b[39;49m\u001b[38;5;241;43m*\u001b[39;49m\u001b[43margs\u001b[49m\n\u001b[1;32m    243\u001b[0m \u001b[43m    \u001b[49m\u001b[43m)\u001b[49m\n\u001b[1;32m    245\u001b[0m     response\u001b[38;5;241m.\u001b[39mraise_for_status()\n\u001b[1;32m    246\u001b[0m     results \u001b[38;5;241m=\u001b[39m response\u001b[38;5;241m.\u001b[39mjson()\n",
      "File \u001b[0;32m~/opt/anaconda3/lib/python3.9/site-packages/requests/sessions.py:529\u001b[0m, in \u001b[0;36mSession.request\u001b[0;34m(self, method, url, params, data, headers, cookies, files, auth, timeout, allow_redirects, proxies, hooks, stream, verify, cert, json)\u001b[0m\n\u001b[1;32m    524\u001b[0m send_kwargs \u001b[38;5;241m=\u001b[39m {\n\u001b[1;32m    525\u001b[0m     \u001b[38;5;124m'\u001b[39m\u001b[38;5;124mtimeout\u001b[39m\u001b[38;5;124m'\u001b[39m: timeout,\n\u001b[1;32m    526\u001b[0m     \u001b[38;5;124m'\u001b[39m\u001b[38;5;124mallow_redirects\u001b[39m\u001b[38;5;124m'\u001b[39m: allow_redirects,\n\u001b[1;32m    527\u001b[0m }\n\u001b[1;32m    528\u001b[0m send_kwargs\u001b[38;5;241m.\u001b[39mupdate(settings)\n\u001b[0;32m--> 529\u001b[0m resp \u001b[38;5;241m=\u001b[39m \u001b[38;5;28;43mself\u001b[39;49m\u001b[38;5;241;43m.\u001b[39;49m\u001b[43msend\u001b[49m\u001b[43m(\u001b[49m\u001b[43mprep\u001b[49m\u001b[43m,\u001b[49m\u001b[43m \u001b[49m\u001b[38;5;241;43m*\u001b[39;49m\u001b[38;5;241;43m*\u001b[39;49m\u001b[43msend_kwargs\u001b[49m\u001b[43m)\u001b[49m\n\u001b[1;32m    531\u001b[0m \u001b[38;5;28;01mreturn\u001b[39;00m resp\n",
      "File \u001b[0;32m~/opt/anaconda3/lib/python3.9/site-packages/requests/sessions.py:645\u001b[0m, in \u001b[0;36mSession.send\u001b[0;34m(self, request, **kwargs)\u001b[0m\n\u001b[1;32m    642\u001b[0m start \u001b[38;5;241m=\u001b[39m preferred_clock()\n\u001b[1;32m    644\u001b[0m \u001b[38;5;66;03m# Send the request\u001b[39;00m\n\u001b[0;32m--> 645\u001b[0m r \u001b[38;5;241m=\u001b[39m \u001b[43madapter\u001b[49m\u001b[38;5;241;43m.\u001b[39;49m\u001b[43msend\u001b[49m\u001b[43m(\u001b[49m\u001b[43mrequest\u001b[49m\u001b[43m,\u001b[49m\u001b[43m \u001b[49m\u001b[38;5;241;43m*\u001b[39;49m\u001b[38;5;241;43m*\u001b[39;49m\u001b[43mkwargs\u001b[49m\u001b[43m)\u001b[49m\n\u001b[1;32m    647\u001b[0m \u001b[38;5;66;03m# Total elapsed time of the request (approximately)\u001b[39;00m\n\u001b[1;32m    648\u001b[0m elapsed \u001b[38;5;241m=\u001b[39m preferred_clock() \u001b[38;5;241m-\u001b[39m start\n",
      "File \u001b[0;32m~/opt/anaconda3/lib/python3.9/site-packages/requests/adapters.py:532\u001b[0m, in \u001b[0;36mHTTPAdapter.send\u001b[0;34m(self, request, stream, timeout, verify, cert, proxies)\u001b[0m\n\u001b[1;32m    530\u001b[0m     \u001b[38;5;28;01mraise\u001b[39;00m SSLError(e, request\u001b[38;5;241m=\u001b[39mrequest)\n\u001b[1;32m    531\u001b[0m \u001b[38;5;28;01melif\u001b[39;00m \u001b[38;5;28misinstance\u001b[39m(e, ReadTimeoutError):\n\u001b[0;32m--> 532\u001b[0m     \u001b[38;5;28;01mraise\u001b[39;00m ReadTimeout(e, request\u001b[38;5;241m=\u001b[39mrequest)\n\u001b[1;32m    533\u001b[0m \u001b[38;5;28;01melif\u001b[39;00m \u001b[38;5;28misinstance\u001b[39m(e, _InvalidHeader):\n\u001b[1;32m    534\u001b[0m     \u001b[38;5;28;01mraise\u001b[39;00m InvalidHeader(e, request\u001b[38;5;241m=\u001b[39mrequest)\n",
      "\u001b[0;31mReadTimeout\u001b[0m: HTTPSConnectionPool(host='api.spotify.com', port=443): Read timed out. (read timeout=5)"
     ]
    }
   ],
   "source": [
    "for i  in  result[23]:\n",
    "    print(i)\n",
    "    get_features_df(i)"
   ]
  },
  {
   "cell_type": "code",
   "execution_count": 96,
   "id": "b080c40f",
   "metadata": {},
   "outputs": [
    {
     "name": "stdout",
     "output_type": "stream",
     "text": [
      "0UYBXYXU6iAs0RJqnteZW7\n"
     ]
    },
    {
     "name": "stderr",
     "output_type": "stream",
     "text": [
      "/var/folders/1n/phyrz16s0rd1_mpv046jgqf80000gn/T/ipykernel_17629/3181457209.py:28: FutureWarning: The frame.append method is deprecated and will be removed from pandas in a future version. Use pandas.concat instead.\n",
      "  big_df =big_df.append(df)\n"
     ]
    },
    {
     "name": "stdout",
     "output_type": "stream",
     "text": [
      "2c18XJtmWR962C1qAM6HAN\n"
     ]
    },
    {
     "name": "stderr",
     "output_type": "stream",
     "text": [
      "/var/folders/1n/phyrz16s0rd1_mpv046jgqf80000gn/T/ipykernel_17629/3181457209.py:28: FutureWarning: The frame.append method is deprecated and will be removed from pandas in a future version. Use pandas.concat instead.\n",
      "  big_df =big_df.append(df)\n"
     ]
    },
    {
     "name": "stdout",
     "output_type": "stream",
     "text": [
      "2dzVUieQEga2NiLQT4uTR2\n"
     ]
    },
    {
     "name": "stderr",
     "output_type": "stream",
     "text": [
      "/var/folders/1n/phyrz16s0rd1_mpv046jgqf80000gn/T/ipykernel_17629/3181457209.py:28: FutureWarning: The frame.append method is deprecated and will be removed from pandas in a future version. Use pandas.concat instead.\n",
      "  big_df =big_df.append(df)\n"
     ]
    },
    {
     "name": "stdout",
     "output_type": "stream",
     "text": [
      "4bHzKgawoIYIv79jMGS1pL\n"
     ]
    },
    {
     "name": "stderr",
     "output_type": "stream",
     "text": [
      "/var/folders/1n/phyrz16s0rd1_mpv046jgqf80000gn/T/ipykernel_17629/3181457209.py:28: FutureWarning: The frame.append method is deprecated and will be removed from pandas in a future version. Use pandas.concat instead.\n",
      "  big_df =big_df.append(df)\n"
     ]
    },
    {
     "name": "stdout",
     "output_type": "stream",
     "text": [
      "6IovjBTXeMtrEqJjd8vrla\n"
     ]
    },
    {
     "name": "stderr",
     "output_type": "stream",
     "text": [
      "/var/folders/1n/phyrz16s0rd1_mpv046jgqf80000gn/T/ipykernel_17629/3181457209.py:28: FutureWarning: The frame.append method is deprecated and will be removed from pandas in a future version. Use pandas.concat instead.\n",
      "  big_df =big_df.append(df)\n"
     ]
    },
    {
     "name": "stdout",
     "output_type": "stream",
     "text": [
      "6L5DYqEAWfLMEb6szUJpe4\n"
     ]
    },
    {
     "name": "stderr",
     "output_type": "stream",
     "text": [
      "/var/folders/1n/phyrz16s0rd1_mpv046jgqf80000gn/T/ipykernel_17629/3181457209.py:28: FutureWarning: The frame.append method is deprecated and will be removed from pandas in a future version. Use pandas.concat instead.\n",
      "  big_df =big_df.append(df)\n"
     ]
    },
    {
     "name": "stdout",
     "output_type": "stream",
     "text": [
      "5EVoGPRq1fYIcLhFCUiydQ\n"
     ]
    },
    {
     "name": "stderr",
     "output_type": "stream",
     "text": [
      "/var/folders/1n/phyrz16s0rd1_mpv046jgqf80000gn/T/ipykernel_17629/3181457209.py:28: FutureWarning: The frame.append method is deprecated and will be removed from pandas in a future version. Use pandas.concat instead.\n",
      "  big_df =big_df.append(df)\n"
     ]
    },
    {
     "name": "stdout",
     "output_type": "stream",
     "text": [
      "1gCKEPHP1xQmIBMqw4aF9M\n"
     ]
    },
    {
     "name": "stderr",
     "output_type": "stream",
     "text": [
      "/var/folders/1n/phyrz16s0rd1_mpv046jgqf80000gn/T/ipykernel_17629/3181457209.py:28: FutureWarning: The frame.append method is deprecated and will be removed from pandas in a future version. Use pandas.concat instead.\n",
      "  big_df =big_df.append(df)\n"
     ]
    },
    {
     "name": "stdout",
     "output_type": "stream",
     "text": [
      "5gZ3OHKBftwK36rncggUxx\n"
     ]
    },
    {
     "name": "stderr",
     "output_type": "stream",
     "text": [
      "/var/folders/1n/phyrz16s0rd1_mpv046jgqf80000gn/T/ipykernel_17629/3181457209.py:28: FutureWarning: The frame.append method is deprecated and will be removed from pandas in a future version. Use pandas.concat instead.\n",
      "  big_df =big_df.append(df)\n"
     ]
    },
    {
     "name": "stdout",
     "output_type": "stream",
     "text": [
      "1UJTujbW6NmQ1xqzNcDaY7\n"
     ]
    },
    {
     "name": "stderr",
     "output_type": "stream",
     "text": [
      "/var/folders/1n/phyrz16s0rd1_mpv046jgqf80000gn/T/ipykernel_17629/3181457209.py:28: FutureWarning: The frame.append method is deprecated and will be removed from pandas in a future version. Use pandas.concat instead.\n",
      "  big_df =big_df.append(df)\n"
     ]
    },
    {
     "name": "stdout",
     "output_type": "stream",
     "text": [
      "7mMkzbc7EHjOtaLiW0O3ya\n"
     ]
    },
    {
     "name": "stderr",
     "output_type": "stream",
     "text": [
      "/var/folders/1n/phyrz16s0rd1_mpv046jgqf80000gn/T/ipykernel_17629/3181457209.py:28: FutureWarning: The frame.append method is deprecated and will be removed from pandas in a future version. Use pandas.concat instead.\n",
      "  big_df =big_df.append(df)\n"
     ]
    },
    {
     "name": "stdout",
     "output_type": "stream",
     "text": [
      "4tQLejuIwBey0NjUpLxPwb\n"
     ]
    },
    {
     "name": "stderr",
     "output_type": "stream",
     "text": [
      "/var/folders/1n/phyrz16s0rd1_mpv046jgqf80000gn/T/ipykernel_17629/3181457209.py:28: FutureWarning: The frame.append method is deprecated and will be removed from pandas in a future version. Use pandas.concat instead.\n",
      "  big_df =big_df.append(df)\n"
     ]
    },
    {
     "name": "stdout",
     "output_type": "stream",
     "text": [
      "5RmdN1TuYgoPmnQmMYE9X6\n"
     ]
    },
    {
     "name": "stderr",
     "output_type": "stream",
     "text": [
      "/var/folders/1n/phyrz16s0rd1_mpv046jgqf80000gn/T/ipykernel_17629/3181457209.py:28: FutureWarning: The frame.append method is deprecated and will be removed from pandas in a future version. Use pandas.concat instead.\n",
      "  big_df =big_df.append(df)\n"
     ]
    },
    {
     "name": "stdout",
     "output_type": "stream",
     "text": [
      "4iRVszozo0kiDmgIqzmZxY\n"
     ]
    },
    {
     "name": "stderr",
     "output_type": "stream",
     "text": [
      "/var/folders/1n/phyrz16s0rd1_mpv046jgqf80000gn/T/ipykernel_17629/3181457209.py:28: FutureWarning: The frame.append method is deprecated and will be removed from pandas in a future version. Use pandas.concat instead.\n",
      "  big_df =big_df.append(df)\n"
     ]
    },
    {
     "name": "stdout",
     "output_type": "stream",
     "text": [
      "6JBXZSjISi9ugN1Q0Ku9cN\n"
     ]
    },
    {
     "name": "stderr",
     "output_type": "stream",
     "text": [
      "/var/folders/1n/phyrz16s0rd1_mpv046jgqf80000gn/T/ipykernel_17629/3181457209.py:28: FutureWarning: The frame.append method is deprecated and will be removed from pandas in a future version. Use pandas.concat instead.\n",
      "  big_df =big_df.append(df)\n"
     ]
    },
    {
     "name": "stdout",
     "output_type": "stream",
     "text": [
      "4TpeBpehkryLCrVHrI5NWW\n"
     ]
    },
    {
     "name": "stderr",
     "output_type": "stream",
     "text": [
      "/var/folders/1n/phyrz16s0rd1_mpv046jgqf80000gn/T/ipykernel_17629/3181457209.py:28: FutureWarning: The frame.append method is deprecated and will be removed from pandas in a future version. Use pandas.concat instead.\n",
      "  big_df =big_df.append(df)\n"
     ]
    },
    {
     "name": "stdout",
     "output_type": "stream",
     "text": [
      "6CXa9mSWjMfcAp07TyU60l\n"
     ]
    },
    {
     "name": "stderr",
     "output_type": "stream",
     "text": [
      "/var/folders/1n/phyrz16s0rd1_mpv046jgqf80000gn/T/ipykernel_17629/3181457209.py:28: FutureWarning: The frame.append method is deprecated and will be removed from pandas in a future version. Use pandas.concat instead.\n",
      "  big_df =big_df.append(df)\n"
     ]
    },
    {
     "name": "stdout",
     "output_type": "stream",
     "text": [
      "5b7iuK1KtA1Ml7JrYpOUGr\n"
     ]
    },
    {
     "name": "stderr",
     "output_type": "stream",
     "text": [
      "/var/folders/1n/phyrz16s0rd1_mpv046jgqf80000gn/T/ipykernel_17629/3181457209.py:28: FutureWarning: The frame.append method is deprecated and will be removed from pandas in a future version. Use pandas.concat instead.\n",
      "  big_df =big_df.append(df)\n"
     ]
    },
    {
     "name": "stdout",
     "output_type": "stream",
     "text": [
      "4Pbi9IXKK2lD9VnHO2wGxO\n"
     ]
    },
    {
     "name": "stderr",
     "output_type": "stream",
     "text": [
      "/var/folders/1n/phyrz16s0rd1_mpv046jgqf80000gn/T/ipykernel_17629/3181457209.py:28: FutureWarning: The frame.append method is deprecated and will be removed from pandas in a future version. Use pandas.concat instead.\n",
      "  big_df =big_df.append(df)\n"
     ]
    },
    {
     "name": "stdout",
     "output_type": "stream",
     "text": [
      "4vsDauJPmHBEIigU2GnY2p\n"
     ]
    },
    {
     "name": "stderr",
     "output_type": "stream",
     "text": [
      "/var/folders/1n/phyrz16s0rd1_mpv046jgqf80000gn/T/ipykernel_17629/3181457209.py:28: FutureWarning: The frame.append method is deprecated and will be removed from pandas in a future version. Use pandas.concat instead.\n",
      "  big_df =big_df.append(df)\n"
     ]
    },
    {
     "name": "stdout",
     "output_type": "stream",
     "text": [
      "1WoBse7KwMPGy9uIwoe5o7\n"
     ]
    },
    {
     "name": "stderr",
     "output_type": "stream",
     "text": [
      "/var/folders/1n/phyrz16s0rd1_mpv046jgqf80000gn/T/ipykernel_17629/3181457209.py:28: FutureWarning: The frame.append method is deprecated and will be removed from pandas in a future version. Use pandas.concat instead.\n",
      "  big_df =big_df.append(df)\n"
     ]
    },
    {
     "name": "stdout",
     "output_type": "stream",
     "text": [
      "3NOxMf5RZTnCXdC3qrqCxB\n"
     ]
    },
    {
     "name": "stderr",
     "output_type": "stream",
     "text": [
      "/var/folders/1n/phyrz16s0rd1_mpv046jgqf80000gn/T/ipykernel_17629/3181457209.py:28: FutureWarning: The frame.append method is deprecated and will be removed from pandas in a future version. Use pandas.concat instead.\n",
      "  big_df =big_df.append(df)\n"
     ]
    },
    {
     "name": "stdout",
     "output_type": "stream",
     "text": [
      "0HbEsUZEhUiNZwMPzzMk5u\n"
     ]
    },
    {
     "name": "stderr",
     "output_type": "stream",
     "text": [
      "/var/folders/1n/phyrz16s0rd1_mpv046jgqf80000gn/T/ipykernel_17629/3181457209.py:28: FutureWarning: The frame.append method is deprecated and will be removed from pandas in a future version. Use pandas.concat instead.\n",
      "  big_df =big_df.append(df)\n"
     ]
    },
    {
     "name": "stdout",
     "output_type": "stream",
     "text": [
      "3hDWEELdaUjBONwNB2jMGV\n"
     ]
    },
    {
     "name": "stderr",
     "output_type": "stream",
     "text": [
      "/var/folders/1n/phyrz16s0rd1_mpv046jgqf80000gn/T/ipykernel_17629/3181457209.py:28: FutureWarning: The frame.append method is deprecated and will be removed from pandas in a future version. Use pandas.concat instead.\n",
      "  big_df =big_df.append(df)\n"
     ]
    },
    {
     "name": "stdout",
     "output_type": "stream",
     "text": [
      "3kznfCszuHhUojhZvXzdFC\n"
     ]
    },
    {
     "name": "stderr",
     "output_type": "stream",
     "text": [
      "/var/folders/1n/phyrz16s0rd1_mpv046jgqf80000gn/T/ipykernel_17629/3181457209.py:28: FutureWarning: The frame.append method is deprecated and will be removed from pandas in a future version. Use pandas.concat instead.\n",
      "  big_df =big_df.append(df)\n"
     ]
    },
    {
     "name": "stdout",
     "output_type": "stream",
     "text": [
      "5pTlHziwBE6lzIvpBvjfnL\n"
     ]
    },
    {
     "name": "stderr",
     "output_type": "stream",
     "text": [
      "/var/folders/1n/phyrz16s0rd1_mpv046jgqf80000gn/T/ipykernel_17629/3181457209.py:28: FutureWarning: The frame.append method is deprecated and will be removed from pandas in a future version. Use pandas.concat instead.\n",
      "  big_df =big_df.append(df)\n"
     ]
    },
    {
     "name": "stdout",
     "output_type": "stream",
     "text": [
      "1sy0OGu2TTXLTiZ7zMdcoB\n"
     ]
    },
    {
     "name": "stderr",
     "output_type": "stream",
     "text": [
      "/var/folders/1n/phyrz16s0rd1_mpv046jgqf80000gn/T/ipykernel_17629/3181457209.py:28: FutureWarning: The frame.append method is deprecated and will be removed from pandas in a future version. Use pandas.concat instead.\n",
      "  big_df =big_df.append(df)\n"
     ]
    },
    {
     "name": "stdout",
     "output_type": "stream",
     "text": [
      "5MB3Fi7uDmoOlZkyctKwNK\n"
     ]
    },
    {
     "name": "stderr",
     "output_type": "stream",
     "text": [
      "/var/folders/1n/phyrz16s0rd1_mpv046jgqf80000gn/T/ipykernel_17629/3181457209.py:28: FutureWarning: The frame.append method is deprecated and will be removed from pandas in a future version. Use pandas.concat instead.\n",
      "  big_df =big_df.append(df)\n"
     ]
    },
    {
     "name": "stdout",
     "output_type": "stream",
     "text": [
      "3IzGDWlfu7VTZEK9Cnadyf\n"
     ]
    },
    {
     "name": "stderr",
     "output_type": "stream",
     "text": [
      "/var/folders/1n/phyrz16s0rd1_mpv046jgqf80000gn/T/ipykernel_17629/3181457209.py:28: FutureWarning: The frame.append method is deprecated and will be removed from pandas in a future version. Use pandas.concat instead.\n",
      "  big_df =big_df.append(df)\n"
     ]
    },
    {
     "name": "stdout",
     "output_type": "stream",
     "text": [
      "2AC2tTYulJO3e4IQkPZndE\n"
     ]
    },
    {
     "name": "stderr",
     "output_type": "stream",
     "text": [
      "/var/folders/1n/phyrz16s0rd1_mpv046jgqf80000gn/T/ipykernel_17629/3181457209.py:28: FutureWarning: The frame.append method is deprecated and will be removed from pandas in a future version. Use pandas.concat instead.\n",
      "  big_df =big_df.append(df)\n"
     ]
    },
    {
     "name": "stdout",
     "output_type": "stream",
     "text": [
      "5akdeWIPyZlIYz23s861Fn\n"
     ]
    },
    {
     "name": "stderr",
     "output_type": "stream",
     "text": [
      "/var/folders/1n/phyrz16s0rd1_mpv046jgqf80000gn/T/ipykernel_17629/3181457209.py:28: FutureWarning: The frame.append method is deprecated and will be removed from pandas in a future version. Use pandas.concat instead.\n",
      "  big_df =big_df.append(df)\n"
     ]
    },
    {
     "name": "stdout",
     "output_type": "stream",
     "text": [
      "0S6rCiZ30gNEVxpsvtpKSQ\n"
     ]
    },
    {
     "name": "stderr",
     "output_type": "stream",
     "text": [
      "/var/folders/1n/phyrz16s0rd1_mpv046jgqf80000gn/T/ipykernel_17629/3181457209.py:28: FutureWarning: The frame.append method is deprecated and will be removed from pandas in a future version. Use pandas.concat instead.\n",
      "  big_df =big_df.append(df)\n"
     ]
    },
    {
     "name": "stdout",
     "output_type": "stream",
     "text": [
      "438mjqOPOjUa3aY1sOW50Q\n"
     ]
    },
    {
     "name": "stderr",
     "output_type": "stream",
     "text": [
      "/var/folders/1n/phyrz16s0rd1_mpv046jgqf80000gn/T/ipykernel_17629/3181457209.py:28: FutureWarning: The frame.append method is deprecated and will be removed from pandas in a future version. Use pandas.concat instead.\n",
      "  big_df =big_df.append(df)\n"
     ]
    },
    {
     "name": "stdout",
     "output_type": "stream",
     "text": [
      "2zPhIrBINowwbkxiGkdrec\n"
     ]
    },
    {
     "name": "stderr",
     "output_type": "stream",
     "text": [
      "/var/folders/1n/phyrz16s0rd1_mpv046jgqf80000gn/T/ipykernel_17629/3181457209.py:28: FutureWarning: The frame.append method is deprecated and will be removed from pandas in a future version. Use pandas.concat instead.\n",
      "  big_df =big_df.append(df)\n"
     ]
    },
    {
     "name": "stdout",
     "output_type": "stream",
     "text": [
      "1SDsQL5zFGmnZy4w7mk1ub\n"
     ]
    },
    {
     "name": "stderr",
     "output_type": "stream",
     "text": [
      "/var/folders/1n/phyrz16s0rd1_mpv046jgqf80000gn/T/ipykernel_17629/3181457209.py:28: FutureWarning: The frame.append method is deprecated and will be removed from pandas in a future version. Use pandas.concat instead.\n",
      "  big_df =big_df.append(df)\n"
     ]
    },
    {
     "name": "stdout",
     "output_type": "stream",
     "text": [
      "5jGdQxtYegtKRvGJqo8315\n"
     ]
    },
    {
     "name": "stderr",
     "output_type": "stream",
     "text": [
      "/var/folders/1n/phyrz16s0rd1_mpv046jgqf80000gn/T/ipykernel_17629/3181457209.py:28: FutureWarning: The frame.append method is deprecated and will be removed from pandas in a future version. Use pandas.concat instead.\n",
      "  big_df =big_df.append(df)\n"
     ]
    },
    {
     "name": "stdout",
     "output_type": "stream",
     "text": [
      "55tjSUI5gT2qRtjECLE1qf\n"
     ]
    },
    {
     "name": "stderr",
     "output_type": "stream",
     "text": [
      "/var/folders/1n/phyrz16s0rd1_mpv046jgqf80000gn/T/ipykernel_17629/3181457209.py:28: FutureWarning: The frame.append method is deprecated and will be removed from pandas in a future version. Use pandas.concat instead.\n",
      "  big_df =big_df.append(df)\n"
     ]
    },
    {
     "name": "stdout",
     "output_type": "stream",
     "text": [
      "6lMZE2UCxN6J7un54fIwAy\n"
     ]
    },
    {
     "name": "stderr",
     "output_type": "stream",
     "text": [
      "/var/folders/1n/phyrz16s0rd1_mpv046jgqf80000gn/T/ipykernel_17629/3181457209.py:28: FutureWarning: The frame.append method is deprecated and will be removed from pandas in a future version. Use pandas.concat instead.\n",
      "  big_df =big_df.append(df)\n"
     ]
    },
    {
     "name": "stdout",
     "output_type": "stream",
     "text": [
      "0f2OuB5CtLhR811C1epsFr\n"
     ]
    },
    {
     "name": "stderr",
     "output_type": "stream",
     "text": [
      "/var/folders/1n/phyrz16s0rd1_mpv046jgqf80000gn/T/ipykernel_17629/3181457209.py:28: FutureWarning: The frame.append method is deprecated and will be removed from pandas in a future version. Use pandas.concat instead.\n",
      "  big_df =big_df.append(df)\n"
     ]
    },
    {
     "name": "stdout",
     "output_type": "stream",
     "text": [
      "3r6u8ciy6JcrdCDXMwtC0v\n"
     ]
    },
    {
     "name": "stderr",
     "output_type": "stream",
     "text": [
      "/var/folders/1n/phyrz16s0rd1_mpv046jgqf80000gn/T/ipykernel_17629/3181457209.py:28: FutureWarning: The frame.append method is deprecated and will be removed from pandas in a future version. Use pandas.concat instead.\n",
      "  big_df =big_df.append(df)\n"
     ]
    },
    {
     "name": "stdout",
     "output_type": "stream",
     "text": [
      "1zF0LnCMxw340KfckveaGM\n"
     ]
    },
    {
     "name": "stderr",
     "output_type": "stream",
     "text": [
      "/var/folders/1n/phyrz16s0rd1_mpv046jgqf80000gn/T/ipykernel_17629/3181457209.py:28: FutureWarning: The frame.append method is deprecated and will be removed from pandas in a future version. Use pandas.concat instead.\n",
      "  big_df =big_df.append(df)\n"
     ]
    },
    {
     "name": "stdout",
     "output_type": "stream",
     "text": [
      "2oTOp4JbYmmQke4KRt7fxj\n"
     ]
    },
    {
     "name": "stderr",
     "output_type": "stream",
     "text": [
      "/var/folders/1n/phyrz16s0rd1_mpv046jgqf80000gn/T/ipykernel_17629/3181457209.py:28: FutureWarning: The frame.append method is deprecated and will be removed from pandas in a future version. Use pandas.concat instead.\n",
      "  big_df =big_df.append(df)\n"
     ]
    },
    {
     "name": "stdout",
     "output_type": "stream",
     "text": [
      "5OKeXMU4U3u4NkPA1XqsUD\n"
     ]
    },
    {
     "name": "stderr",
     "output_type": "stream",
     "text": [
      "/var/folders/1n/phyrz16s0rd1_mpv046jgqf80000gn/T/ipykernel_17629/3181457209.py:28: FutureWarning: The frame.append method is deprecated and will be removed from pandas in a future version. Use pandas.concat instead.\n",
      "  big_df =big_df.append(df)\n"
     ]
    },
    {
     "name": "stdout",
     "output_type": "stream",
     "text": [
      "2sTxdHJ1Nf5vve4zmir510\n"
     ]
    },
    {
     "name": "stderr",
     "output_type": "stream",
     "text": [
      "/var/folders/1n/phyrz16s0rd1_mpv046jgqf80000gn/T/ipykernel_17629/3181457209.py:28: FutureWarning: The frame.append method is deprecated and will be removed from pandas in a future version. Use pandas.concat instead.\n",
      "  big_df =big_df.append(df)\n"
     ]
    },
    {
     "name": "stdout",
     "output_type": "stream",
     "text": [
      "3GL4HNVOg9IqD5jxVpSRp7\n"
     ]
    },
    {
     "name": "stderr",
     "output_type": "stream",
     "text": [
      "/var/folders/1n/phyrz16s0rd1_mpv046jgqf80000gn/T/ipykernel_17629/3181457209.py:28: FutureWarning: The frame.append method is deprecated and will be removed from pandas in a future version. Use pandas.concat instead.\n",
      "  big_df =big_df.append(df)\n"
     ]
    },
    {
     "name": "stdout",
     "output_type": "stream",
     "text": [
      "6NC5Dmw1bDL1pNHw9O4fK1\n"
     ]
    },
    {
     "name": "stderr",
     "output_type": "stream",
     "text": [
      "/var/folders/1n/phyrz16s0rd1_mpv046jgqf80000gn/T/ipykernel_17629/3181457209.py:28: FutureWarning: The frame.append method is deprecated and will be removed from pandas in a future version. Use pandas.concat instead.\n",
      "  big_df =big_df.append(df)\n"
     ]
    },
    {
     "name": "stdout",
     "output_type": "stream",
     "text": [
      "61mWpz3ZqIBLOd3MxbjWFR\n"
     ]
    },
    {
     "name": "stderr",
     "output_type": "stream",
     "text": [
      "/var/folders/1n/phyrz16s0rd1_mpv046jgqf80000gn/T/ipykernel_17629/3181457209.py:28: FutureWarning: The frame.append method is deprecated and will be removed from pandas in a future version. Use pandas.concat instead.\n",
      "  big_df =big_df.append(df)\n"
     ]
    },
    {
     "name": "stdout",
     "output_type": "stream",
     "text": [
      "5Zy6ZIVXhBE4nbmNhp8LLx\n"
     ]
    },
    {
     "name": "stderr",
     "output_type": "stream",
     "text": [
      "/var/folders/1n/phyrz16s0rd1_mpv046jgqf80000gn/T/ipykernel_17629/3181457209.py:28: FutureWarning: The frame.append method is deprecated and will be removed from pandas in a future version. Use pandas.concat instead.\n",
      "  big_df =big_df.append(df)\n"
     ]
    },
    {
     "name": "stdout",
     "output_type": "stream",
     "text": [
      "5otIcGrLz05cFq5Erhbdml\n"
     ]
    },
    {
     "name": "stderr",
     "output_type": "stream",
     "text": [
      "/var/folders/1n/phyrz16s0rd1_mpv046jgqf80000gn/T/ipykernel_17629/3181457209.py:28: FutureWarning: The frame.append method is deprecated and will be removed from pandas in a future version. Use pandas.concat instead.\n",
      "  big_df =big_df.append(df)\n"
     ]
    },
    {
     "name": "stdout",
     "output_type": "stream",
     "text": [
      "1IxeQOKZy4mzWWSTyEIPAC\n"
     ]
    },
    {
     "name": "stderr",
     "output_type": "stream",
     "text": [
      "/var/folders/1n/phyrz16s0rd1_mpv046jgqf80000gn/T/ipykernel_17629/3181457209.py:28: FutureWarning: The frame.append method is deprecated and will be removed from pandas in a future version. Use pandas.concat instead.\n",
      "  big_df =big_df.append(df)\n"
     ]
    },
    {
     "name": "stdout",
     "output_type": "stream",
     "text": [
      "5DcksqG6G4xJ9nu1t15wEQ\n"
     ]
    },
    {
     "name": "stderr",
     "output_type": "stream",
     "text": [
      "/var/folders/1n/phyrz16s0rd1_mpv046jgqf80000gn/T/ipykernel_17629/3181457209.py:28: FutureWarning: The frame.append method is deprecated and will be removed from pandas in a future version. Use pandas.concat instead.\n",
      "  big_df =big_df.append(df)\n"
     ]
    },
    {
     "name": "stdout",
     "output_type": "stream",
     "text": [
      "3EP7fmtL45NXEL0tpoO2ca\n"
     ]
    },
    {
     "ename": "ReadTimeout",
     "evalue": "HTTPSConnectionPool(host='api.spotify.com', port=443): Read timed out. (read timeout=5)",
     "output_type": "error",
     "traceback": [
      "\u001b[0;31m---------------------------------------------------------------------------\u001b[0m",
      "\u001b[0;31mtimeout\u001b[0m                                   Traceback (most recent call last)",
      "File \u001b[0;32m~/opt/anaconda3/lib/python3.9/site-packages/urllib3/connectionpool.py:449\u001b[0m, in \u001b[0;36mHTTPConnectionPool._make_request\u001b[0;34m(self, conn, method, url, timeout, chunked, **httplib_request_kw)\u001b[0m\n\u001b[1;32m    445\u001b[0m         \u001b[38;5;28;01mexcept\u001b[39;00m \u001b[38;5;167;01mBaseException\u001b[39;00m \u001b[38;5;28;01mas\u001b[39;00m e:\n\u001b[1;32m    446\u001b[0m             \u001b[38;5;66;03m# Remove the TypeError from the exception chain in\u001b[39;00m\n\u001b[1;32m    447\u001b[0m             \u001b[38;5;66;03m# Python 3 (including for exceptions like SystemExit).\u001b[39;00m\n\u001b[1;32m    448\u001b[0m             \u001b[38;5;66;03m# Otherwise it looks like a bug in the code.\u001b[39;00m\n\u001b[0;32m--> 449\u001b[0m             \u001b[43msix\u001b[49m\u001b[38;5;241;43m.\u001b[39;49m\u001b[43mraise_from\u001b[49m\u001b[43m(\u001b[49m\u001b[43me\u001b[49m\u001b[43m,\u001b[49m\u001b[43m \u001b[49m\u001b[38;5;28;43;01mNone\u001b[39;49;00m\u001b[43m)\u001b[49m\n\u001b[1;32m    450\u001b[0m \u001b[38;5;28;01mexcept\u001b[39;00m (SocketTimeout, BaseSSLError, SocketError) \u001b[38;5;28;01mas\u001b[39;00m e:\n",
      "File \u001b[0;32m<string>:3\u001b[0m, in \u001b[0;36mraise_from\u001b[0;34m(value, from_value)\u001b[0m\n",
      "File \u001b[0;32m~/opt/anaconda3/lib/python3.9/site-packages/urllib3/connectionpool.py:444\u001b[0m, in \u001b[0;36mHTTPConnectionPool._make_request\u001b[0;34m(self, conn, method, url, timeout, chunked, **httplib_request_kw)\u001b[0m\n\u001b[1;32m    443\u001b[0m \u001b[38;5;28;01mtry\u001b[39;00m:\n\u001b[0;32m--> 444\u001b[0m     httplib_response \u001b[38;5;241m=\u001b[39m \u001b[43mconn\u001b[49m\u001b[38;5;241;43m.\u001b[39;49m\u001b[43mgetresponse\u001b[49m\u001b[43m(\u001b[49m\u001b[43m)\u001b[49m\n\u001b[1;32m    445\u001b[0m \u001b[38;5;28;01mexcept\u001b[39;00m \u001b[38;5;167;01mBaseException\u001b[39;00m \u001b[38;5;28;01mas\u001b[39;00m e:\n\u001b[1;32m    446\u001b[0m     \u001b[38;5;66;03m# Remove the TypeError from the exception chain in\u001b[39;00m\n\u001b[1;32m    447\u001b[0m     \u001b[38;5;66;03m# Python 3 (including for exceptions like SystemExit).\u001b[39;00m\n\u001b[1;32m    448\u001b[0m     \u001b[38;5;66;03m# Otherwise it looks like a bug in the code.\u001b[39;00m\n",
      "File \u001b[0;32m~/opt/anaconda3/lib/python3.9/http/client.py:1377\u001b[0m, in \u001b[0;36mHTTPConnection.getresponse\u001b[0;34m(self)\u001b[0m\n\u001b[1;32m   1376\u001b[0m \u001b[38;5;28;01mtry\u001b[39;00m:\n\u001b[0;32m-> 1377\u001b[0m     \u001b[43mresponse\u001b[49m\u001b[38;5;241;43m.\u001b[39;49m\u001b[43mbegin\u001b[49m\u001b[43m(\u001b[49m\u001b[43m)\u001b[49m\n\u001b[1;32m   1378\u001b[0m \u001b[38;5;28;01mexcept\u001b[39;00m \u001b[38;5;167;01mConnectionError\u001b[39;00m:\n",
      "File \u001b[0;32m~/opt/anaconda3/lib/python3.9/http/client.py:320\u001b[0m, in \u001b[0;36mHTTPResponse.begin\u001b[0;34m(self)\u001b[0m\n\u001b[1;32m    319\u001b[0m \u001b[38;5;28;01mwhile\u001b[39;00m \u001b[38;5;28;01mTrue\u001b[39;00m:\n\u001b[0;32m--> 320\u001b[0m     version, status, reason \u001b[38;5;241m=\u001b[39m \u001b[38;5;28;43mself\u001b[39;49m\u001b[38;5;241;43m.\u001b[39;49m\u001b[43m_read_status\u001b[49m\u001b[43m(\u001b[49m\u001b[43m)\u001b[49m\n\u001b[1;32m    321\u001b[0m     \u001b[38;5;28;01mif\u001b[39;00m status \u001b[38;5;241m!=\u001b[39m CONTINUE:\n",
      "File \u001b[0;32m~/opt/anaconda3/lib/python3.9/http/client.py:281\u001b[0m, in \u001b[0;36mHTTPResponse._read_status\u001b[0;34m(self)\u001b[0m\n\u001b[1;32m    280\u001b[0m \u001b[38;5;28;01mdef\u001b[39;00m \u001b[38;5;21m_read_status\u001b[39m(\u001b[38;5;28mself\u001b[39m):\n\u001b[0;32m--> 281\u001b[0m     line \u001b[38;5;241m=\u001b[39m \u001b[38;5;28mstr\u001b[39m(\u001b[38;5;28;43mself\u001b[39;49m\u001b[38;5;241;43m.\u001b[39;49m\u001b[43mfp\u001b[49m\u001b[38;5;241;43m.\u001b[39;49m\u001b[43mreadline\u001b[49m\u001b[43m(\u001b[49m\u001b[43m_MAXLINE\u001b[49m\u001b[43m \u001b[49m\u001b[38;5;241;43m+\u001b[39;49m\u001b[43m \u001b[49m\u001b[38;5;241;43m1\u001b[39;49m\u001b[43m)\u001b[49m, \u001b[38;5;124m\"\u001b[39m\u001b[38;5;124miso-8859-1\u001b[39m\u001b[38;5;124m\"\u001b[39m)\n\u001b[1;32m    282\u001b[0m     \u001b[38;5;28;01mif\u001b[39;00m \u001b[38;5;28mlen\u001b[39m(line) \u001b[38;5;241m>\u001b[39m _MAXLINE:\n",
      "File \u001b[0;32m~/opt/anaconda3/lib/python3.9/socket.py:704\u001b[0m, in \u001b[0;36mSocketIO.readinto\u001b[0;34m(self, b)\u001b[0m\n\u001b[1;32m    703\u001b[0m \u001b[38;5;28;01mtry\u001b[39;00m:\n\u001b[0;32m--> 704\u001b[0m     \u001b[38;5;28;01mreturn\u001b[39;00m \u001b[38;5;28;43mself\u001b[39;49m\u001b[38;5;241;43m.\u001b[39;49m\u001b[43m_sock\u001b[49m\u001b[38;5;241;43m.\u001b[39;49m\u001b[43mrecv_into\u001b[49m\u001b[43m(\u001b[49m\u001b[43mb\u001b[49m\u001b[43m)\u001b[49m\n\u001b[1;32m    705\u001b[0m \u001b[38;5;28;01mexcept\u001b[39;00m timeout:\n",
      "File \u001b[0;32m~/opt/anaconda3/lib/python3.9/ssl.py:1241\u001b[0m, in \u001b[0;36mSSLSocket.recv_into\u001b[0;34m(self, buffer, nbytes, flags)\u001b[0m\n\u001b[1;32m   1238\u001b[0m         \u001b[38;5;28;01mraise\u001b[39;00m \u001b[38;5;167;01mValueError\u001b[39;00m(\n\u001b[1;32m   1239\u001b[0m           \u001b[38;5;124m\"\u001b[39m\u001b[38;5;124mnon-zero flags not allowed in calls to recv_into() on \u001b[39m\u001b[38;5;132;01m%s\u001b[39;00m\u001b[38;5;124m\"\u001b[39m \u001b[38;5;241m%\u001b[39m\n\u001b[1;32m   1240\u001b[0m           \u001b[38;5;28mself\u001b[39m\u001b[38;5;241m.\u001b[39m\u001b[38;5;18m__class__\u001b[39m)\n\u001b[0;32m-> 1241\u001b[0m     \u001b[38;5;28;01mreturn\u001b[39;00m \u001b[38;5;28;43mself\u001b[39;49m\u001b[38;5;241;43m.\u001b[39;49m\u001b[43mread\u001b[49m\u001b[43m(\u001b[49m\u001b[43mnbytes\u001b[49m\u001b[43m,\u001b[49m\u001b[43m \u001b[49m\u001b[43mbuffer\u001b[49m\u001b[43m)\u001b[49m\n\u001b[1;32m   1242\u001b[0m \u001b[38;5;28;01melse\u001b[39;00m:\n",
      "File \u001b[0;32m~/opt/anaconda3/lib/python3.9/ssl.py:1099\u001b[0m, in \u001b[0;36mSSLSocket.read\u001b[0;34m(self, len, buffer)\u001b[0m\n\u001b[1;32m   1098\u001b[0m \u001b[38;5;28;01mif\u001b[39;00m buffer \u001b[38;5;129;01mis\u001b[39;00m \u001b[38;5;129;01mnot\u001b[39;00m \u001b[38;5;28;01mNone\u001b[39;00m:\n\u001b[0;32m-> 1099\u001b[0m     \u001b[38;5;28;01mreturn\u001b[39;00m \u001b[38;5;28;43mself\u001b[39;49m\u001b[38;5;241;43m.\u001b[39;49m\u001b[43m_sslobj\u001b[49m\u001b[38;5;241;43m.\u001b[39;49m\u001b[43mread\u001b[49m\u001b[43m(\u001b[49m\u001b[38;5;28;43mlen\u001b[39;49m\u001b[43m,\u001b[49m\u001b[43m \u001b[49m\u001b[43mbuffer\u001b[49m\u001b[43m)\u001b[49m\n\u001b[1;32m   1100\u001b[0m \u001b[38;5;28;01melse\u001b[39;00m:\n",
      "\u001b[0;31mtimeout\u001b[0m: The read operation timed out",
      "\nDuring handling of the above exception, another exception occurred:\n",
      "\u001b[0;31mReadTimeoutError\u001b[0m                          Traceback (most recent call last)",
      "File \u001b[0;32m~/opt/anaconda3/lib/python3.9/site-packages/requests/adapters.py:440\u001b[0m, in \u001b[0;36mHTTPAdapter.send\u001b[0;34m(self, request, stream, timeout, verify, cert, proxies)\u001b[0m\n\u001b[1;32m    439\u001b[0m \u001b[38;5;28;01mif\u001b[39;00m \u001b[38;5;129;01mnot\u001b[39;00m chunked:\n\u001b[0;32m--> 440\u001b[0m     resp \u001b[38;5;241m=\u001b[39m \u001b[43mconn\u001b[49m\u001b[38;5;241;43m.\u001b[39;49m\u001b[43murlopen\u001b[49m\u001b[43m(\u001b[49m\n\u001b[1;32m    441\u001b[0m \u001b[43m        \u001b[49m\u001b[43mmethod\u001b[49m\u001b[38;5;241;43m=\u001b[39;49m\u001b[43mrequest\u001b[49m\u001b[38;5;241;43m.\u001b[39;49m\u001b[43mmethod\u001b[49m\u001b[43m,\u001b[49m\n\u001b[1;32m    442\u001b[0m \u001b[43m        \u001b[49m\u001b[43murl\u001b[49m\u001b[38;5;241;43m=\u001b[39;49m\u001b[43murl\u001b[49m\u001b[43m,\u001b[49m\n\u001b[1;32m    443\u001b[0m \u001b[43m        \u001b[49m\u001b[43mbody\u001b[49m\u001b[38;5;241;43m=\u001b[39;49m\u001b[43mrequest\u001b[49m\u001b[38;5;241;43m.\u001b[39;49m\u001b[43mbody\u001b[49m\u001b[43m,\u001b[49m\n\u001b[1;32m    444\u001b[0m \u001b[43m        \u001b[49m\u001b[43mheaders\u001b[49m\u001b[38;5;241;43m=\u001b[39;49m\u001b[43mrequest\u001b[49m\u001b[38;5;241;43m.\u001b[39;49m\u001b[43mheaders\u001b[49m\u001b[43m,\u001b[49m\n\u001b[1;32m    445\u001b[0m \u001b[43m        \u001b[49m\u001b[43mredirect\u001b[49m\u001b[38;5;241;43m=\u001b[39;49m\u001b[38;5;28;43;01mFalse\u001b[39;49;00m\u001b[43m,\u001b[49m\n\u001b[1;32m    446\u001b[0m \u001b[43m        \u001b[49m\u001b[43massert_same_host\u001b[49m\u001b[38;5;241;43m=\u001b[39;49m\u001b[38;5;28;43;01mFalse\u001b[39;49;00m\u001b[43m,\u001b[49m\n\u001b[1;32m    447\u001b[0m \u001b[43m        \u001b[49m\u001b[43mpreload_content\u001b[49m\u001b[38;5;241;43m=\u001b[39;49m\u001b[38;5;28;43;01mFalse\u001b[39;49;00m\u001b[43m,\u001b[49m\n\u001b[1;32m    448\u001b[0m \u001b[43m        \u001b[49m\u001b[43mdecode_content\u001b[49m\u001b[38;5;241;43m=\u001b[39;49m\u001b[38;5;28;43;01mFalse\u001b[39;49;00m\u001b[43m,\u001b[49m\n\u001b[1;32m    449\u001b[0m \u001b[43m        \u001b[49m\u001b[43mretries\u001b[49m\u001b[38;5;241;43m=\u001b[39;49m\u001b[38;5;28;43mself\u001b[39;49m\u001b[38;5;241;43m.\u001b[39;49m\u001b[43mmax_retries\u001b[49m\u001b[43m,\u001b[49m\n\u001b[1;32m    450\u001b[0m \u001b[43m        \u001b[49m\u001b[43mtimeout\u001b[49m\u001b[38;5;241;43m=\u001b[39;49m\u001b[43mtimeout\u001b[49m\n\u001b[1;32m    451\u001b[0m \u001b[43m    \u001b[49m\u001b[43m)\u001b[49m\n\u001b[1;32m    453\u001b[0m \u001b[38;5;66;03m# Send the request.\u001b[39;00m\n\u001b[1;32m    454\u001b[0m \u001b[38;5;28;01melse\u001b[39;00m:\n",
      "File \u001b[0;32m~/opt/anaconda3/lib/python3.9/site-packages/urllib3/connectionpool.py:785\u001b[0m, in \u001b[0;36mHTTPConnectionPool.urlopen\u001b[0;34m(self, method, url, body, headers, retries, redirect, assert_same_host, timeout, pool_timeout, release_conn, chunked, body_pos, **response_kw)\u001b[0m\n\u001b[1;32m    783\u001b[0m     e \u001b[38;5;241m=\u001b[39m ProtocolError(\u001b[38;5;124m\"\u001b[39m\u001b[38;5;124mConnection aborted.\u001b[39m\u001b[38;5;124m\"\u001b[39m, e)\n\u001b[0;32m--> 785\u001b[0m retries \u001b[38;5;241m=\u001b[39m \u001b[43mretries\u001b[49m\u001b[38;5;241;43m.\u001b[39;49m\u001b[43mincrement\u001b[49m\u001b[43m(\u001b[49m\n\u001b[1;32m    786\u001b[0m \u001b[43m    \u001b[49m\u001b[43mmethod\u001b[49m\u001b[43m,\u001b[49m\u001b[43m \u001b[49m\u001b[43murl\u001b[49m\u001b[43m,\u001b[49m\u001b[43m \u001b[49m\u001b[43merror\u001b[49m\u001b[38;5;241;43m=\u001b[39;49m\u001b[43me\u001b[49m\u001b[43m,\u001b[49m\u001b[43m \u001b[49m\u001b[43m_pool\u001b[49m\u001b[38;5;241;43m=\u001b[39;49m\u001b[38;5;28;43mself\u001b[39;49m\u001b[43m,\u001b[49m\u001b[43m \u001b[49m\u001b[43m_stacktrace\u001b[49m\u001b[38;5;241;43m=\u001b[39;49m\u001b[43msys\u001b[49m\u001b[38;5;241;43m.\u001b[39;49m\u001b[43mexc_info\u001b[49m\u001b[43m(\u001b[49m\u001b[43m)\u001b[49m\u001b[43m[\u001b[49m\u001b[38;5;241;43m2\u001b[39;49m\u001b[43m]\u001b[49m\n\u001b[1;32m    787\u001b[0m \u001b[43m\u001b[49m\u001b[43m)\u001b[49m\n\u001b[1;32m    788\u001b[0m retries\u001b[38;5;241m.\u001b[39msleep()\n",
      "File \u001b[0;32m~/opt/anaconda3/lib/python3.9/site-packages/urllib3/util/retry.py:550\u001b[0m, in \u001b[0;36mRetry.increment\u001b[0;34m(self, method, url, response, error, _pool, _stacktrace)\u001b[0m\n\u001b[1;32m    549\u001b[0m \u001b[38;5;28;01mif\u001b[39;00m read \u001b[38;5;129;01mis\u001b[39;00m \u001b[38;5;28;01mFalse\u001b[39;00m \u001b[38;5;129;01mor\u001b[39;00m \u001b[38;5;129;01mnot\u001b[39;00m \u001b[38;5;28mself\u001b[39m\u001b[38;5;241m.\u001b[39m_is_method_retryable(method):\n\u001b[0;32m--> 550\u001b[0m     \u001b[38;5;28;01mraise\u001b[39;00m \u001b[43msix\u001b[49m\u001b[38;5;241;43m.\u001b[39;49m\u001b[43mreraise\u001b[49m\u001b[43m(\u001b[49m\u001b[38;5;28;43mtype\u001b[39;49m\u001b[43m(\u001b[49m\u001b[43merror\u001b[49m\u001b[43m)\u001b[49m\u001b[43m,\u001b[49m\u001b[43m \u001b[49m\u001b[43merror\u001b[49m\u001b[43m,\u001b[49m\u001b[43m \u001b[49m\u001b[43m_stacktrace\u001b[49m\u001b[43m)\u001b[49m\n\u001b[1;32m    551\u001b[0m \u001b[38;5;28;01melif\u001b[39;00m read \u001b[38;5;129;01mis\u001b[39;00m \u001b[38;5;129;01mnot\u001b[39;00m \u001b[38;5;28;01mNone\u001b[39;00m:\n",
      "File \u001b[0;32m~/opt/anaconda3/lib/python3.9/site-packages/urllib3/packages/six.py:770\u001b[0m, in \u001b[0;36mreraise\u001b[0;34m(tp, value, tb)\u001b[0m\n\u001b[1;32m    769\u001b[0m         \u001b[38;5;28;01mraise\u001b[39;00m value\u001b[38;5;241m.\u001b[39mwith_traceback(tb)\n\u001b[0;32m--> 770\u001b[0m     \u001b[38;5;28;01mraise\u001b[39;00m value\n\u001b[1;32m    771\u001b[0m \u001b[38;5;28;01mfinally\u001b[39;00m:\n",
      "File \u001b[0;32m~/opt/anaconda3/lib/python3.9/site-packages/urllib3/connectionpool.py:703\u001b[0m, in \u001b[0;36mHTTPConnectionPool.urlopen\u001b[0;34m(self, method, url, body, headers, retries, redirect, assert_same_host, timeout, pool_timeout, release_conn, chunked, body_pos, **response_kw)\u001b[0m\n\u001b[1;32m    702\u001b[0m \u001b[38;5;66;03m# Make the request on the httplib connection object.\u001b[39;00m\n\u001b[0;32m--> 703\u001b[0m httplib_response \u001b[38;5;241m=\u001b[39m \u001b[38;5;28;43mself\u001b[39;49m\u001b[38;5;241;43m.\u001b[39;49m\u001b[43m_make_request\u001b[49m\u001b[43m(\u001b[49m\n\u001b[1;32m    704\u001b[0m \u001b[43m    \u001b[49m\u001b[43mconn\u001b[49m\u001b[43m,\u001b[49m\n\u001b[1;32m    705\u001b[0m \u001b[43m    \u001b[49m\u001b[43mmethod\u001b[49m\u001b[43m,\u001b[49m\n\u001b[1;32m    706\u001b[0m \u001b[43m    \u001b[49m\u001b[43murl\u001b[49m\u001b[43m,\u001b[49m\n\u001b[1;32m    707\u001b[0m \u001b[43m    \u001b[49m\u001b[43mtimeout\u001b[49m\u001b[38;5;241;43m=\u001b[39;49m\u001b[43mtimeout_obj\u001b[49m\u001b[43m,\u001b[49m\n\u001b[1;32m    708\u001b[0m \u001b[43m    \u001b[49m\u001b[43mbody\u001b[49m\u001b[38;5;241;43m=\u001b[39;49m\u001b[43mbody\u001b[49m\u001b[43m,\u001b[49m\n\u001b[1;32m    709\u001b[0m \u001b[43m    \u001b[49m\u001b[43mheaders\u001b[49m\u001b[38;5;241;43m=\u001b[39;49m\u001b[43mheaders\u001b[49m\u001b[43m,\u001b[49m\n\u001b[1;32m    710\u001b[0m \u001b[43m    \u001b[49m\u001b[43mchunked\u001b[49m\u001b[38;5;241;43m=\u001b[39;49m\u001b[43mchunked\u001b[49m\u001b[43m,\u001b[49m\n\u001b[1;32m    711\u001b[0m \u001b[43m\u001b[49m\u001b[43m)\u001b[49m\n\u001b[1;32m    713\u001b[0m \u001b[38;5;66;03m# If we're going to release the connection in ``finally:``, then\u001b[39;00m\n\u001b[1;32m    714\u001b[0m \u001b[38;5;66;03m# the response doesn't need to know about the connection. Otherwise\u001b[39;00m\n\u001b[1;32m    715\u001b[0m \u001b[38;5;66;03m# it will also try to release it and we'll have a double-release\u001b[39;00m\n\u001b[1;32m    716\u001b[0m \u001b[38;5;66;03m# mess.\u001b[39;00m\n",
      "File \u001b[0;32m~/opt/anaconda3/lib/python3.9/site-packages/urllib3/connectionpool.py:451\u001b[0m, in \u001b[0;36mHTTPConnectionPool._make_request\u001b[0;34m(self, conn, method, url, timeout, chunked, **httplib_request_kw)\u001b[0m\n\u001b[1;32m    450\u001b[0m \u001b[38;5;28;01mexcept\u001b[39;00m (SocketTimeout, BaseSSLError, SocketError) \u001b[38;5;28;01mas\u001b[39;00m e:\n\u001b[0;32m--> 451\u001b[0m     \u001b[38;5;28;43mself\u001b[39;49m\u001b[38;5;241;43m.\u001b[39;49m\u001b[43m_raise_timeout\u001b[49m\u001b[43m(\u001b[49m\u001b[43merr\u001b[49m\u001b[38;5;241;43m=\u001b[39;49m\u001b[43me\u001b[49m\u001b[43m,\u001b[49m\u001b[43m \u001b[49m\u001b[43murl\u001b[49m\u001b[38;5;241;43m=\u001b[39;49m\u001b[43murl\u001b[49m\u001b[43m,\u001b[49m\u001b[43m \u001b[49m\u001b[43mtimeout_value\u001b[49m\u001b[38;5;241;43m=\u001b[39;49m\u001b[43mread_timeout\u001b[49m\u001b[43m)\u001b[49m\n\u001b[1;32m    452\u001b[0m     \u001b[38;5;28;01mraise\u001b[39;00m\n",
      "File \u001b[0;32m~/opt/anaconda3/lib/python3.9/site-packages/urllib3/connectionpool.py:340\u001b[0m, in \u001b[0;36mHTTPConnectionPool._raise_timeout\u001b[0;34m(self, err, url, timeout_value)\u001b[0m\n\u001b[1;32m    339\u001b[0m \u001b[38;5;28;01mif\u001b[39;00m \u001b[38;5;28misinstance\u001b[39m(err, SocketTimeout):\n\u001b[0;32m--> 340\u001b[0m     \u001b[38;5;28;01mraise\u001b[39;00m ReadTimeoutError(\n\u001b[1;32m    341\u001b[0m         \u001b[38;5;28mself\u001b[39m, url, \u001b[38;5;124m\"\u001b[39m\u001b[38;5;124mRead timed out. (read timeout=\u001b[39m\u001b[38;5;132;01m%s\u001b[39;00m\u001b[38;5;124m)\u001b[39m\u001b[38;5;124m\"\u001b[39m \u001b[38;5;241m%\u001b[39m timeout_value\n\u001b[1;32m    342\u001b[0m     )\n\u001b[1;32m    344\u001b[0m \u001b[38;5;66;03m# See the above comment about EAGAIN in Python 3. In Python 2 we have\u001b[39;00m\n\u001b[1;32m    345\u001b[0m \u001b[38;5;66;03m# to specifically catch it and throw the timeout error\u001b[39;00m\n",
      "\u001b[0;31mReadTimeoutError\u001b[0m: HTTPSConnectionPool(host='api.spotify.com', port=443): Read timed out. (read timeout=5)",
      "\nDuring handling of the above exception, another exception occurred:\n",
      "\u001b[0;31mReadTimeout\u001b[0m                               Traceback (most recent call last)",
      "Input \u001b[0;32mIn [96]\u001b[0m, in \u001b[0;36m<cell line: 1>\u001b[0;34m()\u001b[0m\n\u001b[1;32m      1\u001b[0m \u001b[38;5;28;01mfor\u001b[39;00m i  \u001b[38;5;129;01min\u001b[39;00m  result[\u001b[38;5;241m24\u001b[39m]:\n\u001b[1;32m      2\u001b[0m     \u001b[38;5;28mprint\u001b[39m(i)\n\u001b[0;32m----> 3\u001b[0m     \u001b[43mget_features_df\u001b[49m\u001b[43m(\u001b[49m\u001b[43mi\u001b[49m\u001b[43m)\u001b[49m\n",
      "Input \u001b[0;32mIn [4]\u001b[0m, in \u001b[0;36mget_features_df\u001b[0;34m(playlist_id)\u001b[0m\n\u001b[1;32m     15\u001b[0m \u001b[38;5;66;03m#getting features per song in  playlist \u001b[39;00m\n\u001b[1;32m     16\u001b[0m     \u001b[38;5;28;01mfor\u001b[39;00m value \u001b[38;5;129;01min\u001b[39;00m \u001b[38;5;28mrange\u001b[39m(\u001b[38;5;241m0\u001b[39m,\u001b[38;5;28mlen\u001b[39m(tracks)):\n\u001b[0;32m---> 18\u001b[0m         list_of_audio_features\u001b[38;5;241m.\u001b[39mappend(\u001b[43msp\u001b[49m\u001b[38;5;241;43m.\u001b[39;49m\u001b[43maudio_features\u001b[49m\u001b[43m(\u001b[49m\u001b[43mtracks\u001b[49m\u001b[43m[\u001b[49m\u001b[43mvalue\u001b[49m\u001b[43m]\u001b[49m\u001b[43m[\u001b[49m\u001b[38;5;124;43m\"\u001b[39;49m\u001b[38;5;124;43mtrack\u001b[39;49m\u001b[38;5;124;43m\"\u001b[39;49m\u001b[43m]\u001b[49m\u001b[43m[\u001b[49m\u001b[38;5;124;43m\"\u001b[39;49m\u001b[38;5;124;43mid\u001b[39;49m\u001b[38;5;124;43m\"\u001b[39;49m\u001b[43m]\u001b[49m\u001b[43m)\u001b[49m[\u001b[38;5;241m0\u001b[39m])\n\u001b[1;32m     21\u001b[0m \u001b[38;5;66;03m#creating df with audio features and adding song name and artist     \u001b[39;00m\n\u001b[1;32m     22\u001b[0m     df\u001b[38;5;241m=\u001b[39mpd\u001b[38;5;241m.\u001b[39mDataFrame(list_of_audio_features)    \n",
      "File \u001b[0;32m~/opt/anaconda3/lib/python3.9/site-packages/spotipy/client.py:1680\u001b[0m, in \u001b[0;36mSpotify.audio_features\u001b[0;34m(self, tracks)\u001b[0m\n\u001b[1;32m   1678\u001b[0m \u001b[38;5;28;01mif\u001b[39;00m \u001b[38;5;28misinstance\u001b[39m(tracks, \u001b[38;5;28mstr\u001b[39m):\n\u001b[1;32m   1679\u001b[0m     trackid \u001b[38;5;241m=\u001b[39m \u001b[38;5;28mself\u001b[39m\u001b[38;5;241m.\u001b[39m_get_id(\u001b[38;5;124m\"\u001b[39m\u001b[38;5;124mtrack\u001b[39m\u001b[38;5;124m\"\u001b[39m, tracks)\n\u001b[0;32m-> 1680\u001b[0m     results \u001b[38;5;241m=\u001b[39m \u001b[38;5;28;43mself\u001b[39;49m\u001b[38;5;241;43m.\u001b[39;49m\u001b[43m_get\u001b[49m\u001b[43m(\u001b[49m\u001b[38;5;124;43m\"\u001b[39;49m\u001b[38;5;124;43maudio-features/?ids=\u001b[39;49m\u001b[38;5;124;43m\"\u001b[39;49m\u001b[43m \u001b[49m\u001b[38;5;241;43m+\u001b[39;49m\u001b[43m \u001b[49m\u001b[43mtrackid\u001b[49m\u001b[43m)\u001b[49m\n\u001b[1;32m   1681\u001b[0m \u001b[38;5;28;01melse\u001b[39;00m:\n\u001b[1;32m   1682\u001b[0m     tlist \u001b[38;5;241m=\u001b[39m [\u001b[38;5;28mself\u001b[39m\u001b[38;5;241m.\u001b[39m_get_id(\u001b[38;5;124m\"\u001b[39m\u001b[38;5;124mtrack\u001b[39m\u001b[38;5;124m\"\u001b[39m, t) \u001b[38;5;28;01mfor\u001b[39;00m t \u001b[38;5;129;01min\u001b[39;00m tracks]\n",
      "File \u001b[0;32m~/opt/anaconda3/lib/python3.9/site-packages/spotipy/client.py:297\u001b[0m, in \u001b[0;36mSpotify._get\u001b[0;34m(self, url, args, payload, **kwargs)\u001b[0m\n\u001b[1;32m    294\u001b[0m \u001b[38;5;28;01mif\u001b[39;00m args:\n\u001b[1;32m    295\u001b[0m     kwargs\u001b[38;5;241m.\u001b[39mupdate(args)\n\u001b[0;32m--> 297\u001b[0m \u001b[38;5;28;01mreturn\u001b[39;00m \u001b[38;5;28;43mself\u001b[39;49m\u001b[38;5;241;43m.\u001b[39;49m\u001b[43m_internal_call\u001b[49m\u001b[43m(\u001b[49m\u001b[38;5;124;43m\"\u001b[39;49m\u001b[38;5;124;43mGET\u001b[39;49m\u001b[38;5;124;43m\"\u001b[39;49m\u001b[43m,\u001b[49m\u001b[43m \u001b[49m\u001b[43murl\u001b[49m\u001b[43m,\u001b[49m\u001b[43m \u001b[49m\u001b[43mpayload\u001b[49m\u001b[43m,\u001b[49m\u001b[43m \u001b[49m\u001b[43mkwargs\u001b[49m\u001b[43m)\u001b[49m\n",
      "File \u001b[0;32m~/opt/anaconda3/lib/python3.9/site-packages/spotipy/client.py:240\u001b[0m, in \u001b[0;36mSpotify._internal_call\u001b[0;34m(self, method, url, payload, params)\u001b[0m\n\u001b[1;32m    236\u001b[0m logger\u001b[38;5;241m.\u001b[39mdebug(\u001b[38;5;124m'\u001b[39m\u001b[38;5;124mSending \u001b[39m\u001b[38;5;132;01m%s\u001b[39;00m\u001b[38;5;124m to \u001b[39m\u001b[38;5;132;01m%s\u001b[39;00m\u001b[38;5;124m with Params: \u001b[39m\u001b[38;5;132;01m%s\u001b[39;00m\u001b[38;5;124m Headers: \u001b[39m\u001b[38;5;132;01m%s\u001b[39;00m\u001b[38;5;124m and Body: \u001b[39m\u001b[38;5;132;01m%r\u001b[39;00m\u001b[38;5;124m \u001b[39m\u001b[38;5;124m'\u001b[39m,\n\u001b[1;32m    237\u001b[0m              method, url, args\u001b[38;5;241m.\u001b[39mget(\u001b[38;5;124m\"\u001b[39m\u001b[38;5;124mparams\u001b[39m\u001b[38;5;124m\"\u001b[39m), headers, args\u001b[38;5;241m.\u001b[39mget(\u001b[38;5;124m'\u001b[39m\u001b[38;5;124mdata\u001b[39m\u001b[38;5;124m'\u001b[39m))\n\u001b[1;32m    239\u001b[0m \u001b[38;5;28;01mtry\u001b[39;00m:\n\u001b[0;32m--> 240\u001b[0m     response \u001b[38;5;241m=\u001b[39m \u001b[38;5;28;43mself\u001b[39;49m\u001b[38;5;241;43m.\u001b[39;49m\u001b[43m_session\u001b[49m\u001b[38;5;241;43m.\u001b[39;49m\u001b[43mrequest\u001b[49m\u001b[43m(\u001b[49m\n\u001b[1;32m    241\u001b[0m \u001b[43m        \u001b[49m\u001b[43mmethod\u001b[49m\u001b[43m,\u001b[49m\u001b[43m \u001b[49m\u001b[43murl\u001b[49m\u001b[43m,\u001b[49m\u001b[43m \u001b[49m\u001b[43mheaders\u001b[49m\u001b[38;5;241;43m=\u001b[39;49m\u001b[43mheaders\u001b[49m\u001b[43m,\u001b[49m\u001b[43m \u001b[49m\u001b[43mproxies\u001b[49m\u001b[38;5;241;43m=\u001b[39;49m\u001b[38;5;28;43mself\u001b[39;49m\u001b[38;5;241;43m.\u001b[39;49m\u001b[43mproxies\u001b[49m\u001b[43m,\u001b[49m\n\u001b[1;32m    242\u001b[0m \u001b[43m        \u001b[49m\u001b[43mtimeout\u001b[49m\u001b[38;5;241;43m=\u001b[39;49m\u001b[38;5;28;43mself\u001b[39;49m\u001b[38;5;241;43m.\u001b[39;49m\u001b[43mrequests_timeout\u001b[49m\u001b[43m,\u001b[49m\u001b[43m \u001b[49m\u001b[38;5;241;43m*\u001b[39;49m\u001b[38;5;241;43m*\u001b[39;49m\u001b[43margs\u001b[49m\n\u001b[1;32m    243\u001b[0m \u001b[43m    \u001b[49m\u001b[43m)\u001b[49m\n\u001b[1;32m    245\u001b[0m     response\u001b[38;5;241m.\u001b[39mraise_for_status()\n\u001b[1;32m    246\u001b[0m     results \u001b[38;5;241m=\u001b[39m response\u001b[38;5;241m.\u001b[39mjson()\n",
      "File \u001b[0;32m~/opt/anaconda3/lib/python3.9/site-packages/requests/sessions.py:529\u001b[0m, in \u001b[0;36mSession.request\u001b[0;34m(self, method, url, params, data, headers, cookies, files, auth, timeout, allow_redirects, proxies, hooks, stream, verify, cert, json)\u001b[0m\n\u001b[1;32m    524\u001b[0m send_kwargs \u001b[38;5;241m=\u001b[39m {\n\u001b[1;32m    525\u001b[0m     \u001b[38;5;124m'\u001b[39m\u001b[38;5;124mtimeout\u001b[39m\u001b[38;5;124m'\u001b[39m: timeout,\n\u001b[1;32m    526\u001b[0m     \u001b[38;5;124m'\u001b[39m\u001b[38;5;124mallow_redirects\u001b[39m\u001b[38;5;124m'\u001b[39m: allow_redirects,\n\u001b[1;32m    527\u001b[0m }\n\u001b[1;32m    528\u001b[0m send_kwargs\u001b[38;5;241m.\u001b[39mupdate(settings)\n\u001b[0;32m--> 529\u001b[0m resp \u001b[38;5;241m=\u001b[39m \u001b[38;5;28;43mself\u001b[39;49m\u001b[38;5;241;43m.\u001b[39;49m\u001b[43msend\u001b[49m\u001b[43m(\u001b[49m\u001b[43mprep\u001b[49m\u001b[43m,\u001b[49m\u001b[43m \u001b[49m\u001b[38;5;241;43m*\u001b[39;49m\u001b[38;5;241;43m*\u001b[39;49m\u001b[43msend_kwargs\u001b[49m\u001b[43m)\u001b[49m\n\u001b[1;32m    531\u001b[0m \u001b[38;5;28;01mreturn\u001b[39;00m resp\n",
      "File \u001b[0;32m~/opt/anaconda3/lib/python3.9/site-packages/requests/sessions.py:645\u001b[0m, in \u001b[0;36mSession.send\u001b[0;34m(self, request, **kwargs)\u001b[0m\n\u001b[1;32m    642\u001b[0m start \u001b[38;5;241m=\u001b[39m preferred_clock()\n\u001b[1;32m    644\u001b[0m \u001b[38;5;66;03m# Send the request\u001b[39;00m\n\u001b[0;32m--> 645\u001b[0m r \u001b[38;5;241m=\u001b[39m \u001b[43madapter\u001b[49m\u001b[38;5;241;43m.\u001b[39;49m\u001b[43msend\u001b[49m\u001b[43m(\u001b[49m\u001b[43mrequest\u001b[49m\u001b[43m,\u001b[49m\u001b[43m \u001b[49m\u001b[38;5;241;43m*\u001b[39;49m\u001b[38;5;241;43m*\u001b[39;49m\u001b[43mkwargs\u001b[49m\u001b[43m)\u001b[49m\n\u001b[1;32m    647\u001b[0m \u001b[38;5;66;03m# Total elapsed time of the request (approximately)\u001b[39;00m\n\u001b[1;32m    648\u001b[0m elapsed \u001b[38;5;241m=\u001b[39m preferred_clock() \u001b[38;5;241m-\u001b[39m start\n",
      "File \u001b[0;32m~/opt/anaconda3/lib/python3.9/site-packages/requests/adapters.py:532\u001b[0m, in \u001b[0;36mHTTPAdapter.send\u001b[0;34m(self, request, stream, timeout, verify, cert, proxies)\u001b[0m\n\u001b[1;32m    530\u001b[0m     \u001b[38;5;28;01mraise\u001b[39;00m SSLError(e, request\u001b[38;5;241m=\u001b[39mrequest)\n\u001b[1;32m    531\u001b[0m \u001b[38;5;28;01melif\u001b[39;00m \u001b[38;5;28misinstance\u001b[39m(e, ReadTimeoutError):\n\u001b[0;32m--> 532\u001b[0m     \u001b[38;5;28;01mraise\u001b[39;00m ReadTimeout(e, request\u001b[38;5;241m=\u001b[39mrequest)\n\u001b[1;32m    533\u001b[0m \u001b[38;5;28;01melif\u001b[39;00m \u001b[38;5;28misinstance\u001b[39m(e, _InvalidHeader):\n\u001b[1;32m    534\u001b[0m     \u001b[38;5;28;01mraise\u001b[39;00m InvalidHeader(e, request\u001b[38;5;241m=\u001b[39mrequest)\n",
      "\u001b[0;31mReadTimeout\u001b[0m: HTTPSConnectionPool(host='api.spotify.com', port=443): Read timed out. (read timeout=5)"
     ]
    }
   ],
   "source": [
    "for i  in  result[24]:\n",
    "    print(i)\n",
    "    get_features_df(i)"
   ]
  },
  {
   "cell_type": "code",
   "execution_count": 100,
   "id": "25cb5353",
   "metadata": {},
   "outputs": [
    {
     "name": "stdout",
     "output_type": "stream",
     "text": [
      "66vH732A5RHBhtfEZHbxa1\n"
     ]
    },
    {
     "name": "stderr",
     "output_type": "stream",
     "text": [
      "/var/folders/1n/phyrz16s0rd1_mpv046jgqf80000gn/T/ipykernel_17629/3181457209.py:28: FutureWarning: The frame.append method is deprecated and will be removed from pandas in a future version. Use pandas.concat instead.\n",
      "  big_df =big_df.append(df)\n"
     ]
    },
    {
     "name": "stdout",
     "output_type": "stream",
     "text": [
      "4pJ4ZEzj93WnpU4CUgVxH1\n"
     ]
    },
    {
     "name": "stderr",
     "output_type": "stream",
     "text": [
      "/var/folders/1n/phyrz16s0rd1_mpv046jgqf80000gn/T/ipykernel_17629/3181457209.py:28: FutureWarning: The frame.append method is deprecated and will be removed from pandas in a future version. Use pandas.concat instead.\n",
      "  big_df =big_df.append(df)\n"
     ]
    },
    {
     "name": "stdout",
     "output_type": "stream",
     "text": [
      "5bNJ8LeBiHjPcsmumc9i3P\n"
     ]
    },
    {
     "name": "stderr",
     "output_type": "stream",
     "text": [
      "/var/folders/1n/phyrz16s0rd1_mpv046jgqf80000gn/T/ipykernel_17629/3181457209.py:28: FutureWarning: The frame.append method is deprecated and will be removed from pandas in a future version. Use pandas.concat instead.\n",
      "  big_df =big_df.append(df)\n"
     ]
    },
    {
     "name": "stdout",
     "output_type": "stream",
     "text": [
      "4h57lcwyBn5d5qSP7MchDj\n"
     ]
    },
    {
     "name": "stderr",
     "output_type": "stream",
     "text": [
      "/var/folders/1n/phyrz16s0rd1_mpv046jgqf80000gn/T/ipykernel_17629/3181457209.py:28: FutureWarning: The frame.append method is deprecated and will be removed from pandas in a future version. Use pandas.concat instead.\n",
      "  big_df =big_df.append(df)\n"
     ]
    },
    {
     "name": "stdout",
     "output_type": "stream",
     "text": [
      "2PIImwYRHiczMTYmHXmBcz\n"
     ]
    },
    {
     "name": "stderr",
     "output_type": "stream",
     "text": [
      "/var/folders/1n/phyrz16s0rd1_mpv046jgqf80000gn/T/ipykernel_17629/3181457209.py:28: FutureWarning: The frame.append method is deprecated and will be removed from pandas in a future version. Use pandas.concat instead.\n",
      "  big_df =big_df.append(df)\n"
     ]
    },
    {
     "name": "stdout",
     "output_type": "stream",
     "text": [
      "18DLKGkmiAelCa1fE0WhCp\n"
     ]
    },
    {
     "name": "stderr",
     "output_type": "stream",
     "text": [
      "/var/folders/1n/phyrz16s0rd1_mpv046jgqf80000gn/T/ipykernel_17629/3181457209.py:28: FutureWarning: The frame.append method is deprecated and will be removed from pandas in a future version. Use pandas.concat instead.\n",
      "  big_df =big_df.append(df)\n"
     ]
    },
    {
     "name": "stdout",
     "output_type": "stream",
     "text": [
      "65oQYtlHy7Z886NlG6zdwM\n"
     ]
    },
    {
     "name": "stderr",
     "output_type": "stream",
     "text": [
      "/var/folders/1n/phyrz16s0rd1_mpv046jgqf80000gn/T/ipykernel_17629/3181457209.py:28: FutureWarning: The frame.append method is deprecated and will be removed from pandas in a future version. Use pandas.concat instead.\n",
      "  big_df =big_df.append(df)\n"
     ]
    },
    {
     "name": "stdout",
     "output_type": "stream",
     "text": [
      "4wj4OQkPDzlztExS1F1CH7\n"
     ]
    },
    {
     "name": "stderr",
     "output_type": "stream",
     "text": [
      "/var/folders/1n/phyrz16s0rd1_mpv046jgqf80000gn/T/ipykernel_17629/3181457209.py:28: FutureWarning: The frame.append method is deprecated and will be removed from pandas in a future version. Use pandas.concat instead.\n",
      "  big_df =big_df.append(df)\n"
     ]
    },
    {
     "name": "stdout",
     "output_type": "stream",
     "text": [
      "5PI1ISPDdvY2InHQ4ltty1\n"
     ]
    },
    {
     "name": "stderr",
     "output_type": "stream",
     "text": [
      "/var/folders/1n/phyrz16s0rd1_mpv046jgqf80000gn/T/ipykernel_17629/3181457209.py:28: FutureWarning: The frame.append method is deprecated and will be removed from pandas in a future version. Use pandas.concat instead.\n",
      "  big_df =big_df.append(df)\n"
     ]
    },
    {
     "name": "stdout",
     "output_type": "stream",
     "text": [
      "6Pixe6bdAwQIkLv4q85U7E\n"
     ]
    },
    {
     "name": "stderr",
     "output_type": "stream",
     "text": [
      "/var/folders/1n/phyrz16s0rd1_mpv046jgqf80000gn/T/ipykernel_17629/3181457209.py:28: FutureWarning: The frame.append method is deprecated and will be removed from pandas in a future version. Use pandas.concat instead.\n",
      "  big_df =big_df.append(df)\n"
     ]
    },
    {
     "name": "stdout",
     "output_type": "stream",
     "text": [
      "2lme11IX1jmvadLWtDcxFv\n"
     ]
    },
    {
     "name": "stderr",
     "output_type": "stream",
     "text": [
      "/var/folders/1n/phyrz16s0rd1_mpv046jgqf80000gn/T/ipykernel_17629/3181457209.py:28: FutureWarning: The frame.append method is deprecated and will be removed from pandas in a future version. Use pandas.concat instead.\n",
      "  big_df =big_df.append(df)\n"
     ]
    },
    {
     "name": "stdout",
     "output_type": "stream",
     "text": [
      "4eE8nsqOILpqGNPdC33B9X\n"
     ]
    },
    {
     "name": "stderr",
     "output_type": "stream",
     "text": [
      "/var/folders/1n/phyrz16s0rd1_mpv046jgqf80000gn/T/ipykernel_17629/3181457209.py:28: FutureWarning: The frame.append method is deprecated and will be removed from pandas in a future version. Use pandas.concat instead.\n",
      "  big_df =big_df.append(df)\n"
     ]
    },
    {
     "name": "stdout",
     "output_type": "stream",
     "text": [
      "1vop8KpVahupGKRDvAWDrr\n"
     ]
    },
    {
     "name": "stderr",
     "output_type": "stream",
     "text": [
      "/var/folders/1n/phyrz16s0rd1_mpv046jgqf80000gn/T/ipykernel_17629/3181457209.py:28: FutureWarning: The frame.append method is deprecated and will be removed from pandas in a future version. Use pandas.concat instead.\n",
      "  big_df =big_df.append(df)\n"
     ]
    },
    {
     "name": "stdout",
     "output_type": "stream",
     "text": [
      "0VKu9BTDhgTrFjfBxsJ7PN\n"
     ]
    },
    {
     "ename": "ReadTimeout",
     "evalue": "HTTPSConnectionPool(host='api.spotify.com', port=443): Read timed out. (read timeout=5)",
     "output_type": "error",
     "traceback": [
      "\u001b[0;31m---------------------------------------------------------------------------\u001b[0m",
      "\u001b[0;31mtimeout\u001b[0m                                   Traceback (most recent call last)",
      "File \u001b[0;32m~/opt/anaconda3/lib/python3.9/site-packages/urllib3/connectionpool.py:449\u001b[0m, in \u001b[0;36mHTTPConnectionPool._make_request\u001b[0;34m(self, conn, method, url, timeout, chunked, **httplib_request_kw)\u001b[0m\n\u001b[1;32m    445\u001b[0m         \u001b[38;5;28;01mexcept\u001b[39;00m \u001b[38;5;167;01mBaseException\u001b[39;00m \u001b[38;5;28;01mas\u001b[39;00m e:\n\u001b[1;32m    446\u001b[0m             \u001b[38;5;66;03m# Remove the TypeError from the exception chain in\u001b[39;00m\n\u001b[1;32m    447\u001b[0m             \u001b[38;5;66;03m# Python 3 (including for exceptions like SystemExit).\u001b[39;00m\n\u001b[1;32m    448\u001b[0m             \u001b[38;5;66;03m# Otherwise it looks like a bug in the code.\u001b[39;00m\n\u001b[0;32m--> 449\u001b[0m             \u001b[43msix\u001b[49m\u001b[38;5;241;43m.\u001b[39;49m\u001b[43mraise_from\u001b[49m\u001b[43m(\u001b[49m\u001b[43me\u001b[49m\u001b[43m,\u001b[49m\u001b[43m \u001b[49m\u001b[38;5;28;43;01mNone\u001b[39;49;00m\u001b[43m)\u001b[49m\n\u001b[1;32m    450\u001b[0m \u001b[38;5;28;01mexcept\u001b[39;00m (SocketTimeout, BaseSSLError, SocketError) \u001b[38;5;28;01mas\u001b[39;00m e:\n",
      "File \u001b[0;32m<string>:3\u001b[0m, in \u001b[0;36mraise_from\u001b[0;34m(value, from_value)\u001b[0m\n",
      "File \u001b[0;32m~/opt/anaconda3/lib/python3.9/site-packages/urllib3/connectionpool.py:444\u001b[0m, in \u001b[0;36mHTTPConnectionPool._make_request\u001b[0;34m(self, conn, method, url, timeout, chunked, **httplib_request_kw)\u001b[0m\n\u001b[1;32m    443\u001b[0m \u001b[38;5;28;01mtry\u001b[39;00m:\n\u001b[0;32m--> 444\u001b[0m     httplib_response \u001b[38;5;241m=\u001b[39m \u001b[43mconn\u001b[49m\u001b[38;5;241;43m.\u001b[39;49m\u001b[43mgetresponse\u001b[49m\u001b[43m(\u001b[49m\u001b[43m)\u001b[49m\n\u001b[1;32m    445\u001b[0m \u001b[38;5;28;01mexcept\u001b[39;00m \u001b[38;5;167;01mBaseException\u001b[39;00m \u001b[38;5;28;01mas\u001b[39;00m e:\n\u001b[1;32m    446\u001b[0m     \u001b[38;5;66;03m# Remove the TypeError from the exception chain in\u001b[39;00m\n\u001b[1;32m    447\u001b[0m     \u001b[38;5;66;03m# Python 3 (including for exceptions like SystemExit).\u001b[39;00m\n\u001b[1;32m    448\u001b[0m     \u001b[38;5;66;03m# Otherwise it looks like a bug in the code.\u001b[39;00m\n",
      "File \u001b[0;32m~/opt/anaconda3/lib/python3.9/http/client.py:1377\u001b[0m, in \u001b[0;36mHTTPConnection.getresponse\u001b[0;34m(self)\u001b[0m\n\u001b[1;32m   1376\u001b[0m \u001b[38;5;28;01mtry\u001b[39;00m:\n\u001b[0;32m-> 1377\u001b[0m     \u001b[43mresponse\u001b[49m\u001b[38;5;241;43m.\u001b[39;49m\u001b[43mbegin\u001b[49m\u001b[43m(\u001b[49m\u001b[43m)\u001b[49m\n\u001b[1;32m   1378\u001b[0m \u001b[38;5;28;01mexcept\u001b[39;00m \u001b[38;5;167;01mConnectionError\u001b[39;00m:\n",
      "File \u001b[0;32m~/opt/anaconda3/lib/python3.9/http/client.py:320\u001b[0m, in \u001b[0;36mHTTPResponse.begin\u001b[0;34m(self)\u001b[0m\n\u001b[1;32m    319\u001b[0m \u001b[38;5;28;01mwhile\u001b[39;00m \u001b[38;5;28;01mTrue\u001b[39;00m:\n\u001b[0;32m--> 320\u001b[0m     version, status, reason \u001b[38;5;241m=\u001b[39m \u001b[38;5;28;43mself\u001b[39;49m\u001b[38;5;241;43m.\u001b[39;49m\u001b[43m_read_status\u001b[49m\u001b[43m(\u001b[49m\u001b[43m)\u001b[49m\n\u001b[1;32m    321\u001b[0m     \u001b[38;5;28;01mif\u001b[39;00m status \u001b[38;5;241m!=\u001b[39m CONTINUE:\n",
      "File \u001b[0;32m~/opt/anaconda3/lib/python3.9/http/client.py:281\u001b[0m, in \u001b[0;36mHTTPResponse._read_status\u001b[0;34m(self)\u001b[0m\n\u001b[1;32m    280\u001b[0m \u001b[38;5;28;01mdef\u001b[39;00m \u001b[38;5;21m_read_status\u001b[39m(\u001b[38;5;28mself\u001b[39m):\n\u001b[0;32m--> 281\u001b[0m     line \u001b[38;5;241m=\u001b[39m \u001b[38;5;28mstr\u001b[39m(\u001b[38;5;28;43mself\u001b[39;49m\u001b[38;5;241;43m.\u001b[39;49m\u001b[43mfp\u001b[49m\u001b[38;5;241;43m.\u001b[39;49m\u001b[43mreadline\u001b[49m\u001b[43m(\u001b[49m\u001b[43m_MAXLINE\u001b[49m\u001b[43m \u001b[49m\u001b[38;5;241;43m+\u001b[39;49m\u001b[43m \u001b[49m\u001b[38;5;241;43m1\u001b[39;49m\u001b[43m)\u001b[49m, \u001b[38;5;124m\"\u001b[39m\u001b[38;5;124miso-8859-1\u001b[39m\u001b[38;5;124m\"\u001b[39m)\n\u001b[1;32m    282\u001b[0m     \u001b[38;5;28;01mif\u001b[39;00m \u001b[38;5;28mlen\u001b[39m(line) \u001b[38;5;241m>\u001b[39m _MAXLINE:\n",
      "File \u001b[0;32m~/opt/anaconda3/lib/python3.9/socket.py:704\u001b[0m, in \u001b[0;36mSocketIO.readinto\u001b[0;34m(self, b)\u001b[0m\n\u001b[1;32m    703\u001b[0m \u001b[38;5;28;01mtry\u001b[39;00m:\n\u001b[0;32m--> 704\u001b[0m     \u001b[38;5;28;01mreturn\u001b[39;00m \u001b[38;5;28;43mself\u001b[39;49m\u001b[38;5;241;43m.\u001b[39;49m\u001b[43m_sock\u001b[49m\u001b[38;5;241;43m.\u001b[39;49m\u001b[43mrecv_into\u001b[49m\u001b[43m(\u001b[49m\u001b[43mb\u001b[49m\u001b[43m)\u001b[49m\n\u001b[1;32m    705\u001b[0m \u001b[38;5;28;01mexcept\u001b[39;00m timeout:\n",
      "File \u001b[0;32m~/opt/anaconda3/lib/python3.9/ssl.py:1241\u001b[0m, in \u001b[0;36mSSLSocket.recv_into\u001b[0;34m(self, buffer, nbytes, flags)\u001b[0m\n\u001b[1;32m   1238\u001b[0m         \u001b[38;5;28;01mraise\u001b[39;00m \u001b[38;5;167;01mValueError\u001b[39;00m(\n\u001b[1;32m   1239\u001b[0m           \u001b[38;5;124m\"\u001b[39m\u001b[38;5;124mnon-zero flags not allowed in calls to recv_into() on \u001b[39m\u001b[38;5;132;01m%s\u001b[39;00m\u001b[38;5;124m\"\u001b[39m \u001b[38;5;241m%\u001b[39m\n\u001b[1;32m   1240\u001b[0m           \u001b[38;5;28mself\u001b[39m\u001b[38;5;241m.\u001b[39m\u001b[38;5;18m__class__\u001b[39m)\n\u001b[0;32m-> 1241\u001b[0m     \u001b[38;5;28;01mreturn\u001b[39;00m \u001b[38;5;28;43mself\u001b[39;49m\u001b[38;5;241;43m.\u001b[39;49m\u001b[43mread\u001b[49m\u001b[43m(\u001b[49m\u001b[43mnbytes\u001b[49m\u001b[43m,\u001b[49m\u001b[43m \u001b[49m\u001b[43mbuffer\u001b[49m\u001b[43m)\u001b[49m\n\u001b[1;32m   1242\u001b[0m \u001b[38;5;28;01melse\u001b[39;00m:\n",
      "File \u001b[0;32m~/opt/anaconda3/lib/python3.9/ssl.py:1099\u001b[0m, in \u001b[0;36mSSLSocket.read\u001b[0;34m(self, len, buffer)\u001b[0m\n\u001b[1;32m   1098\u001b[0m \u001b[38;5;28;01mif\u001b[39;00m buffer \u001b[38;5;129;01mis\u001b[39;00m \u001b[38;5;129;01mnot\u001b[39;00m \u001b[38;5;28;01mNone\u001b[39;00m:\n\u001b[0;32m-> 1099\u001b[0m     \u001b[38;5;28;01mreturn\u001b[39;00m \u001b[38;5;28;43mself\u001b[39;49m\u001b[38;5;241;43m.\u001b[39;49m\u001b[43m_sslobj\u001b[49m\u001b[38;5;241;43m.\u001b[39;49m\u001b[43mread\u001b[49m\u001b[43m(\u001b[49m\u001b[38;5;28;43mlen\u001b[39;49m\u001b[43m,\u001b[49m\u001b[43m \u001b[49m\u001b[43mbuffer\u001b[49m\u001b[43m)\u001b[49m\n\u001b[1;32m   1100\u001b[0m \u001b[38;5;28;01melse\u001b[39;00m:\n",
      "\u001b[0;31mtimeout\u001b[0m: The read operation timed out",
      "\nDuring handling of the above exception, another exception occurred:\n",
      "\u001b[0;31mReadTimeoutError\u001b[0m                          Traceback (most recent call last)",
      "File \u001b[0;32m~/opt/anaconda3/lib/python3.9/site-packages/requests/adapters.py:440\u001b[0m, in \u001b[0;36mHTTPAdapter.send\u001b[0;34m(self, request, stream, timeout, verify, cert, proxies)\u001b[0m\n\u001b[1;32m    439\u001b[0m \u001b[38;5;28;01mif\u001b[39;00m \u001b[38;5;129;01mnot\u001b[39;00m chunked:\n\u001b[0;32m--> 440\u001b[0m     resp \u001b[38;5;241m=\u001b[39m \u001b[43mconn\u001b[49m\u001b[38;5;241;43m.\u001b[39;49m\u001b[43murlopen\u001b[49m\u001b[43m(\u001b[49m\n\u001b[1;32m    441\u001b[0m \u001b[43m        \u001b[49m\u001b[43mmethod\u001b[49m\u001b[38;5;241;43m=\u001b[39;49m\u001b[43mrequest\u001b[49m\u001b[38;5;241;43m.\u001b[39;49m\u001b[43mmethod\u001b[49m\u001b[43m,\u001b[49m\n\u001b[1;32m    442\u001b[0m \u001b[43m        \u001b[49m\u001b[43murl\u001b[49m\u001b[38;5;241;43m=\u001b[39;49m\u001b[43murl\u001b[49m\u001b[43m,\u001b[49m\n\u001b[1;32m    443\u001b[0m \u001b[43m        \u001b[49m\u001b[43mbody\u001b[49m\u001b[38;5;241;43m=\u001b[39;49m\u001b[43mrequest\u001b[49m\u001b[38;5;241;43m.\u001b[39;49m\u001b[43mbody\u001b[49m\u001b[43m,\u001b[49m\n\u001b[1;32m    444\u001b[0m \u001b[43m        \u001b[49m\u001b[43mheaders\u001b[49m\u001b[38;5;241;43m=\u001b[39;49m\u001b[43mrequest\u001b[49m\u001b[38;5;241;43m.\u001b[39;49m\u001b[43mheaders\u001b[49m\u001b[43m,\u001b[49m\n\u001b[1;32m    445\u001b[0m \u001b[43m        \u001b[49m\u001b[43mredirect\u001b[49m\u001b[38;5;241;43m=\u001b[39;49m\u001b[38;5;28;43;01mFalse\u001b[39;49;00m\u001b[43m,\u001b[49m\n\u001b[1;32m    446\u001b[0m \u001b[43m        \u001b[49m\u001b[43massert_same_host\u001b[49m\u001b[38;5;241;43m=\u001b[39;49m\u001b[38;5;28;43;01mFalse\u001b[39;49;00m\u001b[43m,\u001b[49m\n\u001b[1;32m    447\u001b[0m \u001b[43m        \u001b[49m\u001b[43mpreload_content\u001b[49m\u001b[38;5;241;43m=\u001b[39;49m\u001b[38;5;28;43;01mFalse\u001b[39;49;00m\u001b[43m,\u001b[49m\n\u001b[1;32m    448\u001b[0m \u001b[43m        \u001b[49m\u001b[43mdecode_content\u001b[49m\u001b[38;5;241;43m=\u001b[39;49m\u001b[38;5;28;43;01mFalse\u001b[39;49;00m\u001b[43m,\u001b[49m\n\u001b[1;32m    449\u001b[0m \u001b[43m        \u001b[49m\u001b[43mretries\u001b[49m\u001b[38;5;241;43m=\u001b[39;49m\u001b[38;5;28;43mself\u001b[39;49m\u001b[38;5;241;43m.\u001b[39;49m\u001b[43mmax_retries\u001b[49m\u001b[43m,\u001b[49m\n\u001b[1;32m    450\u001b[0m \u001b[43m        \u001b[49m\u001b[43mtimeout\u001b[49m\u001b[38;5;241;43m=\u001b[39;49m\u001b[43mtimeout\u001b[49m\n\u001b[1;32m    451\u001b[0m \u001b[43m    \u001b[49m\u001b[43m)\u001b[49m\n\u001b[1;32m    453\u001b[0m \u001b[38;5;66;03m# Send the request.\u001b[39;00m\n\u001b[1;32m    454\u001b[0m \u001b[38;5;28;01melse\u001b[39;00m:\n",
      "File \u001b[0;32m~/opt/anaconda3/lib/python3.9/site-packages/urllib3/connectionpool.py:785\u001b[0m, in \u001b[0;36mHTTPConnectionPool.urlopen\u001b[0;34m(self, method, url, body, headers, retries, redirect, assert_same_host, timeout, pool_timeout, release_conn, chunked, body_pos, **response_kw)\u001b[0m\n\u001b[1;32m    783\u001b[0m     e \u001b[38;5;241m=\u001b[39m ProtocolError(\u001b[38;5;124m\"\u001b[39m\u001b[38;5;124mConnection aborted.\u001b[39m\u001b[38;5;124m\"\u001b[39m, e)\n\u001b[0;32m--> 785\u001b[0m retries \u001b[38;5;241m=\u001b[39m \u001b[43mretries\u001b[49m\u001b[38;5;241;43m.\u001b[39;49m\u001b[43mincrement\u001b[49m\u001b[43m(\u001b[49m\n\u001b[1;32m    786\u001b[0m \u001b[43m    \u001b[49m\u001b[43mmethod\u001b[49m\u001b[43m,\u001b[49m\u001b[43m \u001b[49m\u001b[43murl\u001b[49m\u001b[43m,\u001b[49m\u001b[43m \u001b[49m\u001b[43merror\u001b[49m\u001b[38;5;241;43m=\u001b[39;49m\u001b[43me\u001b[49m\u001b[43m,\u001b[49m\u001b[43m \u001b[49m\u001b[43m_pool\u001b[49m\u001b[38;5;241;43m=\u001b[39;49m\u001b[38;5;28;43mself\u001b[39;49m\u001b[43m,\u001b[49m\u001b[43m \u001b[49m\u001b[43m_stacktrace\u001b[49m\u001b[38;5;241;43m=\u001b[39;49m\u001b[43msys\u001b[49m\u001b[38;5;241;43m.\u001b[39;49m\u001b[43mexc_info\u001b[49m\u001b[43m(\u001b[49m\u001b[43m)\u001b[49m\u001b[43m[\u001b[49m\u001b[38;5;241;43m2\u001b[39;49m\u001b[43m]\u001b[49m\n\u001b[1;32m    787\u001b[0m \u001b[43m\u001b[49m\u001b[43m)\u001b[49m\n\u001b[1;32m    788\u001b[0m retries\u001b[38;5;241m.\u001b[39msleep()\n",
      "File \u001b[0;32m~/opt/anaconda3/lib/python3.9/site-packages/urllib3/util/retry.py:550\u001b[0m, in \u001b[0;36mRetry.increment\u001b[0;34m(self, method, url, response, error, _pool, _stacktrace)\u001b[0m\n\u001b[1;32m    549\u001b[0m \u001b[38;5;28;01mif\u001b[39;00m read \u001b[38;5;129;01mis\u001b[39;00m \u001b[38;5;28;01mFalse\u001b[39;00m \u001b[38;5;129;01mor\u001b[39;00m \u001b[38;5;129;01mnot\u001b[39;00m \u001b[38;5;28mself\u001b[39m\u001b[38;5;241m.\u001b[39m_is_method_retryable(method):\n\u001b[0;32m--> 550\u001b[0m     \u001b[38;5;28;01mraise\u001b[39;00m \u001b[43msix\u001b[49m\u001b[38;5;241;43m.\u001b[39;49m\u001b[43mreraise\u001b[49m\u001b[43m(\u001b[49m\u001b[38;5;28;43mtype\u001b[39;49m\u001b[43m(\u001b[49m\u001b[43merror\u001b[49m\u001b[43m)\u001b[49m\u001b[43m,\u001b[49m\u001b[43m \u001b[49m\u001b[43merror\u001b[49m\u001b[43m,\u001b[49m\u001b[43m \u001b[49m\u001b[43m_stacktrace\u001b[49m\u001b[43m)\u001b[49m\n\u001b[1;32m    551\u001b[0m \u001b[38;5;28;01melif\u001b[39;00m read \u001b[38;5;129;01mis\u001b[39;00m \u001b[38;5;129;01mnot\u001b[39;00m \u001b[38;5;28;01mNone\u001b[39;00m:\n",
      "File \u001b[0;32m~/opt/anaconda3/lib/python3.9/site-packages/urllib3/packages/six.py:770\u001b[0m, in \u001b[0;36mreraise\u001b[0;34m(tp, value, tb)\u001b[0m\n\u001b[1;32m    769\u001b[0m         \u001b[38;5;28;01mraise\u001b[39;00m value\u001b[38;5;241m.\u001b[39mwith_traceback(tb)\n\u001b[0;32m--> 770\u001b[0m     \u001b[38;5;28;01mraise\u001b[39;00m value\n\u001b[1;32m    771\u001b[0m \u001b[38;5;28;01mfinally\u001b[39;00m:\n",
      "File \u001b[0;32m~/opt/anaconda3/lib/python3.9/site-packages/urllib3/connectionpool.py:703\u001b[0m, in \u001b[0;36mHTTPConnectionPool.urlopen\u001b[0;34m(self, method, url, body, headers, retries, redirect, assert_same_host, timeout, pool_timeout, release_conn, chunked, body_pos, **response_kw)\u001b[0m\n\u001b[1;32m    702\u001b[0m \u001b[38;5;66;03m# Make the request on the httplib connection object.\u001b[39;00m\n\u001b[0;32m--> 703\u001b[0m httplib_response \u001b[38;5;241m=\u001b[39m \u001b[38;5;28;43mself\u001b[39;49m\u001b[38;5;241;43m.\u001b[39;49m\u001b[43m_make_request\u001b[49m\u001b[43m(\u001b[49m\n\u001b[1;32m    704\u001b[0m \u001b[43m    \u001b[49m\u001b[43mconn\u001b[49m\u001b[43m,\u001b[49m\n\u001b[1;32m    705\u001b[0m \u001b[43m    \u001b[49m\u001b[43mmethod\u001b[49m\u001b[43m,\u001b[49m\n\u001b[1;32m    706\u001b[0m \u001b[43m    \u001b[49m\u001b[43murl\u001b[49m\u001b[43m,\u001b[49m\n\u001b[1;32m    707\u001b[0m \u001b[43m    \u001b[49m\u001b[43mtimeout\u001b[49m\u001b[38;5;241;43m=\u001b[39;49m\u001b[43mtimeout_obj\u001b[49m\u001b[43m,\u001b[49m\n\u001b[1;32m    708\u001b[0m \u001b[43m    \u001b[49m\u001b[43mbody\u001b[49m\u001b[38;5;241;43m=\u001b[39;49m\u001b[43mbody\u001b[49m\u001b[43m,\u001b[49m\n\u001b[1;32m    709\u001b[0m \u001b[43m    \u001b[49m\u001b[43mheaders\u001b[49m\u001b[38;5;241;43m=\u001b[39;49m\u001b[43mheaders\u001b[49m\u001b[43m,\u001b[49m\n\u001b[1;32m    710\u001b[0m \u001b[43m    \u001b[49m\u001b[43mchunked\u001b[49m\u001b[38;5;241;43m=\u001b[39;49m\u001b[43mchunked\u001b[49m\u001b[43m,\u001b[49m\n\u001b[1;32m    711\u001b[0m \u001b[43m\u001b[49m\u001b[43m)\u001b[49m\n\u001b[1;32m    713\u001b[0m \u001b[38;5;66;03m# If we're going to release the connection in ``finally:``, then\u001b[39;00m\n\u001b[1;32m    714\u001b[0m \u001b[38;5;66;03m# the response doesn't need to know about the connection. Otherwise\u001b[39;00m\n\u001b[1;32m    715\u001b[0m \u001b[38;5;66;03m# it will also try to release it and we'll have a double-release\u001b[39;00m\n\u001b[1;32m    716\u001b[0m \u001b[38;5;66;03m# mess.\u001b[39;00m\n",
      "File \u001b[0;32m~/opt/anaconda3/lib/python3.9/site-packages/urllib3/connectionpool.py:451\u001b[0m, in \u001b[0;36mHTTPConnectionPool._make_request\u001b[0;34m(self, conn, method, url, timeout, chunked, **httplib_request_kw)\u001b[0m\n\u001b[1;32m    450\u001b[0m \u001b[38;5;28;01mexcept\u001b[39;00m (SocketTimeout, BaseSSLError, SocketError) \u001b[38;5;28;01mas\u001b[39;00m e:\n\u001b[0;32m--> 451\u001b[0m     \u001b[38;5;28;43mself\u001b[39;49m\u001b[38;5;241;43m.\u001b[39;49m\u001b[43m_raise_timeout\u001b[49m\u001b[43m(\u001b[49m\u001b[43merr\u001b[49m\u001b[38;5;241;43m=\u001b[39;49m\u001b[43me\u001b[49m\u001b[43m,\u001b[49m\u001b[43m \u001b[49m\u001b[43murl\u001b[49m\u001b[38;5;241;43m=\u001b[39;49m\u001b[43murl\u001b[49m\u001b[43m,\u001b[49m\u001b[43m \u001b[49m\u001b[43mtimeout_value\u001b[49m\u001b[38;5;241;43m=\u001b[39;49m\u001b[43mread_timeout\u001b[49m\u001b[43m)\u001b[49m\n\u001b[1;32m    452\u001b[0m     \u001b[38;5;28;01mraise\u001b[39;00m\n",
      "File \u001b[0;32m~/opt/anaconda3/lib/python3.9/site-packages/urllib3/connectionpool.py:340\u001b[0m, in \u001b[0;36mHTTPConnectionPool._raise_timeout\u001b[0;34m(self, err, url, timeout_value)\u001b[0m\n\u001b[1;32m    339\u001b[0m \u001b[38;5;28;01mif\u001b[39;00m \u001b[38;5;28misinstance\u001b[39m(err, SocketTimeout):\n\u001b[0;32m--> 340\u001b[0m     \u001b[38;5;28;01mraise\u001b[39;00m ReadTimeoutError(\n\u001b[1;32m    341\u001b[0m         \u001b[38;5;28mself\u001b[39m, url, \u001b[38;5;124m\"\u001b[39m\u001b[38;5;124mRead timed out. (read timeout=\u001b[39m\u001b[38;5;132;01m%s\u001b[39;00m\u001b[38;5;124m)\u001b[39m\u001b[38;5;124m\"\u001b[39m \u001b[38;5;241m%\u001b[39m timeout_value\n\u001b[1;32m    342\u001b[0m     )\n\u001b[1;32m    344\u001b[0m \u001b[38;5;66;03m# See the above comment about EAGAIN in Python 3. In Python 2 we have\u001b[39;00m\n\u001b[1;32m    345\u001b[0m \u001b[38;5;66;03m# to specifically catch it and throw the timeout error\u001b[39;00m\n",
      "\u001b[0;31mReadTimeoutError\u001b[0m: HTTPSConnectionPool(host='api.spotify.com', port=443): Read timed out. (read timeout=5)",
      "\nDuring handling of the above exception, another exception occurred:\n",
      "\u001b[0;31mReadTimeout\u001b[0m                               Traceback (most recent call last)",
      "Input \u001b[0;32mIn [100]\u001b[0m, in \u001b[0;36m<cell line: 1>\u001b[0;34m()\u001b[0m\n\u001b[1;32m      1\u001b[0m \u001b[38;5;28;01mfor\u001b[39;00m i  \u001b[38;5;129;01min\u001b[39;00m  result[\u001b[38;5;241m25\u001b[39m]:\n\u001b[1;32m      2\u001b[0m     \u001b[38;5;28mprint\u001b[39m(i)\n\u001b[0;32m----> 3\u001b[0m     \u001b[43mget_features_df\u001b[49m\u001b[43m(\u001b[49m\u001b[43mi\u001b[49m\u001b[43m)\u001b[49m\n",
      "Input \u001b[0;32mIn [4]\u001b[0m, in \u001b[0;36mget_features_df\u001b[0;34m(playlist_id)\u001b[0m\n\u001b[1;32m      4\u001b[0m artist_name\u001b[38;5;241m=\u001b[39m[]\n\u001b[1;32m      5\u001b[0m song_name\u001b[38;5;241m=\u001b[39m[]\n\u001b[0;32m----> 7\u001b[0m results \u001b[38;5;241m=\u001b[39m \u001b[43msp\u001b[49m\u001b[38;5;241;43m.\u001b[39;49m\u001b[43muser_playlist_tracks\u001b[49m\u001b[43m(\u001b[49m\u001b[38;5;124;43m\"\u001b[39;49m\u001b[38;5;124;43mthesoundsofspotify\u001b[39;49m\u001b[38;5;124;43m\"\u001b[39;49m\u001b[43m,\u001b[49m\u001b[43mplaylist_id\u001b[49m\u001b[43m,\u001b[49m\u001b[43mmarket\u001b[49m\u001b[38;5;241;43m=\u001b[39;49m\u001b[38;5;124;43m\"\u001b[39;49m\u001b[38;5;124;43mDE\u001b[39;49m\u001b[38;5;124;43m\"\u001b[39;49m\u001b[43m)\u001b[49m\n\u001b[1;32m      9\u001b[0m tracks \u001b[38;5;241m=\u001b[39m results[\u001b[38;5;124m'\u001b[39m\u001b[38;5;124mitems\u001b[39m\u001b[38;5;124m'\u001b[39m]\n\u001b[1;32m     11\u001b[0m \u001b[38;5;28;01mwhile\u001b[39;00m results[\u001b[38;5;124m'\u001b[39m\u001b[38;5;124mnext\u001b[39m\u001b[38;5;124m'\u001b[39m]:\n",
      "File \u001b[0;32m~/opt/anaconda3/lib/python3.9/site-packages/spotipy/client.py:747\u001b[0m, in \u001b[0;36mSpotify.user_playlist_tracks\u001b[0;34m(self, user, playlist_id, fields, limit, offset, market)\u001b[0m\n\u001b[1;32m    732\u001b[0m warnings\u001b[38;5;241m.\u001b[39mwarn(\n\u001b[1;32m    733\u001b[0m     \u001b[38;5;124m\"\u001b[39m\u001b[38;5;124mYou should use `playlist_tracks(playlist_id)` instead\u001b[39m\u001b[38;5;124m\"\u001b[39m,\n\u001b[1;32m    734\u001b[0m     \u001b[38;5;167;01mDeprecationWarning\u001b[39;00m,\n\u001b[1;32m    735\u001b[0m )\n\u001b[1;32m    737\u001b[0m \u001b[38;5;124;03m\"\"\" Get full details of the tracks of a playlist owned by a user.\u001b[39;00m\n\u001b[1;32m    738\u001b[0m \n\u001b[1;32m    739\u001b[0m \u001b[38;5;124;03m    Parameters:\u001b[39;00m\n\u001b[0;32m   (...)\u001b[0m\n\u001b[1;32m    745\u001b[0m \u001b[38;5;124;03m        - market - an ISO 3166-1 alpha-2 country code.\u001b[39;00m\n\u001b[1;32m    746\u001b[0m \u001b[38;5;124;03m\"\"\"\u001b[39;00m\n\u001b[0;32m--> 747\u001b[0m \u001b[38;5;28;01mreturn\u001b[39;00m \u001b[38;5;28;43mself\u001b[39;49m\u001b[38;5;241;43m.\u001b[39;49m\u001b[43mplaylist_tracks\u001b[49m\u001b[43m(\u001b[49m\n\u001b[1;32m    748\u001b[0m \u001b[43m    \u001b[49m\u001b[43mplaylist_id\u001b[49m\u001b[43m,\u001b[49m\n\u001b[1;32m    749\u001b[0m \u001b[43m    \u001b[49m\u001b[43mlimit\u001b[49m\u001b[38;5;241;43m=\u001b[39;49m\u001b[43mlimit\u001b[49m\u001b[43m,\u001b[49m\n\u001b[1;32m    750\u001b[0m \u001b[43m    \u001b[49m\u001b[43moffset\u001b[49m\u001b[38;5;241;43m=\u001b[39;49m\u001b[43moffset\u001b[49m\u001b[43m,\u001b[49m\n\u001b[1;32m    751\u001b[0m \u001b[43m    \u001b[49m\u001b[43mfields\u001b[49m\u001b[38;5;241;43m=\u001b[39;49m\u001b[43mfields\u001b[49m\u001b[43m,\u001b[49m\n\u001b[1;32m    752\u001b[0m \u001b[43m    \u001b[49m\u001b[43mmarket\u001b[49m\u001b[38;5;241;43m=\u001b[39;49m\u001b[43mmarket\u001b[49m\u001b[43m,\u001b[49m\n\u001b[1;32m    753\u001b[0m \u001b[43m\u001b[49m\u001b[43m)\u001b[49m\n",
      "File \u001b[0;32m~/opt/anaconda3/lib/python3.9/site-packages/spotipy/client.py:649\u001b[0m, in \u001b[0;36mSpotify.playlist_tracks\u001b[0;34m(self, playlist_id, fields, limit, offset, market, additional_types)\u001b[0m\n\u001b[1;32m    633\u001b[0m \u001b[38;5;124;03m\"\"\" Get full details of the tracks of a playlist.\u001b[39;00m\n\u001b[1;32m    634\u001b[0m \n\u001b[1;32m    635\u001b[0m \u001b[38;5;124;03m    Parameters:\u001b[39;00m\n\u001b[0;32m   (...)\u001b[0m\n\u001b[1;32m    642\u001b[0m \u001b[38;5;124;03m                             valid types are: track and episode\u001b[39;00m\n\u001b[1;32m    643\u001b[0m \u001b[38;5;124;03m\"\"\"\u001b[39;00m\n\u001b[1;32m    644\u001b[0m warnings\u001b[38;5;241m.\u001b[39mwarn(\n\u001b[1;32m    645\u001b[0m     \u001b[38;5;124m\"\u001b[39m\u001b[38;5;124mYou should use `playlist_items(playlist_id, ...,\u001b[39m\u001b[38;5;124m\"\u001b[39m\n\u001b[1;32m    646\u001b[0m     \u001b[38;5;124m\"\u001b[39m\u001b[38;5;124madditional_types=(\u001b[39m\u001b[38;5;124m'\u001b[39m\u001b[38;5;124mtrack\u001b[39m\u001b[38;5;124m'\u001b[39m\u001b[38;5;124m,))` instead\u001b[39m\u001b[38;5;124m\"\u001b[39m,\n\u001b[1;32m    647\u001b[0m     \u001b[38;5;167;01mDeprecationWarning\u001b[39;00m,\n\u001b[1;32m    648\u001b[0m )\n\u001b[0;32m--> 649\u001b[0m \u001b[38;5;28;01mreturn\u001b[39;00m \u001b[38;5;28;43mself\u001b[39;49m\u001b[38;5;241;43m.\u001b[39;49m\u001b[43mplaylist_items\u001b[49m\u001b[43m(\u001b[49m\u001b[43mplaylist_id\u001b[49m\u001b[43m,\u001b[49m\u001b[43m \u001b[49m\u001b[43mfields\u001b[49m\u001b[43m,\u001b[49m\u001b[43m \u001b[49m\u001b[43mlimit\u001b[49m\u001b[43m,\u001b[49m\u001b[43m \u001b[49m\u001b[43moffset\u001b[49m\u001b[43m,\u001b[49m\n\u001b[1;32m    650\u001b[0m \u001b[43m                           \u001b[49m\u001b[43mmarket\u001b[49m\u001b[43m,\u001b[49m\u001b[43m \u001b[49m\u001b[43madditional_types\u001b[49m\u001b[43m)\u001b[49m\n",
      "File \u001b[0;32m~/opt/anaconda3/lib/python3.9/site-packages/spotipy/client.py:673\u001b[0m, in \u001b[0;36mSpotify.playlist_items\u001b[0;34m(self, playlist_id, fields, limit, offset, market, additional_types)\u001b[0m\n\u001b[1;32m    661\u001b[0m \u001b[38;5;124;03m\"\"\" Get full details of the tracks and episodes of a playlist.\u001b[39;00m\n\u001b[1;32m    662\u001b[0m \n\u001b[1;32m    663\u001b[0m \u001b[38;5;124;03m    Parameters:\u001b[39;00m\n\u001b[0;32m   (...)\u001b[0m\n\u001b[1;32m    670\u001b[0m \u001b[38;5;124;03m                             valid types are: track and episode\u001b[39;00m\n\u001b[1;32m    671\u001b[0m \u001b[38;5;124;03m\"\"\"\u001b[39;00m\n\u001b[1;32m    672\u001b[0m plid \u001b[38;5;241m=\u001b[39m \u001b[38;5;28mself\u001b[39m\u001b[38;5;241m.\u001b[39m_get_id(\u001b[38;5;124m\"\u001b[39m\u001b[38;5;124mplaylist\u001b[39m\u001b[38;5;124m\"\u001b[39m, playlist_id)\n\u001b[0;32m--> 673\u001b[0m \u001b[38;5;28;01mreturn\u001b[39;00m \u001b[38;5;28;43mself\u001b[39;49m\u001b[38;5;241;43m.\u001b[39;49m\u001b[43m_get\u001b[49m\u001b[43m(\u001b[49m\n\u001b[1;32m    674\u001b[0m \u001b[43m    \u001b[49m\u001b[38;5;124;43m\"\u001b[39;49m\u001b[38;5;124;43mplaylists/\u001b[39;49m\u001b[38;5;132;43;01m%s\u001b[39;49;00m\u001b[38;5;124;43m/tracks\u001b[39;49m\u001b[38;5;124;43m\"\u001b[39;49m\u001b[43m \u001b[49m\u001b[38;5;241;43m%\u001b[39;49m\u001b[43m \u001b[49m\u001b[43m(\u001b[49m\u001b[43mplid\u001b[49m\u001b[43m)\u001b[49m\u001b[43m,\u001b[49m\n\u001b[1;32m    675\u001b[0m \u001b[43m    \u001b[49m\u001b[43mlimit\u001b[49m\u001b[38;5;241;43m=\u001b[39;49m\u001b[43mlimit\u001b[49m\u001b[43m,\u001b[49m\n\u001b[1;32m    676\u001b[0m \u001b[43m    \u001b[49m\u001b[43moffset\u001b[49m\u001b[38;5;241;43m=\u001b[39;49m\u001b[43moffset\u001b[49m\u001b[43m,\u001b[49m\n\u001b[1;32m    677\u001b[0m \u001b[43m    \u001b[49m\u001b[43mfields\u001b[49m\u001b[38;5;241;43m=\u001b[39;49m\u001b[43mfields\u001b[49m\u001b[43m,\u001b[49m\n\u001b[1;32m    678\u001b[0m \u001b[43m    \u001b[49m\u001b[43mmarket\u001b[49m\u001b[38;5;241;43m=\u001b[39;49m\u001b[43mmarket\u001b[49m\u001b[43m,\u001b[49m\n\u001b[1;32m    679\u001b[0m \u001b[43m    \u001b[49m\u001b[43madditional_types\u001b[49m\u001b[38;5;241;43m=\u001b[39;49m\u001b[38;5;124;43m\"\u001b[39;49m\u001b[38;5;124;43m,\u001b[39;49m\u001b[38;5;124;43m\"\u001b[39;49m\u001b[38;5;241;43m.\u001b[39;49m\u001b[43mjoin\u001b[49m\u001b[43m(\u001b[49m\u001b[43madditional_types\u001b[49m\u001b[43m)\u001b[49m\n\u001b[1;32m    680\u001b[0m \u001b[43m\u001b[49m\u001b[43m)\u001b[49m\n",
      "File \u001b[0;32m~/opt/anaconda3/lib/python3.9/site-packages/spotipy/client.py:297\u001b[0m, in \u001b[0;36mSpotify._get\u001b[0;34m(self, url, args, payload, **kwargs)\u001b[0m\n\u001b[1;32m    294\u001b[0m \u001b[38;5;28;01mif\u001b[39;00m args:\n\u001b[1;32m    295\u001b[0m     kwargs\u001b[38;5;241m.\u001b[39mupdate(args)\n\u001b[0;32m--> 297\u001b[0m \u001b[38;5;28;01mreturn\u001b[39;00m \u001b[38;5;28;43mself\u001b[39;49m\u001b[38;5;241;43m.\u001b[39;49m\u001b[43m_internal_call\u001b[49m\u001b[43m(\u001b[49m\u001b[38;5;124;43m\"\u001b[39;49m\u001b[38;5;124;43mGET\u001b[39;49m\u001b[38;5;124;43m\"\u001b[39;49m\u001b[43m,\u001b[49m\u001b[43m \u001b[49m\u001b[43murl\u001b[49m\u001b[43m,\u001b[49m\u001b[43m \u001b[49m\u001b[43mpayload\u001b[49m\u001b[43m,\u001b[49m\u001b[43m \u001b[49m\u001b[43mkwargs\u001b[49m\u001b[43m)\u001b[49m\n",
      "File \u001b[0;32m~/opt/anaconda3/lib/python3.9/site-packages/spotipy/client.py:240\u001b[0m, in \u001b[0;36mSpotify._internal_call\u001b[0;34m(self, method, url, payload, params)\u001b[0m\n\u001b[1;32m    236\u001b[0m logger\u001b[38;5;241m.\u001b[39mdebug(\u001b[38;5;124m'\u001b[39m\u001b[38;5;124mSending \u001b[39m\u001b[38;5;132;01m%s\u001b[39;00m\u001b[38;5;124m to \u001b[39m\u001b[38;5;132;01m%s\u001b[39;00m\u001b[38;5;124m with Params: \u001b[39m\u001b[38;5;132;01m%s\u001b[39;00m\u001b[38;5;124m Headers: \u001b[39m\u001b[38;5;132;01m%s\u001b[39;00m\u001b[38;5;124m and Body: \u001b[39m\u001b[38;5;132;01m%r\u001b[39;00m\u001b[38;5;124m \u001b[39m\u001b[38;5;124m'\u001b[39m,\n\u001b[1;32m    237\u001b[0m              method, url, args\u001b[38;5;241m.\u001b[39mget(\u001b[38;5;124m\"\u001b[39m\u001b[38;5;124mparams\u001b[39m\u001b[38;5;124m\"\u001b[39m), headers, args\u001b[38;5;241m.\u001b[39mget(\u001b[38;5;124m'\u001b[39m\u001b[38;5;124mdata\u001b[39m\u001b[38;5;124m'\u001b[39m))\n\u001b[1;32m    239\u001b[0m \u001b[38;5;28;01mtry\u001b[39;00m:\n\u001b[0;32m--> 240\u001b[0m     response \u001b[38;5;241m=\u001b[39m \u001b[38;5;28;43mself\u001b[39;49m\u001b[38;5;241;43m.\u001b[39;49m\u001b[43m_session\u001b[49m\u001b[38;5;241;43m.\u001b[39;49m\u001b[43mrequest\u001b[49m\u001b[43m(\u001b[49m\n\u001b[1;32m    241\u001b[0m \u001b[43m        \u001b[49m\u001b[43mmethod\u001b[49m\u001b[43m,\u001b[49m\u001b[43m \u001b[49m\u001b[43murl\u001b[49m\u001b[43m,\u001b[49m\u001b[43m \u001b[49m\u001b[43mheaders\u001b[49m\u001b[38;5;241;43m=\u001b[39;49m\u001b[43mheaders\u001b[49m\u001b[43m,\u001b[49m\u001b[43m \u001b[49m\u001b[43mproxies\u001b[49m\u001b[38;5;241;43m=\u001b[39;49m\u001b[38;5;28;43mself\u001b[39;49m\u001b[38;5;241;43m.\u001b[39;49m\u001b[43mproxies\u001b[49m\u001b[43m,\u001b[49m\n\u001b[1;32m    242\u001b[0m \u001b[43m        \u001b[49m\u001b[43mtimeout\u001b[49m\u001b[38;5;241;43m=\u001b[39;49m\u001b[38;5;28;43mself\u001b[39;49m\u001b[38;5;241;43m.\u001b[39;49m\u001b[43mrequests_timeout\u001b[49m\u001b[43m,\u001b[49m\u001b[43m \u001b[49m\u001b[38;5;241;43m*\u001b[39;49m\u001b[38;5;241;43m*\u001b[39;49m\u001b[43margs\u001b[49m\n\u001b[1;32m    243\u001b[0m \u001b[43m    \u001b[49m\u001b[43m)\u001b[49m\n\u001b[1;32m    245\u001b[0m     response\u001b[38;5;241m.\u001b[39mraise_for_status()\n\u001b[1;32m    246\u001b[0m     results \u001b[38;5;241m=\u001b[39m response\u001b[38;5;241m.\u001b[39mjson()\n",
      "File \u001b[0;32m~/opt/anaconda3/lib/python3.9/site-packages/requests/sessions.py:529\u001b[0m, in \u001b[0;36mSession.request\u001b[0;34m(self, method, url, params, data, headers, cookies, files, auth, timeout, allow_redirects, proxies, hooks, stream, verify, cert, json)\u001b[0m\n\u001b[1;32m    524\u001b[0m send_kwargs \u001b[38;5;241m=\u001b[39m {\n\u001b[1;32m    525\u001b[0m     \u001b[38;5;124m'\u001b[39m\u001b[38;5;124mtimeout\u001b[39m\u001b[38;5;124m'\u001b[39m: timeout,\n\u001b[1;32m    526\u001b[0m     \u001b[38;5;124m'\u001b[39m\u001b[38;5;124mallow_redirects\u001b[39m\u001b[38;5;124m'\u001b[39m: allow_redirects,\n\u001b[1;32m    527\u001b[0m }\n\u001b[1;32m    528\u001b[0m send_kwargs\u001b[38;5;241m.\u001b[39mupdate(settings)\n\u001b[0;32m--> 529\u001b[0m resp \u001b[38;5;241m=\u001b[39m \u001b[38;5;28;43mself\u001b[39;49m\u001b[38;5;241;43m.\u001b[39;49m\u001b[43msend\u001b[49m\u001b[43m(\u001b[49m\u001b[43mprep\u001b[49m\u001b[43m,\u001b[49m\u001b[43m \u001b[49m\u001b[38;5;241;43m*\u001b[39;49m\u001b[38;5;241;43m*\u001b[39;49m\u001b[43msend_kwargs\u001b[49m\u001b[43m)\u001b[49m\n\u001b[1;32m    531\u001b[0m \u001b[38;5;28;01mreturn\u001b[39;00m resp\n",
      "File \u001b[0;32m~/opt/anaconda3/lib/python3.9/site-packages/requests/sessions.py:645\u001b[0m, in \u001b[0;36mSession.send\u001b[0;34m(self, request, **kwargs)\u001b[0m\n\u001b[1;32m    642\u001b[0m start \u001b[38;5;241m=\u001b[39m preferred_clock()\n\u001b[1;32m    644\u001b[0m \u001b[38;5;66;03m# Send the request\u001b[39;00m\n\u001b[0;32m--> 645\u001b[0m r \u001b[38;5;241m=\u001b[39m \u001b[43madapter\u001b[49m\u001b[38;5;241;43m.\u001b[39;49m\u001b[43msend\u001b[49m\u001b[43m(\u001b[49m\u001b[43mrequest\u001b[49m\u001b[43m,\u001b[49m\u001b[43m \u001b[49m\u001b[38;5;241;43m*\u001b[39;49m\u001b[38;5;241;43m*\u001b[39;49m\u001b[43mkwargs\u001b[49m\u001b[43m)\u001b[49m\n\u001b[1;32m    647\u001b[0m \u001b[38;5;66;03m# Total elapsed time of the request (approximately)\u001b[39;00m\n\u001b[1;32m    648\u001b[0m elapsed \u001b[38;5;241m=\u001b[39m preferred_clock() \u001b[38;5;241m-\u001b[39m start\n",
      "File \u001b[0;32m~/opt/anaconda3/lib/python3.9/site-packages/requests/adapters.py:532\u001b[0m, in \u001b[0;36mHTTPAdapter.send\u001b[0;34m(self, request, stream, timeout, verify, cert, proxies)\u001b[0m\n\u001b[1;32m    530\u001b[0m     \u001b[38;5;28;01mraise\u001b[39;00m SSLError(e, request\u001b[38;5;241m=\u001b[39mrequest)\n\u001b[1;32m    531\u001b[0m \u001b[38;5;28;01melif\u001b[39;00m \u001b[38;5;28misinstance\u001b[39m(e, ReadTimeoutError):\n\u001b[0;32m--> 532\u001b[0m     \u001b[38;5;28;01mraise\u001b[39;00m ReadTimeout(e, request\u001b[38;5;241m=\u001b[39mrequest)\n\u001b[1;32m    533\u001b[0m \u001b[38;5;28;01melif\u001b[39;00m \u001b[38;5;28misinstance\u001b[39m(e, _InvalidHeader):\n\u001b[1;32m    534\u001b[0m     \u001b[38;5;28;01mraise\u001b[39;00m InvalidHeader(e, request\u001b[38;5;241m=\u001b[39mrequest)\n",
      "\u001b[0;31mReadTimeout\u001b[0m: HTTPSConnectionPool(host='api.spotify.com', port=443): Read timed out. (read timeout=5)"
     ]
    }
   ],
   "source": [
    "for i  in  result[25]:\n",
    "    print(i)\n",
    "    get_features_df(i)"
   ]
  },
  {
   "cell_type": "code",
   "execution_count": 206,
   "id": "d1d1b384",
   "metadata": {
    "scrolled": false
   },
   "outputs": [
    {
     "name": "stdout",
     "output_type": "stream",
     "text": [
      "7jJ2VqsOJsd2hmsHLSOedD\n"
     ]
    },
    {
     "name": "stderr",
     "output_type": "stream",
     "text": [
      "/var/folders/1n/phyrz16s0rd1_mpv046jgqf80000gn/T/ipykernel_17629/3181457209.py:28: FutureWarning: The frame.append method is deprecated and will be removed from pandas in a future version. Use pandas.concat instead.\n",
      "  big_df =big_df.append(df)\n"
     ]
    },
    {
     "name": "stdout",
     "output_type": "stream",
     "text": [
      "23TcHEHll7Ds78hkaiohPx\n"
     ]
    },
    {
     "name": "stderr",
     "output_type": "stream",
     "text": [
      "/var/folders/1n/phyrz16s0rd1_mpv046jgqf80000gn/T/ipykernel_17629/3181457209.py:28: FutureWarning: The frame.append method is deprecated and will be removed from pandas in a future version. Use pandas.concat instead.\n",
      "  big_df =big_df.append(df)\n"
     ]
    },
    {
     "name": "stdout",
     "output_type": "stream",
     "text": [
      "19VC4dfHWpoxgPGLQtqLxN\n"
     ]
    },
    {
     "name": "stderr",
     "output_type": "stream",
     "text": [
      "/var/folders/1n/phyrz16s0rd1_mpv046jgqf80000gn/T/ipykernel_17629/3181457209.py:28: FutureWarning: The frame.append method is deprecated and will be removed from pandas in a future version. Use pandas.concat instead.\n",
      "  big_df =big_df.append(df)\n"
     ]
    },
    {
     "name": "stdout",
     "output_type": "stream",
     "text": [
      "73wlrju5qMPbYENDR1CW92\n"
     ]
    },
    {
     "name": "stderr",
     "output_type": "stream",
     "text": [
      "/var/folders/1n/phyrz16s0rd1_mpv046jgqf80000gn/T/ipykernel_17629/3181457209.py:28: FutureWarning: The frame.append method is deprecated and will be removed from pandas in a future version. Use pandas.concat instead.\n",
      "  big_df =big_df.append(df)\n"
     ]
    },
    {
     "name": "stdout",
     "output_type": "stream",
     "text": [
      "4PsFYH9aJDNjy7iwkWag7S\n"
     ]
    },
    {
     "name": "stderr",
     "output_type": "stream",
     "text": [
      "/var/folders/1n/phyrz16s0rd1_mpv046jgqf80000gn/T/ipykernel_17629/3181457209.py:28: FutureWarning: The frame.append method is deprecated and will be removed from pandas in a future version. Use pandas.concat instead.\n",
      "  big_df =big_df.append(df)\n"
     ]
    },
    {
     "name": "stdout",
     "output_type": "stream",
     "text": [
      "0O5O7OKpXKZkWUBRVFAJ1g\n"
     ]
    },
    {
     "name": "stderr",
     "output_type": "stream",
     "text": [
      "/var/folders/1n/phyrz16s0rd1_mpv046jgqf80000gn/T/ipykernel_17629/3181457209.py:28: FutureWarning: The frame.append method is deprecated and will be removed from pandas in a future version. Use pandas.concat instead.\n",
      "  big_df =big_df.append(df)\n"
     ]
    },
    {
     "name": "stdout",
     "output_type": "stream",
     "text": [
      "5aBLOilVXfy3Xf5VrMowol\n"
     ]
    },
    {
     "name": "stderr",
     "output_type": "stream",
     "text": [
      "/var/folders/1n/phyrz16s0rd1_mpv046jgqf80000gn/T/ipykernel_17629/3181457209.py:28: FutureWarning: The frame.append method is deprecated and will be removed from pandas in a future version. Use pandas.concat instead.\n",
      "  big_df =big_df.append(df)\n"
     ]
    },
    {
     "name": "stdout",
     "output_type": "stream",
     "text": [
      "7HxEKL4NF7ZKakfTZiekTr\n"
     ]
    },
    {
     "name": "stderr",
     "output_type": "stream",
     "text": [
      "/var/folders/1n/phyrz16s0rd1_mpv046jgqf80000gn/T/ipykernel_17629/3181457209.py:28: FutureWarning: The frame.append method is deprecated and will be removed from pandas in a future version. Use pandas.concat instead.\n",
      "  big_df =big_df.append(df)\n"
     ]
    },
    {
     "name": "stdout",
     "output_type": "stream",
     "text": [
      "1K5Q8BCOoB4ddGRzh9lryn\n"
     ]
    },
    {
     "name": "stderr",
     "output_type": "stream",
     "text": [
      "/var/folders/1n/phyrz16s0rd1_mpv046jgqf80000gn/T/ipykernel_17629/3181457209.py:28: FutureWarning: The frame.append method is deprecated and will be removed from pandas in a future version. Use pandas.concat instead.\n",
      "  big_df =big_df.append(df)\n"
     ]
    },
    {
     "name": "stdout",
     "output_type": "stream",
     "text": [
      "2XeJzzhlql6vgaARsBBFpl\n"
     ]
    },
    {
     "name": "stderr",
     "output_type": "stream",
     "text": [
      "/var/folders/1n/phyrz16s0rd1_mpv046jgqf80000gn/T/ipykernel_17629/3181457209.py:28: FutureWarning: The frame.append method is deprecated and will be removed from pandas in a future version. Use pandas.concat instead.\n",
      "  big_df =big_df.append(df)\n"
     ]
    },
    {
     "name": "stdout",
     "output_type": "stream",
     "text": [
      "2pGRSENDZrRPtxsf7pSBhJ\n"
     ]
    },
    {
     "name": "stderr",
     "output_type": "stream",
     "text": [
      "/var/folders/1n/phyrz16s0rd1_mpv046jgqf80000gn/T/ipykernel_17629/3181457209.py:28: FutureWarning: The frame.append method is deprecated and will be removed from pandas in a future version. Use pandas.concat instead.\n",
      "  big_df =big_df.append(df)\n"
     ]
    },
    {
     "name": "stdout",
     "output_type": "stream",
     "text": [
      "0oVmOYzfm6lZehEnLSCCkj\n"
     ]
    },
    {
     "name": "stderr",
     "output_type": "stream",
     "text": [
      "/var/folders/1n/phyrz16s0rd1_mpv046jgqf80000gn/T/ipykernel_17629/3181457209.py:28: FutureWarning: The frame.append method is deprecated and will be removed from pandas in a future version. Use pandas.concat instead.\n",
      "  big_df =big_df.append(df)\n"
     ]
    },
    {
     "name": "stdout",
     "output_type": "stream",
     "text": [
      "6eVnrJvLKljuBZXgfzke32\n"
     ]
    },
    {
     "name": "stderr",
     "output_type": "stream",
     "text": [
      "/var/folders/1n/phyrz16s0rd1_mpv046jgqf80000gn/T/ipykernel_17629/3181457209.py:28: FutureWarning: The frame.append method is deprecated and will be removed from pandas in a future version. Use pandas.concat instead.\n",
      "  big_df =big_df.append(df)\n"
     ]
    },
    {
     "name": "stdout",
     "output_type": "stream",
     "text": [
      "4Icn89sdB2RaEILOgMxyON\n"
     ]
    },
    {
     "name": "stderr",
     "output_type": "stream",
     "text": [
      "/var/folders/1n/phyrz16s0rd1_mpv046jgqf80000gn/T/ipykernel_17629/3181457209.py:28: FutureWarning: The frame.append method is deprecated and will be removed from pandas in a future version. Use pandas.concat instead.\n",
      "  big_df =big_df.append(df)\n"
     ]
    },
    {
     "name": "stdout",
     "output_type": "stream",
     "text": [
      "7bTaT6ImEJpkPb3OzYzk2Z\n"
     ]
    },
    {
     "name": "stderr",
     "output_type": "stream",
     "text": [
      "/var/folders/1n/phyrz16s0rd1_mpv046jgqf80000gn/T/ipykernel_17629/3181457209.py:28: FutureWarning: The frame.append method is deprecated and will be removed from pandas in a future version. Use pandas.concat instead.\n",
      "  big_df =big_df.append(df)\n"
     ]
    },
    {
     "name": "stdout",
     "output_type": "stream",
     "text": [
      "5cU8GY8cqeSTkgTXaYzo5z\n"
     ]
    },
    {
     "name": "stderr",
     "output_type": "stream",
     "text": [
      "/var/folders/1n/phyrz16s0rd1_mpv046jgqf80000gn/T/ipykernel_17629/3181457209.py:28: FutureWarning: The frame.append method is deprecated and will be removed from pandas in a future version. Use pandas.concat instead.\n",
      "  big_df =big_df.append(df)\n"
     ]
    },
    {
     "name": "stdout",
     "output_type": "stream",
     "text": [
      "57FYqlZy1HQtyNT739WL67\n"
     ]
    },
    {
     "ename": "ReadTimeout",
     "evalue": "HTTPSConnectionPool(host='api.spotify.com', port=443): Read timed out. (read timeout=5)",
     "output_type": "error",
     "traceback": [
      "\u001b[0;31m---------------------------------------------------------------------------\u001b[0m",
      "\u001b[0;31mtimeout\u001b[0m                                   Traceback (most recent call last)",
      "File \u001b[0;32m~/opt/anaconda3/lib/python3.9/site-packages/urllib3/connectionpool.py:449\u001b[0m, in \u001b[0;36mHTTPConnectionPool._make_request\u001b[0;34m(self, conn, method, url, timeout, chunked, **httplib_request_kw)\u001b[0m\n\u001b[1;32m    445\u001b[0m         \u001b[38;5;28;01mexcept\u001b[39;00m \u001b[38;5;167;01mBaseException\u001b[39;00m \u001b[38;5;28;01mas\u001b[39;00m e:\n\u001b[1;32m    446\u001b[0m             \u001b[38;5;66;03m# Remove the TypeError from the exception chain in\u001b[39;00m\n\u001b[1;32m    447\u001b[0m             \u001b[38;5;66;03m# Python 3 (including for exceptions like SystemExit).\u001b[39;00m\n\u001b[1;32m    448\u001b[0m             \u001b[38;5;66;03m# Otherwise it looks like a bug in the code.\u001b[39;00m\n\u001b[0;32m--> 449\u001b[0m             \u001b[43msix\u001b[49m\u001b[38;5;241;43m.\u001b[39;49m\u001b[43mraise_from\u001b[49m\u001b[43m(\u001b[49m\u001b[43me\u001b[49m\u001b[43m,\u001b[49m\u001b[43m \u001b[49m\u001b[38;5;28;43;01mNone\u001b[39;49;00m\u001b[43m)\u001b[49m\n\u001b[1;32m    450\u001b[0m \u001b[38;5;28;01mexcept\u001b[39;00m (SocketTimeout, BaseSSLError, SocketError) \u001b[38;5;28;01mas\u001b[39;00m e:\n",
      "File \u001b[0;32m<string>:3\u001b[0m, in \u001b[0;36mraise_from\u001b[0;34m(value, from_value)\u001b[0m\n",
      "File \u001b[0;32m~/opt/anaconda3/lib/python3.9/site-packages/urllib3/connectionpool.py:444\u001b[0m, in \u001b[0;36mHTTPConnectionPool._make_request\u001b[0;34m(self, conn, method, url, timeout, chunked, **httplib_request_kw)\u001b[0m\n\u001b[1;32m    443\u001b[0m \u001b[38;5;28;01mtry\u001b[39;00m:\n\u001b[0;32m--> 444\u001b[0m     httplib_response \u001b[38;5;241m=\u001b[39m \u001b[43mconn\u001b[49m\u001b[38;5;241;43m.\u001b[39;49m\u001b[43mgetresponse\u001b[49m\u001b[43m(\u001b[49m\u001b[43m)\u001b[49m\n\u001b[1;32m    445\u001b[0m \u001b[38;5;28;01mexcept\u001b[39;00m \u001b[38;5;167;01mBaseException\u001b[39;00m \u001b[38;5;28;01mas\u001b[39;00m e:\n\u001b[1;32m    446\u001b[0m     \u001b[38;5;66;03m# Remove the TypeError from the exception chain in\u001b[39;00m\n\u001b[1;32m    447\u001b[0m     \u001b[38;5;66;03m# Python 3 (including for exceptions like SystemExit).\u001b[39;00m\n\u001b[1;32m    448\u001b[0m     \u001b[38;5;66;03m# Otherwise it looks like a bug in the code.\u001b[39;00m\n",
      "File \u001b[0;32m~/opt/anaconda3/lib/python3.9/http/client.py:1377\u001b[0m, in \u001b[0;36mHTTPConnection.getresponse\u001b[0;34m(self)\u001b[0m\n\u001b[1;32m   1376\u001b[0m \u001b[38;5;28;01mtry\u001b[39;00m:\n\u001b[0;32m-> 1377\u001b[0m     \u001b[43mresponse\u001b[49m\u001b[38;5;241;43m.\u001b[39;49m\u001b[43mbegin\u001b[49m\u001b[43m(\u001b[49m\u001b[43m)\u001b[49m\n\u001b[1;32m   1378\u001b[0m \u001b[38;5;28;01mexcept\u001b[39;00m \u001b[38;5;167;01mConnectionError\u001b[39;00m:\n",
      "File \u001b[0;32m~/opt/anaconda3/lib/python3.9/http/client.py:320\u001b[0m, in \u001b[0;36mHTTPResponse.begin\u001b[0;34m(self)\u001b[0m\n\u001b[1;32m    319\u001b[0m \u001b[38;5;28;01mwhile\u001b[39;00m \u001b[38;5;28;01mTrue\u001b[39;00m:\n\u001b[0;32m--> 320\u001b[0m     version, status, reason \u001b[38;5;241m=\u001b[39m \u001b[38;5;28;43mself\u001b[39;49m\u001b[38;5;241;43m.\u001b[39;49m\u001b[43m_read_status\u001b[49m\u001b[43m(\u001b[49m\u001b[43m)\u001b[49m\n\u001b[1;32m    321\u001b[0m     \u001b[38;5;28;01mif\u001b[39;00m status \u001b[38;5;241m!=\u001b[39m CONTINUE:\n",
      "File \u001b[0;32m~/opt/anaconda3/lib/python3.9/http/client.py:281\u001b[0m, in \u001b[0;36mHTTPResponse._read_status\u001b[0;34m(self)\u001b[0m\n\u001b[1;32m    280\u001b[0m \u001b[38;5;28;01mdef\u001b[39;00m \u001b[38;5;21m_read_status\u001b[39m(\u001b[38;5;28mself\u001b[39m):\n\u001b[0;32m--> 281\u001b[0m     line \u001b[38;5;241m=\u001b[39m \u001b[38;5;28mstr\u001b[39m(\u001b[38;5;28;43mself\u001b[39;49m\u001b[38;5;241;43m.\u001b[39;49m\u001b[43mfp\u001b[49m\u001b[38;5;241;43m.\u001b[39;49m\u001b[43mreadline\u001b[49m\u001b[43m(\u001b[49m\u001b[43m_MAXLINE\u001b[49m\u001b[43m \u001b[49m\u001b[38;5;241;43m+\u001b[39;49m\u001b[43m \u001b[49m\u001b[38;5;241;43m1\u001b[39;49m\u001b[43m)\u001b[49m, \u001b[38;5;124m\"\u001b[39m\u001b[38;5;124miso-8859-1\u001b[39m\u001b[38;5;124m\"\u001b[39m)\n\u001b[1;32m    282\u001b[0m     \u001b[38;5;28;01mif\u001b[39;00m \u001b[38;5;28mlen\u001b[39m(line) \u001b[38;5;241m>\u001b[39m _MAXLINE:\n",
      "File \u001b[0;32m~/opt/anaconda3/lib/python3.9/socket.py:704\u001b[0m, in \u001b[0;36mSocketIO.readinto\u001b[0;34m(self, b)\u001b[0m\n\u001b[1;32m    703\u001b[0m \u001b[38;5;28;01mtry\u001b[39;00m:\n\u001b[0;32m--> 704\u001b[0m     \u001b[38;5;28;01mreturn\u001b[39;00m \u001b[38;5;28;43mself\u001b[39;49m\u001b[38;5;241;43m.\u001b[39;49m\u001b[43m_sock\u001b[49m\u001b[38;5;241;43m.\u001b[39;49m\u001b[43mrecv_into\u001b[49m\u001b[43m(\u001b[49m\u001b[43mb\u001b[49m\u001b[43m)\u001b[49m\n\u001b[1;32m    705\u001b[0m \u001b[38;5;28;01mexcept\u001b[39;00m timeout:\n",
      "File \u001b[0;32m~/opt/anaconda3/lib/python3.9/ssl.py:1241\u001b[0m, in \u001b[0;36mSSLSocket.recv_into\u001b[0;34m(self, buffer, nbytes, flags)\u001b[0m\n\u001b[1;32m   1238\u001b[0m         \u001b[38;5;28;01mraise\u001b[39;00m \u001b[38;5;167;01mValueError\u001b[39;00m(\n\u001b[1;32m   1239\u001b[0m           \u001b[38;5;124m\"\u001b[39m\u001b[38;5;124mnon-zero flags not allowed in calls to recv_into() on \u001b[39m\u001b[38;5;132;01m%s\u001b[39;00m\u001b[38;5;124m\"\u001b[39m \u001b[38;5;241m%\u001b[39m\n\u001b[1;32m   1240\u001b[0m           \u001b[38;5;28mself\u001b[39m\u001b[38;5;241m.\u001b[39m\u001b[38;5;18m__class__\u001b[39m)\n\u001b[0;32m-> 1241\u001b[0m     \u001b[38;5;28;01mreturn\u001b[39;00m \u001b[38;5;28;43mself\u001b[39;49m\u001b[38;5;241;43m.\u001b[39;49m\u001b[43mread\u001b[49m\u001b[43m(\u001b[49m\u001b[43mnbytes\u001b[49m\u001b[43m,\u001b[49m\u001b[43m \u001b[49m\u001b[43mbuffer\u001b[49m\u001b[43m)\u001b[49m\n\u001b[1;32m   1242\u001b[0m \u001b[38;5;28;01melse\u001b[39;00m:\n",
      "File \u001b[0;32m~/opt/anaconda3/lib/python3.9/ssl.py:1099\u001b[0m, in \u001b[0;36mSSLSocket.read\u001b[0;34m(self, len, buffer)\u001b[0m\n\u001b[1;32m   1098\u001b[0m \u001b[38;5;28;01mif\u001b[39;00m buffer \u001b[38;5;129;01mis\u001b[39;00m \u001b[38;5;129;01mnot\u001b[39;00m \u001b[38;5;28;01mNone\u001b[39;00m:\n\u001b[0;32m-> 1099\u001b[0m     \u001b[38;5;28;01mreturn\u001b[39;00m \u001b[38;5;28;43mself\u001b[39;49m\u001b[38;5;241;43m.\u001b[39;49m\u001b[43m_sslobj\u001b[49m\u001b[38;5;241;43m.\u001b[39;49m\u001b[43mread\u001b[49m\u001b[43m(\u001b[49m\u001b[38;5;28;43mlen\u001b[39;49m\u001b[43m,\u001b[49m\u001b[43m \u001b[49m\u001b[43mbuffer\u001b[49m\u001b[43m)\u001b[49m\n\u001b[1;32m   1100\u001b[0m \u001b[38;5;28;01melse\u001b[39;00m:\n",
      "\u001b[0;31mtimeout\u001b[0m: The read operation timed out",
      "\nDuring handling of the above exception, another exception occurred:\n",
      "\u001b[0;31mReadTimeoutError\u001b[0m                          Traceback (most recent call last)",
      "File \u001b[0;32m~/opt/anaconda3/lib/python3.9/site-packages/requests/adapters.py:440\u001b[0m, in \u001b[0;36mHTTPAdapter.send\u001b[0;34m(self, request, stream, timeout, verify, cert, proxies)\u001b[0m\n\u001b[1;32m    439\u001b[0m \u001b[38;5;28;01mif\u001b[39;00m \u001b[38;5;129;01mnot\u001b[39;00m chunked:\n\u001b[0;32m--> 440\u001b[0m     resp \u001b[38;5;241m=\u001b[39m \u001b[43mconn\u001b[49m\u001b[38;5;241;43m.\u001b[39;49m\u001b[43murlopen\u001b[49m\u001b[43m(\u001b[49m\n\u001b[1;32m    441\u001b[0m \u001b[43m        \u001b[49m\u001b[43mmethod\u001b[49m\u001b[38;5;241;43m=\u001b[39;49m\u001b[43mrequest\u001b[49m\u001b[38;5;241;43m.\u001b[39;49m\u001b[43mmethod\u001b[49m\u001b[43m,\u001b[49m\n\u001b[1;32m    442\u001b[0m \u001b[43m        \u001b[49m\u001b[43murl\u001b[49m\u001b[38;5;241;43m=\u001b[39;49m\u001b[43murl\u001b[49m\u001b[43m,\u001b[49m\n\u001b[1;32m    443\u001b[0m \u001b[43m        \u001b[49m\u001b[43mbody\u001b[49m\u001b[38;5;241;43m=\u001b[39;49m\u001b[43mrequest\u001b[49m\u001b[38;5;241;43m.\u001b[39;49m\u001b[43mbody\u001b[49m\u001b[43m,\u001b[49m\n\u001b[1;32m    444\u001b[0m \u001b[43m        \u001b[49m\u001b[43mheaders\u001b[49m\u001b[38;5;241;43m=\u001b[39;49m\u001b[43mrequest\u001b[49m\u001b[38;5;241;43m.\u001b[39;49m\u001b[43mheaders\u001b[49m\u001b[43m,\u001b[49m\n\u001b[1;32m    445\u001b[0m \u001b[43m        \u001b[49m\u001b[43mredirect\u001b[49m\u001b[38;5;241;43m=\u001b[39;49m\u001b[38;5;28;43;01mFalse\u001b[39;49;00m\u001b[43m,\u001b[49m\n\u001b[1;32m    446\u001b[0m \u001b[43m        \u001b[49m\u001b[43massert_same_host\u001b[49m\u001b[38;5;241;43m=\u001b[39;49m\u001b[38;5;28;43;01mFalse\u001b[39;49;00m\u001b[43m,\u001b[49m\n\u001b[1;32m    447\u001b[0m \u001b[43m        \u001b[49m\u001b[43mpreload_content\u001b[49m\u001b[38;5;241;43m=\u001b[39;49m\u001b[38;5;28;43;01mFalse\u001b[39;49;00m\u001b[43m,\u001b[49m\n\u001b[1;32m    448\u001b[0m \u001b[43m        \u001b[49m\u001b[43mdecode_content\u001b[49m\u001b[38;5;241;43m=\u001b[39;49m\u001b[38;5;28;43;01mFalse\u001b[39;49;00m\u001b[43m,\u001b[49m\n\u001b[1;32m    449\u001b[0m \u001b[43m        \u001b[49m\u001b[43mretries\u001b[49m\u001b[38;5;241;43m=\u001b[39;49m\u001b[38;5;28;43mself\u001b[39;49m\u001b[38;5;241;43m.\u001b[39;49m\u001b[43mmax_retries\u001b[49m\u001b[43m,\u001b[49m\n\u001b[1;32m    450\u001b[0m \u001b[43m        \u001b[49m\u001b[43mtimeout\u001b[49m\u001b[38;5;241;43m=\u001b[39;49m\u001b[43mtimeout\u001b[49m\n\u001b[1;32m    451\u001b[0m \u001b[43m    \u001b[49m\u001b[43m)\u001b[49m\n\u001b[1;32m    453\u001b[0m \u001b[38;5;66;03m# Send the request.\u001b[39;00m\n\u001b[1;32m    454\u001b[0m \u001b[38;5;28;01melse\u001b[39;00m:\n",
      "File \u001b[0;32m~/opt/anaconda3/lib/python3.9/site-packages/urllib3/connectionpool.py:785\u001b[0m, in \u001b[0;36mHTTPConnectionPool.urlopen\u001b[0;34m(self, method, url, body, headers, retries, redirect, assert_same_host, timeout, pool_timeout, release_conn, chunked, body_pos, **response_kw)\u001b[0m\n\u001b[1;32m    783\u001b[0m     e \u001b[38;5;241m=\u001b[39m ProtocolError(\u001b[38;5;124m\"\u001b[39m\u001b[38;5;124mConnection aborted.\u001b[39m\u001b[38;5;124m\"\u001b[39m, e)\n\u001b[0;32m--> 785\u001b[0m retries \u001b[38;5;241m=\u001b[39m \u001b[43mretries\u001b[49m\u001b[38;5;241;43m.\u001b[39;49m\u001b[43mincrement\u001b[49m\u001b[43m(\u001b[49m\n\u001b[1;32m    786\u001b[0m \u001b[43m    \u001b[49m\u001b[43mmethod\u001b[49m\u001b[43m,\u001b[49m\u001b[43m \u001b[49m\u001b[43murl\u001b[49m\u001b[43m,\u001b[49m\u001b[43m \u001b[49m\u001b[43merror\u001b[49m\u001b[38;5;241;43m=\u001b[39;49m\u001b[43me\u001b[49m\u001b[43m,\u001b[49m\u001b[43m \u001b[49m\u001b[43m_pool\u001b[49m\u001b[38;5;241;43m=\u001b[39;49m\u001b[38;5;28;43mself\u001b[39;49m\u001b[43m,\u001b[49m\u001b[43m \u001b[49m\u001b[43m_stacktrace\u001b[49m\u001b[38;5;241;43m=\u001b[39;49m\u001b[43msys\u001b[49m\u001b[38;5;241;43m.\u001b[39;49m\u001b[43mexc_info\u001b[49m\u001b[43m(\u001b[49m\u001b[43m)\u001b[49m\u001b[43m[\u001b[49m\u001b[38;5;241;43m2\u001b[39;49m\u001b[43m]\u001b[49m\n\u001b[1;32m    787\u001b[0m \u001b[43m\u001b[49m\u001b[43m)\u001b[49m\n\u001b[1;32m    788\u001b[0m retries\u001b[38;5;241m.\u001b[39msleep()\n",
      "File \u001b[0;32m~/opt/anaconda3/lib/python3.9/site-packages/urllib3/util/retry.py:550\u001b[0m, in \u001b[0;36mRetry.increment\u001b[0;34m(self, method, url, response, error, _pool, _stacktrace)\u001b[0m\n\u001b[1;32m    549\u001b[0m \u001b[38;5;28;01mif\u001b[39;00m read \u001b[38;5;129;01mis\u001b[39;00m \u001b[38;5;28;01mFalse\u001b[39;00m \u001b[38;5;129;01mor\u001b[39;00m \u001b[38;5;129;01mnot\u001b[39;00m \u001b[38;5;28mself\u001b[39m\u001b[38;5;241m.\u001b[39m_is_method_retryable(method):\n\u001b[0;32m--> 550\u001b[0m     \u001b[38;5;28;01mraise\u001b[39;00m \u001b[43msix\u001b[49m\u001b[38;5;241;43m.\u001b[39;49m\u001b[43mreraise\u001b[49m\u001b[43m(\u001b[49m\u001b[38;5;28;43mtype\u001b[39;49m\u001b[43m(\u001b[49m\u001b[43merror\u001b[49m\u001b[43m)\u001b[49m\u001b[43m,\u001b[49m\u001b[43m \u001b[49m\u001b[43merror\u001b[49m\u001b[43m,\u001b[49m\u001b[43m \u001b[49m\u001b[43m_stacktrace\u001b[49m\u001b[43m)\u001b[49m\n\u001b[1;32m    551\u001b[0m \u001b[38;5;28;01melif\u001b[39;00m read \u001b[38;5;129;01mis\u001b[39;00m \u001b[38;5;129;01mnot\u001b[39;00m \u001b[38;5;28;01mNone\u001b[39;00m:\n",
      "File \u001b[0;32m~/opt/anaconda3/lib/python3.9/site-packages/urllib3/packages/six.py:770\u001b[0m, in \u001b[0;36mreraise\u001b[0;34m(tp, value, tb)\u001b[0m\n\u001b[1;32m    769\u001b[0m         \u001b[38;5;28;01mraise\u001b[39;00m value\u001b[38;5;241m.\u001b[39mwith_traceback(tb)\n\u001b[0;32m--> 770\u001b[0m     \u001b[38;5;28;01mraise\u001b[39;00m value\n\u001b[1;32m    771\u001b[0m \u001b[38;5;28;01mfinally\u001b[39;00m:\n",
      "File \u001b[0;32m~/opt/anaconda3/lib/python3.9/site-packages/urllib3/connectionpool.py:703\u001b[0m, in \u001b[0;36mHTTPConnectionPool.urlopen\u001b[0;34m(self, method, url, body, headers, retries, redirect, assert_same_host, timeout, pool_timeout, release_conn, chunked, body_pos, **response_kw)\u001b[0m\n\u001b[1;32m    702\u001b[0m \u001b[38;5;66;03m# Make the request on the httplib connection object.\u001b[39;00m\n\u001b[0;32m--> 703\u001b[0m httplib_response \u001b[38;5;241m=\u001b[39m \u001b[38;5;28;43mself\u001b[39;49m\u001b[38;5;241;43m.\u001b[39;49m\u001b[43m_make_request\u001b[49m\u001b[43m(\u001b[49m\n\u001b[1;32m    704\u001b[0m \u001b[43m    \u001b[49m\u001b[43mconn\u001b[49m\u001b[43m,\u001b[49m\n\u001b[1;32m    705\u001b[0m \u001b[43m    \u001b[49m\u001b[43mmethod\u001b[49m\u001b[43m,\u001b[49m\n\u001b[1;32m    706\u001b[0m \u001b[43m    \u001b[49m\u001b[43murl\u001b[49m\u001b[43m,\u001b[49m\n\u001b[1;32m    707\u001b[0m \u001b[43m    \u001b[49m\u001b[43mtimeout\u001b[49m\u001b[38;5;241;43m=\u001b[39;49m\u001b[43mtimeout_obj\u001b[49m\u001b[43m,\u001b[49m\n\u001b[1;32m    708\u001b[0m \u001b[43m    \u001b[49m\u001b[43mbody\u001b[49m\u001b[38;5;241;43m=\u001b[39;49m\u001b[43mbody\u001b[49m\u001b[43m,\u001b[49m\n\u001b[1;32m    709\u001b[0m \u001b[43m    \u001b[49m\u001b[43mheaders\u001b[49m\u001b[38;5;241;43m=\u001b[39;49m\u001b[43mheaders\u001b[49m\u001b[43m,\u001b[49m\n\u001b[1;32m    710\u001b[0m \u001b[43m    \u001b[49m\u001b[43mchunked\u001b[49m\u001b[38;5;241;43m=\u001b[39;49m\u001b[43mchunked\u001b[49m\u001b[43m,\u001b[49m\n\u001b[1;32m    711\u001b[0m \u001b[43m\u001b[49m\u001b[43m)\u001b[49m\n\u001b[1;32m    713\u001b[0m \u001b[38;5;66;03m# If we're going to release the connection in ``finally:``, then\u001b[39;00m\n\u001b[1;32m    714\u001b[0m \u001b[38;5;66;03m# the response doesn't need to know about the connection. Otherwise\u001b[39;00m\n\u001b[1;32m    715\u001b[0m \u001b[38;5;66;03m# it will also try to release it and we'll have a double-release\u001b[39;00m\n\u001b[1;32m    716\u001b[0m \u001b[38;5;66;03m# mess.\u001b[39;00m\n",
      "File \u001b[0;32m~/opt/anaconda3/lib/python3.9/site-packages/urllib3/connectionpool.py:451\u001b[0m, in \u001b[0;36mHTTPConnectionPool._make_request\u001b[0;34m(self, conn, method, url, timeout, chunked, **httplib_request_kw)\u001b[0m\n\u001b[1;32m    450\u001b[0m \u001b[38;5;28;01mexcept\u001b[39;00m (SocketTimeout, BaseSSLError, SocketError) \u001b[38;5;28;01mas\u001b[39;00m e:\n\u001b[0;32m--> 451\u001b[0m     \u001b[38;5;28;43mself\u001b[39;49m\u001b[38;5;241;43m.\u001b[39;49m\u001b[43m_raise_timeout\u001b[49m\u001b[43m(\u001b[49m\u001b[43merr\u001b[49m\u001b[38;5;241;43m=\u001b[39;49m\u001b[43me\u001b[49m\u001b[43m,\u001b[49m\u001b[43m \u001b[49m\u001b[43murl\u001b[49m\u001b[38;5;241;43m=\u001b[39;49m\u001b[43murl\u001b[49m\u001b[43m,\u001b[49m\u001b[43m \u001b[49m\u001b[43mtimeout_value\u001b[49m\u001b[38;5;241;43m=\u001b[39;49m\u001b[43mread_timeout\u001b[49m\u001b[43m)\u001b[49m\n\u001b[1;32m    452\u001b[0m     \u001b[38;5;28;01mraise\u001b[39;00m\n",
      "File \u001b[0;32m~/opt/anaconda3/lib/python3.9/site-packages/urllib3/connectionpool.py:340\u001b[0m, in \u001b[0;36mHTTPConnectionPool._raise_timeout\u001b[0;34m(self, err, url, timeout_value)\u001b[0m\n\u001b[1;32m    339\u001b[0m \u001b[38;5;28;01mif\u001b[39;00m \u001b[38;5;28misinstance\u001b[39m(err, SocketTimeout):\n\u001b[0;32m--> 340\u001b[0m     \u001b[38;5;28;01mraise\u001b[39;00m ReadTimeoutError(\n\u001b[1;32m    341\u001b[0m         \u001b[38;5;28mself\u001b[39m, url, \u001b[38;5;124m\"\u001b[39m\u001b[38;5;124mRead timed out. (read timeout=\u001b[39m\u001b[38;5;132;01m%s\u001b[39;00m\u001b[38;5;124m)\u001b[39m\u001b[38;5;124m\"\u001b[39m \u001b[38;5;241m%\u001b[39m timeout_value\n\u001b[1;32m    342\u001b[0m     )\n\u001b[1;32m    344\u001b[0m \u001b[38;5;66;03m# See the above comment about EAGAIN in Python 3. In Python 2 we have\u001b[39;00m\n\u001b[1;32m    345\u001b[0m \u001b[38;5;66;03m# to specifically catch it and throw the timeout error\u001b[39;00m\n",
      "\u001b[0;31mReadTimeoutError\u001b[0m: HTTPSConnectionPool(host='api.spotify.com', port=443): Read timed out. (read timeout=5)",
      "\nDuring handling of the above exception, another exception occurred:\n",
      "\u001b[0;31mReadTimeout\u001b[0m                               Traceback (most recent call last)",
      "Input \u001b[0;32mIn [206]\u001b[0m, in \u001b[0;36m<cell line: 1>\u001b[0;34m()\u001b[0m\n\u001b[1;32m      1\u001b[0m \u001b[38;5;28;01mfor\u001b[39;00m i  \u001b[38;5;129;01min\u001b[39;00m  result[\u001b[38;5;241m26\u001b[39m][\u001b[38;5;241m113\u001b[39m:]:\n\u001b[1;32m      2\u001b[0m     \u001b[38;5;28mprint\u001b[39m(i)\n\u001b[0;32m----> 3\u001b[0m     \u001b[43mget_features_df\u001b[49m\u001b[43m(\u001b[49m\u001b[43mi\u001b[49m\u001b[43m)\u001b[49m\n",
      "Input \u001b[0;32mIn [4]\u001b[0m, in \u001b[0;36mget_features_df\u001b[0;34m(playlist_id)\u001b[0m\n\u001b[1;32m     15\u001b[0m \u001b[38;5;66;03m#getting features per song in  playlist \u001b[39;00m\n\u001b[1;32m     16\u001b[0m     \u001b[38;5;28;01mfor\u001b[39;00m value \u001b[38;5;129;01min\u001b[39;00m \u001b[38;5;28mrange\u001b[39m(\u001b[38;5;241m0\u001b[39m,\u001b[38;5;28mlen\u001b[39m(tracks)):\n\u001b[0;32m---> 18\u001b[0m         list_of_audio_features\u001b[38;5;241m.\u001b[39mappend(\u001b[43msp\u001b[49m\u001b[38;5;241;43m.\u001b[39;49m\u001b[43maudio_features\u001b[49m\u001b[43m(\u001b[49m\u001b[43mtracks\u001b[49m\u001b[43m[\u001b[49m\u001b[43mvalue\u001b[49m\u001b[43m]\u001b[49m\u001b[43m[\u001b[49m\u001b[38;5;124;43m\"\u001b[39;49m\u001b[38;5;124;43mtrack\u001b[39;49m\u001b[38;5;124;43m\"\u001b[39;49m\u001b[43m]\u001b[49m\u001b[43m[\u001b[49m\u001b[38;5;124;43m\"\u001b[39;49m\u001b[38;5;124;43mid\u001b[39;49m\u001b[38;5;124;43m\"\u001b[39;49m\u001b[43m]\u001b[49m\u001b[43m)\u001b[49m[\u001b[38;5;241m0\u001b[39m])\n\u001b[1;32m     21\u001b[0m \u001b[38;5;66;03m#creating df with audio features and adding song name and artist     \u001b[39;00m\n\u001b[1;32m     22\u001b[0m     df\u001b[38;5;241m=\u001b[39mpd\u001b[38;5;241m.\u001b[39mDataFrame(list_of_audio_features)    \n",
      "File \u001b[0;32m~/opt/anaconda3/lib/python3.9/site-packages/spotipy/client.py:1680\u001b[0m, in \u001b[0;36mSpotify.audio_features\u001b[0;34m(self, tracks)\u001b[0m\n\u001b[1;32m   1678\u001b[0m \u001b[38;5;28;01mif\u001b[39;00m \u001b[38;5;28misinstance\u001b[39m(tracks, \u001b[38;5;28mstr\u001b[39m):\n\u001b[1;32m   1679\u001b[0m     trackid \u001b[38;5;241m=\u001b[39m \u001b[38;5;28mself\u001b[39m\u001b[38;5;241m.\u001b[39m_get_id(\u001b[38;5;124m\"\u001b[39m\u001b[38;5;124mtrack\u001b[39m\u001b[38;5;124m\"\u001b[39m, tracks)\n\u001b[0;32m-> 1680\u001b[0m     results \u001b[38;5;241m=\u001b[39m \u001b[38;5;28;43mself\u001b[39;49m\u001b[38;5;241;43m.\u001b[39;49m\u001b[43m_get\u001b[49m\u001b[43m(\u001b[49m\u001b[38;5;124;43m\"\u001b[39;49m\u001b[38;5;124;43maudio-features/?ids=\u001b[39;49m\u001b[38;5;124;43m\"\u001b[39;49m\u001b[43m \u001b[49m\u001b[38;5;241;43m+\u001b[39;49m\u001b[43m \u001b[49m\u001b[43mtrackid\u001b[49m\u001b[43m)\u001b[49m\n\u001b[1;32m   1681\u001b[0m \u001b[38;5;28;01melse\u001b[39;00m:\n\u001b[1;32m   1682\u001b[0m     tlist \u001b[38;5;241m=\u001b[39m [\u001b[38;5;28mself\u001b[39m\u001b[38;5;241m.\u001b[39m_get_id(\u001b[38;5;124m\"\u001b[39m\u001b[38;5;124mtrack\u001b[39m\u001b[38;5;124m\"\u001b[39m, t) \u001b[38;5;28;01mfor\u001b[39;00m t \u001b[38;5;129;01min\u001b[39;00m tracks]\n",
      "File \u001b[0;32m~/opt/anaconda3/lib/python3.9/site-packages/spotipy/client.py:297\u001b[0m, in \u001b[0;36mSpotify._get\u001b[0;34m(self, url, args, payload, **kwargs)\u001b[0m\n\u001b[1;32m    294\u001b[0m \u001b[38;5;28;01mif\u001b[39;00m args:\n\u001b[1;32m    295\u001b[0m     kwargs\u001b[38;5;241m.\u001b[39mupdate(args)\n\u001b[0;32m--> 297\u001b[0m \u001b[38;5;28;01mreturn\u001b[39;00m \u001b[38;5;28;43mself\u001b[39;49m\u001b[38;5;241;43m.\u001b[39;49m\u001b[43m_internal_call\u001b[49m\u001b[43m(\u001b[49m\u001b[38;5;124;43m\"\u001b[39;49m\u001b[38;5;124;43mGET\u001b[39;49m\u001b[38;5;124;43m\"\u001b[39;49m\u001b[43m,\u001b[49m\u001b[43m \u001b[49m\u001b[43murl\u001b[49m\u001b[43m,\u001b[49m\u001b[43m \u001b[49m\u001b[43mpayload\u001b[49m\u001b[43m,\u001b[49m\u001b[43m \u001b[49m\u001b[43mkwargs\u001b[49m\u001b[43m)\u001b[49m\n",
      "File \u001b[0;32m~/opt/anaconda3/lib/python3.9/site-packages/spotipy/client.py:240\u001b[0m, in \u001b[0;36mSpotify._internal_call\u001b[0;34m(self, method, url, payload, params)\u001b[0m\n\u001b[1;32m    236\u001b[0m logger\u001b[38;5;241m.\u001b[39mdebug(\u001b[38;5;124m'\u001b[39m\u001b[38;5;124mSending \u001b[39m\u001b[38;5;132;01m%s\u001b[39;00m\u001b[38;5;124m to \u001b[39m\u001b[38;5;132;01m%s\u001b[39;00m\u001b[38;5;124m with Params: \u001b[39m\u001b[38;5;132;01m%s\u001b[39;00m\u001b[38;5;124m Headers: \u001b[39m\u001b[38;5;132;01m%s\u001b[39;00m\u001b[38;5;124m and Body: \u001b[39m\u001b[38;5;132;01m%r\u001b[39;00m\u001b[38;5;124m \u001b[39m\u001b[38;5;124m'\u001b[39m,\n\u001b[1;32m    237\u001b[0m              method, url, args\u001b[38;5;241m.\u001b[39mget(\u001b[38;5;124m\"\u001b[39m\u001b[38;5;124mparams\u001b[39m\u001b[38;5;124m\"\u001b[39m), headers, args\u001b[38;5;241m.\u001b[39mget(\u001b[38;5;124m'\u001b[39m\u001b[38;5;124mdata\u001b[39m\u001b[38;5;124m'\u001b[39m))\n\u001b[1;32m    239\u001b[0m \u001b[38;5;28;01mtry\u001b[39;00m:\n\u001b[0;32m--> 240\u001b[0m     response \u001b[38;5;241m=\u001b[39m \u001b[38;5;28;43mself\u001b[39;49m\u001b[38;5;241;43m.\u001b[39;49m\u001b[43m_session\u001b[49m\u001b[38;5;241;43m.\u001b[39;49m\u001b[43mrequest\u001b[49m\u001b[43m(\u001b[49m\n\u001b[1;32m    241\u001b[0m \u001b[43m        \u001b[49m\u001b[43mmethod\u001b[49m\u001b[43m,\u001b[49m\u001b[43m \u001b[49m\u001b[43murl\u001b[49m\u001b[43m,\u001b[49m\u001b[43m \u001b[49m\u001b[43mheaders\u001b[49m\u001b[38;5;241;43m=\u001b[39;49m\u001b[43mheaders\u001b[49m\u001b[43m,\u001b[49m\u001b[43m \u001b[49m\u001b[43mproxies\u001b[49m\u001b[38;5;241;43m=\u001b[39;49m\u001b[38;5;28;43mself\u001b[39;49m\u001b[38;5;241;43m.\u001b[39;49m\u001b[43mproxies\u001b[49m\u001b[43m,\u001b[49m\n\u001b[1;32m    242\u001b[0m \u001b[43m        \u001b[49m\u001b[43mtimeout\u001b[49m\u001b[38;5;241;43m=\u001b[39;49m\u001b[38;5;28;43mself\u001b[39;49m\u001b[38;5;241;43m.\u001b[39;49m\u001b[43mrequests_timeout\u001b[49m\u001b[43m,\u001b[49m\u001b[43m \u001b[49m\u001b[38;5;241;43m*\u001b[39;49m\u001b[38;5;241;43m*\u001b[39;49m\u001b[43margs\u001b[49m\n\u001b[1;32m    243\u001b[0m \u001b[43m    \u001b[49m\u001b[43m)\u001b[49m\n\u001b[1;32m    245\u001b[0m     response\u001b[38;5;241m.\u001b[39mraise_for_status()\n\u001b[1;32m    246\u001b[0m     results \u001b[38;5;241m=\u001b[39m response\u001b[38;5;241m.\u001b[39mjson()\n",
      "File \u001b[0;32m~/opt/anaconda3/lib/python3.9/site-packages/requests/sessions.py:529\u001b[0m, in \u001b[0;36mSession.request\u001b[0;34m(self, method, url, params, data, headers, cookies, files, auth, timeout, allow_redirects, proxies, hooks, stream, verify, cert, json)\u001b[0m\n\u001b[1;32m    524\u001b[0m send_kwargs \u001b[38;5;241m=\u001b[39m {\n\u001b[1;32m    525\u001b[0m     \u001b[38;5;124m'\u001b[39m\u001b[38;5;124mtimeout\u001b[39m\u001b[38;5;124m'\u001b[39m: timeout,\n\u001b[1;32m    526\u001b[0m     \u001b[38;5;124m'\u001b[39m\u001b[38;5;124mallow_redirects\u001b[39m\u001b[38;5;124m'\u001b[39m: allow_redirects,\n\u001b[1;32m    527\u001b[0m }\n\u001b[1;32m    528\u001b[0m send_kwargs\u001b[38;5;241m.\u001b[39mupdate(settings)\n\u001b[0;32m--> 529\u001b[0m resp \u001b[38;5;241m=\u001b[39m \u001b[38;5;28;43mself\u001b[39;49m\u001b[38;5;241;43m.\u001b[39;49m\u001b[43msend\u001b[49m\u001b[43m(\u001b[49m\u001b[43mprep\u001b[49m\u001b[43m,\u001b[49m\u001b[43m \u001b[49m\u001b[38;5;241;43m*\u001b[39;49m\u001b[38;5;241;43m*\u001b[39;49m\u001b[43msend_kwargs\u001b[49m\u001b[43m)\u001b[49m\n\u001b[1;32m    531\u001b[0m \u001b[38;5;28;01mreturn\u001b[39;00m resp\n",
      "File \u001b[0;32m~/opt/anaconda3/lib/python3.9/site-packages/requests/sessions.py:645\u001b[0m, in \u001b[0;36mSession.send\u001b[0;34m(self, request, **kwargs)\u001b[0m\n\u001b[1;32m    642\u001b[0m start \u001b[38;5;241m=\u001b[39m preferred_clock()\n\u001b[1;32m    644\u001b[0m \u001b[38;5;66;03m# Send the request\u001b[39;00m\n\u001b[0;32m--> 645\u001b[0m r \u001b[38;5;241m=\u001b[39m \u001b[43madapter\u001b[49m\u001b[38;5;241;43m.\u001b[39;49m\u001b[43msend\u001b[49m\u001b[43m(\u001b[49m\u001b[43mrequest\u001b[49m\u001b[43m,\u001b[49m\u001b[43m \u001b[49m\u001b[38;5;241;43m*\u001b[39;49m\u001b[38;5;241;43m*\u001b[39;49m\u001b[43mkwargs\u001b[49m\u001b[43m)\u001b[49m\n\u001b[1;32m    647\u001b[0m \u001b[38;5;66;03m# Total elapsed time of the request (approximately)\u001b[39;00m\n\u001b[1;32m    648\u001b[0m elapsed \u001b[38;5;241m=\u001b[39m preferred_clock() \u001b[38;5;241m-\u001b[39m start\n",
      "File \u001b[0;32m~/opt/anaconda3/lib/python3.9/site-packages/requests/adapters.py:532\u001b[0m, in \u001b[0;36mHTTPAdapter.send\u001b[0;34m(self, request, stream, timeout, verify, cert, proxies)\u001b[0m\n\u001b[1;32m    530\u001b[0m     \u001b[38;5;28;01mraise\u001b[39;00m SSLError(e, request\u001b[38;5;241m=\u001b[39mrequest)\n\u001b[1;32m    531\u001b[0m \u001b[38;5;28;01melif\u001b[39;00m \u001b[38;5;28misinstance\u001b[39m(e, ReadTimeoutError):\n\u001b[0;32m--> 532\u001b[0m     \u001b[38;5;28;01mraise\u001b[39;00m ReadTimeout(e, request\u001b[38;5;241m=\u001b[39mrequest)\n\u001b[1;32m    533\u001b[0m \u001b[38;5;28;01melif\u001b[39;00m \u001b[38;5;28misinstance\u001b[39m(e, _InvalidHeader):\n\u001b[1;32m    534\u001b[0m     \u001b[38;5;28;01mraise\u001b[39;00m InvalidHeader(e, request\u001b[38;5;241m=\u001b[39mrequest)\n",
      "\u001b[0;31mReadTimeout\u001b[0m: HTTPSConnectionPool(host='api.spotify.com', port=443): Read timed out. (read timeout=5)"
     ]
    }
   ],
   "source": [
    "for i  in  result[26][113:]:\n",
    "    print(i)\n",
    "    get_features_df(i)"
   ]
  },
  {
   "cell_type": "code",
   "execution_count": 219,
   "id": "403ac63c",
   "metadata": {},
   "outputs": [
    {
     "data": {
      "text/plain": [
       "['63NyygAMIKSxy6LRG0eT5i',\n",
       " '39DfjCVzK3pnszkIPeXN17',\n",
       " '1QdpuPWvKE55QcNJZWAjSU',\n",
       " '2xCIMhNgOWQm1iWpOdg0w3',\n",
       " '196T2qP29EjWxI1x6oSiXa',\n",
       " '5NmSX3apChYsQj54LLufIV',\n",
       " '40jbkOIWkM57FnXTokMzU9',\n",
       " '6YcVrEYohgdJDds0SJ70CM',\n",
       " '3wTmRDseZi0s4Q0OpBUg4q',\n",
       " '6UoFptna0FeYqzMeOR8SVr',\n",
       " '4zC9gA0aRcK5KP0hANQmFy',\n",
       " '0wYpNflDnwSC3OZqdrQCBt',\n",
       " '3UhutiIcXo23ICdnsxBEFE',\n",
       " '1YlQnXnGXy3oUayr7CunWv',\n",
       " '5eXtMliOlZWHMcDDRkANhL',\n",
       " '72nKBOJxfLUr3iuUUMn2nV',\n",
       " '7MFj9QO8OjHAULmCOlredr',\n",
       " '1VnqViluZQhxqcgWN1R8mR',\n",
       " '0Ud1B5OYxleiuspbBXZI2t',\n",
       " '4APG0kwkbEt77VxOuqKCUl',\n",
       " '1lMgl0D1HZVvtq16pB13ew',\n",
       " '6N8qENHslBLpLYVEOP9Ebw',\n",
       " '70f3S3d60uyOdssfCZ9AEe',\n",
       " '29W4FPNZsBNek3jA5zKfBh',\n",
       " '4HxnIDtqnU3BPh4yVWZg2b',\n",
       " '2i2T2aO3SnyzstYOrLALW7',\n",
       " '1nJv9YpODF9VdIg4zpHPGl',\n",
       " '1Ph8pxls7GNLTFH7fcWxKh',\n",
       " '19TTQtvqRkqHiIwxdHCbhS',\n",
       " '1C3oYxpDKj4OHf4sB2gQQ5',\n",
       " '7eGVwau0N6LFe0tDGSgnfE',\n",
       " '1rlHnACGatHAOQrZ3WjEI3',\n",
       " '6EC3lo1QkeoX9u0lV3NpWh',\n",
       " '2Kig10nWiTUVz0WxAaUF3d',\n",
       " '59qMoqvlNat6Knc0feSWJn',\n",
       " '1u5mmyg0iXNefdvJnyYxR1',\n",
       " '2b5xbXrNNeqxpcqSpy7JLC',\n",
       " '4mijVkpSXJziPiOrK7YX4M',\n",
       " '6PpgydwSFoSDoRtFWTJgkJ',\n",
       " '6YZspl7VU1iH7IIVZtbBrZ',\n",
       " '7C4YA1mw3XW1fWcVqRQIvc',\n",
       " '5ytzcJ3FZhJGgQupUva1lT',\n",
       " '0ic2Xr1zG007z8Nduvazc4',\n",
       " '2KMAWk6brKSc3lVAsRZIMH',\n",
       " '0LIRzPCFAI0uaKNyYMeWBq',\n",
       " '5vc8iHgY8M9XyaKFOfWIil',\n",
       " '2dHEwheLsfq6X3AfIH1AnJ',\n",
       " '3QY81cbRYFXTHdTBNVVVb2',\n",
       " '7y00fhiUdviML8AhwU7NUL',\n",
       " '03csHhetcFo29YHV4Z9A3g',\n",
       " '04goa2WnJSttcaWR9ZCkjQ',\n",
       " '6CwZnd7cgbJzStHKhbUbnX',\n",
       " '2nuFDRMV9ePZJba5V94AJ8',\n",
       " '6gS6GzxIiIADmPTa4xYvcC',\n",
       " '45GY1sw2pj0LitunAGcMz6',\n",
       " '6PYtLNuIDCA1TZoLSaBYm7',\n",
       " '6RFAXWzgMsqIkfZBXoFi8C',\n",
       " '15S4NfywNOYUorC4FzfPqW',\n",
       " '40luEHX58YMtrD3cHCqAew',\n",
       " '6GVUfirEB9jLZzk1lA7XZT',\n",
       " '41CsfNQA2R4quZUDGK3xFH',\n",
       " '6647V02cNn9NzfJeaM0baS',\n",
       " '1rGoVVHRgZB6OTYA3zUbvO',\n",
       " '2pmUHfzCVyrWGCUkmF4xah',\n",
       " '407HWwYCxddvWkqGKybLkr',\n",
       " '4ML7JSFmkkJipKldJqZGbN',\n",
       " '7mv3d734tlpipCOpjEfLMD',\n",
       " '2CTX0IxBoq69Kq4trHCzAD',\n",
       " '1OXxQpaCXYbPe3lYjUdcuq',\n",
       " '0vXJqihXL6TaC1df5Ev015',\n",
       " '4m33gxxb6nOSVYMzB0Rm94',\n",
       " '2z4sCERkuDhZ1heXEErFKq',\n",
       " '2dVHwR9NRScJP0Ss4G7t0B',\n",
       " '3VKkzhc2BBXqtDDKgA1L8E',\n",
       " '6JwEzg4dQvtHCqRZlOIgsZ',\n",
       " '1cAFBWUGxXphtu1uhf0WDT',\n",
       " '7kVFp5nMo1YkcjxU2Vw2aU',\n",
       " '7jkRZ5VDXwsJGw4AFcIiSq',\n",
       " '1lzyGq6cCB13RuBcf8oJVH',\n",
       " '3OB8R31OANTKUVPQOcgdkc',\n",
       " '7lG23ivpXWoHsTkMxN4ULo',\n",
       " '6F8lx4JLdKD4rvUxywo0eO',\n",
       " '45SpjOwyC6NQv0dCGnTQ6p',\n",
       " '03z0ld7Fs4mI1PfWTqRc06',\n",
       " '7yNFFzl1njPs3ToiRrWU9w',\n",
       " '18sKpIGOaFlR5256AqCh2E',\n",
       " '128XwCk8V9NkrYS9kpaIOl',\n",
       " '3AfX07kXd9Kw2cfRhcMbuR',\n",
       " '5jpKrLqZrBe4Mm375dcaye',\n",
       " '2Ft6Kv7kxPTTO74PQu4rIn',\n",
       " '2HibxdzVLGDPR5GIrm4cza',\n",
       " '2htHbhNj5IBJDk651FeuWV',\n",
       " '4qjJwcyJI5k3kUnGkyNyTx',\n",
       " '3OYcipXDDwzqMoNgfMf4az',\n",
       " '0pMKDfaAuedXTWShF7Uk7F',\n",
       " '5BIwaSlscQM2LmYTV8VtZ9',\n",
       " '0SCBGl0HGDRkgg8YQmtCF4',\n",
       " '56bVlmhPJ7OfRjMIfA2TBQ',\n",
       " '4Nwu7l1nvV5a5ydeKJQkUo',\n",
       " '4yf2dXdO6U7TVDXZMbm8nY',\n",
       " '5lnN5oU8PRwBjmgAJRLnya',\n",
       " '7iXfcP5kZ4EPqSSmySAUtf',\n",
       " '0Hkzj6Zffp08IfPO32ztb1',\n",
       " '36Yfu6Yj0paZUbDwC33oyn',\n",
       " '0rSYXMt7LzZgQdQuF3X4DK',\n",
       " '7ksXAyS1ZxTrof1TxTF6wZ',\n",
       " '1LkvG5mQgD9xiroaVR5PFl',\n",
       " '05657jnifBqpCQQLDpujE4',\n",
       " '0VdvQpqCAfQWGEbMOBkWEr',\n",
       " '34hqvaKy6jIvN2hNf1sKlq',\n",
       " '2YO2pH8igKZ9bMbJ2kJGB9',\n",
       " '4AdwCO0lBUKuqN6RHmfydz',\n",
       " '3I9Qej7viaxaK9IUOtrhal',\n",
       " '7vgw73gZZ5gAIxK2emsSPU',\n",
       " '1aVMByzod7x5EWG4TiK9Fw',\n",
       " '6n7faMnAT5jZUqv9b1ZTMJ',\n",
       " '3kmvXhorXrYxDH7cRkx3ZK',\n",
       " '4bMTSiI4AC7Mp0TCOMis7A',\n",
       " '5zOMhOIxrxt9ImR2I9q06R',\n",
       " '3T1Rft817cZ3pguTvaWaz3',\n",
       " '4DIc6FvplSlgKjH67THmX7',\n",
       " '4iCWu56IaaF1zfz7HLX4hN',\n",
       " '7dAAKYBOlPiG4pZxtrF3hx',\n",
       " '6JJz3RoxI7VUDx2IHgOGNr',\n",
       " '1FICcWbkaEb3ofxlFws1oO',\n",
       " '3GY9leJtXKj3ztZiFNB4li',\n",
       " '0h1fhuuIYAYjxlvNxyG1Vp',\n",
       " '0BhYpMRb8Y8Qu76nu7gFmh',\n",
       " '6dVwWlgvlxfKRVLkZqfFGd',\n",
       " '5eUTjCgIZ8jNCpQRHbxltu',\n",
       " '6pckSTzsS5DMpLFE0G4xRh',\n",
       " '70jdWG9sLb0vAWuAXuiDbX',\n",
       " '7m1mFRaRjFbQswDVSLTIka',\n",
       " '24R9qi4ZTmvnCGJnjg3eqn',\n",
       " '0X1DCauLa5DFA8iQPgt895',\n",
       " '2LfEVQ7ETewcpbNa2IVsH7',\n",
       " '0qcFr7sptcLbUw1cbssor4',\n",
       " '1uE60pEQpaIgUT3T7Voloi',\n",
       " '4sghNjSZeUx5DFTADuPhPj',\n",
       " '5Wh14KMrdMwRzU4lU8Zc9z',\n",
       " '3VHoSzjyYpM4sVrfQqdHd5',\n",
       " '0b4lkZqMBUrVjMQTlLTSMK',\n",
       " '3QdHMGxBUKu2uGZFDLEdwn',\n",
       " '6CQHwTCpNh8suN7AWQzCcB',\n",
       " '21XPGPsghJTjnFvzVX8wUe',\n",
       " '15kbR2WyCZAGIn0bldZctI',\n",
       " '06PUJCdk1px2oPNZC3mZDH',\n",
       " '3rO0S2HRXs5QvpLbTSeIcL',\n",
       " '1zZ74gVRdo7Irvd0UEt7uf',\n",
       " '3vtZXD4r0laZm8MgRUUTC2',\n",
       " '07zF8MjQPsiYUXiAIGZ5TA',\n",
       " '4cOnCdcml9OJO7LfXqWxPf',\n",
       " '5pY0dKBL7RzLorJfjzl6mo',\n",
       " '0MWd2kxEaYwZ2REf6yD5fQ',\n",
       " '3yP7LJ0wT19xpeIJxJ7GJF',\n",
       " '2W8qlNiQFfQJTE6Tj2EIdU',\n",
       " '3eYt9gyFTUOcqKoAW2gQWQ',\n",
       " '5Wbh8gxGHPtQIQK2AplA8i',\n",
       " '36OgYCDxrIDYw76eEAeMQM',\n",
       " '0yw568vk1Hhi2A0HoV6SqX',\n",
       " '0xZkDM0jIfrFATSeaGt9Ms',\n",
       " '3F82ezKwcNctesxcgvlL5x',\n",
       " '5Ts3jfNCNXUoNeDOEfhqv4',\n",
       " '27Rk57RtVvXDePop2Toln0',\n",
       " '7ugNYbNvdp5fz9dWLxd0GT',\n",
       " '6nAOWmyYPXdqQtAJ8AdpwX',\n",
       " '0VgyqskAG7vnQto157aNWc',\n",
       " '2louS5loLhAS2ysS3ciAcA',\n",
       " '4fj8PNbbwGXBWHKodGQhfD',\n",
       " '7LyM6X4Il9BReHH6MMEjyz',\n",
       " '0NhC7QKdjDqwq6qi70ZcNT',\n",
       " '6PtT6ZnKDSmeaczTMZV7dl',\n",
       " '4JW72vPkXNyO4XW2pupOlY',\n",
       " '3yO7yAkgfetYQ2hpYb2AJX',\n",
       " '70yDbCeImYqhxCDRU0qXpd',\n",
       " '3HHF173MIu4NBRr3pbgXsB',\n",
       " '43sN5RaFc8vfqheu5Je3gy',\n",
       " '7p9LTCdkoZNL24GHLExbSA',\n",
       " '1yO5GSVqUyrslkhBcX6saj']"
      ]
     },
     "execution_count": 219,
     "metadata": {},
     "output_type": "execute_result"
    }
   ],
   "source": [
    "result[2][21:]"
   ]
  },
  {
   "cell_type": "code",
   "execution_count": 220,
   "id": "26bacd34",
   "metadata": {},
   "outputs": [
    {
     "name": "stdout",
     "output_type": "stream",
     "text": [
      "63NyygAMIKSxy6LRG0eT5i\n"
     ]
    },
    {
     "name": "stderr",
     "output_type": "stream",
     "text": [
      "/var/folders/1n/phyrz16s0rd1_mpv046jgqf80000gn/T/ipykernel_17629/3181457209.py:28: FutureWarning: The frame.append method is deprecated and will be removed from pandas in a future version. Use pandas.concat instead.\n",
      "  big_df =big_df.append(df)\n"
     ]
    },
    {
     "name": "stdout",
     "output_type": "stream",
     "text": [
      "39DfjCVzK3pnszkIPeXN17\n"
     ]
    },
    {
     "name": "stderr",
     "output_type": "stream",
     "text": [
      "/var/folders/1n/phyrz16s0rd1_mpv046jgqf80000gn/T/ipykernel_17629/3181457209.py:28: FutureWarning: The frame.append method is deprecated and will be removed from pandas in a future version. Use pandas.concat instead.\n",
      "  big_df =big_df.append(df)\n"
     ]
    },
    {
     "name": "stdout",
     "output_type": "stream",
     "text": [
      "1QdpuPWvKE55QcNJZWAjSU\n"
     ]
    },
    {
     "name": "stderr",
     "output_type": "stream",
     "text": [
      "/var/folders/1n/phyrz16s0rd1_mpv046jgqf80000gn/T/ipykernel_17629/3181457209.py:28: FutureWarning: The frame.append method is deprecated and will be removed from pandas in a future version. Use pandas.concat instead.\n",
      "  big_df =big_df.append(df)\n"
     ]
    },
    {
     "name": "stdout",
     "output_type": "stream",
     "text": [
      "2xCIMhNgOWQm1iWpOdg0w3\n"
     ]
    },
    {
     "name": "stderr",
     "output_type": "stream",
     "text": [
      "/var/folders/1n/phyrz16s0rd1_mpv046jgqf80000gn/T/ipykernel_17629/3181457209.py:28: FutureWarning: The frame.append method is deprecated and will be removed from pandas in a future version. Use pandas.concat instead.\n",
      "  big_df =big_df.append(df)\n"
     ]
    },
    {
     "name": "stdout",
     "output_type": "stream",
     "text": [
      "196T2qP29EjWxI1x6oSiXa\n"
     ]
    },
    {
     "ename": "KeyboardInterrupt",
     "evalue": "",
     "output_type": "error",
     "traceback": [
      "\u001b[0;31m---------------------------------------------------------------------------\u001b[0m",
      "\u001b[0;31mgaierror\u001b[0m                                  Traceback (most recent call last)",
      "File \u001b[0;32m~/opt/anaconda3/lib/python3.9/urllib/request.py:2592\u001b[0m, in \u001b[0;36m_proxy_bypass_macosx_sysconf\u001b[0;34m(host, proxy_settings)\u001b[0m\n\u001b[1;32m   2591\u001b[0m \u001b[38;5;28;01mtry\u001b[39;00m:\n\u001b[0;32m-> 2592\u001b[0m     hostIP \u001b[38;5;241m=\u001b[39m \u001b[43msocket\u001b[49m\u001b[38;5;241;43m.\u001b[39;49m\u001b[43mgethostbyname\u001b[49m\u001b[43m(\u001b[49m\u001b[43mhostonly\u001b[49m\u001b[43m)\u001b[49m\n\u001b[1;32m   2593\u001b[0m     hostIP \u001b[38;5;241m=\u001b[39m ip2num(hostIP)\n",
      "\u001b[0;31mgaierror\u001b[0m: [Errno 8] nodename nor servname provided, or not known",
      "\nDuring handling of the above exception, another exception occurred:\n",
      "\u001b[0;31mKeyboardInterrupt\u001b[0m                         Traceback (most recent call last)",
      "Input \u001b[0;32mIn [220]\u001b[0m, in \u001b[0;36m<cell line: 1>\u001b[0;34m()\u001b[0m\n\u001b[1;32m      1\u001b[0m \u001b[38;5;28;01mfor\u001b[39;00m i  \u001b[38;5;129;01min\u001b[39;00m  result[\u001b[38;5;241m2\u001b[39m][\u001b[38;5;241m21\u001b[39m:]:\n\u001b[1;32m      2\u001b[0m     \u001b[38;5;28mprint\u001b[39m(i)\n\u001b[0;32m----> 3\u001b[0m     \u001b[43mget_features_df\u001b[49m\u001b[43m(\u001b[49m\u001b[43mi\u001b[49m\u001b[43m)\u001b[49m\n",
      "Input \u001b[0;32mIn [4]\u001b[0m, in \u001b[0;36mget_features_df\u001b[0;34m(playlist_id)\u001b[0m\n\u001b[1;32m     15\u001b[0m \u001b[38;5;66;03m#getting features per song in  playlist \u001b[39;00m\n\u001b[1;32m     16\u001b[0m     \u001b[38;5;28;01mfor\u001b[39;00m value \u001b[38;5;129;01min\u001b[39;00m \u001b[38;5;28mrange\u001b[39m(\u001b[38;5;241m0\u001b[39m,\u001b[38;5;28mlen\u001b[39m(tracks)):\n\u001b[0;32m---> 18\u001b[0m         list_of_audio_features\u001b[38;5;241m.\u001b[39mappend(\u001b[43msp\u001b[49m\u001b[38;5;241;43m.\u001b[39;49m\u001b[43maudio_features\u001b[49m\u001b[43m(\u001b[49m\u001b[43mtracks\u001b[49m\u001b[43m[\u001b[49m\u001b[43mvalue\u001b[49m\u001b[43m]\u001b[49m\u001b[43m[\u001b[49m\u001b[38;5;124;43m\"\u001b[39;49m\u001b[38;5;124;43mtrack\u001b[39;49m\u001b[38;5;124;43m\"\u001b[39;49m\u001b[43m]\u001b[49m\u001b[43m[\u001b[49m\u001b[38;5;124;43m\"\u001b[39;49m\u001b[38;5;124;43mid\u001b[39;49m\u001b[38;5;124;43m\"\u001b[39;49m\u001b[43m]\u001b[49m\u001b[43m)\u001b[49m[\u001b[38;5;241m0\u001b[39m])\n\u001b[1;32m     21\u001b[0m \u001b[38;5;66;03m#creating df with audio features and adding song name and artist     \u001b[39;00m\n\u001b[1;32m     22\u001b[0m     df\u001b[38;5;241m=\u001b[39mpd\u001b[38;5;241m.\u001b[39mDataFrame(list_of_audio_features)    \n",
      "File \u001b[0;32m~/opt/anaconda3/lib/python3.9/site-packages/spotipy/client.py:1680\u001b[0m, in \u001b[0;36mSpotify.audio_features\u001b[0;34m(self, tracks)\u001b[0m\n\u001b[1;32m   1678\u001b[0m \u001b[38;5;28;01mif\u001b[39;00m \u001b[38;5;28misinstance\u001b[39m(tracks, \u001b[38;5;28mstr\u001b[39m):\n\u001b[1;32m   1679\u001b[0m     trackid \u001b[38;5;241m=\u001b[39m \u001b[38;5;28mself\u001b[39m\u001b[38;5;241m.\u001b[39m_get_id(\u001b[38;5;124m\"\u001b[39m\u001b[38;5;124mtrack\u001b[39m\u001b[38;5;124m\"\u001b[39m, tracks)\n\u001b[0;32m-> 1680\u001b[0m     results \u001b[38;5;241m=\u001b[39m \u001b[38;5;28;43mself\u001b[39;49m\u001b[38;5;241;43m.\u001b[39;49m\u001b[43m_get\u001b[49m\u001b[43m(\u001b[49m\u001b[38;5;124;43m\"\u001b[39;49m\u001b[38;5;124;43maudio-features/?ids=\u001b[39;49m\u001b[38;5;124;43m\"\u001b[39;49m\u001b[43m \u001b[49m\u001b[38;5;241;43m+\u001b[39;49m\u001b[43m \u001b[49m\u001b[43mtrackid\u001b[49m\u001b[43m)\u001b[49m\n\u001b[1;32m   1681\u001b[0m \u001b[38;5;28;01melse\u001b[39;00m:\n\u001b[1;32m   1682\u001b[0m     tlist \u001b[38;5;241m=\u001b[39m [\u001b[38;5;28mself\u001b[39m\u001b[38;5;241m.\u001b[39m_get_id(\u001b[38;5;124m\"\u001b[39m\u001b[38;5;124mtrack\u001b[39m\u001b[38;5;124m\"\u001b[39m, t) \u001b[38;5;28;01mfor\u001b[39;00m t \u001b[38;5;129;01min\u001b[39;00m tracks]\n",
      "File \u001b[0;32m~/opt/anaconda3/lib/python3.9/site-packages/spotipy/client.py:297\u001b[0m, in \u001b[0;36mSpotify._get\u001b[0;34m(self, url, args, payload, **kwargs)\u001b[0m\n\u001b[1;32m    294\u001b[0m \u001b[38;5;28;01mif\u001b[39;00m args:\n\u001b[1;32m    295\u001b[0m     kwargs\u001b[38;5;241m.\u001b[39mupdate(args)\n\u001b[0;32m--> 297\u001b[0m \u001b[38;5;28;01mreturn\u001b[39;00m \u001b[38;5;28;43mself\u001b[39;49m\u001b[38;5;241;43m.\u001b[39;49m\u001b[43m_internal_call\u001b[49m\u001b[43m(\u001b[49m\u001b[38;5;124;43m\"\u001b[39;49m\u001b[38;5;124;43mGET\u001b[39;49m\u001b[38;5;124;43m\"\u001b[39;49m\u001b[43m,\u001b[49m\u001b[43m \u001b[49m\u001b[43murl\u001b[49m\u001b[43m,\u001b[49m\u001b[43m \u001b[49m\u001b[43mpayload\u001b[49m\u001b[43m,\u001b[49m\u001b[43m \u001b[49m\u001b[43mkwargs\u001b[49m\u001b[43m)\u001b[49m\n",
      "File \u001b[0;32m~/opt/anaconda3/lib/python3.9/site-packages/spotipy/client.py:240\u001b[0m, in \u001b[0;36mSpotify._internal_call\u001b[0;34m(self, method, url, payload, params)\u001b[0m\n\u001b[1;32m    236\u001b[0m logger\u001b[38;5;241m.\u001b[39mdebug(\u001b[38;5;124m'\u001b[39m\u001b[38;5;124mSending \u001b[39m\u001b[38;5;132;01m%s\u001b[39;00m\u001b[38;5;124m to \u001b[39m\u001b[38;5;132;01m%s\u001b[39;00m\u001b[38;5;124m with Params: \u001b[39m\u001b[38;5;132;01m%s\u001b[39;00m\u001b[38;5;124m Headers: \u001b[39m\u001b[38;5;132;01m%s\u001b[39;00m\u001b[38;5;124m and Body: \u001b[39m\u001b[38;5;132;01m%r\u001b[39;00m\u001b[38;5;124m \u001b[39m\u001b[38;5;124m'\u001b[39m,\n\u001b[1;32m    237\u001b[0m              method, url, args\u001b[38;5;241m.\u001b[39mget(\u001b[38;5;124m\"\u001b[39m\u001b[38;5;124mparams\u001b[39m\u001b[38;5;124m\"\u001b[39m), headers, args\u001b[38;5;241m.\u001b[39mget(\u001b[38;5;124m'\u001b[39m\u001b[38;5;124mdata\u001b[39m\u001b[38;5;124m'\u001b[39m))\n\u001b[1;32m    239\u001b[0m \u001b[38;5;28;01mtry\u001b[39;00m:\n\u001b[0;32m--> 240\u001b[0m     response \u001b[38;5;241m=\u001b[39m \u001b[38;5;28;43mself\u001b[39;49m\u001b[38;5;241;43m.\u001b[39;49m\u001b[43m_session\u001b[49m\u001b[38;5;241;43m.\u001b[39;49m\u001b[43mrequest\u001b[49m\u001b[43m(\u001b[49m\n\u001b[1;32m    241\u001b[0m \u001b[43m        \u001b[49m\u001b[43mmethod\u001b[49m\u001b[43m,\u001b[49m\u001b[43m \u001b[49m\u001b[43murl\u001b[49m\u001b[43m,\u001b[49m\u001b[43m \u001b[49m\u001b[43mheaders\u001b[49m\u001b[38;5;241;43m=\u001b[39;49m\u001b[43mheaders\u001b[49m\u001b[43m,\u001b[49m\u001b[43m \u001b[49m\u001b[43mproxies\u001b[49m\u001b[38;5;241;43m=\u001b[39;49m\u001b[38;5;28;43mself\u001b[39;49m\u001b[38;5;241;43m.\u001b[39;49m\u001b[43mproxies\u001b[49m\u001b[43m,\u001b[49m\n\u001b[1;32m    242\u001b[0m \u001b[43m        \u001b[49m\u001b[43mtimeout\u001b[49m\u001b[38;5;241;43m=\u001b[39;49m\u001b[38;5;28;43mself\u001b[39;49m\u001b[38;5;241;43m.\u001b[39;49m\u001b[43mrequests_timeout\u001b[49m\u001b[43m,\u001b[49m\u001b[43m \u001b[49m\u001b[38;5;241;43m*\u001b[39;49m\u001b[38;5;241;43m*\u001b[39;49m\u001b[43margs\u001b[49m\n\u001b[1;32m    243\u001b[0m \u001b[43m    \u001b[49m\u001b[43m)\u001b[49m\n\u001b[1;32m    245\u001b[0m     response\u001b[38;5;241m.\u001b[39mraise_for_status()\n\u001b[1;32m    246\u001b[0m     results \u001b[38;5;241m=\u001b[39m response\u001b[38;5;241m.\u001b[39mjson()\n",
      "File \u001b[0;32m~/opt/anaconda3/lib/python3.9/site-packages/requests/sessions.py:519\u001b[0m, in \u001b[0;36mSession.request\u001b[0;34m(self, method, url, params, data, headers, cookies, files, auth, timeout, allow_redirects, proxies, hooks, stream, verify, cert, json)\u001b[0m\n\u001b[1;32m    515\u001b[0m prep \u001b[38;5;241m=\u001b[39m \u001b[38;5;28mself\u001b[39m\u001b[38;5;241m.\u001b[39mprepare_request(req)\n\u001b[1;32m    517\u001b[0m proxies \u001b[38;5;241m=\u001b[39m proxies \u001b[38;5;129;01mor\u001b[39;00m {}\n\u001b[0;32m--> 519\u001b[0m settings \u001b[38;5;241m=\u001b[39m \u001b[38;5;28;43mself\u001b[39;49m\u001b[38;5;241;43m.\u001b[39;49m\u001b[43mmerge_environment_settings\u001b[49m\u001b[43m(\u001b[49m\n\u001b[1;32m    520\u001b[0m \u001b[43m    \u001b[49m\u001b[43mprep\u001b[49m\u001b[38;5;241;43m.\u001b[39;49m\u001b[43murl\u001b[49m\u001b[43m,\u001b[49m\u001b[43m \u001b[49m\u001b[43mproxies\u001b[49m\u001b[43m,\u001b[49m\u001b[43m \u001b[49m\u001b[43mstream\u001b[49m\u001b[43m,\u001b[49m\u001b[43m \u001b[49m\u001b[43mverify\u001b[49m\u001b[43m,\u001b[49m\u001b[43m \u001b[49m\u001b[43mcert\u001b[49m\n\u001b[1;32m    521\u001b[0m \u001b[43m\u001b[49m\u001b[43m)\u001b[49m\n\u001b[1;32m    523\u001b[0m \u001b[38;5;66;03m# Send the request.\u001b[39;00m\n\u001b[1;32m    524\u001b[0m send_kwargs \u001b[38;5;241m=\u001b[39m {\n\u001b[1;32m    525\u001b[0m     \u001b[38;5;124m'\u001b[39m\u001b[38;5;124mtimeout\u001b[39m\u001b[38;5;124m'\u001b[39m: timeout,\n\u001b[1;32m    526\u001b[0m     \u001b[38;5;124m'\u001b[39m\u001b[38;5;124mallow_redirects\u001b[39m\u001b[38;5;124m'\u001b[39m: allow_redirects,\n\u001b[1;32m    527\u001b[0m }\n",
      "File \u001b[0;32m~/opt/anaconda3/lib/python3.9/site-packages/requests/sessions.py:701\u001b[0m, in \u001b[0;36mSession.merge_environment_settings\u001b[0;34m(self, url, proxies, stream, verify, cert)\u001b[0m\n\u001b[1;32m    698\u001b[0m \u001b[38;5;28;01mif\u001b[39;00m \u001b[38;5;28mself\u001b[39m\u001b[38;5;241m.\u001b[39mtrust_env:\n\u001b[1;32m    699\u001b[0m     \u001b[38;5;66;03m# Set environment's proxies.\u001b[39;00m\n\u001b[1;32m    700\u001b[0m     no_proxy \u001b[38;5;241m=\u001b[39m proxies\u001b[38;5;241m.\u001b[39mget(\u001b[38;5;124m'\u001b[39m\u001b[38;5;124mno_proxy\u001b[39m\u001b[38;5;124m'\u001b[39m) \u001b[38;5;28;01mif\u001b[39;00m proxies \u001b[38;5;129;01mis\u001b[39;00m \u001b[38;5;129;01mnot\u001b[39;00m \u001b[38;5;28;01mNone\u001b[39;00m \u001b[38;5;28;01melse\u001b[39;00m \u001b[38;5;28;01mNone\u001b[39;00m\n\u001b[0;32m--> 701\u001b[0m     env_proxies \u001b[38;5;241m=\u001b[39m \u001b[43mget_environ_proxies\u001b[49m\u001b[43m(\u001b[49m\u001b[43murl\u001b[49m\u001b[43m,\u001b[49m\u001b[43m \u001b[49m\u001b[43mno_proxy\u001b[49m\u001b[38;5;241;43m=\u001b[39;49m\u001b[43mno_proxy\u001b[49m\u001b[43m)\u001b[49m\n\u001b[1;32m    702\u001b[0m     \u001b[38;5;28;01mfor\u001b[39;00m (k, v) \u001b[38;5;129;01min\u001b[39;00m env_proxies\u001b[38;5;241m.\u001b[39mitems():\n\u001b[1;32m    703\u001b[0m         proxies\u001b[38;5;241m.\u001b[39msetdefault(k, v)\n",
      "File \u001b[0;32m~/opt/anaconda3/lib/python3.9/site-packages/requests/utils.py:805\u001b[0m, in \u001b[0;36mget_environ_proxies\u001b[0;34m(url, no_proxy)\u001b[0m\n\u001b[1;32m    799\u001b[0m \u001b[38;5;28;01mdef\u001b[39;00m \u001b[38;5;21mget_environ_proxies\u001b[39m(url, no_proxy\u001b[38;5;241m=\u001b[39m\u001b[38;5;28;01mNone\u001b[39;00m):\n\u001b[1;32m    800\u001b[0m     \u001b[38;5;124;03m\"\"\"\u001b[39;00m\n\u001b[1;32m    801\u001b[0m \u001b[38;5;124;03m    Return a dict of environment proxies.\u001b[39;00m\n\u001b[1;32m    802\u001b[0m \n\u001b[1;32m    803\u001b[0m \u001b[38;5;124;03m    :rtype: dict\u001b[39;00m\n\u001b[1;32m    804\u001b[0m \u001b[38;5;124;03m    \"\"\"\u001b[39;00m\n\u001b[0;32m--> 805\u001b[0m     \u001b[38;5;28;01mif\u001b[39;00m \u001b[43mshould_bypass_proxies\u001b[49m\u001b[43m(\u001b[49m\u001b[43murl\u001b[49m\u001b[43m,\u001b[49m\u001b[43m \u001b[49m\u001b[43mno_proxy\u001b[49m\u001b[38;5;241;43m=\u001b[39;49m\u001b[43mno_proxy\u001b[49m\u001b[43m)\u001b[49m:\n\u001b[1;32m    806\u001b[0m         \u001b[38;5;28;01mreturn\u001b[39;00m {}\n\u001b[1;32m    807\u001b[0m     \u001b[38;5;28;01melse\u001b[39;00m:\n",
      "File \u001b[0;32m~/opt/anaconda3/lib/python3.9/site-packages/requests/utils.py:789\u001b[0m, in \u001b[0;36mshould_bypass_proxies\u001b[0;34m(url, no_proxy)\u001b[0m\n\u001b[1;32m    786\u001b[0m \u001b[38;5;28;01mwith\u001b[39;00m set_environ(\u001b[38;5;124m'\u001b[39m\u001b[38;5;124mno_proxy\u001b[39m\u001b[38;5;124m'\u001b[39m, no_proxy_arg):\n\u001b[1;32m    787\u001b[0m     \u001b[38;5;66;03m# parsed.hostname can be `None` in cases such as a file URI.\u001b[39;00m\n\u001b[1;32m    788\u001b[0m     \u001b[38;5;28;01mtry\u001b[39;00m:\n\u001b[0;32m--> 789\u001b[0m         bypass \u001b[38;5;241m=\u001b[39m \u001b[43mproxy_bypass\u001b[49m\u001b[43m(\u001b[49m\u001b[43mparsed\u001b[49m\u001b[38;5;241;43m.\u001b[39;49m\u001b[43mhostname\u001b[49m\u001b[43m)\u001b[49m\n\u001b[1;32m    790\u001b[0m     \u001b[38;5;28;01mexcept\u001b[39;00m (\u001b[38;5;167;01mTypeError\u001b[39;00m, socket\u001b[38;5;241m.\u001b[39mgaierror):\n\u001b[1;32m    791\u001b[0m         bypass \u001b[38;5;241m=\u001b[39m \u001b[38;5;28;01mFalse\u001b[39;00m\n",
      "File \u001b[0;32m~/opt/anaconda3/lib/python3.9/urllib/request.py:2647\u001b[0m, in \u001b[0;36mproxy_bypass\u001b[0;34m(host)\u001b[0m\n\u001b[1;32m   2645\u001b[0m     \u001b[38;5;28;01mreturn\u001b[39;00m proxy_bypass_environment(host, proxies)\n\u001b[1;32m   2646\u001b[0m \u001b[38;5;28;01melse\u001b[39;00m:\n\u001b[0;32m-> 2647\u001b[0m     \u001b[38;5;28;01mreturn\u001b[39;00m \u001b[43mproxy_bypass_macosx_sysconf\u001b[49m\u001b[43m(\u001b[49m\u001b[43mhost\u001b[49m\u001b[43m)\u001b[49m\n",
      "File \u001b[0;32m~/opt/anaconda3/lib/python3.9/urllib/request.py:2624\u001b[0m, in \u001b[0;36mproxy_bypass_macosx_sysconf\u001b[0;34m(host)\u001b[0m\n\u001b[1;32m   2622\u001b[0m \u001b[38;5;28;01mdef\u001b[39;00m \u001b[38;5;21mproxy_bypass_macosx_sysconf\u001b[39m(host):\n\u001b[1;32m   2623\u001b[0m     proxy_settings \u001b[38;5;241m=\u001b[39m _get_proxy_settings()\n\u001b[0;32m-> 2624\u001b[0m     \u001b[38;5;28;01mreturn\u001b[39;00m \u001b[43m_proxy_bypass_macosx_sysconf\u001b[49m\u001b[43m(\u001b[49m\u001b[43mhost\u001b[49m\u001b[43m,\u001b[49m\u001b[43m \u001b[49m\u001b[43mproxy_settings\u001b[49m\u001b[43m)\u001b[49m\n",
      "File \u001b[0;32m~/opt/anaconda3/lib/python3.9/urllib/request.py:2592\u001b[0m, in \u001b[0;36m_proxy_bypass_macosx_sysconf\u001b[0;34m(host, proxy_settings)\u001b[0m\n\u001b[1;32m   2590\u001b[0m \u001b[38;5;28;01mif\u001b[39;00m hostIP \u001b[38;5;129;01mis\u001b[39;00m \u001b[38;5;28;01mNone\u001b[39;00m:\n\u001b[1;32m   2591\u001b[0m     \u001b[38;5;28;01mtry\u001b[39;00m:\n\u001b[0;32m-> 2592\u001b[0m         hostIP \u001b[38;5;241m=\u001b[39m \u001b[43msocket\u001b[49m\u001b[38;5;241;43m.\u001b[39;49m\u001b[43mgethostbyname\u001b[49m\u001b[43m(\u001b[49m\u001b[43mhostonly\u001b[49m\u001b[43m)\u001b[49m\n\u001b[1;32m   2593\u001b[0m         hostIP \u001b[38;5;241m=\u001b[39m ip2num(hostIP)\n\u001b[1;32m   2594\u001b[0m     \u001b[38;5;28;01mexcept\u001b[39;00m \u001b[38;5;167;01mOSError\u001b[39;00m:\n",
      "\u001b[0;31mKeyboardInterrupt\u001b[0m: "
     ]
    }
   ],
   "source": [
    "for i  in  result[2][21:]:\n",
    "    print(i)\n",
    "    get_features_df(i)"
   ]
  },
  {
   "cell_type": "code",
   "execution_count": 225,
   "id": "cd1e2feb",
   "metadata": {},
   "outputs": [
    {
     "data": {
      "text/html": [
       "<div>\n",
       "<style scoped>\n",
       "    .dataframe tbody tr th:only-of-type {\n",
       "        vertical-align: middle;\n",
       "    }\n",
       "\n",
       "    .dataframe tbody tr th {\n",
       "        vertical-align: top;\n",
       "    }\n",
       "\n",
       "    .dataframe thead th {\n",
       "        text-align: right;\n",
       "    }\n",
       "</style>\n",
       "<table border=\"1\" class=\"dataframe\">\n",
       "  <thead>\n",
       "    <tr style=\"text-align: right;\">\n",
       "      <th></th>\n",
       "      <th>danceability</th>\n",
       "      <th>energy</th>\n",
       "      <th>loudness</th>\n",
       "      <th>speechiness</th>\n",
       "      <th>acousticness</th>\n",
       "      <th>instrumentalness</th>\n",
       "      <th>liveness</th>\n",
       "      <th>valence</th>\n",
       "      <th>tempo</th>\n",
       "      <th>id</th>\n",
       "      <th>duration_ms</th>\n",
       "    </tr>\n",
       "  </thead>\n",
       "  <tbody>\n",
       "    <tr>\n",
       "      <th>0</th>\n",
       "      <td>0.752</td>\n",
       "      <td>0.698</td>\n",
       "      <td>-6.53</td>\n",
       "      <td>0.306</td>\n",
       "      <td>0.52</td>\n",
       "      <td>0.0</td>\n",
       "      <td>0.211</td>\n",
       "      <td>0.347</td>\n",
       "      <td>132.058</td>\n",
       "      <td>0g21KZ1XJuhwexWPLpuEt1</td>\n",
       "      <td>159453</td>\n",
       "    </tr>\n",
       "    <tr>\n",
       "      <th>1</th>\n",
       "      <td>0.832</td>\n",
       "      <td>0.738</td>\n",
       "      <td>-4.417</td>\n",
       "      <td>0.0783</td>\n",
       "      <td>0.258</td>\n",
       "      <td>0.000015</td>\n",
       "      <td>0.22</td>\n",
       "      <td>0.49</td>\n",
       "      <td>127.874</td>\n",
       "      <td>3fMNMAP51H7NywqzoukIRy</td>\n",
       "      <td>133876</td>\n",
       "    </tr>\n",
       "    <tr>\n",
       "      <th>2</th>\n",
       "      <td>0.603</td>\n",
       "      <td>0.512</td>\n",
       "      <td>-6.687</td>\n",
       "      <td>0.0402</td>\n",
       "      <td>0.454</td>\n",
       "      <td>0.00014</td>\n",
       "      <td>0.154</td>\n",
       "      <td>0.271</td>\n",
       "      <td>145.91</td>\n",
       "      <td>4xb8JHIN56xixSl6vkSPjm</td>\n",
       "      <td>200267</td>\n",
       "    </tr>\n",
       "    <tr>\n",
       "      <th>3</th>\n",
       "      <td>0.321</td>\n",
       "      <td>0.705</td>\n",
       "      <td>-5.41</td>\n",
       "      <td>0.0943</td>\n",
       "      <td>0.17</td>\n",
       "      <td>0.0</td>\n",
       "      <td>0.0514</td>\n",
       "      <td>0.302</td>\n",
       "      <td>62.013</td>\n",
       "      <td>0O8feNuKk5rTTip2bTyOoC</td>\n",
       "      <td>184923</td>\n",
       "    </tr>\n",
       "    <tr>\n",
       "      <th>4</th>\n",
       "      <td>0.477</td>\n",
       "      <td>0.128</td>\n",
       "      <td>-14.567</td>\n",
       "      <td>0.0707</td>\n",
       "      <td>0.928</td>\n",
       "      <td>0.0</td>\n",
       "      <td>0.0875</td>\n",
       "      <td>0.38</td>\n",
       "      <td>88.917</td>\n",
       "      <td>51xRMJFRBrW9C1RI1qW4S0</td>\n",
       "      <td>238576</td>\n",
       "    </tr>\n",
       "    <tr>\n",
       "      <th>...</th>\n",
       "      <td>...</td>\n",
       "      <td>...</td>\n",
       "      <td>...</td>\n",
       "      <td>...</td>\n",
       "      <td>...</td>\n",
       "      <td>...</td>\n",
       "      <td>...</td>\n",
       "      <td>...</td>\n",
       "      <td>...</td>\n",
       "      <td>...</td>\n",
       "      <td>...</td>\n",
       "    </tr>\n",
       "    <tr>\n",
       "      <th>489</th>\n",
       "      <td>0.676</td>\n",
       "      <td>0.545</td>\n",
       "      <td>-8.528</td>\n",
       "      <td>0.0293</td>\n",
       "      <td>0.332</td>\n",
       "      <td>0.000429</td>\n",
       "      <td>0.124</td>\n",
       "      <td>0.589</td>\n",
       "      <td>143.857</td>\n",
       "      <td>0NLRVZREht65Ga5WmlrDPE</td>\n",
       "      <td>197878</td>\n",
       "    </tr>\n",
       "    <tr>\n",
       "      <th>490</th>\n",
       "      <td>0.536</td>\n",
       "      <td>0.476</td>\n",
       "      <td>-8.161</td>\n",
       "      <td>0.0323</td>\n",
       "      <td>0.184</td>\n",
       "      <td>0.000003</td>\n",
       "      <td>0.104</td>\n",
       "      <td>0.496</td>\n",
       "      <td>113.09</td>\n",
       "      <td>5RjZ13Ce3dRUXRBR7lbfTL</td>\n",
       "      <td>195400</td>\n",
       "    </tr>\n",
       "    <tr>\n",
       "      <th>491</th>\n",
       "      <td>0.592</td>\n",
       "      <td>0.708</td>\n",
       "      <td>-5.197</td>\n",
       "      <td>0.0251</td>\n",
       "      <td>0.000221</td>\n",
       "      <td>0.0</td>\n",
       "      <td>0.174</td>\n",
       "      <td>0.219</td>\n",
       "      <td>103.061</td>\n",
       "      <td>1GIcsaFqm5xn5mkl97v0lV</td>\n",
       "      <td>188637</td>\n",
       "    </tr>\n",
       "    <tr>\n",
       "      <th>492</th>\n",
       "      <td>0.718</td>\n",
       "      <td>0.714</td>\n",
       "      <td>-5.701</td>\n",
       "      <td>0.0451</td>\n",
       "      <td>0.419</td>\n",
       "      <td>0.0</td>\n",
       "      <td>0.284</td>\n",
       "      <td>0.928</td>\n",
       "      <td>97.197</td>\n",
       "      <td>1tsxqGAS9dZh3GYlJUmpkk</td>\n",
       "      <td>274040</td>\n",
       "    </tr>\n",
       "    <tr>\n",
       "      <th>493</th>\n",
       "      <td>0.551</td>\n",
       "      <td>0.845</td>\n",
       "      <td>-5.258</td>\n",
       "      <td>0.0702</td>\n",
       "      <td>0.0183</td>\n",
       "      <td>0.0</td>\n",
       "      <td>0.158</td>\n",
       "      <td>0.382</td>\n",
       "      <td>148.109</td>\n",
       "      <td>5z4OlVj60Fqxc9PXWgg1rb</td>\n",
       "      <td>177266</td>\n",
       "    </tr>\n",
       "  </tbody>\n",
       "</table>\n",
       "<p>273115 rows × 11 columns</p>\n",
       "</div>"
      ],
      "text/plain": [
       "    danceability energy loudness speechiness acousticness instrumentalness  \\\n",
       "0          0.752  0.698    -6.53       0.306         0.52              0.0   \n",
       "1          0.832  0.738   -4.417      0.0783        0.258         0.000015   \n",
       "2          0.603  0.512   -6.687      0.0402        0.454          0.00014   \n",
       "3          0.321  0.705    -5.41      0.0943         0.17              0.0   \n",
       "4          0.477  0.128  -14.567      0.0707        0.928              0.0   \n",
       "..           ...    ...      ...         ...          ...              ...   \n",
       "489        0.676  0.545   -8.528      0.0293        0.332         0.000429   \n",
       "490        0.536  0.476   -8.161      0.0323        0.184         0.000003   \n",
       "491        0.592  0.708   -5.197      0.0251     0.000221              0.0   \n",
       "492        0.718  0.714   -5.701      0.0451        0.419              0.0   \n",
       "493        0.551  0.845   -5.258      0.0702       0.0183              0.0   \n",
       "\n",
       "    liveness valence    tempo                      id duration_ms  \n",
       "0      0.211   0.347  132.058  0g21KZ1XJuhwexWPLpuEt1      159453  \n",
       "1       0.22    0.49  127.874  3fMNMAP51H7NywqzoukIRy      133876  \n",
       "2      0.154   0.271   145.91  4xb8JHIN56xixSl6vkSPjm      200267  \n",
       "3     0.0514   0.302   62.013  0O8feNuKk5rTTip2bTyOoC      184923  \n",
       "4     0.0875    0.38   88.917  51xRMJFRBrW9C1RI1qW4S0      238576  \n",
       "..       ...     ...      ...                     ...         ...  \n",
       "489    0.124   0.589  143.857  0NLRVZREht65Ga5WmlrDPE      197878  \n",
       "490    0.104   0.496   113.09  5RjZ13Ce3dRUXRBR7lbfTL      195400  \n",
       "491    0.174   0.219  103.061  1GIcsaFqm5xn5mkl97v0lV      188637  \n",
       "492    0.284   0.928   97.197  1tsxqGAS9dZh3GYlJUmpkk      274040  \n",
       "493    0.158   0.382  148.109  5z4OlVj60Fqxc9PXWgg1rb      177266  \n",
       "\n",
       "[273115 rows x 11 columns]"
      ]
     },
     "execution_count": 225,
     "metadata": {},
     "output_type": "execute_result"
    }
   ],
   "source": [
    "big_df"
   ]
  },
  {
   "cell_type": "code",
   "execution_count": 18,
   "id": "8022af57",
   "metadata": {},
   "outputs": [],
   "source": [
    "big_df.to_csv(\"addd_rows.csv\",index=False)"
   ]
  },
  {
   "cell_type": "code",
   "execution_count": null,
   "id": "90a0c020",
   "metadata": {},
   "outputs": [],
   "source": []
  },
  {
   "cell_type": "code",
   "execution_count": null,
   "id": "18cecfe2",
   "metadata": {},
   "outputs": [],
   "source": []
  }
 ],
 "metadata": {
  "kernelspec": {
   "display_name": "Python 3 (ipykernel)",
   "language": "python",
   "name": "python3"
  },
  "language_info": {
   "codemirror_mode": {
    "name": "ipython",
    "version": 3
   },
   "file_extension": ".py",
   "mimetype": "text/x-python",
   "name": "python",
   "nbconvert_exporter": "python",
   "pygments_lexer": "ipython3",
   "version": "3.9.12"
  },
  "toc": {
   "base_numbering": 1,
   "nav_menu": {},
   "number_sections": true,
   "sideBar": true,
   "skip_h1_title": false,
   "title_cell": "Table of Contents",
   "title_sidebar": "Contents",
   "toc_cell": false,
   "toc_position": {},
   "toc_section_display": true,
   "toc_window_display": false
  }
 },
 "nbformat": 4,
 "nbformat_minor": 5
}
