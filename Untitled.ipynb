{
 "cells": [
  {
   "cell_type": "code",
   "execution_count": 1,
   "id": "29091b68",
   "metadata": {},
   "outputs": [],
   "source": [
    "import spotipy\n",
    "import pandas as pd\n",
    "import json\n",
    "import pprint\n",
    "import config\n",
    "from spotipy.oauth2 import SpotifyClientCredentials\n",
    "sp= spotipy.Spotify(auth_manager=SpotifyClientCredentials(client_id=config.client_id,client_secret=config.client_secret))"
   ]
  },
  {
   "cell_type": "code",
   "execution_count": 24,
   "id": "fc992cc4",
   "metadata": {},
   "outputs": [],
   "source": [
    "big_df=pd.DataFrame()\n",
    "def get_features_df(username, playlist_id):\n",
    "    list_of_audio_features=[]\n",
    "    artist_name=[]\n",
    "    song_name=[]\n",
    "    \n",
    "    results = sp.user_playlist_tracks(username,playlist_id,market=\"DE\")\n",
    "    \n",
    "    tracks = results['items']\n",
    "    \n",
    "    while results['next']:\n",
    "        results = sp.next(results)\n",
    "        tracks.extend(results['items'])\n",
    "        \n",
    "#getting features per song in  playlist \n",
    "    for value in range(0,len(tracks)):\n",
    "        #print (songs[value][\"track\"][\"id\"])\n",
    "        list_of_audio_features.append(sp.audio_features(tracks[value][\"track\"][\"id\"])[0])\n",
    "    \n",
    "# getting  artist name per song in playlist\n",
    "    for a_name in range(0,len(tracks)):\n",
    "        #print (songs[a_name][\"track\"][\"artists\"][a_name][\"name\"])\n",
    "        artist_name.append(tracks[a_name][\"track\"][\"artists\"][0][\"name\"])  \n",
    "\n",
    "#getting  artist name per song in playlist   \n",
    "    for s_name in range(0,len(tracks)):\n",
    "        #print (songs[s_name][\"track\"][\"name\"])\n",
    "        song_name.append(tracks[s_name][\"track\"][\"name\"])\n",
    "\n",
    "# creating df with audio features and adding song name and artist     \n",
    "    df=pd.DataFrame(list_of_audio_features)    \n",
    "    df=df[[\"danceability\",\"energy\",\"loudness\",\"speechiness\",\"acousticness\",\"instrumentalness\",\"liveness\",\"valence\",\"tempo\",\"id\",\"duration_ms\"]]\n",
    "    df.insert(0,\"song\", song_name)\n",
    "    df.insert(1,\"artist\", artist_name)\n",
    "\n",
    "    return  big_df.append(df)"
   ]
  },
  {
   "cell_type": "code",
   "execution_count": 3,
   "id": "128c5c0b",
   "metadata": {},
   "outputs": [],
   "source": [
    "username=[\"familie.oeljeklaus\",\"paulraensch\"]\n",
    "playlist_id=[\"2RHNBm388mdIGQyH3ZGkaY\",\"6CDTDuRKy2Ze2nmmYFAIBK\"]"
   ]
  },
  {
   "cell_type": "code",
   "execution_count": 4,
   "id": "5e3db0da",
   "metadata": {},
   "outputs": [],
   "source": [
    "playlist= {\"username\":[\"familie.oeljeklaus\",\"paulraensch\"]\n",
    "               ,\"playlist_id\":[\"2RHNBm388mdIGQyH3ZGkaY\",\"6CDTDuRKy2Ze2nmmYFAIBK\"]}"
   ]
  },
  {
   "cell_type": "code",
   "execution_count": 27,
   "id": "1c009e75",
   "metadata": {},
   "outputs": [
    {
     "name": "stderr",
     "output_type": "stream",
     "text": [
      "/var/folders/1n/phyrz16s0rd1_mpv046jgqf80000gn/T/ipykernel_7362/1108638265.py:36: FutureWarning: The frame.append method is deprecated and will be removed from pandas in a future version. Use pandas.concat instead.\n",
      "  return  big_df.append(df)\n",
      "/var/folders/1n/phyrz16s0rd1_mpv046jgqf80000gn/T/ipykernel_7362/1108638265.py:36: FutureWarning: The frame.append method is deprecated and will be removed from pandas in a future version. Use pandas.concat instead.\n",
      "  return  big_df.append(df)\n"
     ]
    }
   ],
   "source": [
    "for i, j in list(zip(username, playlist_id)):\n",
    "    get_features_df(i,j)\n"
   ]
  },
  {
   "cell_type": "code",
   "execution_count": 28,
   "id": "ffc81625",
   "metadata": {},
   "outputs": [
    {
     "data": {
      "text/html": [
       "<div>\n",
       "<style scoped>\n",
       "    .dataframe tbody tr th:only-of-type {\n",
       "        vertical-align: middle;\n",
       "    }\n",
       "\n",
       "    .dataframe tbody tr th {\n",
       "        vertical-align: top;\n",
       "    }\n",
       "\n",
       "    .dataframe thead th {\n",
       "        text-align: right;\n",
       "    }\n",
       "</style>\n",
       "<table border=\"1\" class=\"dataframe\">\n",
       "  <thead>\n",
       "    <tr style=\"text-align: right;\">\n",
       "      <th></th>\n",
       "    </tr>\n",
       "  </thead>\n",
       "  <tbody>\n",
       "  </tbody>\n",
       "</table>\n",
       "</div>"
      ],
      "text/plain": [
       "Empty DataFrame\n",
       "Columns: []\n",
       "Index: []"
      ]
     },
     "execution_count": 28,
     "metadata": {},
     "output_type": "execute_result"
    }
   ],
   "source": [
    "big_df"
   ]
  },
  {
   "cell_type": "code",
   "execution_count": null,
   "id": "4f733ea0",
   "metadata": {},
   "outputs": [],
   "source": []
  }
 ],
 "metadata": {
  "kernelspec": {
   "display_name": "Python 3 (ipykernel)",
   "language": "python",
   "name": "python3"
  },
  "language_info": {
   "codemirror_mode": {
    "name": "ipython",
    "version": 3
   },
   "file_extension": ".py",
   "mimetype": "text/x-python",
   "name": "python",
   "nbconvert_exporter": "python",
   "pygments_lexer": "ipython3",
   "version": "3.9.12"
  },
  "toc": {
   "base_numbering": 1,
   "nav_menu": {},
   "number_sections": true,
   "sideBar": true,
   "skip_h1_title": false,
   "title_cell": "Table of Contents",
   "title_sidebar": "Contents",
   "toc_cell": false,
   "toc_position": {},
   "toc_section_display": true,
   "toc_window_display": false
  }
 },
 "nbformat": 4,
 "nbformat_minor": 5
}
